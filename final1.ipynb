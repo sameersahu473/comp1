{
  "cells": [
    {
      "cell_type": "markdown",
      "metadata": {
        "id": "view-in-github",
        "colab_type": "text"
      },
      "source": [
        "<a href=\"https://colab.research.google.com/github/sameersahu473/comp1/blob/main/final1.ipynb\" target=\"_parent\"><img src=\"https://colab.research.google.com/assets/colab-badge.svg\" alt=\"Open In Colab\"/></a>"
      ]
    },
    {
      "cell_type": "code",
      "execution_count": 1,
      "metadata": {
        "colab": {
          "base_uri": "https://localhost:8080/"
        },
        "id": "xO75uvHtju8S",
        "outputId": "4fc1d1b5-6df9-470a-d2fc-f6799e39c718"
      },
      "outputs": [
        {
          "output_type": "stream",
          "name": "stdout",
          "text": [
            "Requirement already satisfied: kaggle in /usr/local/lib/python3.7/dist-packages (1.5.12)\n",
            "Requirement already satisfied: python-slugify in /usr/local/lib/python3.7/dist-packages (from kaggle) (5.0.2)\n",
            "Requirement already satisfied: urllib3 in /usr/local/lib/python3.7/dist-packages (from kaggle) (1.24.3)\n",
            "Requirement already satisfied: certifi in /usr/local/lib/python3.7/dist-packages (from kaggle) (2021.10.8)\n",
            "Requirement already satisfied: tqdm in /usr/local/lib/python3.7/dist-packages (from kaggle) (4.62.3)\n",
            "Requirement already satisfied: python-dateutil in /usr/local/lib/python3.7/dist-packages (from kaggle) (2.8.2)\n",
            "Requirement already satisfied: six>=1.10 in /usr/local/lib/python3.7/dist-packages (from kaggle) (1.15.0)\n",
            "Requirement already satisfied: requests in /usr/local/lib/python3.7/dist-packages (from kaggle) (2.23.0)\n",
            "Requirement already satisfied: text-unidecode>=1.3 in /usr/local/lib/python3.7/dist-packages (from python-slugify->kaggle) (1.3)\n",
            "Requirement already satisfied: idna<3,>=2.5 in /usr/local/lib/python3.7/dist-packages (from requests->kaggle) (2.10)\n",
            "Requirement already satisfied: chardet<4,>=3.0.2 in /usr/local/lib/python3.7/dist-packages (from requests->kaggle) (3.0.4)\n"
          ]
        }
      ],
      "source": [
        "! pip install kaggle"
      ]
    },
    {
      "cell_type": "code",
      "execution_count": 2,
      "metadata": {
        "id": "ovMXyDgdj87i"
      },
      "outputs": [],
      "source": [
        "! mkdir ~/.kaggle"
      ]
    },
    {
      "cell_type": "code",
      "execution_count": 3,
      "metadata": {
        "id": "_XftKznHkDXn"
      },
      "outputs": [],
      "source": [
        "! cp kaggle.json ~/.kaggle/"
      ]
    },
    {
      "cell_type": "code",
      "execution_count": 4,
      "metadata": {
        "id": "lcBhCI3lkGCT"
      },
      "outputs": [],
      "source": [
        "! chmod 600 ~/.kaggle/kaggle.json\n"
      ]
    },
    {
      "cell_type": "code",
      "execution_count": 5,
      "metadata": {
        "colab": {
          "base_uri": "https://localhost:8080/"
        },
        "id": "xCoP7ogWkaxR",
        "outputId": "43b52894-c934-4c22-ae4b-85d0b2ff6153"
      },
      "outputs": [
        {
          "output_type": "stream",
          "name": "stdout",
          "text": [
            "Warning: Looks like you're using an outdated API Version, please consider updating (server 1.5.12 / client 1.5.4)\n",
            "Downloading train.csv.zip to /content\n",
            " 77% 13.0M/16.9M [00:00<00:00, 136MB/s]\n",
            "100% 16.9M/16.9M [00:00<00:00, 107MB/s]\n",
            "Downloading test.csv.zip to /content\n",
            "  0% 0.00/4.31M [00:00<?, ?B/s]\n",
            "100% 4.31M/4.31M [00:00<00:00, 39.6MB/s]\n",
            "Downloading sample_submission.csv.zip to /content\n",
            "  0% 0.00/317k [00:00<?, ?B/s]\n",
            "100% 317k/317k [00:00<00:00, 98.8MB/s]\n"
          ]
        }
      ],
      "source": [
        "!kaggle competitions download -c cascade-cup-22"
      ]
    },
    {
      "cell_type": "code",
      "execution_count": 6,
      "metadata": {
        "colab": {
          "base_uri": "https://localhost:8080/"
        },
        "id": "Y0lEwRA-kwCA",
        "outputId": "11f9ffbe-9cf6-4020-8120-333e3db6ca8c"
      },
      "outputs": [
        {
          "output_type": "stream",
          "name": "stdout",
          "text": [
            "Archive:  train.csv.zip\n",
            "  inflating: train.csv               \n"
          ]
        }
      ],
      "source": [
        "!unzip train.csv.zip"
      ]
    },
    {
      "cell_type": "code",
      "execution_count": 7,
      "metadata": {
        "colab": {
          "base_uri": "https://localhost:8080/"
        },
        "id": "6TjwssOsk_1p",
        "outputId": "6071d4a2-942b-4889-ae90-efdd804bec6a"
      },
      "outputs": [
        {
          "output_type": "stream",
          "name": "stdout",
          "text": [
            "Archive:  test.csv.zip\n",
            "  inflating: test.csv                \n"
          ]
        }
      ],
      "source": [
        "!unzip test.csv.zip"
      ]
    },
    {
      "cell_type": "code",
      "execution_count": 8,
      "metadata": {
        "id": "a2wewhIOlKgF"
      },
      "outputs": [],
      "source": [
        "import numpy as np\n",
        "import pandas as pd \n",
        "import matplotlib.pyplot as plt\n",
        "%matplotlib inline\n",
        "import seaborn as sns"
      ]
    },
    {
      "cell_type": "code",
      "execution_count": 9,
      "metadata": {
        "id": "DpgZjttwfq8z",
        "colab": {
          "base_uri": "https://localhost:8080/"
        },
        "outputId": "2df179de-cd2f-4efa-9472-c5d819b804c0"
      },
      "outputs": [
        {
          "output_type": "stream",
          "name": "stderr",
          "text": [
            "/usr/local/lib/python3.7/dist-packages/sklearn/experimental/enable_hist_gradient_boosting.py:17: UserWarning: Since version 1.0, it is not needed to import enable_hist_gradient_boosting anymore. HistGradientBoostingClassifier and HistGradientBoostingRegressor are now stable and can be normally imported from sklearn.ensemble.\n",
            "  \"Since version 1.0, \"\n"
          ]
        }
      ],
      "source": [
        "from sklearn import model_selection, metrics\n",
        "from sklearn.experimental import enable_hist_gradient_boosting\n",
        "from sklearn.ensemble import HistGradientBoostingClassifier"
      ]
    },
    {
      "cell_type": "code",
      "execution_count": 9,
      "metadata": {
        "id": "wdiFfjUXf02Q"
      },
      "outputs": [],
      "source": [
        ""
      ]
    },
    {
      "cell_type": "code",
      "execution_count": 10,
      "metadata": {
        "id": "GgD8F3D-lGvU"
      },
      "outputs": [],
      "source": [
        "df = pd.read_csv('train.csv')\n",
        "df_test = pd.read_csv('test.csv')"
      ]
    },
    {
      "cell_type": "code",
      "execution_count": 11,
      "metadata": {
        "colab": {
          "base_uri": "https://localhost:8080/",
          "height": 357
        },
        "id": "39U6WftHlUls",
        "outputId": "89d5db07-bb3a-4cf3-95aa-a7844b032710"
      },
      "outputs": [
        {
          "output_type": "execute_result",
          "data": {
            "text/html": [
              "\n",
              "  <div id=\"df-7bb2160b-da54-4295-bdaf-6181d735ea37\">\n",
              "    <div class=\"colab-df-container\">\n",
              "      <div>\n",
              "<style scoped>\n",
              "    .dataframe tbody tr th:only-of-type {\n",
              "        vertical-align: middle;\n",
              "    }\n",
              "\n",
              "    .dataframe tbody tr th {\n",
              "        vertical-align: top;\n",
              "    }\n",
              "\n",
              "    .dataframe thead th {\n",
              "        text-align: right;\n",
              "    }\n",
              "</style>\n",
              "<table border=\"1\" class=\"dataframe\">\n",
              "  <thead>\n",
              "    <tr style=\"text-align: right;\">\n",
              "      <th></th>\n",
              "      <th>order_time</th>\n",
              "      <th>order_id</th>\n",
              "      <th>order_date</th>\n",
              "      <th>allot_time</th>\n",
              "      <th>accept_time</th>\n",
              "      <th>rider_id</th>\n",
              "      <th>first_mile_distance</th>\n",
              "      <th>last_mile_distance</th>\n",
              "      <th>alloted_orders</th>\n",
              "      <th>delivered_orders</th>\n",
              "      <th>undelivered_orders</th>\n",
              "      <th>lifetime_order_count</th>\n",
              "      <th>reassignment_method</th>\n",
              "      <th>reassignment_reason</th>\n",
              "      <th>reassigned_order</th>\n",
              "      <th>session_time</th>\n",
              "    </tr>\n",
              "  </thead>\n",
              "  <tbody>\n",
              "    <tr>\n",
              "      <th>0</th>\n",
              "      <td>2021-02-06 10:03:24</td>\n",
              "      <td>130231</td>\n",
              "      <td>2021-02-06 00:00:00</td>\n",
              "      <td>2021-02-06 10:03:49</td>\n",
              "      <td>2021-02-06 10:04:15</td>\n",
              "      <td>12884</td>\n",
              "      <td>1.6585</td>\n",
              "      <td>4.54</td>\n",
              "      <td>216.0</td>\n",
              "      <td>215.0</td>\n",
              "      <td>1.0</td>\n",
              "      <td>747.0</td>\n",
              "      <td>NaN</td>\n",
              "      <td>NaN</td>\n",
              "      <td>NaN</td>\n",
              "      <td>273.400000</td>\n",
              "    </tr>\n",
              "    <tr>\n",
              "      <th>1</th>\n",
              "      <td>2021-02-06 10:03:26</td>\n",
              "      <td>130232</td>\n",
              "      <td>2021-02-06 00:00:00</td>\n",
              "      <td>2021-02-06 10:03:27</td>\n",
              "      <td>2021-02-06 10:03:36</td>\n",
              "      <td>3541</td>\n",
              "      <td>2.0709</td>\n",
              "      <td>5.84</td>\n",
              "      <td>52.0</td>\n",
              "      <td>52.0</td>\n",
              "      <td>0.0</td>\n",
              "      <td>75.0</td>\n",
              "      <td>NaN</td>\n",
              "      <td>NaN</td>\n",
              "      <td>NaN</td>\n",
              "      <td>252.100000</td>\n",
              "    </tr>\n",
              "    <tr>\n",
              "      <th>2</th>\n",
              "      <td>2021-02-06 10:03:27</td>\n",
              "      <td>130233</td>\n",
              "      <td>2021-02-06 00:00:00</td>\n",
              "      <td>2021-02-06 10:04:14</td>\n",
              "      <td>2021-02-06 10:05:34</td>\n",
              "      <td>603</td>\n",
              "      <td>1.3884</td>\n",
              "      <td>0.99</td>\n",
              "      <td>289.0</td>\n",
              "      <td>289.0</td>\n",
              "      <td>0.0</td>\n",
              "      <td>2214.0</td>\n",
              "      <td>NaN</td>\n",
              "      <td>NaN</td>\n",
              "      <td>NaN</td>\n",
              "      <td>241.383333</td>\n",
              "    </tr>\n",
              "    <tr>\n",
              "      <th>3</th>\n",
              "      <td>2021-02-06 10:03:29</td>\n",
              "      <td>130234</td>\n",
              "      <td>2021-02-06 00:00:00</td>\n",
              "      <td>2021-02-06 10:03:30</td>\n",
              "      <td>2021-02-06 10:03:53</td>\n",
              "      <td>3414</td>\n",
              "      <td>1.9039</td>\n",
              "      <td>2.59</td>\n",
              "      <td>125.0</td>\n",
              "      <td>122.0</td>\n",
              "      <td>3.0</td>\n",
              "      <td>1020.0</td>\n",
              "      <td>NaN</td>\n",
              "      <td>NaN</td>\n",
              "      <td>NaN</td>\n",
              "      <td>291.933333</td>\n",
              "    </tr>\n",
              "    <tr>\n",
              "      <th>4</th>\n",
              "      <td>2021-02-06 10:03:35</td>\n",
              "      <td>130235</td>\n",
              "      <td>2021-02-06 00:00:00</td>\n",
              "      <td>2021-02-06 10:03:43</td>\n",
              "      <td>2021-02-06 10:04:43</td>\n",
              "      <td>1426</td>\n",
              "      <td>0.8275</td>\n",
              "      <td>0.94</td>\n",
              "      <td>352.0</td>\n",
              "      <td>350.0</td>\n",
              "      <td>2.0</td>\n",
              "      <td>7284.0</td>\n",
              "      <td>NaN</td>\n",
              "      <td>NaN</td>\n",
              "      <td>NaN</td>\n",
              "      <td>247.133333</td>\n",
              "    </tr>\n",
              "  </tbody>\n",
              "</table>\n",
              "</div>\n",
              "      <button class=\"colab-df-convert\" onclick=\"convertToInteractive('df-7bb2160b-da54-4295-bdaf-6181d735ea37')\"\n",
              "              title=\"Convert this dataframe to an interactive table.\"\n",
              "              style=\"display:none;\">\n",
              "        \n",
              "  <svg xmlns=\"http://www.w3.org/2000/svg\" height=\"24px\"viewBox=\"0 0 24 24\"\n",
              "       width=\"24px\">\n",
              "    <path d=\"M0 0h24v24H0V0z\" fill=\"none\"/>\n",
              "    <path d=\"M18.56 5.44l.94 2.06.94-2.06 2.06-.94-2.06-.94-.94-2.06-.94 2.06-2.06.94zm-11 1L8.5 8.5l.94-2.06 2.06-.94-2.06-.94L8.5 2.5l-.94 2.06-2.06.94zm10 10l.94 2.06.94-2.06 2.06-.94-2.06-.94-.94-2.06-.94 2.06-2.06.94z\"/><path d=\"M17.41 7.96l-1.37-1.37c-.4-.4-.92-.59-1.43-.59-.52 0-1.04.2-1.43.59L10.3 9.45l-7.72 7.72c-.78.78-.78 2.05 0 2.83L4 21.41c.39.39.9.59 1.41.59.51 0 1.02-.2 1.41-.59l7.78-7.78 2.81-2.81c.8-.78.8-2.07 0-2.86zM5.41 20L4 18.59l7.72-7.72 1.47 1.35L5.41 20z\"/>\n",
              "  </svg>\n",
              "      </button>\n",
              "      \n",
              "  <style>\n",
              "    .colab-df-container {\n",
              "      display:flex;\n",
              "      flex-wrap:wrap;\n",
              "      gap: 12px;\n",
              "    }\n",
              "\n",
              "    .colab-df-convert {\n",
              "      background-color: #E8F0FE;\n",
              "      border: none;\n",
              "      border-radius: 50%;\n",
              "      cursor: pointer;\n",
              "      display: none;\n",
              "      fill: #1967D2;\n",
              "      height: 32px;\n",
              "      padding: 0 0 0 0;\n",
              "      width: 32px;\n",
              "    }\n",
              "\n",
              "    .colab-df-convert:hover {\n",
              "      background-color: #E2EBFA;\n",
              "      box-shadow: 0px 1px 2px rgba(60, 64, 67, 0.3), 0px 1px 3px 1px rgba(60, 64, 67, 0.15);\n",
              "      fill: #174EA6;\n",
              "    }\n",
              "\n",
              "    [theme=dark] .colab-df-convert {\n",
              "      background-color: #3B4455;\n",
              "      fill: #D2E3FC;\n",
              "    }\n",
              "\n",
              "    [theme=dark] .colab-df-convert:hover {\n",
              "      background-color: #434B5C;\n",
              "      box-shadow: 0px 1px 3px 1px rgba(0, 0, 0, 0.15);\n",
              "      filter: drop-shadow(0px 1px 2px rgba(0, 0, 0, 0.3));\n",
              "      fill: #FFFFFF;\n",
              "    }\n",
              "  </style>\n",
              "\n",
              "      <script>\n",
              "        const buttonEl =\n",
              "          document.querySelector('#df-7bb2160b-da54-4295-bdaf-6181d735ea37 button.colab-df-convert');\n",
              "        buttonEl.style.display =\n",
              "          google.colab.kernel.accessAllowed ? 'block' : 'none';\n",
              "\n",
              "        async function convertToInteractive(key) {\n",
              "          const element = document.querySelector('#df-7bb2160b-da54-4295-bdaf-6181d735ea37');\n",
              "          const dataTable =\n",
              "            await google.colab.kernel.invokeFunction('convertToInteractive',\n",
              "                                                     [key], {});\n",
              "          if (!dataTable) return;\n",
              "\n",
              "          const docLinkHtml = 'Like what you see? Visit the ' +\n",
              "            '<a target=\"_blank\" href=https://colab.research.google.com/notebooks/data_table.ipynb>data table notebook</a>'\n",
              "            + ' to learn more about interactive tables.';\n",
              "          element.innerHTML = '';\n",
              "          dataTable['output_type'] = 'display_data';\n",
              "          await google.colab.output.renderOutput(dataTable, element);\n",
              "          const docLink = document.createElement('div');\n",
              "          docLink.innerHTML = docLinkHtml;\n",
              "          element.appendChild(docLink);\n",
              "        }\n",
              "      </script>\n",
              "    </div>\n",
              "  </div>\n",
              "  "
            ],
            "text/plain": [
              "            order_time  order_id  ... reassigned_order session_time\n",
              "0  2021-02-06 10:03:24    130231  ...              NaN   273.400000\n",
              "1  2021-02-06 10:03:26    130232  ...              NaN   252.100000\n",
              "2  2021-02-06 10:03:27    130233  ...              NaN   241.383333\n",
              "3  2021-02-06 10:03:29    130234  ...              NaN   291.933333\n",
              "4  2021-02-06 10:03:35    130235  ...              NaN   247.133333\n",
              "\n",
              "[5 rows x 16 columns]"
            ]
          },
          "metadata": {},
          "execution_count": 11
        }
      ],
      "source": [
        "df_test.head()"
      ]
    },
    {
      "cell_type": "code",
      "execution_count": 12,
      "metadata": {
        "colab": {
          "base_uri": "https://localhost:8080/"
        },
        "id": "dcrsgmiTZe0v",
        "outputId": "5cf6b14b-9217-4391-da43-0dcad682daf3"
      },
      "outputs": [
        {
          "output_type": "execute_result",
          "data": {
            "text/plain": [
              "(450000, 20)"
            ]
          },
          "metadata": {},
          "execution_count": 12
        }
      ],
      "source": [
        "df.shape"
      ]
    },
    {
      "cell_type": "code",
      "execution_count": 13,
      "metadata": {
        "colab": {
          "base_uri": "https://localhost:8080/",
          "height": 357
        },
        "id": "F5kMx4EzlP4q",
        "outputId": "e04ac84a-82e7-4939-dd2d-1dca1c444671"
      },
      "outputs": [
        {
          "output_type": "execute_result",
          "data": {
            "text/html": [
              "\n",
              "  <div id=\"df-36f888f4-09b0-4e29-b121-76b352ab02eb\">\n",
              "    <div class=\"colab-df-container\">\n",
              "      <div>\n",
              "<style scoped>\n",
              "    .dataframe tbody tr th:only-of-type {\n",
              "        vertical-align: middle;\n",
              "    }\n",
              "\n",
              "    .dataframe tbody tr th {\n",
              "        vertical-align: top;\n",
              "    }\n",
              "\n",
              "    .dataframe thead th {\n",
              "        text-align: right;\n",
              "    }\n",
              "</style>\n",
              "<table border=\"1\" class=\"dataframe\">\n",
              "  <thead>\n",
              "    <tr style=\"text-align: right;\">\n",
              "      <th></th>\n",
              "      <th>order_time</th>\n",
              "      <th>order_id</th>\n",
              "      <th>order_date</th>\n",
              "      <th>allot_time</th>\n",
              "      <th>accept_time</th>\n",
              "      <th>pickup_time</th>\n",
              "      <th>delivered_time</th>\n",
              "      <th>rider_id</th>\n",
              "      <th>first_mile_distance</th>\n",
              "      <th>last_mile_distance</th>\n",
              "      <th>alloted_orders</th>\n",
              "      <th>delivered_orders</th>\n",
              "      <th>cancelled</th>\n",
              "      <th>undelivered_orders</th>\n",
              "      <th>lifetime_order_count</th>\n",
              "      <th>reassignment_method</th>\n",
              "      <th>reassignment_reason</th>\n",
              "      <th>reassigned_order</th>\n",
              "      <th>session_time</th>\n",
              "      <th>cancelled_time</th>\n",
              "    </tr>\n",
              "  </thead>\n",
              "  <tbody>\n",
              "    <tr>\n",
              "      <th>0</th>\n",
              "      <td>2021-01-26 02:21:35</td>\n",
              "      <td>556753</td>\n",
              "      <td>2021-01-26 00:00:00</td>\n",
              "      <td>2021-01-26 02:21:59</td>\n",
              "      <td>2021-01-26 02:22:08</td>\n",
              "      <td>2021-01-26 02:32:51</td>\n",
              "      <td>2021-01-26 02:49:47</td>\n",
              "      <td>11696</td>\n",
              "      <td>1.5666</td>\n",
              "      <td>2.65</td>\n",
              "      <td>46.0</td>\n",
              "      <td>46.0</td>\n",
              "      <td>0</td>\n",
              "      <td>0.0</td>\n",
              "      <td>621.0</td>\n",
              "      <td>NaN</td>\n",
              "      <td>NaN</td>\n",
              "      <td>NaN</td>\n",
              "      <td>NaN</td>\n",
              "      <td>NaN</td>\n",
              "    </tr>\n",
              "    <tr>\n",
              "      <th>1</th>\n",
              "      <td>2021-01-26 02:33:16</td>\n",
              "      <td>556754</td>\n",
              "      <td>2021-01-26 00:00:00</td>\n",
              "      <td>2021-01-26 02:33:57</td>\n",
              "      <td>2021-01-26 02:34:45</td>\n",
              "      <td>2021-01-26 02:50:25</td>\n",
              "      <td>2021-01-26 03:11:15</td>\n",
              "      <td>18117</td>\n",
              "      <td>2.5207</td>\n",
              "      <td>2.76</td>\n",
              "      <td>8.0</td>\n",
              "      <td>8.0</td>\n",
              "      <td>0</td>\n",
              "      <td>0.0</td>\n",
              "      <td>105.0</td>\n",
              "      <td>NaN</td>\n",
              "      <td>NaN</td>\n",
              "      <td>NaN</td>\n",
              "      <td>3.266667</td>\n",
              "      <td>NaN</td>\n",
              "    </tr>\n",
              "    <tr>\n",
              "      <th>2</th>\n",
              "      <td>2021-01-26 02:39:49</td>\n",
              "      <td>556755</td>\n",
              "      <td>2021-01-26 00:00:00</td>\n",
              "      <td>2021-01-26 02:39:57</td>\n",
              "      <td>2021-01-26 02:40:13</td>\n",
              "      <td>2021-01-26 02:56:00</td>\n",
              "      <td>2021-01-26 03:12:46</td>\n",
              "      <td>18623</td>\n",
              "      <td>2.2074</td>\n",
              "      <td>4.80</td>\n",
              "      <td>1.0</td>\n",
              "      <td>1.0</td>\n",
              "      <td>0</td>\n",
              "      <td>0.0</td>\n",
              "      <td>66.0</td>\n",
              "      <td>NaN</td>\n",
              "      <td>NaN</td>\n",
              "      <td>NaN</td>\n",
              "      <td>9.816667</td>\n",
              "      <td>NaN</td>\n",
              "    </tr>\n",
              "    <tr>\n",
              "      <th>3</th>\n",
              "      <td>2021-01-26 02:47:53</td>\n",
              "      <td>556756</td>\n",
              "      <td>2021-01-26 00:00:00</td>\n",
              "      <td>2021-01-26 02:48:25</td>\n",
              "      <td>2021-01-26 02:49:06</td>\n",
              "      <td>2021-01-26 03:21:51</td>\n",
              "      <td>2021-01-26 03:41:05</td>\n",
              "      <td>15945</td>\n",
              "      <td>2.1894</td>\n",
              "      <td>6.38</td>\n",
              "      <td>1.0</td>\n",
              "      <td>1.0</td>\n",
              "      <td>0</td>\n",
              "      <td>0.0</td>\n",
              "      <td>127.0</td>\n",
              "      <td>NaN</td>\n",
              "      <td>NaN</td>\n",
              "      <td>NaN</td>\n",
              "      <td>17.533333</td>\n",
              "      <td>NaN</td>\n",
              "    </tr>\n",
              "    <tr>\n",
              "      <th>4</th>\n",
              "      <td>2021-01-26 03:06:30</td>\n",
              "      <td>556757</td>\n",
              "      <td>2021-01-26 00:00:00</td>\n",
              "      <td>2021-01-26 03:07:21</td>\n",
              "      <td>2021-01-26 03:07:57</td>\n",
              "      <td>2021-01-26 03:31:38</td>\n",
              "      <td>2021-01-26 04:00:15</td>\n",
              "      <td>17589</td>\n",
              "      <td>2.7870</td>\n",
              "      <td>4.01</td>\n",
              "      <td>34.0</td>\n",
              "      <td>34.0</td>\n",
              "      <td>0</td>\n",
              "      <td>0.0</td>\n",
              "      <td>84.0</td>\n",
              "      <td>NaN</td>\n",
              "      <td>NaN</td>\n",
              "      <td>NaN</td>\n",
              "      <td>1.350000</td>\n",
              "      <td>NaN</td>\n",
              "    </tr>\n",
              "  </tbody>\n",
              "</table>\n",
              "</div>\n",
              "      <button class=\"colab-df-convert\" onclick=\"convertToInteractive('df-36f888f4-09b0-4e29-b121-76b352ab02eb')\"\n",
              "              title=\"Convert this dataframe to an interactive table.\"\n",
              "              style=\"display:none;\">\n",
              "        \n",
              "  <svg xmlns=\"http://www.w3.org/2000/svg\" height=\"24px\"viewBox=\"0 0 24 24\"\n",
              "       width=\"24px\">\n",
              "    <path d=\"M0 0h24v24H0V0z\" fill=\"none\"/>\n",
              "    <path d=\"M18.56 5.44l.94 2.06.94-2.06 2.06-.94-2.06-.94-.94-2.06-.94 2.06-2.06.94zm-11 1L8.5 8.5l.94-2.06 2.06-.94-2.06-.94L8.5 2.5l-.94 2.06-2.06.94zm10 10l.94 2.06.94-2.06 2.06-.94-2.06-.94-.94-2.06-.94 2.06-2.06.94z\"/><path d=\"M17.41 7.96l-1.37-1.37c-.4-.4-.92-.59-1.43-.59-.52 0-1.04.2-1.43.59L10.3 9.45l-7.72 7.72c-.78.78-.78 2.05 0 2.83L4 21.41c.39.39.9.59 1.41.59.51 0 1.02-.2 1.41-.59l7.78-7.78 2.81-2.81c.8-.78.8-2.07 0-2.86zM5.41 20L4 18.59l7.72-7.72 1.47 1.35L5.41 20z\"/>\n",
              "  </svg>\n",
              "      </button>\n",
              "      \n",
              "  <style>\n",
              "    .colab-df-container {\n",
              "      display:flex;\n",
              "      flex-wrap:wrap;\n",
              "      gap: 12px;\n",
              "    }\n",
              "\n",
              "    .colab-df-convert {\n",
              "      background-color: #E8F0FE;\n",
              "      border: none;\n",
              "      border-radius: 50%;\n",
              "      cursor: pointer;\n",
              "      display: none;\n",
              "      fill: #1967D2;\n",
              "      height: 32px;\n",
              "      padding: 0 0 0 0;\n",
              "      width: 32px;\n",
              "    }\n",
              "\n",
              "    .colab-df-convert:hover {\n",
              "      background-color: #E2EBFA;\n",
              "      box-shadow: 0px 1px 2px rgba(60, 64, 67, 0.3), 0px 1px 3px 1px rgba(60, 64, 67, 0.15);\n",
              "      fill: #174EA6;\n",
              "    }\n",
              "\n",
              "    [theme=dark] .colab-df-convert {\n",
              "      background-color: #3B4455;\n",
              "      fill: #D2E3FC;\n",
              "    }\n",
              "\n",
              "    [theme=dark] .colab-df-convert:hover {\n",
              "      background-color: #434B5C;\n",
              "      box-shadow: 0px 1px 3px 1px rgba(0, 0, 0, 0.15);\n",
              "      filter: drop-shadow(0px 1px 2px rgba(0, 0, 0, 0.3));\n",
              "      fill: #FFFFFF;\n",
              "    }\n",
              "  </style>\n",
              "\n",
              "      <script>\n",
              "        const buttonEl =\n",
              "          document.querySelector('#df-36f888f4-09b0-4e29-b121-76b352ab02eb button.colab-df-convert');\n",
              "        buttonEl.style.display =\n",
              "          google.colab.kernel.accessAllowed ? 'block' : 'none';\n",
              "\n",
              "        async function convertToInteractive(key) {\n",
              "          const element = document.querySelector('#df-36f888f4-09b0-4e29-b121-76b352ab02eb');\n",
              "          const dataTable =\n",
              "            await google.colab.kernel.invokeFunction('convertToInteractive',\n",
              "                                                     [key], {});\n",
              "          if (!dataTable) return;\n",
              "\n",
              "          const docLinkHtml = 'Like what you see? Visit the ' +\n",
              "            '<a target=\"_blank\" href=https://colab.research.google.com/notebooks/data_table.ipynb>data table notebook</a>'\n",
              "            + ' to learn more about interactive tables.';\n",
              "          element.innerHTML = '';\n",
              "          dataTable['output_type'] = 'display_data';\n",
              "          await google.colab.output.renderOutput(dataTable, element);\n",
              "          const docLink = document.createElement('div');\n",
              "          docLink.innerHTML = docLinkHtml;\n",
              "          element.appendChild(docLink);\n",
              "        }\n",
              "      </script>\n",
              "    </div>\n",
              "  </div>\n",
              "  "
            ],
            "text/plain": [
              "            order_time  order_id  ... session_time cancelled_time\n",
              "0  2021-01-26 02:21:35    556753  ...          NaN            NaN\n",
              "1  2021-01-26 02:33:16    556754  ...     3.266667            NaN\n",
              "2  2021-01-26 02:39:49    556755  ...     9.816667            NaN\n",
              "3  2021-01-26 02:47:53    556756  ...    17.533333            NaN\n",
              "4  2021-01-26 03:06:30    556757  ...     1.350000            NaN\n",
              "\n",
              "[5 rows x 20 columns]"
            ]
          },
          "metadata": {},
          "execution_count": 13
        }
      ],
      "source": [
        "df.head()"
      ]
    },
    {
      "cell_type": "code",
      "execution_count": 14,
      "metadata": {
        "colab": {
          "base_uri": "https://localhost:8080/",
          "height": 357
        },
        "id": "_spmT8FqaQHZ",
        "outputId": "d39ba0da-e6e3-4b96-b051-2ee77bb097c0"
      },
      "outputs": [
        {
          "output_type": "execute_result",
          "data": {
            "text/html": [
              "\n",
              "  <div id=\"df-31aa02ee-cc5a-44e5-a288-60603c8eeceb\">\n",
              "    <div class=\"colab-df-container\">\n",
              "      <div>\n",
              "<style scoped>\n",
              "    .dataframe tbody tr th:only-of-type {\n",
              "        vertical-align: middle;\n",
              "    }\n",
              "\n",
              "    .dataframe tbody tr th {\n",
              "        vertical-align: top;\n",
              "    }\n",
              "\n",
              "    .dataframe thead th {\n",
              "        text-align: right;\n",
              "    }\n",
              "</style>\n",
              "<table border=\"1\" class=\"dataframe\">\n",
              "  <thead>\n",
              "    <tr style=\"text-align: right;\">\n",
              "      <th></th>\n",
              "      <th>order_time</th>\n",
              "      <th>order_id</th>\n",
              "      <th>order_date</th>\n",
              "      <th>allot_time</th>\n",
              "      <th>accept_time</th>\n",
              "      <th>pickup_time</th>\n",
              "      <th>delivered_time</th>\n",
              "      <th>rider_id</th>\n",
              "      <th>first_mile_distance</th>\n",
              "      <th>last_mile_distance</th>\n",
              "      <th>alloted_orders</th>\n",
              "      <th>delivered_orders</th>\n",
              "      <th>cancelled</th>\n",
              "      <th>undelivered_orders</th>\n",
              "      <th>lifetime_order_count</th>\n",
              "      <th>reassignment_method</th>\n",
              "      <th>reassignment_reason</th>\n",
              "      <th>reassigned_order</th>\n",
              "      <th>session_time</th>\n",
              "      <th>cancelled_time</th>\n",
              "    </tr>\n",
              "  </thead>\n",
              "  <tbody>\n",
              "    <tr>\n",
              "      <th>0</th>\n",
              "      <td>2021-01-26 02:21:35</td>\n",
              "      <td>556753</td>\n",
              "      <td>2021-01-26 00:00:00</td>\n",
              "      <td>2021-01-26 02:21:59</td>\n",
              "      <td>2021-01-26 02:22:08</td>\n",
              "      <td>2021-01-26 02:32:51</td>\n",
              "      <td>2021-01-26 02:49:47</td>\n",
              "      <td>11696</td>\n",
              "      <td>1.5666</td>\n",
              "      <td>2.65</td>\n",
              "      <td>46.0</td>\n",
              "      <td>46.0</td>\n",
              "      <td>0</td>\n",
              "      <td>0.0</td>\n",
              "      <td>621.0</td>\n",
              "      <td>NaN</td>\n",
              "      <td>NaN</td>\n",
              "      <td>NaN</td>\n",
              "      <td>NaN</td>\n",
              "      <td>NaN</td>\n",
              "    </tr>\n",
              "    <tr>\n",
              "      <th>1</th>\n",
              "      <td>2021-01-26 02:33:16</td>\n",
              "      <td>556754</td>\n",
              "      <td>2021-01-26 00:00:00</td>\n",
              "      <td>2021-01-26 02:33:57</td>\n",
              "      <td>2021-01-26 02:34:45</td>\n",
              "      <td>2021-01-26 02:50:25</td>\n",
              "      <td>2021-01-26 03:11:15</td>\n",
              "      <td>18117</td>\n",
              "      <td>2.5207</td>\n",
              "      <td>2.76</td>\n",
              "      <td>8.0</td>\n",
              "      <td>8.0</td>\n",
              "      <td>0</td>\n",
              "      <td>0.0</td>\n",
              "      <td>105.0</td>\n",
              "      <td>NaN</td>\n",
              "      <td>NaN</td>\n",
              "      <td>NaN</td>\n",
              "      <td>3.266667</td>\n",
              "      <td>NaN</td>\n",
              "    </tr>\n",
              "    <tr>\n",
              "      <th>2</th>\n",
              "      <td>2021-01-26 02:39:49</td>\n",
              "      <td>556755</td>\n",
              "      <td>2021-01-26 00:00:00</td>\n",
              "      <td>2021-01-26 02:39:57</td>\n",
              "      <td>2021-01-26 02:40:13</td>\n",
              "      <td>2021-01-26 02:56:00</td>\n",
              "      <td>2021-01-26 03:12:46</td>\n",
              "      <td>18623</td>\n",
              "      <td>2.2074</td>\n",
              "      <td>4.80</td>\n",
              "      <td>1.0</td>\n",
              "      <td>1.0</td>\n",
              "      <td>0</td>\n",
              "      <td>0.0</td>\n",
              "      <td>66.0</td>\n",
              "      <td>NaN</td>\n",
              "      <td>NaN</td>\n",
              "      <td>NaN</td>\n",
              "      <td>9.816667</td>\n",
              "      <td>NaN</td>\n",
              "    </tr>\n",
              "    <tr>\n",
              "      <th>3</th>\n",
              "      <td>2021-01-26 02:47:53</td>\n",
              "      <td>556756</td>\n",
              "      <td>2021-01-26 00:00:00</td>\n",
              "      <td>2021-01-26 02:48:25</td>\n",
              "      <td>2021-01-26 02:49:06</td>\n",
              "      <td>2021-01-26 03:21:51</td>\n",
              "      <td>2021-01-26 03:41:05</td>\n",
              "      <td>15945</td>\n",
              "      <td>2.1894</td>\n",
              "      <td>6.38</td>\n",
              "      <td>1.0</td>\n",
              "      <td>1.0</td>\n",
              "      <td>0</td>\n",
              "      <td>0.0</td>\n",
              "      <td>127.0</td>\n",
              "      <td>NaN</td>\n",
              "      <td>NaN</td>\n",
              "      <td>NaN</td>\n",
              "      <td>17.533333</td>\n",
              "      <td>NaN</td>\n",
              "    </tr>\n",
              "    <tr>\n",
              "      <th>4</th>\n",
              "      <td>2021-01-26 03:06:30</td>\n",
              "      <td>556757</td>\n",
              "      <td>2021-01-26 00:00:00</td>\n",
              "      <td>2021-01-26 03:07:21</td>\n",
              "      <td>2021-01-26 03:07:57</td>\n",
              "      <td>2021-01-26 03:31:38</td>\n",
              "      <td>2021-01-26 04:00:15</td>\n",
              "      <td>17589</td>\n",
              "      <td>2.7870</td>\n",
              "      <td>4.01</td>\n",
              "      <td>34.0</td>\n",
              "      <td>34.0</td>\n",
              "      <td>0</td>\n",
              "      <td>0.0</td>\n",
              "      <td>84.0</td>\n",
              "      <td>NaN</td>\n",
              "      <td>NaN</td>\n",
              "      <td>NaN</td>\n",
              "      <td>1.350000</td>\n",
              "      <td>NaN</td>\n",
              "    </tr>\n",
              "  </tbody>\n",
              "</table>\n",
              "</div>\n",
              "      <button class=\"colab-df-convert\" onclick=\"convertToInteractive('df-31aa02ee-cc5a-44e5-a288-60603c8eeceb')\"\n",
              "              title=\"Convert this dataframe to an interactive table.\"\n",
              "              style=\"display:none;\">\n",
              "        \n",
              "  <svg xmlns=\"http://www.w3.org/2000/svg\" height=\"24px\"viewBox=\"0 0 24 24\"\n",
              "       width=\"24px\">\n",
              "    <path d=\"M0 0h24v24H0V0z\" fill=\"none\"/>\n",
              "    <path d=\"M18.56 5.44l.94 2.06.94-2.06 2.06-.94-2.06-.94-.94-2.06-.94 2.06-2.06.94zm-11 1L8.5 8.5l.94-2.06 2.06-.94-2.06-.94L8.5 2.5l-.94 2.06-2.06.94zm10 10l.94 2.06.94-2.06 2.06-.94-2.06-.94-.94-2.06-.94 2.06-2.06.94z\"/><path d=\"M17.41 7.96l-1.37-1.37c-.4-.4-.92-.59-1.43-.59-.52 0-1.04.2-1.43.59L10.3 9.45l-7.72 7.72c-.78.78-.78 2.05 0 2.83L4 21.41c.39.39.9.59 1.41.59.51 0 1.02-.2 1.41-.59l7.78-7.78 2.81-2.81c.8-.78.8-2.07 0-2.86zM5.41 20L4 18.59l7.72-7.72 1.47 1.35L5.41 20z\"/>\n",
              "  </svg>\n",
              "      </button>\n",
              "      \n",
              "  <style>\n",
              "    .colab-df-container {\n",
              "      display:flex;\n",
              "      flex-wrap:wrap;\n",
              "      gap: 12px;\n",
              "    }\n",
              "\n",
              "    .colab-df-convert {\n",
              "      background-color: #E8F0FE;\n",
              "      border: none;\n",
              "      border-radius: 50%;\n",
              "      cursor: pointer;\n",
              "      display: none;\n",
              "      fill: #1967D2;\n",
              "      height: 32px;\n",
              "      padding: 0 0 0 0;\n",
              "      width: 32px;\n",
              "    }\n",
              "\n",
              "    .colab-df-convert:hover {\n",
              "      background-color: #E2EBFA;\n",
              "      box-shadow: 0px 1px 2px rgba(60, 64, 67, 0.3), 0px 1px 3px 1px rgba(60, 64, 67, 0.15);\n",
              "      fill: #174EA6;\n",
              "    }\n",
              "\n",
              "    [theme=dark] .colab-df-convert {\n",
              "      background-color: #3B4455;\n",
              "      fill: #D2E3FC;\n",
              "    }\n",
              "\n",
              "    [theme=dark] .colab-df-convert:hover {\n",
              "      background-color: #434B5C;\n",
              "      box-shadow: 0px 1px 3px 1px rgba(0, 0, 0, 0.15);\n",
              "      filter: drop-shadow(0px 1px 2px rgba(0, 0, 0, 0.3));\n",
              "      fill: #FFFFFF;\n",
              "    }\n",
              "  </style>\n",
              "\n",
              "      <script>\n",
              "        const buttonEl =\n",
              "          document.querySelector('#df-31aa02ee-cc5a-44e5-a288-60603c8eeceb button.colab-df-convert');\n",
              "        buttonEl.style.display =\n",
              "          google.colab.kernel.accessAllowed ? 'block' : 'none';\n",
              "\n",
              "        async function convertToInteractive(key) {\n",
              "          const element = document.querySelector('#df-31aa02ee-cc5a-44e5-a288-60603c8eeceb');\n",
              "          const dataTable =\n",
              "            await google.colab.kernel.invokeFunction('convertToInteractive',\n",
              "                                                     [key], {});\n",
              "          if (!dataTable) return;\n",
              "\n",
              "          const docLinkHtml = 'Like what you see? Visit the ' +\n",
              "            '<a target=\"_blank\" href=https://colab.research.google.com/notebooks/data_table.ipynb>data table notebook</a>'\n",
              "            + ' to learn more about interactive tables.';\n",
              "          element.innerHTML = '';\n",
              "          dataTable['output_type'] = 'display_data';\n",
              "          await google.colab.output.renderOutput(dataTable, element);\n",
              "          const docLink = document.createElement('div');\n",
              "          docLink.innerHTML = docLinkHtml;\n",
              "          element.appendChild(docLink);\n",
              "        }\n",
              "      </script>\n",
              "    </div>\n",
              "  </div>\n",
              "  "
            ],
            "text/plain": [
              "            order_time  order_id  ... session_time cancelled_time\n",
              "0  2021-01-26 02:21:35    556753  ...          NaN            NaN\n",
              "1  2021-01-26 02:33:16    556754  ...     3.266667            NaN\n",
              "2  2021-01-26 02:39:49    556755  ...     9.816667            NaN\n",
              "3  2021-01-26 02:47:53    556756  ...    17.533333            NaN\n",
              "4  2021-01-26 03:06:30    556757  ...     1.350000            NaN\n",
              "\n",
              "[5 rows x 20 columns]"
            ]
          },
          "metadata": {},
          "execution_count": 14
        }
      ],
      "source": [
        "df.head()"
      ]
    },
    {
      "cell_type": "code",
      "execution_count": 15,
      "metadata": {
        "colab": {
          "base_uri": "https://localhost:8080/"
        },
        "id": "Myh3jh5dytx2",
        "outputId": "5a37123d-00c2-44a8-ce2b-beaaefa51ff6"
      },
      "outputs": [
        {
          "output_type": "execute_result",
          "data": {
            "text/plain": [
              "(144844, 16)"
            ]
          },
          "metadata": {},
          "execution_count": 15
        }
      ],
      "source": [
        "df_test.shape"
      ]
    },
    {
      "cell_type": "code",
      "execution_count": 16,
      "metadata": {
        "colab": {
          "base_uri": "https://localhost:8080/"
        },
        "id": "0Lr4Y-PlzswE",
        "outputId": "4bf91dd4-892c-47e9-d3c3-c2ed75c6ec45"
      },
      "outputs": [
        {
          "output_type": "execute_result",
          "data": {
            "text/plain": [
              "2317504"
            ]
          },
          "metadata": {},
          "execution_count": 16
        }
      ],
      "source": [
        "df_test.size"
      ]
    },
    {
      "cell_type": "code",
      "execution_count": 17,
      "metadata": {
        "colab": {
          "base_uri": "https://localhost:8080/"
        },
        "id": "5zMxjeM4m_Xp",
        "outputId": "be8d2893-d30b-473f-e94f-3ab32905de99"
      },
      "outputs": [
        {
          "output_type": "execute_result",
          "data": {
            "text/plain": [
              "237      228\n",
              "190      213\n",
              "11998    209\n",
              "170      203\n",
              "853      200\n",
              "        ... \n",
              "9339       1\n",
              "20693      1\n",
              "16603      1\n",
              "20692      1\n",
              "4895       1\n",
              "Name: rider_id, Length: 19537, dtype: int64"
            ]
          },
          "metadata": {},
          "execution_count": 17
        }
      ],
      "source": [
        "df['rider_id'].value_counts()"
      ]
    },
    {
      "cell_type": "code",
      "execution_count": 18,
      "metadata": {
        "colab": {
          "base_uri": "https://localhost:8080/"
        },
        "id": "zsbek06yodKK",
        "outputId": "4d91caee-b768-44b4-a213-971def835c86"
      },
      "outputs": [
        {
          "output_type": "execute_result",
          "data": {
            "text/plain": [
              "(450000, 20)"
            ]
          },
          "metadata": {},
          "execution_count": 18
        }
      ],
      "source": [
        "df.shape"
      ]
    },
    {
      "cell_type": "code",
      "execution_count": 19,
      "metadata": {
        "colab": {
          "base_uri": "https://localhost:8080/"
        },
        "id": "4yyqtHtmoSAV",
        "outputId": "66520625-4807-4d97-e3b2-5de57676c1d7"
      },
      "outputs": [
        {
          "output_type": "execute_result",
          "data": {
            "text/plain": [
              "order_time                   0\n",
              "order_id                     0\n",
              "order_date                   0\n",
              "allot_time                   0\n",
              "accept_time                157\n",
              "pickup_time               2421\n",
              "delivered_time            5218\n",
              "rider_id                     0\n",
              "first_mile_distance          0\n",
              "last_mile_distance           0\n",
              "alloted_orders           16948\n",
              "delivered_orders         17341\n",
              "cancelled                    0\n",
              "undelivered_orders       17341\n",
              "lifetime_order_count        53\n",
              "reassignment_method     436256\n",
              "reassignment_reason     436247\n",
              "reassigned_order        436247\n",
              "session_time              3675\n",
              "cancelled_time          444782\n",
              "dtype: int64"
            ]
          },
          "metadata": {},
          "execution_count": 19
        }
      ],
      "source": [
        "df.isnull().sum()"
      ]
    },
    {
      "cell_type": "code",
      "execution_count": 20,
      "metadata": {
        "id": "BRb2M-rznfTA"
      },
      "outputs": [],
      "source": [
        "df = df.drop(columns=['order_id','pickup_time','delivered_time'],axis =1)"
      ]
    },
    {
      "cell_type": "code",
      "execution_count": 21,
      "metadata": {
        "colab": {
          "base_uri": "https://localhost:8080/",
          "height": 357
        },
        "id": "Ok7PsuwhpMrd",
        "outputId": "aa9d264c-8408-4a40-d899-76f13a36c6e4"
      },
      "outputs": [
        {
          "output_type": "execute_result",
          "data": {
            "text/html": [
              "\n",
              "  <div id=\"df-5bf123eb-8017-4908-b2c1-d74df973be1d\">\n",
              "    <div class=\"colab-df-container\">\n",
              "      <div>\n",
              "<style scoped>\n",
              "    .dataframe tbody tr th:only-of-type {\n",
              "        vertical-align: middle;\n",
              "    }\n",
              "\n",
              "    .dataframe tbody tr th {\n",
              "        vertical-align: top;\n",
              "    }\n",
              "\n",
              "    .dataframe thead th {\n",
              "        text-align: right;\n",
              "    }\n",
              "</style>\n",
              "<table border=\"1\" class=\"dataframe\">\n",
              "  <thead>\n",
              "    <tr style=\"text-align: right;\">\n",
              "      <th></th>\n",
              "      <th>order_time</th>\n",
              "      <th>order_date</th>\n",
              "      <th>allot_time</th>\n",
              "      <th>accept_time</th>\n",
              "      <th>rider_id</th>\n",
              "      <th>first_mile_distance</th>\n",
              "      <th>last_mile_distance</th>\n",
              "      <th>alloted_orders</th>\n",
              "      <th>delivered_orders</th>\n",
              "      <th>cancelled</th>\n",
              "      <th>undelivered_orders</th>\n",
              "      <th>lifetime_order_count</th>\n",
              "      <th>reassignment_method</th>\n",
              "      <th>reassignment_reason</th>\n",
              "      <th>reassigned_order</th>\n",
              "      <th>session_time</th>\n",
              "      <th>cancelled_time</th>\n",
              "    </tr>\n",
              "  </thead>\n",
              "  <tbody>\n",
              "    <tr>\n",
              "      <th>0</th>\n",
              "      <td>2021-01-26 02:21:35</td>\n",
              "      <td>2021-01-26 00:00:00</td>\n",
              "      <td>2021-01-26 02:21:59</td>\n",
              "      <td>2021-01-26 02:22:08</td>\n",
              "      <td>11696</td>\n",
              "      <td>1.5666</td>\n",
              "      <td>2.65</td>\n",
              "      <td>46.0</td>\n",
              "      <td>46.0</td>\n",
              "      <td>0</td>\n",
              "      <td>0.0</td>\n",
              "      <td>621.0</td>\n",
              "      <td>NaN</td>\n",
              "      <td>NaN</td>\n",
              "      <td>NaN</td>\n",
              "      <td>NaN</td>\n",
              "      <td>NaN</td>\n",
              "    </tr>\n",
              "    <tr>\n",
              "      <th>1</th>\n",
              "      <td>2021-01-26 02:33:16</td>\n",
              "      <td>2021-01-26 00:00:00</td>\n",
              "      <td>2021-01-26 02:33:57</td>\n",
              "      <td>2021-01-26 02:34:45</td>\n",
              "      <td>18117</td>\n",
              "      <td>2.5207</td>\n",
              "      <td>2.76</td>\n",
              "      <td>8.0</td>\n",
              "      <td>8.0</td>\n",
              "      <td>0</td>\n",
              "      <td>0.0</td>\n",
              "      <td>105.0</td>\n",
              "      <td>NaN</td>\n",
              "      <td>NaN</td>\n",
              "      <td>NaN</td>\n",
              "      <td>3.266667</td>\n",
              "      <td>NaN</td>\n",
              "    </tr>\n",
              "    <tr>\n",
              "      <th>2</th>\n",
              "      <td>2021-01-26 02:39:49</td>\n",
              "      <td>2021-01-26 00:00:00</td>\n",
              "      <td>2021-01-26 02:39:57</td>\n",
              "      <td>2021-01-26 02:40:13</td>\n",
              "      <td>18623</td>\n",
              "      <td>2.2074</td>\n",
              "      <td>4.80</td>\n",
              "      <td>1.0</td>\n",
              "      <td>1.0</td>\n",
              "      <td>0</td>\n",
              "      <td>0.0</td>\n",
              "      <td>66.0</td>\n",
              "      <td>NaN</td>\n",
              "      <td>NaN</td>\n",
              "      <td>NaN</td>\n",
              "      <td>9.816667</td>\n",
              "      <td>NaN</td>\n",
              "    </tr>\n",
              "    <tr>\n",
              "      <th>3</th>\n",
              "      <td>2021-01-26 02:47:53</td>\n",
              "      <td>2021-01-26 00:00:00</td>\n",
              "      <td>2021-01-26 02:48:25</td>\n",
              "      <td>2021-01-26 02:49:06</td>\n",
              "      <td>15945</td>\n",
              "      <td>2.1894</td>\n",
              "      <td>6.38</td>\n",
              "      <td>1.0</td>\n",
              "      <td>1.0</td>\n",
              "      <td>0</td>\n",
              "      <td>0.0</td>\n",
              "      <td>127.0</td>\n",
              "      <td>NaN</td>\n",
              "      <td>NaN</td>\n",
              "      <td>NaN</td>\n",
              "      <td>17.533333</td>\n",
              "      <td>NaN</td>\n",
              "    </tr>\n",
              "    <tr>\n",
              "      <th>4</th>\n",
              "      <td>2021-01-26 03:06:30</td>\n",
              "      <td>2021-01-26 00:00:00</td>\n",
              "      <td>2021-01-26 03:07:21</td>\n",
              "      <td>2021-01-26 03:07:57</td>\n",
              "      <td>17589</td>\n",
              "      <td>2.7870</td>\n",
              "      <td>4.01</td>\n",
              "      <td>34.0</td>\n",
              "      <td>34.0</td>\n",
              "      <td>0</td>\n",
              "      <td>0.0</td>\n",
              "      <td>84.0</td>\n",
              "      <td>NaN</td>\n",
              "      <td>NaN</td>\n",
              "      <td>NaN</td>\n",
              "      <td>1.350000</td>\n",
              "      <td>NaN</td>\n",
              "    </tr>\n",
              "  </tbody>\n",
              "</table>\n",
              "</div>\n",
              "      <button class=\"colab-df-convert\" onclick=\"convertToInteractive('df-5bf123eb-8017-4908-b2c1-d74df973be1d')\"\n",
              "              title=\"Convert this dataframe to an interactive table.\"\n",
              "              style=\"display:none;\">\n",
              "        \n",
              "  <svg xmlns=\"http://www.w3.org/2000/svg\" height=\"24px\"viewBox=\"0 0 24 24\"\n",
              "       width=\"24px\">\n",
              "    <path d=\"M0 0h24v24H0V0z\" fill=\"none\"/>\n",
              "    <path d=\"M18.56 5.44l.94 2.06.94-2.06 2.06-.94-2.06-.94-.94-2.06-.94 2.06-2.06.94zm-11 1L8.5 8.5l.94-2.06 2.06-.94-2.06-.94L8.5 2.5l-.94 2.06-2.06.94zm10 10l.94 2.06.94-2.06 2.06-.94-2.06-.94-.94-2.06-.94 2.06-2.06.94z\"/><path d=\"M17.41 7.96l-1.37-1.37c-.4-.4-.92-.59-1.43-.59-.52 0-1.04.2-1.43.59L10.3 9.45l-7.72 7.72c-.78.78-.78 2.05 0 2.83L4 21.41c.39.39.9.59 1.41.59.51 0 1.02-.2 1.41-.59l7.78-7.78 2.81-2.81c.8-.78.8-2.07 0-2.86zM5.41 20L4 18.59l7.72-7.72 1.47 1.35L5.41 20z\"/>\n",
              "  </svg>\n",
              "      </button>\n",
              "      \n",
              "  <style>\n",
              "    .colab-df-container {\n",
              "      display:flex;\n",
              "      flex-wrap:wrap;\n",
              "      gap: 12px;\n",
              "    }\n",
              "\n",
              "    .colab-df-convert {\n",
              "      background-color: #E8F0FE;\n",
              "      border: none;\n",
              "      border-radius: 50%;\n",
              "      cursor: pointer;\n",
              "      display: none;\n",
              "      fill: #1967D2;\n",
              "      height: 32px;\n",
              "      padding: 0 0 0 0;\n",
              "      width: 32px;\n",
              "    }\n",
              "\n",
              "    .colab-df-convert:hover {\n",
              "      background-color: #E2EBFA;\n",
              "      box-shadow: 0px 1px 2px rgba(60, 64, 67, 0.3), 0px 1px 3px 1px rgba(60, 64, 67, 0.15);\n",
              "      fill: #174EA6;\n",
              "    }\n",
              "\n",
              "    [theme=dark] .colab-df-convert {\n",
              "      background-color: #3B4455;\n",
              "      fill: #D2E3FC;\n",
              "    }\n",
              "\n",
              "    [theme=dark] .colab-df-convert:hover {\n",
              "      background-color: #434B5C;\n",
              "      box-shadow: 0px 1px 3px 1px rgba(0, 0, 0, 0.15);\n",
              "      filter: drop-shadow(0px 1px 2px rgba(0, 0, 0, 0.3));\n",
              "      fill: #FFFFFF;\n",
              "    }\n",
              "  </style>\n",
              "\n",
              "      <script>\n",
              "        const buttonEl =\n",
              "          document.querySelector('#df-5bf123eb-8017-4908-b2c1-d74df973be1d button.colab-df-convert');\n",
              "        buttonEl.style.display =\n",
              "          google.colab.kernel.accessAllowed ? 'block' : 'none';\n",
              "\n",
              "        async function convertToInteractive(key) {\n",
              "          const element = document.querySelector('#df-5bf123eb-8017-4908-b2c1-d74df973be1d');\n",
              "          const dataTable =\n",
              "            await google.colab.kernel.invokeFunction('convertToInteractive',\n",
              "                                                     [key], {});\n",
              "          if (!dataTable) return;\n",
              "\n",
              "          const docLinkHtml = 'Like what you see? Visit the ' +\n",
              "            '<a target=\"_blank\" href=https://colab.research.google.com/notebooks/data_table.ipynb>data table notebook</a>'\n",
              "            + ' to learn more about interactive tables.';\n",
              "          element.innerHTML = '';\n",
              "          dataTable['output_type'] = 'display_data';\n",
              "          await google.colab.output.renderOutput(dataTable, element);\n",
              "          const docLink = document.createElement('div');\n",
              "          docLink.innerHTML = docLinkHtml;\n",
              "          element.appendChild(docLink);\n",
              "        }\n",
              "      </script>\n",
              "    </div>\n",
              "  </div>\n",
              "  "
            ],
            "text/plain": [
              "            order_time           order_date  ... session_time cancelled_time\n",
              "0  2021-01-26 02:21:35  2021-01-26 00:00:00  ...          NaN            NaN\n",
              "1  2021-01-26 02:33:16  2021-01-26 00:00:00  ...     3.266667            NaN\n",
              "2  2021-01-26 02:39:49  2021-01-26 00:00:00  ...     9.816667            NaN\n",
              "3  2021-01-26 02:47:53  2021-01-26 00:00:00  ...    17.533333            NaN\n",
              "4  2021-01-26 03:06:30  2021-01-26 00:00:00  ...     1.350000            NaN\n",
              "\n",
              "[5 rows x 17 columns]"
            ]
          },
          "metadata": {},
          "execution_count": 21
        }
      ],
      "source": [
        "df.head()"
      ]
    },
    {
      "cell_type": "code",
      "execution_count": 22,
      "metadata": {
        "id": "uMXQZK3DqyS4"
      },
      "outputs": [],
      "source": [
        "df_test = df_test.drop(['order_id'],axis=1)"
      ]
    },
    {
      "cell_type": "code",
      "execution_count": 23,
      "metadata": {
        "colab": {
          "base_uri": "https://localhost:8080/"
        },
        "id": "tsYb753grkKv",
        "outputId": "a8b06ace-b21b-47c8-ef81-39d72cfbfafa"
      },
      "outputs": [
        {
          "output_type": "execute_result",
          "data": {
            "text/plain": [
              "order_time                   0\n",
              "order_date                   0\n",
              "allot_time                   0\n",
              "accept_time                157\n",
              "rider_id                     0\n",
              "first_mile_distance          0\n",
              "last_mile_distance           0\n",
              "alloted_orders           16948\n",
              "delivered_orders         17341\n",
              "cancelled                    0\n",
              "undelivered_orders       17341\n",
              "lifetime_order_count        53\n",
              "reassignment_method     436256\n",
              "reassignment_reason     436247\n",
              "reassigned_order        436247\n",
              "session_time              3675\n",
              "cancelled_time          444782\n",
              "dtype: int64"
            ]
          },
          "metadata": {},
          "execution_count": 23
        }
      ],
      "source": [
        "df.isnull().sum()"
      ]
    },
    {
      "cell_type": "code",
      "execution_count": 24,
      "metadata": {
        "colab": {
          "base_uri": "https://localhost:8080/"
        },
        "id": "kI6oL0XQsBJo",
        "outputId": "5a66df33-c445-4819-d19b-6c6708b9c7f6"
      },
      "outputs": [
        {
          "output_type": "execute_result",
          "data": {
            "text/plain": [
              "0    444782\n",
              "1      5218\n",
              "Name: cancelled, dtype: int64"
            ]
          },
          "metadata": {},
          "execution_count": 24
        }
      ],
      "source": [
        "df['cancelled'].value_counts()"
      ]
    },
    {
      "cell_type": "code",
      "execution_count": 25,
      "metadata": {
        "colab": {
          "base_uri": "https://localhost:8080/"
        },
        "id": "YM9mBt5gsssS",
        "outputId": "ffb9195f-b710-4ce1-d226-17e3073a8fe0"
      },
      "outputs": [
        {
          "output_type": "stream",
          "name": "stdout",
          "text": [
            "Data type of order_time column of Dataframe :\n",
            "object\n",
            "Data type of order_date column of Dataframe :\n",
            "object\n",
            "Data type of allot_time column of Dataframe :\n",
            "object\n",
            "Data type of accept_time column of Dataframe :\n",
            "object\n",
            "Data type of rider_id column of Dataframe :\n",
            "int64\n",
            "Data type of first_mile_distance column of Dataframe :\n",
            "float64\n",
            "Data type of last_mile_distance column of Dataframe :\n",
            "float64\n",
            "Data type of alloted_orders column of Dataframe :\n",
            "float64\n",
            "Data type of delivered_orders column of Dataframe :\n",
            "float64\n",
            "Data type of cancelled column of Dataframe :\n",
            "int64\n",
            "Data type of undelivered_orders column of Dataframe :\n",
            "float64\n",
            "Data type of lifetime_order_count column of Dataframe :\n",
            "float64\n",
            "Data type of reassignment_method column of Dataframe :\n",
            "object\n",
            "Data type of reassignment_reason column of Dataframe :\n",
            "object\n",
            "Data type of reassigned_order column of Dataframe :\n",
            "float64\n",
            "Data type of session_time column of Dataframe :\n",
            "float64\n",
            "Data type of cancelled_time column of Dataframe :\n",
            "object\n"
          ]
        }
      ],
      "source": [
        "for col in df.columns:  \n",
        "    dataTypeSeries = df[col].dtypes\n",
        "    print('Data type of '+ col+ ' column of Dataframe :')\n",
        "    print(dataTypeSeries)"
      ]
    },
    {
      "cell_type": "code",
      "execution_count": 26,
      "metadata": {
        "id": "_E87vKm5tkxy"
      },
      "outputs": [],
      "source": [
        "#creating the datetime column\n",
        "df['allot_time'] = pd.to_datetime(df['allot_time'].str.strip(), format='%Y/%m/%d %H:%M:%S')\n",
        "df_test['allot_time'] = pd.to_datetime(df_test['allot_time'].str.strip(), format='%Y/%m/%d %H:%M:%S')"
      ]
    },
    {
      "cell_type": "code",
      "execution_count": 27,
      "metadata": {
        "id": "15dDK5veulJ1"
      },
      "outputs": [],
      "source": [
        "df['accept_time'] = pd.to_datetime(df['accept_time'].str.strip(), format='%Y/%m/%d %H:%M:%S')\n",
        "df_test['accept_time'] = pd.to_datetime(df_test['accept_time'].str.strip(), format='%Y/%m/%d %H:%M:%S')"
      ]
    },
    {
      "cell_type": "code",
      "execution_count": 28,
      "metadata": {
        "colab": {
          "base_uri": "https://localhost:8080/"
        },
        "id": "aI-p5fu_pwoH",
        "outputId": "cf3bfc85-48a8-44e6-98b6-35f7143ca46b"
      },
      "outputs": [
        {
          "output_type": "stream",
          "name": "stdout",
          "text": [
            "Data type of order_time column of Dataframe :\n",
            "object\n",
            "Data type of order_date column of Dataframe :\n",
            "object\n",
            "Data type of allot_time column of Dataframe :\n",
            "datetime64[ns]\n",
            "Data type of accept_time column of Dataframe :\n",
            "datetime64[ns]\n",
            "Data type of rider_id column of Dataframe :\n",
            "int64\n",
            "Data type of first_mile_distance column of Dataframe :\n",
            "float64\n",
            "Data type of last_mile_distance column of Dataframe :\n",
            "float64\n",
            "Data type of alloted_orders column of Dataframe :\n",
            "float64\n",
            "Data type of delivered_orders column of Dataframe :\n",
            "float64\n",
            "Data type of cancelled column of Dataframe :\n",
            "int64\n",
            "Data type of undelivered_orders column of Dataframe :\n",
            "float64\n",
            "Data type of lifetime_order_count column of Dataframe :\n",
            "float64\n",
            "Data type of reassignment_method column of Dataframe :\n",
            "object\n",
            "Data type of reassignment_reason column of Dataframe :\n",
            "object\n",
            "Data type of reassigned_order column of Dataframe :\n",
            "float64\n",
            "Data type of session_time column of Dataframe :\n",
            "float64\n",
            "Data type of cancelled_time column of Dataframe :\n",
            "object\n"
          ]
        }
      ],
      "source": [
        "for col in df.columns:  \n",
        "    dataTypeSeries = df[col].dtypes\n",
        "    print('Data type of '+ col+ ' column of Dataframe :')\n",
        "    print(dataTypeSeries)"
      ]
    },
    {
      "cell_type": "code",
      "execution_count": 29,
      "metadata": {
        "id": "dxEcou8KutVk"
      },
      "outputs": [],
      "source": [
        "df['accept_to_allot'] = (df['accept_time'] - df['allot_time'])\n",
        "df_test['accept_to_allot'] = (df_test['accept_time'] - df_test['allot_time'])"
      ]
    },
    {
      "cell_type": "code",
      "execution_count": 30,
      "metadata": {
        "colab": {
          "base_uri": "https://localhost:8080/",
          "height": 357
        },
        "id": "zd_yrmMTvaJm",
        "outputId": "759132a6-4998-4a0f-d3e4-88a8b4251197"
      },
      "outputs": [
        {
          "output_type": "execute_result",
          "data": {
            "text/html": [
              "\n",
              "  <div id=\"df-54d5d134-b7b1-469e-9b6a-acf8a17d600c\">\n",
              "    <div class=\"colab-df-container\">\n",
              "      <div>\n",
              "<style scoped>\n",
              "    .dataframe tbody tr th:only-of-type {\n",
              "        vertical-align: middle;\n",
              "    }\n",
              "\n",
              "    .dataframe tbody tr th {\n",
              "        vertical-align: top;\n",
              "    }\n",
              "\n",
              "    .dataframe thead th {\n",
              "        text-align: right;\n",
              "    }\n",
              "</style>\n",
              "<table border=\"1\" class=\"dataframe\">\n",
              "  <thead>\n",
              "    <tr style=\"text-align: right;\">\n",
              "      <th></th>\n",
              "      <th>order_time</th>\n",
              "      <th>order_date</th>\n",
              "      <th>allot_time</th>\n",
              "      <th>accept_time</th>\n",
              "      <th>rider_id</th>\n",
              "      <th>first_mile_distance</th>\n",
              "      <th>last_mile_distance</th>\n",
              "      <th>alloted_orders</th>\n",
              "      <th>delivered_orders</th>\n",
              "      <th>cancelled</th>\n",
              "      <th>undelivered_orders</th>\n",
              "      <th>lifetime_order_count</th>\n",
              "      <th>reassignment_method</th>\n",
              "      <th>reassignment_reason</th>\n",
              "      <th>reassigned_order</th>\n",
              "      <th>session_time</th>\n",
              "      <th>cancelled_time</th>\n",
              "      <th>accept_to_allot</th>\n",
              "    </tr>\n",
              "  </thead>\n",
              "  <tbody>\n",
              "    <tr>\n",
              "      <th>0</th>\n",
              "      <td>2021-01-26 02:21:35</td>\n",
              "      <td>2021-01-26 00:00:00</td>\n",
              "      <td>2021-01-26 02:21:59</td>\n",
              "      <td>2021-01-26 02:22:08</td>\n",
              "      <td>11696</td>\n",
              "      <td>1.5666</td>\n",
              "      <td>2.65</td>\n",
              "      <td>46.0</td>\n",
              "      <td>46.0</td>\n",
              "      <td>0</td>\n",
              "      <td>0.0</td>\n",
              "      <td>621.0</td>\n",
              "      <td>NaN</td>\n",
              "      <td>NaN</td>\n",
              "      <td>NaN</td>\n",
              "      <td>NaN</td>\n",
              "      <td>NaN</td>\n",
              "      <td>0 days 00:00:09</td>\n",
              "    </tr>\n",
              "    <tr>\n",
              "      <th>1</th>\n",
              "      <td>2021-01-26 02:33:16</td>\n",
              "      <td>2021-01-26 00:00:00</td>\n",
              "      <td>2021-01-26 02:33:57</td>\n",
              "      <td>2021-01-26 02:34:45</td>\n",
              "      <td>18117</td>\n",
              "      <td>2.5207</td>\n",
              "      <td>2.76</td>\n",
              "      <td>8.0</td>\n",
              "      <td>8.0</td>\n",
              "      <td>0</td>\n",
              "      <td>0.0</td>\n",
              "      <td>105.0</td>\n",
              "      <td>NaN</td>\n",
              "      <td>NaN</td>\n",
              "      <td>NaN</td>\n",
              "      <td>3.266667</td>\n",
              "      <td>NaN</td>\n",
              "      <td>0 days 00:00:48</td>\n",
              "    </tr>\n",
              "    <tr>\n",
              "      <th>2</th>\n",
              "      <td>2021-01-26 02:39:49</td>\n",
              "      <td>2021-01-26 00:00:00</td>\n",
              "      <td>2021-01-26 02:39:57</td>\n",
              "      <td>2021-01-26 02:40:13</td>\n",
              "      <td>18623</td>\n",
              "      <td>2.2074</td>\n",
              "      <td>4.80</td>\n",
              "      <td>1.0</td>\n",
              "      <td>1.0</td>\n",
              "      <td>0</td>\n",
              "      <td>0.0</td>\n",
              "      <td>66.0</td>\n",
              "      <td>NaN</td>\n",
              "      <td>NaN</td>\n",
              "      <td>NaN</td>\n",
              "      <td>9.816667</td>\n",
              "      <td>NaN</td>\n",
              "      <td>0 days 00:00:16</td>\n",
              "    </tr>\n",
              "    <tr>\n",
              "      <th>3</th>\n",
              "      <td>2021-01-26 02:47:53</td>\n",
              "      <td>2021-01-26 00:00:00</td>\n",
              "      <td>2021-01-26 02:48:25</td>\n",
              "      <td>2021-01-26 02:49:06</td>\n",
              "      <td>15945</td>\n",
              "      <td>2.1894</td>\n",
              "      <td>6.38</td>\n",
              "      <td>1.0</td>\n",
              "      <td>1.0</td>\n",
              "      <td>0</td>\n",
              "      <td>0.0</td>\n",
              "      <td>127.0</td>\n",
              "      <td>NaN</td>\n",
              "      <td>NaN</td>\n",
              "      <td>NaN</td>\n",
              "      <td>17.533333</td>\n",
              "      <td>NaN</td>\n",
              "      <td>0 days 00:00:41</td>\n",
              "    </tr>\n",
              "    <tr>\n",
              "      <th>4</th>\n",
              "      <td>2021-01-26 03:06:30</td>\n",
              "      <td>2021-01-26 00:00:00</td>\n",
              "      <td>2021-01-26 03:07:21</td>\n",
              "      <td>2021-01-26 03:07:57</td>\n",
              "      <td>17589</td>\n",
              "      <td>2.7870</td>\n",
              "      <td>4.01</td>\n",
              "      <td>34.0</td>\n",
              "      <td>34.0</td>\n",
              "      <td>0</td>\n",
              "      <td>0.0</td>\n",
              "      <td>84.0</td>\n",
              "      <td>NaN</td>\n",
              "      <td>NaN</td>\n",
              "      <td>NaN</td>\n",
              "      <td>1.350000</td>\n",
              "      <td>NaN</td>\n",
              "      <td>0 days 00:00:36</td>\n",
              "    </tr>\n",
              "  </tbody>\n",
              "</table>\n",
              "</div>\n",
              "      <button class=\"colab-df-convert\" onclick=\"convertToInteractive('df-54d5d134-b7b1-469e-9b6a-acf8a17d600c')\"\n",
              "              title=\"Convert this dataframe to an interactive table.\"\n",
              "              style=\"display:none;\">\n",
              "        \n",
              "  <svg xmlns=\"http://www.w3.org/2000/svg\" height=\"24px\"viewBox=\"0 0 24 24\"\n",
              "       width=\"24px\">\n",
              "    <path d=\"M0 0h24v24H0V0z\" fill=\"none\"/>\n",
              "    <path d=\"M18.56 5.44l.94 2.06.94-2.06 2.06-.94-2.06-.94-.94-2.06-.94 2.06-2.06.94zm-11 1L8.5 8.5l.94-2.06 2.06-.94-2.06-.94L8.5 2.5l-.94 2.06-2.06.94zm10 10l.94 2.06.94-2.06 2.06-.94-2.06-.94-.94-2.06-.94 2.06-2.06.94z\"/><path d=\"M17.41 7.96l-1.37-1.37c-.4-.4-.92-.59-1.43-.59-.52 0-1.04.2-1.43.59L10.3 9.45l-7.72 7.72c-.78.78-.78 2.05 0 2.83L4 21.41c.39.39.9.59 1.41.59.51 0 1.02-.2 1.41-.59l7.78-7.78 2.81-2.81c.8-.78.8-2.07 0-2.86zM5.41 20L4 18.59l7.72-7.72 1.47 1.35L5.41 20z\"/>\n",
              "  </svg>\n",
              "      </button>\n",
              "      \n",
              "  <style>\n",
              "    .colab-df-container {\n",
              "      display:flex;\n",
              "      flex-wrap:wrap;\n",
              "      gap: 12px;\n",
              "    }\n",
              "\n",
              "    .colab-df-convert {\n",
              "      background-color: #E8F0FE;\n",
              "      border: none;\n",
              "      border-radius: 50%;\n",
              "      cursor: pointer;\n",
              "      display: none;\n",
              "      fill: #1967D2;\n",
              "      height: 32px;\n",
              "      padding: 0 0 0 0;\n",
              "      width: 32px;\n",
              "    }\n",
              "\n",
              "    .colab-df-convert:hover {\n",
              "      background-color: #E2EBFA;\n",
              "      box-shadow: 0px 1px 2px rgba(60, 64, 67, 0.3), 0px 1px 3px 1px rgba(60, 64, 67, 0.15);\n",
              "      fill: #174EA6;\n",
              "    }\n",
              "\n",
              "    [theme=dark] .colab-df-convert {\n",
              "      background-color: #3B4455;\n",
              "      fill: #D2E3FC;\n",
              "    }\n",
              "\n",
              "    [theme=dark] .colab-df-convert:hover {\n",
              "      background-color: #434B5C;\n",
              "      box-shadow: 0px 1px 3px 1px rgba(0, 0, 0, 0.15);\n",
              "      filter: drop-shadow(0px 1px 2px rgba(0, 0, 0, 0.3));\n",
              "      fill: #FFFFFF;\n",
              "    }\n",
              "  </style>\n",
              "\n",
              "      <script>\n",
              "        const buttonEl =\n",
              "          document.querySelector('#df-54d5d134-b7b1-469e-9b6a-acf8a17d600c button.colab-df-convert');\n",
              "        buttonEl.style.display =\n",
              "          google.colab.kernel.accessAllowed ? 'block' : 'none';\n",
              "\n",
              "        async function convertToInteractive(key) {\n",
              "          const element = document.querySelector('#df-54d5d134-b7b1-469e-9b6a-acf8a17d600c');\n",
              "          const dataTable =\n",
              "            await google.colab.kernel.invokeFunction('convertToInteractive',\n",
              "                                                     [key], {});\n",
              "          if (!dataTable) return;\n",
              "\n",
              "          const docLinkHtml = 'Like what you see? Visit the ' +\n",
              "            '<a target=\"_blank\" href=https://colab.research.google.com/notebooks/data_table.ipynb>data table notebook</a>'\n",
              "            + ' to learn more about interactive tables.';\n",
              "          element.innerHTML = '';\n",
              "          dataTable['output_type'] = 'display_data';\n",
              "          await google.colab.output.renderOutput(dataTable, element);\n",
              "          const docLink = document.createElement('div');\n",
              "          docLink.innerHTML = docLinkHtml;\n",
              "          element.appendChild(docLink);\n",
              "        }\n",
              "      </script>\n",
              "    </div>\n",
              "  </div>\n",
              "  "
            ],
            "text/plain": [
              "            order_time           order_date  ... cancelled_time accept_to_allot\n",
              "0  2021-01-26 02:21:35  2021-01-26 00:00:00  ...            NaN 0 days 00:00:09\n",
              "1  2021-01-26 02:33:16  2021-01-26 00:00:00  ...            NaN 0 days 00:00:48\n",
              "2  2021-01-26 02:39:49  2021-01-26 00:00:00  ...            NaN 0 days 00:00:16\n",
              "3  2021-01-26 02:47:53  2021-01-26 00:00:00  ...            NaN 0 days 00:00:41\n",
              "4  2021-01-26 03:06:30  2021-01-26 00:00:00  ...            NaN 0 days 00:00:36\n",
              "\n",
              "[5 rows x 18 columns]"
            ]
          },
          "metadata": {},
          "execution_count": 30
        }
      ],
      "source": [
        "df.head()"
      ]
    },
    {
      "cell_type": "code",
      "execution_count": 31,
      "metadata": {
        "colab": {
          "base_uri": "https://localhost:8080/"
        },
        "id": "QzNCmtD6vb1p",
        "outputId": "6d9c826b-584d-4bca-9fcb-4ee12e433cb3"
      },
      "outputs": [
        {
          "output_type": "stream",
          "name": "stdout",
          "text": [
            "Data type of order_time column of Dataframe :\n",
            "object\n",
            "Data type of order_date column of Dataframe :\n",
            "object\n",
            "Data type of allot_time column of Dataframe :\n",
            "datetime64[ns]\n",
            "Data type of accept_time column of Dataframe :\n",
            "datetime64[ns]\n",
            "Data type of rider_id column of Dataframe :\n",
            "int64\n",
            "Data type of first_mile_distance column of Dataframe :\n",
            "float64\n",
            "Data type of last_mile_distance column of Dataframe :\n",
            "float64\n",
            "Data type of alloted_orders column of Dataframe :\n",
            "float64\n",
            "Data type of delivered_orders column of Dataframe :\n",
            "float64\n",
            "Data type of cancelled column of Dataframe :\n",
            "int64\n",
            "Data type of undelivered_orders column of Dataframe :\n",
            "float64\n",
            "Data type of lifetime_order_count column of Dataframe :\n",
            "float64\n",
            "Data type of reassignment_method column of Dataframe :\n",
            "object\n",
            "Data type of reassignment_reason column of Dataframe :\n",
            "object\n",
            "Data type of reassigned_order column of Dataframe :\n",
            "float64\n",
            "Data type of session_time column of Dataframe :\n",
            "float64\n",
            "Data type of cancelled_time column of Dataframe :\n",
            "object\n",
            "Data type of accept_to_allot column of Dataframe :\n",
            "timedelta64[ns]\n"
          ]
        }
      ],
      "source": [
        "for col in df.columns:  \n",
        "    dataTypeSeries = df[col].dtypes\n",
        "    print('Data type of '+ col+ ' column of Dataframe :')\n",
        "    print(dataTypeSeries)"
      ]
    },
    {
      "cell_type": "code",
      "execution_count": 32,
      "metadata": {
        "colab": {
          "base_uri": "https://localhost:8080/"
        },
        "id": "ZcYhTD4mv79U",
        "outputId": "44cbbcd0-04b8-42ae-f11c-91ce0ac38ba6"
      },
      "outputs": [
        {
          "output_type": "execute_result",
          "data": {
            "text/plain": [
              "(450000, 18)"
            ]
          },
          "metadata": {},
          "execution_count": 32
        }
      ],
      "source": [
        "df.shape"
      ]
    },
    {
      "cell_type": "code",
      "execution_count": 33,
      "metadata": {
        "id": "fbQpeaY1qiOb"
      },
      "outputs": [],
      "source": [
        "df['accept_sec'] = df[:450000]['accept_to_allot'].astype('timedelta64[s]')\n",
        "df_test['accept_sec'] = df_test[:450000]['accept_to_allot'].astype('timedelta64[s]')"
      ]
    },
    {
      "cell_type": "code",
      "execution_count": 34,
      "metadata": {
        "colab": {
          "base_uri": "https://localhost:8080/",
          "height": 357
        },
        "id": "Yn9jC0k2rCT8",
        "outputId": "5146b839-be45-4cfe-d91f-795d913334b7"
      },
      "outputs": [
        {
          "output_type": "execute_result",
          "data": {
            "text/html": [
              "\n",
              "  <div id=\"df-b54cd88d-6a4a-4653-b20a-d72e7be82319\">\n",
              "    <div class=\"colab-df-container\">\n",
              "      <div>\n",
              "<style scoped>\n",
              "    .dataframe tbody tr th:only-of-type {\n",
              "        vertical-align: middle;\n",
              "    }\n",
              "\n",
              "    .dataframe tbody tr th {\n",
              "        vertical-align: top;\n",
              "    }\n",
              "\n",
              "    .dataframe thead th {\n",
              "        text-align: right;\n",
              "    }\n",
              "</style>\n",
              "<table border=\"1\" class=\"dataframe\">\n",
              "  <thead>\n",
              "    <tr style=\"text-align: right;\">\n",
              "      <th></th>\n",
              "      <th>order_time</th>\n",
              "      <th>order_date</th>\n",
              "      <th>allot_time</th>\n",
              "      <th>accept_time</th>\n",
              "      <th>rider_id</th>\n",
              "      <th>first_mile_distance</th>\n",
              "      <th>last_mile_distance</th>\n",
              "      <th>alloted_orders</th>\n",
              "      <th>delivered_orders</th>\n",
              "      <th>cancelled</th>\n",
              "      <th>undelivered_orders</th>\n",
              "      <th>lifetime_order_count</th>\n",
              "      <th>reassignment_method</th>\n",
              "      <th>reassignment_reason</th>\n",
              "      <th>reassigned_order</th>\n",
              "      <th>session_time</th>\n",
              "      <th>cancelled_time</th>\n",
              "      <th>accept_to_allot</th>\n",
              "      <th>accept_sec</th>\n",
              "    </tr>\n",
              "  </thead>\n",
              "  <tbody>\n",
              "    <tr>\n",
              "      <th>0</th>\n",
              "      <td>2021-01-26 02:21:35</td>\n",
              "      <td>2021-01-26 00:00:00</td>\n",
              "      <td>2021-01-26 02:21:59</td>\n",
              "      <td>2021-01-26 02:22:08</td>\n",
              "      <td>11696</td>\n",
              "      <td>1.5666</td>\n",
              "      <td>2.65</td>\n",
              "      <td>46.0</td>\n",
              "      <td>46.0</td>\n",
              "      <td>0</td>\n",
              "      <td>0.0</td>\n",
              "      <td>621.0</td>\n",
              "      <td>NaN</td>\n",
              "      <td>NaN</td>\n",
              "      <td>NaN</td>\n",
              "      <td>NaN</td>\n",
              "      <td>NaN</td>\n",
              "      <td>0 days 00:00:09</td>\n",
              "      <td>9.0</td>\n",
              "    </tr>\n",
              "    <tr>\n",
              "      <th>1</th>\n",
              "      <td>2021-01-26 02:33:16</td>\n",
              "      <td>2021-01-26 00:00:00</td>\n",
              "      <td>2021-01-26 02:33:57</td>\n",
              "      <td>2021-01-26 02:34:45</td>\n",
              "      <td>18117</td>\n",
              "      <td>2.5207</td>\n",
              "      <td>2.76</td>\n",
              "      <td>8.0</td>\n",
              "      <td>8.0</td>\n",
              "      <td>0</td>\n",
              "      <td>0.0</td>\n",
              "      <td>105.0</td>\n",
              "      <td>NaN</td>\n",
              "      <td>NaN</td>\n",
              "      <td>NaN</td>\n",
              "      <td>3.266667</td>\n",
              "      <td>NaN</td>\n",
              "      <td>0 days 00:00:48</td>\n",
              "      <td>48.0</td>\n",
              "    </tr>\n",
              "    <tr>\n",
              "      <th>2</th>\n",
              "      <td>2021-01-26 02:39:49</td>\n",
              "      <td>2021-01-26 00:00:00</td>\n",
              "      <td>2021-01-26 02:39:57</td>\n",
              "      <td>2021-01-26 02:40:13</td>\n",
              "      <td>18623</td>\n",
              "      <td>2.2074</td>\n",
              "      <td>4.80</td>\n",
              "      <td>1.0</td>\n",
              "      <td>1.0</td>\n",
              "      <td>0</td>\n",
              "      <td>0.0</td>\n",
              "      <td>66.0</td>\n",
              "      <td>NaN</td>\n",
              "      <td>NaN</td>\n",
              "      <td>NaN</td>\n",
              "      <td>9.816667</td>\n",
              "      <td>NaN</td>\n",
              "      <td>0 days 00:00:16</td>\n",
              "      <td>16.0</td>\n",
              "    </tr>\n",
              "    <tr>\n",
              "      <th>3</th>\n",
              "      <td>2021-01-26 02:47:53</td>\n",
              "      <td>2021-01-26 00:00:00</td>\n",
              "      <td>2021-01-26 02:48:25</td>\n",
              "      <td>2021-01-26 02:49:06</td>\n",
              "      <td>15945</td>\n",
              "      <td>2.1894</td>\n",
              "      <td>6.38</td>\n",
              "      <td>1.0</td>\n",
              "      <td>1.0</td>\n",
              "      <td>0</td>\n",
              "      <td>0.0</td>\n",
              "      <td>127.0</td>\n",
              "      <td>NaN</td>\n",
              "      <td>NaN</td>\n",
              "      <td>NaN</td>\n",
              "      <td>17.533333</td>\n",
              "      <td>NaN</td>\n",
              "      <td>0 days 00:00:41</td>\n",
              "      <td>41.0</td>\n",
              "    </tr>\n",
              "    <tr>\n",
              "      <th>4</th>\n",
              "      <td>2021-01-26 03:06:30</td>\n",
              "      <td>2021-01-26 00:00:00</td>\n",
              "      <td>2021-01-26 03:07:21</td>\n",
              "      <td>2021-01-26 03:07:57</td>\n",
              "      <td>17589</td>\n",
              "      <td>2.7870</td>\n",
              "      <td>4.01</td>\n",
              "      <td>34.0</td>\n",
              "      <td>34.0</td>\n",
              "      <td>0</td>\n",
              "      <td>0.0</td>\n",
              "      <td>84.0</td>\n",
              "      <td>NaN</td>\n",
              "      <td>NaN</td>\n",
              "      <td>NaN</td>\n",
              "      <td>1.350000</td>\n",
              "      <td>NaN</td>\n",
              "      <td>0 days 00:00:36</td>\n",
              "      <td>36.0</td>\n",
              "    </tr>\n",
              "  </tbody>\n",
              "</table>\n",
              "</div>\n",
              "      <button class=\"colab-df-convert\" onclick=\"convertToInteractive('df-b54cd88d-6a4a-4653-b20a-d72e7be82319')\"\n",
              "              title=\"Convert this dataframe to an interactive table.\"\n",
              "              style=\"display:none;\">\n",
              "        \n",
              "  <svg xmlns=\"http://www.w3.org/2000/svg\" height=\"24px\"viewBox=\"0 0 24 24\"\n",
              "       width=\"24px\">\n",
              "    <path d=\"M0 0h24v24H0V0z\" fill=\"none\"/>\n",
              "    <path d=\"M18.56 5.44l.94 2.06.94-2.06 2.06-.94-2.06-.94-.94-2.06-.94 2.06-2.06.94zm-11 1L8.5 8.5l.94-2.06 2.06-.94-2.06-.94L8.5 2.5l-.94 2.06-2.06.94zm10 10l.94 2.06.94-2.06 2.06-.94-2.06-.94-.94-2.06-.94 2.06-2.06.94z\"/><path d=\"M17.41 7.96l-1.37-1.37c-.4-.4-.92-.59-1.43-.59-.52 0-1.04.2-1.43.59L10.3 9.45l-7.72 7.72c-.78.78-.78 2.05 0 2.83L4 21.41c.39.39.9.59 1.41.59.51 0 1.02-.2 1.41-.59l7.78-7.78 2.81-2.81c.8-.78.8-2.07 0-2.86zM5.41 20L4 18.59l7.72-7.72 1.47 1.35L5.41 20z\"/>\n",
              "  </svg>\n",
              "      </button>\n",
              "      \n",
              "  <style>\n",
              "    .colab-df-container {\n",
              "      display:flex;\n",
              "      flex-wrap:wrap;\n",
              "      gap: 12px;\n",
              "    }\n",
              "\n",
              "    .colab-df-convert {\n",
              "      background-color: #E8F0FE;\n",
              "      border: none;\n",
              "      border-radius: 50%;\n",
              "      cursor: pointer;\n",
              "      display: none;\n",
              "      fill: #1967D2;\n",
              "      height: 32px;\n",
              "      padding: 0 0 0 0;\n",
              "      width: 32px;\n",
              "    }\n",
              "\n",
              "    .colab-df-convert:hover {\n",
              "      background-color: #E2EBFA;\n",
              "      box-shadow: 0px 1px 2px rgba(60, 64, 67, 0.3), 0px 1px 3px 1px rgba(60, 64, 67, 0.15);\n",
              "      fill: #174EA6;\n",
              "    }\n",
              "\n",
              "    [theme=dark] .colab-df-convert {\n",
              "      background-color: #3B4455;\n",
              "      fill: #D2E3FC;\n",
              "    }\n",
              "\n",
              "    [theme=dark] .colab-df-convert:hover {\n",
              "      background-color: #434B5C;\n",
              "      box-shadow: 0px 1px 3px 1px rgba(0, 0, 0, 0.15);\n",
              "      filter: drop-shadow(0px 1px 2px rgba(0, 0, 0, 0.3));\n",
              "      fill: #FFFFFF;\n",
              "    }\n",
              "  </style>\n",
              "\n",
              "      <script>\n",
              "        const buttonEl =\n",
              "          document.querySelector('#df-b54cd88d-6a4a-4653-b20a-d72e7be82319 button.colab-df-convert');\n",
              "        buttonEl.style.display =\n",
              "          google.colab.kernel.accessAllowed ? 'block' : 'none';\n",
              "\n",
              "        async function convertToInteractive(key) {\n",
              "          const element = document.querySelector('#df-b54cd88d-6a4a-4653-b20a-d72e7be82319');\n",
              "          const dataTable =\n",
              "            await google.colab.kernel.invokeFunction('convertToInteractive',\n",
              "                                                     [key], {});\n",
              "          if (!dataTable) return;\n",
              "\n",
              "          const docLinkHtml = 'Like what you see? Visit the ' +\n",
              "            '<a target=\"_blank\" href=https://colab.research.google.com/notebooks/data_table.ipynb>data table notebook</a>'\n",
              "            + ' to learn more about interactive tables.';\n",
              "          element.innerHTML = '';\n",
              "          dataTable['output_type'] = 'display_data';\n",
              "          await google.colab.output.renderOutput(dataTable, element);\n",
              "          const docLink = document.createElement('div');\n",
              "          docLink.innerHTML = docLinkHtml;\n",
              "          element.appendChild(docLink);\n",
              "        }\n",
              "      </script>\n",
              "    </div>\n",
              "  </div>\n",
              "  "
            ],
            "text/plain": [
              "            order_time           order_date  ... accept_to_allot accept_sec\n",
              "0  2021-01-26 02:21:35  2021-01-26 00:00:00  ... 0 days 00:00:09        9.0\n",
              "1  2021-01-26 02:33:16  2021-01-26 00:00:00  ... 0 days 00:00:48       48.0\n",
              "2  2021-01-26 02:39:49  2021-01-26 00:00:00  ... 0 days 00:00:16       16.0\n",
              "3  2021-01-26 02:47:53  2021-01-26 00:00:00  ... 0 days 00:00:41       41.0\n",
              "4  2021-01-26 03:06:30  2021-01-26 00:00:00  ... 0 days 00:00:36       36.0\n",
              "\n",
              "[5 rows x 19 columns]"
            ]
          },
          "metadata": {},
          "execution_count": 34
        }
      ],
      "source": [
        "df.head()"
      ]
    },
    {
      "cell_type": "code",
      "execution_count": 35,
      "metadata": {
        "colab": {
          "base_uri": "https://localhost:8080/",
          "height": 357
        },
        "id": "402504nrrjdI",
        "outputId": "bdd434f1-0183-4dbb-8d95-73f2b09168d0"
      },
      "outputs": [
        {
          "output_type": "execute_result",
          "data": {
            "text/html": [
              "\n",
              "  <div id=\"df-4c6d48b7-3f8d-4dd5-9f80-a9f2256713ce\">\n",
              "    <div class=\"colab-df-container\">\n",
              "      <div>\n",
              "<style scoped>\n",
              "    .dataframe tbody tr th:only-of-type {\n",
              "        vertical-align: middle;\n",
              "    }\n",
              "\n",
              "    .dataframe tbody tr th {\n",
              "        vertical-align: top;\n",
              "    }\n",
              "\n",
              "    .dataframe thead th {\n",
              "        text-align: right;\n",
              "    }\n",
              "</style>\n",
              "<table border=\"1\" class=\"dataframe\">\n",
              "  <thead>\n",
              "    <tr style=\"text-align: right;\">\n",
              "      <th></th>\n",
              "      <th>order_time</th>\n",
              "      <th>order_date</th>\n",
              "      <th>allot_time</th>\n",
              "      <th>accept_time</th>\n",
              "      <th>rider_id</th>\n",
              "      <th>first_mile_distance</th>\n",
              "      <th>last_mile_distance</th>\n",
              "      <th>alloted_orders</th>\n",
              "      <th>delivered_orders</th>\n",
              "      <th>undelivered_orders</th>\n",
              "      <th>lifetime_order_count</th>\n",
              "      <th>reassignment_method</th>\n",
              "      <th>reassignment_reason</th>\n",
              "      <th>reassigned_order</th>\n",
              "      <th>session_time</th>\n",
              "      <th>accept_to_allot</th>\n",
              "      <th>accept_sec</th>\n",
              "    </tr>\n",
              "  </thead>\n",
              "  <tbody>\n",
              "    <tr>\n",
              "      <th>0</th>\n",
              "      <td>2021-02-06 10:03:24</td>\n",
              "      <td>2021-02-06 00:00:00</td>\n",
              "      <td>2021-02-06 10:03:49</td>\n",
              "      <td>2021-02-06 10:04:15</td>\n",
              "      <td>12884</td>\n",
              "      <td>1.6585</td>\n",
              "      <td>4.54</td>\n",
              "      <td>216.0</td>\n",
              "      <td>215.0</td>\n",
              "      <td>1.0</td>\n",
              "      <td>747.0</td>\n",
              "      <td>NaN</td>\n",
              "      <td>NaN</td>\n",
              "      <td>NaN</td>\n",
              "      <td>273.400000</td>\n",
              "      <td>0 days 00:00:26</td>\n",
              "      <td>26.0</td>\n",
              "    </tr>\n",
              "    <tr>\n",
              "      <th>1</th>\n",
              "      <td>2021-02-06 10:03:26</td>\n",
              "      <td>2021-02-06 00:00:00</td>\n",
              "      <td>2021-02-06 10:03:27</td>\n",
              "      <td>2021-02-06 10:03:36</td>\n",
              "      <td>3541</td>\n",
              "      <td>2.0709</td>\n",
              "      <td>5.84</td>\n",
              "      <td>52.0</td>\n",
              "      <td>52.0</td>\n",
              "      <td>0.0</td>\n",
              "      <td>75.0</td>\n",
              "      <td>NaN</td>\n",
              "      <td>NaN</td>\n",
              "      <td>NaN</td>\n",
              "      <td>252.100000</td>\n",
              "      <td>0 days 00:00:09</td>\n",
              "      <td>9.0</td>\n",
              "    </tr>\n",
              "    <tr>\n",
              "      <th>2</th>\n",
              "      <td>2021-02-06 10:03:27</td>\n",
              "      <td>2021-02-06 00:00:00</td>\n",
              "      <td>2021-02-06 10:04:14</td>\n",
              "      <td>2021-02-06 10:05:34</td>\n",
              "      <td>603</td>\n",
              "      <td>1.3884</td>\n",
              "      <td>0.99</td>\n",
              "      <td>289.0</td>\n",
              "      <td>289.0</td>\n",
              "      <td>0.0</td>\n",
              "      <td>2214.0</td>\n",
              "      <td>NaN</td>\n",
              "      <td>NaN</td>\n",
              "      <td>NaN</td>\n",
              "      <td>241.383333</td>\n",
              "      <td>0 days 00:01:20</td>\n",
              "      <td>80.0</td>\n",
              "    </tr>\n",
              "    <tr>\n",
              "      <th>3</th>\n",
              "      <td>2021-02-06 10:03:29</td>\n",
              "      <td>2021-02-06 00:00:00</td>\n",
              "      <td>2021-02-06 10:03:30</td>\n",
              "      <td>2021-02-06 10:03:53</td>\n",
              "      <td>3414</td>\n",
              "      <td>1.9039</td>\n",
              "      <td>2.59</td>\n",
              "      <td>125.0</td>\n",
              "      <td>122.0</td>\n",
              "      <td>3.0</td>\n",
              "      <td>1020.0</td>\n",
              "      <td>NaN</td>\n",
              "      <td>NaN</td>\n",
              "      <td>NaN</td>\n",
              "      <td>291.933333</td>\n",
              "      <td>0 days 00:00:23</td>\n",
              "      <td>23.0</td>\n",
              "    </tr>\n",
              "    <tr>\n",
              "      <th>4</th>\n",
              "      <td>2021-02-06 10:03:35</td>\n",
              "      <td>2021-02-06 00:00:00</td>\n",
              "      <td>2021-02-06 10:03:43</td>\n",
              "      <td>2021-02-06 10:04:43</td>\n",
              "      <td>1426</td>\n",
              "      <td>0.8275</td>\n",
              "      <td>0.94</td>\n",
              "      <td>352.0</td>\n",
              "      <td>350.0</td>\n",
              "      <td>2.0</td>\n",
              "      <td>7284.0</td>\n",
              "      <td>NaN</td>\n",
              "      <td>NaN</td>\n",
              "      <td>NaN</td>\n",
              "      <td>247.133333</td>\n",
              "      <td>0 days 00:01:00</td>\n",
              "      <td>60.0</td>\n",
              "    </tr>\n",
              "  </tbody>\n",
              "</table>\n",
              "</div>\n",
              "      <button class=\"colab-df-convert\" onclick=\"convertToInteractive('df-4c6d48b7-3f8d-4dd5-9f80-a9f2256713ce')\"\n",
              "              title=\"Convert this dataframe to an interactive table.\"\n",
              "              style=\"display:none;\">\n",
              "        \n",
              "  <svg xmlns=\"http://www.w3.org/2000/svg\" height=\"24px\"viewBox=\"0 0 24 24\"\n",
              "       width=\"24px\">\n",
              "    <path d=\"M0 0h24v24H0V0z\" fill=\"none\"/>\n",
              "    <path d=\"M18.56 5.44l.94 2.06.94-2.06 2.06-.94-2.06-.94-.94-2.06-.94 2.06-2.06.94zm-11 1L8.5 8.5l.94-2.06 2.06-.94-2.06-.94L8.5 2.5l-.94 2.06-2.06.94zm10 10l.94 2.06.94-2.06 2.06-.94-2.06-.94-.94-2.06-.94 2.06-2.06.94z\"/><path d=\"M17.41 7.96l-1.37-1.37c-.4-.4-.92-.59-1.43-.59-.52 0-1.04.2-1.43.59L10.3 9.45l-7.72 7.72c-.78.78-.78 2.05 0 2.83L4 21.41c.39.39.9.59 1.41.59.51 0 1.02-.2 1.41-.59l7.78-7.78 2.81-2.81c.8-.78.8-2.07 0-2.86zM5.41 20L4 18.59l7.72-7.72 1.47 1.35L5.41 20z\"/>\n",
              "  </svg>\n",
              "      </button>\n",
              "      \n",
              "  <style>\n",
              "    .colab-df-container {\n",
              "      display:flex;\n",
              "      flex-wrap:wrap;\n",
              "      gap: 12px;\n",
              "    }\n",
              "\n",
              "    .colab-df-convert {\n",
              "      background-color: #E8F0FE;\n",
              "      border: none;\n",
              "      border-radius: 50%;\n",
              "      cursor: pointer;\n",
              "      display: none;\n",
              "      fill: #1967D2;\n",
              "      height: 32px;\n",
              "      padding: 0 0 0 0;\n",
              "      width: 32px;\n",
              "    }\n",
              "\n",
              "    .colab-df-convert:hover {\n",
              "      background-color: #E2EBFA;\n",
              "      box-shadow: 0px 1px 2px rgba(60, 64, 67, 0.3), 0px 1px 3px 1px rgba(60, 64, 67, 0.15);\n",
              "      fill: #174EA6;\n",
              "    }\n",
              "\n",
              "    [theme=dark] .colab-df-convert {\n",
              "      background-color: #3B4455;\n",
              "      fill: #D2E3FC;\n",
              "    }\n",
              "\n",
              "    [theme=dark] .colab-df-convert:hover {\n",
              "      background-color: #434B5C;\n",
              "      box-shadow: 0px 1px 3px 1px rgba(0, 0, 0, 0.15);\n",
              "      filter: drop-shadow(0px 1px 2px rgba(0, 0, 0, 0.3));\n",
              "      fill: #FFFFFF;\n",
              "    }\n",
              "  </style>\n",
              "\n",
              "      <script>\n",
              "        const buttonEl =\n",
              "          document.querySelector('#df-4c6d48b7-3f8d-4dd5-9f80-a9f2256713ce button.colab-df-convert');\n",
              "        buttonEl.style.display =\n",
              "          google.colab.kernel.accessAllowed ? 'block' : 'none';\n",
              "\n",
              "        async function convertToInteractive(key) {\n",
              "          const element = document.querySelector('#df-4c6d48b7-3f8d-4dd5-9f80-a9f2256713ce');\n",
              "          const dataTable =\n",
              "            await google.colab.kernel.invokeFunction('convertToInteractive',\n",
              "                                                     [key], {});\n",
              "          if (!dataTable) return;\n",
              "\n",
              "          const docLinkHtml = 'Like what you see? Visit the ' +\n",
              "            '<a target=\"_blank\" href=https://colab.research.google.com/notebooks/data_table.ipynb>data table notebook</a>'\n",
              "            + ' to learn more about interactive tables.';\n",
              "          element.innerHTML = '';\n",
              "          dataTable['output_type'] = 'display_data';\n",
              "          await google.colab.output.renderOutput(dataTable, element);\n",
              "          const docLink = document.createElement('div');\n",
              "          docLink.innerHTML = docLinkHtml;\n",
              "          element.appendChild(docLink);\n",
              "        }\n",
              "      </script>\n",
              "    </div>\n",
              "  </div>\n",
              "  "
            ],
            "text/plain": [
              "            order_time           order_date  ... accept_to_allot accept_sec\n",
              "0  2021-02-06 10:03:24  2021-02-06 00:00:00  ... 0 days 00:00:26       26.0\n",
              "1  2021-02-06 10:03:26  2021-02-06 00:00:00  ... 0 days 00:00:09        9.0\n",
              "2  2021-02-06 10:03:27  2021-02-06 00:00:00  ... 0 days 00:01:20       80.0\n",
              "3  2021-02-06 10:03:29  2021-02-06 00:00:00  ... 0 days 00:00:23       23.0\n",
              "4  2021-02-06 10:03:35  2021-02-06 00:00:00  ... 0 days 00:01:00       60.0\n",
              "\n",
              "[5 rows x 17 columns]"
            ]
          },
          "metadata": {},
          "execution_count": 35
        }
      ],
      "source": [
        "df_test.head()"
      ]
    },
    {
      "cell_type": "code",
      "execution_count": 36,
      "metadata": {
        "id": "tkivqGLHs216"
      },
      "outputs": [],
      "source": [
        "#creating the datetime column\n",
        "df['order_time'] = pd.to_datetime(df['order_time'].str.strip(), format='%Y/%m/%d %H:%M:%S')\n",
        "df_test['order_time'] = pd.to_datetime(df_test['order_time'].str.strip(), format='%Y/%m/%d %H:%M:%S')"
      ]
    },
    {
      "cell_type": "code",
      "execution_count": 37,
      "metadata": {
        "id": "FpMD1raerPk3"
      },
      "outputs": [],
      "source": [
        "df['order_to_allot'] = (df['accept_time'] - df['order_time'])\n",
        "df_test['order_to_allot'] = (df_test['accept_time'] - df_test['order_time'])"
      ]
    },
    {
      "cell_type": "code",
      "execution_count": 38,
      "metadata": {
        "id": "vOzytt0ex-7_"
      },
      "outputs": [],
      "source": [
        "df['order_sec'] = df[:450000]['order_to_allot'].astype('timedelta64[s]')\n",
        "df_test['order_sec'] = df_test[:450000]['order_to_allot'].astype('timedelta64[s]')"
      ]
    },
    {
      "cell_type": "code",
      "execution_count": 39,
      "metadata": {
        "colab": {
          "base_uri": "https://localhost:8080/",
          "height": 357
        },
        "id": "iPmRJ_5FyLg6",
        "outputId": "5994398a-7957-4ba5-f4ab-832511265b4d"
      },
      "outputs": [
        {
          "output_type": "execute_result",
          "data": {
            "text/html": [
              "\n",
              "  <div id=\"df-6702ff2c-d91a-437b-beb6-1c7aa8f8e4cf\">\n",
              "    <div class=\"colab-df-container\">\n",
              "      <div>\n",
              "<style scoped>\n",
              "    .dataframe tbody tr th:only-of-type {\n",
              "        vertical-align: middle;\n",
              "    }\n",
              "\n",
              "    .dataframe tbody tr th {\n",
              "        vertical-align: top;\n",
              "    }\n",
              "\n",
              "    .dataframe thead th {\n",
              "        text-align: right;\n",
              "    }\n",
              "</style>\n",
              "<table border=\"1\" class=\"dataframe\">\n",
              "  <thead>\n",
              "    <tr style=\"text-align: right;\">\n",
              "      <th></th>\n",
              "      <th>order_time</th>\n",
              "      <th>order_date</th>\n",
              "      <th>allot_time</th>\n",
              "      <th>accept_time</th>\n",
              "      <th>rider_id</th>\n",
              "      <th>first_mile_distance</th>\n",
              "      <th>last_mile_distance</th>\n",
              "      <th>alloted_orders</th>\n",
              "      <th>delivered_orders</th>\n",
              "      <th>cancelled</th>\n",
              "      <th>undelivered_orders</th>\n",
              "      <th>lifetime_order_count</th>\n",
              "      <th>reassignment_method</th>\n",
              "      <th>reassignment_reason</th>\n",
              "      <th>reassigned_order</th>\n",
              "      <th>session_time</th>\n",
              "      <th>cancelled_time</th>\n",
              "      <th>accept_to_allot</th>\n",
              "      <th>accept_sec</th>\n",
              "      <th>order_to_allot</th>\n",
              "      <th>order_sec</th>\n",
              "    </tr>\n",
              "  </thead>\n",
              "  <tbody>\n",
              "    <tr>\n",
              "      <th>0</th>\n",
              "      <td>2021-01-26 02:21:35</td>\n",
              "      <td>2021-01-26 00:00:00</td>\n",
              "      <td>2021-01-26 02:21:59</td>\n",
              "      <td>2021-01-26 02:22:08</td>\n",
              "      <td>11696</td>\n",
              "      <td>1.5666</td>\n",
              "      <td>2.65</td>\n",
              "      <td>46.0</td>\n",
              "      <td>46.0</td>\n",
              "      <td>0</td>\n",
              "      <td>0.0</td>\n",
              "      <td>621.0</td>\n",
              "      <td>NaN</td>\n",
              "      <td>NaN</td>\n",
              "      <td>NaN</td>\n",
              "      <td>NaN</td>\n",
              "      <td>NaN</td>\n",
              "      <td>0 days 00:00:09</td>\n",
              "      <td>9.0</td>\n",
              "      <td>0 days 00:00:33</td>\n",
              "      <td>33.0</td>\n",
              "    </tr>\n",
              "    <tr>\n",
              "      <th>1</th>\n",
              "      <td>2021-01-26 02:33:16</td>\n",
              "      <td>2021-01-26 00:00:00</td>\n",
              "      <td>2021-01-26 02:33:57</td>\n",
              "      <td>2021-01-26 02:34:45</td>\n",
              "      <td>18117</td>\n",
              "      <td>2.5207</td>\n",
              "      <td>2.76</td>\n",
              "      <td>8.0</td>\n",
              "      <td>8.0</td>\n",
              "      <td>0</td>\n",
              "      <td>0.0</td>\n",
              "      <td>105.0</td>\n",
              "      <td>NaN</td>\n",
              "      <td>NaN</td>\n",
              "      <td>NaN</td>\n",
              "      <td>3.266667</td>\n",
              "      <td>NaN</td>\n",
              "      <td>0 days 00:00:48</td>\n",
              "      <td>48.0</td>\n",
              "      <td>0 days 00:01:29</td>\n",
              "      <td>89.0</td>\n",
              "    </tr>\n",
              "    <tr>\n",
              "      <th>2</th>\n",
              "      <td>2021-01-26 02:39:49</td>\n",
              "      <td>2021-01-26 00:00:00</td>\n",
              "      <td>2021-01-26 02:39:57</td>\n",
              "      <td>2021-01-26 02:40:13</td>\n",
              "      <td>18623</td>\n",
              "      <td>2.2074</td>\n",
              "      <td>4.80</td>\n",
              "      <td>1.0</td>\n",
              "      <td>1.0</td>\n",
              "      <td>0</td>\n",
              "      <td>0.0</td>\n",
              "      <td>66.0</td>\n",
              "      <td>NaN</td>\n",
              "      <td>NaN</td>\n",
              "      <td>NaN</td>\n",
              "      <td>9.816667</td>\n",
              "      <td>NaN</td>\n",
              "      <td>0 days 00:00:16</td>\n",
              "      <td>16.0</td>\n",
              "      <td>0 days 00:00:24</td>\n",
              "      <td>24.0</td>\n",
              "    </tr>\n",
              "    <tr>\n",
              "      <th>3</th>\n",
              "      <td>2021-01-26 02:47:53</td>\n",
              "      <td>2021-01-26 00:00:00</td>\n",
              "      <td>2021-01-26 02:48:25</td>\n",
              "      <td>2021-01-26 02:49:06</td>\n",
              "      <td>15945</td>\n",
              "      <td>2.1894</td>\n",
              "      <td>6.38</td>\n",
              "      <td>1.0</td>\n",
              "      <td>1.0</td>\n",
              "      <td>0</td>\n",
              "      <td>0.0</td>\n",
              "      <td>127.0</td>\n",
              "      <td>NaN</td>\n",
              "      <td>NaN</td>\n",
              "      <td>NaN</td>\n",
              "      <td>17.533333</td>\n",
              "      <td>NaN</td>\n",
              "      <td>0 days 00:00:41</td>\n",
              "      <td>41.0</td>\n",
              "      <td>0 days 00:01:13</td>\n",
              "      <td>73.0</td>\n",
              "    </tr>\n",
              "    <tr>\n",
              "      <th>4</th>\n",
              "      <td>2021-01-26 03:06:30</td>\n",
              "      <td>2021-01-26 00:00:00</td>\n",
              "      <td>2021-01-26 03:07:21</td>\n",
              "      <td>2021-01-26 03:07:57</td>\n",
              "      <td>17589</td>\n",
              "      <td>2.7870</td>\n",
              "      <td>4.01</td>\n",
              "      <td>34.0</td>\n",
              "      <td>34.0</td>\n",
              "      <td>0</td>\n",
              "      <td>0.0</td>\n",
              "      <td>84.0</td>\n",
              "      <td>NaN</td>\n",
              "      <td>NaN</td>\n",
              "      <td>NaN</td>\n",
              "      <td>1.350000</td>\n",
              "      <td>NaN</td>\n",
              "      <td>0 days 00:00:36</td>\n",
              "      <td>36.0</td>\n",
              "      <td>0 days 00:01:27</td>\n",
              "      <td>87.0</td>\n",
              "    </tr>\n",
              "  </tbody>\n",
              "</table>\n",
              "</div>\n",
              "      <button class=\"colab-df-convert\" onclick=\"convertToInteractive('df-6702ff2c-d91a-437b-beb6-1c7aa8f8e4cf')\"\n",
              "              title=\"Convert this dataframe to an interactive table.\"\n",
              "              style=\"display:none;\">\n",
              "        \n",
              "  <svg xmlns=\"http://www.w3.org/2000/svg\" height=\"24px\"viewBox=\"0 0 24 24\"\n",
              "       width=\"24px\">\n",
              "    <path d=\"M0 0h24v24H0V0z\" fill=\"none\"/>\n",
              "    <path d=\"M18.56 5.44l.94 2.06.94-2.06 2.06-.94-2.06-.94-.94-2.06-.94 2.06-2.06.94zm-11 1L8.5 8.5l.94-2.06 2.06-.94-2.06-.94L8.5 2.5l-.94 2.06-2.06.94zm10 10l.94 2.06.94-2.06 2.06-.94-2.06-.94-.94-2.06-.94 2.06-2.06.94z\"/><path d=\"M17.41 7.96l-1.37-1.37c-.4-.4-.92-.59-1.43-.59-.52 0-1.04.2-1.43.59L10.3 9.45l-7.72 7.72c-.78.78-.78 2.05 0 2.83L4 21.41c.39.39.9.59 1.41.59.51 0 1.02-.2 1.41-.59l7.78-7.78 2.81-2.81c.8-.78.8-2.07 0-2.86zM5.41 20L4 18.59l7.72-7.72 1.47 1.35L5.41 20z\"/>\n",
              "  </svg>\n",
              "      </button>\n",
              "      \n",
              "  <style>\n",
              "    .colab-df-container {\n",
              "      display:flex;\n",
              "      flex-wrap:wrap;\n",
              "      gap: 12px;\n",
              "    }\n",
              "\n",
              "    .colab-df-convert {\n",
              "      background-color: #E8F0FE;\n",
              "      border: none;\n",
              "      border-radius: 50%;\n",
              "      cursor: pointer;\n",
              "      display: none;\n",
              "      fill: #1967D2;\n",
              "      height: 32px;\n",
              "      padding: 0 0 0 0;\n",
              "      width: 32px;\n",
              "    }\n",
              "\n",
              "    .colab-df-convert:hover {\n",
              "      background-color: #E2EBFA;\n",
              "      box-shadow: 0px 1px 2px rgba(60, 64, 67, 0.3), 0px 1px 3px 1px rgba(60, 64, 67, 0.15);\n",
              "      fill: #174EA6;\n",
              "    }\n",
              "\n",
              "    [theme=dark] .colab-df-convert {\n",
              "      background-color: #3B4455;\n",
              "      fill: #D2E3FC;\n",
              "    }\n",
              "\n",
              "    [theme=dark] .colab-df-convert:hover {\n",
              "      background-color: #434B5C;\n",
              "      box-shadow: 0px 1px 3px 1px rgba(0, 0, 0, 0.15);\n",
              "      filter: drop-shadow(0px 1px 2px rgba(0, 0, 0, 0.3));\n",
              "      fill: #FFFFFF;\n",
              "    }\n",
              "  </style>\n",
              "\n",
              "      <script>\n",
              "        const buttonEl =\n",
              "          document.querySelector('#df-6702ff2c-d91a-437b-beb6-1c7aa8f8e4cf button.colab-df-convert');\n",
              "        buttonEl.style.display =\n",
              "          google.colab.kernel.accessAllowed ? 'block' : 'none';\n",
              "\n",
              "        async function convertToInteractive(key) {\n",
              "          const element = document.querySelector('#df-6702ff2c-d91a-437b-beb6-1c7aa8f8e4cf');\n",
              "          const dataTable =\n",
              "            await google.colab.kernel.invokeFunction('convertToInteractive',\n",
              "                                                     [key], {});\n",
              "          if (!dataTable) return;\n",
              "\n",
              "          const docLinkHtml = 'Like what you see? Visit the ' +\n",
              "            '<a target=\"_blank\" href=https://colab.research.google.com/notebooks/data_table.ipynb>data table notebook</a>'\n",
              "            + ' to learn more about interactive tables.';\n",
              "          element.innerHTML = '';\n",
              "          dataTable['output_type'] = 'display_data';\n",
              "          await google.colab.output.renderOutput(dataTable, element);\n",
              "          const docLink = document.createElement('div');\n",
              "          docLink.innerHTML = docLinkHtml;\n",
              "          element.appendChild(docLink);\n",
              "        }\n",
              "      </script>\n",
              "    </div>\n",
              "  </div>\n",
              "  "
            ],
            "text/plain": [
              "           order_time           order_date  ...  order_to_allot order_sec\n",
              "0 2021-01-26 02:21:35  2021-01-26 00:00:00  ... 0 days 00:00:33      33.0\n",
              "1 2021-01-26 02:33:16  2021-01-26 00:00:00  ... 0 days 00:01:29      89.0\n",
              "2 2021-01-26 02:39:49  2021-01-26 00:00:00  ... 0 days 00:00:24      24.0\n",
              "3 2021-01-26 02:47:53  2021-01-26 00:00:00  ... 0 days 00:01:13      73.0\n",
              "4 2021-01-26 03:06:30  2021-01-26 00:00:00  ... 0 days 00:01:27      87.0\n",
              "\n",
              "[5 rows x 21 columns]"
            ]
          },
          "metadata": {},
          "execution_count": 39
        }
      ],
      "source": [
        "df.head()"
      ]
    },
    {
      "cell_type": "code",
      "execution_count": 40,
      "metadata": {
        "id": "GgcV1NbdynsM"
      },
      "outputs": [],
      "source": [
        "df_test = df_test.drop(['order_time','allot_time','accept_time','accept_to_allot','order_to_allot'],axis=1)\n",
        "df= df.drop(['order_time','allot_time','accept_time','accept_to_allot','order_to_allot'],axis=1)"
      ]
    },
    {
      "cell_type": "code",
      "execution_count": 41,
      "metadata": {
        "id": "_71EIF56zAHl"
      },
      "outputs": [],
      "source": [
        "df['order_date'] = pd.to_datetime(df['order_date'].str.strip(), format='%Y/%m/%d %H:%M:%S')\n",
        "df_test['order_date'] = pd.to_datetime(df_test['order_date'].str.strip(), format='%Y/%m/%d %H:%M:%S')"
      ]
    },
    {
      "cell_type": "code",
      "execution_count": 42,
      "metadata": {
        "id": "L3E-nPh1zNut"
      },
      "outputs": [],
      "source": [
        "\n",
        "df['month'] = pd.DatetimeIndex(df['order_date']).month\n",
        "\n",
        "\n",
        "\n",
        "df_test['month'] = pd.DatetimeIndex(df_test['order_date']).month"
      ]
    },
    {
      "cell_type": "code",
      "execution_count": 43,
      "metadata": {
        "id": "kUJjQK0CCmua"
      },
      "outputs": [],
      "source": [
        "\n",
        "df['day'] = pd.DatetimeIndex(df['order_date']).day\n",
        "\n",
        "\n",
        "\n",
        "df_test['day'] = pd.DatetimeIndex(df_test['order_date']).day"
      ]
    },
    {
      "cell_type": "code",
      "execution_count": 44,
      "metadata": {
        "colab": {
          "base_uri": "https://localhost:8080/",
          "height": 270
        },
        "id": "_IwLBOsOzll2",
        "outputId": "d5eb5892-f7a0-48c4-9c9c-4aefca38db4c"
      },
      "outputs": [
        {
          "output_type": "execute_result",
          "data": {
            "text/html": [
              "\n",
              "  <div id=\"df-5e58cf41-ddab-4ed3-96bb-06298170ab6b\">\n",
              "    <div class=\"colab-df-container\">\n",
              "      <div>\n",
              "<style scoped>\n",
              "    .dataframe tbody tr th:only-of-type {\n",
              "        vertical-align: middle;\n",
              "    }\n",
              "\n",
              "    .dataframe tbody tr th {\n",
              "        vertical-align: top;\n",
              "    }\n",
              "\n",
              "    .dataframe thead th {\n",
              "        text-align: right;\n",
              "    }\n",
              "</style>\n",
              "<table border=\"1\" class=\"dataframe\">\n",
              "  <thead>\n",
              "    <tr style=\"text-align: right;\">\n",
              "      <th></th>\n",
              "      <th>order_date</th>\n",
              "      <th>rider_id</th>\n",
              "      <th>first_mile_distance</th>\n",
              "      <th>last_mile_distance</th>\n",
              "      <th>alloted_orders</th>\n",
              "      <th>delivered_orders</th>\n",
              "      <th>cancelled</th>\n",
              "      <th>undelivered_orders</th>\n",
              "      <th>lifetime_order_count</th>\n",
              "      <th>reassignment_method</th>\n",
              "      <th>reassignment_reason</th>\n",
              "      <th>reassigned_order</th>\n",
              "      <th>session_time</th>\n",
              "      <th>cancelled_time</th>\n",
              "      <th>accept_sec</th>\n",
              "      <th>order_sec</th>\n",
              "      <th>month</th>\n",
              "      <th>day</th>\n",
              "    </tr>\n",
              "  </thead>\n",
              "  <tbody>\n",
              "    <tr>\n",
              "      <th>0</th>\n",
              "      <td>2021-01-26</td>\n",
              "      <td>11696</td>\n",
              "      <td>1.5666</td>\n",
              "      <td>2.65</td>\n",
              "      <td>46.0</td>\n",
              "      <td>46.0</td>\n",
              "      <td>0</td>\n",
              "      <td>0.0</td>\n",
              "      <td>621.0</td>\n",
              "      <td>NaN</td>\n",
              "      <td>NaN</td>\n",
              "      <td>NaN</td>\n",
              "      <td>NaN</td>\n",
              "      <td>NaN</td>\n",
              "      <td>9.0</td>\n",
              "      <td>33.0</td>\n",
              "      <td>1</td>\n",
              "      <td>26</td>\n",
              "    </tr>\n",
              "    <tr>\n",
              "      <th>1</th>\n",
              "      <td>2021-01-26</td>\n",
              "      <td>18117</td>\n",
              "      <td>2.5207</td>\n",
              "      <td>2.76</td>\n",
              "      <td>8.0</td>\n",
              "      <td>8.0</td>\n",
              "      <td>0</td>\n",
              "      <td>0.0</td>\n",
              "      <td>105.0</td>\n",
              "      <td>NaN</td>\n",
              "      <td>NaN</td>\n",
              "      <td>NaN</td>\n",
              "      <td>3.266667</td>\n",
              "      <td>NaN</td>\n",
              "      <td>48.0</td>\n",
              "      <td>89.0</td>\n",
              "      <td>1</td>\n",
              "      <td>26</td>\n",
              "    </tr>\n",
              "    <tr>\n",
              "      <th>2</th>\n",
              "      <td>2021-01-26</td>\n",
              "      <td>18623</td>\n",
              "      <td>2.2074</td>\n",
              "      <td>4.80</td>\n",
              "      <td>1.0</td>\n",
              "      <td>1.0</td>\n",
              "      <td>0</td>\n",
              "      <td>0.0</td>\n",
              "      <td>66.0</td>\n",
              "      <td>NaN</td>\n",
              "      <td>NaN</td>\n",
              "      <td>NaN</td>\n",
              "      <td>9.816667</td>\n",
              "      <td>NaN</td>\n",
              "      <td>16.0</td>\n",
              "      <td>24.0</td>\n",
              "      <td>1</td>\n",
              "      <td>26</td>\n",
              "    </tr>\n",
              "    <tr>\n",
              "      <th>3</th>\n",
              "      <td>2021-01-26</td>\n",
              "      <td>15945</td>\n",
              "      <td>2.1894</td>\n",
              "      <td>6.38</td>\n",
              "      <td>1.0</td>\n",
              "      <td>1.0</td>\n",
              "      <td>0</td>\n",
              "      <td>0.0</td>\n",
              "      <td>127.0</td>\n",
              "      <td>NaN</td>\n",
              "      <td>NaN</td>\n",
              "      <td>NaN</td>\n",
              "      <td>17.533333</td>\n",
              "      <td>NaN</td>\n",
              "      <td>41.0</td>\n",
              "      <td>73.0</td>\n",
              "      <td>1</td>\n",
              "      <td>26</td>\n",
              "    </tr>\n",
              "    <tr>\n",
              "      <th>4</th>\n",
              "      <td>2021-01-26</td>\n",
              "      <td>17589</td>\n",
              "      <td>2.7870</td>\n",
              "      <td>4.01</td>\n",
              "      <td>34.0</td>\n",
              "      <td>34.0</td>\n",
              "      <td>0</td>\n",
              "      <td>0.0</td>\n",
              "      <td>84.0</td>\n",
              "      <td>NaN</td>\n",
              "      <td>NaN</td>\n",
              "      <td>NaN</td>\n",
              "      <td>1.350000</td>\n",
              "      <td>NaN</td>\n",
              "      <td>36.0</td>\n",
              "      <td>87.0</td>\n",
              "      <td>1</td>\n",
              "      <td>26</td>\n",
              "    </tr>\n",
              "  </tbody>\n",
              "</table>\n",
              "</div>\n",
              "      <button class=\"colab-df-convert\" onclick=\"convertToInteractive('df-5e58cf41-ddab-4ed3-96bb-06298170ab6b')\"\n",
              "              title=\"Convert this dataframe to an interactive table.\"\n",
              "              style=\"display:none;\">\n",
              "        \n",
              "  <svg xmlns=\"http://www.w3.org/2000/svg\" height=\"24px\"viewBox=\"0 0 24 24\"\n",
              "       width=\"24px\">\n",
              "    <path d=\"M0 0h24v24H0V0z\" fill=\"none\"/>\n",
              "    <path d=\"M18.56 5.44l.94 2.06.94-2.06 2.06-.94-2.06-.94-.94-2.06-.94 2.06-2.06.94zm-11 1L8.5 8.5l.94-2.06 2.06-.94-2.06-.94L8.5 2.5l-.94 2.06-2.06.94zm10 10l.94 2.06.94-2.06 2.06-.94-2.06-.94-.94-2.06-.94 2.06-2.06.94z\"/><path d=\"M17.41 7.96l-1.37-1.37c-.4-.4-.92-.59-1.43-.59-.52 0-1.04.2-1.43.59L10.3 9.45l-7.72 7.72c-.78.78-.78 2.05 0 2.83L4 21.41c.39.39.9.59 1.41.59.51 0 1.02-.2 1.41-.59l7.78-7.78 2.81-2.81c.8-.78.8-2.07 0-2.86zM5.41 20L4 18.59l7.72-7.72 1.47 1.35L5.41 20z\"/>\n",
              "  </svg>\n",
              "      </button>\n",
              "      \n",
              "  <style>\n",
              "    .colab-df-container {\n",
              "      display:flex;\n",
              "      flex-wrap:wrap;\n",
              "      gap: 12px;\n",
              "    }\n",
              "\n",
              "    .colab-df-convert {\n",
              "      background-color: #E8F0FE;\n",
              "      border: none;\n",
              "      border-radius: 50%;\n",
              "      cursor: pointer;\n",
              "      display: none;\n",
              "      fill: #1967D2;\n",
              "      height: 32px;\n",
              "      padding: 0 0 0 0;\n",
              "      width: 32px;\n",
              "    }\n",
              "\n",
              "    .colab-df-convert:hover {\n",
              "      background-color: #E2EBFA;\n",
              "      box-shadow: 0px 1px 2px rgba(60, 64, 67, 0.3), 0px 1px 3px 1px rgba(60, 64, 67, 0.15);\n",
              "      fill: #174EA6;\n",
              "    }\n",
              "\n",
              "    [theme=dark] .colab-df-convert {\n",
              "      background-color: #3B4455;\n",
              "      fill: #D2E3FC;\n",
              "    }\n",
              "\n",
              "    [theme=dark] .colab-df-convert:hover {\n",
              "      background-color: #434B5C;\n",
              "      box-shadow: 0px 1px 3px 1px rgba(0, 0, 0, 0.15);\n",
              "      filter: drop-shadow(0px 1px 2px rgba(0, 0, 0, 0.3));\n",
              "      fill: #FFFFFF;\n",
              "    }\n",
              "  </style>\n",
              "\n",
              "      <script>\n",
              "        const buttonEl =\n",
              "          document.querySelector('#df-5e58cf41-ddab-4ed3-96bb-06298170ab6b button.colab-df-convert');\n",
              "        buttonEl.style.display =\n",
              "          google.colab.kernel.accessAllowed ? 'block' : 'none';\n",
              "\n",
              "        async function convertToInteractive(key) {\n",
              "          const element = document.querySelector('#df-5e58cf41-ddab-4ed3-96bb-06298170ab6b');\n",
              "          const dataTable =\n",
              "            await google.colab.kernel.invokeFunction('convertToInteractive',\n",
              "                                                     [key], {});\n",
              "          if (!dataTable) return;\n",
              "\n",
              "          const docLinkHtml = 'Like what you see? Visit the ' +\n",
              "            '<a target=\"_blank\" href=https://colab.research.google.com/notebooks/data_table.ipynb>data table notebook</a>'\n",
              "            + ' to learn more about interactive tables.';\n",
              "          element.innerHTML = '';\n",
              "          dataTable['output_type'] = 'display_data';\n",
              "          await google.colab.output.renderOutput(dataTable, element);\n",
              "          const docLink = document.createElement('div');\n",
              "          docLink.innerHTML = docLinkHtml;\n",
              "          element.appendChild(docLink);\n",
              "        }\n",
              "      </script>\n",
              "    </div>\n",
              "  </div>\n",
              "  "
            ],
            "text/plain": [
              "  order_date  rider_id  first_mile_distance  ...  order_sec  month  day\n",
              "0 2021-01-26     11696               1.5666  ...       33.0      1   26\n",
              "1 2021-01-26     18117               2.5207  ...       89.0      1   26\n",
              "2 2021-01-26     18623               2.2074  ...       24.0      1   26\n",
              "3 2021-01-26     15945               2.1894  ...       73.0      1   26\n",
              "4 2021-01-26     17589               2.7870  ...       87.0      1   26\n",
              "\n",
              "[5 rows x 18 columns]"
            ]
          },
          "metadata": {},
          "execution_count": 44
        }
      ],
      "source": [
        "df.head()"
      ]
    },
    {
      "cell_type": "code",
      "execution_count": 45,
      "metadata": {
        "colab": {
          "base_uri": "https://localhost:8080/"
        },
        "id": "py8OYmyMzqpR",
        "outputId": "b3c2e40e-7084-403b-9f1d-e2dfbbcd498c"
      },
      "outputs": [
        {
          "output_type": "execute_result",
          "data": {
            "text/plain": [
              "Index(['order_date', 'rider_id', 'first_mile_distance', 'last_mile_distance',\n",
              "       'alloted_orders', 'delivered_orders', 'cancelled', 'undelivered_orders',\n",
              "       'lifetime_order_count', 'reassignment_method', 'reassignment_reason',\n",
              "       'reassigned_order', 'session_time', 'cancelled_time', 'accept_sec',\n",
              "       'order_sec', 'month', 'day'],\n",
              "      dtype='object')"
            ]
          },
          "metadata": {},
          "execution_count": 45
        }
      ],
      "source": [
        "df.columns"
      ]
    },
    {
      "cell_type": "code",
      "execution_count": 46,
      "metadata": {
        "colab": {
          "base_uri": "https://localhost:8080/"
        },
        "id": "EsgoLDGx_fQi",
        "outputId": "b51d3c64-902b-4076-b9f1-8b7a5a53b6cd"
      },
      "outputs": [
        {
          "output_type": "execute_result",
          "data": {
            "text/plain": [
              "Auto Reassignment basis Inaction. coreengine.tasks.repush_order_to_aa_bucket    7212\n",
              "Reassignment Request from SE portal.                                            5300\n",
              "Reassign                                                                        1241\n",
              "Name: reassignment_reason, dtype: int64"
            ]
          },
          "metadata": {},
          "execution_count": 46
        }
      ],
      "source": [
        "df['reassignment_reason'].value_counts()\n"
      ]
    },
    {
      "cell_type": "code",
      "execution_count": 47,
      "metadata": {
        "colab": {
          "base_uri": "https://localhost:8080/"
        },
        "id": "yMwDzycvU4Cb",
        "outputId": "b35b94b0-569b-47df-fc5e-a3dca0512ca9"
      },
      "outputs": [
        {
          "output_type": "execute_result",
          "data": {
            "text/plain": [
              "Auto Reassignment basis Inaction. coreengine.tasks.repush_order_to_aa_bucket    2593\n",
              "Reassignment Request from SE portal.                                            1582\n",
              "Reassign                                                                         460\n",
              "Name: reassignment_reason, dtype: int64"
            ]
          },
          "metadata": {},
          "execution_count": 47
        }
      ],
      "source": [
        "df_test['reassignment_reason'].value_counts()"
      ]
    },
    {
      "cell_type": "code",
      "execution_count": 48,
      "metadata": {
        "colab": {
          "base_uri": "https://localhost:8080/"
        },
        "id": "VjtMBS6EBI3H",
        "outputId": "76b1473f-95bf-4467-d272-4b1964773114"
      },
      "outputs": [
        {
          "output_type": "execute_result",
          "data": {
            "text/plain": [
              "auto      13383\n",
              "manual      361\n",
              "Name: reassignment_method, dtype: int64"
            ]
          },
          "metadata": {},
          "execution_count": 48
        }
      ],
      "source": [
        "df['reassignment_method'].value_counts()"
      ]
    },
    {
      "cell_type": "code",
      "execution_count": 49,
      "metadata": {
        "colab": {
          "base_uri": "https://localhost:8080/"
        },
        "id": "YyO28pDSU6xV",
        "outputId": "195bcdaf-bb83-431a-d0f1-1fe870f416dc"
      },
      "outputs": [
        {
          "output_type": "execute_result",
          "data": {
            "text/plain": [
              "auto      4531\n",
              "manual     101\n",
              "Name: reassignment_method, dtype: int64"
            ]
          },
          "metadata": {},
          "execution_count": 49
        }
      ],
      "source": [
        "df_test['reassignment_method'].value_counts()"
      ]
    },
    {
      "cell_type": "code",
      "execution_count": 50,
      "metadata": {
        "colab": {
          "base_uri": "https://localhost:8080/"
        },
        "id": "9EeZJhI-CLeT",
        "outputId": "47838fad-6265-465c-a256-c8326d8ac59c"
      },
      "outputs": [
        {
          "output_type": "execute_result",
          "data": {
            "text/plain": [
              "order_date              datetime64[ns]\n",
              "rider_id                         int64\n",
              "first_mile_distance            float64\n",
              "last_mile_distance             float64\n",
              "alloted_orders                 float64\n",
              "delivered_orders               float64\n",
              "cancelled                        int64\n",
              "undelivered_orders             float64\n",
              "lifetime_order_count           float64\n",
              "reassignment_method             object\n",
              "reassignment_reason             object\n",
              "reassigned_order               float64\n",
              "session_time                   float64\n",
              "cancelled_time                  object\n",
              "accept_sec                     float64\n",
              "order_sec                      float64\n",
              "month                            int64\n",
              "day                              int64\n",
              "dtype: object"
            ]
          },
          "metadata": {},
          "execution_count": 50
        }
      ],
      "source": [
        "df.dtypes"
      ]
    },
    {
      "cell_type": "code",
      "execution_count": 51,
      "metadata": {
        "colab": {
          "base_uri": "https://localhost:8080/"
        },
        "id": "RJUX7sjxBLC3",
        "outputId": "0940afa3-5ae7-46eb-e87d-a0c237c54b4a"
      },
      "outputs": [
        {
          "output_type": "execute_result",
          "data": {
            "text/plain": [
              "14"
            ]
          },
          "metadata": {},
          "execution_count": 51
        }
      ],
      "source": [
        "num_col = [c for i, c in enumerate(df.columns) if df.dtypes[i] in [np.int, np.float]]\n",
        "len(num_col)"
      ]
    },
    {
      "cell_type": "code",
      "execution_count": 52,
      "metadata": {
        "colab": {
          "base_uri": "https://localhost:8080/"
        },
        "id": "cbRzNZPNB9XP",
        "outputId": "2c9d1d59-bdea-4bf6-dd7f-eb2b1291821d"
      },
      "outputs": [
        {
          "output_type": "execute_result",
          "data": {
            "text/plain": [
              "3"
            ]
          },
          "metadata": {},
          "execution_count": 52
        }
      ],
      "source": [
        "num_col = [c for i, c in enumerate(df.columns) if df.dtypes[i] in [np.object]]\n",
        "len(num_col)"
      ]
    },
    {
      "cell_type": "code",
      "execution_count": 53,
      "metadata": {
        "colab": {
          "base_uri": "https://localhost:8080/"
        },
        "id": "0xqy1EzoCHNV",
        "outputId": "0f6d28cc-2f63-4991-ff60-3bea960eb72b"
      },
      "outputs": [
        {
          "output_type": "execute_result",
          "data": {
            "text/plain": [
              "order_date                   0\n",
              "rider_id                     0\n",
              "first_mile_distance          0\n",
              "last_mile_distance           0\n",
              "alloted_orders           16948\n",
              "delivered_orders         17341\n",
              "cancelled                    0\n",
              "undelivered_orders       17341\n",
              "lifetime_order_count        53\n",
              "reassignment_method     436256\n",
              "reassignment_reason     436247\n",
              "reassigned_order        436247\n",
              "session_time              3675\n",
              "cancelled_time          444782\n",
              "accept_sec                 157\n",
              "order_sec                  157\n",
              "month                        0\n",
              "day                          0\n",
              "dtype: int64"
            ]
          },
          "metadata": {},
          "execution_count": 53
        }
      ],
      "source": [
        "df.isnull().sum()"
      ]
    },
    {
      "cell_type": "code",
      "execution_count": 54,
      "metadata": {
        "colab": {
          "base_uri": "https://localhost:8080/"
        },
        "id": "rBfhRtITVLsU",
        "outputId": "de1ba54c-0705-45b2-83ee-17b0d44cf12d"
      },
      "outputs": [
        {
          "output_type": "execute_result",
          "data": {
            "text/plain": [
              "order_date                   0\n",
              "rider_id                     0\n",
              "first_mile_distance          0\n",
              "last_mile_distance           0\n",
              "alloted_orders            4773\n",
              "delivered_orders          4884\n",
              "undelivered_orders        4884\n",
              "lifetime_order_count       778\n",
              "reassignment_method     140212\n",
              "reassignment_reason     140209\n",
              "reassigned_order        140209\n",
              "session_time              5054\n",
              "accept_sec                  68\n",
              "order_sec                   68\n",
              "month                        0\n",
              "day                          0\n",
              "dtype: int64"
            ]
          },
          "metadata": {},
          "execution_count": 54
        }
      ],
      "source": [
        "df_test.isnull().sum()"
      ]
    },
    {
      "cell_type": "code",
      "execution_count": 55,
      "metadata": {
        "id": "gsIaGoRRCwfV"
      },
      "outputs": [],
      "source": [
        "df['reassignment_reason'] = df['reassignment_reason'].replace(np.nan, 0)\n"
      ]
    },
    {
      "cell_type": "code",
      "execution_count": 56,
      "metadata": {
        "id": "dWxYxIYQVcDr"
      },
      "outputs": [],
      "source": [
        "df_test['reassignment_reason'] = df_test['reassignment_reason'].replace(np.nan, 0)"
      ]
    },
    {
      "cell_type": "code",
      "execution_count": 57,
      "metadata": {
        "id": "_0NaYpnIDEpc"
      },
      "outputs": [],
      "source": [
        "df['reassignment_reason'] = df['reassignment_reason'].replace(('Auto Reassignment basis Inaction. coreengine.tasks.repush_order_to_aa_bucket','Reassignment Request from SE portal.','Reassign','0'),(3,2,1,0))\n",
        "df_test['reassignment_reason'] = df_test['reassignment_reason'].replace(('Auto Reassignment basis Inaction. coreengine.tasks.repush_order_to_aa_bucket','Reassignment Request from SE portal.','Reassign','0'),(3,2,1,0))"
      ]
    },
    {
      "cell_type": "code",
      "execution_count": 58,
      "metadata": {
        "colab": {
          "base_uri": "https://localhost:8080/"
        },
        "id": "LGDU3NnnFPkP",
        "outputId": "88739251-c116-456c-ea26-b5c1f96a4a79"
      },
      "outputs": [
        {
          "output_type": "execute_result",
          "data": {
            "text/plain": [
              "0    140209\n",
              "3      2593\n",
              "2      1582\n",
              "1       460\n",
              "Name: reassignment_reason, dtype: int64"
            ]
          },
          "metadata": {},
          "execution_count": 58
        }
      ],
      "source": [
        "df_test['reassignment_reason'].value_counts()"
      ]
    },
    {
      "cell_type": "code",
      "execution_count": 59,
      "metadata": {
        "colab": {
          "base_uri": "https://localhost:8080/"
        },
        "id": "iG3JhXN8G2AQ",
        "outputId": "a883fde1-e689-4807-dda4-537eed99ec53"
      },
      "outputs": [
        {
          "output_type": "stream",
          "name": "stdout",
          "text": [
            "Collecting category_encoders\n",
            "  Downloading category_encoders-2.3.0-py2.py3-none-any.whl (82 kB)\n",
            "\u001b[?25l\r\u001b[K     |████                            | 10 kB 17.2 MB/s eta 0:00:01\r\u001b[K     |████████                        | 20 kB 9.5 MB/s eta 0:00:01\r\u001b[K     |████████████                    | 30 kB 9.7 MB/s eta 0:00:01\r\u001b[K     |████████████████                | 40 kB 9.7 MB/s eta 0:00:01\r\u001b[K     |████████████████████            | 51 kB 5.8 MB/s eta 0:00:01\r\u001b[K     |████████████████████████        | 61 kB 5.9 MB/s eta 0:00:01\r\u001b[K     |████████████████████████████    | 71 kB 5.6 MB/s eta 0:00:01\r\u001b[K     |███████████████████████████████▉| 81 kB 6.3 MB/s eta 0:00:01\r\u001b[K     |████████████████████████████████| 82 kB 282 kB/s \n",
            "\u001b[?25hRequirement already satisfied: scikit-learn>=0.20.0 in /usr/local/lib/python3.7/dist-packages (from category_encoders) (1.0.2)\n",
            "Requirement already satisfied: pandas>=0.21.1 in /usr/local/lib/python3.7/dist-packages (from category_encoders) (1.3.5)\n",
            "Requirement already satisfied: scipy>=1.0.0 in /usr/local/lib/python3.7/dist-packages (from category_encoders) (1.4.1)\n",
            "Requirement already satisfied: patsy>=0.5.1 in /usr/local/lib/python3.7/dist-packages (from category_encoders) (0.5.2)\n",
            "Requirement already satisfied: numpy>=1.14.0 in /usr/local/lib/python3.7/dist-packages (from category_encoders) (1.19.5)\n",
            "Requirement already satisfied: statsmodels>=0.9.0 in /usr/local/lib/python3.7/dist-packages (from category_encoders) (0.10.2)\n",
            "Requirement already satisfied: pytz>=2017.3 in /usr/local/lib/python3.7/dist-packages (from pandas>=0.21.1->category_encoders) (2018.9)\n",
            "Requirement already satisfied: python-dateutil>=2.7.3 in /usr/local/lib/python3.7/dist-packages (from pandas>=0.21.1->category_encoders) (2.8.2)\n",
            "Requirement already satisfied: six in /usr/local/lib/python3.7/dist-packages (from patsy>=0.5.1->category_encoders) (1.15.0)\n",
            "Requirement already satisfied: threadpoolctl>=2.0.0 in /usr/local/lib/python3.7/dist-packages (from scikit-learn>=0.20.0->category_encoders) (3.1.0)\n",
            "Requirement already satisfied: joblib>=0.11 in /usr/local/lib/python3.7/dist-packages (from scikit-learn>=0.20.0->category_encoders) (1.1.0)\n",
            "Installing collected packages: category-encoders\n",
            "Successfully installed category-encoders-2.3.0\n"
          ]
        }
      ],
      "source": [
        "pip install --upgrade category_encoders"
      ]
    },
    {
      "cell_type": "code",
      "execution_count": 60,
      "metadata": {
        "colab": {
          "base_uri": "https://localhost:8080/"
        },
        "id": "mfjZZpYBHZi6",
        "outputId": "80a13eb0-04ed-4f68-8165-5ed0c07c6b62"
      },
      "outputs": [
        {
          "output_type": "execute_result",
          "data": {
            "text/plain": [
              "auto      4531\n",
              "manual     101\n",
              "Name: reassignment_method, dtype: int64"
            ]
          },
          "metadata": {},
          "execution_count": 60
        }
      ],
      "source": [
        "df_test['reassignment_method'].value_counts()"
      ]
    },
    {
      "cell_type": "code",
      "execution_count": 61,
      "metadata": {
        "id": "SzYLOEfKDSs7"
      },
      "outputs": [],
      "source": [
        "df['reassignment_method'] = df['reassignment_method'].replace(np.nan, 0)\n",
        "df_test['reassignment_method'] = df_test['reassignment_method'].replace(np.nan, 0)"
      ]
    },
    {
      "cell_type": "code",
      "execution_count": 62,
      "metadata": {
        "id": "eZDzEfUaHdAJ"
      },
      "outputs": [],
      "source": [
        "df['reassignment_method'] = df['reassignment_method'].replace(('auto','manual','0'),(2,1,0))\n",
        "df_test['reassignment_method'] = df_test['reassignment_method'].replace(('auto','manual','0'),(2,1,0))"
      ]
    },
    {
      "cell_type": "code",
      "execution_count": 63,
      "metadata": {
        "id": "9VDSqMUOJnah"
      },
      "outputs": [],
      "source": [
        "df['total_distance'] = df['first_mile_distance'] + df['last_mile_distance']\n",
        "df_test['total_distance'] = df_test['first_mile_distance'] + df_test['last_mile_distance']"
      ]
    },
    {
      "cell_type": "code",
      "execution_count": 64,
      "metadata": {
        "colab": {
          "base_uri": "https://localhost:8080/"
        },
        "id": "oeWd6WFhNMl5",
        "outputId": "27712c84-3909-4ae2-e4f3-ac9cf9e9dcfb"
      },
      "outputs": [
        {
          "output_type": "execute_result",
          "data": {
            "text/plain": [
              "Index(['order_date', 'rider_id', 'first_mile_distance', 'last_mile_distance',\n",
              "       'alloted_orders', 'delivered_orders', 'cancelled', 'undelivered_orders',\n",
              "       'lifetime_order_count', 'reassignment_method', 'reassignment_reason',\n",
              "       'reassigned_order', 'session_time', 'cancelled_time', 'accept_sec',\n",
              "       'order_sec', 'month', 'day', 'total_distance'],\n",
              "      dtype='object')"
            ]
          },
          "metadata": {},
          "execution_count": 64
        }
      ],
      "source": [
        "df.columns"
      ]
    },
    {
      "cell_type": "code",
      "execution_count": 65,
      "metadata": {
        "colab": {
          "base_uri": "https://localhost:8080/",
          "height": 270
        },
        "id": "Bps6a0uwNgwJ",
        "outputId": "3cbf1639-3aad-4b6c-d928-4a8dad4d2882"
      },
      "outputs": [
        {
          "output_type": "execute_result",
          "data": {
            "text/html": [
              "\n",
              "  <div id=\"df-1ef6dd70-fd51-444d-acb7-39020d7e0366\">\n",
              "    <div class=\"colab-df-container\">\n",
              "      <div>\n",
              "<style scoped>\n",
              "    .dataframe tbody tr th:only-of-type {\n",
              "        vertical-align: middle;\n",
              "    }\n",
              "\n",
              "    .dataframe tbody tr th {\n",
              "        vertical-align: top;\n",
              "    }\n",
              "\n",
              "    .dataframe thead th {\n",
              "        text-align: right;\n",
              "    }\n",
              "</style>\n",
              "<table border=\"1\" class=\"dataframe\">\n",
              "  <thead>\n",
              "    <tr style=\"text-align: right;\">\n",
              "      <th></th>\n",
              "      <th>order_date</th>\n",
              "      <th>rider_id</th>\n",
              "      <th>first_mile_distance</th>\n",
              "      <th>last_mile_distance</th>\n",
              "      <th>alloted_orders</th>\n",
              "      <th>delivered_orders</th>\n",
              "      <th>cancelled</th>\n",
              "      <th>undelivered_orders</th>\n",
              "      <th>lifetime_order_count</th>\n",
              "      <th>reassignment_method</th>\n",
              "      <th>reassignment_reason</th>\n",
              "      <th>reassigned_order</th>\n",
              "      <th>session_time</th>\n",
              "      <th>cancelled_time</th>\n",
              "      <th>accept_sec</th>\n",
              "      <th>order_sec</th>\n",
              "      <th>month</th>\n",
              "      <th>day</th>\n",
              "      <th>total_distance</th>\n",
              "    </tr>\n",
              "  </thead>\n",
              "  <tbody>\n",
              "    <tr>\n",
              "      <th>0</th>\n",
              "      <td>2021-01-26</td>\n",
              "      <td>11696</td>\n",
              "      <td>1.5666</td>\n",
              "      <td>2.65</td>\n",
              "      <td>46.0</td>\n",
              "      <td>46.0</td>\n",
              "      <td>0</td>\n",
              "      <td>0.0</td>\n",
              "      <td>621.0</td>\n",
              "      <td>0</td>\n",
              "      <td>0</td>\n",
              "      <td>NaN</td>\n",
              "      <td>NaN</td>\n",
              "      <td>NaN</td>\n",
              "      <td>9.0</td>\n",
              "      <td>33.0</td>\n",
              "      <td>1</td>\n",
              "      <td>26</td>\n",
              "      <td>4.2166</td>\n",
              "    </tr>\n",
              "    <tr>\n",
              "      <th>1</th>\n",
              "      <td>2021-01-26</td>\n",
              "      <td>18117</td>\n",
              "      <td>2.5207</td>\n",
              "      <td>2.76</td>\n",
              "      <td>8.0</td>\n",
              "      <td>8.0</td>\n",
              "      <td>0</td>\n",
              "      <td>0.0</td>\n",
              "      <td>105.0</td>\n",
              "      <td>0</td>\n",
              "      <td>0</td>\n",
              "      <td>NaN</td>\n",
              "      <td>3.266667</td>\n",
              "      <td>NaN</td>\n",
              "      <td>48.0</td>\n",
              "      <td>89.0</td>\n",
              "      <td>1</td>\n",
              "      <td>26</td>\n",
              "      <td>5.2807</td>\n",
              "    </tr>\n",
              "    <tr>\n",
              "      <th>2</th>\n",
              "      <td>2021-01-26</td>\n",
              "      <td>18623</td>\n",
              "      <td>2.2074</td>\n",
              "      <td>4.80</td>\n",
              "      <td>1.0</td>\n",
              "      <td>1.0</td>\n",
              "      <td>0</td>\n",
              "      <td>0.0</td>\n",
              "      <td>66.0</td>\n",
              "      <td>0</td>\n",
              "      <td>0</td>\n",
              "      <td>NaN</td>\n",
              "      <td>9.816667</td>\n",
              "      <td>NaN</td>\n",
              "      <td>16.0</td>\n",
              "      <td>24.0</td>\n",
              "      <td>1</td>\n",
              "      <td>26</td>\n",
              "      <td>7.0074</td>\n",
              "    </tr>\n",
              "    <tr>\n",
              "      <th>3</th>\n",
              "      <td>2021-01-26</td>\n",
              "      <td>15945</td>\n",
              "      <td>2.1894</td>\n",
              "      <td>6.38</td>\n",
              "      <td>1.0</td>\n",
              "      <td>1.0</td>\n",
              "      <td>0</td>\n",
              "      <td>0.0</td>\n",
              "      <td>127.0</td>\n",
              "      <td>0</td>\n",
              "      <td>0</td>\n",
              "      <td>NaN</td>\n",
              "      <td>17.533333</td>\n",
              "      <td>NaN</td>\n",
              "      <td>41.0</td>\n",
              "      <td>73.0</td>\n",
              "      <td>1</td>\n",
              "      <td>26</td>\n",
              "      <td>8.5694</td>\n",
              "    </tr>\n",
              "    <tr>\n",
              "      <th>4</th>\n",
              "      <td>2021-01-26</td>\n",
              "      <td>17589</td>\n",
              "      <td>2.7870</td>\n",
              "      <td>4.01</td>\n",
              "      <td>34.0</td>\n",
              "      <td>34.0</td>\n",
              "      <td>0</td>\n",
              "      <td>0.0</td>\n",
              "      <td>84.0</td>\n",
              "      <td>0</td>\n",
              "      <td>0</td>\n",
              "      <td>NaN</td>\n",
              "      <td>1.350000</td>\n",
              "      <td>NaN</td>\n",
              "      <td>36.0</td>\n",
              "      <td>87.0</td>\n",
              "      <td>1</td>\n",
              "      <td>26</td>\n",
              "      <td>6.7970</td>\n",
              "    </tr>\n",
              "  </tbody>\n",
              "</table>\n",
              "</div>\n",
              "      <button class=\"colab-df-convert\" onclick=\"convertToInteractive('df-1ef6dd70-fd51-444d-acb7-39020d7e0366')\"\n",
              "              title=\"Convert this dataframe to an interactive table.\"\n",
              "              style=\"display:none;\">\n",
              "        \n",
              "  <svg xmlns=\"http://www.w3.org/2000/svg\" height=\"24px\"viewBox=\"0 0 24 24\"\n",
              "       width=\"24px\">\n",
              "    <path d=\"M0 0h24v24H0V0z\" fill=\"none\"/>\n",
              "    <path d=\"M18.56 5.44l.94 2.06.94-2.06 2.06-.94-2.06-.94-.94-2.06-.94 2.06-2.06.94zm-11 1L8.5 8.5l.94-2.06 2.06-.94-2.06-.94L8.5 2.5l-.94 2.06-2.06.94zm10 10l.94 2.06.94-2.06 2.06-.94-2.06-.94-.94-2.06-.94 2.06-2.06.94z\"/><path d=\"M17.41 7.96l-1.37-1.37c-.4-.4-.92-.59-1.43-.59-.52 0-1.04.2-1.43.59L10.3 9.45l-7.72 7.72c-.78.78-.78 2.05 0 2.83L4 21.41c.39.39.9.59 1.41.59.51 0 1.02-.2 1.41-.59l7.78-7.78 2.81-2.81c.8-.78.8-2.07 0-2.86zM5.41 20L4 18.59l7.72-7.72 1.47 1.35L5.41 20z\"/>\n",
              "  </svg>\n",
              "      </button>\n",
              "      \n",
              "  <style>\n",
              "    .colab-df-container {\n",
              "      display:flex;\n",
              "      flex-wrap:wrap;\n",
              "      gap: 12px;\n",
              "    }\n",
              "\n",
              "    .colab-df-convert {\n",
              "      background-color: #E8F0FE;\n",
              "      border: none;\n",
              "      border-radius: 50%;\n",
              "      cursor: pointer;\n",
              "      display: none;\n",
              "      fill: #1967D2;\n",
              "      height: 32px;\n",
              "      padding: 0 0 0 0;\n",
              "      width: 32px;\n",
              "    }\n",
              "\n",
              "    .colab-df-convert:hover {\n",
              "      background-color: #E2EBFA;\n",
              "      box-shadow: 0px 1px 2px rgba(60, 64, 67, 0.3), 0px 1px 3px 1px rgba(60, 64, 67, 0.15);\n",
              "      fill: #174EA6;\n",
              "    }\n",
              "\n",
              "    [theme=dark] .colab-df-convert {\n",
              "      background-color: #3B4455;\n",
              "      fill: #D2E3FC;\n",
              "    }\n",
              "\n",
              "    [theme=dark] .colab-df-convert:hover {\n",
              "      background-color: #434B5C;\n",
              "      box-shadow: 0px 1px 3px 1px rgba(0, 0, 0, 0.15);\n",
              "      filter: drop-shadow(0px 1px 2px rgba(0, 0, 0, 0.3));\n",
              "      fill: #FFFFFF;\n",
              "    }\n",
              "  </style>\n",
              "\n",
              "      <script>\n",
              "        const buttonEl =\n",
              "          document.querySelector('#df-1ef6dd70-fd51-444d-acb7-39020d7e0366 button.colab-df-convert');\n",
              "        buttonEl.style.display =\n",
              "          google.colab.kernel.accessAllowed ? 'block' : 'none';\n",
              "\n",
              "        async function convertToInteractive(key) {\n",
              "          const element = document.querySelector('#df-1ef6dd70-fd51-444d-acb7-39020d7e0366');\n",
              "          const dataTable =\n",
              "            await google.colab.kernel.invokeFunction('convertToInteractive',\n",
              "                                                     [key], {});\n",
              "          if (!dataTable) return;\n",
              "\n",
              "          const docLinkHtml = 'Like what you see? Visit the ' +\n",
              "            '<a target=\"_blank\" href=https://colab.research.google.com/notebooks/data_table.ipynb>data table notebook</a>'\n",
              "            + ' to learn more about interactive tables.';\n",
              "          element.innerHTML = '';\n",
              "          dataTable['output_type'] = 'display_data';\n",
              "          await google.colab.output.renderOutput(dataTable, element);\n",
              "          const docLink = document.createElement('div');\n",
              "          docLink.innerHTML = docLinkHtml;\n",
              "          element.appendChild(docLink);\n",
              "        }\n",
              "      </script>\n",
              "    </div>\n",
              "  </div>\n",
              "  "
            ],
            "text/plain": [
              "  order_date  rider_id  first_mile_distance  ...  month  day  total_distance\n",
              "0 2021-01-26     11696               1.5666  ...      1   26          4.2166\n",
              "1 2021-01-26     18117               2.5207  ...      1   26          5.2807\n",
              "2 2021-01-26     18623               2.2074  ...      1   26          7.0074\n",
              "3 2021-01-26     15945               2.1894  ...      1   26          8.5694\n",
              "4 2021-01-26     17589               2.7870  ...      1   26          6.7970\n",
              "\n",
              "[5 rows x 19 columns]"
            ]
          },
          "metadata": {},
          "execution_count": 65
        }
      ],
      "source": [
        "df.head()"
      ]
    },
    {
      "cell_type": "code",
      "execution_count": 66,
      "metadata": {
        "colab": {
          "base_uri": "https://localhost:8080/"
        },
        "id": "stFQJ9iFWzhB",
        "outputId": "3646ba11-27d8-45b5-a16a-e75cc1a90708"
      },
      "outputs": [
        {
          "output_type": "execute_result",
          "data": {
            "text/plain": [
              "order_date                   0\n",
              "rider_id                     0\n",
              "first_mile_distance          0\n",
              "last_mile_distance           0\n",
              "alloted_orders           16948\n",
              "delivered_orders         17341\n",
              "cancelled                    0\n",
              "undelivered_orders       17341\n",
              "lifetime_order_count        53\n",
              "reassignment_method          0\n",
              "reassignment_reason          0\n",
              "reassigned_order        436247\n",
              "session_time              3675\n",
              "cancelled_time          444782\n",
              "accept_sec                 157\n",
              "order_sec                  157\n",
              "month                        0\n",
              "day                          0\n",
              "total_distance               0\n",
              "dtype: int64"
            ]
          },
          "metadata": {},
          "execution_count": 66
        }
      ],
      "source": [
        "df.isnull().sum()"
      ]
    },
    {
      "cell_type": "code",
      "execution_count": 67,
      "metadata": {
        "id": "n_RhtQEYYH8h"
      },
      "outputs": [],
      "source": [
        "df = df[pd.notnull(df['delivered_orders'])]"
      ]
    },
    {
      "cell_type": "code",
      "execution_count": 68,
      "metadata": {
        "colab": {
          "base_uri": "https://localhost:8080/"
        },
        "id": "SUP0NRdoYvBn",
        "outputId": "f8fba402-ac60-465e-9832-3e3ab93779f0"
      },
      "outputs": [
        {
          "output_type": "execute_result",
          "data": {
            "text/plain": [
              "order_date                   0\n",
              "rider_id                     0\n",
              "first_mile_distance          0\n",
              "last_mile_distance           0\n",
              "alloted_orders               0\n",
              "delivered_orders             0\n",
              "cancelled                    0\n",
              "undelivered_orders           0\n",
              "lifetime_order_count         0\n",
              "reassignment_method          0\n",
              "reassignment_reason          0\n",
              "reassigned_order        419393\n",
              "session_time              3344\n",
              "cancelled_time          428296\n",
              "accept_sec                 139\n",
              "order_sec                  139\n",
              "month                        0\n",
              "day                          0\n",
              "total_distance               0\n",
              "dtype: int64"
            ]
          },
          "metadata": {},
          "execution_count": 68
        }
      ],
      "source": [
        "df.isnull().sum()"
      ]
    },
    {
      "cell_type": "code",
      "execution_count": 68,
      "metadata": {
        "id": "kxGshBADZIm1"
      },
      "outputs": [],
      "source": [
        ""
      ]
    },
    {
      "cell_type": "code",
      "execution_count": 69,
      "metadata": {
        "colab": {
          "base_uri": "https://localhost:8080/"
        },
        "id": "_acbzBBHZbqo",
        "outputId": "ce35541b-f550-4e98-d1d6-1eed1554cdd3"
      },
      "outputs": [
        {
          "output_type": "execute_result",
          "data": {
            "text/plain": [
              "(144844, 17)"
            ]
          },
          "metadata": {},
          "execution_count": 69
        }
      ],
      "source": [
        "df_test.shape"
      ]
    },
    {
      "cell_type": "code",
      "execution_count": 70,
      "metadata": {
        "colab": {
          "base_uri": "https://localhost:8080/"
        },
        "id": "to1fmj9gZdu8",
        "outputId": "2d39ecf5-75df-493b-c5e3-ede1c8a5bae5"
      },
      "outputs": [
        {
          "output_type": "execute_result",
          "data": {
            "text/plain": [
              "order_date                   0\n",
              "rider_id                     0\n",
              "first_mile_distance          0\n",
              "last_mile_distance           0\n",
              "alloted_orders            4773\n",
              "delivered_orders          4884\n",
              "undelivered_orders        4884\n",
              "lifetime_order_count       778\n",
              "reassignment_method          0\n",
              "reassignment_reason          0\n",
              "reassigned_order        140209\n",
              "session_time              5054\n",
              "accept_sec                  68\n",
              "order_sec                   68\n",
              "month                        0\n",
              "day                          0\n",
              "total_distance               0\n",
              "dtype: int64"
            ]
          },
          "metadata": {},
          "execution_count": 70
        }
      ],
      "source": [
        "df_test.isnull().sum()"
      ]
    },
    {
      "cell_type": "code",
      "execution_count": 71,
      "metadata": {
        "colab": {
          "base_uri": "https://localhost:8080/"
        },
        "id": "RIKSVbsTEHtP",
        "outputId": "dcab595a-18d6-49e7-cbb5-0ed0d532d021"
      },
      "outputs": [
        {
          "output_type": "execute_result",
          "data": {
            "text/plain": [
              "order_date                   0\n",
              "rider_id                     0\n",
              "first_mile_distance          0\n",
              "last_mile_distance           0\n",
              "alloted_orders               0\n",
              "delivered_orders             0\n",
              "cancelled                    0\n",
              "undelivered_orders           0\n",
              "lifetime_order_count         0\n",
              "reassignment_method          0\n",
              "reassignment_reason          0\n",
              "reassigned_order        419393\n",
              "session_time              3344\n",
              "cancelled_time          428296\n",
              "accept_sec                 139\n",
              "order_sec                  139\n",
              "month                        0\n",
              "day                          0\n",
              "total_distance               0\n",
              "dtype: int64"
            ]
          },
          "metadata": {},
          "execution_count": 71
        }
      ],
      "source": [
        "df.isnull().sum()"
      ]
    },
    {
      "cell_type": "code",
      "execution_count": 72,
      "metadata": {
        "id": "PbLCNHv-Zoxy"
      },
      "outputs": [],
      "source": [
        "df['delivery_success'] = (df['delivered_orders']/df['alloted_orders'])\n",
        "df_test['delivery_success'] = (df_test['delivered_orders']/df_test['alloted_orders'])"
      ]
    },
    {
      "cell_type": "code",
      "execution_count": 73,
      "metadata": {
        "colab": {
          "base_uri": "https://localhost:8080/"
        },
        "id": "J_JPOpMXlHfU",
        "outputId": "ed4cd85b-299d-4a28-e9ed-2b8e08da3499"
      },
      "outputs": [
        {
          "output_type": "execute_result",
          "data": {
            "text/plain": [
              "1.000000    232686\n",
              "0.980000      1184\n",
              "0.977778      1145\n",
              "0.981818      1139\n",
              "0.982143      1138\n",
              "             ...  \n",
              "0.967105         1\n",
              "0.978799         1\n",
              "0.908046         1\n",
              "0.428571         1\n",
              "0.997260         1\n",
              "Name: delivery_success, Length: 1334, dtype: int64"
            ]
          },
          "metadata": {},
          "execution_count": 73
        }
      ],
      "source": [
        "df['delivery_success'].value_counts()"
      ]
    },
    {
      "cell_type": "code",
      "execution_count": 74,
      "metadata": {
        "id": "7BN5UvY3p7Pb"
      },
      "outputs": [],
      "source": [
        "df = df.drop(['order_date'], axis=1)\n",
        "df_test = df_test.drop(['order_date'], axis=1)"
      ]
    },
    {
      "cell_type": "code",
      "execution_count": 75,
      "metadata": {
        "colab": {
          "base_uri": "https://localhost:8080/",
          "height": 270
        },
        "id": "YCGCoz2gpzrm",
        "outputId": "b06246bc-2bb5-4f6a-cee2-3b73893e7abe"
      },
      "outputs": [
        {
          "output_type": "execute_result",
          "data": {
            "text/html": [
              "\n",
              "  <div id=\"df-eb49dd3d-44b3-4be0-8365-11b519fb14be\">\n",
              "    <div class=\"colab-df-container\">\n",
              "      <div>\n",
              "<style scoped>\n",
              "    .dataframe tbody tr th:only-of-type {\n",
              "        vertical-align: middle;\n",
              "    }\n",
              "\n",
              "    .dataframe tbody tr th {\n",
              "        vertical-align: top;\n",
              "    }\n",
              "\n",
              "    .dataframe thead th {\n",
              "        text-align: right;\n",
              "    }\n",
              "</style>\n",
              "<table border=\"1\" class=\"dataframe\">\n",
              "  <thead>\n",
              "    <tr style=\"text-align: right;\">\n",
              "      <th></th>\n",
              "      <th>rider_id</th>\n",
              "      <th>first_mile_distance</th>\n",
              "      <th>last_mile_distance</th>\n",
              "      <th>alloted_orders</th>\n",
              "      <th>delivered_orders</th>\n",
              "      <th>cancelled</th>\n",
              "      <th>undelivered_orders</th>\n",
              "      <th>lifetime_order_count</th>\n",
              "      <th>reassignment_method</th>\n",
              "      <th>reassignment_reason</th>\n",
              "      <th>reassigned_order</th>\n",
              "      <th>session_time</th>\n",
              "      <th>cancelled_time</th>\n",
              "      <th>accept_sec</th>\n",
              "      <th>order_sec</th>\n",
              "      <th>month</th>\n",
              "      <th>day</th>\n",
              "      <th>total_distance</th>\n",
              "      <th>delivery_success</th>\n",
              "    </tr>\n",
              "  </thead>\n",
              "  <tbody>\n",
              "    <tr>\n",
              "      <th>0</th>\n",
              "      <td>11696</td>\n",
              "      <td>1.5666</td>\n",
              "      <td>2.65</td>\n",
              "      <td>46.0</td>\n",
              "      <td>46.0</td>\n",
              "      <td>0</td>\n",
              "      <td>0.0</td>\n",
              "      <td>621.0</td>\n",
              "      <td>0</td>\n",
              "      <td>0</td>\n",
              "      <td>NaN</td>\n",
              "      <td>NaN</td>\n",
              "      <td>NaN</td>\n",
              "      <td>9.0</td>\n",
              "      <td>33.0</td>\n",
              "      <td>1</td>\n",
              "      <td>26</td>\n",
              "      <td>4.2166</td>\n",
              "      <td>1.0</td>\n",
              "    </tr>\n",
              "    <tr>\n",
              "      <th>1</th>\n",
              "      <td>18117</td>\n",
              "      <td>2.5207</td>\n",
              "      <td>2.76</td>\n",
              "      <td>8.0</td>\n",
              "      <td>8.0</td>\n",
              "      <td>0</td>\n",
              "      <td>0.0</td>\n",
              "      <td>105.0</td>\n",
              "      <td>0</td>\n",
              "      <td>0</td>\n",
              "      <td>NaN</td>\n",
              "      <td>3.266667</td>\n",
              "      <td>NaN</td>\n",
              "      <td>48.0</td>\n",
              "      <td>89.0</td>\n",
              "      <td>1</td>\n",
              "      <td>26</td>\n",
              "      <td>5.2807</td>\n",
              "      <td>1.0</td>\n",
              "    </tr>\n",
              "    <tr>\n",
              "      <th>2</th>\n",
              "      <td>18623</td>\n",
              "      <td>2.2074</td>\n",
              "      <td>4.80</td>\n",
              "      <td>1.0</td>\n",
              "      <td>1.0</td>\n",
              "      <td>0</td>\n",
              "      <td>0.0</td>\n",
              "      <td>66.0</td>\n",
              "      <td>0</td>\n",
              "      <td>0</td>\n",
              "      <td>NaN</td>\n",
              "      <td>9.816667</td>\n",
              "      <td>NaN</td>\n",
              "      <td>16.0</td>\n",
              "      <td>24.0</td>\n",
              "      <td>1</td>\n",
              "      <td>26</td>\n",
              "      <td>7.0074</td>\n",
              "      <td>1.0</td>\n",
              "    </tr>\n",
              "    <tr>\n",
              "      <th>3</th>\n",
              "      <td>15945</td>\n",
              "      <td>2.1894</td>\n",
              "      <td>6.38</td>\n",
              "      <td>1.0</td>\n",
              "      <td>1.0</td>\n",
              "      <td>0</td>\n",
              "      <td>0.0</td>\n",
              "      <td>127.0</td>\n",
              "      <td>0</td>\n",
              "      <td>0</td>\n",
              "      <td>NaN</td>\n",
              "      <td>17.533333</td>\n",
              "      <td>NaN</td>\n",
              "      <td>41.0</td>\n",
              "      <td>73.0</td>\n",
              "      <td>1</td>\n",
              "      <td>26</td>\n",
              "      <td>8.5694</td>\n",
              "      <td>1.0</td>\n",
              "    </tr>\n",
              "    <tr>\n",
              "      <th>4</th>\n",
              "      <td>17589</td>\n",
              "      <td>2.7870</td>\n",
              "      <td>4.01</td>\n",
              "      <td>34.0</td>\n",
              "      <td>34.0</td>\n",
              "      <td>0</td>\n",
              "      <td>0.0</td>\n",
              "      <td>84.0</td>\n",
              "      <td>0</td>\n",
              "      <td>0</td>\n",
              "      <td>NaN</td>\n",
              "      <td>1.350000</td>\n",
              "      <td>NaN</td>\n",
              "      <td>36.0</td>\n",
              "      <td>87.0</td>\n",
              "      <td>1</td>\n",
              "      <td>26</td>\n",
              "      <td>6.7970</td>\n",
              "      <td>1.0</td>\n",
              "    </tr>\n",
              "  </tbody>\n",
              "</table>\n",
              "</div>\n",
              "      <button class=\"colab-df-convert\" onclick=\"convertToInteractive('df-eb49dd3d-44b3-4be0-8365-11b519fb14be')\"\n",
              "              title=\"Convert this dataframe to an interactive table.\"\n",
              "              style=\"display:none;\">\n",
              "        \n",
              "  <svg xmlns=\"http://www.w3.org/2000/svg\" height=\"24px\"viewBox=\"0 0 24 24\"\n",
              "       width=\"24px\">\n",
              "    <path d=\"M0 0h24v24H0V0z\" fill=\"none\"/>\n",
              "    <path d=\"M18.56 5.44l.94 2.06.94-2.06 2.06-.94-2.06-.94-.94-2.06-.94 2.06-2.06.94zm-11 1L8.5 8.5l.94-2.06 2.06-.94-2.06-.94L8.5 2.5l-.94 2.06-2.06.94zm10 10l.94 2.06.94-2.06 2.06-.94-2.06-.94-.94-2.06-.94 2.06-2.06.94z\"/><path d=\"M17.41 7.96l-1.37-1.37c-.4-.4-.92-.59-1.43-.59-.52 0-1.04.2-1.43.59L10.3 9.45l-7.72 7.72c-.78.78-.78 2.05 0 2.83L4 21.41c.39.39.9.59 1.41.59.51 0 1.02-.2 1.41-.59l7.78-7.78 2.81-2.81c.8-.78.8-2.07 0-2.86zM5.41 20L4 18.59l7.72-7.72 1.47 1.35L5.41 20z\"/>\n",
              "  </svg>\n",
              "      </button>\n",
              "      \n",
              "  <style>\n",
              "    .colab-df-container {\n",
              "      display:flex;\n",
              "      flex-wrap:wrap;\n",
              "      gap: 12px;\n",
              "    }\n",
              "\n",
              "    .colab-df-convert {\n",
              "      background-color: #E8F0FE;\n",
              "      border: none;\n",
              "      border-radius: 50%;\n",
              "      cursor: pointer;\n",
              "      display: none;\n",
              "      fill: #1967D2;\n",
              "      height: 32px;\n",
              "      padding: 0 0 0 0;\n",
              "      width: 32px;\n",
              "    }\n",
              "\n",
              "    .colab-df-convert:hover {\n",
              "      background-color: #E2EBFA;\n",
              "      box-shadow: 0px 1px 2px rgba(60, 64, 67, 0.3), 0px 1px 3px 1px rgba(60, 64, 67, 0.15);\n",
              "      fill: #174EA6;\n",
              "    }\n",
              "\n",
              "    [theme=dark] .colab-df-convert {\n",
              "      background-color: #3B4455;\n",
              "      fill: #D2E3FC;\n",
              "    }\n",
              "\n",
              "    [theme=dark] .colab-df-convert:hover {\n",
              "      background-color: #434B5C;\n",
              "      box-shadow: 0px 1px 3px 1px rgba(0, 0, 0, 0.15);\n",
              "      filter: drop-shadow(0px 1px 2px rgba(0, 0, 0, 0.3));\n",
              "      fill: #FFFFFF;\n",
              "    }\n",
              "  </style>\n",
              "\n",
              "      <script>\n",
              "        const buttonEl =\n",
              "          document.querySelector('#df-eb49dd3d-44b3-4be0-8365-11b519fb14be button.colab-df-convert');\n",
              "        buttonEl.style.display =\n",
              "          google.colab.kernel.accessAllowed ? 'block' : 'none';\n",
              "\n",
              "        async function convertToInteractive(key) {\n",
              "          const element = document.querySelector('#df-eb49dd3d-44b3-4be0-8365-11b519fb14be');\n",
              "          const dataTable =\n",
              "            await google.colab.kernel.invokeFunction('convertToInteractive',\n",
              "                                                     [key], {});\n",
              "          if (!dataTable) return;\n",
              "\n",
              "          const docLinkHtml = 'Like what you see? Visit the ' +\n",
              "            '<a target=\"_blank\" href=https://colab.research.google.com/notebooks/data_table.ipynb>data table notebook</a>'\n",
              "            + ' to learn more about interactive tables.';\n",
              "          element.innerHTML = '';\n",
              "          dataTable['output_type'] = 'display_data';\n",
              "          await google.colab.output.renderOutput(dataTable, element);\n",
              "          const docLink = document.createElement('div');\n",
              "          docLink.innerHTML = docLinkHtml;\n",
              "          element.appendChild(docLink);\n",
              "        }\n",
              "      </script>\n",
              "    </div>\n",
              "  </div>\n",
              "  "
            ],
            "text/plain": [
              "   rider_id  first_mile_distance  ...  total_distance  delivery_success\n",
              "0     11696               1.5666  ...          4.2166               1.0\n",
              "1     18117               2.5207  ...          5.2807               1.0\n",
              "2     18623               2.2074  ...          7.0074               1.0\n",
              "3     15945               2.1894  ...          8.5694               1.0\n",
              "4     17589               2.7870  ...          6.7970               1.0\n",
              "\n",
              "[5 rows x 19 columns]"
            ]
          },
          "metadata": {},
          "execution_count": 75
        }
      ],
      "source": [
        "df.head()"
      ]
    },
    {
      "cell_type": "code",
      "execution_count": 76,
      "metadata": {
        "colab": {
          "base_uri": "https://localhost:8080/",
          "height": 270
        },
        "id": "dzjp_DJ_p1Nz",
        "outputId": "4b62d052-09a9-4f55-8af0-262bf6838f68"
      },
      "outputs": [
        {
          "output_type": "execute_result",
          "data": {
            "text/html": [
              "\n",
              "  <div id=\"df-22fedab1-bedc-4def-9831-e66ec89f63fe\">\n",
              "    <div class=\"colab-df-container\">\n",
              "      <div>\n",
              "<style scoped>\n",
              "    .dataframe tbody tr th:only-of-type {\n",
              "        vertical-align: middle;\n",
              "    }\n",
              "\n",
              "    .dataframe tbody tr th {\n",
              "        vertical-align: top;\n",
              "    }\n",
              "\n",
              "    .dataframe thead th {\n",
              "        text-align: right;\n",
              "    }\n",
              "</style>\n",
              "<table border=\"1\" class=\"dataframe\">\n",
              "  <thead>\n",
              "    <tr style=\"text-align: right;\">\n",
              "      <th></th>\n",
              "      <th>rider_id</th>\n",
              "      <th>first_mile_distance</th>\n",
              "      <th>last_mile_distance</th>\n",
              "      <th>alloted_orders</th>\n",
              "      <th>delivered_orders</th>\n",
              "      <th>undelivered_orders</th>\n",
              "      <th>lifetime_order_count</th>\n",
              "      <th>reassignment_method</th>\n",
              "      <th>reassignment_reason</th>\n",
              "      <th>reassigned_order</th>\n",
              "      <th>session_time</th>\n",
              "      <th>accept_sec</th>\n",
              "      <th>order_sec</th>\n",
              "      <th>month</th>\n",
              "      <th>day</th>\n",
              "      <th>total_distance</th>\n",
              "      <th>delivery_success</th>\n",
              "    </tr>\n",
              "  </thead>\n",
              "  <tbody>\n",
              "    <tr>\n",
              "      <th>0</th>\n",
              "      <td>12884</td>\n",
              "      <td>1.6585</td>\n",
              "      <td>4.54</td>\n",
              "      <td>216.0</td>\n",
              "      <td>215.0</td>\n",
              "      <td>1.0</td>\n",
              "      <td>747.0</td>\n",
              "      <td>0</td>\n",
              "      <td>0</td>\n",
              "      <td>NaN</td>\n",
              "      <td>273.400000</td>\n",
              "      <td>26.0</td>\n",
              "      <td>51.0</td>\n",
              "      <td>2</td>\n",
              "      <td>6</td>\n",
              "      <td>6.1985</td>\n",
              "      <td>0.995370</td>\n",
              "    </tr>\n",
              "    <tr>\n",
              "      <th>1</th>\n",
              "      <td>3541</td>\n",
              "      <td>2.0709</td>\n",
              "      <td>5.84</td>\n",
              "      <td>52.0</td>\n",
              "      <td>52.0</td>\n",
              "      <td>0.0</td>\n",
              "      <td>75.0</td>\n",
              "      <td>0</td>\n",
              "      <td>0</td>\n",
              "      <td>NaN</td>\n",
              "      <td>252.100000</td>\n",
              "      <td>9.0</td>\n",
              "      <td>10.0</td>\n",
              "      <td>2</td>\n",
              "      <td>6</td>\n",
              "      <td>7.9109</td>\n",
              "      <td>1.000000</td>\n",
              "    </tr>\n",
              "    <tr>\n",
              "      <th>2</th>\n",
              "      <td>603</td>\n",
              "      <td>1.3884</td>\n",
              "      <td>0.99</td>\n",
              "      <td>289.0</td>\n",
              "      <td>289.0</td>\n",
              "      <td>0.0</td>\n",
              "      <td>2214.0</td>\n",
              "      <td>0</td>\n",
              "      <td>0</td>\n",
              "      <td>NaN</td>\n",
              "      <td>241.383333</td>\n",
              "      <td>80.0</td>\n",
              "      <td>127.0</td>\n",
              "      <td>2</td>\n",
              "      <td>6</td>\n",
              "      <td>2.3784</td>\n",
              "      <td>1.000000</td>\n",
              "    </tr>\n",
              "    <tr>\n",
              "      <th>3</th>\n",
              "      <td>3414</td>\n",
              "      <td>1.9039</td>\n",
              "      <td>2.59</td>\n",
              "      <td>125.0</td>\n",
              "      <td>122.0</td>\n",
              "      <td>3.0</td>\n",
              "      <td>1020.0</td>\n",
              "      <td>0</td>\n",
              "      <td>0</td>\n",
              "      <td>NaN</td>\n",
              "      <td>291.933333</td>\n",
              "      <td>23.0</td>\n",
              "      <td>24.0</td>\n",
              "      <td>2</td>\n",
              "      <td>6</td>\n",
              "      <td>4.4939</td>\n",
              "      <td>0.976000</td>\n",
              "    </tr>\n",
              "    <tr>\n",
              "      <th>4</th>\n",
              "      <td>1426</td>\n",
              "      <td>0.8275</td>\n",
              "      <td>0.94</td>\n",
              "      <td>352.0</td>\n",
              "      <td>350.0</td>\n",
              "      <td>2.0</td>\n",
              "      <td>7284.0</td>\n",
              "      <td>0</td>\n",
              "      <td>0</td>\n",
              "      <td>NaN</td>\n",
              "      <td>247.133333</td>\n",
              "      <td>60.0</td>\n",
              "      <td>68.0</td>\n",
              "      <td>2</td>\n",
              "      <td>6</td>\n",
              "      <td>1.7675</td>\n",
              "      <td>0.994318</td>\n",
              "    </tr>\n",
              "  </tbody>\n",
              "</table>\n",
              "</div>\n",
              "      <button class=\"colab-df-convert\" onclick=\"convertToInteractive('df-22fedab1-bedc-4def-9831-e66ec89f63fe')\"\n",
              "              title=\"Convert this dataframe to an interactive table.\"\n",
              "              style=\"display:none;\">\n",
              "        \n",
              "  <svg xmlns=\"http://www.w3.org/2000/svg\" height=\"24px\"viewBox=\"0 0 24 24\"\n",
              "       width=\"24px\">\n",
              "    <path d=\"M0 0h24v24H0V0z\" fill=\"none\"/>\n",
              "    <path d=\"M18.56 5.44l.94 2.06.94-2.06 2.06-.94-2.06-.94-.94-2.06-.94 2.06-2.06.94zm-11 1L8.5 8.5l.94-2.06 2.06-.94-2.06-.94L8.5 2.5l-.94 2.06-2.06.94zm10 10l.94 2.06.94-2.06 2.06-.94-2.06-.94-.94-2.06-.94 2.06-2.06.94z\"/><path d=\"M17.41 7.96l-1.37-1.37c-.4-.4-.92-.59-1.43-.59-.52 0-1.04.2-1.43.59L10.3 9.45l-7.72 7.72c-.78.78-.78 2.05 0 2.83L4 21.41c.39.39.9.59 1.41.59.51 0 1.02-.2 1.41-.59l7.78-7.78 2.81-2.81c.8-.78.8-2.07 0-2.86zM5.41 20L4 18.59l7.72-7.72 1.47 1.35L5.41 20z\"/>\n",
              "  </svg>\n",
              "      </button>\n",
              "      \n",
              "  <style>\n",
              "    .colab-df-container {\n",
              "      display:flex;\n",
              "      flex-wrap:wrap;\n",
              "      gap: 12px;\n",
              "    }\n",
              "\n",
              "    .colab-df-convert {\n",
              "      background-color: #E8F0FE;\n",
              "      border: none;\n",
              "      border-radius: 50%;\n",
              "      cursor: pointer;\n",
              "      display: none;\n",
              "      fill: #1967D2;\n",
              "      height: 32px;\n",
              "      padding: 0 0 0 0;\n",
              "      width: 32px;\n",
              "    }\n",
              "\n",
              "    .colab-df-convert:hover {\n",
              "      background-color: #E2EBFA;\n",
              "      box-shadow: 0px 1px 2px rgba(60, 64, 67, 0.3), 0px 1px 3px 1px rgba(60, 64, 67, 0.15);\n",
              "      fill: #174EA6;\n",
              "    }\n",
              "\n",
              "    [theme=dark] .colab-df-convert {\n",
              "      background-color: #3B4455;\n",
              "      fill: #D2E3FC;\n",
              "    }\n",
              "\n",
              "    [theme=dark] .colab-df-convert:hover {\n",
              "      background-color: #434B5C;\n",
              "      box-shadow: 0px 1px 3px 1px rgba(0, 0, 0, 0.15);\n",
              "      filter: drop-shadow(0px 1px 2px rgba(0, 0, 0, 0.3));\n",
              "      fill: #FFFFFF;\n",
              "    }\n",
              "  </style>\n",
              "\n",
              "      <script>\n",
              "        const buttonEl =\n",
              "          document.querySelector('#df-22fedab1-bedc-4def-9831-e66ec89f63fe button.colab-df-convert');\n",
              "        buttonEl.style.display =\n",
              "          google.colab.kernel.accessAllowed ? 'block' : 'none';\n",
              "\n",
              "        async function convertToInteractive(key) {\n",
              "          const element = document.querySelector('#df-22fedab1-bedc-4def-9831-e66ec89f63fe');\n",
              "          const dataTable =\n",
              "            await google.colab.kernel.invokeFunction('convertToInteractive',\n",
              "                                                     [key], {});\n",
              "          if (!dataTable) return;\n",
              "\n",
              "          const docLinkHtml = 'Like what you see? Visit the ' +\n",
              "            '<a target=\"_blank\" href=https://colab.research.google.com/notebooks/data_table.ipynb>data table notebook</a>'\n",
              "            + ' to learn more about interactive tables.';\n",
              "          element.innerHTML = '';\n",
              "          dataTable['output_type'] = 'display_data';\n",
              "          await google.colab.output.renderOutput(dataTable, element);\n",
              "          const docLink = document.createElement('div');\n",
              "          docLink.innerHTML = docLinkHtml;\n",
              "          element.appendChild(docLink);\n",
              "        }\n",
              "      </script>\n",
              "    </div>\n",
              "  </div>\n",
              "  "
            ],
            "text/plain": [
              "   rider_id  first_mile_distance  ...  total_distance  delivery_success\n",
              "0     12884               1.6585  ...          6.1985          0.995370\n",
              "1      3541               2.0709  ...          7.9109          1.000000\n",
              "2       603               1.3884  ...          2.3784          1.000000\n",
              "3      3414               1.9039  ...          4.4939          0.976000\n",
              "4      1426               0.8275  ...          1.7675          0.994318\n",
              "\n",
              "[5 rows x 17 columns]"
            ]
          },
          "metadata": {},
          "execution_count": 76
        }
      ],
      "source": [
        "df_test.head()"
      ]
    },
    {
      "cell_type": "code",
      "execution_count": 77,
      "metadata": {
        "colab": {
          "base_uri": "https://localhost:8080/",
          "height": 270
        },
        "id": "pRGNnmKOq56G",
        "outputId": "b141844c-fa23-4654-cc9f-d8761cc59219"
      },
      "outputs": [
        {
          "output_type": "execute_result",
          "data": {
            "text/html": [
              "\n",
              "  <div id=\"df-5c627068-ad7f-41f8-a46e-99c60ba312c1\">\n",
              "    <div class=\"colab-df-container\">\n",
              "      <div>\n",
              "<style scoped>\n",
              "    .dataframe tbody tr th:only-of-type {\n",
              "        vertical-align: middle;\n",
              "    }\n",
              "\n",
              "    .dataframe tbody tr th {\n",
              "        vertical-align: top;\n",
              "    }\n",
              "\n",
              "    .dataframe thead th {\n",
              "        text-align: right;\n",
              "    }\n",
              "</style>\n",
              "<table border=\"1\" class=\"dataframe\">\n",
              "  <thead>\n",
              "    <tr style=\"text-align: right;\">\n",
              "      <th></th>\n",
              "      <th>rider_id</th>\n",
              "      <th>first_mile_distance</th>\n",
              "      <th>last_mile_distance</th>\n",
              "      <th>alloted_orders</th>\n",
              "      <th>delivered_orders</th>\n",
              "      <th>cancelled</th>\n",
              "      <th>undelivered_orders</th>\n",
              "      <th>lifetime_order_count</th>\n",
              "      <th>reassignment_method</th>\n",
              "      <th>reassignment_reason</th>\n",
              "      <th>reassigned_order</th>\n",
              "      <th>session_time</th>\n",
              "      <th>cancelled_time</th>\n",
              "      <th>accept_sec</th>\n",
              "      <th>order_sec</th>\n",
              "      <th>month</th>\n",
              "      <th>day</th>\n",
              "      <th>total_distance</th>\n",
              "      <th>delivery_success</th>\n",
              "    </tr>\n",
              "  </thead>\n",
              "  <tbody>\n",
              "    <tr>\n",
              "      <th>0</th>\n",
              "      <td>11696</td>\n",
              "      <td>1.5666</td>\n",
              "      <td>2.65</td>\n",
              "      <td>46.0</td>\n",
              "      <td>46.0</td>\n",
              "      <td>0</td>\n",
              "      <td>0.0</td>\n",
              "      <td>621.0</td>\n",
              "      <td>0</td>\n",
              "      <td>0</td>\n",
              "      <td>NaN</td>\n",
              "      <td>NaN</td>\n",
              "      <td>NaN</td>\n",
              "      <td>9.0</td>\n",
              "      <td>33.0</td>\n",
              "      <td>1</td>\n",
              "      <td>26</td>\n",
              "      <td>4.2166</td>\n",
              "      <td>1.0</td>\n",
              "    </tr>\n",
              "    <tr>\n",
              "      <th>1</th>\n",
              "      <td>18117</td>\n",
              "      <td>2.5207</td>\n",
              "      <td>2.76</td>\n",
              "      <td>8.0</td>\n",
              "      <td>8.0</td>\n",
              "      <td>0</td>\n",
              "      <td>0.0</td>\n",
              "      <td>105.0</td>\n",
              "      <td>0</td>\n",
              "      <td>0</td>\n",
              "      <td>NaN</td>\n",
              "      <td>3.266667</td>\n",
              "      <td>NaN</td>\n",
              "      <td>48.0</td>\n",
              "      <td>89.0</td>\n",
              "      <td>1</td>\n",
              "      <td>26</td>\n",
              "      <td>5.2807</td>\n",
              "      <td>1.0</td>\n",
              "    </tr>\n",
              "    <tr>\n",
              "      <th>2</th>\n",
              "      <td>18623</td>\n",
              "      <td>2.2074</td>\n",
              "      <td>4.80</td>\n",
              "      <td>1.0</td>\n",
              "      <td>1.0</td>\n",
              "      <td>0</td>\n",
              "      <td>0.0</td>\n",
              "      <td>66.0</td>\n",
              "      <td>0</td>\n",
              "      <td>0</td>\n",
              "      <td>NaN</td>\n",
              "      <td>9.816667</td>\n",
              "      <td>NaN</td>\n",
              "      <td>16.0</td>\n",
              "      <td>24.0</td>\n",
              "      <td>1</td>\n",
              "      <td>26</td>\n",
              "      <td>7.0074</td>\n",
              "      <td>1.0</td>\n",
              "    </tr>\n",
              "    <tr>\n",
              "      <th>3</th>\n",
              "      <td>15945</td>\n",
              "      <td>2.1894</td>\n",
              "      <td>6.38</td>\n",
              "      <td>1.0</td>\n",
              "      <td>1.0</td>\n",
              "      <td>0</td>\n",
              "      <td>0.0</td>\n",
              "      <td>127.0</td>\n",
              "      <td>0</td>\n",
              "      <td>0</td>\n",
              "      <td>NaN</td>\n",
              "      <td>17.533333</td>\n",
              "      <td>NaN</td>\n",
              "      <td>41.0</td>\n",
              "      <td>73.0</td>\n",
              "      <td>1</td>\n",
              "      <td>26</td>\n",
              "      <td>8.5694</td>\n",
              "      <td>1.0</td>\n",
              "    </tr>\n",
              "    <tr>\n",
              "      <th>4</th>\n",
              "      <td>17589</td>\n",
              "      <td>2.7870</td>\n",
              "      <td>4.01</td>\n",
              "      <td>34.0</td>\n",
              "      <td>34.0</td>\n",
              "      <td>0</td>\n",
              "      <td>0.0</td>\n",
              "      <td>84.0</td>\n",
              "      <td>0</td>\n",
              "      <td>0</td>\n",
              "      <td>NaN</td>\n",
              "      <td>1.350000</td>\n",
              "      <td>NaN</td>\n",
              "      <td>36.0</td>\n",
              "      <td>87.0</td>\n",
              "      <td>1</td>\n",
              "      <td>26</td>\n",
              "      <td>6.7970</td>\n",
              "      <td>1.0</td>\n",
              "    </tr>\n",
              "  </tbody>\n",
              "</table>\n",
              "</div>\n",
              "      <button class=\"colab-df-convert\" onclick=\"convertToInteractive('df-5c627068-ad7f-41f8-a46e-99c60ba312c1')\"\n",
              "              title=\"Convert this dataframe to an interactive table.\"\n",
              "              style=\"display:none;\">\n",
              "        \n",
              "  <svg xmlns=\"http://www.w3.org/2000/svg\" height=\"24px\"viewBox=\"0 0 24 24\"\n",
              "       width=\"24px\">\n",
              "    <path d=\"M0 0h24v24H0V0z\" fill=\"none\"/>\n",
              "    <path d=\"M18.56 5.44l.94 2.06.94-2.06 2.06-.94-2.06-.94-.94-2.06-.94 2.06-2.06.94zm-11 1L8.5 8.5l.94-2.06 2.06-.94-2.06-.94L8.5 2.5l-.94 2.06-2.06.94zm10 10l.94 2.06.94-2.06 2.06-.94-2.06-.94-.94-2.06-.94 2.06-2.06.94z\"/><path d=\"M17.41 7.96l-1.37-1.37c-.4-.4-.92-.59-1.43-.59-.52 0-1.04.2-1.43.59L10.3 9.45l-7.72 7.72c-.78.78-.78 2.05 0 2.83L4 21.41c.39.39.9.59 1.41.59.51 0 1.02-.2 1.41-.59l7.78-7.78 2.81-2.81c.8-.78.8-2.07 0-2.86zM5.41 20L4 18.59l7.72-7.72 1.47 1.35L5.41 20z\"/>\n",
              "  </svg>\n",
              "      </button>\n",
              "      \n",
              "  <style>\n",
              "    .colab-df-container {\n",
              "      display:flex;\n",
              "      flex-wrap:wrap;\n",
              "      gap: 12px;\n",
              "    }\n",
              "\n",
              "    .colab-df-convert {\n",
              "      background-color: #E8F0FE;\n",
              "      border: none;\n",
              "      border-radius: 50%;\n",
              "      cursor: pointer;\n",
              "      display: none;\n",
              "      fill: #1967D2;\n",
              "      height: 32px;\n",
              "      padding: 0 0 0 0;\n",
              "      width: 32px;\n",
              "    }\n",
              "\n",
              "    .colab-df-convert:hover {\n",
              "      background-color: #E2EBFA;\n",
              "      box-shadow: 0px 1px 2px rgba(60, 64, 67, 0.3), 0px 1px 3px 1px rgba(60, 64, 67, 0.15);\n",
              "      fill: #174EA6;\n",
              "    }\n",
              "\n",
              "    [theme=dark] .colab-df-convert {\n",
              "      background-color: #3B4455;\n",
              "      fill: #D2E3FC;\n",
              "    }\n",
              "\n",
              "    [theme=dark] .colab-df-convert:hover {\n",
              "      background-color: #434B5C;\n",
              "      box-shadow: 0px 1px 3px 1px rgba(0, 0, 0, 0.15);\n",
              "      filter: drop-shadow(0px 1px 2px rgba(0, 0, 0, 0.3));\n",
              "      fill: #FFFFFF;\n",
              "    }\n",
              "  </style>\n",
              "\n",
              "      <script>\n",
              "        const buttonEl =\n",
              "          document.querySelector('#df-5c627068-ad7f-41f8-a46e-99c60ba312c1 button.colab-df-convert');\n",
              "        buttonEl.style.display =\n",
              "          google.colab.kernel.accessAllowed ? 'block' : 'none';\n",
              "\n",
              "        async function convertToInteractive(key) {\n",
              "          const element = document.querySelector('#df-5c627068-ad7f-41f8-a46e-99c60ba312c1');\n",
              "          const dataTable =\n",
              "            await google.colab.kernel.invokeFunction('convertToInteractive',\n",
              "                                                     [key], {});\n",
              "          if (!dataTable) return;\n",
              "\n",
              "          const docLinkHtml = 'Like what you see? Visit the ' +\n",
              "            '<a target=\"_blank\" href=https://colab.research.google.com/notebooks/data_table.ipynb>data table notebook</a>'\n",
              "            + ' to learn more about interactive tables.';\n",
              "          element.innerHTML = '';\n",
              "          dataTable['output_type'] = 'display_data';\n",
              "          await google.colab.output.renderOutput(dataTable, element);\n",
              "          const docLink = document.createElement('div');\n",
              "          docLink.innerHTML = docLinkHtml;\n",
              "          element.appendChild(docLink);\n",
              "        }\n",
              "      </script>\n",
              "    </div>\n",
              "  </div>\n",
              "  "
            ],
            "text/plain": [
              "   rider_id  first_mile_distance  ...  total_distance  delivery_success\n",
              "0     11696               1.5666  ...          4.2166               1.0\n",
              "1     18117               2.5207  ...          5.2807               1.0\n",
              "2     18623               2.2074  ...          7.0074               1.0\n",
              "3     15945               2.1894  ...          8.5694               1.0\n",
              "4     17589               2.7870  ...          6.7970               1.0\n",
              "\n",
              "[5 rows x 19 columns]"
            ]
          },
          "metadata": {},
          "execution_count": 77
        }
      ],
      "source": [
        "df.head()"
      ]
    },
    {
      "cell_type": "code",
      "execution_count": 78,
      "metadata": {
        "colab": {
          "base_uri": "https://localhost:8080/",
          "height": 270
        },
        "id": "781PWrOPq_a2",
        "outputId": "7536b90d-5613-49f9-e76a-464d8ada33e4"
      },
      "outputs": [
        {
          "output_type": "execute_result",
          "data": {
            "text/html": [
              "\n",
              "  <div id=\"df-d4c25e15-8f53-49c5-9ed4-15f7acc05561\">\n",
              "    <div class=\"colab-df-container\">\n",
              "      <div>\n",
              "<style scoped>\n",
              "    .dataframe tbody tr th:only-of-type {\n",
              "        vertical-align: middle;\n",
              "    }\n",
              "\n",
              "    .dataframe tbody tr th {\n",
              "        vertical-align: top;\n",
              "    }\n",
              "\n",
              "    .dataframe thead th {\n",
              "        text-align: right;\n",
              "    }\n",
              "</style>\n",
              "<table border=\"1\" class=\"dataframe\">\n",
              "  <thead>\n",
              "    <tr style=\"text-align: right;\">\n",
              "      <th></th>\n",
              "      <th>rider_id</th>\n",
              "      <th>first_mile_distance</th>\n",
              "      <th>last_mile_distance</th>\n",
              "      <th>alloted_orders</th>\n",
              "      <th>delivered_orders</th>\n",
              "      <th>undelivered_orders</th>\n",
              "      <th>lifetime_order_count</th>\n",
              "      <th>reassignment_method</th>\n",
              "      <th>reassignment_reason</th>\n",
              "      <th>reassigned_order</th>\n",
              "      <th>session_time</th>\n",
              "      <th>accept_sec</th>\n",
              "      <th>order_sec</th>\n",
              "      <th>month</th>\n",
              "      <th>day</th>\n",
              "      <th>total_distance</th>\n",
              "      <th>delivery_success</th>\n",
              "    </tr>\n",
              "  </thead>\n",
              "  <tbody>\n",
              "    <tr>\n",
              "      <th>0</th>\n",
              "      <td>12884</td>\n",
              "      <td>1.6585</td>\n",
              "      <td>4.54</td>\n",
              "      <td>216.0</td>\n",
              "      <td>215.0</td>\n",
              "      <td>1.0</td>\n",
              "      <td>747.0</td>\n",
              "      <td>0</td>\n",
              "      <td>0</td>\n",
              "      <td>NaN</td>\n",
              "      <td>273.400000</td>\n",
              "      <td>26.0</td>\n",
              "      <td>51.0</td>\n",
              "      <td>2</td>\n",
              "      <td>6</td>\n",
              "      <td>6.1985</td>\n",
              "      <td>0.995370</td>\n",
              "    </tr>\n",
              "    <tr>\n",
              "      <th>1</th>\n",
              "      <td>3541</td>\n",
              "      <td>2.0709</td>\n",
              "      <td>5.84</td>\n",
              "      <td>52.0</td>\n",
              "      <td>52.0</td>\n",
              "      <td>0.0</td>\n",
              "      <td>75.0</td>\n",
              "      <td>0</td>\n",
              "      <td>0</td>\n",
              "      <td>NaN</td>\n",
              "      <td>252.100000</td>\n",
              "      <td>9.0</td>\n",
              "      <td>10.0</td>\n",
              "      <td>2</td>\n",
              "      <td>6</td>\n",
              "      <td>7.9109</td>\n",
              "      <td>1.000000</td>\n",
              "    </tr>\n",
              "    <tr>\n",
              "      <th>2</th>\n",
              "      <td>603</td>\n",
              "      <td>1.3884</td>\n",
              "      <td>0.99</td>\n",
              "      <td>289.0</td>\n",
              "      <td>289.0</td>\n",
              "      <td>0.0</td>\n",
              "      <td>2214.0</td>\n",
              "      <td>0</td>\n",
              "      <td>0</td>\n",
              "      <td>NaN</td>\n",
              "      <td>241.383333</td>\n",
              "      <td>80.0</td>\n",
              "      <td>127.0</td>\n",
              "      <td>2</td>\n",
              "      <td>6</td>\n",
              "      <td>2.3784</td>\n",
              "      <td>1.000000</td>\n",
              "    </tr>\n",
              "    <tr>\n",
              "      <th>3</th>\n",
              "      <td>3414</td>\n",
              "      <td>1.9039</td>\n",
              "      <td>2.59</td>\n",
              "      <td>125.0</td>\n",
              "      <td>122.0</td>\n",
              "      <td>3.0</td>\n",
              "      <td>1020.0</td>\n",
              "      <td>0</td>\n",
              "      <td>0</td>\n",
              "      <td>NaN</td>\n",
              "      <td>291.933333</td>\n",
              "      <td>23.0</td>\n",
              "      <td>24.0</td>\n",
              "      <td>2</td>\n",
              "      <td>6</td>\n",
              "      <td>4.4939</td>\n",
              "      <td>0.976000</td>\n",
              "    </tr>\n",
              "    <tr>\n",
              "      <th>4</th>\n",
              "      <td>1426</td>\n",
              "      <td>0.8275</td>\n",
              "      <td>0.94</td>\n",
              "      <td>352.0</td>\n",
              "      <td>350.0</td>\n",
              "      <td>2.0</td>\n",
              "      <td>7284.0</td>\n",
              "      <td>0</td>\n",
              "      <td>0</td>\n",
              "      <td>NaN</td>\n",
              "      <td>247.133333</td>\n",
              "      <td>60.0</td>\n",
              "      <td>68.0</td>\n",
              "      <td>2</td>\n",
              "      <td>6</td>\n",
              "      <td>1.7675</td>\n",
              "      <td>0.994318</td>\n",
              "    </tr>\n",
              "  </tbody>\n",
              "</table>\n",
              "</div>\n",
              "      <button class=\"colab-df-convert\" onclick=\"convertToInteractive('df-d4c25e15-8f53-49c5-9ed4-15f7acc05561')\"\n",
              "              title=\"Convert this dataframe to an interactive table.\"\n",
              "              style=\"display:none;\">\n",
              "        \n",
              "  <svg xmlns=\"http://www.w3.org/2000/svg\" height=\"24px\"viewBox=\"0 0 24 24\"\n",
              "       width=\"24px\">\n",
              "    <path d=\"M0 0h24v24H0V0z\" fill=\"none\"/>\n",
              "    <path d=\"M18.56 5.44l.94 2.06.94-2.06 2.06-.94-2.06-.94-.94-2.06-.94 2.06-2.06.94zm-11 1L8.5 8.5l.94-2.06 2.06-.94-2.06-.94L8.5 2.5l-.94 2.06-2.06.94zm10 10l.94 2.06.94-2.06 2.06-.94-2.06-.94-.94-2.06-.94 2.06-2.06.94z\"/><path d=\"M17.41 7.96l-1.37-1.37c-.4-.4-.92-.59-1.43-.59-.52 0-1.04.2-1.43.59L10.3 9.45l-7.72 7.72c-.78.78-.78 2.05 0 2.83L4 21.41c.39.39.9.59 1.41.59.51 0 1.02-.2 1.41-.59l7.78-7.78 2.81-2.81c.8-.78.8-2.07 0-2.86zM5.41 20L4 18.59l7.72-7.72 1.47 1.35L5.41 20z\"/>\n",
              "  </svg>\n",
              "      </button>\n",
              "      \n",
              "  <style>\n",
              "    .colab-df-container {\n",
              "      display:flex;\n",
              "      flex-wrap:wrap;\n",
              "      gap: 12px;\n",
              "    }\n",
              "\n",
              "    .colab-df-convert {\n",
              "      background-color: #E8F0FE;\n",
              "      border: none;\n",
              "      border-radius: 50%;\n",
              "      cursor: pointer;\n",
              "      display: none;\n",
              "      fill: #1967D2;\n",
              "      height: 32px;\n",
              "      padding: 0 0 0 0;\n",
              "      width: 32px;\n",
              "    }\n",
              "\n",
              "    .colab-df-convert:hover {\n",
              "      background-color: #E2EBFA;\n",
              "      box-shadow: 0px 1px 2px rgba(60, 64, 67, 0.3), 0px 1px 3px 1px rgba(60, 64, 67, 0.15);\n",
              "      fill: #174EA6;\n",
              "    }\n",
              "\n",
              "    [theme=dark] .colab-df-convert {\n",
              "      background-color: #3B4455;\n",
              "      fill: #D2E3FC;\n",
              "    }\n",
              "\n",
              "    [theme=dark] .colab-df-convert:hover {\n",
              "      background-color: #434B5C;\n",
              "      box-shadow: 0px 1px 3px 1px rgba(0, 0, 0, 0.15);\n",
              "      filter: drop-shadow(0px 1px 2px rgba(0, 0, 0, 0.3));\n",
              "      fill: #FFFFFF;\n",
              "    }\n",
              "  </style>\n",
              "\n",
              "      <script>\n",
              "        const buttonEl =\n",
              "          document.querySelector('#df-d4c25e15-8f53-49c5-9ed4-15f7acc05561 button.colab-df-convert');\n",
              "        buttonEl.style.display =\n",
              "          google.colab.kernel.accessAllowed ? 'block' : 'none';\n",
              "\n",
              "        async function convertToInteractive(key) {\n",
              "          const element = document.querySelector('#df-d4c25e15-8f53-49c5-9ed4-15f7acc05561');\n",
              "          const dataTable =\n",
              "            await google.colab.kernel.invokeFunction('convertToInteractive',\n",
              "                                                     [key], {});\n",
              "          if (!dataTable) return;\n",
              "\n",
              "          const docLinkHtml = 'Like what you see? Visit the ' +\n",
              "            '<a target=\"_blank\" href=https://colab.research.google.com/notebooks/data_table.ipynb>data table notebook</a>'\n",
              "            + ' to learn more about interactive tables.';\n",
              "          element.innerHTML = '';\n",
              "          dataTable['output_type'] = 'display_data';\n",
              "          await google.colab.output.renderOutput(dataTable, element);\n",
              "          const docLink = document.createElement('div');\n",
              "          docLink.innerHTML = docLinkHtml;\n",
              "          element.appendChild(docLink);\n",
              "        }\n",
              "      </script>\n",
              "    </div>\n",
              "  </div>\n",
              "  "
            ],
            "text/plain": [
              "   rider_id  first_mile_distance  ...  total_distance  delivery_success\n",
              "0     12884               1.6585  ...          6.1985          0.995370\n",
              "1      3541               2.0709  ...          7.9109          1.000000\n",
              "2       603               1.3884  ...          2.3784          1.000000\n",
              "3      3414               1.9039  ...          4.4939          0.976000\n",
              "4      1426               0.8275  ...          1.7675          0.994318\n",
              "\n",
              "[5 rows x 17 columns]"
            ]
          },
          "metadata": {},
          "execution_count": 78
        }
      ],
      "source": [
        "df_test.head()"
      ]
    },
    {
      "cell_type": "code",
      "execution_count": 79,
      "metadata": {
        "id": "LQtPF8wfsIRm"
      },
      "outputs": [],
      "source": [
        "df = df.drop(['cancelled_time'], axis=1)"
      ]
    },
    {
      "cell_type": "code",
      "execution_count": 80,
      "metadata": {
        "colab": {
          "base_uri": "https://localhost:8080/"
        },
        "id": "C3wGCYq1sYlK",
        "outputId": "9f151ae7-dceb-4bc0-8183-a8f59dba7fca"
      },
      "outputs": [
        {
          "output_type": "execute_result",
          "data": {
            "text/plain": [
              "rider_id                     0\n",
              "first_mile_distance          0\n",
              "last_mile_distance           0\n",
              "alloted_orders               0\n",
              "delivered_orders             0\n",
              "cancelled                    0\n",
              "undelivered_orders           0\n",
              "lifetime_order_count         0\n",
              "reassignment_method          0\n",
              "reassignment_reason          0\n",
              "reassigned_order        419393\n",
              "session_time              3344\n",
              "accept_sec                 139\n",
              "order_sec                  139\n",
              "month                        0\n",
              "day                          0\n",
              "total_distance               0\n",
              "delivery_success             0\n",
              "dtype: int64"
            ]
          },
          "metadata": {},
          "execution_count": 80
        }
      ],
      "source": [
        "df.isnull().sum()"
      ]
    },
    {
      "cell_type": "code",
      "execution_count": 81,
      "metadata": {
        "colab": {
          "base_uri": "https://localhost:8080/"
        },
        "id": "zefH5xBDshaF",
        "outputId": "701f8bd9-a9dd-4a9c-ac33-7b572a61919b"
      },
      "outputs": [
        {
          "output_type": "execute_result",
          "data": {
            "text/plain": [
              "1.0    13266\n",
              "Name: reassigned_order, dtype: int64"
            ]
          },
          "metadata": {},
          "execution_count": 81
        }
      ],
      "source": [
        "df['reassigned_order'].value_counts()"
      ]
    },
    {
      "cell_type": "code",
      "execution_count": 82,
      "metadata": {
        "id": "vxvhSuj7szGf"
      },
      "outputs": [],
      "source": [
        "df_test['reassigned_order'] = df_test['reassigned_order'].replace(np.nan, 0)\n",
        "df['reassigned_order'] = df['reassigned_order'].replace(np.nan, 0)"
      ]
    },
    {
      "cell_type": "code",
      "execution_count": 83,
      "metadata": {
        "colab": {
          "base_uri": "https://localhost:8080/"
        },
        "id": "iCW2Z-XntK_g",
        "outputId": "7a50ae99-7c85-4c97-b24c-27859de3860c"
      },
      "outputs": [
        {
          "output_type": "execute_result",
          "data": {
            "text/plain": [
              "0.066667      143\n",
              "0.033333      135\n",
              "0.116667      122\n",
              "0.150000      122\n",
              "0.050000      121\n",
              "             ... \n",
              "524.016667      1\n",
              "73.850000       1\n",
              "801.716667      1\n",
              "617.116667      1\n",
              "278.750000      1\n",
              "Name: session_time, Length: 65405, dtype: int64"
            ]
          },
          "metadata": {},
          "execution_count": 83
        }
      ],
      "source": [
        "df['session_time'].value_counts()"
      ]
    },
    {
      "cell_type": "code",
      "execution_count": 84,
      "metadata": {
        "id": "IT4LnPATtRX1"
      },
      "outputs": [],
      "source": [
        "\n",
        "df['session_time'] = df['session_time'].replace(np.nan,0)\n",
        "df_test['session_time'] = df_test['session_time'].replace(np.nan,0)\n"
      ]
    },
    {
      "cell_type": "code",
      "execution_count": 85,
      "metadata": {
        "colab": {
          "base_uri": "https://localhost:8080/"
        },
        "id": "lLzH8dhkufay",
        "outputId": "b65868a1-5880-4669-a260-41770c1b831f"
      },
      "outputs": [
        {
          "output_type": "execute_result",
          "data": {
            "text/plain": [
              " 7.0       11761\n",
              " 6.0       11692\n",
              " 8.0       11462\n",
              " 9.0       10823\n",
              " 5.0       10322\n",
              "           ...  \n",
              "-3341.0        1\n",
              "-2124.0        1\n",
              "-4091.0        1\n",
              "-3324.0        1\n",
              "-20.0          1\n",
              "Name: accept_sec, Length: 925, dtype: int64"
            ]
          },
          "metadata": {},
          "execution_count": 85
        }
      ],
      "source": [
        "df['accept_sec'].value_counts()"
      ]
    },
    {
      "cell_type": "code",
      "execution_count": 86,
      "metadata": {
        "colab": {
          "base_uri": "https://localhost:8080/"
        },
        "id": "XNz022Owuzfk",
        "outputId": "e4783a74-ada3-4c4b-9e33-51c95c8b9a15"
      },
      "outputs": [
        {
          "output_type": "execute_result",
          "data": {
            "text/plain": [
              "(432659, 18)"
            ]
          },
          "metadata": {},
          "execution_count": 86
        }
      ],
      "source": [
        "df.shape"
      ]
    },
    {
      "cell_type": "code",
      "execution_count": 87,
      "metadata": {
        "id": "w9dhXQEuu41m"
      },
      "outputs": [],
      "source": [
        "df_test['order_sec'] = df_test['order_sec'].replace(np.nan, 0)\n",
        "df['order_sec'] = df['order_sec'].replace(np.nan, 0)"
      ]
    },
    {
      "cell_type": "code",
      "execution_count": 88,
      "metadata": {
        "colab": {
          "base_uri": "https://localhost:8080/"
        },
        "id": "_yGPy_wTFi7R",
        "outputId": "4f23521f-d3c2-4d57-b68c-ae2d2dc2eed2"
      },
      "outputs": [
        {
          "output_type": "execute_result",
          "data": {
            "text/plain": [
              "rider_id                  0\n",
              "first_mile_distance       0\n",
              "last_mile_distance        0\n",
              "alloted_orders            0\n",
              "delivered_orders          0\n",
              "cancelled                 0\n",
              "undelivered_orders        0\n",
              "lifetime_order_count      0\n",
              "reassignment_method       0\n",
              "reassignment_reason       0\n",
              "reassigned_order          0\n",
              "session_time              0\n",
              "accept_sec              139\n",
              "order_sec                 0\n",
              "month                     0\n",
              "day                       0\n",
              "total_distance            0\n",
              "delivery_success          0\n",
              "dtype: int64"
            ]
          },
          "metadata": {},
          "execution_count": 88
        }
      ],
      "source": [
        "df.isnull().sum()"
      ]
    },
    {
      "cell_type": "code",
      "execution_count": 89,
      "metadata": {
        "id": "8RB2kZzTw6S0"
      },
      "outputs": [],
      "source": [
        "\n",
        "df['accept_sec'] = df['accept_sec'].fillna(0)"
      ]
    },
    {
      "cell_type": "code",
      "execution_count": 90,
      "metadata": {
        "id": "dxpmIhsMxACB"
      },
      "outputs": [],
      "source": [
        "\n",
        "df_test['accept_sec'] = df_test['accept_sec'].fillna(0)"
      ]
    },
    {
      "cell_type": "code",
      "execution_count": 91,
      "metadata": {
        "colab": {
          "base_uri": "https://localhost:8080/"
        },
        "id": "KDqT8hvKxtsH",
        "outputId": "eb11ea5e-cc53-40b7-bf28-e14eab9ece4c"
      },
      "outputs": [
        {
          "output_type": "execute_result",
          "data": {
            "text/plain": [
              "rider_id                0\n",
              "first_mile_distance     0\n",
              "last_mile_distance      0\n",
              "alloted_orders          0\n",
              "delivered_orders        0\n",
              "cancelled               0\n",
              "undelivered_orders      0\n",
              "lifetime_order_count    0\n",
              "reassignment_method     0\n",
              "reassignment_reason     0\n",
              "reassigned_order        0\n",
              "session_time            0\n",
              "accept_sec              0\n",
              "order_sec               0\n",
              "month                   0\n",
              "day                     0\n",
              "total_distance          0\n",
              "delivery_success        0\n",
              "dtype: int64"
            ]
          },
          "metadata": {},
          "execution_count": 91
        }
      ],
      "source": [
        "df.isnull().sum()"
      ]
    },
    {
      "cell_type": "code",
      "execution_count": 92,
      "metadata": {
        "colab": {
          "base_uri": "https://localhost:8080/"
        },
        "id": "AUd7dmEIxw-T",
        "outputId": "a6edf4dc-657c-4386-f2e8-c2499d2b91a0"
      },
      "outputs": [
        {
          "output_type": "execute_result",
          "data": {
            "text/plain": [
              "rider_id                   0\n",
              "first_mile_distance        0\n",
              "last_mile_distance         0\n",
              "alloted_orders          4773\n",
              "delivered_orders        4884\n",
              "undelivered_orders      4884\n",
              "lifetime_order_count     778\n",
              "reassignment_method        0\n",
              "reassignment_reason        0\n",
              "reassigned_order           0\n",
              "session_time               0\n",
              "accept_sec                 0\n",
              "order_sec                  0\n",
              "month                      0\n",
              "day                        0\n",
              "total_distance             0\n",
              "delivery_success        4884\n",
              "dtype: int64"
            ]
          },
          "metadata": {},
          "execution_count": 92
        }
      ],
      "source": [
        "df_test.isnull().sum()"
      ]
    },
    {
      "cell_type": "code",
      "execution_count": 93,
      "metadata": {
        "colab": {
          "base_uri": "https://localhost:8080/",
          "height": 363
        },
        "id": "Ogwm6JmiGmLP",
        "outputId": "d781311b-84b5-4ed4-c251-ca67097ab9a5"
      },
      "outputs": [
        {
          "output_type": "execute_result",
          "data": {
            "text/html": [
              "\n",
              "  <div id=\"df-cb93b572-2606-4c9c-82b7-e938104ea428\">\n",
              "    <div class=\"colab-df-container\">\n",
              "      <div>\n",
              "<style scoped>\n",
              "    .dataframe tbody tr th:only-of-type {\n",
              "        vertical-align: middle;\n",
              "    }\n",
              "\n",
              "    .dataframe tbody tr th {\n",
              "        vertical-align: top;\n",
              "    }\n",
              "\n",
              "    .dataframe thead th {\n",
              "        text-align: right;\n",
              "    }\n",
              "</style>\n",
              "<table border=\"1\" class=\"dataframe\">\n",
              "  <thead>\n",
              "    <tr style=\"text-align: right;\">\n",
              "      <th></th>\n",
              "      <th>rider_id</th>\n",
              "      <th>first_mile_distance</th>\n",
              "      <th>last_mile_distance</th>\n",
              "      <th>alloted_orders</th>\n",
              "      <th>delivered_orders</th>\n",
              "      <th>cancelled</th>\n",
              "      <th>undelivered_orders</th>\n",
              "      <th>lifetime_order_count</th>\n",
              "      <th>reassignment_method</th>\n",
              "      <th>reassignment_reason</th>\n",
              "      <th>reassigned_order</th>\n",
              "      <th>session_time</th>\n",
              "      <th>accept_sec</th>\n",
              "      <th>order_sec</th>\n",
              "      <th>month</th>\n",
              "      <th>day</th>\n",
              "      <th>total_distance</th>\n",
              "      <th>delivery_success</th>\n",
              "    </tr>\n",
              "  </thead>\n",
              "  <tbody>\n",
              "    <tr>\n",
              "      <th>count</th>\n",
              "      <td>432659.000000</td>\n",
              "      <td>432659.000000</td>\n",
              "      <td>432659.000000</td>\n",
              "      <td>432659.000000</td>\n",
              "      <td>432659.000000</td>\n",
              "      <td>432659.000000</td>\n",
              "      <td>432659.000000</td>\n",
              "      <td>432659.000000</td>\n",
              "      <td>432659.000000</td>\n",
              "      <td>432659.000000</td>\n",
              "      <td>432659.000000</td>\n",
              "      <td>432659.000000</td>\n",
              "      <td>432659.000000</td>\n",
              "      <td>432659.000000</td>\n",
              "      <td>432659.000000</td>\n",
              "      <td>432659.000000</td>\n",
              "      <td>432659.000000</td>\n",
              "      <td>432659.000000</td>\n",
              "    </tr>\n",
              "    <tr>\n",
              "      <th>mean</th>\n",
              "      <td>7626.979559</td>\n",
              "      <td>1.230589</td>\n",
              "      <td>2.972894</td>\n",
              "      <td>104.714614</td>\n",
              "      <td>103.950448</td>\n",
              "      <td>0.010084</td>\n",
              "      <td>0.764165</td>\n",
              "      <td>878.266279</td>\n",
              "      <td>0.060486</td>\n",
              "      <td>0.074673</td>\n",
              "      <td>0.030662</td>\n",
              "      <td>220.748088</td>\n",
              "      <td>60.027114</td>\n",
              "      <td>133.109178</td>\n",
              "      <td>1.473632</td>\n",
              "      <td>16.529200</td>\n",
              "      <td>4.203484</td>\n",
              "      <td>0.991057</td>\n",
              "    </tr>\n",
              "    <tr>\n",
              "      <th>std</th>\n",
              "      <td>5521.688329</td>\n",
              "      <td>0.845893</td>\n",
              "      <td>1.886151</td>\n",
              "      <td>90.122751</td>\n",
              "      <td>89.639646</td>\n",
              "      <td>0.099912</td>\n",
              "      <td>1.066473</td>\n",
              "      <td>1514.971489</td>\n",
              "      <td>0.341336</td>\n",
              "      <td>0.435148</td>\n",
              "      <td>0.172399</td>\n",
              "      <td>177.838636</td>\n",
              "      <td>106.037799</td>\n",
              "      <td>283.140349</td>\n",
              "      <td>0.499305</td>\n",
              "      <td>12.734255</td>\n",
              "      <td>2.165684</td>\n",
              "      <td>0.023458</td>\n",
              "    </tr>\n",
              "    <tr>\n",
              "      <th>min</th>\n",
              "      <td>0.000000</td>\n",
              "      <td>0.000134</td>\n",
              "      <td>0.000000</td>\n",
              "      <td>1.000000</td>\n",
              "      <td>1.000000</td>\n",
              "      <td>0.000000</td>\n",
              "      <td>0.000000</td>\n",
              "      <td>1.000000</td>\n",
              "      <td>0.000000</td>\n",
              "      <td>0.000000</td>\n",
              "      <td>0.000000</td>\n",
              "      <td>0.000000</td>\n",
              "      <td>-28534.000000</td>\n",
              "      <td>0.000000</td>\n",
              "      <td>1.000000</td>\n",
              "      <td>1.000000</td>\n",
              "      <td>0.003224</td>\n",
              "      <td>0.166667</td>\n",
              "    </tr>\n",
              "    <tr>\n",
              "      <th>25%</th>\n",
              "      <td>2733.000000</td>\n",
              "      <td>0.541000</td>\n",
              "      <td>1.470000</td>\n",
              "      <td>36.000000</td>\n",
              "      <td>36.000000</td>\n",
              "      <td>0.000000</td>\n",
              "      <td>0.000000</td>\n",
              "      <td>179.000000</td>\n",
              "      <td>0.000000</td>\n",
              "      <td>0.000000</td>\n",
              "      <td>0.000000</td>\n",
              "      <td>83.400000</td>\n",
              "      <td>14.000000</td>\n",
              "      <td>33.000000</td>\n",
              "      <td>1.000000</td>\n",
              "      <td>3.000000</td>\n",
              "      <td>2.523100</td>\n",
              "      <td>0.988764</td>\n",
              "    </tr>\n",
              "    <tr>\n",
              "      <th>50%</th>\n",
              "      <td>6590.000000</td>\n",
              "      <td>1.139600</td>\n",
              "      <td>2.670000</td>\n",
              "      <td>81.000000</td>\n",
              "      <td>81.000000</td>\n",
              "      <td>0.000000</td>\n",
              "      <td>0.000000</td>\n",
              "      <td>416.000000</td>\n",
              "      <td>0.000000</td>\n",
              "      <td>0.000000</td>\n",
              "      <td>0.000000</td>\n",
              "      <td>175.700000</td>\n",
              "      <td>36.000000</td>\n",
              "      <td>63.000000</td>\n",
              "      <td>1.000000</td>\n",
              "      <td>26.000000</td>\n",
              "      <td>3.981100</td>\n",
              "      <td>1.000000</td>\n",
              "    </tr>\n",
              "    <tr>\n",
              "      <th>75%</th>\n",
              "      <td>11722.000000</td>\n",
              "      <td>1.853200</td>\n",
              "      <td>4.230000</td>\n",
              "      <td>147.000000</td>\n",
              "      <td>146.000000</td>\n",
              "      <td>0.000000</td>\n",
              "      <td>1.000000</td>\n",
              "      <td>977.000000</td>\n",
              "      <td>0.000000</td>\n",
              "      <td>0.000000</td>\n",
              "      <td>0.000000</td>\n",
              "      <td>318.750000</td>\n",
              "      <td>62.000000</td>\n",
              "      <td>112.000000</td>\n",
              "      <td>2.000000</td>\n",
              "      <td>29.000000</td>\n",
              "      <td>5.604500</td>\n",
              "      <td>1.000000</td>\n",
              "    </tr>\n",
              "    <tr>\n",
              "      <th>max</th>\n",
              "      <td>21566.000000</td>\n",
              "      <td>42.038100</td>\n",
              "      <td>22.410000</td>\n",
              "      <td>567.000000</td>\n",
              "      <td>562.000000</td>\n",
              "      <td>1.000000</td>\n",
              "      <td>9.000000</td>\n",
              "      <td>30469.000000</td>\n",
              "      <td>2.000000</td>\n",
              "      <td>3.000000</td>\n",
              "      <td>1.000000</td>\n",
              "      <td>1298.966667</td>\n",
              "      <td>930.000000</td>\n",
              "      <td>15598.000000</td>\n",
              "      <td>2.000000</td>\n",
              "      <td>31.000000</td>\n",
              "      <td>45.828100</td>\n",
              "      <td>1.000000</td>\n",
              "    </tr>\n",
              "  </tbody>\n",
              "</table>\n",
              "</div>\n",
              "      <button class=\"colab-df-convert\" onclick=\"convertToInteractive('df-cb93b572-2606-4c9c-82b7-e938104ea428')\"\n",
              "              title=\"Convert this dataframe to an interactive table.\"\n",
              "              style=\"display:none;\">\n",
              "        \n",
              "  <svg xmlns=\"http://www.w3.org/2000/svg\" height=\"24px\"viewBox=\"0 0 24 24\"\n",
              "       width=\"24px\">\n",
              "    <path d=\"M0 0h24v24H0V0z\" fill=\"none\"/>\n",
              "    <path d=\"M18.56 5.44l.94 2.06.94-2.06 2.06-.94-2.06-.94-.94-2.06-.94 2.06-2.06.94zm-11 1L8.5 8.5l.94-2.06 2.06-.94-2.06-.94L8.5 2.5l-.94 2.06-2.06.94zm10 10l.94 2.06.94-2.06 2.06-.94-2.06-.94-.94-2.06-.94 2.06-2.06.94z\"/><path d=\"M17.41 7.96l-1.37-1.37c-.4-.4-.92-.59-1.43-.59-.52 0-1.04.2-1.43.59L10.3 9.45l-7.72 7.72c-.78.78-.78 2.05 0 2.83L4 21.41c.39.39.9.59 1.41.59.51 0 1.02-.2 1.41-.59l7.78-7.78 2.81-2.81c.8-.78.8-2.07 0-2.86zM5.41 20L4 18.59l7.72-7.72 1.47 1.35L5.41 20z\"/>\n",
              "  </svg>\n",
              "      </button>\n",
              "      \n",
              "  <style>\n",
              "    .colab-df-container {\n",
              "      display:flex;\n",
              "      flex-wrap:wrap;\n",
              "      gap: 12px;\n",
              "    }\n",
              "\n",
              "    .colab-df-convert {\n",
              "      background-color: #E8F0FE;\n",
              "      border: none;\n",
              "      border-radius: 50%;\n",
              "      cursor: pointer;\n",
              "      display: none;\n",
              "      fill: #1967D2;\n",
              "      height: 32px;\n",
              "      padding: 0 0 0 0;\n",
              "      width: 32px;\n",
              "    }\n",
              "\n",
              "    .colab-df-convert:hover {\n",
              "      background-color: #E2EBFA;\n",
              "      box-shadow: 0px 1px 2px rgba(60, 64, 67, 0.3), 0px 1px 3px 1px rgba(60, 64, 67, 0.15);\n",
              "      fill: #174EA6;\n",
              "    }\n",
              "\n",
              "    [theme=dark] .colab-df-convert {\n",
              "      background-color: #3B4455;\n",
              "      fill: #D2E3FC;\n",
              "    }\n",
              "\n",
              "    [theme=dark] .colab-df-convert:hover {\n",
              "      background-color: #434B5C;\n",
              "      box-shadow: 0px 1px 3px 1px rgba(0, 0, 0, 0.15);\n",
              "      filter: drop-shadow(0px 1px 2px rgba(0, 0, 0, 0.3));\n",
              "      fill: #FFFFFF;\n",
              "    }\n",
              "  </style>\n",
              "\n",
              "      <script>\n",
              "        const buttonEl =\n",
              "          document.querySelector('#df-cb93b572-2606-4c9c-82b7-e938104ea428 button.colab-df-convert');\n",
              "        buttonEl.style.display =\n",
              "          google.colab.kernel.accessAllowed ? 'block' : 'none';\n",
              "\n",
              "        async function convertToInteractive(key) {\n",
              "          const element = document.querySelector('#df-cb93b572-2606-4c9c-82b7-e938104ea428');\n",
              "          const dataTable =\n",
              "            await google.colab.kernel.invokeFunction('convertToInteractive',\n",
              "                                                     [key], {});\n",
              "          if (!dataTable) return;\n",
              "\n",
              "          const docLinkHtml = 'Like what you see? Visit the ' +\n",
              "            '<a target=\"_blank\" href=https://colab.research.google.com/notebooks/data_table.ipynb>data table notebook</a>'\n",
              "            + ' to learn more about interactive tables.';\n",
              "          element.innerHTML = '';\n",
              "          dataTable['output_type'] = 'display_data';\n",
              "          await google.colab.output.renderOutput(dataTable, element);\n",
              "          const docLink = document.createElement('div');\n",
              "          docLink.innerHTML = docLinkHtml;\n",
              "          element.appendChild(docLink);\n",
              "        }\n",
              "      </script>\n",
              "    </div>\n",
              "  </div>\n",
              "  "
            ],
            "text/plain": [
              "            rider_id  first_mile_distance  ...  total_distance  delivery_success\n",
              "count  432659.000000        432659.000000  ...   432659.000000     432659.000000\n",
              "mean     7626.979559             1.230589  ...        4.203484          0.991057\n",
              "std      5521.688329             0.845893  ...        2.165684          0.023458\n",
              "min         0.000000             0.000134  ...        0.003224          0.166667\n",
              "25%      2733.000000             0.541000  ...        2.523100          0.988764\n",
              "50%      6590.000000             1.139600  ...        3.981100          1.000000\n",
              "75%     11722.000000             1.853200  ...        5.604500          1.000000\n",
              "max     21566.000000            42.038100  ...       45.828100          1.000000\n",
              "\n",
              "[8 rows x 18 columns]"
            ]
          },
          "metadata": {},
          "execution_count": 93
        }
      ],
      "source": [
        "df.describe()"
      ]
    },
    {
      "cell_type": "code",
      "execution_count": 94,
      "metadata": {
        "colab": {
          "base_uri": "https://localhost:8080/"
        },
        "id": "EZEn9DBTx0Ez",
        "outputId": "6a8073a4-bbc9-4804-e17c-06212416e76d"
      },
      "outputs": [
        {
          "output_type": "execute_result",
          "data": {
            "text/plain": [
              "(144844, 17)"
            ]
          },
          "metadata": {},
          "execution_count": 94
        }
      ],
      "source": [
        "df_test.shape\n"
      ]
    },
    {
      "cell_type": "code",
      "execution_count": 95,
      "metadata": {
        "id": "-Q0TF1nmyMKM"
      },
      "outputs": [],
      "source": [
        "df_test['alloted_orders'] = df_test['alloted_orders'].replace(np.nan, 0)"
      ]
    },
    {
      "cell_type": "code",
      "execution_count": 96,
      "metadata": {
        "id": "vgW3A2yN1Ev7"
      },
      "outputs": [],
      "source": [
        "df_test['delivery_success'] = df_test['delivery_success'].replace(np.nan, 0)"
      ]
    },
    {
      "cell_type": "code",
      "execution_count": 97,
      "metadata": {
        "id": "ed1eSR0a1SRL"
      },
      "outputs": [],
      "source": [
        "df_test['lifetime_order_count'] = df_test['lifetime_order_count'].replace(np.nan, 0)"
      ]
    },
    {
      "cell_type": "code",
      "execution_count": 98,
      "metadata": {
        "colab": {
          "base_uri": "https://localhost:8080/"
        },
        "id": "-CHMuWCa1a1F",
        "outputId": "eea68129-7304-4ca1-999d-9e7d237ccef2"
      },
      "outputs": [
        {
          "output_type": "execute_result",
          "data": {
            "text/plain": [
              "rider_id                   0\n",
              "first_mile_distance        0\n",
              "last_mile_distance         0\n",
              "alloted_orders             0\n",
              "delivered_orders        4884\n",
              "undelivered_orders      4884\n",
              "lifetime_order_count       0\n",
              "reassignment_method        0\n",
              "reassignment_reason        0\n",
              "reassigned_order           0\n",
              "session_time               0\n",
              "accept_sec                 0\n",
              "order_sec                  0\n",
              "month                      0\n",
              "day                        0\n",
              "total_distance             0\n",
              "delivery_success           0\n",
              "dtype: int64"
            ]
          },
          "metadata": {},
          "execution_count": 98
        }
      ],
      "source": [
        "df_test.isnull().sum()"
      ]
    },
    {
      "cell_type": "code",
      "execution_count": 99,
      "metadata": {
        "id": "UEYHfyXgG4Ua"
      },
      "outputs": [],
      "source": [
        "df_test['delivered_orders'] = df_test['delivered_orders'].replace(np.nan, 0)\n",
        "df['undelivered_orders'] = df['undelivered_orders'].replace(np.nan, 0)"
      ]
    },
    {
      "cell_type": "code",
      "execution_count": 100,
      "metadata": {
        "colab": {
          "base_uri": "https://localhost:8080/"
        },
        "id": "hAFz43F-1enc",
        "outputId": "8a691325-cab8-405f-bd7c-710aefee664e"
      },
      "outputs": [
        {
          "output_type": "execute_result",
          "data": {
            "text/plain": [
              "(432659, 18)"
            ]
          },
          "metadata": {},
          "execution_count": 100
        }
      ],
      "source": [
        "df.shape"
      ]
    },
    {
      "cell_type": "code",
      "execution_count": 101,
      "metadata": {
        "colab": {
          "base_uri": "https://localhost:8080/"
        },
        "id": "oVn5sn211gSN",
        "outputId": "2a7f57a8-cbbb-4397-e35e-17954b9daa9d"
      },
      "outputs": [
        {
          "output_type": "execute_result",
          "data": {
            "text/plain": [
              "(144844, 17)"
            ]
          },
          "metadata": {},
          "execution_count": 101
        }
      ],
      "source": [
        "df_test.shape"
      ]
    },
    {
      "cell_type": "code",
      "execution_count": 102,
      "metadata": {
        "colab": {
          "base_uri": "https://localhost:8080/",
          "height": 427
        },
        "id": "F94Nf55w1kCu",
        "outputId": "ab3df9c8-2c31-40fd-8e6c-5b517efaaa18"
      },
      "outputs": [
        {
          "output_type": "execute_result",
          "data": {
            "text/html": [
              "\n",
              "  <div id=\"df-80f4a3c4-a773-4746-9424-223b3bc3ea12\">\n",
              "    <div class=\"colab-df-container\">\n",
              "      <div>\n",
              "<style scoped>\n",
              "    .dataframe tbody tr th:only-of-type {\n",
              "        vertical-align: middle;\n",
              "    }\n",
              "\n",
              "    .dataframe tbody tr th {\n",
              "        vertical-align: top;\n",
              "    }\n",
              "\n",
              "    .dataframe thead th {\n",
              "        text-align: right;\n",
              "    }\n",
              "</style>\n",
              "<table border=\"1\" class=\"dataframe\">\n",
              "  <thead>\n",
              "    <tr style=\"text-align: right;\">\n",
              "      <th></th>\n",
              "      <th>rider_id</th>\n",
              "      <th>first_mile_distance</th>\n",
              "      <th>last_mile_distance</th>\n",
              "      <th>alloted_orders</th>\n",
              "      <th>delivered_orders</th>\n",
              "      <th>cancelled</th>\n",
              "      <th>undelivered_orders</th>\n",
              "      <th>lifetime_order_count</th>\n",
              "      <th>reassignment_method</th>\n",
              "      <th>reassignment_reason</th>\n",
              "      <th>reassigned_order</th>\n",
              "      <th>session_time</th>\n",
              "      <th>accept_sec</th>\n",
              "      <th>order_sec</th>\n",
              "      <th>month</th>\n",
              "      <th>day</th>\n",
              "      <th>total_distance</th>\n",
              "      <th>delivery_success</th>\n",
              "    </tr>\n",
              "  </thead>\n",
              "  <tbody>\n",
              "    <tr>\n",
              "      <th>0</th>\n",
              "      <td>11696</td>\n",
              "      <td>1.566600</td>\n",
              "      <td>2.65</td>\n",
              "      <td>46.0</td>\n",
              "      <td>46.0</td>\n",
              "      <td>0</td>\n",
              "      <td>0.0</td>\n",
              "      <td>621.0</td>\n",
              "      <td>0</td>\n",
              "      <td>0</td>\n",
              "      <td>0.0</td>\n",
              "      <td>0.000000</td>\n",
              "      <td>9.0</td>\n",
              "      <td>33.0</td>\n",
              "      <td>1</td>\n",
              "      <td>26</td>\n",
              "      <td>4.216600</td>\n",
              "      <td>1.000000</td>\n",
              "    </tr>\n",
              "    <tr>\n",
              "      <th>1</th>\n",
              "      <td>18117</td>\n",
              "      <td>2.520700</td>\n",
              "      <td>2.76</td>\n",
              "      <td>8.0</td>\n",
              "      <td>8.0</td>\n",
              "      <td>0</td>\n",
              "      <td>0.0</td>\n",
              "      <td>105.0</td>\n",
              "      <td>0</td>\n",
              "      <td>0</td>\n",
              "      <td>0.0</td>\n",
              "      <td>3.266667</td>\n",
              "      <td>48.0</td>\n",
              "      <td>89.0</td>\n",
              "      <td>1</td>\n",
              "      <td>26</td>\n",
              "      <td>5.280700</td>\n",
              "      <td>1.000000</td>\n",
              "    </tr>\n",
              "    <tr>\n",
              "      <th>2</th>\n",
              "      <td>18623</td>\n",
              "      <td>2.207400</td>\n",
              "      <td>4.80</td>\n",
              "      <td>1.0</td>\n",
              "      <td>1.0</td>\n",
              "      <td>0</td>\n",
              "      <td>0.0</td>\n",
              "      <td>66.0</td>\n",
              "      <td>0</td>\n",
              "      <td>0</td>\n",
              "      <td>0.0</td>\n",
              "      <td>9.816667</td>\n",
              "      <td>16.0</td>\n",
              "      <td>24.0</td>\n",
              "      <td>1</td>\n",
              "      <td>26</td>\n",
              "      <td>7.007400</td>\n",
              "      <td>1.000000</td>\n",
              "    </tr>\n",
              "    <tr>\n",
              "      <th>3</th>\n",
              "      <td>15945</td>\n",
              "      <td>2.189400</td>\n",
              "      <td>6.38</td>\n",
              "      <td>1.0</td>\n",
              "      <td>1.0</td>\n",
              "      <td>0</td>\n",
              "      <td>0.0</td>\n",
              "      <td>127.0</td>\n",
              "      <td>0</td>\n",
              "      <td>0</td>\n",
              "      <td>0.0</td>\n",
              "      <td>17.533333</td>\n",
              "      <td>41.0</td>\n",
              "      <td>73.0</td>\n",
              "      <td>1</td>\n",
              "      <td>26</td>\n",
              "      <td>8.569400</td>\n",
              "      <td>1.000000</td>\n",
              "    </tr>\n",
              "    <tr>\n",
              "      <th>4</th>\n",
              "      <td>17589</td>\n",
              "      <td>2.787000</td>\n",
              "      <td>4.01</td>\n",
              "      <td>34.0</td>\n",
              "      <td>34.0</td>\n",
              "      <td>0</td>\n",
              "      <td>0.0</td>\n",
              "      <td>84.0</td>\n",
              "      <td>0</td>\n",
              "      <td>0</td>\n",
              "      <td>0.0</td>\n",
              "      <td>1.350000</td>\n",
              "      <td>36.0</td>\n",
              "      <td>87.0</td>\n",
              "      <td>1</td>\n",
              "      <td>26</td>\n",
              "      <td>6.797000</td>\n",
              "      <td>1.000000</td>\n",
              "    </tr>\n",
              "    <tr>\n",
              "      <th>5</th>\n",
              "      <td>1469</td>\n",
              "      <td>2.481800</td>\n",
              "      <td>5.18</td>\n",
              "      <td>296.0</td>\n",
              "      <td>294.0</td>\n",
              "      <td>0</td>\n",
              "      <td>2.0</td>\n",
              "      <td>1506.0</td>\n",
              "      <td>0</td>\n",
              "      <td>0</td>\n",
              "      <td>0.0</td>\n",
              "      <td>0.000000</td>\n",
              "      <td>13.0</td>\n",
              "      <td>311.0</td>\n",
              "      <td>1</td>\n",
              "      <td>26</td>\n",
              "      <td>7.661800</td>\n",
              "      <td>0.993243</td>\n",
              "    </tr>\n",
              "    <tr>\n",
              "      <th>6</th>\n",
              "      <td>8851</td>\n",
              "      <td>2.809100</td>\n",
              "      <td>3.40</td>\n",
              "      <td>45.0</td>\n",
              "      <td>45.0</td>\n",
              "      <td>0</td>\n",
              "      <td>0.0</td>\n",
              "      <td>1460.0</td>\n",
              "      <td>0</td>\n",
              "      <td>0</td>\n",
              "      <td>0.0</td>\n",
              "      <td>0.000000</td>\n",
              "      <td>47.0</td>\n",
              "      <td>75.0</td>\n",
              "      <td>1</td>\n",
              "      <td>26</td>\n",
              "      <td>6.209100</td>\n",
              "      <td>1.000000</td>\n",
              "    </tr>\n",
              "    <tr>\n",
              "      <th>7</th>\n",
              "      <td>8493</td>\n",
              "      <td>0.025681</td>\n",
              "      <td>0.16</td>\n",
              "      <td>54.0</td>\n",
              "      <td>53.0</td>\n",
              "      <td>0</td>\n",
              "      <td>1.0</td>\n",
              "      <td>270.0</td>\n",
              "      <td>0</td>\n",
              "      <td>0</td>\n",
              "      <td>0.0</td>\n",
              "      <td>44.166667</td>\n",
              "      <td>6.0</td>\n",
              "      <td>34.0</td>\n",
              "      <td>1</td>\n",
              "      <td>26</td>\n",
              "      <td>0.185681</td>\n",
              "      <td>0.981481</td>\n",
              "    </tr>\n",
              "    <tr>\n",
              "      <th>8</th>\n",
              "      <td>11543</td>\n",
              "      <td>2.444200</td>\n",
              "      <td>2.86</td>\n",
              "      <td>29.0</td>\n",
              "      <td>29.0</td>\n",
              "      <td>0</td>\n",
              "      <td>0.0</td>\n",
              "      <td>955.0</td>\n",
              "      <td>0</td>\n",
              "      <td>0</td>\n",
              "      <td>0.0</td>\n",
              "      <td>2.500000</td>\n",
              "      <td>24.0</td>\n",
              "      <td>54.0</td>\n",
              "      <td>1</td>\n",
              "      <td>26</td>\n",
              "      <td>5.304200</td>\n",
              "      <td>1.000000</td>\n",
              "    </tr>\n",
              "    <tr>\n",
              "      <th>10</th>\n",
              "      <td>8795</td>\n",
              "      <td>1.393000</td>\n",
              "      <td>3.31</td>\n",
              "      <td>17.0</td>\n",
              "      <td>17.0</td>\n",
              "      <td>0</td>\n",
              "      <td>0.0</td>\n",
              "      <td>174.0</td>\n",
              "      <td>0</td>\n",
              "      <td>0</td>\n",
              "      <td>0.0</td>\n",
              "      <td>43.250000</td>\n",
              "      <td>5.0</td>\n",
              "      <td>46.0</td>\n",
              "      <td>1</td>\n",
              "      <td>26</td>\n",
              "      <td>4.703000</td>\n",
              "      <td>1.000000</td>\n",
              "    </tr>\n",
              "  </tbody>\n",
              "</table>\n",
              "</div>\n",
              "      <button class=\"colab-df-convert\" onclick=\"convertToInteractive('df-80f4a3c4-a773-4746-9424-223b3bc3ea12')\"\n",
              "              title=\"Convert this dataframe to an interactive table.\"\n",
              "              style=\"display:none;\">\n",
              "        \n",
              "  <svg xmlns=\"http://www.w3.org/2000/svg\" height=\"24px\"viewBox=\"0 0 24 24\"\n",
              "       width=\"24px\">\n",
              "    <path d=\"M0 0h24v24H0V0z\" fill=\"none\"/>\n",
              "    <path d=\"M18.56 5.44l.94 2.06.94-2.06 2.06-.94-2.06-.94-.94-2.06-.94 2.06-2.06.94zm-11 1L8.5 8.5l.94-2.06 2.06-.94-2.06-.94L8.5 2.5l-.94 2.06-2.06.94zm10 10l.94 2.06.94-2.06 2.06-.94-2.06-.94-.94-2.06-.94 2.06-2.06.94z\"/><path d=\"M17.41 7.96l-1.37-1.37c-.4-.4-.92-.59-1.43-.59-.52 0-1.04.2-1.43.59L10.3 9.45l-7.72 7.72c-.78.78-.78 2.05 0 2.83L4 21.41c.39.39.9.59 1.41.59.51 0 1.02-.2 1.41-.59l7.78-7.78 2.81-2.81c.8-.78.8-2.07 0-2.86zM5.41 20L4 18.59l7.72-7.72 1.47 1.35L5.41 20z\"/>\n",
              "  </svg>\n",
              "      </button>\n",
              "      \n",
              "  <style>\n",
              "    .colab-df-container {\n",
              "      display:flex;\n",
              "      flex-wrap:wrap;\n",
              "      gap: 12px;\n",
              "    }\n",
              "\n",
              "    .colab-df-convert {\n",
              "      background-color: #E8F0FE;\n",
              "      border: none;\n",
              "      border-radius: 50%;\n",
              "      cursor: pointer;\n",
              "      display: none;\n",
              "      fill: #1967D2;\n",
              "      height: 32px;\n",
              "      padding: 0 0 0 0;\n",
              "      width: 32px;\n",
              "    }\n",
              "\n",
              "    .colab-df-convert:hover {\n",
              "      background-color: #E2EBFA;\n",
              "      box-shadow: 0px 1px 2px rgba(60, 64, 67, 0.3), 0px 1px 3px 1px rgba(60, 64, 67, 0.15);\n",
              "      fill: #174EA6;\n",
              "    }\n",
              "\n",
              "    [theme=dark] .colab-df-convert {\n",
              "      background-color: #3B4455;\n",
              "      fill: #D2E3FC;\n",
              "    }\n",
              "\n",
              "    [theme=dark] .colab-df-convert:hover {\n",
              "      background-color: #434B5C;\n",
              "      box-shadow: 0px 1px 3px 1px rgba(0, 0, 0, 0.15);\n",
              "      filter: drop-shadow(0px 1px 2px rgba(0, 0, 0, 0.3));\n",
              "      fill: #FFFFFF;\n",
              "    }\n",
              "  </style>\n",
              "\n",
              "      <script>\n",
              "        const buttonEl =\n",
              "          document.querySelector('#df-80f4a3c4-a773-4746-9424-223b3bc3ea12 button.colab-df-convert');\n",
              "        buttonEl.style.display =\n",
              "          google.colab.kernel.accessAllowed ? 'block' : 'none';\n",
              "\n",
              "        async function convertToInteractive(key) {\n",
              "          const element = document.querySelector('#df-80f4a3c4-a773-4746-9424-223b3bc3ea12');\n",
              "          const dataTable =\n",
              "            await google.colab.kernel.invokeFunction('convertToInteractive',\n",
              "                                                     [key], {});\n",
              "          if (!dataTable) return;\n",
              "\n",
              "          const docLinkHtml = 'Like what you see? Visit the ' +\n",
              "            '<a target=\"_blank\" href=https://colab.research.google.com/notebooks/data_table.ipynb>data table notebook</a>'\n",
              "            + ' to learn more about interactive tables.';\n",
              "          element.innerHTML = '';\n",
              "          dataTable['output_type'] = 'display_data';\n",
              "          await google.colab.output.renderOutput(dataTable, element);\n",
              "          const docLink = document.createElement('div');\n",
              "          docLink.innerHTML = docLinkHtml;\n",
              "          element.appendChild(docLink);\n",
              "        }\n",
              "      </script>\n",
              "    </div>\n",
              "  </div>\n",
              "  "
            ],
            "text/plain": [
              "    rider_id  first_mile_distance  ...  total_distance  delivery_success\n",
              "0      11696             1.566600  ...        4.216600          1.000000\n",
              "1      18117             2.520700  ...        5.280700          1.000000\n",
              "2      18623             2.207400  ...        7.007400          1.000000\n",
              "3      15945             2.189400  ...        8.569400          1.000000\n",
              "4      17589             2.787000  ...        6.797000          1.000000\n",
              "5       1469             2.481800  ...        7.661800          0.993243\n",
              "6       8851             2.809100  ...        6.209100          1.000000\n",
              "7       8493             0.025681  ...        0.185681          0.981481\n",
              "8      11543             2.444200  ...        5.304200          1.000000\n",
              "10      8795             1.393000  ...        4.703000          1.000000\n",
              "\n",
              "[10 rows x 18 columns]"
            ]
          },
          "metadata": {},
          "execution_count": 102
        }
      ],
      "source": [
        "df.head(10)"
      ]
    },
    {
      "cell_type": "code",
      "execution_count": 103,
      "metadata": {
        "colab": {
          "base_uri": "https://localhost:8080/",
          "height": 363
        },
        "id": "Gzcf6iND2u-t",
        "outputId": "3753f2f5-cd20-4eed-ad39-fccb4349fdbf"
      },
      "outputs": [
        {
          "output_type": "execute_result",
          "data": {
            "text/html": [
              "\n",
              "  <div id=\"df-ad11360c-87f0-4a9e-80a4-ceeb5455000e\">\n",
              "    <div class=\"colab-df-container\">\n",
              "      <div>\n",
              "<style scoped>\n",
              "    .dataframe tbody tr th:only-of-type {\n",
              "        vertical-align: middle;\n",
              "    }\n",
              "\n",
              "    .dataframe tbody tr th {\n",
              "        vertical-align: top;\n",
              "    }\n",
              "\n",
              "    .dataframe thead th {\n",
              "        text-align: right;\n",
              "    }\n",
              "</style>\n",
              "<table border=\"1\" class=\"dataframe\">\n",
              "  <thead>\n",
              "    <tr style=\"text-align: right;\">\n",
              "      <th></th>\n",
              "      <th>rider_id</th>\n",
              "      <th>first_mile_distance</th>\n",
              "      <th>last_mile_distance</th>\n",
              "      <th>alloted_orders</th>\n",
              "      <th>delivered_orders</th>\n",
              "      <th>cancelled</th>\n",
              "      <th>undelivered_orders</th>\n",
              "      <th>lifetime_order_count</th>\n",
              "      <th>reassignment_method</th>\n",
              "      <th>reassignment_reason</th>\n",
              "      <th>reassigned_order</th>\n",
              "      <th>session_time</th>\n",
              "      <th>accept_sec</th>\n",
              "      <th>order_sec</th>\n",
              "      <th>month</th>\n",
              "      <th>day</th>\n",
              "      <th>total_distance</th>\n",
              "      <th>delivery_success</th>\n",
              "    </tr>\n",
              "  </thead>\n",
              "  <tbody>\n",
              "    <tr>\n",
              "      <th>count</th>\n",
              "      <td>432659.000000</td>\n",
              "      <td>432659.000000</td>\n",
              "      <td>432659.000000</td>\n",
              "      <td>432659.000000</td>\n",
              "      <td>432659.000000</td>\n",
              "      <td>432659.000000</td>\n",
              "      <td>432659.000000</td>\n",
              "      <td>432659.000000</td>\n",
              "      <td>432659.000000</td>\n",
              "      <td>432659.000000</td>\n",
              "      <td>432659.000000</td>\n",
              "      <td>432659.000000</td>\n",
              "      <td>432659.000000</td>\n",
              "      <td>432659.000000</td>\n",
              "      <td>432659.000000</td>\n",
              "      <td>432659.000000</td>\n",
              "      <td>432659.000000</td>\n",
              "      <td>432659.000000</td>\n",
              "    </tr>\n",
              "    <tr>\n",
              "      <th>mean</th>\n",
              "      <td>7626.979559</td>\n",
              "      <td>1.230589</td>\n",
              "      <td>2.972894</td>\n",
              "      <td>104.714614</td>\n",
              "      <td>103.950448</td>\n",
              "      <td>0.010084</td>\n",
              "      <td>0.764165</td>\n",
              "      <td>878.266279</td>\n",
              "      <td>0.060486</td>\n",
              "      <td>0.074673</td>\n",
              "      <td>0.030662</td>\n",
              "      <td>220.748088</td>\n",
              "      <td>60.027114</td>\n",
              "      <td>133.109178</td>\n",
              "      <td>1.473632</td>\n",
              "      <td>16.529200</td>\n",
              "      <td>4.203484</td>\n",
              "      <td>0.991057</td>\n",
              "    </tr>\n",
              "    <tr>\n",
              "      <th>std</th>\n",
              "      <td>5521.688329</td>\n",
              "      <td>0.845893</td>\n",
              "      <td>1.886151</td>\n",
              "      <td>90.122751</td>\n",
              "      <td>89.639646</td>\n",
              "      <td>0.099912</td>\n",
              "      <td>1.066473</td>\n",
              "      <td>1514.971489</td>\n",
              "      <td>0.341336</td>\n",
              "      <td>0.435148</td>\n",
              "      <td>0.172399</td>\n",
              "      <td>177.838636</td>\n",
              "      <td>106.037799</td>\n",
              "      <td>283.140349</td>\n",
              "      <td>0.499305</td>\n",
              "      <td>12.734255</td>\n",
              "      <td>2.165684</td>\n",
              "      <td>0.023458</td>\n",
              "    </tr>\n",
              "    <tr>\n",
              "      <th>min</th>\n",
              "      <td>0.000000</td>\n",
              "      <td>0.000134</td>\n",
              "      <td>0.000000</td>\n",
              "      <td>1.000000</td>\n",
              "      <td>1.000000</td>\n",
              "      <td>0.000000</td>\n",
              "      <td>0.000000</td>\n",
              "      <td>1.000000</td>\n",
              "      <td>0.000000</td>\n",
              "      <td>0.000000</td>\n",
              "      <td>0.000000</td>\n",
              "      <td>0.000000</td>\n",
              "      <td>-28534.000000</td>\n",
              "      <td>0.000000</td>\n",
              "      <td>1.000000</td>\n",
              "      <td>1.000000</td>\n",
              "      <td>0.003224</td>\n",
              "      <td>0.166667</td>\n",
              "    </tr>\n",
              "    <tr>\n",
              "      <th>25%</th>\n",
              "      <td>2733.000000</td>\n",
              "      <td>0.541000</td>\n",
              "      <td>1.470000</td>\n",
              "      <td>36.000000</td>\n",
              "      <td>36.000000</td>\n",
              "      <td>0.000000</td>\n",
              "      <td>0.000000</td>\n",
              "      <td>179.000000</td>\n",
              "      <td>0.000000</td>\n",
              "      <td>0.000000</td>\n",
              "      <td>0.000000</td>\n",
              "      <td>83.400000</td>\n",
              "      <td>14.000000</td>\n",
              "      <td>33.000000</td>\n",
              "      <td>1.000000</td>\n",
              "      <td>3.000000</td>\n",
              "      <td>2.523100</td>\n",
              "      <td>0.988764</td>\n",
              "    </tr>\n",
              "    <tr>\n",
              "      <th>50%</th>\n",
              "      <td>6590.000000</td>\n",
              "      <td>1.139600</td>\n",
              "      <td>2.670000</td>\n",
              "      <td>81.000000</td>\n",
              "      <td>81.000000</td>\n",
              "      <td>0.000000</td>\n",
              "      <td>0.000000</td>\n",
              "      <td>416.000000</td>\n",
              "      <td>0.000000</td>\n",
              "      <td>0.000000</td>\n",
              "      <td>0.000000</td>\n",
              "      <td>175.700000</td>\n",
              "      <td>36.000000</td>\n",
              "      <td>63.000000</td>\n",
              "      <td>1.000000</td>\n",
              "      <td>26.000000</td>\n",
              "      <td>3.981100</td>\n",
              "      <td>1.000000</td>\n",
              "    </tr>\n",
              "    <tr>\n",
              "      <th>75%</th>\n",
              "      <td>11722.000000</td>\n",
              "      <td>1.853200</td>\n",
              "      <td>4.230000</td>\n",
              "      <td>147.000000</td>\n",
              "      <td>146.000000</td>\n",
              "      <td>0.000000</td>\n",
              "      <td>1.000000</td>\n",
              "      <td>977.000000</td>\n",
              "      <td>0.000000</td>\n",
              "      <td>0.000000</td>\n",
              "      <td>0.000000</td>\n",
              "      <td>318.750000</td>\n",
              "      <td>62.000000</td>\n",
              "      <td>112.000000</td>\n",
              "      <td>2.000000</td>\n",
              "      <td>29.000000</td>\n",
              "      <td>5.604500</td>\n",
              "      <td>1.000000</td>\n",
              "    </tr>\n",
              "    <tr>\n",
              "      <th>max</th>\n",
              "      <td>21566.000000</td>\n",
              "      <td>42.038100</td>\n",
              "      <td>22.410000</td>\n",
              "      <td>567.000000</td>\n",
              "      <td>562.000000</td>\n",
              "      <td>1.000000</td>\n",
              "      <td>9.000000</td>\n",
              "      <td>30469.000000</td>\n",
              "      <td>2.000000</td>\n",
              "      <td>3.000000</td>\n",
              "      <td>1.000000</td>\n",
              "      <td>1298.966667</td>\n",
              "      <td>930.000000</td>\n",
              "      <td>15598.000000</td>\n",
              "      <td>2.000000</td>\n",
              "      <td>31.000000</td>\n",
              "      <td>45.828100</td>\n",
              "      <td>1.000000</td>\n",
              "    </tr>\n",
              "  </tbody>\n",
              "</table>\n",
              "</div>\n",
              "      <button class=\"colab-df-convert\" onclick=\"convertToInteractive('df-ad11360c-87f0-4a9e-80a4-ceeb5455000e')\"\n",
              "              title=\"Convert this dataframe to an interactive table.\"\n",
              "              style=\"display:none;\">\n",
              "        \n",
              "  <svg xmlns=\"http://www.w3.org/2000/svg\" height=\"24px\"viewBox=\"0 0 24 24\"\n",
              "       width=\"24px\">\n",
              "    <path d=\"M0 0h24v24H0V0z\" fill=\"none\"/>\n",
              "    <path d=\"M18.56 5.44l.94 2.06.94-2.06 2.06-.94-2.06-.94-.94-2.06-.94 2.06-2.06.94zm-11 1L8.5 8.5l.94-2.06 2.06-.94-2.06-.94L8.5 2.5l-.94 2.06-2.06.94zm10 10l.94 2.06.94-2.06 2.06-.94-2.06-.94-.94-2.06-.94 2.06-2.06.94z\"/><path d=\"M17.41 7.96l-1.37-1.37c-.4-.4-.92-.59-1.43-.59-.52 0-1.04.2-1.43.59L10.3 9.45l-7.72 7.72c-.78.78-.78 2.05 0 2.83L4 21.41c.39.39.9.59 1.41.59.51 0 1.02-.2 1.41-.59l7.78-7.78 2.81-2.81c.8-.78.8-2.07 0-2.86zM5.41 20L4 18.59l7.72-7.72 1.47 1.35L5.41 20z\"/>\n",
              "  </svg>\n",
              "      </button>\n",
              "      \n",
              "  <style>\n",
              "    .colab-df-container {\n",
              "      display:flex;\n",
              "      flex-wrap:wrap;\n",
              "      gap: 12px;\n",
              "    }\n",
              "\n",
              "    .colab-df-convert {\n",
              "      background-color: #E8F0FE;\n",
              "      border: none;\n",
              "      border-radius: 50%;\n",
              "      cursor: pointer;\n",
              "      display: none;\n",
              "      fill: #1967D2;\n",
              "      height: 32px;\n",
              "      padding: 0 0 0 0;\n",
              "      width: 32px;\n",
              "    }\n",
              "\n",
              "    .colab-df-convert:hover {\n",
              "      background-color: #E2EBFA;\n",
              "      box-shadow: 0px 1px 2px rgba(60, 64, 67, 0.3), 0px 1px 3px 1px rgba(60, 64, 67, 0.15);\n",
              "      fill: #174EA6;\n",
              "    }\n",
              "\n",
              "    [theme=dark] .colab-df-convert {\n",
              "      background-color: #3B4455;\n",
              "      fill: #D2E3FC;\n",
              "    }\n",
              "\n",
              "    [theme=dark] .colab-df-convert:hover {\n",
              "      background-color: #434B5C;\n",
              "      box-shadow: 0px 1px 3px 1px rgba(0, 0, 0, 0.15);\n",
              "      filter: drop-shadow(0px 1px 2px rgba(0, 0, 0, 0.3));\n",
              "      fill: #FFFFFF;\n",
              "    }\n",
              "  </style>\n",
              "\n",
              "      <script>\n",
              "        const buttonEl =\n",
              "          document.querySelector('#df-ad11360c-87f0-4a9e-80a4-ceeb5455000e button.colab-df-convert');\n",
              "        buttonEl.style.display =\n",
              "          google.colab.kernel.accessAllowed ? 'block' : 'none';\n",
              "\n",
              "        async function convertToInteractive(key) {\n",
              "          const element = document.querySelector('#df-ad11360c-87f0-4a9e-80a4-ceeb5455000e');\n",
              "          const dataTable =\n",
              "            await google.colab.kernel.invokeFunction('convertToInteractive',\n",
              "                                                     [key], {});\n",
              "          if (!dataTable) return;\n",
              "\n",
              "          const docLinkHtml = 'Like what you see? Visit the ' +\n",
              "            '<a target=\"_blank\" href=https://colab.research.google.com/notebooks/data_table.ipynb>data table notebook</a>'\n",
              "            + ' to learn more about interactive tables.';\n",
              "          element.innerHTML = '';\n",
              "          dataTable['output_type'] = 'display_data';\n",
              "          await google.colab.output.renderOutput(dataTable, element);\n",
              "          const docLink = document.createElement('div');\n",
              "          docLink.innerHTML = docLinkHtml;\n",
              "          element.appendChild(docLink);\n",
              "        }\n",
              "      </script>\n",
              "    </div>\n",
              "  </div>\n",
              "  "
            ],
            "text/plain": [
              "            rider_id  first_mile_distance  ...  total_distance  delivery_success\n",
              "count  432659.000000        432659.000000  ...   432659.000000     432659.000000\n",
              "mean     7626.979559             1.230589  ...        4.203484          0.991057\n",
              "std      5521.688329             0.845893  ...        2.165684          0.023458\n",
              "min         0.000000             0.000134  ...        0.003224          0.166667\n",
              "25%      2733.000000             0.541000  ...        2.523100          0.988764\n",
              "50%      6590.000000             1.139600  ...        3.981100          1.000000\n",
              "75%     11722.000000             1.853200  ...        5.604500          1.000000\n",
              "max     21566.000000            42.038100  ...       45.828100          1.000000\n",
              "\n",
              "[8 rows x 18 columns]"
            ]
          },
          "metadata": {},
          "execution_count": 103
        }
      ],
      "source": [
        "df.describe()"
      ]
    },
    {
      "cell_type": "code",
      "execution_count": 104,
      "metadata": {
        "colab": {
          "base_uri": "https://localhost:8080/"
        },
        "id": "z7TG1QzxHFRD",
        "outputId": "9736019b-77a2-4022-fd1d-ed27d9688a14"
      },
      "outputs": [
        {
          "output_type": "execute_result",
          "data": {
            "text/plain": [
              "(432659, 18)"
            ]
          },
          "metadata": {},
          "execution_count": 104
        }
      ],
      "source": [
        "df.shape"
      ]
    },
    {
      "cell_type": "code",
      "execution_count": 105,
      "metadata": {
        "colab": {
          "base_uri": "https://localhost:8080/"
        },
        "id": "yTclI5T_HKou",
        "outputId": "96ac3f83-7e32-48b8-ed3e-b56f126a9d78"
      },
      "outputs": [
        {
          "output_type": "execute_result",
          "data": {
            "text/plain": [
              "(144844, 17)"
            ]
          },
          "metadata": {},
          "execution_count": 105
        }
      ],
      "source": [
        "df_test.shape"
      ]
    },
    {
      "cell_type": "code",
      "execution_count": 106,
      "metadata": {
        "colab": {
          "base_uri": "https://localhost:8080/"
        },
        "id": "esXEFDz6HNtT",
        "outputId": "0b1b000d-5375-424e-9778-48d77c2bd8aa"
      },
      "outputs": [
        {
          "output_type": "stream",
          "name": "stdout",
          "text": [
            "Data type of rider_id column of Dataframe :\n",
            "int64\n",
            "Data type of first_mile_distance column of Dataframe :\n",
            "float64\n",
            "Data type of last_mile_distance column of Dataframe :\n",
            "float64\n",
            "Data type of alloted_orders column of Dataframe :\n",
            "float64\n",
            "Data type of delivered_orders column of Dataframe :\n",
            "float64\n",
            "Data type of cancelled column of Dataframe :\n",
            "int64\n",
            "Data type of undelivered_orders column of Dataframe :\n",
            "float64\n",
            "Data type of lifetime_order_count column of Dataframe :\n",
            "float64\n",
            "Data type of reassignment_method column of Dataframe :\n",
            "int64\n",
            "Data type of reassignment_reason column of Dataframe :\n",
            "int64\n",
            "Data type of reassigned_order column of Dataframe :\n",
            "float64\n",
            "Data type of session_time column of Dataframe :\n",
            "float64\n",
            "Data type of accept_sec column of Dataframe :\n",
            "float64\n",
            "Data type of order_sec column of Dataframe :\n",
            "float64\n",
            "Data type of month column of Dataframe :\n",
            "int64\n",
            "Data type of day column of Dataframe :\n",
            "int64\n",
            "Data type of total_distance column of Dataframe :\n",
            "float64\n",
            "Data type of delivery_success column of Dataframe :\n",
            "float64\n"
          ]
        }
      ],
      "source": [
        "for col in df.columns:  \n",
        "    dataTypeSeries = df[col].dtypes\n",
        "    print('Data type of '+ col+ ' column of Dataframe :')\n",
        "    print(dataTypeSeries)"
      ]
    },
    {
      "cell_type": "code",
      "execution_count": 107,
      "metadata": {
        "colab": {
          "base_uri": "https://localhost:8080/",
          "height": 270
        },
        "id": "E9sl6QLtIYYE",
        "outputId": "9392f35f-c974-4fb8-b7cd-a47c8d27a7c1"
      },
      "outputs": [
        {
          "output_type": "execute_result",
          "data": {
            "text/html": [
              "\n",
              "  <div id=\"df-adc63a0c-1953-43fa-82ca-1c6c14a752e9\">\n",
              "    <div class=\"colab-df-container\">\n",
              "      <div>\n",
              "<style scoped>\n",
              "    .dataframe tbody tr th:only-of-type {\n",
              "        vertical-align: middle;\n",
              "    }\n",
              "\n",
              "    .dataframe tbody tr th {\n",
              "        vertical-align: top;\n",
              "    }\n",
              "\n",
              "    .dataframe thead th {\n",
              "        text-align: right;\n",
              "    }\n",
              "</style>\n",
              "<table border=\"1\" class=\"dataframe\">\n",
              "  <thead>\n",
              "    <tr style=\"text-align: right;\">\n",
              "      <th></th>\n",
              "      <th>rider_id</th>\n",
              "      <th>first_mile_distance</th>\n",
              "      <th>last_mile_distance</th>\n",
              "      <th>alloted_orders</th>\n",
              "      <th>delivered_orders</th>\n",
              "      <th>cancelled</th>\n",
              "      <th>undelivered_orders</th>\n",
              "      <th>lifetime_order_count</th>\n",
              "      <th>reassignment_method</th>\n",
              "      <th>reassignment_reason</th>\n",
              "      <th>reassigned_order</th>\n",
              "      <th>session_time</th>\n",
              "      <th>accept_sec</th>\n",
              "      <th>order_sec</th>\n",
              "      <th>month</th>\n",
              "      <th>day</th>\n",
              "      <th>total_distance</th>\n",
              "      <th>delivery_success</th>\n",
              "    </tr>\n",
              "  </thead>\n",
              "  <tbody>\n",
              "    <tr>\n",
              "      <th>0</th>\n",
              "      <td>11696</td>\n",
              "      <td>1.5666</td>\n",
              "      <td>2.65</td>\n",
              "      <td>46.0</td>\n",
              "      <td>46.0</td>\n",
              "      <td>0</td>\n",
              "      <td>0.0</td>\n",
              "      <td>621.0</td>\n",
              "      <td>0</td>\n",
              "      <td>0</td>\n",
              "      <td>0.0</td>\n",
              "      <td>0.000000</td>\n",
              "      <td>9.0</td>\n",
              "      <td>33.0</td>\n",
              "      <td>1</td>\n",
              "      <td>26</td>\n",
              "      <td>4.2166</td>\n",
              "      <td>1.0</td>\n",
              "    </tr>\n",
              "    <tr>\n",
              "      <th>1</th>\n",
              "      <td>18117</td>\n",
              "      <td>2.5207</td>\n",
              "      <td>2.76</td>\n",
              "      <td>8.0</td>\n",
              "      <td>8.0</td>\n",
              "      <td>0</td>\n",
              "      <td>0.0</td>\n",
              "      <td>105.0</td>\n",
              "      <td>0</td>\n",
              "      <td>0</td>\n",
              "      <td>0.0</td>\n",
              "      <td>3.266667</td>\n",
              "      <td>48.0</td>\n",
              "      <td>89.0</td>\n",
              "      <td>1</td>\n",
              "      <td>26</td>\n",
              "      <td>5.2807</td>\n",
              "      <td>1.0</td>\n",
              "    </tr>\n",
              "    <tr>\n",
              "      <th>2</th>\n",
              "      <td>18623</td>\n",
              "      <td>2.2074</td>\n",
              "      <td>4.80</td>\n",
              "      <td>1.0</td>\n",
              "      <td>1.0</td>\n",
              "      <td>0</td>\n",
              "      <td>0.0</td>\n",
              "      <td>66.0</td>\n",
              "      <td>0</td>\n",
              "      <td>0</td>\n",
              "      <td>0.0</td>\n",
              "      <td>9.816667</td>\n",
              "      <td>16.0</td>\n",
              "      <td>24.0</td>\n",
              "      <td>1</td>\n",
              "      <td>26</td>\n",
              "      <td>7.0074</td>\n",
              "      <td>1.0</td>\n",
              "    </tr>\n",
              "    <tr>\n",
              "      <th>3</th>\n",
              "      <td>15945</td>\n",
              "      <td>2.1894</td>\n",
              "      <td>6.38</td>\n",
              "      <td>1.0</td>\n",
              "      <td>1.0</td>\n",
              "      <td>0</td>\n",
              "      <td>0.0</td>\n",
              "      <td>127.0</td>\n",
              "      <td>0</td>\n",
              "      <td>0</td>\n",
              "      <td>0.0</td>\n",
              "      <td>17.533333</td>\n",
              "      <td>41.0</td>\n",
              "      <td>73.0</td>\n",
              "      <td>1</td>\n",
              "      <td>26</td>\n",
              "      <td>8.5694</td>\n",
              "      <td>1.0</td>\n",
              "    </tr>\n",
              "    <tr>\n",
              "      <th>4</th>\n",
              "      <td>17589</td>\n",
              "      <td>2.7870</td>\n",
              "      <td>4.01</td>\n",
              "      <td>34.0</td>\n",
              "      <td>34.0</td>\n",
              "      <td>0</td>\n",
              "      <td>0.0</td>\n",
              "      <td>84.0</td>\n",
              "      <td>0</td>\n",
              "      <td>0</td>\n",
              "      <td>0.0</td>\n",
              "      <td>1.350000</td>\n",
              "      <td>36.0</td>\n",
              "      <td>87.0</td>\n",
              "      <td>1</td>\n",
              "      <td>26</td>\n",
              "      <td>6.7970</td>\n",
              "      <td>1.0</td>\n",
              "    </tr>\n",
              "  </tbody>\n",
              "</table>\n",
              "</div>\n",
              "      <button class=\"colab-df-convert\" onclick=\"convertToInteractive('df-adc63a0c-1953-43fa-82ca-1c6c14a752e9')\"\n",
              "              title=\"Convert this dataframe to an interactive table.\"\n",
              "              style=\"display:none;\">\n",
              "        \n",
              "  <svg xmlns=\"http://www.w3.org/2000/svg\" height=\"24px\"viewBox=\"0 0 24 24\"\n",
              "       width=\"24px\">\n",
              "    <path d=\"M0 0h24v24H0V0z\" fill=\"none\"/>\n",
              "    <path d=\"M18.56 5.44l.94 2.06.94-2.06 2.06-.94-2.06-.94-.94-2.06-.94 2.06-2.06.94zm-11 1L8.5 8.5l.94-2.06 2.06-.94-2.06-.94L8.5 2.5l-.94 2.06-2.06.94zm10 10l.94 2.06.94-2.06 2.06-.94-2.06-.94-.94-2.06-.94 2.06-2.06.94z\"/><path d=\"M17.41 7.96l-1.37-1.37c-.4-.4-.92-.59-1.43-.59-.52 0-1.04.2-1.43.59L10.3 9.45l-7.72 7.72c-.78.78-.78 2.05 0 2.83L4 21.41c.39.39.9.59 1.41.59.51 0 1.02-.2 1.41-.59l7.78-7.78 2.81-2.81c.8-.78.8-2.07 0-2.86zM5.41 20L4 18.59l7.72-7.72 1.47 1.35L5.41 20z\"/>\n",
              "  </svg>\n",
              "      </button>\n",
              "      \n",
              "  <style>\n",
              "    .colab-df-container {\n",
              "      display:flex;\n",
              "      flex-wrap:wrap;\n",
              "      gap: 12px;\n",
              "    }\n",
              "\n",
              "    .colab-df-convert {\n",
              "      background-color: #E8F0FE;\n",
              "      border: none;\n",
              "      border-radius: 50%;\n",
              "      cursor: pointer;\n",
              "      display: none;\n",
              "      fill: #1967D2;\n",
              "      height: 32px;\n",
              "      padding: 0 0 0 0;\n",
              "      width: 32px;\n",
              "    }\n",
              "\n",
              "    .colab-df-convert:hover {\n",
              "      background-color: #E2EBFA;\n",
              "      box-shadow: 0px 1px 2px rgba(60, 64, 67, 0.3), 0px 1px 3px 1px rgba(60, 64, 67, 0.15);\n",
              "      fill: #174EA6;\n",
              "    }\n",
              "\n",
              "    [theme=dark] .colab-df-convert {\n",
              "      background-color: #3B4455;\n",
              "      fill: #D2E3FC;\n",
              "    }\n",
              "\n",
              "    [theme=dark] .colab-df-convert:hover {\n",
              "      background-color: #434B5C;\n",
              "      box-shadow: 0px 1px 3px 1px rgba(0, 0, 0, 0.15);\n",
              "      filter: drop-shadow(0px 1px 2px rgba(0, 0, 0, 0.3));\n",
              "      fill: #FFFFFF;\n",
              "    }\n",
              "  </style>\n",
              "\n",
              "      <script>\n",
              "        const buttonEl =\n",
              "          document.querySelector('#df-adc63a0c-1953-43fa-82ca-1c6c14a752e9 button.colab-df-convert');\n",
              "        buttonEl.style.display =\n",
              "          google.colab.kernel.accessAllowed ? 'block' : 'none';\n",
              "\n",
              "        async function convertToInteractive(key) {\n",
              "          const element = document.querySelector('#df-adc63a0c-1953-43fa-82ca-1c6c14a752e9');\n",
              "          const dataTable =\n",
              "            await google.colab.kernel.invokeFunction('convertToInteractive',\n",
              "                                                     [key], {});\n",
              "          if (!dataTable) return;\n",
              "\n",
              "          const docLinkHtml = 'Like what you see? Visit the ' +\n",
              "            '<a target=\"_blank\" href=https://colab.research.google.com/notebooks/data_table.ipynb>data table notebook</a>'\n",
              "            + ' to learn more about interactive tables.';\n",
              "          element.innerHTML = '';\n",
              "          dataTable['output_type'] = 'display_data';\n",
              "          await google.colab.output.renderOutput(dataTable, element);\n",
              "          const docLink = document.createElement('div');\n",
              "          docLink.innerHTML = docLinkHtml;\n",
              "          element.appendChild(docLink);\n",
              "        }\n",
              "      </script>\n",
              "    </div>\n",
              "  </div>\n",
              "  "
            ],
            "text/plain": [
              "   rider_id  first_mile_distance  ...  total_distance  delivery_success\n",
              "0     11696               1.5666  ...          4.2166               1.0\n",
              "1     18117               2.5207  ...          5.2807               1.0\n",
              "2     18623               2.2074  ...          7.0074               1.0\n",
              "3     15945               2.1894  ...          8.5694               1.0\n",
              "4     17589               2.7870  ...          6.7970               1.0\n",
              "\n",
              "[5 rows x 18 columns]"
            ]
          },
          "metadata": {},
          "execution_count": 107
        }
      ],
      "source": [
        "df.head()"
      ]
    },
    {
      "cell_type": "code",
      "execution_count": 108,
      "metadata": {
        "id": "STaY6o2wJNf7"
      },
      "outputs": [],
      "source": [
        "df = df.drop(['rider_id'],axis =1)\n",
        "df_test = df_test.drop(['rider_id'],axis =1)"
      ]
    },
    {
      "cell_type": "code",
      "execution_count": 109,
      "metadata": {
        "colab": {
          "base_uri": "https://localhost:8080/"
        },
        "id": "rlzu4t2UNDzt",
        "outputId": "4088eb3d-5f5f-4c7b-8926-e714e500c2cd"
      },
      "outputs": [
        {
          "output_type": "execute_result",
          "data": {
            "text/plain": [
              "first_mile_distance     0\n",
              "last_mile_distance      0\n",
              "alloted_orders          0\n",
              "delivered_orders        0\n",
              "cancelled               0\n",
              "undelivered_orders      0\n",
              "lifetime_order_count    0\n",
              "reassignment_method     0\n",
              "reassignment_reason     0\n",
              "reassigned_order        0\n",
              "session_time            0\n",
              "accept_sec              0\n",
              "order_sec               0\n",
              "month                   0\n",
              "day                     0\n",
              "total_distance          0\n",
              "delivery_success        0\n",
              "dtype: int64"
            ]
          },
          "metadata": {},
          "execution_count": 109
        }
      ],
      "source": [
        "df.isnull().sum()"
      ]
    },
    {
      "cell_type": "code",
      "execution_count": 110,
      "metadata": {
        "id": "hUHcO0d5TQLw"
      },
      "outputs": [],
      "source": [
        "column_names_pred = ['first_mile_distance','last_mile_distance','alloted_orders','delivered_orders','undelivered_orders','lifetime_order_count','reassignment_method','reassignment_reason','reassigned_order','session_time','accept_sec','order_sec','total_distance','reassigned_order','month','day','delivery_success','cancelled']"
      ]
    },
    {
      "cell_type": "code",
      "execution_count": 111,
      "metadata": {
        "id": "RZFYM6v9UlUb"
      },
      "outputs": [],
      "source": [
        "column_names_predtest = ['first_mile_distance','last_mile_distance','alloted_orders','delivered_orders','undelivered_orders','lifetime_order_count','reassignment_method','reassignment_reason','reassigned_order','session_time','accept_sec','order_sec','total_distance','reassigned_order','month','day','delivery_success']"
      ]
    },
    {
      "cell_type": "code",
      "execution_count": 112,
      "metadata": {
        "colab": {
          "base_uri": "https://localhost:8080/"
        },
        "id": "WYq2MaxiPyQ4",
        "outputId": "48300814-6dfd-4c02-b95d-24e1647893ef"
      },
      "outputs": [
        {
          "output_type": "execute_result",
          "data": {
            "text/plain": [
              "17"
            ]
          },
          "metadata": {},
          "execution_count": 112
        }
      ],
      "source": [
        "len(column_names_predtest)"
      ]
    },
    {
      "cell_type": "code",
      "execution_count": 113,
      "metadata": {
        "id": "kjzbJnli5IQI"
      },
      "outputs": [],
      "source": [
        "df= df.reindex(columns=column_names_pred)"
      ]
    },
    {
      "cell_type": "code",
      "execution_count": 114,
      "metadata": {
        "id": "dn7ToqUkUedx"
      },
      "outputs": [],
      "source": [
        "df_test = df_test.reindex(columns = column_names_predtest)"
      ]
    },
    {
      "cell_type": "code",
      "execution_count": 115,
      "metadata": {
        "colab": {
          "base_uri": "https://localhost:8080/",
          "height": 270
        },
        "id": "QkbYJMyKLuG_",
        "outputId": "6345e5db-a82e-402c-849e-6c685b8258f2"
      },
      "outputs": [
        {
          "output_type": "execute_result",
          "data": {
            "text/html": [
              "\n",
              "  <div id=\"df-2c66ee9a-c606-414b-ac02-612aef1e78e8\">\n",
              "    <div class=\"colab-df-container\">\n",
              "      <div>\n",
              "<style scoped>\n",
              "    .dataframe tbody tr th:only-of-type {\n",
              "        vertical-align: middle;\n",
              "    }\n",
              "\n",
              "    .dataframe tbody tr th {\n",
              "        vertical-align: top;\n",
              "    }\n",
              "\n",
              "    .dataframe thead th {\n",
              "        text-align: right;\n",
              "    }\n",
              "</style>\n",
              "<table border=\"1\" class=\"dataframe\">\n",
              "  <thead>\n",
              "    <tr style=\"text-align: right;\">\n",
              "      <th></th>\n",
              "      <th>first_mile_distance</th>\n",
              "      <th>last_mile_distance</th>\n",
              "      <th>alloted_orders</th>\n",
              "      <th>delivered_orders</th>\n",
              "      <th>undelivered_orders</th>\n",
              "      <th>lifetime_order_count</th>\n",
              "      <th>reassignment_method</th>\n",
              "      <th>reassignment_reason</th>\n",
              "      <th>reassigned_order</th>\n",
              "      <th>session_time</th>\n",
              "      <th>accept_sec</th>\n",
              "      <th>order_sec</th>\n",
              "      <th>total_distance</th>\n",
              "      <th>reassigned_order</th>\n",
              "      <th>month</th>\n",
              "      <th>day</th>\n",
              "      <th>delivery_success</th>\n",
              "    </tr>\n",
              "  </thead>\n",
              "  <tbody>\n",
              "    <tr>\n",
              "      <th>0</th>\n",
              "      <td>1.6585</td>\n",
              "      <td>4.54</td>\n",
              "      <td>216.0</td>\n",
              "      <td>215.0</td>\n",
              "      <td>1.0</td>\n",
              "      <td>747.0</td>\n",
              "      <td>0</td>\n",
              "      <td>0</td>\n",
              "      <td>0.0</td>\n",
              "      <td>273.400000</td>\n",
              "      <td>26.0</td>\n",
              "      <td>51.0</td>\n",
              "      <td>6.1985</td>\n",
              "      <td>0.0</td>\n",
              "      <td>2</td>\n",
              "      <td>6</td>\n",
              "      <td>0.995370</td>\n",
              "    </tr>\n",
              "    <tr>\n",
              "      <th>1</th>\n",
              "      <td>2.0709</td>\n",
              "      <td>5.84</td>\n",
              "      <td>52.0</td>\n",
              "      <td>52.0</td>\n",
              "      <td>0.0</td>\n",
              "      <td>75.0</td>\n",
              "      <td>0</td>\n",
              "      <td>0</td>\n",
              "      <td>0.0</td>\n",
              "      <td>252.100000</td>\n",
              "      <td>9.0</td>\n",
              "      <td>10.0</td>\n",
              "      <td>7.9109</td>\n",
              "      <td>0.0</td>\n",
              "      <td>2</td>\n",
              "      <td>6</td>\n",
              "      <td>1.000000</td>\n",
              "    </tr>\n",
              "    <tr>\n",
              "      <th>2</th>\n",
              "      <td>1.3884</td>\n",
              "      <td>0.99</td>\n",
              "      <td>289.0</td>\n",
              "      <td>289.0</td>\n",
              "      <td>0.0</td>\n",
              "      <td>2214.0</td>\n",
              "      <td>0</td>\n",
              "      <td>0</td>\n",
              "      <td>0.0</td>\n",
              "      <td>241.383333</td>\n",
              "      <td>80.0</td>\n",
              "      <td>127.0</td>\n",
              "      <td>2.3784</td>\n",
              "      <td>0.0</td>\n",
              "      <td>2</td>\n",
              "      <td>6</td>\n",
              "      <td>1.000000</td>\n",
              "    </tr>\n",
              "    <tr>\n",
              "      <th>3</th>\n",
              "      <td>1.9039</td>\n",
              "      <td>2.59</td>\n",
              "      <td>125.0</td>\n",
              "      <td>122.0</td>\n",
              "      <td>3.0</td>\n",
              "      <td>1020.0</td>\n",
              "      <td>0</td>\n",
              "      <td>0</td>\n",
              "      <td>0.0</td>\n",
              "      <td>291.933333</td>\n",
              "      <td>23.0</td>\n",
              "      <td>24.0</td>\n",
              "      <td>4.4939</td>\n",
              "      <td>0.0</td>\n",
              "      <td>2</td>\n",
              "      <td>6</td>\n",
              "      <td>0.976000</td>\n",
              "    </tr>\n",
              "    <tr>\n",
              "      <th>4</th>\n",
              "      <td>0.8275</td>\n",
              "      <td>0.94</td>\n",
              "      <td>352.0</td>\n",
              "      <td>350.0</td>\n",
              "      <td>2.0</td>\n",
              "      <td>7284.0</td>\n",
              "      <td>0</td>\n",
              "      <td>0</td>\n",
              "      <td>0.0</td>\n",
              "      <td>247.133333</td>\n",
              "      <td>60.0</td>\n",
              "      <td>68.0</td>\n",
              "      <td>1.7675</td>\n",
              "      <td>0.0</td>\n",
              "      <td>2</td>\n",
              "      <td>6</td>\n",
              "      <td>0.994318</td>\n",
              "    </tr>\n",
              "  </tbody>\n",
              "</table>\n",
              "</div>\n",
              "      <button class=\"colab-df-convert\" onclick=\"convertToInteractive('df-2c66ee9a-c606-414b-ac02-612aef1e78e8')\"\n",
              "              title=\"Convert this dataframe to an interactive table.\"\n",
              "              style=\"display:none;\">\n",
              "        \n",
              "  <svg xmlns=\"http://www.w3.org/2000/svg\" height=\"24px\"viewBox=\"0 0 24 24\"\n",
              "       width=\"24px\">\n",
              "    <path d=\"M0 0h24v24H0V0z\" fill=\"none\"/>\n",
              "    <path d=\"M18.56 5.44l.94 2.06.94-2.06 2.06-.94-2.06-.94-.94-2.06-.94 2.06-2.06.94zm-11 1L8.5 8.5l.94-2.06 2.06-.94-2.06-.94L8.5 2.5l-.94 2.06-2.06.94zm10 10l.94 2.06.94-2.06 2.06-.94-2.06-.94-.94-2.06-.94 2.06-2.06.94z\"/><path d=\"M17.41 7.96l-1.37-1.37c-.4-.4-.92-.59-1.43-.59-.52 0-1.04.2-1.43.59L10.3 9.45l-7.72 7.72c-.78.78-.78 2.05 0 2.83L4 21.41c.39.39.9.59 1.41.59.51 0 1.02-.2 1.41-.59l7.78-7.78 2.81-2.81c.8-.78.8-2.07 0-2.86zM5.41 20L4 18.59l7.72-7.72 1.47 1.35L5.41 20z\"/>\n",
              "  </svg>\n",
              "      </button>\n",
              "      \n",
              "  <style>\n",
              "    .colab-df-container {\n",
              "      display:flex;\n",
              "      flex-wrap:wrap;\n",
              "      gap: 12px;\n",
              "    }\n",
              "\n",
              "    .colab-df-convert {\n",
              "      background-color: #E8F0FE;\n",
              "      border: none;\n",
              "      border-radius: 50%;\n",
              "      cursor: pointer;\n",
              "      display: none;\n",
              "      fill: #1967D2;\n",
              "      height: 32px;\n",
              "      padding: 0 0 0 0;\n",
              "      width: 32px;\n",
              "    }\n",
              "\n",
              "    .colab-df-convert:hover {\n",
              "      background-color: #E2EBFA;\n",
              "      box-shadow: 0px 1px 2px rgba(60, 64, 67, 0.3), 0px 1px 3px 1px rgba(60, 64, 67, 0.15);\n",
              "      fill: #174EA6;\n",
              "    }\n",
              "\n",
              "    [theme=dark] .colab-df-convert {\n",
              "      background-color: #3B4455;\n",
              "      fill: #D2E3FC;\n",
              "    }\n",
              "\n",
              "    [theme=dark] .colab-df-convert:hover {\n",
              "      background-color: #434B5C;\n",
              "      box-shadow: 0px 1px 3px 1px rgba(0, 0, 0, 0.15);\n",
              "      filter: drop-shadow(0px 1px 2px rgba(0, 0, 0, 0.3));\n",
              "      fill: #FFFFFF;\n",
              "    }\n",
              "  </style>\n",
              "\n",
              "      <script>\n",
              "        const buttonEl =\n",
              "          document.querySelector('#df-2c66ee9a-c606-414b-ac02-612aef1e78e8 button.colab-df-convert');\n",
              "        buttonEl.style.display =\n",
              "          google.colab.kernel.accessAllowed ? 'block' : 'none';\n",
              "\n",
              "        async function convertToInteractive(key) {\n",
              "          const element = document.querySelector('#df-2c66ee9a-c606-414b-ac02-612aef1e78e8');\n",
              "          const dataTable =\n",
              "            await google.colab.kernel.invokeFunction('convertToInteractive',\n",
              "                                                     [key], {});\n",
              "          if (!dataTable) return;\n",
              "\n",
              "          const docLinkHtml = 'Like what you see? Visit the ' +\n",
              "            '<a target=\"_blank\" href=https://colab.research.google.com/notebooks/data_table.ipynb>data table notebook</a>'\n",
              "            + ' to learn more about interactive tables.';\n",
              "          element.innerHTML = '';\n",
              "          dataTable['output_type'] = 'display_data';\n",
              "          await google.colab.output.renderOutput(dataTable, element);\n",
              "          const docLink = document.createElement('div');\n",
              "          docLink.innerHTML = docLinkHtml;\n",
              "          element.appendChild(docLink);\n",
              "        }\n",
              "      </script>\n",
              "    </div>\n",
              "  </div>\n",
              "  "
            ],
            "text/plain": [
              "   first_mile_distance  last_mile_distance  ...  day  delivery_success\n",
              "0               1.6585                4.54  ...    6          0.995370\n",
              "1               2.0709                5.84  ...    6          1.000000\n",
              "2               1.3884                0.99  ...    6          1.000000\n",
              "3               1.9039                2.59  ...    6          0.976000\n",
              "4               0.8275                0.94  ...    6          0.994318\n",
              "\n",
              "[5 rows x 17 columns]"
            ]
          },
          "metadata": {},
          "execution_count": 115
        }
      ],
      "source": [
        "df_test.head()"
      ]
    },
    {
      "cell_type": "code",
      "execution_count": 116,
      "metadata": {
        "id": "pbQu4ze3pND-"
      },
      "outputs": [],
      "source": [
        "X = df.drop('cancelled',axis='columns')\n",
        "y = df.cancelled.astype(np.float32)\n",
        "\n",
        "from sklearn.model_selection import train_test_split\n",
        "X_train, X_test, y_train, y_test = train_test_split(X, y, test_size=0.2, random_state=15, stratify=y)"
      ]
    },
    {
      "cell_type": "code",
      "execution_count": 117,
      "metadata": {
        "colab": {
          "base_uri": "https://localhost:8080/"
        },
        "id": "pLuyP2t1qKw9",
        "outputId": "44c48aca-cd8d-49f2-8eaa-29b33b20bb30"
      },
      "outputs": [
        {
          "output_type": "execute_result",
          "data": {
            "text/plain": [
              "0.0    342637\n",
              "1.0      3490\n",
              "Name: cancelled, dtype: int64"
            ]
          },
          "metadata": {},
          "execution_count": 117
        }
      ],
      "source": [
        "y_train.value_counts()"
      ]
    },
    {
      "cell_type": "code",
      "execution_count": 118,
      "metadata": {
        "colab": {
          "base_uri": "https://localhost:8080/",
          "height": 270
        },
        "id": "Z69uGa79LoKf",
        "outputId": "3ccd2945-6430-4bb4-bae2-6b35009b1a8d"
      },
      "outputs": [
        {
          "output_type": "execute_result",
          "data": {
            "text/html": [
              "\n",
              "  <div id=\"df-f776d870-d2e3-448d-b5cf-2d37bee6b7d8\">\n",
              "    <div class=\"colab-df-container\">\n",
              "      <div>\n",
              "<style scoped>\n",
              "    .dataframe tbody tr th:only-of-type {\n",
              "        vertical-align: middle;\n",
              "    }\n",
              "\n",
              "    .dataframe tbody tr th {\n",
              "        vertical-align: top;\n",
              "    }\n",
              "\n",
              "    .dataframe thead th {\n",
              "        text-align: right;\n",
              "    }\n",
              "</style>\n",
              "<table border=\"1\" class=\"dataframe\">\n",
              "  <thead>\n",
              "    <tr style=\"text-align: right;\">\n",
              "      <th></th>\n",
              "      <th>first_mile_distance</th>\n",
              "      <th>last_mile_distance</th>\n",
              "      <th>alloted_orders</th>\n",
              "      <th>delivered_orders</th>\n",
              "      <th>undelivered_orders</th>\n",
              "      <th>lifetime_order_count</th>\n",
              "      <th>reassignment_method</th>\n",
              "      <th>reassignment_reason</th>\n",
              "      <th>reassigned_order</th>\n",
              "      <th>session_time</th>\n",
              "      <th>accept_sec</th>\n",
              "      <th>order_sec</th>\n",
              "      <th>total_distance</th>\n",
              "      <th>reassigned_order</th>\n",
              "      <th>month</th>\n",
              "      <th>day</th>\n",
              "      <th>delivery_success</th>\n",
              "      <th>cancelled</th>\n",
              "    </tr>\n",
              "  </thead>\n",
              "  <tbody>\n",
              "    <tr>\n",
              "      <th>0</th>\n",
              "      <td>1.5666</td>\n",
              "      <td>2.65</td>\n",
              "      <td>46.0</td>\n",
              "      <td>46.0</td>\n",
              "      <td>0.0</td>\n",
              "      <td>621.0</td>\n",
              "      <td>0</td>\n",
              "      <td>0</td>\n",
              "      <td>0.0</td>\n",
              "      <td>0.000000</td>\n",
              "      <td>9.0</td>\n",
              "      <td>33.0</td>\n",
              "      <td>4.2166</td>\n",
              "      <td>0.0</td>\n",
              "      <td>1</td>\n",
              "      <td>26</td>\n",
              "      <td>1.0</td>\n",
              "      <td>0</td>\n",
              "    </tr>\n",
              "    <tr>\n",
              "      <th>1</th>\n",
              "      <td>2.5207</td>\n",
              "      <td>2.76</td>\n",
              "      <td>8.0</td>\n",
              "      <td>8.0</td>\n",
              "      <td>0.0</td>\n",
              "      <td>105.0</td>\n",
              "      <td>0</td>\n",
              "      <td>0</td>\n",
              "      <td>0.0</td>\n",
              "      <td>3.266667</td>\n",
              "      <td>48.0</td>\n",
              "      <td>89.0</td>\n",
              "      <td>5.2807</td>\n",
              "      <td>0.0</td>\n",
              "      <td>1</td>\n",
              "      <td>26</td>\n",
              "      <td>1.0</td>\n",
              "      <td>0</td>\n",
              "    </tr>\n",
              "    <tr>\n",
              "      <th>2</th>\n",
              "      <td>2.2074</td>\n",
              "      <td>4.80</td>\n",
              "      <td>1.0</td>\n",
              "      <td>1.0</td>\n",
              "      <td>0.0</td>\n",
              "      <td>66.0</td>\n",
              "      <td>0</td>\n",
              "      <td>0</td>\n",
              "      <td>0.0</td>\n",
              "      <td>9.816667</td>\n",
              "      <td>16.0</td>\n",
              "      <td>24.0</td>\n",
              "      <td>7.0074</td>\n",
              "      <td>0.0</td>\n",
              "      <td>1</td>\n",
              "      <td>26</td>\n",
              "      <td>1.0</td>\n",
              "      <td>0</td>\n",
              "    </tr>\n",
              "    <tr>\n",
              "      <th>3</th>\n",
              "      <td>2.1894</td>\n",
              "      <td>6.38</td>\n",
              "      <td>1.0</td>\n",
              "      <td>1.0</td>\n",
              "      <td>0.0</td>\n",
              "      <td>127.0</td>\n",
              "      <td>0</td>\n",
              "      <td>0</td>\n",
              "      <td>0.0</td>\n",
              "      <td>17.533333</td>\n",
              "      <td>41.0</td>\n",
              "      <td>73.0</td>\n",
              "      <td>8.5694</td>\n",
              "      <td>0.0</td>\n",
              "      <td>1</td>\n",
              "      <td>26</td>\n",
              "      <td>1.0</td>\n",
              "      <td>0</td>\n",
              "    </tr>\n",
              "    <tr>\n",
              "      <th>4</th>\n",
              "      <td>2.7870</td>\n",
              "      <td>4.01</td>\n",
              "      <td>34.0</td>\n",
              "      <td>34.0</td>\n",
              "      <td>0.0</td>\n",
              "      <td>84.0</td>\n",
              "      <td>0</td>\n",
              "      <td>0</td>\n",
              "      <td>0.0</td>\n",
              "      <td>1.350000</td>\n",
              "      <td>36.0</td>\n",
              "      <td>87.0</td>\n",
              "      <td>6.7970</td>\n",
              "      <td>0.0</td>\n",
              "      <td>1</td>\n",
              "      <td>26</td>\n",
              "      <td>1.0</td>\n",
              "      <td>0</td>\n",
              "    </tr>\n",
              "  </tbody>\n",
              "</table>\n",
              "</div>\n",
              "      <button class=\"colab-df-convert\" onclick=\"convertToInteractive('df-f776d870-d2e3-448d-b5cf-2d37bee6b7d8')\"\n",
              "              title=\"Convert this dataframe to an interactive table.\"\n",
              "              style=\"display:none;\">\n",
              "        \n",
              "  <svg xmlns=\"http://www.w3.org/2000/svg\" height=\"24px\"viewBox=\"0 0 24 24\"\n",
              "       width=\"24px\">\n",
              "    <path d=\"M0 0h24v24H0V0z\" fill=\"none\"/>\n",
              "    <path d=\"M18.56 5.44l.94 2.06.94-2.06 2.06-.94-2.06-.94-.94-2.06-.94 2.06-2.06.94zm-11 1L8.5 8.5l.94-2.06 2.06-.94-2.06-.94L8.5 2.5l-.94 2.06-2.06.94zm10 10l.94 2.06.94-2.06 2.06-.94-2.06-.94-.94-2.06-.94 2.06-2.06.94z\"/><path d=\"M17.41 7.96l-1.37-1.37c-.4-.4-.92-.59-1.43-.59-.52 0-1.04.2-1.43.59L10.3 9.45l-7.72 7.72c-.78.78-.78 2.05 0 2.83L4 21.41c.39.39.9.59 1.41.59.51 0 1.02-.2 1.41-.59l7.78-7.78 2.81-2.81c.8-.78.8-2.07 0-2.86zM5.41 20L4 18.59l7.72-7.72 1.47 1.35L5.41 20z\"/>\n",
              "  </svg>\n",
              "      </button>\n",
              "      \n",
              "  <style>\n",
              "    .colab-df-container {\n",
              "      display:flex;\n",
              "      flex-wrap:wrap;\n",
              "      gap: 12px;\n",
              "    }\n",
              "\n",
              "    .colab-df-convert {\n",
              "      background-color: #E8F0FE;\n",
              "      border: none;\n",
              "      border-radius: 50%;\n",
              "      cursor: pointer;\n",
              "      display: none;\n",
              "      fill: #1967D2;\n",
              "      height: 32px;\n",
              "      padding: 0 0 0 0;\n",
              "      width: 32px;\n",
              "    }\n",
              "\n",
              "    .colab-df-convert:hover {\n",
              "      background-color: #E2EBFA;\n",
              "      box-shadow: 0px 1px 2px rgba(60, 64, 67, 0.3), 0px 1px 3px 1px rgba(60, 64, 67, 0.15);\n",
              "      fill: #174EA6;\n",
              "    }\n",
              "\n",
              "    [theme=dark] .colab-df-convert {\n",
              "      background-color: #3B4455;\n",
              "      fill: #D2E3FC;\n",
              "    }\n",
              "\n",
              "    [theme=dark] .colab-df-convert:hover {\n",
              "      background-color: #434B5C;\n",
              "      box-shadow: 0px 1px 3px 1px rgba(0, 0, 0, 0.15);\n",
              "      filter: drop-shadow(0px 1px 2px rgba(0, 0, 0, 0.3));\n",
              "      fill: #FFFFFF;\n",
              "    }\n",
              "  </style>\n",
              "\n",
              "      <script>\n",
              "        const buttonEl =\n",
              "          document.querySelector('#df-f776d870-d2e3-448d-b5cf-2d37bee6b7d8 button.colab-df-convert');\n",
              "        buttonEl.style.display =\n",
              "          google.colab.kernel.accessAllowed ? 'block' : 'none';\n",
              "\n",
              "        async function convertToInteractive(key) {\n",
              "          const element = document.querySelector('#df-f776d870-d2e3-448d-b5cf-2d37bee6b7d8');\n",
              "          const dataTable =\n",
              "            await google.colab.kernel.invokeFunction('convertToInteractive',\n",
              "                                                     [key], {});\n",
              "          if (!dataTable) return;\n",
              "\n",
              "          const docLinkHtml = 'Like what you see? Visit the ' +\n",
              "            '<a target=\"_blank\" href=https://colab.research.google.com/notebooks/data_table.ipynb>data table notebook</a>'\n",
              "            + ' to learn more about interactive tables.';\n",
              "          element.innerHTML = '';\n",
              "          dataTable['output_type'] = 'display_data';\n",
              "          await google.colab.output.renderOutput(dataTable, element);\n",
              "          const docLink = document.createElement('div');\n",
              "          docLink.innerHTML = docLinkHtml;\n",
              "          element.appendChild(docLink);\n",
              "        }\n",
              "      </script>\n",
              "    </div>\n",
              "  </div>\n",
              "  "
            ],
            "text/plain": [
              "   first_mile_distance  last_mile_distance  ...  delivery_success  cancelled\n",
              "0               1.5666                2.65  ...               1.0          0\n",
              "1               2.5207                2.76  ...               1.0          0\n",
              "2               2.2074                4.80  ...               1.0          0\n",
              "3               2.1894                6.38  ...               1.0          0\n",
              "4               2.7870                4.01  ...               1.0          0\n",
              "\n",
              "[5 rows x 18 columns]"
            ]
          },
          "metadata": {},
          "execution_count": 118
        }
      ],
      "source": [
        "df.head()"
      ]
    },
    {
      "cell_type": "code",
      "execution_count": 119,
      "metadata": {
        "colab": {
          "base_uri": "https://localhost:8080/",
          "height": 363
        },
        "id": "nGEFQ5fV-Irh",
        "outputId": "f8d447c0-52fa-42d3-e82a-6bae3fd1efd5"
      },
      "outputs": [
        {
          "output_type": "execute_result",
          "data": {
            "text/html": [
              "\n",
              "  <div id=\"df-69155723-ec12-45c8-be42-9498aef400dd\">\n",
              "    <div class=\"colab-df-container\">\n",
              "      <div>\n",
              "<style scoped>\n",
              "    .dataframe tbody tr th:only-of-type {\n",
              "        vertical-align: middle;\n",
              "    }\n",
              "\n",
              "    .dataframe tbody tr th {\n",
              "        vertical-align: top;\n",
              "    }\n",
              "\n",
              "    .dataframe thead th {\n",
              "        text-align: right;\n",
              "    }\n",
              "</style>\n",
              "<table border=\"1\" class=\"dataframe\">\n",
              "  <thead>\n",
              "    <tr style=\"text-align: right;\">\n",
              "      <th></th>\n",
              "      <th>first_mile_distance</th>\n",
              "      <th>last_mile_distance</th>\n",
              "      <th>alloted_orders</th>\n",
              "      <th>delivered_orders</th>\n",
              "      <th>undelivered_orders</th>\n",
              "      <th>lifetime_order_count</th>\n",
              "      <th>reassignment_method</th>\n",
              "      <th>reassignment_reason</th>\n",
              "      <th>reassigned_order</th>\n",
              "      <th>session_time</th>\n",
              "      <th>accept_sec</th>\n",
              "      <th>order_sec</th>\n",
              "      <th>total_distance</th>\n",
              "      <th>reassigned_order</th>\n",
              "      <th>month</th>\n",
              "      <th>day</th>\n",
              "      <th>delivery_success</th>\n",
              "      <th>cancelled</th>\n",
              "    </tr>\n",
              "  </thead>\n",
              "  <tbody>\n",
              "    <tr>\n",
              "      <th>count</th>\n",
              "      <td>432659.000000</td>\n",
              "      <td>432659.000000</td>\n",
              "      <td>432659.000000</td>\n",
              "      <td>432659.000000</td>\n",
              "      <td>432659.000000</td>\n",
              "      <td>432659.000000</td>\n",
              "      <td>432659.000000</td>\n",
              "      <td>432659.000000</td>\n",
              "      <td>432659.000000</td>\n",
              "      <td>432659.000000</td>\n",
              "      <td>432659.000000</td>\n",
              "      <td>432659.000000</td>\n",
              "      <td>432659.000000</td>\n",
              "      <td>432659.000000</td>\n",
              "      <td>432659.000000</td>\n",
              "      <td>432659.000000</td>\n",
              "      <td>432659.000000</td>\n",
              "      <td>432659.000000</td>\n",
              "    </tr>\n",
              "    <tr>\n",
              "      <th>mean</th>\n",
              "      <td>1.230589</td>\n",
              "      <td>2.972894</td>\n",
              "      <td>104.714614</td>\n",
              "      <td>103.950448</td>\n",
              "      <td>0.764165</td>\n",
              "      <td>878.266279</td>\n",
              "      <td>0.060486</td>\n",
              "      <td>0.074673</td>\n",
              "      <td>0.030662</td>\n",
              "      <td>220.748088</td>\n",
              "      <td>60.027114</td>\n",
              "      <td>133.109178</td>\n",
              "      <td>4.203484</td>\n",
              "      <td>0.030662</td>\n",
              "      <td>1.473632</td>\n",
              "      <td>16.529200</td>\n",
              "      <td>0.991057</td>\n",
              "      <td>0.010084</td>\n",
              "    </tr>\n",
              "    <tr>\n",
              "      <th>std</th>\n",
              "      <td>0.845893</td>\n",
              "      <td>1.886151</td>\n",
              "      <td>90.122751</td>\n",
              "      <td>89.639646</td>\n",
              "      <td>1.066473</td>\n",
              "      <td>1514.971489</td>\n",
              "      <td>0.341336</td>\n",
              "      <td>0.435148</td>\n",
              "      <td>0.172399</td>\n",
              "      <td>177.838636</td>\n",
              "      <td>106.037799</td>\n",
              "      <td>283.140349</td>\n",
              "      <td>2.165684</td>\n",
              "      <td>0.172399</td>\n",
              "      <td>0.499305</td>\n",
              "      <td>12.734255</td>\n",
              "      <td>0.023458</td>\n",
              "      <td>0.099912</td>\n",
              "    </tr>\n",
              "    <tr>\n",
              "      <th>min</th>\n",
              "      <td>0.000134</td>\n",
              "      <td>0.000000</td>\n",
              "      <td>1.000000</td>\n",
              "      <td>1.000000</td>\n",
              "      <td>0.000000</td>\n",
              "      <td>1.000000</td>\n",
              "      <td>0.000000</td>\n",
              "      <td>0.000000</td>\n",
              "      <td>0.000000</td>\n",
              "      <td>0.000000</td>\n",
              "      <td>-28534.000000</td>\n",
              "      <td>0.000000</td>\n",
              "      <td>0.003224</td>\n",
              "      <td>0.000000</td>\n",
              "      <td>1.000000</td>\n",
              "      <td>1.000000</td>\n",
              "      <td>0.166667</td>\n",
              "      <td>0.000000</td>\n",
              "    </tr>\n",
              "    <tr>\n",
              "      <th>25%</th>\n",
              "      <td>0.541000</td>\n",
              "      <td>1.470000</td>\n",
              "      <td>36.000000</td>\n",
              "      <td>36.000000</td>\n",
              "      <td>0.000000</td>\n",
              "      <td>179.000000</td>\n",
              "      <td>0.000000</td>\n",
              "      <td>0.000000</td>\n",
              "      <td>0.000000</td>\n",
              "      <td>83.400000</td>\n",
              "      <td>14.000000</td>\n",
              "      <td>33.000000</td>\n",
              "      <td>2.523100</td>\n",
              "      <td>0.000000</td>\n",
              "      <td>1.000000</td>\n",
              "      <td>3.000000</td>\n",
              "      <td>0.988764</td>\n",
              "      <td>0.000000</td>\n",
              "    </tr>\n",
              "    <tr>\n",
              "      <th>50%</th>\n",
              "      <td>1.139600</td>\n",
              "      <td>2.670000</td>\n",
              "      <td>81.000000</td>\n",
              "      <td>81.000000</td>\n",
              "      <td>0.000000</td>\n",
              "      <td>416.000000</td>\n",
              "      <td>0.000000</td>\n",
              "      <td>0.000000</td>\n",
              "      <td>0.000000</td>\n",
              "      <td>175.700000</td>\n",
              "      <td>36.000000</td>\n",
              "      <td>63.000000</td>\n",
              "      <td>3.981100</td>\n",
              "      <td>0.000000</td>\n",
              "      <td>1.000000</td>\n",
              "      <td>26.000000</td>\n",
              "      <td>1.000000</td>\n",
              "      <td>0.000000</td>\n",
              "    </tr>\n",
              "    <tr>\n",
              "      <th>75%</th>\n",
              "      <td>1.853200</td>\n",
              "      <td>4.230000</td>\n",
              "      <td>147.000000</td>\n",
              "      <td>146.000000</td>\n",
              "      <td>1.000000</td>\n",
              "      <td>977.000000</td>\n",
              "      <td>0.000000</td>\n",
              "      <td>0.000000</td>\n",
              "      <td>0.000000</td>\n",
              "      <td>318.750000</td>\n",
              "      <td>62.000000</td>\n",
              "      <td>112.000000</td>\n",
              "      <td>5.604500</td>\n",
              "      <td>0.000000</td>\n",
              "      <td>2.000000</td>\n",
              "      <td>29.000000</td>\n",
              "      <td>1.000000</td>\n",
              "      <td>0.000000</td>\n",
              "    </tr>\n",
              "    <tr>\n",
              "      <th>max</th>\n",
              "      <td>42.038100</td>\n",
              "      <td>22.410000</td>\n",
              "      <td>567.000000</td>\n",
              "      <td>562.000000</td>\n",
              "      <td>9.000000</td>\n",
              "      <td>30469.000000</td>\n",
              "      <td>2.000000</td>\n",
              "      <td>3.000000</td>\n",
              "      <td>1.000000</td>\n",
              "      <td>1298.966667</td>\n",
              "      <td>930.000000</td>\n",
              "      <td>15598.000000</td>\n",
              "      <td>45.828100</td>\n",
              "      <td>1.000000</td>\n",
              "      <td>2.000000</td>\n",
              "      <td>31.000000</td>\n",
              "      <td>1.000000</td>\n",
              "      <td>1.000000</td>\n",
              "    </tr>\n",
              "  </tbody>\n",
              "</table>\n",
              "</div>\n",
              "      <button class=\"colab-df-convert\" onclick=\"convertToInteractive('df-69155723-ec12-45c8-be42-9498aef400dd')\"\n",
              "              title=\"Convert this dataframe to an interactive table.\"\n",
              "              style=\"display:none;\">\n",
              "        \n",
              "  <svg xmlns=\"http://www.w3.org/2000/svg\" height=\"24px\"viewBox=\"0 0 24 24\"\n",
              "       width=\"24px\">\n",
              "    <path d=\"M0 0h24v24H0V0z\" fill=\"none\"/>\n",
              "    <path d=\"M18.56 5.44l.94 2.06.94-2.06 2.06-.94-2.06-.94-.94-2.06-.94 2.06-2.06.94zm-11 1L8.5 8.5l.94-2.06 2.06-.94-2.06-.94L8.5 2.5l-.94 2.06-2.06.94zm10 10l.94 2.06.94-2.06 2.06-.94-2.06-.94-.94-2.06-.94 2.06-2.06.94z\"/><path d=\"M17.41 7.96l-1.37-1.37c-.4-.4-.92-.59-1.43-.59-.52 0-1.04.2-1.43.59L10.3 9.45l-7.72 7.72c-.78.78-.78 2.05 0 2.83L4 21.41c.39.39.9.59 1.41.59.51 0 1.02-.2 1.41-.59l7.78-7.78 2.81-2.81c.8-.78.8-2.07 0-2.86zM5.41 20L4 18.59l7.72-7.72 1.47 1.35L5.41 20z\"/>\n",
              "  </svg>\n",
              "      </button>\n",
              "      \n",
              "  <style>\n",
              "    .colab-df-container {\n",
              "      display:flex;\n",
              "      flex-wrap:wrap;\n",
              "      gap: 12px;\n",
              "    }\n",
              "\n",
              "    .colab-df-convert {\n",
              "      background-color: #E8F0FE;\n",
              "      border: none;\n",
              "      border-radius: 50%;\n",
              "      cursor: pointer;\n",
              "      display: none;\n",
              "      fill: #1967D2;\n",
              "      height: 32px;\n",
              "      padding: 0 0 0 0;\n",
              "      width: 32px;\n",
              "    }\n",
              "\n",
              "    .colab-df-convert:hover {\n",
              "      background-color: #E2EBFA;\n",
              "      box-shadow: 0px 1px 2px rgba(60, 64, 67, 0.3), 0px 1px 3px 1px rgba(60, 64, 67, 0.15);\n",
              "      fill: #174EA6;\n",
              "    }\n",
              "\n",
              "    [theme=dark] .colab-df-convert {\n",
              "      background-color: #3B4455;\n",
              "      fill: #D2E3FC;\n",
              "    }\n",
              "\n",
              "    [theme=dark] .colab-df-convert:hover {\n",
              "      background-color: #434B5C;\n",
              "      box-shadow: 0px 1px 3px 1px rgba(0, 0, 0, 0.15);\n",
              "      filter: drop-shadow(0px 1px 2px rgba(0, 0, 0, 0.3));\n",
              "      fill: #FFFFFF;\n",
              "    }\n",
              "  </style>\n",
              "\n",
              "      <script>\n",
              "        const buttonEl =\n",
              "          document.querySelector('#df-69155723-ec12-45c8-be42-9498aef400dd button.colab-df-convert');\n",
              "        buttonEl.style.display =\n",
              "          google.colab.kernel.accessAllowed ? 'block' : 'none';\n",
              "\n",
              "        async function convertToInteractive(key) {\n",
              "          const element = document.querySelector('#df-69155723-ec12-45c8-be42-9498aef400dd');\n",
              "          const dataTable =\n",
              "            await google.colab.kernel.invokeFunction('convertToInteractive',\n",
              "                                                     [key], {});\n",
              "          if (!dataTable) return;\n",
              "\n",
              "          const docLinkHtml = 'Like what you see? Visit the ' +\n",
              "            '<a target=\"_blank\" href=https://colab.research.google.com/notebooks/data_table.ipynb>data table notebook</a>'\n",
              "            + ' to learn more about interactive tables.';\n",
              "          element.innerHTML = '';\n",
              "          dataTable['output_type'] = 'display_data';\n",
              "          await google.colab.output.renderOutput(dataTable, element);\n",
              "          const docLink = document.createElement('div');\n",
              "          docLink.innerHTML = docLinkHtml;\n",
              "          element.appendChild(docLink);\n",
              "        }\n",
              "      </script>\n",
              "    </div>\n",
              "  </div>\n",
              "  "
            ],
            "text/plain": [
              "       first_mile_distance  last_mile_distance  ...  delivery_success      cancelled\n",
              "count        432659.000000       432659.000000  ...     432659.000000  432659.000000\n",
              "mean              1.230589            2.972894  ...          0.991057       0.010084\n",
              "std               0.845893            1.886151  ...          0.023458       0.099912\n",
              "min               0.000134            0.000000  ...          0.166667       0.000000\n",
              "25%               0.541000            1.470000  ...          0.988764       0.000000\n",
              "50%               1.139600            2.670000  ...          1.000000       0.000000\n",
              "75%               1.853200            4.230000  ...          1.000000       0.000000\n",
              "max              42.038100           22.410000  ...          1.000000       1.000000\n",
              "\n",
              "[8 rows x 18 columns]"
            ]
          },
          "metadata": {},
          "execution_count": 119
        }
      ],
      "source": [
        "df.describe()"
      ]
    },
    {
      "cell_type": "code",
      "execution_count": 120,
      "metadata": {
        "id": "CToeGBs09p9j"
      },
      "outputs": [],
      "source": [
        "cols_to_scale = ['first_mile_distance','last_mile_distance','delivered_orders','undelivered_orders','lifetime_order_count','session_time','accept_sec','order_sec','total_distance','day']\n",
        "\n",
        "#from sklearn.preprocessing import MinMaxScaler\n",
        "#scaler = MinMaxScaler()\n",
        "#df[cols_to_scale] = scaler.fit_transform(df[cols_to_scale])\n",
        "#df_test[cols_to_scale] = scaler.fit_transform(df_test[cols_to_scale])"
      ]
    },
    {
      "cell_type": "code",
      "execution_count": 121,
      "metadata": {
        "colab": {
          "base_uri": "https://localhost:8080/"
        },
        "id": "ghy7BUbKqbb1",
        "outputId": "a93c7c7b-d6fc-4730-a426-310502a7e0e4"
      },
      "outputs": [
        {
          "output_type": "stream",
          "name": "stdout",
          "text": [
            "Collecting tensorflow_addons\n",
            "  Downloading tensorflow_addons-0.15.0-cp37-cp37m-manylinux_2_12_x86_64.manylinux2010_x86_64.whl (1.1 MB)\n",
            "\u001b[K     |████████████████████████████████| 1.1 MB 5.4 MB/s \n",
            "\u001b[?25hRequirement already satisfied: typeguard>=2.7 in /usr/local/lib/python3.7/dist-packages (from tensorflow_addons) (2.7.1)\n",
            "Installing collected packages: tensorflow-addons\n",
            "Successfully installed tensorflow-addons-0.15.0\n"
          ]
        }
      ],
      "source": [
        "!pip install tensorflow_addons\n",
        "from tensorflow_addons import losses\n",
        "\n",
        "\n",
        "import tensorflow as tf\n",
        "from tensorflow import keras\n",
        "from sklearn.metrics import confusion_matrix , classification_report"
      ]
    },
    {
      "cell_type": "code",
      "execution_count": 122,
      "metadata": {
        "colab": {
          "base_uri": "https://localhost:8080/",
          "height": 166
        },
        "id": "08T6zOfc9Gj2",
        "outputId": "e86153c7-0242-4b17-8884-1062de05b8cc"
      },
      "outputs": [
        {
          "output_type": "error",
          "ename": "NameError",
          "evalue": "ignored",
          "traceback": [
            "\u001b[0;31m---------------------------------------------------------------------------\u001b[0m",
            "\u001b[0;31mNameError\u001b[0m                                 Traceback (most recent call last)",
            "\u001b[0;32m<ipython-input-122-881dc2197437>\u001b[0m in \u001b[0;36m<module>\u001b[0;34m()\u001b[0m\n\u001b[0;32m----> 1\u001b[0;31m \u001b[0mdjfslsl\u001b[0m\u001b[0;34m\u001b[0m\u001b[0;34m\u001b[0m\u001b[0m\n\u001b[0m",
            "\u001b[0;31mNameError\u001b[0m: name 'djfslsl' is not defined"
          ]
        }
      ],
      "source": [
        "djfslsl"
      ]
    },
    {
      "cell_type": "markdown",
      "source": [
        "Over Sample"
      ],
      "metadata": {
        "id": "CXZmZgmH2efW"
      }
    },
    {
      "cell_type": "code",
      "execution_count": 123,
      "metadata": {
        "id": "_1JUK7zb1aTG"
      },
      "outputs": [],
      "source": [
        "count_class_0, count_class_1 = df.cancelled.value_counts()\n",
        "\n",
        "# Divide by class\n",
        "df_class_0 = df[df['cancelled'] == 0]\n",
        "df_class_1 = df[df['cancelled'] == 1]"
      ]
    },
    {
      "cell_type": "code",
      "execution_count": 124,
      "metadata": {
        "colab": {
          "base_uri": "https://localhost:8080/"
        },
        "id": "qVCA4M8U0YxE",
        "outputId": "c65fc6b6-2c71-4d17-d2d0-1141679856ff"
      },
      "outputs": [
        {
          "output_type": "stream",
          "name": "stdout",
          "text": [
            "Random over-sampling:\n",
            "0    428296\n",
            "1    428296\n",
            "Name: cancelled, dtype: int64\n"
          ]
        }
      ],
      "source": [
        "# Oversample 1-class and concat the DataFrames of both classes\n",
        "df_class_1_over = df_class_1.sample(count_class_0, replace=True)\n",
        "df_test_over = pd.concat([df_class_0, df_class_1_over], axis=0)\n",
        "\n",
        "print('Random over-sampling:')\n",
        "print(df_test_over.cancelled.value_counts())"
      ]
    },
    {
      "cell_type": "code",
      "source": [
        "df_test_over.head()"
      ],
      "metadata": {
        "colab": {
          "base_uri": "https://localhost:8080/",
          "height": 270
        },
        "id": "82fhgnU0S_nQ",
        "outputId": "7a376dbe-1665-4836-a6f9-7bedec66258f"
      },
      "execution_count": 125,
      "outputs": [
        {
          "output_type": "execute_result",
          "data": {
            "text/html": [
              "\n",
              "  <div id=\"df-94e1dbbf-ea68-453b-9235-289f25de643f\">\n",
              "    <div class=\"colab-df-container\">\n",
              "      <div>\n",
              "<style scoped>\n",
              "    .dataframe tbody tr th:only-of-type {\n",
              "        vertical-align: middle;\n",
              "    }\n",
              "\n",
              "    .dataframe tbody tr th {\n",
              "        vertical-align: top;\n",
              "    }\n",
              "\n",
              "    .dataframe thead th {\n",
              "        text-align: right;\n",
              "    }\n",
              "</style>\n",
              "<table border=\"1\" class=\"dataframe\">\n",
              "  <thead>\n",
              "    <tr style=\"text-align: right;\">\n",
              "      <th></th>\n",
              "      <th>first_mile_distance</th>\n",
              "      <th>last_mile_distance</th>\n",
              "      <th>alloted_orders</th>\n",
              "      <th>delivered_orders</th>\n",
              "      <th>undelivered_orders</th>\n",
              "      <th>lifetime_order_count</th>\n",
              "      <th>reassignment_method</th>\n",
              "      <th>reassignment_reason</th>\n",
              "      <th>reassigned_order</th>\n",
              "      <th>session_time</th>\n",
              "      <th>accept_sec</th>\n",
              "      <th>order_sec</th>\n",
              "      <th>total_distance</th>\n",
              "      <th>reassigned_order</th>\n",
              "      <th>month</th>\n",
              "      <th>day</th>\n",
              "      <th>delivery_success</th>\n",
              "      <th>cancelled</th>\n",
              "    </tr>\n",
              "  </thead>\n",
              "  <tbody>\n",
              "    <tr>\n",
              "      <th>0</th>\n",
              "      <td>1.5666</td>\n",
              "      <td>2.65</td>\n",
              "      <td>46.0</td>\n",
              "      <td>46.0</td>\n",
              "      <td>0.0</td>\n",
              "      <td>621.0</td>\n",
              "      <td>0</td>\n",
              "      <td>0</td>\n",
              "      <td>0.0</td>\n",
              "      <td>0.000000</td>\n",
              "      <td>9.0</td>\n",
              "      <td>33.0</td>\n",
              "      <td>4.2166</td>\n",
              "      <td>0.0</td>\n",
              "      <td>1</td>\n",
              "      <td>26</td>\n",
              "      <td>1.0</td>\n",
              "      <td>0</td>\n",
              "    </tr>\n",
              "    <tr>\n",
              "      <th>1</th>\n",
              "      <td>2.5207</td>\n",
              "      <td>2.76</td>\n",
              "      <td>8.0</td>\n",
              "      <td>8.0</td>\n",
              "      <td>0.0</td>\n",
              "      <td>105.0</td>\n",
              "      <td>0</td>\n",
              "      <td>0</td>\n",
              "      <td>0.0</td>\n",
              "      <td>3.266667</td>\n",
              "      <td>48.0</td>\n",
              "      <td>89.0</td>\n",
              "      <td>5.2807</td>\n",
              "      <td>0.0</td>\n",
              "      <td>1</td>\n",
              "      <td>26</td>\n",
              "      <td>1.0</td>\n",
              "      <td>0</td>\n",
              "    </tr>\n",
              "    <tr>\n",
              "      <th>2</th>\n",
              "      <td>2.2074</td>\n",
              "      <td>4.80</td>\n",
              "      <td>1.0</td>\n",
              "      <td>1.0</td>\n",
              "      <td>0.0</td>\n",
              "      <td>66.0</td>\n",
              "      <td>0</td>\n",
              "      <td>0</td>\n",
              "      <td>0.0</td>\n",
              "      <td>9.816667</td>\n",
              "      <td>16.0</td>\n",
              "      <td>24.0</td>\n",
              "      <td>7.0074</td>\n",
              "      <td>0.0</td>\n",
              "      <td>1</td>\n",
              "      <td>26</td>\n",
              "      <td>1.0</td>\n",
              "      <td>0</td>\n",
              "    </tr>\n",
              "    <tr>\n",
              "      <th>3</th>\n",
              "      <td>2.1894</td>\n",
              "      <td>6.38</td>\n",
              "      <td>1.0</td>\n",
              "      <td>1.0</td>\n",
              "      <td>0.0</td>\n",
              "      <td>127.0</td>\n",
              "      <td>0</td>\n",
              "      <td>0</td>\n",
              "      <td>0.0</td>\n",
              "      <td>17.533333</td>\n",
              "      <td>41.0</td>\n",
              "      <td>73.0</td>\n",
              "      <td>8.5694</td>\n",
              "      <td>0.0</td>\n",
              "      <td>1</td>\n",
              "      <td>26</td>\n",
              "      <td>1.0</td>\n",
              "      <td>0</td>\n",
              "    </tr>\n",
              "    <tr>\n",
              "      <th>4</th>\n",
              "      <td>2.7870</td>\n",
              "      <td>4.01</td>\n",
              "      <td>34.0</td>\n",
              "      <td>34.0</td>\n",
              "      <td>0.0</td>\n",
              "      <td>84.0</td>\n",
              "      <td>0</td>\n",
              "      <td>0</td>\n",
              "      <td>0.0</td>\n",
              "      <td>1.350000</td>\n",
              "      <td>36.0</td>\n",
              "      <td>87.0</td>\n",
              "      <td>6.7970</td>\n",
              "      <td>0.0</td>\n",
              "      <td>1</td>\n",
              "      <td>26</td>\n",
              "      <td>1.0</td>\n",
              "      <td>0</td>\n",
              "    </tr>\n",
              "  </tbody>\n",
              "</table>\n",
              "</div>\n",
              "      <button class=\"colab-df-convert\" onclick=\"convertToInteractive('df-94e1dbbf-ea68-453b-9235-289f25de643f')\"\n",
              "              title=\"Convert this dataframe to an interactive table.\"\n",
              "              style=\"display:none;\">\n",
              "        \n",
              "  <svg xmlns=\"http://www.w3.org/2000/svg\" height=\"24px\"viewBox=\"0 0 24 24\"\n",
              "       width=\"24px\">\n",
              "    <path d=\"M0 0h24v24H0V0z\" fill=\"none\"/>\n",
              "    <path d=\"M18.56 5.44l.94 2.06.94-2.06 2.06-.94-2.06-.94-.94-2.06-.94 2.06-2.06.94zm-11 1L8.5 8.5l.94-2.06 2.06-.94-2.06-.94L8.5 2.5l-.94 2.06-2.06.94zm10 10l.94 2.06.94-2.06 2.06-.94-2.06-.94-.94-2.06-.94 2.06-2.06.94z\"/><path d=\"M17.41 7.96l-1.37-1.37c-.4-.4-.92-.59-1.43-.59-.52 0-1.04.2-1.43.59L10.3 9.45l-7.72 7.72c-.78.78-.78 2.05 0 2.83L4 21.41c.39.39.9.59 1.41.59.51 0 1.02-.2 1.41-.59l7.78-7.78 2.81-2.81c.8-.78.8-2.07 0-2.86zM5.41 20L4 18.59l7.72-7.72 1.47 1.35L5.41 20z\"/>\n",
              "  </svg>\n",
              "      </button>\n",
              "      \n",
              "  <style>\n",
              "    .colab-df-container {\n",
              "      display:flex;\n",
              "      flex-wrap:wrap;\n",
              "      gap: 12px;\n",
              "    }\n",
              "\n",
              "    .colab-df-convert {\n",
              "      background-color: #E8F0FE;\n",
              "      border: none;\n",
              "      border-radius: 50%;\n",
              "      cursor: pointer;\n",
              "      display: none;\n",
              "      fill: #1967D2;\n",
              "      height: 32px;\n",
              "      padding: 0 0 0 0;\n",
              "      width: 32px;\n",
              "    }\n",
              "\n",
              "    .colab-df-convert:hover {\n",
              "      background-color: #E2EBFA;\n",
              "      box-shadow: 0px 1px 2px rgba(60, 64, 67, 0.3), 0px 1px 3px 1px rgba(60, 64, 67, 0.15);\n",
              "      fill: #174EA6;\n",
              "    }\n",
              "\n",
              "    [theme=dark] .colab-df-convert {\n",
              "      background-color: #3B4455;\n",
              "      fill: #D2E3FC;\n",
              "    }\n",
              "\n",
              "    [theme=dark] .colab-df-convert:hover {\n",
              "      background-color: #434B5C;\n",
              "      box-shadow: 0px 1px 3px 1px rgba(0, 0, 0, 0.15);\n",
              "      filter: drop-shadow(0px 1px 2px rgba(0, 0, 0, 0.3));\n",
              "      fill: #FFFFFF;\n",
              "    }\n",
              "  </style>\n",
              "\n",
              "      <script>\n",
              "        const buttonEl =\n",
              "          document.querySelector('#df-94e1dbbf-ea68-453b-9235-289f25de643f button.colab-df-convert');\n",
              "        buttonEl.style.display =\n",
              "          google.colab.kernel.accessAllowed ? 'block' : 'none';\n",
              "\n",
              "        async function convertToInteractive(key) {\n",
              "          const element = document.querySelector('#df-94e1dbbf-ea68-453b-9235-289f25de643f');\n",
              "          const dataTable =\n",
              "            await google.colab.kernel.invokeFunction('convertToInteractive',\n",
              "                                                     [key], {});\n",
              "          if (!dataTable) return;\n",
              "\n",
              "          const docLinkHtml = 'Like what you see? Visit the ' +\n",
              "            '<a target=\"_blank\" href=https://colab.research.google.com/notebooks/data_table.ipynb>data table notebook</a>'\n",
              "            + ' to learn more about interactive tables.';\n",
              "          element.innerHTML = '';\n",
              "          dataTable['output_type'] = 'display_data';\n",
              "          await google.colab.output.renderOutput(dataTable, element);\n",
              "          const docLink = document.createElement('div');\n",
              "          docLink.innerHTML = docLinkHtml;\n",
              "          element.appendChild(docLink);\n",
              "        }\n",
              "      </script>\n",
              "    </div>\n",
              "  </div>\n",
              "  "
            ],
            "text/plain": [
              "   first_mile_distance  last_mile_distance  ...  delivery_success  cancelled\n",
              "0               1.5666                2.65  ...               1.0          0\n",
              "1               2.5207                2.76  ...               1.0          0\n",
              "2               2.2074                4.80  ...               1.0          0\n",
              "3               2.1894                6.38  ...               1.0          0\n",
              "4               2.7870                4.01  ...               1.0          0\n",
              "\n",
              "[5 rows x 18 columns]"
            ]
          },
          "metadata": {},
          "execution_count": 125
        }
      ]
    },
    {
      "cell_type": "code",
      "source": [
        "duplicate_columns = df_test_over.columns[df_test_over.columns.duplicated()]\n",
        "\n",
        "duplicate_columns"
      ],
      "metadata": {
        "colab": {
          "base_uri": "https://localhost:8080/"
        },
        "id": "BSp_IABd4Ndc",
        "outputId": "aaecd8bd-8c02-4f76-f80c-c7fd102b84c6"
      },
      "execution_count": 126,
      "outputs": [
        {
          "output_type": "execute_result",
          "data": {
            "text/plain": [
              "Index(['reassigned_order'], dtype='object')"
            ]
          },
          "metadata": {},
          "execution_count": 126
        }
      ]
    },
    {
      "cell_type": "code",
      "source": [
        "df_test_over = df_test_over.loc[:,~df_test_over.columns.duplicated()]"
      ],
      "metadata": {
        "id": "GpuEfo2I4jR3"
      },
      "execution_count": 127,
      "outputs": []
    },
    {
      "cell_type": "code",
      "source": [
        "df_test_over.head()"
      ],
      "metadata": {
        "colab": {
          "base_uri": "https://localhost:8080/",
          "height": 270
        },
        "id": "07WR-Uaj5jA2",
        "outputId": "43e7be14-e319-4bbc-872b-205689f3cb1b"
      },
      "execution_count": 128,
      "outputs": [
        {
          "output_type": "execute_result",
          "data": {
            "text/html": [
              "\n",
              "  <div id=\"df-7cb1d3f1-2d52-486f-935b-b4e8f31b6f7c\">\n",
              "    <div class=\"colab-df-container\">\n",
              "      <div>\n",
              "<style scoped>\n",
              "    .dataframe tbody tr th:only-of-type {\n",
              "        vertical-align: middle;\n",
              "    }\n",
              "\n",
              "    .dataframe tbody tr th {\n",
              "        vertical-align: top;\n",
              "    }\n",
              "\n",
              "    .dataframe thead th {\n",
              "        text-align: right;\n",
              "    }\n",
              "</style>\n",
              "<table border=\"1\" class=\"dataframe\">\n",
              "  <thead>\n",
              "    <tr style=\"text-align: right;\">\n",
              "      <th></th>\n",
              "      <th>first_mile_distance</th>\n",
              "      <th>last_mile_distance</th>\n",
              "      <th>alloted_orders</th>\n",
              "      <th>delivered_orders</th>\n",
              "      <th>undelivered_orders</th>\n",
              "      <th>lifetime_order_count</th>\n",
              "      <th>reassignment_method</th>\n",
              "      <th>reassignment_reason</th>\n",
              "      <th>reassigned_order</th>\n",
              "      <th>session_time</th>\n",
              "      <th>accept_sec</th>\n",
              "      <th>order_sec</th>\n",
              "      <th>total_distance</th>\n",
              "      <th>month</th>\n",
              "      <th>day</th>\n",
              "      <th>delivery_success</th>\n",
              "      <th>cancelled</th>\n",
              "    </tr>\n",
              "  </thead>\n",
              "  <tbody>\n",
              "    <tr>\n",
              "      <th>0</th>\n",
              "      <td>1.5666</td>\n",
              "      <td>2.65</td>\n",
              "      <td>46.0</td>\n",
              "      <td>46.0</td>\n",
              "      <td>0.0</td>\n",
              "      <td>621.0</td>\n",
              "      <td>0</td>\n",
              "      <td>0</td>\n",
              "      <td>0.0</td>\n",
              "      <td>0.000000</td>\n",
              "      <td>9.0</td>\n",
              "      <td>33.0</td>\n",
              "      <td>4.2166</td>\n",
              "      <td>1</td>\n",
              "      <td>26</td>\n",
              "      <td>1.0</td>\n",
              "      <td>0</td>\n",
              "    </tr>\n",
              "    <tr>\n",
              "      <th>1</th>\n",
              "      <td>2.5207</td>\n",
              "      <td>2.76</td>\n",
              "      <td>8.0</td>\n",
              "      <td>8.0</td>\n",
              "      <td>0.0</td>\n",
              "      <td>105.0</td>\n",
              "      <td>0</td>\n",
              "      <td>0</td>\n",
              "      <td>0.0</td>\n",
              "      <td>3.266667</td>\n",
              "      <td>48.0</td>\n",
              "      <td>89.0</td>\n",
              "      <td>5.2807</td>\n",
              "      <td>1</td>\n",
              "      <td>26</td>\n",
              "      <td>1.0</td>\n",
              "      <td>0</td>\n",
              "    </tr>\n",
              "    <tr>\n",
              "      <th>2</th>\n",
              "      <td>2.2074</td>\n",
              "      <td>4.80</td>\n",
              "      <td>1.0</td>\n",
              "      <td>1.0</td>\n",
              "      <td>0.0</td>\n",
              "      <td>66.0</td>\n",
              "      <td>0</td>\n",
              "      <td>0</td>\n",
              "      <td>0.0</td>\n",
              "      <td>9.816667</td>\n",
              "      <td>16.0</td>\n",
              "      <td>24.0</td>\n",
              "      <td>7.0074</td>\n",
              "      <td>1</td>\n",
              "      <td>26</td>\n",
              "      <td>1.0</td>\n",
              "      <td>0</td>\n",
              "    </tr>\n",
              "    <tr>\n",
              "      <th>3</th>\n",
              "      <td>2.1894</td>\n",
              "      <td>6.38</td>\n",
              "      <td>1.0</td>\n",
              "      <td>1.0</td>\n",
              "      <td>0.0</td>\n",
              "      <td>127.0</td>\n",
              "      <td>0</td>\n",
              "      <td>0</td>\n",
              "      <td>0.0</td>\n",
              "      <td>17.533333</td>\n",
              "      <td>41.0</td>\n",
              "      <td>73.0</td>\n",
              "      <td>8.5694</td>\n",
              "      <td>1</td>\n",
              "      <td>26</td>\n",
              "      <td>1.0</td>\n",
              "      <td>0</td>\n",
              "    </tr>\n",
              "    <tr>\n",
              "      <th>4</th>\n",
              "      <td>2.7870</td>\n",
              "      <td>4.01</td>\n",
              "      <td>34.0</td>\n",
              "      <td>34.0</td>\n",
              "      <td>0.0</td>\n",
              "      <td>84.0</td>\n",
              "      <td>0</td>\n",
              "      <td>0</td>\n",
              "      <td>0.0</td>\n",
              "      <td>1.350000</td>\n",
              "      <td>36.0</td>\n",
              "      <td>87.0</td>\n",
              "      <td>6.7970</td>\n",
              "      <td>1</td>\n",
              "      <td>26</td>\n",
              "      <td>1.0</td>\n",
              "      <td>0</td>\n",
              "    </tr>\n",
              "  </tbody>\n",
              "</table>\n",
              "</div>\n",
              "      <button class=\"colab-df-convert\" onclick=\"convertToInteractive('df-7cb1d3f1-2d52-486f-935b-b4e8f31b6f7c')\"\n",
              "              title=\"Convert this dataframe to an interactive table.\"\n",
              "              style=\"display:none;\">\n",
              "        \n",
              "  <svg xmlns=\"http://www.w3.org/2000/svg\" height=\"24px\"viewBox=\"0 0 24 24\"\n",
              "       width=\"24px\">\n",
              "    <path d=\"M0 0h24v24H0V0z\" fill=\"none\"/>\n",
              "    <path d=\"M18.56 5.44l.94 2.06.94-2.06 2.06-.94-2.06-.94-.94-2.06-.94 2.06-2.06.94zm-11 1L8.5 8.5l.94-2.06 2.06-.94-2.06-.94L8.5 2.5l-.94 2.06-2.06.94zm10 10l.94 2.06.94-2.06 2.06-.94-2.06-.94-.94-2.06-.94 2.06-2.06.94z\"/><path d=\"M17.41 7.96l-1.37-1.37c-.4-.4-.92-.59-1.43-.59-.52 0-1.04.2-1.43.59L10.3 9.45l-7.72 7.72c-.78.78-.78 2.05 0 2.83L4 21.41c.39.39.9.59 1.41.59.51 0 1.02-.2 1.41-.59l7.78-7.78 2.81-2.81c.8-.78.8-2.07 0-2.86zM5.41 20L4 18.59l7.72-7.72 1.47 1.35L5.41 20z\"/>\n",
              "  </svg>\n",
              "      </button>\n",
              "      \n",
              "  <style>\n",
              "    .colab-df-container {\n",
              "      display:flex;\n",
              "      flex-wrap:wrap;\n",
              "      gap: 12px;\n",
              "    }\n",
              "\n",
              "    .colab-df-convert {\n",
              "      background-color: #E8F0FE;\n",
              "      border: none;\n",
              "      border-radius: 50%;\n",
              "      cursor: pointer;\n",
              "      display: none;\n",
              "      fill: #1967D2;\n",
              "      height: 32px;\n",
              "      padding: 0 0 0 0;\n",
              "      width: 32px;\n",
              "    }\n",
              "\n",
              "    .colab-df-convert:hover {\n",
              "      background-color: #E2EBFA;\n",
              "      box-shadow: 0px 1px 2px rgba(60, 64, 67, 0.3), 0px 1px 3px 1px rgba(60, 64, 67, 0.15);\n",
              "      fill: #174EA6;\n",
              "    }\n",
              "\n",
              "    [theme=dark] .colab-df-convert {\n",
              "      background-color: #3B4455;\n",
              "      fill: #D2E3FC;\n",
              "    }\n",
              "\n",
              "    [theme=dark] .colab-df-convert:hover {\n",
              "      background-color: #434B5C;\n",
              "      box-shadow: 0px 1px 3px 1px rgba(0, 0, 0, 0.15);\n",
              "      filter: drop-shadow(0px 1px 2px rgba(0, 0, 0, 0.3));\n",
              "      fill: #FFFFFF;\n",
              "    }\n",
              "  </style>\n",
              "\n",
              "      <script>\n",
              "        const buttonEl =\n",
              "          document.querySelector('#df-7cb1d3f1-2d52-486f-935b-b4e8f31b6f7c button.colab-df-convert');\n",
              "        buttonEl.style.display =\n",
              "          google.colab.kernel.accessAllowed ? 'block' : 'none';\n",
              "\n",
              "        async function convertToInteractive(key) {\n",
              "          const element = document.querySelector('#df-7cb1d3f1-2d52-486f-935b-b4e8f31b6f7c');\n",
              "          const dataTable =\n",
              "            await google.colab.kernel.invokeFunction('convertToInteractive',\n",
              "                                                     [key], {});\n",
              "          if (!dataTable) return;\n",
              "\n",
              "          const docLinkHtml = 'Like what you see? Visit the ' +\n",
              "            '<a target=\"_blank\" href=https://colab.research.google.com/notebooks/data_table.ipynb>data table notebook</a>'\n",
              "            + ' to learn more about interactive tables.';\n",
              "          element.innerHTML = '';\n",
              "          dataTable['output_type'] = 'display_data';\n",
              "          await google.colab.output.renderOutput(dataTable, element);\n",
              "          const docLink = document.createElement('div');\n",
              "          docLink.innerHTML = docLinkHtml;\n",
              "          element.appendChild(docLink);\n",
              "        }\n",
              "      </script>\n",
              "    </div>\n",
              "  </div>\n",
              "  "
            ],
            "text/plain": [
              "   first_mile_distance  last_mile_distance  ...  delivery_success  cancelled\n",
              "0               1.5666                2.65  ...               1.0          0\n",
              "1               2.5207                2.76  ...               1.0          0\n",
              "2               2.2074                4.80  ...               1.0          0\n",
              "3               2.1894                6.38  ...               1.0          0\n",
              "4               2.7870                4.01  ...               1.0          0\n",
              "\n",
              "[5 rows x 17 columns]"
            ]
          },
          "metadata": {},
          "execution_count": 128
        }
      ]
    },
    {
      "cell_type": "code",
      "execution_count": 129,
      "metadata": {
        "id": "fWsjlxYH2Lbi"
      },
      "outputs": [],
      "source": [
        "X = df_test_over.drop('cancelled',axis='columns')\n",
        "y = df_test_over['cancelled']\n",
        "\n",
        "from sklearn.model_selection import train_test_split\n",
        "X_train, X_test, y_train, y_test = train_test_split(X, y, test_size=0.2, random_state=15, stratify=y)"
      ]
    },
    {
      "cell_type": "code",
      "source": [
        "df_test_over.shape"
      ],
      "metadata": {
        "colab": {
          "base_uri": "https://localhost:8080/"
        },
        "id": "V1uu2aFA54Bx",
        "outputId": "404de989-d418-4fd0-cd10-f8efb063bd04"
      },
      "execution_count": 150,
      "outputs": [
        {
          "output_type": "execute_result",
          "data": {
            "text/plain": [
              "(856592, 17)"
            ]
          },
          "metadata": {},
          "execution_count": 150
        }
      ]
    },
    {
      "cell_type": "code",
      "source": [
        "from sklearn.neighbors import KNeighborsClassifier\n",
        "model = KNeighborsClassifier(n_neighbors=15)\n",
        "preds = model.fit(X_train, y_train).predict(X_test)"
      ],
      "metadata": {
        "id": "npjyJOyDYPEI"
      },
      "execution_count": 130,
      "outputs": []
    },
    {
      "cell_type": "code",
      "source": [
        "from sklearn.metrics import roc_auc_score\n",
        "\n",
        "roc_auc_score(y_test, preds)"
      ],
      "metadata": {
        "colab": {
          "base_uri": "https://localhost:8080/"
        },
        "id": "ns9UQcz6aYFW",
        "outputId": "d0c3e3a6-828c-48ba-bf1e-95c6b24fb08b"
      },
      "execution_count": 131,
      "outputs": [
        {
          "output_type": "execute_result",
          "data": {
            "text/plain": [
              "0.9590824188652813"
            ]
          },
          "metadata": {},
          "execution_count": 131
        }
      ]
    },
    {
      "cell_type": "code",
      "source": [
        "print(\"Classification Report: \\n\", classification_report(y_test,preds))"
      ],
      "metadata": {
        "colab": {
          "base_uri": "https://localhost:8080/"
        },
        "id": "gJ4fWr4paeSH",
        "outputId": "0b558f75-b41a-45dd-e9f8-9bc278aba3ae"
      },
      "execution_count": 132,
      "outputs": [
        {
          "output_type": "stream",
          "name": "stdout",
          "text": [
            "Classification Report: \n",
            "               precision    recall  f1-score   support\n",
            "\n",
            "           0       1.00      0.92      0.96     85660\n",
            "           1       0.92      1.00      0.96     85659\n",
            "\n",
            "    accuracy                           0.96    171319\n",
            "   macro avg       0.96      0.96      0.96    171319\n",
            "weighted avg       0.96      0.96      0.96    171319\n",
            "\n"
          ]
        }
      ]
    },
    {
      "cell_type": "code",
      "source": [
        "from keras.layers import Dense, BatchNormalization, Dropout, LSTM\n",
        "from keras.models import Sequential"
      ],
      "metadata": {
        "id": "c7tNVT_j5vlw"
      },
      "execution_count": 149,
      "outputs": []
    },
    {
      "cell_type": "code",
      "source": [
        "model = Sequential()\n",
        "\n",
        "# layers\n",
        "model.add(Dense(units = 16, kernel_initializer = 'uniform', activation = 'relu', input_dim = 16))\n",
        "model.add(Dense(units = 8, kernel_initializer = 'uniform', activation = 'relu'))\n",
        "model.add(Dropout(0.25))\n",
        "model.add(Dense(units = 4, kernel_initializer = 'uniform', activation = 'relu'))\n",
        "model.add(Dropout(0.5))\n",
        "model.add(Dense(units = 1, kernel_initializer = 'uniform', activation = 'sigmoid'))\n",
        "\n",
        "# Compiling the ANN\n",
        "model.compile(optimizer = 'adam', loss = 'binary_crossentropy', metrics = ['accuracy'])\n",
        "\n",
        "# Train the ANN\n",
        "model.fit(X_train, y_train, batch_size = 32, epochs = 50, validation_split=0.2)"
      ],
      "metadata": {
        "colab": {
          "base_uri": "https://localhost:8080/"
        },
        "id": "6EMk-FJl5h2X",
        "outputId": "e95ddc91-a85e-429a-a498-c084e5e37e3b"
      },
      "execution_count": 153,
      "outputs": [
        {
          "output_type": "stream",
          "name": "stdout",
          "text": [
            "Epoch 1/50\n",
            "17132/17132 [==============================] - 39s 2ms/step - loss: 0.6526 - accuracy: 0.6178 - val_loss: 0.6235 - val_accuracy: 0.6502\n",
            "Epoch 2/50\n",
            "17132/17132 [==============================] - 35s 2ms/step - loss: 0.6435 - accuracy: 0.6332 - val_loss: 0.6136 - val_accuracy: 0.6580\n",
            "Epoch 3/50\n",
            "17132/17132 [==============================] - 36s 2ms/step - loss: 0.6392 - accuracy: 0.6399 - val_loss: 0.6101 - val_accuracy: 0.6648\n",
            "Epoch 4/50\n",
            "17132/17132 [==============================] - 35s 2ms/step - loss: 0.6376 - accuracy: 0.6407 - val_loss: 0.6118 - val_accuracy: 0.6580\n",
            "Epoch 5/50\n",
            "17132/17132 [==============================] - 35s 2ms/step - loss: 0.6369 - accuracy: 0.6422 - val_loss: 0.6066 - val_accuracy: 0.6663\n",
            "Epoch 6/50\n",
            "17132/17132 [==============================] - 36s 2ms/step - loss: 0.6359 - accuracy: 0.6428 - val_loss: 0.6035 - val_accuracy: 0.6687\n",
            "Epoch 7/50\n",
            "17132/17132 [==============================] - 36s 2ms/step - loss: 0.6360 - accuracy: 0.6424 - val_loss: 0.6069 - val_accuracy: 0.6639\n",
            "Epoch 8/50\n",
            "17132/17132 [==============================] - 35s 2ms/step - loss: 0.6353 - accuracy: 0.6433 - val_loss: 0.6042 - val_accuracy: 0.6712\n",
            "Epoch 9/50\n",
            "17132/17132 [==============================] - 35s 2ms/step - loss: 0.6351 - accuracy: 0.6442 - val_loss: 0.5984 - val_accuracy: 0.6666\n",
            "Epoch 10/50\n",
            "17132/17132 [==============================] - 34s 2ms/step - loss: 0.6348 - accuracy: 0.6436 - val_loss: 0.6021 - val_accuracy: 0.6679\n",
            "Epoch 11/50\n",
            "17132/17132 [==============================] - 34s 2ms/step - loss: 0.6348 - accuracy: 0.6443 - val_loss: 0.6001 - val_accuracy: 0.6705\n",
            "Epoch 12/50\n",
            "17132/17132 [==============================] - 34s 2ms/step - loss: 0.6344 - accuracy: 0.6445 - val_loss: 0.5938 - val_accuracy: 0.6702\n",
            "Epoch 13/50\n",
            "17132/17132 [==============================] - 34s 2ms/step - loss: 0.6344 - accuracy: 0.6447 - val_loss: 0.6001 - val_accuracy: 0.6682\n",
            "Epoch 14/50\n",
            "17132/17132 [==============================] - 33s 2ms/step - loss: 0.6346 - accuracy: 0.6446 - val_loss: 0.5973 - val_accuracy: 0.6708\n",
            "Epoch 15/50\n",
            "17132/17132 [==============================] - 34s 2ms/step - loss: 0.6341 - accuracy: 0.6455 - val_loss: 0.6022 - val_accuracy: 0.6569\n",
            "Epoch 16/50\n",
            "17132/17132 [==============================] - 34s 2ms/step - loss: 0.6336 - accuracy: 0.6459 - val_loss: 0.6012 - val_accuracy: 0.6726\n",
            "Epoch 17/50\n",
            "17132/17132 [==============================] - 34s 2ms/step - loss: 0.6329 - accuracy: 0.6466 - val_loss: 0.5970 - val_accuracy: 0.6707\n",
            "Epoch 18/50\n",
            "17132/17132 [==============================] - 34s 2ms/step - loss: 0.6337 - accuracy: 0.6456 - val_loss: 0.6032 - val_accuracy: 0.6673\n",
            "Epoch 19/50\n",
            "17132/17132 [==============================] - 35s 2ms/step - loss: 0.6333 - accuracy: 0.6458 - val_loss: 0.6003 - val_accuracy: 0.6680\n",
            "Epoch 20/50\n",
            "17132/17132 [==============================] - 35s 2ms/step - loss: 0.6333 - accuracy: 0.6455 - val_loss: 0.6014 - val_accuracy: 0.6722\n",
            "Epoch 21/50\n",
            "17132/17132 [==============================] - 35s 2ms/step - loss: 0.6336 - accuracy: 0.6457 - val_loss: 0.6028 - val_accuracy: 0.6654\n",
            "Epoch 22/50\n",
            "17132/17132 [==============================] - 35s 2ms/step - loss: 0.6334 - accuracy: 0.6463 - val_loss: 0.6073 - val_accuracy: 0.6699\n",
            "Epoch 23/50\n",
            "17132/17132 [==============================] - 35s 2ms/step - loss: 0.6332 - accuracy: 0.6459 - val_loss: 0.6028 - val_accuracy: 0.6685\n",
            "Epoch 24/50\n",
            "17132/17132 [==============================] - 34s 2ms/step - loss: 0.6330 - accuracy: 0.6468 - val_loss: 0.5973 - val_accuracy: 0.6721\n",
            "Epoch 25/50\n",
            "17132/17132 [==============================] - 34s 2ms/step - loss: 0.6333 - accuracy: 0.6464 - val_loss: 0.6024 - val_accuracy: 0.6707\n",
            "Epoch 26/50\n",
            "17132/17132 [==============================] - 34s 2ms/step - loss: 0.6325 - accuracy: 0.6472 - val_loss: 0.5992 - val_accuracy: 0.6663\n",
            "Epoch 27/50\n",
            "17132/17132 [==============================] - 34s 2ms/step - loss: 0.6328 - accuracy: 0.6464 - val_loss: 0.5944 - val_accuracy: 0.6709\n",
            "Epoch 28/50\n",
            "17132/17132 [==============================] - 34s 2ms/step - loss: 0.6334 - accuracy: 0.6470 - val_loss: 0.5988 - val_accuracy: 0.6703\n",
            "Epoch 29/50\n",
            "17132/17132 [==============================] - 34s 2ms/step - loss: 0.6327 - accuracy: 0.6475 - val_loss: 0.5990 - val_accuracy: 0.6704\n",
            "Epoch 30/50\n",
            "17132/17132 [==============================] - 34s 2ms/step - loss: 0.6326 - accuracy: 0.6471 - val_loss: 0.5998 - val_accuracy: 0.6717\n",
            "Epoch 31/50\n",
            "17132/17132 [==============================] - 35s 2ms/step - loss: 0.6325 - accuracy: 0.6474 - val_loss: 0.6015 - val_accuracy: 0.6681\n",
            "Epoch 32/50\n",
            "17132/17132 [==============================] - 34s 2ms/step - loss: 0.6322 - accuracy: 0.6479 - val_loss: 0.5980 - val_accuracy: 0.6724\n",
            "Epoch 33/50\n",
            "17132/17132 [==============================] - 34s 2ms/step - loss: 0.6326 - accuracy: 0.6472 - val_loss: 0.6038 - val_accuracy: 0.6727\n",
            "Epoch 34/50\n",
            "17132/17132 [==============================] - 34s 2ms/step - loss: 0.6327 - accuracy: 0.6472 - val_loss: 0.5942 - val_accuracy: 0.6737\n",
            "Epoch 35/50\n",
            "17132/17132 [==============================] - 34s 2ms/step - loss: 0.6325 - accuracy: 0.6467 - val_loss: 0.6036 - val_accuracy: 0.6686\n",
            "Epoch 36/50\n",
            "17132/17132 [==============================] - 35s 2ms/step - loss: 0.6318 - accuracy: 0.6480 - val_loss: 0.5971 - val_accuracy: 0.6699\n",
            "Epoch 37/50\n",
            "17132/17132 [==============================] - 35s 2ms/step - loss: 0.6323 - accuracy: 0.6483 - val_loss: 0.5966 - val_accuracy: 0.6708\n",
            "Epoch 38/50\n",
            "17132/17132 [==============================] - 34s 2ms/step - loss: 0.6325 - accuracy: 0.6489 - val_loss: 0.5961 - val_accuracy: 0.6708\n",
            "Epoch 39/50\n",
            "17132/17132 [==============================] - 35s 2ms/step - loss: 0.6322 - accuracy: 0.6484 - val_loss: 0.6032 - val_accuracy: 0.6714\n",
            "Epoch 40/50\n",
            "17132/17132 [==============================] - 34s 2ms/step - loss: 0.6321 - accuracy: 0.6477 - val_loss: 0.6014 - val_accuracy: 0.6672\n",
            "Epoch 41/50\n",
            "17132/17132 [==============================] - 35s 2ms/step - loss: 0.6325 - accuracy: 0.6478 - val_loss: 0.5988 - val_accuracy: 0.6726\n",
            "Epoch 42/50\n",
            "17132/17132 [==============================] - 35s 2ms/step - loss: 0.6313 - accuracy: 0.6489 - val_loss: 0.5971 - val_accuracy: 0.6723\n",
            "Epoch 43/50\n",
            "17132/17132 [==============================] - 34s 2ms/step - loss: 0.6323 - accuracy: 0.6471 - val_loss: 0.6068 - val_accuracy: 0.6648\n",
            "Epoch 44/50\n",
            "17132/17132 [==============================] - 34s 2ms/step - loss: 0.6323 - accuracy: 0.6472 - val_loss: 0.5991 - val_accuracy: 0.6721\n",
            "Epoch 45/50\n",
            "17132/17132 [==============================] - 35s 2ms/step - loss: 0.6319 - accuracy: 0.6477 - val_loss: 0.5995 - val_accuracy: 0.6716\n",
            "Epoch 46/50\n",
            "17132/17132 [==============================] - 35s 2ms/step - loss: 0.6320 - accuracy: 0.6484 - val_loss: 0.5978 - val_accuracy: 0.6728\n",
            "Epoch 47/50\n",
            "17132/17132 [==============================] - 34s 2ms/step - loss: 0.6315 - accuracy: 0.6486 - val_loss: 0.5959 - val_accuracy: 0.6741\n",
            "Epoch 48/50\n",
            "17132/17132 [==============================] - 34s 2ms/step - loss: 0.6316 - accuracy: 0.6485 - val_loss: 0.5984 - val_accuracy: 0.6736\n",
            "Epoch 49/50\n",
            "17132/17132 [==============================] - 35s 2ms/step - loss: 0.6325 - accuracy: 0.6478 - val_loss: 0.6017 - val_accuracy: 0.6708\n",
            "Epoch 50/50\n",
            "17132/17132 [==============================] - 34s 2ms/step - loss: 0.6325 - accuracy: 0.6485 - val_loss: 0.5958 - val_accuracy: 0.6728\n"
          ]
        },
        {
          "output_type": "execute_result",
          "data": {
            "text/plain": [
              "<keras.callbacks.History at 0x7fe0d62fda50>"
            ]
          },
          "metadata": {},
          "execution_count": 153
        }
      ]
    },
    {
      "cell_type": "code",
      "execution_count": null,
      "metadata": {
        "id": "GejQbaZ22XFA"
      },
      "outputs": [],
      "source": [
        "y_train.value_counts()"
      ]
    },
    {
      "cell_type": "code",
      "execution_count": null,
      "metadata": {
        "id": "7xHUKG6mq1Y-"
      },
      "outputs": [],
      "source": [
        "model = keras.Sequential([\n",
        "        keras.layers.Dense(17, input_dim=17, activation='relu'),\n",
        "        keras.layers.Dense(12, activation='relu'),\n",
        "        keras.layers.Dense(1, activation='sigmoid')\n",
        "    ])\n",
        "\n",
        "model.compile(optimizer='adam', loss='binary_crossentropy', metrics=['accuracy'])"
      ]
    },
    {
      "cell_type": "code",
      "execution_count": null,
      "metadata": {
        "id": "AyAYOLWWC55O"
      },
      "outputs": [],
      "source": [
        "model.fit(X_train, y_train, epochs=16,batch_size=32)\n"
      ]
    },
    {
      "cell_type": "code",
      "execution_count": 154,
      "metadata": {
        "id": "1SsRFnaeGnXE"
      },
      "outputs": [],
      "source": [
        "y_preds2 = model.predict(X_test)\n",
        "y_preds2 = np.round(y_preds2)"
      ]
    },
    {
      "cell_type": "code",
      "execution_count": 155,
      "metadata": {
        "id": "9PzLbmhs1viX",
        "colab": {
          "base_uri": "https://localhost:8080/"
        },
        "outputId": "4bb1cb02-56e6-4757-fbca-c58d6289813f"
      },
      "outputs": [
        {
          "output_type": "stream",
          "name": "stdout",
          "text": [
            "Classification Report: \n",
            "               precision    recall  f1-score   support\n",
            "\n",
            "           0       0.64      0.79      0.71     85660\n",
            "           1       0.73      0.56      0.63     85659\n",
            "\n",
            "    accuracy                           0.67    171319\n",
            "   macro avg       0.68      0.67      0.67    171319\n",
            "weighted avg       0.68      0.67      0.67    171319\n",
            "\n"
          ]
        }
      ],
      "source": [
        "print(\"Classification Report: \\n\", classification_report(y_test, y_preds2))"
      ]
    },
    {
      "cell_type": "code",
      "execution_count": 156,
      "metadata": {
        "id": "_9x2kNx1zoBj",
        "colab": {
          "base_uri": "https://localhost:8080/"
        },
        "outputId": "4fad3f32-b692-4477-d3a2-9377ea12f0be"
      },
      "outputs": [
        {
          "output_type": "execute_result",
          "data": {
            "text/plain": [
              "0.6728260352392232"
            ]
          },
          "metadata": {},
          "execution_count": 156
        }
      ],
      "source": [
        "from sklearn.metrics import roc_auc_score\n",
        "\n",
        "roc_auc_score(y_test, y_preds2)"
      ]
    },
    {
      "cell_type": "code",
      "source": [
        "fhslslls"
      ],
      "metadata": {
        "id": "HJpbq3r-UHQC"
      },
      "execution_count": null,
      "outputs": []
    },
    {
      "cell_type": "markdown",
      "source": [
        "under sample\n"
      ],
      "metadata": {
        "id": "KkjaQ5b62kYk"
      }
    },
    {
      "cell_type": "code",
      "execution_count": null,
      "metadata": {
        "id": "xtaeSk_nOP6N"
      },
      "outputs": [],
      "source": [
        "X = df.drop('cancelled',axis='columns')\n",
        "y = df['cancelled']\n",
        "\n",
        "from sklearn.model_selection import train_test_split\n",
        "X_train, X_test, y_train, y_test = train_test_split(X, y, test_size=0.2, random_state=42)"
      ]
    },
    {
      "cell_type": "code",
      "source": [
        "y.value_counts()"
      ],
      "metadata": {
        "id": "FAPfbsZ0pBAb"
      },
      "execution_count": null,
      "outputs": []
    },
    {
      "cell_type": "code",
      "source": [
        "no_frauds = len(df[df['cancelled'] == 1])"
      ],
      "metadata": {
        "id": "6HdHMbjDpp0w"
      },
      "execution_count": null,
      "outputs": []
    },
    {
      "cell_type": "code",
      "source": [
        "non_fraud_indices = df[df.cancelled == 0].index"
      ],
      "metadata": {
        "id": "pb5S-Vj8q0f0"
      },
      "execution_count": null,
      "outputs": []
    },
    {
      "cell_type": "code",
      "source": [
        "random_indices = np.random.choice(non_fraud_indices,no_frauds, replace=False)"
      ],
      "metadata": {
        "id": "2KqOPrnjq8ps"
      },
      "execution_count": null,
      "outputs": []
    },
    {
      "cell_type": "code",
      "source": [
        "fraud_indices = df[df.cancelled == 1].index"
      ],
      "metadata": {
        "id": "gaLHMSCurBxI"
      },
      "execution_count": null,
      "outputs": []
    },
    {
      "cell_type": "code",
      "source": [
        "under_sample_indices = np.concatenate([fraud_indices,random_indices])\n",
        "\n",
        "under_sample = df.loc[under_sample_indices]"
      ],
      "metadata": {
        "id": "QFacKD31rG--"
      },
      "execution_count": null,
      "outputs": []
    },
    {
      "cell_type": "code",
      "source": [
        "len(under_sample)"
      ],
      "metadata": {
        "id": "Dva8PY-7rRBL"
      },
      "execution_count": null,
      "outputs": []
    },
    {
      "cell_type": "code",
      "source": [
        "X_under = under_sample.loc[:,under_sample.columns != 'cancelled']\n",
        "y_under = under_sample.loc[:,under_sample.columns == 'cancelled']\n",
        "X_under_train, X_under_test, y_under_train, y_under_test = train_test_split(X_under,y_under,test_size = 0.3, random_state = 0)"
      ],
      "metadata": {
        "id": "bvk2nSfirZc3"
      },
      "execution_count": null,
      "outputs": []
    },
    {
      "cell_type": "code",
      "source": [
        "len(X_under_train)"
      ],
      "metadata": {
        "id": "l3L5keAEszsA"
      },
      "execution_count": null,
      "outputs": []
    },
    {
      "cell_type": "code",
      "execution_count": null,
      "metadata": {
        "id": "u1Y6QJarOUE2"
      },
      "outputs": [],
      "source": [
        "from sklearn.tree import DecisionTreeClassifier\n",
        "dt = DecisionTreeClassifier()\n",
        "\n",
        "dt.fit(X_under_train,y_under_train)"
      ]
    },
    {
      "cell_type": "code",
      "execution_count": null,
      "metadata": {
        "id": "ZBXQD5WROnWU"
      },
      "outputs": [],
      "source": [
        "y_preds2 = dt.predict(X_under_test)"
      ]
    },
    {
      "cell_type": "code",
      "execution_count": null,
      "metadata": {
        "id": "Je8C4xwtOtj2"
      },
      "outputs": [],
      "source": [
        "print(y_preds2)"
      ]
    },
    {
      "cell_type": "code",
      "execution_count": null,
      "metadata": {
        "id": "Q_wK6hdSKAO_"
      },
      "outputs": [],
      "source": [
        "from sklearn.metrics import roc_auc_score\n",
        "\n",
        "roc_auc_score(y_under_test, y_preds2)"
      ]
    },
    {
      "cell_type": "code",
      "source": [
        "model = keras.Sequential([\n",
        "        keras.layers.Dense(17, input_dim=17, activation='relu'),\n",
        "        keras.layers.Dense(12, activation='relu'),\n",
        "        keras.layers.Dense(1, activation='sigmoid')\n",
        "    ])\n",
        "\n",
        "model.compile(optimizer='adam', loss='binary_crossentropy', metrics=['accuracy'])"
      ],
      "metadata": {
        "id": "_bDBs-E9sAcP"
      },
      "execution_count": null,
      "outputs": []
    },
    {
      "cell_type": "code",
      "source": [
        "model.fit(X_under_train, y_under_train, epochs=100)"
      ],
      "metadata": {
        "id": "OP6RKHCIsS_N"
      },
      "execution_count": null,
      "outputs": []
    },
    {
      "cell_type": "code",
      "source": [
        " y_preds = model.predict(X_under_test)\n",
        "y_preds = np.round(y_preds)"
      ],
      "metadata": {
        "id": "FjYsN4OmstUr"
      },
      "execution_count": null,
      "outputs": []
    },
    {
      "cell_type": "code",
      "source": [
        "from sklearn.metrics import roc_auc_score\n",
        "\n",
        "roc_auc_score(y_under_test, y_preds)"
      ],
      "metadata": {
        "id": "HvRBUVo8tC1C"
      },
      "execution_count": null,
      "outputs": []
    },
    {
      "cell_type": "code",
      "source": [
        "import xgboost as xgb\n",
        "\n",
        "xgb_cl = xgb.XGBClassifier()"
      ],
      "metadata": {
        "id": "nQbIoB1b3qo5"
      },
      "execution_count": null,
      "outputs": []
    },
    {
      "cell_type": "code",
      "source": [
        ""
      ],
      "metadata": {
        "id": "k49bJy_93s8h"
      },
      "execution_count": null,
      "outputs": []
    },
    {
      "cell_type": "code",
      "execution_count": null,
      "metadata": {
        "id": "7P5XDoXp-q3Q"
      },
      "outputs": [],
      "source": [
        "X = df.drop('cancelled',axis='columns')\n",
        "y = df['cancelled']\n",
        "X= np.array(X)\n",
        "y = np.array(y)\n",
        "from sklearn.model_selection import train_test_split\n",
        "X_train, X_test, y_train, y_test = train_test_split(X, y, test_size=0.2, random_state=42)"
      ]
    },
    {
      "cell_type": "code",
      "execution_count": null,
      "metadata": {
        "id": "Rnbpgbqm2-X2"
      },
      "outputs": [],
      "source": [
        "df_test.head()"
      ]
    },
    {
      "cell_type": "code",
      "execution_count": null,
      "metadata": {
        "id": "AeWvkwX1iS3j"
      },
      "outputs": [],
      "source": [
        "df_test.head()"
      ]
    },
    {
      "cell_type": "code",
      "execution_count": null,
      "metadata": {
        "id": "QdLP62SKLXLB"
      },
      "outputs": [],
      "source": [
        "df.isnull().sum()"
      ]
    },
    {
      "cell_type": "code",
      "execution_count": 133,
      "metadata": {
        "id": "4bvu_5Qt204m",
        "colab": {
          "base_uri": "https://localhost:8080/"
        },
        "outputId": "16025216-9a72-4e2f-a900-b267b590d7ba"
      },
      "outputs": [
        {
          "output_type": "execute_result",
          "data": {
            "text/plain": [
              "first_mile_distance        0\n",
              "last_mile_distance         0\n",
              "alloted_orders             0\n",
              "delivered_orders           0\n",
              "undelivered_orders      4884\n",
              "lifetime_order_count       0\n",
              "reassignment_method        0\n",
              "reassignment_reason        0\n",
              "reassigned_order           0\n",
              "session_time               0\n",
              "accept_sec                 0\n",
              "order_sec                  0\n",
              "total_distance             0\n",
              "reassigned_order           0\n",
              "month                      0\n",
              "day                        0\n",
              "delivery_success           0\n",
              "dtype: int64"
            ]
          },
          "metadata": {},
          "execution_count": 133
        }
      ],
      "source": [
        "df_test.isnull().sum()"
      ]
    },
    {
      "cell_type": "code",
      "execution_count": 134,
      "metadata": {
        "id": "6-2n6viPapYL"
      },
      "outputs": [],
      "source": [
        "df_test['undelivered_orders'] = df_test['undelivered_orders'].replace(np.nan, 0)"
      ]
    },
    {
      "cell_type": "code",
      "source": [
        "df_test = df_test.loc[:,~df_test.columns.duplicated()]"
      ],
      "metadata": {
        "id": "mOp2z0tm5zwZ"
      },
      "execution_count": 135,
      "outputs": []
    },
    {
      "cell_type": "code",
      "execution_count": 136,
      "metadata": {
        "id": "uewiF8j0ObfE",
        "colab": {
          "base_uri": "https://localhost:8080/"
        },
        "outputId": "c635c99e-cffd-4acf-d347-079a072158be"
      },
      "outputs": [
        {
          "output_type": "execute_result",
          "data": {
            "text/plain": [
              "18"
            ]
          },
          "metadata": {},
          "execution_count": 136
        }
      ],
      "source": [
        "len(column_names_pred)"
      ]
    },
    {
      "cell_type": "code",
      "execution_count": 137,
      "metadata": {
        "id": "-W1D1pNnOfBG",
        "colab": {
          "base_uri": "https://localhost:8080/"
        },
        "outputId": "ef7a9ec7-81a5-4524-8eee-4b7c9e8213f4"
      },
      "outputs": [
        {
          "output_type": "execute_result",
          "data": {
            "text/plain": [
              "17"
            ]
          },
          "metadata": {},
          "execution_count": 137
        }
      ],
      "source": [
        "len(column_names_predtest)"
      ]
    },
    {
      "cell_type": "code",
      "execution_count": 138,
      "metadata": {
        "id": "Ox7T7e5TXk-7"
      },
      "outputs": [],
      "source": [
        "X_sub = df_test.iloc[:, :].values"
      ]
    },
    {
      "cell_type": "code",
      "source": [
        "df_test_over.head()"
      ],
      "metadata": {
        "colab": {
          "base_uri": "https://localhost:8080/",
          "height": 270
        },
        "id": "83-HeUO5jbxr",
        "outputId": "bcac160e-9676-49c0-b896-8d6eba91d2b3"
      },
      "execution_count": 141,
      "outputs": [
        {
          "output_type": "execute_result",
          "data": {
            "text/html": [
              "\n",
              "  <div id=\"df-53c5a1f2-7061-492c-8a1f-877f39e39769\">\n",
              "    <div class=\"colab-df-container\">\n",
              "      <div>\n",
              "<style scoped>\n",
              "    .dataframe tbody tr th:only-of-type {\n",
              "        vertical-align: middle;\n",
              "    }\n",
              "\n",
              "    .dataframe tbody tr th {\n",
              "        vertical-align: top;\n",
              "    }\n",
              "\n",
              "    .dataframe thead th {\n",
              "        text-align: right;\n",
              "    }\n",
              "</style>\n",
              "<table border=\"1\" class=\"dataframe\">\n",
              "  <thead>\n",
              "    <tr style=\"text-align: right;\">\n",
              "      <th></th>\n",
              "      <th>first_mile_distance</th>\n",
              "      <th>last_mile_distance</th>\n",
              "      <th>alloted_orders</th>\n",
              "      <th>delivered_orders</th>\n",
              "      <th>undelivered_orders</th>\n",
              "      <th>lifetime_order_count</th>\n",
              "      <th>reassignment_method</th>\n",
              "      <th>reassignment_reason</th>\n",
              "      <th>reassigned_order</th>\n",
              "      <th>session_time</th>\n",
              "      <th>accept_sec</th>\n",
              "      <th>order_sec</th>\n",
              "      <th>total_distance</th>\n",
              "      <th>month</th>\n",
              "      <th>day</th>\n",
              "      <th>delivery_success</th>\n",
              "      <th>cancelled</th>\n",
              "    </tr>\n",
              "  </thead>\n",
              "  <tbody>\n",
              "    <tr>\n",
              "      <th>0</th>\n",
              "      <td>1.5666</td>\n",
              "      <td>2.65</td>\n",
              "      <td>46.0</td>\n",
              "      <td>46.0</td>\n",
              "      <td>0.0</td>\n",
              "      <td>621.0</td>\n",
              "      <td>0</td>\n",
              "      <td>0</td>\n",
              "      <td>0.0</td>\n",
              "      <td>0.000000</td>\n",
              "      <td>9.0</td>\n",
              "      <td>33.0</td>\n",
              "      <td>4.2166</td>\n",
              "      <td>1</td>\n",
              "      <td>26</td>\n",
              "      <td>1.0</td>\n",
              "      <td>0</td>\n",
              "    </tr>\n",
              "    <tr>\n",
              "      <th>1</th>\n",
              "      <td>2.5207</td>\n",
              "      <td>2.76</td>\n",
              "      <td>8.0</td>\n",
              "      <td>8.0</td>\n",
              "      <td>0.0</td>\n",
              "      <td>105.0</td>\n",
              "      <td>0</td>\n",
              "      <td>0</td>\n",
              "      <td>0.0</td>\n",
              "      <td>3.266667</td>\n",
              "      <td>48.0</td>\n",
              "      <td>89.0</td>\n",
              "      <td>5.2807</td>\n",
              "      <td>1</td>\n",
              "      <td>26</td>\n",
              "      <td>1.0</td>\n",
              "      <td>0</td>\n",
              "    </tr>\n",
              "    <tr>\n",
              "      <th>2</th>\n",
              "      <td>2.2074</td>\n",
              "      <td>4.80</td>\n",
              "      <td>1.0</td>\n",
              "      <td>1.0</td>\n",
              "      <td>0.0</td>\n",
              "      <td>66.0</td>\n",
              "      <td>0</td>\n",
              "      <td>0</td>\n",
              "      <td>0.0</td>\n",
              "      <td>9.816667</td>\n",
              "      <td>16.0</td>\n",
              "      <td>24.0</td>\n",
              "      <td>7.0074</td>\n",
              "      <td>1</td>\n",
              "      <td>26</td>\n",
              "      <td>1.0</td>\n",
              "      <td>0</td>\n",
              "    </tr>\n",
              "    <tr>\n",
              "      <th>3</th>\n",
              "      <td>2.1894</td>\n",
              "      <td>6.38</td>\n",
              "      <td>1.0</td>\n",
              "      <td>1.0</td>\n",
              "      <td>0.0</td>\n",
              "      <td>127.0</td>\n",
              "      <td>0</td>\n",
              "      <td>0</td>\n",
              "      <td>0.0</td>\n",
              "      <td>17.533333</td>\n",
              "      <td>41.0</td>\n",
              "      <td>73.0</td>\n",
              "      <td>8.5694</td>\n",
              "      <td>1</td>\n",
              "      <td>26</td>\n",
              "      <td>1.0</td>\n",
              "      <td>0</td>\n",
              "    </tr>\n",
              "    <tr>\n",
              "      <th>4</th>\n",
              "      <td>2.7870</td>\n",
              "      <td>4.01</td>\n",
              "      <td>34.0</td>\n",
              "      <td>34.0</td>\n",
              "      <td>0.0</td>\n",
              "      <td>84.0</td>\n",
              "      <td>0</td>\n",
              "      <td>0</td>\n",
              "      <td>0.0</td>\n",
              "      <td>1.350000</td>\n",
              "      <td>36.0</td>\n",
              "      <td>87.0</td>\n",
              "      <td>6.7970</td>\n",
              "      <td>1</td>\n",
              "      <td>26</td>\n",
              "      <td>1.0</td>\n",
              "      <td>0</td>\n",
              "    </tr>\n",
              "  </tbody>\n",
              "</table>\n",
              "</div>\n",
              "      <button class=\"colab-df-convert\" onclick=\"convertToInteractive('df-53c5a1f2-7061-492c-8a1f-877f39e39769')\"\n",
              "              title=\"Convert this dataframe to an interactive table.\"\n",
              "              style=\"display:none;\">\n",
              "        \n",
              "  <svg xmlns=\"http://www.w3.org/2000/svg\" height=\"24px\"viewBox=\"0 0 24 24\"\n",
              "       width=\"24px\">\n",
              "    <path d=\"M0 0h24v24H0V0z\" fill=\"none\"/>\n",
              "    <path d=\"M18.56 5.44l.94 2.06.94-2.06 2.06-.94-2.06-.94-.94-2.06-.94 2.06-2.06.94zm-11 1L8.5 8.5l.94-2.06 2.06-.94-2.06-.94L8.5 2.5l-.94 2.06-2.06.94zm10 10l.94 2.06.94-2.06 2.06-.94-2.06-.94-.94-2.06-.94 2.06-2.06.94z\"/><path d=\"M17.41 7.96l-1.37-1.37c-.4-.4-.92-.59-1.43-.59-.52 0-1.04.2-1.43.59L10.3 9.45l-7.72 7.72c-.78.78-.78 2.05 0 2.83L4 21.41c.39.39.9.59 1.41.59.51 0 1.02-.2 1.41-.59l7.78-7.78 2.81-2.81c.8-.78.8-2.07 0-2.86zM5.41 20L4 18.59l7.72-7.72 1.47 1.35L5.41 20z\"/>\n",
              "  </svg>\n",
              "      </button>\n",
              "      \n",
              "  <style>\n",
              "    .colab-df-container {\n",
              "      display:flex;\n",
              "      flex-wrap:wrap;\n",
              "      gap: 12px;\n",
              "    }\n",
              "\n",
              "    .colab-df-convert {\n",
              "      background-color: #E8F0FE;\n",
              "      border: none;\n",
              "      border-radius: 50%;\n",
              "      cursor: pointer;\n",
              "      display: none;\n",
              "      fill: #1967D2;\n",
              "      height: 32px;\n",
              "      padding: 0 0 0 0;\n",
              "      width: 32px;\n",
              "    }\n",
              "\n",
              "    .colab-df-convert:hover {\n",
              "      background-color: #E2EBFA;\n",
              "      box-shadow: 0px 1px 2px rgba(60, 64, 67, 0.3), 0px 1px 3px 1px rgba(60, 64, 67, 0.15);\n",
              "      fill: #174EA6;\n",
              "    }\n",
              "\n",
              "    [theme=dark] .colab-df-convert {\n",
              "      background-color: #3B4455;\n",
              "      fill: #D2E3FC;\n",
              "    }\n",
              "\n",
              "    [theme=dark] .colab-df-convert:hover {\n",
              "      background-color: #434B5C;\n",
              "      box-shadow: 0px 1px 3px 1px rgba(0, 0, 0, 0.15);\n",
              "      filter: drop-shadow(0px 1px 2px rgba(0, 0, 0, 0.3));\n",
              "      fill: #FFFFFF;\n",
              "    }\n",
              "  </style>\n",
              "\n",
              "      <script>\n",
              "        const buttonEl =\n",
              "          document.querySelector('#df-53c5a1f2-7061-492c-8a1f-877f39e39769 button.colab-df-convert');\n",
              "        buttonEl.style.display =\n",
              "          google.colab.kernel.accessAllowed ? 'block' : 'none';\n",
              "\n",
              "        async function convertToInteractive(key) {\n",
              "          const element = document.querySelector('#df-53c5a1f2-7061-492c-8a1f-877f39e39769');\n",
              "          const dataTable =\n",
              "            await google.colab.kernel.invokeFunction('convertToInteractive',\n",
              "                                                     [key], {});\n",
              "          if (!dataTable) return;\n",
              "\n",
              "          const docLinkHtml = 'Like what you see? Visit the ' +\n",
              "            '<a target=\"_blank\" href=https://colab.research.google.com/notebooks/data_table.ipynb>data table notebook</a>'\n",
              "            + ' to learn more about interactive tables.';\n",
              "          element.innerHTML = '';\n",
              "          dataTable['output_type'] = 'display_data';\n",
              "          await google.colab.output.renderOutput(dataTable, element);\n",
              "          const docLink = document.createElement('div');\n",
              "          docLink.innerHTML = docLinkHtml;\n",
              "          element.appendChild(docLink);\n",
              "        }\n",
              "      </script>\n",
              "    </div>\n",
              "  </div>\n",
              "  "
            ],
            "text/plain": [
              "   first_mile_distance  last_mile_distance  ...  delivery_success  cancelled\n",
              "0               1.5666                2.65  ...               1.0          0\n",
              "1               2.5207                2.76  ...               1.0          0\n",
              "2               2.2074                4.80  ...               1.0          0\n",
              "3               2.1894                6.38  ...               1.0          0\n",
              "4               2.7870                4.01  ...               1.0          0\n",
              "\n",
              "[5 rows x 17 columns]"
            ]
          },
          "metadata": {},
          "execution_count": 141
        }
      ]
    },
    {
      "cell_type": "code",
      "source": [
        "df_test.head()"
      ],
      "metadata": {
        "colab": {
          "base_uri": "https://localhost:8080/",
          "height": 270
        },
        "id": "CAEHunogjeMS",
        "outputId": "03c37137-4929-4a58-96c1-e72a5cf5eac0"
      },
      "execution_count": 142,
      "outputs": [
        {
          "output_type": "execute_result",
          "data": {
            "text/html": [
              "\n",
              "  <div id=\"df-27ae099c-050f-4a5d-9307-1fc8d88467c0\">\n",
              "    <div class=\"colab-df-container\">\n",
              "      <div>\n",
              "<style scoped>\n",
              "    .dataframe tbody tr th:only-of-type {\n",
              "        vertical-align: middle;\n",
              "    }\n",
              "\n",
              "    .dataframe tbody tr th {\n",
              "        vertical-align: top;\n",
              "    }\n",
              "\n",
              "    .dataframe thead th {\n",
              "        text-align: right;\n",
              "    }\n",
              "</style>\n",
              "<table border=\"1\" class=\"dataframe\">\n",
              "  <thead>\n",
              "    <tr style=\"text-align: right;\">\n",
              "      <th></th>\n",
              "      <th>first_mile_distance</th>\n",
              "      <th>last_mile_distance</th>\n",
              "      <th>alloted_orders</th>\n",
              "      <th>delivered_orders</th>\n",
              "      <th>undelivered_orders</th>\n",
              "      <th>lifetime_order_count</th>\n",
              "      <th>reassignment_method</th>\n",
              "      <th>reassignment_reason</th>\n",
              "      <th>reassigned_order</th>\n",
              "      <th>session_time</th>\n",
              "      <th>accept_sec</th>\n",
              "      <th>order_sec</th>\n",
              "      <th>total_distance</th>\n",
              "      <th>month</th>\n",
              "      <th>day</th>\n",
              "      <th>delivery_success</th>\n",
              "    </tr>\n",
              "  </thead>\n",
              "  <tbody>\n",
              "    <tr>\n",
              "      <th>0</th>\n",
              "      <td>1.6585</td>\n",
              "      <td>4.54</td>\n",
              "      <td>216.0</td>\n",
              "      <td>215.0</td>\n",
              "      <td>1.0</td>\n",
              "      <td>747.0</td>\n",
              "      <td>0</td>\n",
              "      <td>0</td>\n",
              "      <td>0.0</td>\n",
              "      <td>273.400000</td>\n",
              "      <td>26.0</td>\n",
              "      <td>51.0</td>\n",
              "      <td>6.1985</td>\n",
              "      <td>2</td>\n",
              "      <td>6</td>\n",
              "      <td>0.995370</td>\n",
              "    </tr>\n",
              "    <tr>\n",
              "      <th>1</th>\n",
              "      <td>2.0709</td>\n",
              "      <td>5.84</td>\n",
              "      <td>52.0</td>\n",
              "      <td>52.0</td>\n",
              "      <td>0.0</td>\n",
              "      <td>75.0</td>\n",
              "      <td>0</td>\n",
              "      <td>0</td>\n",
              "      <td>0.0</td>\n",
              "      <td>252.100000</td>\n",
              "      <td>9.0</td>\n",
              "      <td>10.0</td>\n",
              "      <td>7.9109</td>\n",
              "      <td>2</td>\n",
              "      <td>6</td>\n",
              "      <td>1.000000</td>\n",
              "    </tr>\n",
              "    <tr>\n",
              "      <th>2</th>\n",
              "      <td>1.3884</td>\n",
              "      <td>0.99</td>\n",
              "      <td>289.0</td>\n",
              "      <td>289.0</td>\n",
              "      <td>0.0</td>\n",
              "      <td>2214.0</td>\n",
              "      <td>0</td>\n",
              "      <td>0</td>\n",
              "      <td>0.0</td>\n",
              "      <td>241.383333</td>\n",
              "      <td>80.0</td>\n",
              "      <td>127.0</td>\n",
              "      <td>2.3784</td>\n",
              "      <td>2</td>\n",
              "      <td>6</td>\n",
              "      <td>1.000000</td>\n",
              "    </tr>\n",
              "    <tr>\n",
              "      <th>3</th>\n",
              "      <td>1.9039</td>\n",
              "      <td>2.59</td>\n",
              "      <td>125.0</td>\n",
              "      <td>122.0</td>\n",
              "      <td>3.0</td>\n",
              "      <td>1020.0</td>\n",
              "      <td>0</td>\n",
              "      <td>0</td>\n",
              "      <td>0.0</td>\n",
              "      <td>291.933333</td>\n",
              "      <td>23.0</td>\n",
              "      <td>24.0</td>\n",
              "      <td>4.4939</td>\n",
              "      <td>2</td>\n",
              "      <td>6</td>\n",
              "      <td>0.976000</td>\n",
              "    </tr>\n",
              "    <tr>\n",
              "      <th>4</th>\n",
              "      <td>0.8275</td>\n",
              "      <td>0.94</td>\n",
              "      <td>352.0</td>\n",
              "      <td>350.0</td>\n",
              "      <td>2.0</td>\n",
              "      <td>7284.0</td>\n",
              "      <td>0</td>\n",
              "      <td>0</td>\n",
              "      <td>0.0</td>\n",
              "      <td>247.133333</td>\n",
              "      <td>60.0</td>\n",
              "      <td>68.0</td>\n",
              "      <td>1.7675</td>\n",
              "      <td>2</td>\n",
              "      <td>6</td>\n",
              "      <td>0.994318</td>\n",
              "    </tr>\n",
              "  </tbody>\n",
              "</table>\n",
              "</div>\n",
              "      <button class=\"colab-df-convert\" onclick=\"convertToInteractive('df-27ae099c-050f-4a5d-9307-1fc8d88467c0')\"\n",
              "              title=\"Convert this dataframe to an interactive table.\"\n",
              "              style=\"display:none;\">\n",
              "        \n",
              "  <svg xmlns=\"http://www.w3.org/2000/svg\" height=\"24px\"viewBox=\"0 0 24 24\"\n",
              "       width=\"24px\">\n",
              "    <path d=\"M0 0h24v24H0V0z\" fill=\"none\"/>\n",
              "    <path d=\"M18.56 5.44l.94 2.06.94-2.06 2.06-.94-2.06-.94-.94-2.06-.94 2.06-2.06.94zm-11 1L8.5 8.5l.94-2.06 2.06-.94-2.06-.94L8.5 2.5l-.94 2.06-2.06.94zm10 10l.94 2.06.94-2.06 2.06-.94-2.06-.94-.94-2.06-.94 2.06-2.06.94z\"/><path d=\"M17.41 7.96l-1.37-1.37c-.4-.4-.92-.59-1.43-.59-.52 0-1.04.2-1.43.59L10.3 9.45l-7.72 7.72c-.78.78-.78 2.05 0 2.83L4 21.41c.39.39.9.59 1.41.59.51 0 1.02-.2 1.41-.59l7.78-7.78 2.81-2.81c.8-.78.8-2.07 0-2.86zM5.41 20L4 18.59l7.72-7.72 1.47 1.35L5.41 20z\"/>\n",
              "  </svg>\n",
              "      </button>\n",
              "      \n",
              "  <style>\n",
              "    .colab-df-container {\n",
              "      display:flex;\n",
              "      flex-wrap:wrap;\n",
              "      gap: 12px;\n",
              "    }\n",
              "\n",
              "    .colab-df-convert {\n",
              "      background-color: #E8F0FE;\n",
              "      border: none;\n",
              "      border-radius: 50%;\n",
              "      cursor: pointer;\n",
              "      display: none;\n",
              "      fill: #1967D2;\n",
              "      height: 32px;\n",
              "      padding: 0 0 0 0;\n",
              "      width: 32px;\n",
              "    }\n",
              "\n",
              "    .colab-df-convert:hover {\n",
              "      background-color: #E2EBFA;\n",
              "      box-shadow: 0px 1px 2px rgba(60, 64, 67, 0.3), 0px 1px 3px 1px rgba(60, 64, 67, 0.15);\n",
              "      fill: #174EA6;\n",
              "    }\n",
              "\n",
              "    [theme=dark] .colab-df-convert {\n",
              "      background-color: #3B4455;\n",
              "      fill: #D2E3FC;\n",
              "    }\n",
              "\n",
              "    [theme=dark] .colab-df-convert:hover {\n",
              "      background-color: #434B5C;\n",
              "      box-shadow: 0px 1px 3px 1px rgba(0, 0, 0, 0.15);\n",
              "      filter: drop-shadow(0px 1px 2px rgba(0, 0, 0, 0.3));\n",
              "      fill: #FFFFFF;\n",
              "    }\n",
              "  </style>\n",
              "\n",
              "      <script>\n",
              "        const buttonEl =\n",
              "          document.querySelector('#df-27ae099c-050f-4a5d-9307-1fc8d88467c0 button.colab-df-convert');\n",
              "        buttonEl.style.display =\n",
              "          google.colab.kernel.accessAllowed ? 'block' : 'none';\n",
              "\n",
              "        async function convertToInteractive(key) {\n",
              "          const element = document.querySelector('#df-27ae099c-050f-4a5d-9307-1fc8d88467c0');\n",
              "          const dataTable =\n",
              "            await google.colab.kernel.invokeFunction('convertToInteractive',\n",
              "                                                     [key], {});\n",
              "          if (!dataTable) return;\n",
              "\n",
              "          const docLinkHtml = 'Like what you see? Visit the ' +\n",
              "            '<a target=\"_blank\" href=https://colab.research.google.com/notebooks/data_table.ipynb>data table notebook</a>'\n",
              "            + ' to learn more about interactive tables.';\n",
              "          element.innerHTML = '';\n",
              "          dataTable['output_type'] = 'display_data';\n",
              "          await google.colab.output.renderOutput(dataTable, element);\n",
              "          const docLink = document.createElement('div');\n",
              "          docLink.innerHTML = docLinkHtml;\n",
              "          element.appendChild(docLink);\n",
              "        }\n",
              "      </script>\n",
              "    </div>\n",
              "  </div>\n",
              "  "
            ],
            "text/plain": [
              "   first_mile_distance  last_mile_distance  ...  day  delivery_success\n",
              "0               1.6585                4.54  ...    6          0.995370\n",
              "1               2.0709                5.84  ...    6          1.000000\n",
              "2               1.3884                0.99  ...    6          1.000000\n",
              "3               1.9039                2.59  ...    6          0.976000\n",
              "4               0.8275                0.94  ...    6          0.994318\n",
              "\n",
              "[5 rows x 16 columns]"
            ]
          },
          "metadata": {},
          "execution_count": 142
        }
      ]
    },
    {
      "cell_type": "code",
      "execution_count": 139,
      "metadata": {
        "id": "iKRzWHTG3rqL",
        "colab": {
          "base_uri": "https://localhost:8080/"
        },
        "outputId": "f7322e80-5c62-4e86-91e4-60cdd68e7e52"
      },
      "outputs": [
        {
          "output_type": "stream",
          "name": "stdout",
          "text": [
            "Data type of first_mile_distance column of Dataframe :\n",
            "float64\n",
            "Data type of last_mile_distance column of Dataframe :\n",
            "float64\n",
            "Data type of alloted_orders column of Dataframe :\n",
            "float64\n",
            "Data type of delivered_orders column of Dataframe :\n",
            "float64\n",
            "Data type of undelivered_orders column of Dataframe :\n",
            "float64\n",
            "Data type of lifetime_order_count column of Dataframe :\n",
            "float64\n",
            "Data type of reassignment_method column of Dataframe :\n",
            "int64\n",
            "Data type of reassignment_reason column of Dataframe :\n",
            "int64\n",
            "Data type of reassigned_order column of Dataframe :\n",
            "float64\n",
            "Data type of session_time column of Dataframe :\n",
            "float64\n",
            "Data type of accept_sec column of Dataframe :\n",
            "float64\n",
            "Data type of order_sec column of Dataframe :\n",
            "float64\n",
            "Data type of total_distance column of Dataframe :\n",
            "float64\n",
            "Data type of month column of Dataframe :\n",
            "int64\n",
            "Data type of day column of Dataframe :\n",
            "int64\n",
            "Data type of delivery_success column of Dataframe :\n",
            "float64\n"
          ]
        }
      ],
      "source": [
        "for col in df_test.columns:  \n",
        "    dataTypeSeries = df_test[col].dtypes\n",
        "    print('Data type of '+ col+ ' column of Dataframe :')\n",
        "    print(dataTypeSeries)"
      ]
    },
    {
      "cell_type": "code",
      "execution_count": 157,
      "metadata": {
        "id": "v4Svmsey-1I6"
      },
      "outputs": [],
      "source": [
        "y_final = model.predict(X_sub)\n"
      ]
    },
    {
      "cell_type": "code",
      "execution_count": 158,
      "metadata": {
        "id": "Svwlu1C8Hah_"
      },
      "outputs": [],
      "source": [
        "y_final = np.round(y_final)\n"
      ]
    },
    {
      "cell_type": "code",
      "execution_count": null,
      "metadata": {
        "id": "I9afqAh9IMTO"
      },
      "outputs": [],
      "source": [
        ""
      ]
    },
    {
      "cell_type": "code",
      "execution_count": 159,
      "metadata": {
        "id": "LPdjD14HCaMo",
        "colab": {
          "base_uri": "https://localhost:8080/"
        },
        "outputId": "c027fb4a-2a46-403b-80d9-8a8dbda7f8cc"
      },
      "outputs": [
        {
          "output_type": "stream",
          "name": "stdout",
          "text": [
            "[[0.]\n",
            " [1.]\n",
            " [0.]\n",
            " ...\n",
            " [0.]\n",
            " [0.]\n",
            " [0.]]\n"
          ]
        }
      ],
      "source": [
        "print(y_final)"
      ]
    },
    {
      "cell_type": "code",
      "execution_count": 160,
      "metadata": {
        "id": "SRAcgWF1_WCr"
      },
      "outputs": [],
      "source": [
        "df_submit = pd.DataFrame(y_final, columns = ['cancelled'])\n",
        "df_submit.to_csv('final.csv', index=False)"
      ]
    },
    {
      "cell_type": "code",
      "execution_count": null,
      "metadata": {
        "id": "XQwinX6pEbam"
      },
      "outputs": [],
      "source": [
        ""
      ]
    }
  ],
  "metadata": {
    "colab": {
      "collapsed_sections": [],
      "name": "Copy of Ank_Cascade.ipynb",
      "provenance": [],
      "include_colab_link": true
    },
    "kernelspec": {
      "display_name": "Python 3",
      "name": "python3"
    },
    "language_info": {
      "name": "python"
    }
  },
  "nbformat": 4,
  "nbformat_minor": 0
}