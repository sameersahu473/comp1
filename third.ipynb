{
  "nbformat": 4,
  "nbformat_minor": 0,
  "metadata": {
    "colab": {
      "name": "Ank_Cascade.ipynb",
      "provenance": [],
      "include_colab_link": true
    },
    "kernelspec": {
      "name": "python3",
      "display_name": "Python 3"
    },
    "language_info": {
      "name": "python"
    }
  },
  "cells": [
    {
      "cell_type": "markdown",
      "metadata": {
        "id": "view-in-github",
        "colab_type": "text"
      },
      "source": [
        "<a href=\"https://colab.research.google.com/github/sameersahu473/comp1/blob/main/third.ipynb\" target=\"_parent\"><img src=\"https://colab.research.google.com/assets/colab-badge.svg\" alt=\"Open In Colab\"/></a>"
      ]
    },
    {
      "cell_type": "code",
      "execution_count": 67,
      "metadata": {
        "colab": {
          "base_uri": "https://localhost:8080/"
        },
        "id": "xO75uvHtju8S",
        "outputId": "985d89af-4143-400e-9568-49589e6aa88a"
      },
      "outputs": [
        {
          "output_type": "stream",
          "name": "stdout",
          "text": [
            "Requirement already satisfied: kaggle in /usr/local/lib/python3.7/dist-packages (1.5.12)\n",
            "Requirement already satisfied: urllib3 in /usr/local/lib/python3.7/dist-packages (from kaggle) (1.24.3)\n",
            "Requirement already satisfied: six>=1.10 in /usr/local/lib/python3.7/dist-packages (from kaggle) (1.15.0)\n",
            "Requirement already satisfied: python-slugify in /usr/local/lib/python3.7/dist-packages (from kaggle) (5.0.2)\n",
            "Requirement already satisfied: certifi in /usr/local/lib/python3.7/dist-packages (from kaggle) (2021.10.8)\n",
            "Requirement already satisfied: tqdm in /usr/local/lib/python3.7/dist-packages (from kaggle) (4.62.3)\n",
            "Requirement already satisfied: python-dateutil in /usr/local/lib/python3.7/dist-packages (from kaggle) (2.8.2)\n",
            "Requirement already satisfied: requests in /usr/local/lib/python3.7/dist-packages (from kaggle) (2.23.0)\n",
            "Requirement already satisfied: text-unidecode>=1.3 in /usr/local/lib/python3.7/dist-packages (from python-slugify->kaggle) (1.3)\n",
            "Requirement already satisfied: chardet<4,>=3.0.2 in /usr/local/lib/python3.7/dist-packages (from requests->kaggle) (3.0.4)\n",
            "Requirement already satisfied: idna<3,>=2.5 in /usr/local/lib/python3.7/dist-packages (from requests->kaggle) (2.10)\n"
          ]
        }
      ],
      "source": [
        "! pip install kaggle"
      ]
    },
    {
      "cell_type": "code",
      "source": [
        "! mkdir ~/.kaggle"
      ],
      "metadata": {
        "id": "ovMXyDgdj87i",
        "outputId": "a490f81b-79e9-4845-c2c5-e92c9a2eb0d2",
        "colab": {
          "base_uri": "https://localhost:8080/"
        }
      },
      "execution_count": 68,
      "outputs": [
        {
          "output_type": "stream",
          "name": "stdout",
          "text": [
            "mkdir: cannot create directory ‘/root/.kaggle’: File exists\n"
          ]
        }
      ]
    },
    {
      "cell_type": "code",
      "source": [
        "! cp kaggle.json ~/.kaggle/"
      ],
      "metadata": {
        "id": "_XftKznHkDXn"
      },
      "execution_count": 69,
      "outputs": []
    },
    {
      "cell_type": "code",
      "source": [
        "! chmod 600 ~/.kaggle/kaggle.json\n"
      ],
      "metadata": {
        "id": "lcBhCI3lkGCT"
      },
      "execution_count": 70,
      "outputs": []
    },
    {
      "cell_type": "code",
      "source": [
        "!kaggle competitions download -c cascade-cup-22"
      ],
      "metadata": {
        "colab": {
          "base_uri": "https://localhost:8080/"
        },
        "id": "xCoP7ogWkaxR",
        "outputId": "5ab9267c-2df3-4d43-94fc-58998795e568"
      },
      "execution_count": 71,
      "outputs": [
        {
          "output_type": "stream",
          "name": "stdout",
          "text": [
            "Warning: Looks like you're using an outdated API Version, please consider updating (server 1.5.12 / client 1.5.4)\n",
            "test.csv.zip: Skipping, found more recently modified local copy (use --force to force download)\n",
            "train.csv.zip: Skipping, found more recently modified local copy (use --force to force download)\n",
            "sample_submission.csv.zip: Skipping, found more recently modified local copy (use --force to force download)\n"
          ]
        }
      ]
    },
    {
      "cell_type": "code",
      "source": [
        "!unzip train.csv.zip"
      ],
      "metadata": {
        "colab": {
          "base_uri": "https://localhost:8080/"
        },
        "id": "Y0lEwRA-kwCA",
        "outputId": "2f4c05af-4803-4acb-de22-3ed0fa0d4606"
      },
      "execution_count": 72,
      "outputs": [
        {
          "output_type": "stream",
          "name": "stdout",
          "text": [
            "Archive:  train.csv.zip\n",
            "replace train.csv? [y]es, [n]o, [A]ll, [N]one, [r]ename: y\n",
            "  inflating: train.csv               \n"
          ]
        }
      ]
    },
    {
      "cell_type": "code",
      "source": [
        "!unzip test.csv.zip"
      ],
      "metadata": {
        "colab": {
          "base_uri": "https://localhost:8080/"
        },
        "id": "6TjwssOsk_1p",
        "outputId": "f05fd6f1-8102-4692-8c29-a8ed400d5120"
      },
      "execution_count": 73,
      "outputs": [
        {
          "output_type": "stream",
          "name": "stdout",
          "text": [
            "Archive:  test.csv.zip\n",
            "replace test.csv? [y]es, [n]o, [A]ll, [N]one, [r]ename: y\n",
            "  inflating: test.csv                \n"
          ]
        }
      ]
    },
    {
      "cell_type": "code",
      "source": [
        "import numpy as np\n",
        "import pandas as pd \n",
        "import matplotlib.pyplot as plt\n",
        "%matplotlib inline\n",
        "import seaborn as sns"
      ],
      "metadata": {
        "id": "a2wewhIOlKgF"
      },
      "execution_count": 74,
      "outputs": []
    },
    {
      "cell_type": "code",
      "source": [
        "df = pd.read_csv('train.csv')\n",
        "df_test = pd.read_csv('test.csv')"
      ],
      "metadata": {
        "id": "GgD8F3D-lGvU"
      },
      "execution_count": 75,
      "outputs": []
    },
    {
      "cell_type": "code",
      "source": [
        "df.head()"
      ],
      "metadata": {
        "colab": {
          "base_uri": "https://localhost:8080/",
          "height": 357
        },
        "id": "F5kMx4EzlP4q",
        "outputId": "6cc82fee-bb65-42e9-fef7-466b9ce49437"
      },
      "execution_count": 76,
      "outputs": [
        {
          "output_type": "execute_result",
          "data": {
            "text/html": [
              "\n",
              "  <div id=\"df-2d225e89-14a1-419c-aad1-8e0aeb1f5fea\">\n",
              "    <div class=\"colab-df-container\">\n",
              "      <div>\n",
              "<style scoped>\n",
              "    .dataframe tbody tr th:only-of-type {\n",
              "        vertical-align: middle;\n",
              "    }\n",
              "\n",
              "    .dataframe tbody tr th {\n",
              "        vertical-align: top;\n",
              "    }\n",
              "\n",
              "    .dataframe thead th {\n",
              "        text-align: right;\n",
              "    }\n",
              "</style>\n",
              "<table border=\"1\" class=\"dataframe\">\n",
              "  <thead>\n",
              "    <tr style=\"text-align: right;\">\n",
              "      <th></th>\n",
              "      <th>order_time</th>\n",
              "      <th>order_id</th>\n",
              "      <th>order_date</th>\n",
              "      <th>allot_time</th>\n",
              "      <th>accept_time</th>\n",
              "      <th>pickup_time</th>\n",
              "      <th>delivered_time</th>\n",
              "      <th>rider_id</th>\n",
              "      <th>first_mile_distance</th>\n",
              "      <th>last_mile_distance</th>\n",
              "      <th>alloted_orders</th>\n",
              "      <th>delivered_orders</th>\n",
              "      <th>cancelled</th>\n",
              "      <th>undelivered_orders</th>\n",
              "      <th>lifetime_order_count</th>\n",
              "      <th>reassignment_method</th>\n",
              "      <th>reassignment_reason</th>\n",
              "      <th>reassigned_order</th>\n",
              "      <th>session_time</th>\n",
              "      <th>cancelled_time</th>\n",
              "    </tr>\n",
              "  </thead>\n",
              "  <tbody>\n",
              "    <tr>\n",
              "      <th>0</th>\n",
              "      <td>2021-01-26 02:21:35</td>\n",
              "      <td>556753</td>\n",
              "      <td>2021-01-26 00:00:00</td>\n",
              "      <td>2021-01-26 02:21:59</td>\n",
              "      <td>2021-01-26 02:22:08</td>\n",
              "      <td>2021-01-26 02:32:51</td>\n",
              "      <td>2021-01-26 02:49:47</td>\n",
              "      <td>11696</td>\n",
              "      <td>1.5666</td>\n",
              "      <td>2.65</td>\n",
              "      <td>46.0</td>\n",
              "      <td>46.0</td>\n",
              "      <td>0</td>\n",
              "      <td>0.0</td>\n",
              "      <td>621.0</td>\n",
              "      <td>NaN</td>\n",
              "      <td>NaN</td>\n",
              "      <td>NaN</td>\n",
              "      <td>NaN</td>\n",
              "      <td>NaN</td>\n",
              "    </tr>\n",
              "    <tr>\n",
              "      <th>1</th>\n",
              "      <td>2021-01-26 02:33:16</td>\n",
              "      <td>556754</td>\n",
              "      <td>2021-01-26 00:00:00</td>\n",
              "      <td>2021-01-26 02:33:57</td>\n",
              "      <td>2021-01-26 02:34:45</td>\n",
              "      <td>2021-01-26 02:50:25</td>\n",
              "      <td>2021-01-26 03:11:15</td>\n",
              "      <td>18117</td>\n",
              "      <td>2.5207</td>\n",
              "      <td>2.76</td>\n",
              "      <td>8.0</td>\n",
              "      <td>8.0</td>\n",
              "      <td>0</td>\n",
              "      <td>0.0</td>\n",
              "      <td>105.0</td>\n",
              "      <td>NaN</td>\n",
              "      <td>NaN</td>\n",
              "      <td>NaN</td>\n",
              "      <td>3.266667</td>\n",
              "      <td>NaN</td>\n",
              "    </tr>\n",
              "    <tr>\n",
              "      <th>2</th>\n",
              "      <td>2021-01-26 02:39:49</td>\n",
              "      <td>556755</td>\n",
              "      <td>2021-01-26 00:00:00</td>\n",
              "      <td>2021-01-26 02:39:57</td>\n",
              "      <td>2021-01-26 02:40:13</td>\n",
              "      <td>2021-01-26 02:56:00</td>\n",
              "      <td>2021-01-26 03:12:46</td>\n",
              "      <td>18623</td>\n",
              "      <td>2.2074</td>\n",
              "      <td>4.80</td>\n",
              "      <td>1.0</td>\n",
              "      <td>1.0</td>\n",
              "      <td>0</td>\n",
              "      <td>0.0</td>\n",
              "      <td>66.0</td>\n",
              "      <td>NaN</td>\n",
              "      <td>NaN</td>\n",
              "      <td>NaN</td>\n",
              "      <td>9.816667</td>\n",
              "      <td>NaN</td>\n",
              "    </tr>\n",
              "    <tr>\n",
              "      <th>3</th>\n",
              "      <td>2021-01-26 02:47:53</td>\n",
              "      <td>556756</td>\n",
              "      <td>2021-01-26 00:00:00</td>\n",
              "      <td>2021-01-26 02:48:25</td>\n",
              "      <td>2021-01-26 02:49:06</td>\n",
              "      <td>2021-01-26 03:21:51</td>\n",
              "      <td>2021-01-26 03:41:05</td>\n",
              "      <td>15945</td>\n",
              "      <td>2.1894</td>\n",
              "      <td>6.38</td>\n",
              "      <td>1.0</td>\n",
              "      <td>1.0</td>\n",
              "      <td>0</td>\n",
              "      <td>0.0</td>\n",
              "      <td>127.0</td>\n",
              "      <td>NaN</td>\n",
              "      <td>NaN</td>\n",
              "      <td>NaN</td>\n",
              "      <td>17.533333</td>\n",
              "      <td>NaN</td>\n",
              "    </tr>\n",
              "    <tr>\n",
              "      <th>4</th>\n",
              "      <td>2021-01-26 03:06:30</td>\n",
              "      <td>556757</td>\n",
              "      <td>2021-01-26 00:00:00</td>\n",
              "      <td>2021-01-26 03:07:21</td>\n",
              "      <td>2021-01-26 03:07:57</td>\n",
              "      <td>2021-01-26 03:31:38</td>\n",
              "      <td>2021-01-26 04:00:15</td>\n",
              "      <td>17589</td>\n",
              "      <td>2.7870</td>\n",
              "      <td>4.01</td>\n",
              "      <td>34.0</td>\n",
              "      <td>34.0</td>\n",
              "      <td>0</td>\n",
              "      <td>0.0</td>\n",
              "      <td>84.0</td>\n",
              "      <td>NaN</td>\n",
              "      <td>NaN</td>\n",
              "      <td>NaN</td>\n",
              "      <td>1.350000</td>\n",
              "      <td>NaN</td>\n",
              "    </tr>\n",
              "  </tbody>\n",
              "</table>\n",
              "</div>\n",
              "      <button class=\"colab-df-convert\" onclick=\"convertToInteractive('df-2d225e89-14a1-419c-aad1-8e0aeb1f5fea')\"\n",
              "              title=\"Convert this dataframe to an interactive table.\"\n",
              "              style=\"display:none;\">\n",
              "        \n",
              "  <svg xmlns=\"http://www.w3.org/2000/svg\" height=\"24px\"viewBox=\"0 0 24 24\"\n",
              "       width=\"24px\">\n",
              "    <path d=\"M0 0h24v24H0V0z\" fill=\"none\"/>\n",
              "    <path d=\"M18.56 5.44l.94 2.06.94-2.06 2.06-.94-2.06-.94-.94-2.06-.94 2.06-2.06.94zm-11 1L8.5 8.5l.94-2.06 2.06-.94-2.06-.94L8.5 2.5l-.94 2.06-2.06.94zm10 10l.94 2.06.94-2.06 2.06-.94-2.06-.94-.94-2.06-.94 2.06-2.06.94z\"/><path d=\"M17.41 7.96l-1.37-1.37c-.4-.4-.92-.59-1.43-.59-.52 0-1.04.2-1.43.59L10.3 9.45l-7.72 7.72c-.78.78-.78 2.05 0 2.83L4 21.41c.39.39.9.59 1.41.59.51 0 1.02-.2 1.41-.59l7.78-7.78 2.81-2.81c.8-.78.8-2.07 0-2.86zM5.41 20L4 18.59l7.72-7.72 1.47 1.35L5.41 20z\"/>\n",
              "  </svg>\n",
              "      </button>\n",
              "      \n",
              "  <style>\n",
              "    .colab-df-container {\n",
              "      display:flex;\n",
              "      flex-wrap:wrap;\n",
              "      gap: 12px;\n",
              "    }\n",
              "\n",
              "    .colab-df-convert {\n",
              "      background-color: #E8F0FE;\n",
              "      border: none;\n",
              "      border-radius: 50%;\n",
              "      cursor: pointer;\n",
              "      display: none;\n",
              "      fill: #1967D2;\n",
              "      height: 32px;\n",
              "      padding: 0 0 0 0;\n",
              "      width: 32px;\n",
              "    }\n",
              "\n",
              "    .colab-df-convert:hover {\n",
              "      background-color: #E2EBFA;\n",
              "      box-shadow: 0px 1px 2px rgba(60, 64, 67, 0.3), 0px 1px 3px 1px rgba(60, 64, 67, 0.15);\n",
              "      fill: #174EA6;\n",
              "    }\n",
              "\n",
              "    [theme=dark] .colab-df-convert {\n",
              "      background-color: #3B4455;\n",
              "      fill: #D2E3FC;\n",
              "    }\n",
              "\n",
              "    [theme=dark] .colab-df-convert:hover {\n",
              "      background-color: #434B5C;\n",
              "      box-shadow: 0px 1px 3px 1px rgba(0, 0, 0, 0.15);\n",
              "      filter: drop-shadow(0px 1px 2px rgba(0, 0, 0, 0.3));\n",
              "      fill: #FFFFFF;\n",
              "    }\n",
              "  </style>\n",
              "\n",
              "      <script>\n",
              "        const buttonEl =\n",
              "          document.querySelector('#df-2d225e89-14a1-419c-aad1-8e0aeb1f5fea button.colab-df-convert');\n",
              "        buttonEl.style.display =\n",
              "          google.colab.kernel.accessAllowed ? 'block' : 'none';\n",
              "\n",
              "        async function convertToInteractive(key) {\n",
              "          const element = document.querySelector('#df-2d225e89-14a1-419c-aad1-8e0aeb1f5fea');\n",
              "          const dataTable =\n",
              "            await google.colab.kernel.invokeFunction('convertToInteractive',\n",
              "                                                     [key], {});\n",
              "          if (!dataTable) return;\n",
              "\n",
              "          const docLinkHtml = 'Like what you see? Visit the ' +\n",
              "            '<a target=\"_blank\" href=https://colab.research.google.com/notebooks/data_table.ipynb>data table notebook</a>'\n",
              "            + ' to learn more about interactive tables.';\n",
              "          element.innerHTML = '';\n",
              "          dataTable['output_type'] = 'display_data';\n",
              "          await google.colab.output.renderOutput(dataTable, element);\n",
              "          const docLink = document.createElement('div');\n",
              "          docLink.innerHTML = docLinkHtml;\n",
              "          element.appendChild(docLink);\n",
              "        }\n",
              "      </script>\n",
              "    </div>\n",
              "  </div>\n",
              "  "
            ],
            "text/plain": [
              "            order_time  order_id  ... session_time cancelled_time\n",
              "0  2021-01-26 02:21:35    556753  ...          NaN            NaN\n",
              "1  2021-01-26 02:33:16    556754  ...     3.266667            NaN\n",
              "2  2021-01-26 02:39:49    556755  ...     9.816667            NaN\n",
              "3  2021-01-26 02:47:53    556756  ...    17.533333            NaN\n",
              "4  2021-01-26 03:06:30    556757  ...     1.350000            NaN\n",
              "\n",
              "[5 rows x 20 columns]"
            ]
          },
          "metadata": {},
          "execution_count": 76
        }
      ]
    },
    {
      "cell_type": "code",
      "source": [
        "df_test.head()"
      ],
      "metadata": {
        "colab": {
          "base_uri": "https://localhost:8080/",
          "height": 357
        },
        "id": "39U6WftHlUls",
        "outputId": "4900c249-c8cf-4f99-8475-1e1f680b2815"
      },
      "execution_count": 77,
      "outputs": [
        {
          "output_type": "execute_result",
          "data": {
            "text/html": [
              "\n",
              "  <div id=\"df-b4da855d-4adf-4b07-9f8a-55a7f68fbaab\">\n",
              "    <div class=\"colab-df-container\">\n",
              "      <div>\n",
              "<style scoped>\n",
              "    .dataframe tbody tr th:only-of-type {\n",
              "        vertical-align: middle;\n",
              "    }\n",
              "\n",
              "    .dataframe tbody tr th {\n",
              "        vertical-align: top;\n",
              "    }\n",
              "\n",
              "    .dataframe thead th {\n",
              "        text-align: right;\n",
              "    }\n",
              "</style>\n",
              "<table border=\"1\" class=\"dataframe\">\n",
              "  <thead>\n",
              "    <tr style=\"text-align: right;\">\n",
              "      <th></th>\n",
              "      <th>order_time</th>\n",
              "      <th>order_id</th>\n",
              "      <th>order_date</th>\n",
              "      <th>allot_time</th>\n",
              "      <th>accept_time</th>\n",
              "      <th>rider_id</th>\n",
              "      <th>first_mile_distance</th>\n",
              "      <th>last_mile_distance</th>\n",
              "      <th>alloted_orders</th>\n",
              "      <th>delivered_orders</th>\n",
              "      <th>undelivered_orders</th>\n",
              "      <th>lifetime_order_count</th>\n",
              "      <th>reassignment_method</th>\n",
              "      <th>reassignment_reason</th>\n",
              "      <th>reassigned_order</th>\n",
              "      <th>session_time</th>\n",
              "    </tr>\n",
              "  </thead>\n",
              "  <tbody>\n",
              "    <tr>\n",
              "      <th>0</th>\n",
              "      <td>2021-02-06 10:03:24</td>\n",
              "      <td>130231</td>\n",
              "      <td>2021-02-06 00:00:00</td>\n",
              "      <td>2021-02-06 10:03:49</td>\n",
              "      <td>2021-02-06 10:04:15</td>\n",
              "      <td>12884</td>\n",
              "      <td>1.6585</td>\n",
              "      <td>4.54</td>\n",
              "      <td>216.0</td>\n",
              "      <td>215.0</td>\n",
              "      <td>1.0</td>\n",
              "      <td>747.0</td>\n",
              "      <td>NaN</td>\n",
              "      <td>NaN</td>\n",
              "      <td>NaN</td>\n",
              "      <td>273.400000</td>\n",
              "    </tr>\n",
              "    <tr>\n",
              "      <th>1</th>\n",
              "      <td>2021-02-06 10:03:26</td>\n",
              "      <td>130232</td>\n",
              "      <td>2021-02-06 00:00:00</td>\n",
              "      <td>2021-02-06 10:03:27</td>\n",
              "      <td>2021-02-06 10:03:36</td>\n",
              "      <td>3541</td>\n",
              "      <td>2.0709</td>\n",
              "      <td>5.84</td>\n",
              "      <td>52.0</td>\n",
              "      <td>52.0</td>\n",
              "      <td>0.0</td>\n",
              "      <td>75.0</td>\n",
              "      <td>NaN</td>\n",
              "      <td>NaN</td>\n",
              "      <td>NaN</td>\n",
              "      <td>252.100000</td>\n",
              "    </tr>\n",
              "    <tr>\n",
              "      <th>2</th>\n",
              "      <td>2021-02-06 10:03:27</td>\n",
              "      <td>130233</td>\n",
              "      <td>2021-02-06 00:00:00</td>\n",
              "      <td>2021-02-06 10:04:14</td>\n",
              "      <td>2021-02-06 10:05:34</td>\n",
              "      <td>603</td>\n",
              "      <td>1.3884</td>\n",
              "      <td>0.99</td>\n",
              "      <td>289.0</td>\n",
              "      <td>289.0</td>\n",
              "      <td>0.0</td>\n",
              "      <td>2214.0</td>\n",
              "      <td>NaN</td>\n",
              "      <td>NaN</td>\n",
              "      <td>NaN</td>\n",
              "      <td>241.383333</td>\n",
              "    </tr>\n",
              "    <tr>\n",
              "      <th>3</th>\n",
              "      <td>2021-02-06 10:03:29</td>\n",
              "      <td>130234</td>\n",
              "      <td>2021-02-06 00:00:00</td>\n",
              "      <td>2021-02-06 10:03:30</td>\n",
              "      <td>2021-02-06 10:03:53</td>\n",
              "      <td>3414</td>\n",
              "      <td>1.9039</td>\n",
              "      <td>2.59</td>\n",
              "      <td>125.0</td>\n",
              "      <td>122.0</td>\n",
              "      <td>3.0</td>\n",
              "      <td>1020.0</td>\n",
              "      <td>NaN</td>\n",
              "      <td>NaN</td>\n",
              "      <td>NaN</td>\n",
              "      <td>291.933333</td>\n",
              "    </tr>\n",
              "    <tr>\n",
              "      <th>4</th>\n",
              "      <td>2021-02-06 10:03:35</td>\n",
              "      <td>130235</td>\n",
              "      <td>2021-02-06 00:00:00</td>\n",
              "      <td>2021-02-06 10:03:43</td>\n",
              "      <td>2021-02-06 10:04:43</td>\n",
              "      <td>1426</td>\n",
              "      <td>0.8275</td>\n",
              "      <td>0.94</td>\n",
              "      <td>352.0</td>\n",
              "      <td>350.0</td>\n",
              "      <td>2.0</td>\n",
              "      <td>7284.0</td>\n",
              "      <td>NaN</td>\n",
              "      <td>NaN</td>\n",
              "      <td>NaN</td>\n",
              "      <td>247.133333</td>\n",
              "    </tr>\n",
              "  </tbody>\n",
              "</table>\n",
              "</div>\n",
              "      <button class=\"colab-df-convert\" onclick=\"convertToInteractive('df-b4da855d-4adf-4b07-9f8a-55a7f68fbaab')\"\n",
              "              title=\"Convert this dataframe to an interactive table.\"\n",
              "              style=\"display:none;\">\n",
              "        \n",
              "  <svg xmlns=\"http://www.w3.org/2000/svg\" height=\"24px\"viewBox=\"0 0 24 24\"\n",
              "       width=\"24px\">\n",
              "    <path d=\"M0 0h24v24H0V0z\" fill=\"none\"/>\n",
              "    <path d=\"M18.56 5.44l.94 2.06.94-2.06 2.06-.94-2.06-.94-.94-2.06-.94 2.06-2.06.94zm-11 1L8.5 8.5l.94-2.06 2.06-.94-2.06-.94L8.5 2.5l-.94 2.06-2.06.94zm10 10l.94 2.06.94-2.06 2.06-.94-2.06-.94-.94-2.06-.94 2.06-2.06.94z\"/><path d=\"M17.41 7.96l-1.37-1.37c-.4-.4-.92-.59-1.43-.59-.52 0-1.04.2-1.43.59L10.3 9.45l-7.72 7.72c-.78.78-.78 2.05 0 2.83L4 21.41c.39.39.9.59 1.41.59.51 0 1.02-.2 1.41-.59l7.78-7.78 2.81-2.81c.8-.78.8-2.07 0-2.86zM5.41 20L4 18.59l7.72-7.72 1.47 1.35L5.41 20z\"/>\n",
              "  </svg>\n",
              "      </button>\n",
              "      \n",
              "  <style>\n",
              "    .colab-df-container {\n",
              "      display:flex;\n",
              "      flex-wrap:wrap;\n",
              "      gap: 12px;\n",
              "    }\n",
              "\n",
              "    .colab-df-convert {\n",
              "      background-color: #E8F0FE;\n",
              "      border: none;\n",
              "      border-radius: 50%;\n",
              "      cursor: pointer;\n",
              "      display: none;\n",
              "      fill: #1967D2;\n",
              "      height: 32px;\n",
              "      padding: 0 0 0 0;\n",
              "      width: 32px;\n",
              "    }\n",
              "\n",
              "    .colab-df-convert:hover {\n",
              "      background-color: #E2EBFA;\n",
              "      box-shadow: 0px 1px 2px rgba(60, 64, 67, 0.3), 0px 1px 3px 1px rgba(60, 64, 67, 0.15);\n",
              "      fill: #174EA6;\n",
              "    }\n",
              "\n",
              "    [theme=dark] .colab-df-convert {\n",
              "      background-color: #3B4455;\n",
              "      fill: #D2E3FC;\n",
              "    }\n",
              "\n",
              "    [theme=dark] .colab-df-convert:hover {\n",
              "      background-color: #434B5C;\n",
              "      box-shadow: 0px 1px 3px 1px rgba(0, 0, 0, 0.15);\n",
              "      filter: drop-shadow(0px 1px 2px rgba(0, 0, 0, 0.3));\n",
              "      fill: #FFFFFF;\n",
              "    }\n",
              "  </style>\n",
              "\n",
              "      <script>\n",
              "        const buttonEl =\n",
              "          document.querySelector('#df-b4da855d-4adf-4b07-9f8a-55a7f68fbaab button.colab-df-convert');\n",
              "        buttonEl.style.display =\n",
              "          google.colab.kernel.accessAllowed ? 'block' : 'none';\n",
              "\n",
              "        async function convertToInteractive(key) {\n",
              "          const element = document.querySelector('#df-b4da855d-4adf-4b07-9f8a-55a7f68fbaab');\n",
              "          const dataTable =\n",
              "            await google.colab.kernel.invokeFunction('convertToInteractive',\n",
              "                                                     [key], {});\n",
              "          if (!dataTable) return;\n",
              "\n",
              "          const docLinkHtml = 'Like what you see? Visit the ' +\n",
              "            '<a target=\"_blank\" href=https://colab.research.google.com/notebooks/data_table.ipynb>data table notebook</a>'\n",
              "            + ' to learn more about interactive tables.';\n",
              "          element.innerHTML = '';\n",
              "          dataTable['output_type'] = 'display_data';\n",
              "          await google.colab.output.renderOutput(dataTable, element);\n",
              "          const docLink = document.createElement('div');\n",
              "          docLink.innerHTML = docLinkHtml;\n",
              "          element.appendChild(docLink);\n",
              "        }\n",
              "      </script>\n",
              "    </div>\n",
              "  </div>\n",
              "  "
            ],
            "text/plain": [
              "            order_time  order_id  ... reassigned_order session_time\n",
              "0  2021-02-06 10:03:24    130231  ...              NaN   273.400000\n",
              "1  2021-02-06 10:03:26    130232  ...              NaN   252.100000\n",
              "2  2021-02-06 10:03:27    130233  ...              NaN   241.383333\n",
              "3  2021-02-06 10:03:29    130234  ...              NaN   291.933333\n",
              "4  2021-02-06 10:03:35    130235  ...              NaN   247.133333\n",
              "\n",
              "[5 rows x 16 columns]"
            ]
          },
          "metadata": {},
          "execution_count": 77
        }
      ]
    },
    {
      "cell_type": "code",
      "source": [
        "df['rider_id'].value_counts()"
      ],
      "metadata": {
        "colab": {
          "base_uri": "https://localhost:8080/"
        },
        "id": "5zMxjeM4m_Xp",
        "outputId": "4f038376-9212-4345-e245-5e1501fd4257"
      },
      "execution_count": 78,
      "outputs": [
        {
          "output_type": "execute_result",
          "data": {
            "text/plain": [
              "237      228\n",
              "190      213\n",
              "11998    209\n",
              "170      203\n",
              "853      200\n",
              "        ... \n",
              "9339       1\n",
              "20693      1\n",
              "16603      1\n",
              "20692      1\n",
              "4895       1\n",
              "Name: rider_id, Length: 19537, dtype: int64"
            ]
          },
          "metadata": {},
          "execution_count": 78
        }
      ]
    },
    {
      "cell_type": "code",
      "source": [
        "df.shape"
      ],
      "metadata": {
        "colab": {
          "base_uri": "https://localhost:8080/"
        },
        "id": "zsbek06yodKK",
        "outputId": "f287f01f-bb11-42a2-e0a9-4219a0516c4d"
      },
      "execution_count": 79,
      "outputs": [
        {
          "output_type": "execute_result",
          "data": {
            "text/plain": [
              "(450000, 20)"
            ]
          },
          "metadata": {},
          "execution_count": 79
        }
      ]
    },
    {
      "cell_type": "code",
      "source": [
        "df.isnull().sum()"
      ],
      "metadata": {
        "colab": {
          "base_uri": "https://localhost:8080/"
        },
        "id": "4yyqtHtmoSAV",
        "outputId": "d27b78aa-9686-4d56-ea21-0127e30ac9e1"
      },
      "execution_count": 80,
      "outputs": [
        {
          "output_type": "execute_result",
          "data": {
            "text/plain": [
              "order_time                   0\n",
              "order_id                     0\n",
              "order_date                   0\n",
              "allot_time                   0\n",
              "accept_time                157\n",
              "pickup_time               2421\n",
              "delivered_time            5218\n",
              "rider_id                     0\n",
              "first_mile_distance          0\n",
              "last_mile_distance           0\n",
              "alloted_orders           16948\n",
              "delivered_orders         17341\n",
              "cancelled                    0\n",
              "undelivered_orders       17341\n",
              "lifetime_order_count        53\n",
              "reassignment_method     436256\n",
              "reassignment_reason     436247\n",
              "reassigned_order        436247\n",
              "session_time              3675\n",
              "cancelled_time          444782\n",
              "dtype: int64"
            ]
          },
          "metadata": {},
          "execution_count": 80
        }
      ]
    },
    {
      "cell_type": "code",
      "source": [
        "df = df.drop(columns=['order_id','pickup_time','delivered_time'],axis =1)"
      ],
      "metadata": {
        "id": "BRb2M-rznfTA"
      },
      "execution_count": 81,
      "outputs": []
    },
    {
      "cell_type": "code",
      "source": [
        "df.head()"
      ],
      "metadata": {
        "colab": {
          "base_uri": "https://localhost:8080/",
          "height": 357
        },
        "id": "Ok7PsuwhpMrd",
        "outputId": "fff1c16d-90ad-412b-e56a-78851dfe3364"
      },
      "execution_count": 82,
      "outputs": [
        {
          "output_type": "execute_result",
          "data": {
            "text/html": [
              "\n",
              "  <div id=\"df-401cc80c-e882-48a2-b32a-45e470f86db8\">\n",
              "    <div class=\"colab-df-container\">\n",
              "      <div>\n",
              "<style scoped>\n",
              "    .dataframe tbody tr th:only-of-type {\n",
              "        vertical-align: middle;\n",
              "    }\n",
              "\n",
              "    .dataframe tbody tr th {\n",
              "        vertical-align: top;\n",
              "    }\n",
              "\n",
              "    .dataframe thead th {\n",
              "        text-align: right;\n",
              "    }\n",
              "</style>\n",
              "<table border=\"1\" class=\"dataframe\">\n",
              "  <thead>\n",
              "    <tr style=\"text-align: right;\">\n",
              "      <th></th>\n",
              "      <th>order_time</th>\n",
              "      <th>order_date</th>\n",
              "      <th>allot_time</th>\n",
              "      <th>accept_time</th>\n",
              "      <th>rider_id</th>\n",
              "      <th>first_mile_distance</th>\n",
              "      <th>last_mile_distance</th>\n",
              "      <th>alloted_orders</th>\n",
              "      <th>delivered_orders</th>\n",
              "      <th>cancelled</th>\n",
              "      <th>undelivered_orders</th>\n",
              "      <th>lifetime_order_count</th>\n",
              "      <th>reassignment_method</th>\n",
              "      <th>reassignment_reason</th>\n",
              "      <th>reassigned_order</th>\n",
              "      <th>session_time</th>\n",
              "      <th>cancelled_time</th>\n",
              "    </tr>\n",
              "  </thead>\n",
              "  <tbody>\n",
              "    <tr>\n",
              "      <th>0</th>\n",
              "      <td>2021-01-26 02:21:35</td>\n",
              "      <td>2021-01-26 00:00:00</td>\n",
              "      <td>2021-01-26 02:21:59</td>\n",
              "      <td>2021-01-26 02:22:08</td>\n",
              "      <td>11696</td>\n",
              "      <td>1.5666</td>\n",
              "      <td>2.65</td>\n",
              "      <td>46.0</td>\n",
              "      <td>46.0</td>\n",
              "      <td>0</td>\n",
              "      <td>0.0</td>\n",
              "      <td>621.0</td>\n",
              "      <td>NaN</td>\n",
              "      <td>NaN</td>\n",
              "      <td>NaN</td>\n",
              "      <td>NaN</td>\n",
              "      <td>NaN</td>\n",
              "    </tr>\n",
              "    <tr>\n",
              "      <th>1</th>\n",
              "      <td>2021-01-26 02:33:16</td>\n",
              "      <td>2021-01-26 00:00:00</td>\n",
              "      <td>2021-01-26 02:33:57</td>\n",
              "      <td>2021-01-26 02:34:45</td>\n",
              "      <td>18117</td>\n",
              "      <td>2.5207</td>\n",
              "      <td>2.76</td>\n",
              "      <td>8.0</td>\n",
              "      <td>8.0</td>\n",
              "      <td>0</td>\n",
              "      <td>0.0</td>\n",
              "      <td>105.0</td>\n",
              "      <td>NaN</td>\n",
              "      <td>NaN</td>\n",
              "      <td>NaN</td>\n",
              "      <td>3.266667</td>\n",
              "      <td>NaN</td>\n",
              "    </tr>\n",
              "    <tr>\n",
              "      <th>2</th>\n",
              "      <td>2021-01-26 02:39:49</td>\n",
              "      <td>2021-01-26 00:00:00</td>\n",
              "      <td>2021-01-26 02:39:57</td>\n",
              "      <td>2021-01-26 02:40:13</td>\n",
              "      <td>18623</td>\n",
              "      <td>2.2074</td>\n",
              "      <td>4.80</td>\n",
              "      <td>1.0</td>\n",
              "      <td>1.0</td>\n",
              "      <td>0</td>\n",
              "      <td>0.0</td>\n",
              "      <td>66.0</td>\n",
              "      <td>NaN</td>\n",
              "      <td>NaN</td>\n",
              "      <td>NaN</td>\n",
              "      <td>9.816667</td>\n",
              "      <td>NaN</td>\n",
              "    </tr>\n",
              "    <tr>\n",
              "      <th>3</th>\n",
              "      <td>2021-01-26 02:47:53</td>\n",
              "      <td>2021-01-26 00:00:00</td>\n",
              "      <td>2021-01-26 02:48:25</td>\n",
              "      <td>2021-01-26 02:49:06</td>\n",
              "      <td>15945</td>\n",
              "      <td>2.1894</td>\n",
              "      <td>6.38</td>\n",
              "      <td>1.0</td>\n",
              "      <td>1.0</td>\n",
              "      <td>0</td>\n",
              "      <td>0.0</td>\n",
              "      <td>127.0</td>\n",
              "      <td>NaN</td>\n",
              "      <td>NaN</td>\n",
              "      <td>NaN</td>\n",
              "      <td>17.533333</td>\n",
              "      <td>NaN</td>\n",
              "    </tr>\n",
              "    <tr>\n",
              "      <th>4</th>\n",
              "      <td>2021-01-26 03:06:30</td>\n",
              "      <td>2021-01-26 00:00:00</td>\n",
              "      <td>2021-01-26 03:07:21</td>\n",
              "      <td>2021-01-26 03:07:57</td>\n",
              "      <td>17589</td>\n",
              "      <td>2.7870</td>\n",
              "      <td>4.01</td>\n",
              "      <td>34.0</td>\n",
              "      <td>34.0</td>\n",
              "      <td>0</td>\n",
              "      <td>0.0</td>\n",
              "      <td>84.0</td>\n",
              "      <td>NaN</td>\n",
              "      <td>NaN</td>\n",
              "      <td>NaN</td>\n",
              "      <td>1.350000</td>\n",
              "      <td>NaN</td>\n",
              "    </tr>\n",
              "  </tbody>\n",
              "</table>\n",
              "</div>\n",
              "      <button class=\"colab-df-convert\" onclick=\"convertToInteractive('df-401cc80c-e882-48a2-b32a-45e470f86db8')\"\n",
              "              title=\"Convert this dataframe to an interactive table.\"\n",
              "              style=\"display:none;\">\n",
              "        \n",
              "  <svg xmlns=\"http://www.w3.org/2000/svg\" height=\"24px\"viewBox=\"0 0 24 24\"\n",
              "       width=\"24px\">\n",
              "    <path d=\"M0 0h24v24H0V0z\" fill=\"none\"/>\n",
              "    <path d=\"M18.56 5.44l.94 2.06.94-2.06 2.06-.94-2.06-.94-.94-2.06-.94 2.06-2.06.94zm-11 1L8.5 8.5l.94-2.06 2.06-.94-2.06-.94L8.5 2.5l-.94 2.06-2.06.94zm10 10l.94 2.06.94-2.06 2.06-.94-2.06-.94-.94-2.06-.94 2.06-2.06.94z\"/><path d=\"M17.41 7.96l-1.37-1.37c-.4-.4-.92-.59-1.43-.59-.52 0-1.04.2-1.43.59L10.3 9.45l-7.72 7.72c-.78.78-.78 2.05 0 2.83L4 21.41c.39.39.9.59 1.41.59.51 0 1.02-.2 1.41-.59l7.78-7.78 2.81-2.81c.8-.78.8-2.07 0-2.86zM5.41 20L4 18.59l7.72-7.72 1.47 1.35L5.41 20z\"/>\n",
              "  </svg>\n",
              "      </button>\n",
              "      \n",
              "  <style>\n",
              "    .colab-df-container {\n",
              "      display:flex;\n",
              "      flex-wrap:wrap;\n",
              "      gap: 12px;\n",
              "    }\n",
              "\n",
              "    .colab-df-convert {\n",
              "      background-color: #E8F0FE;\n",
              "      border: none;\n",
              "      border-radius: 50%;\n",
              "      cursor: pointer;\n",
              "      display: none;\n",
              "      fill: #1967D2;\n",
              "      height: 32px;\n",
              "      padding: 0 0 0 0;\n",
              "      width: 32px;\n",
              "    }\n",
              "\n",
              "    .colab-df-convert:hover {\n",
              "      background-color: #E2EBFA;\n",
              "      box-shadow: 0px 1px 2px rgba(60, 64, 67, 0.3), 0px 1px 3px 1px rgba(60, 64, 67, 0.15);\n",
              "      fill: #174EA6;\n",
              "    }\n",
              "\n",
              "    [theme=dark] .colab-df-convert {\n",
              "      background-color: #3B4455;\n",
              "      fill: #D2E3FC;\n",
              "    }\n",
              "\n",
              "    [theme=dark] .colab-df-convert:hover {\n",
              "      background-color: #434B5C;\n",
              "      box-shadow: 0px 1px 3px 1px rgba(0, 0, 0, 0.15);\n",
              "      filter: drop-shadow(0px 1px 2px rgba(0, 0, 0, 0.3));\n",
              "      fill: #FFFFFF;\n",
              "    }\n",
              "  </style>\n",
              "\n",
              "      <script>\n",
              "        const buttonEl =\n",
              "          document.querySelector('#df-401cc80c-e882-48a2-b32a-45e470f86db8 button.colab-df-convert');\n",
              "        buttonEl.style.display =\n",
              "          google.colab.kernel.accessAllowed ? 'block' : 'none';\n",
              "\n",
              "        async function convertToInteractive(key) {\n",
              "          const element = document.querySelector('#df-401cc80c-e882-48a2-b32a-45e470f86db8');\n",
              "          const dataTable =\n",
              "            await google.colab.kernel.invokeFunction('convertToInteractive',\n",
              "                                                     [key], {});\n",
              "          if (!dataTable) return;\n",
              "\n",
              "          const docLinkHtml = 'Like what you see? Visit the ' +\n",
              "            '<a target=\"_blank\" href=https://colab.research.google.com/notebooks/data_table.ipynb>data table notebook</a>'\n",
              "            + ' to learn more about interactive tables.';\n",
              "          element.innerHTML = '';\n",
              "          dataTable['output_type'] = 'display_data';\n",
              "          await google.colab.output.renderOutput(dataTable, element);\n",
              "          const docLink = document.createElement('div');\n",
              "          docLink.innerHTML = docLinkHtml;\n",
              "          element.appendChild(docLink);\n",
              "        }\n",
              "      </script>\n",
              "    </div>\n",
              "  </div>\n",
              "  "
            ],
            "text/plain": [
              "            order_time           order_date  ... session_time cancelled_time\n",
              "0  2021-01-26 02:21:35  2021-01-26 00:00:00  ...          NaN            NaN\n",
              "1  2021-01-26 02:33:16  2021-01-26 00:00:00  ...     3.266667            NaN\n",
              "2  2021-01-26 02:39:49  2021-01-26 00:00:00  ...     9.816667            NaN\n",
              "3  2021-01-26 02:47:53  2021-01-26 00:00:00  ...    17.533333            NaN\n",
              "4  2021-01-26 03:06:30  2021-01-26 00:00:00  ...     1.350000            NaN\n",
              "\n",
              "[5 rows x 17 columns]"
            ]
          },
          "metadata": {},
          "execution_count": 82
        }
      ]
    },
    {
      "cell_type": "code",
      "source": [
        "df_test = df_test.drop(['order_id'],axis=1)"
      ],
      "metadata": {
        "id": "uMXQZK3DqyS4"
      },
      "execution_count": 83,
      "outputs": []
    },
    {
      "cell_type": "code",
      "source": [
        "df.isnull().sum()"
      ],
      "metadata": {
        "colab": {
          "base_uri": "https://localhost:8080/"
        },
        "id": "tsYb753grkKv",
        "outputId": "c80db152-df78-4177-9a18-64d5b0e32148"
      },
      "execution_count": 84,
      "outputs": [
        {
          "output_type": "execute_result",
          "data": {
            "text/plain": [
              "order_time                   0\n",
              "order_date                   0\n",
              "allot_time                   0\n",
              "accept_time                157\n",
              "rider_id                     0\n",
              "first_mile_distance          0\n",
              "last_mile_distance           0\n",
              "alloted_orders           16948\n",
              "delivered_orders         17341\n",
              "cancelled                    0\n",
              "undelivered_orders       17341\n",
              "lifetime_order_count        53\n",
              "reassignment_method     436256\n",
              "reassignment_reason     436247\n",
              "reassigned_order        436247\n",
              "session_time              3675\n",
              "cancelled_time          444782\n",
              "dtype: int64"
            ]
          },
          "metadata": {},
          "execution_count": 84
        }
      ]
    },
    {
      "cell_type": "code",
      "source": [
        "df['cancelled'].value_counts()"
      ],
      "metadata": {
        "colab": {
          "base_uri": "https://localhost:8080/"
        },
        "id": "kI6oL0XQsBJo",
        "outputId": "8abc1cc5-5ccd-4d84-aa07-fbfd861dc488"
      },
      "execution_count": 85,
      "outputs": [
        {
          "output_type": "execute_result",
          "data": {
            "text/plain": [
              "0    444782\n",
              "1      5218\n",
              "Name: cancelled, dtype: int64"
            ]
          },
          "metadata": {},
          "execution_count": 85
        }
      ]
    },
    {
      "cell_type": "code",
      "source": [
        "for col in df.columns:  \n",
        "    dataTypeSeries = df[col].dtypes\n",
        "    print('Data type of '+ col+ ' column of Dataframe :')\n",
        "    print(dataTypeSeries)"
      ],
      "metadata": {
        "colab": {
          "base_uri": "https://localhost:8080/"
        },
        "id": "YM9mBt5gsssS",
        "outputId": "99326e5c-708e-4f4f-b3e2-ecc12b7db1e3"
      },
      "execution_count": 86,
      "outputs": [
        {
          "output_type": "stream",
          "name": "stdout",
          "text": [
            "Data type of order_time column of Dataframe :\n",
            "object\n",
            "Data type of order_date column of Dataframe :\n",
            "object\n",
            "Data type of allot_time column of Dataframe :\n",
            "object\n",
            "Data type of accept_time column of Dataframe :\n",
            "object\n",
            "Data type of rider_id column of Dataframe :\n",
            "int64\n",
            "Data type of first_mile_distance column of Dataframe :\n",
            "float64\n",
            "Data type of last_mile_distance column of Dataframe :\n",
            "float64\n",
            "Data type of alloted_orders column of Dataframe :\n",
            "float64\n",
            "Data type of delivered_orders column of Dataframe :\n",
            "float64\n",
            "Data type of cancelled column of Dataframe :\n",
            "int64\n",
            "Data type of undelivered_orders column of Dataframe :\n",
            "float64\n",
            "Data type of lifetime_order_count column of Dataframe :\n",
            "float64\n",
            "Data type of reassignment_method column of Dataframe :\n",
            "object\n",
            "Data type of reassignment_reason column of Dataframe :\n",
            "object\n",
            "Data type of reassigned_order column of Dataframe :\n",
            "float64\n",
            "Data type of session_time column of Dataframe :\n",
            "float64\n",
            "Data type of cancelled_time column of Dataframe :\n",
            "object\n"
          ]
        }
      ]
    },
    {
      "cell_type": "code",
      "source": [
        "#creating the datetime column\n",
        "df['allot_time'] = pd.to_datetime(df['allot_time'].str.strip(), format='%Y/%m/%d %H:%M:%S')\n",
        "df_test['allot_time'] = pd.to_datetime(df_test['allot_time'].str.strip(), format='%Y/%m/%d %H:%M:%S')"
      ],
      "metadata": {
        "id": "_E87vKm5tkxy"
      },
      "execution_count": 87,
      "outputs": []
    },
    {
      "cell_type": "code",
      "source": [
        "df['accept_time'] = pd.to_datetime(df['accept_time'].str.strip(), format='%Y/%m/%d %H:%M:%S')\n",
        "df_test['accept_time'] = pd.to_datetime(df_test['accept_time'].str.strip(), format='%Y/%m/%d %H:%M:%S')"
      ],
      "metadata": {
        "id": "15dDK5veulJ1"
      },
      "execution_count": 88,
      "outputs": []
    },
    {
      "cell_type": "code",
      "source": [
        "for col in df.columns:  \n",
        "    dataTypeSeries = df[col].dtypes\n",
        "    print('Data type of '+ col+ ' column of Dataframe :')\n",
        "    print(dataTypeSeries)"
      ],
      "metadata": {
        "id": "aI-p5fu_pwoH",
        "outputId": "e12900b3-a82f-4656-8cc6-ade0a05f68d6",
        "colab": {
          "base_uri": "https://localhost:8080/"
        }
      },
      "execution_count": 89,
      "outputs": [
        {
          "output_type": "stream",
          "name": "stdout",
          "text": [
            "Data type of order_time column of Dataframe :\n",
            "object\n",
            "Data type of order_date column of Dataframe :\n",
            "object\n",
            "Data type of allot_time column of Dataframe :\n",
            "datetime64[ns]\n",
            "Data type of accept_time column of Dataframe :\n",
            "datetime64[ns]\n",
            "Data type of rider_id column of Dataframe :\n",
            "int64\n",
            "Data type of first_mile_distance column of Dataframe :\n",
            "float64\n",
            "Data type of last_mile_distance column of Dataframe :\n",
            "float64\n",
            "Data type of alloted_orders column of Dataframe :\n",
            "float64\n",
            "Data type of delivered_orders column of Dataframe :\n",
            "float64\n",
            "Data type of cancelled column of Dataframe :\n",
            "int64\n",
            "Data type of undelivered_orders column of Dataframe :\n",
            "float64\n",
            "Data type of lifetime_order_count column of Dataframe :\n",
            "float64\n",
            "Data type of reassignment_method column of Dataframe :\n",
            "object\n",
            "Data type of reassignment_reason column of Dataframe :\n",
            "object\n",
            "Data type of reassigned_order column of Dataframe :\n",
            "float64\n",
            "Data type of session_time column of Dataframe :\n",
            "float64\n",
            "Data type of cancelled_time column of Dataframe :\n",
            "object\n"
          ]
        }
      ]
    },
    {
      "cell_type": "code",
      "source": [
        "df['accept_to_allot'] = (df['accept_time'] - df['allot_time'])\n",
        "df_test['accept_to_allot'] = (df_test['accept_time'] - df_test['allot_time'])"
      ],
      "metadata": {
        "id": "dxEcou8KutVk"
      },
      "execution_count": 90,
      "outputs": []
    },
    {
      "cell_type": "code",
      "source": [
        "df.head()"
      ],
      "metadata": {
        "colab": {
          "base_uri": "https://localhost:8080/",
          "height": 357
        },
        "id": "zd_yrmMTvaJm",
        "outputId": "2ecef0b2-4bba-4ea4-c780-0ba0f0d566e7"
      },
      "execution_count": 91,
      "outputs": [
        {
          "output_type": "execute_result",
          "data": {
            "text/html": [
              "\n",
              "  <div id=\"df-7d41e24f-b278-4de7-8e03-33cd9c16b1ea\">\n",
              "    <div class=\"colab-df-container\">\n",
              "      <div>\n",
              "<style scoped>\n",
              "    .dataframe tbody tr th:only-of-type {\n",
              "        vertical-align: middle;\n",
              "    }\n",
              "\n",
              "    .dataframe tbody tr th {\n",
              "        vertical-align: top;\n",
              "    }\n",
              "\n",
              "    .dataframe thead th {\n",
              "        text-align: right;\n",
              "    }\n",
              "</style>\n",
              "<table border=\"1\" class=\"dataframe\">\n",
              "  <thead>\n",
              "    <tr style=\"text-align: right;\">\n",
              "      <th></th>\n",
              "      <th>order_time</th>\n",
              "      <th>order_date</th>\n",
              "      <th>allot_time</th>\n",
              "      <th>accept_time</th>\n",
              "      <th>rider_id</th>\n",
              "      <th>first_mile_distance</th>\n",
              "      <th>last_mile_distance</th>\n",
              "      <th>alloted_orders</th>\n",
              "      <th>delivered_orders</th>\n",
              "      <th>cancelled</th>\n",
              "      <th>undelivered_orders</th>\n",
              "      <th>lifetime_order_count</th>\n",
              "      <th>reassignment_method</th>\n",
              "      <th>reassignment_reason</th>\n",
              "      <th>reassigned_order</th>\n",
              "      <th>session_time</th>\n",
              "      <th>cancelled_time</th>\n",
              "      <th>accept_to_allot</th>\n",
              "    </tr>\n",
              "  </thead>\n",
              "  <tbody>\n",
              "    <tr>\n",
              "      <th>0</th>\n",
              "      <td>2021-01-26 02:21:35</td>\n",
              "      <td>2021-01-26 00:00:00</td>\n",
              "      <td>2021-01-26 02:21:59</td>\n",
              "      <td>2021-01-26 02:22:08</td>\n",
              "      <td>11696</td>\n",
              "      <td>1.5666</td>\n",
              "      <td>2.65</td>\n",
              "      <td>46.0</td>\n",
              "      <td>46.0</td>\n",
              "      <td>0</td>\n",
              "      <td>0.0</td>\n",
              "      <td>621.0</td>\n",
              "      <td>NaN</td>\n",
              "      <td>NaN</td>\n",
              "      <td>NaN</td>\n",
              "      <td>NaN</td>\n",
              "      <td>NaN</td>\n",
              "      <td>0 days 00:00:09</td>\n",
              "    </tr>\n",
              "    <tr>\n",
              "      <th>1</th>\n",
              "      <td>2021-01-26 02:33:16</td>\n",
              "      <td>2021-01-26 00:00:00</td>\n",
              "      <td>2021-01-26 02:33:57</td>\n",
              "      <td>2021-01-26 02:34:45</td>\n",
              "      <td>18117</td>\n",
              "      <td>2.5207</td>\n",
              "      <td>2.76</td>\n",
              "      <td>8.0</td>\n",
              "      <td>8.0</td>\n",
              "      <td>0</td>\n",
              "      <td>0.0</td>\n",
              "      <td>105.0</td>\n",
              "      <td>NaN</td>\n",
              "      <td>NaN</td>\n",
              "      <td>NaN</td>\n",
              "      <td>3.266667</td>\n",
              "      <td>NaN</td>\n",
              "      <td>0 days 00:00:48</td>\n",
              "    </tr>\n",
              "    <tr>\n",
              "      <th>2</th>\n",
              "      <td>2021-01-26 02:39:49</td>\n",
              "      <td>2021-01-26 00:00:00</td>\n",
              "      <td>2021-01-26 02:39:57</td>\n",
              "      <td>2021-01-26 02:40:13</td>\n",
              "      <td>18623</td>\n",
              "      <td>2.2074</td>\n",
              "      <td>4.80</td>\n",
              "      <td>1.0</td>\n",
              "      <td>1.0</td>\n",
              "      <td>0</td>\n",
              "      <td>0.0</td>\n",
              "      <td>66.0</td>\n",
              "      <td>NaN</td>\n",
              "      <td>NaN</td>\n",
              "      <td>NaN</td>\n",
              "      <td>9.816667</td>\n",
              "      <td>NaN</td>\n",
              "      <td>0 days 00:00:16</td>\n",
              "    </tr>\n",
              "    <tr>\n",
              "      <th>3</th>\n",
              "      <td>2021-01-26 02:47:53</td>\n",
              "      <td>2021-01-26 00:00:00</td>\n",
              "      <td>2021-01-26 02:48:25</td>\n",
              "      <td>2021-01-26 02:49:06</td>\n",
              "      <td>15945</td>\n",
              "      <td>2.1894</td>\n",
              "      <td>6.38</td>\n",
              "      <td>1.0</td>\n",
              "      <td>1.0</td>\n",
              "      <td>0</td>\n",
              "      <td>0.0</td>\n",
              "      <td>127.0</td>\n",
              "      <td>NaN</td>\n",
              "      <td>NaN</td>\n",
              "      <td>NaN</td>\n",
              "      <td>17.533333</td>\n",
              "      <td>NaN</td>\n",
              "      <td>0 days 00:00:41</td>\n",
              "    </tr>\n",
              "    <tr>\n",
              "      <th>4</th>\n",
              "      <td>2021-01-26 03:06:30</td>\n",
              "      <td>2021-01-26 00:00:00</td>\n",
              "      <td>2021-01-26 03:07:21</td>\n",
              "      <td>2021-01-26 03:07:57</td>\n",
              "      <td>17589</td>\n",
              "      <td>2.7870</td>\n",
              "      <td>4.01</td>\n",
              "      <td>34.0</td>\n",
              "      <td>34.0</td>\n",
              "      <td>0</td>\n",
              "      <td>0.0</td>\n",
              "      <td>84.0</td>\n",
              "      <td>NaN</td>\n",
              "      <td>NaN</td>\n",
              "      <td>NaN</td>\n",
              "      <td>1.350000</td>\n",
              "      <td>NaN</td>\n",
              "      <td>0 days 00:00:36</td>\n",
              "    </tr>\n",
              "  </tbody>\n",
              "</table>\n",
              "</div>\n",
              "      <button class=\"colab-df-convert\" onclick=\"convertToInteractive('df-7d41e24f-b278-4de7-8e03-33cd9c16b1ea')\"\n",
              "              title=\"Convert this dataframe to an interactive table.\"\n",
              "              style=\"display:none;\">\n",
              "        \n",
              "  <svg xmlns=\"http://www.w3.org/2000/svg\" height=\"24px\"viewBox=\"0 0 24 24\"\n",
              "       width=\"24px\">\n",
              "    <path d=\"M0 0h24v24H0V0z\" fill=\"none\"/>\n",
              "    <path d=\"M18.56 5.44l.94 2.06.94-2.06 2.06-.94-2.06-.94-.94-2.06-.94 2.06-2.06.94zm-11 1L8.5 8.5l.94-2.06 2.06-.94-2.06-.94L8.5 2.5l-.94 2.06-2.06.94zm10 10l.94 2.06.94-2.06 2.06-.94-2.06-.94-.94-2.06-.94 2.06-2.06.94z\"/><path d=\"M17.41 7.96l-1.37-1.37c-.4-.4-.92-.59-1.43-.59-.52 0-1.04.2-1.43.59L10.3 9.45l-7.72 7.72c-.78.78-.78 2.05 0 2.83L4 21.41c.39.39.9.59 1.41.59.51 0 1.02-.2 1.41-.59l7.78-7.78 2.81-2.81c.8-.78.8-2.07 0-2.86zM5.41 20L4 18.59l7.72-7.72 1.47 1.35L5.41 20z\"/>\n",
              "  </svg>\n",
              "      </button>\n",
              "      \n",
              "  <style>\n",
              "    .colab-df-container {\n",
              "      display:flex;\n",
              "      flex-wrap:wrap;\n",
              "      gap: 12px;\n",
              "    }\n",
              "\n",
              "    .colab-df-convert {\n",
              "      background-color: #E8F0FE;\n",
              "      border: none;\n",
              "      border-radius: 50%;\n",
              "      cursor: pointer;\n",
              "      display: none;\n",
              "      fill: #1967D2;\n",
              "      height: 32px;\n",
              "      padding: 0 0 0 0;\n",
              "      width: 32px;\n",
              "    }\n",
              "\n",
              "    .colab-df-convert:hover {\n",
              "      background-color: #E2EBFA;\n",
              "      box-shadow: 0px 1px 2px rgba(60, 64, 67, 0.3), 0px 1px 3px 1px rgba(60, 64, 67, 0.15);\n",
              "      fill: #174EA6;\n",
              "    }\n",
              "\n",
              "    [theme=dark] .colab-df-convert {\n",
              "      background-color: #3B4455;\n",
              "      fill: #D2E3FC;\n",
              "    }\n",
              "\n",
              "    [theme=dark] .colab-df-convert:hover {\n",
              "      background-color: #434B5C;\n",
              "      box-shadow: 0px 1px 3px 1px rgba(0, 0, 0, 0.15);\n",
              "      filter: drop-shadow(0px 1px 2px rgba(0, 0, 0, 0.3));\n",
              "      fill: #FFFFFF;\n",
              "    }\n",
              "  </style>\n",
              "\n",
              "      <script>\n",
              "        const buttonEl =\n",
              "          document.querySelector('#df-7d41e24f-b278-4de7-8e03-33cd9c16b1ea button.colab-df-convert');\n",
              "        buttonEl.style.display =\n",
              "          google.colab.kernel.accessAllowed ? 'block' : 'none';\n",
              "\n",
              "        async function convertToInteractive(key) {\n",
              "          const element = document.querySelector('#df-7d41e24f-b278-4de7-8e03-33cd9c16b1ea');\n",
              "          const dataTable =\n",
              "            await google.colab.kernel.invokeFunction('convertToInteractive',\n",
              "                                                     [key], {});\n",
              "          if (!dataTable) return;\n",
              "\n",
              "          const docLinkHtml = 'Like what you see? Visit the ' +\n",
              "            '<a target=\"_blank\" href=https://colab.research.google.com/notebooks/data_table.ipynb>data table notebook</a>'\n",
              "            + ' to learn more about interactive tables.';\n",
              "          element.innerHTML = '';\n",
              "          dataTable['output_type'] = 'display_data';\n",
              "          await google.colab.output.renderOutput(dataTable, element);\n",
              "          const docLink = document.createElement('div');\n",
              "          docLink.innerHTML = docLinkHtml;\n",
              "          element.appendChild(docLink);\n",
              "        }\n",
              "      </script>\n",
              "    </div>\n",
              "  </div>\n",
              "  "
            ],
            "text/plain": [
              "            order_time           order_date  ... cancelled_time accept_to_allot\n",
              "0  2021-01-26 02:21:35  2021-01-26 00:00:00  ...            NaN 0 days 00:00:09\n",
              "1  2021-01-26 02:33:16  2021-01-26 00:00:00  ...            NaN 0 days 00:00:48\n",
              "2  2021-01-26 02:39:49  2021-01-26 00:00:00  ...            NaN 0 days 00:00:16\n",
              "3  2021-01-26 02:47:53  2021-01-26 00:00:00  ...            NaN 0 days 00:00:41\n",
              "4  2021-01-26 03:06:30  2021-01-26 00:00:00  ...            NaN 0 days 00:00:36\n",
              "\n",
              "[5 rows x 18 columns]"
            ]
          },
          "metadata": {},
          "execution_count": 91
        }
      ]
    },
    {
      "cell_type": "code",
      "source": [
        "for col in df.columns:  \n",
        "    dataTypeSeries = df[col].dtypes\n",
        "    print('Data type of '+ col+ ' column of Dataframe :')\n",
        "    print(dataTypeSeries)"
      ],
      "metadata": {
        "id": "QzNCmtD6vb1p",
        "outputId": "3a5fe373-3c2e-48d0-d162-9534821c7eec",
        "colab": {
          "base_uri": "https://localhost:8080/"
        }
      },
      "execution_count": 92,
      "outputs": [
        {
          "output_type": "stream",
          "name": "stdout",
          "text": [
            "Data type of order_time column of Dataframe :\n",
            "object\n",
            "Data type of order_date column of Dataframe :\n",
            "object\n",
            "Data type of allot_time column of Dataframe :\n",
            "datetime64[ns]\n",
            "Data type of accept_time column of Dataframe :\n",
            "datetime64[ns]\n",
            "Data type of rider_id column of Dataframe :\n",
            "int64\n",
            "Data type of first_mile_distance column of Dataframe :\n",
            "float64\n",
            "Data type of last_mile_distance column of Dataframe :\n",
            "float64\n",
            "Data type of alloted_orders column of Dataframe :\n",
            "float64\n",
            "Data type of delivered_orders column of Dataframe :\n",
            "float64\n",
            "Data type of cancelled column of Dataframe :\n",
            "int64\n",
            "Data type of undelivered_orders column of Dataframe :\n",
            "float64\n",
            "Data type of lifetime_order_count column of Dataframe :\n",
            "float64\n",
            "Data type of reassignment_method column of Dataframe :\n",
            "object\n",
            "Data type of reassignment_reason column of Dataframe :\n",
            "object\n",
            "Data type of reassigned_order column of Dataframe :\n",
            "float64\n",
            "Data type of session_time column of Dataframe :\n",
            "float64\n",
            "Data type of cancelled_time column of Dataframe :\n",
            "object\n",
            "Data type of accept_to_allot column of Dataframe :\n",
            "timedelta64[ns]\n"
          ]
        }
      ]
    },
    {
      "cell_type": "code",
      "source": [
        "df['accept_sec'] = df[:5]['accept_to_allot'].astype('timedelta64[s]')\n",
        "df_test['accept_sec'] = df_test[:5]['accept_to_allot'].astype('timedelta64[s]')"
      ],
      "metadata": {
        "id": "fbQpeaY1qiOb"
      },
      "execution_count": 93,
      "outputs": []
    },
    {
      "cell_type": "code",
      "source": [
        "df.head()"
      ],
      "metadata": {
        "id": "Yn9jC0k2rCT8",
        "outputId": "3e1b6028-9b6a-4f00-fea8-7beeb7d480cc",
        "colab": {
          "base_uri": "https://localhost:8080/",
          "height": 357
        }
      },
      "execution_count": 94,
      "outputs": [
        {
          "output_type": "execute_result",
          "data": {
            "text/html": [
              "\n",
              "  <div id=\"df-998c1eda-4f43-4f98-b0cd-20b79f779b24\">\n",
              "    <div class=\"colab-df-container\">\n",
              "      <div>\n",
              "<style scoped>\n",
              "    .dataframe tbody tr th:only-of-type {\n",
              "        vertical-align: middle;\n",
              "    }\n",
              "\n",
              "    .dataframe tbody tr th {\n",
              "        vertical-align: top;\n",
              "    }\n",
              "\n",
              "    .dataframe thead th {\n",
              "        text-align: right;\n",
              "    }\n",
              "</style>\n",
              "<table border=\"1\" class=\"dataframe\">\n",
              "  <thead>\n",
              "    <tr style=\"text-align: right;\">\n",
              "      <th></th>\n",
              "      <th>order_time</th>\n",
              "      <th>order_date</th>\n",
              "      <th>allot_time</th>\n",
              "      <th>accept_time</th>\n",
              "      <th>rider_id</th>\n",
              "      <th>first_mile_distance</th>\n",
              "      <th>last_mile_distance</th>\n",
              "      <th>alloted_orders</th>\n",
              "      <th>delivered_orders</th>\n",
              "      <th>cancelled</th>\n",
              "      <th>undelivered_orders</th>\n",
              "      <th>lifetime_order_count</th>\n",
              "      <th>reassignment_method</th>\n",
              "      <th>reassignment_reason</th>\n",
              "      <th>reassigned_order</th>\n",
              "      <th>session_time</th>\n",
              "      <th>cancelled_time</th>\n",
              "      <th>accept_to_allot</th>\n",
              "      <th>accept_sec</th>\n",
              "    </tr>\n",
              "  </thead>\n",
              "  <tbody>\n",
              "    <tr>\n",
              "      <th>0</th>\n",
              "      <td>2021-01-26 02:21:35</td>\n",
              "      <td>2021-01-26 00:00:00</td>\n",
              "      <td>2021-01-26 02:21:59</td>\n",
              "      <td>2021-01-26 02:22:08</td>\n",
              "      <td>11696</td>\n",
              "      <td>1.5666</td>\n",
              "      <td>2.65</td>\n",
              "      <td>46.0</td>\n",
              "      <td>46.0</td>\n",
              "      <td>0</td>\n",
              "      <td>0.0</td>\n",
              "      <td>621.0</td>\n",
              "      <td>NaN</td>\n",
              "      <td>NaN</td>\n",
              "      <td>NaN</td>\n",
              "      <td>NaN</td>\n",
              "      <td>NaN</td>\n",
              "      <td>0 days 00:00:09</td>\n",
              "      <td>9.0</td>\n",
              "    </tr>\n",
              "    <tr>\n",
              "      <th>1</th>\n",
              "      <td>2021-01-26 02:33:16</td>\n",
              "      <td>2021-01-26 00:00:00</td>\n",
              "      <td>2021-01-26 02:33:57</td>\n",
              "      <td>2021-01-26 02:34:45</td>\n",
              "      <td>18117</td>\n",
              "      <td>2.5207</td>\n",
              "      <td>2.76</td>\n",
              "      <td>8.0</td>\n",
              "      <td>8.0</td>\n",
              "      <td>0</td>\n",
              "      <td>0.0</td>\n",
              "      <td>105.0</td>\n",
              "      <td>NaN</td>\n",
              "      <td>NaN</td>\n",
              "      <td>NaN</td>\n",
              "      <td>3.266667</td>\n",
              "      <td>NaN</td>\n",
              "      <td>0 days 00:00:48</td>\n",
              "      <td>48.0</td>\n",
              "    </tr>\n",
              "    <tr>\n",
              "      <th>2</th>\n",
              "      <td>2021-01-26 02:39:49</td>\n",
              "      <td>2021-01-26 00:00:00</td>\n",
              "      <td>2021-01-26 02:39:57</td>\n",
              "      <td>2021-01-26 02:40:13</td>\n",
              "      <td>18623</td>\n",
              "      <td>2.2074</td>\n",
              "      <td>4.80</td>\n",
              "      <td>1.0</td>\n",
              "      <td>1.0</td>\n",
              "      <td>0</td>\n",
              "      <td>0.0</td>\n",
              "      <td>66.0</td>\n",
              "      <td>NaN</td>\n",
              "      <td>NaN</td>\n",
              "      <td>NaN</td>\n",
              "      <td>9.816667</td>\n",
              "      <td>NaN</td>\n",
              "      <td>0 days 00:00:16</td>\n",
              "      <td>16.0</td>\n",
              "    </tr>\n",
              "    <tr>\n",
              "      <th>3</th>\n",
              "      <td>2021-01-26 02:47:53</td>\n",
              "      <td>2021-01-26 00:00:00</td>\n",
              "      <td>2021-01-26 02:48:25</td>\n",
              "      <td>2021-01-26 02:49:06</td>\n",
              "      <td>15945</td>\n",
              "      <td>2.1894</td>\n",
              "      <td>6.38</td>\n",
              "      <td>1.0</td>\n",
              "      <td>1.0</td>\n",
              "      <td>0</td>\n",
              "      <td>0.0</td>\n",
              "      <td>127.0</td>\n",
              "      <td>NaN</td>\n",
              "      <td>NaN</td>\n",
              "      <td>NaN</td>\n",
              "      <td>17.533333</td>\n",
              "      <td>NaN</td>\n",
              "      <td>0 days 00:00:41</td>\n",
              "      <td>41.0</td>\n",
              "    </tr>\n",
              "    <tr>\n",
              "      <th>4</th>\n",
              "      <td>2021-01-26 03:06:30</td>\n",
              "      <td>2021-01-26 00:00:00</td>\n",
              "      <td>2021-01-26 03:07:21</td>\n",
              "      <td>2021-01-26 03:07:57</td>\n",
              "      <td>17589</td>\n",
              "      <td>2.7870</td>\n",
              "      <td>4.01</td>\n",
              "      <td>34.0</td>\n",
              "      <td>34.0</td>\n",
              "      <td>0</td>\n",
              "      <td>0.0</td>\n",
              "      <td>84.0</td>\n",
              "      <td>NaN</td>\n",
              "      <td>NaN</td>\n",
              "      <td>NaN</td>\n",
              "      <td>1.350000</td>\n",
              "      <td>NaN</td>\n",
              "      <td>0 days 00:00:36</td>\n",
              "      <td>36.0</td>\n",
              "    </tr>\n",
              "  </tbody>\n",
              "</table>\n",
              "</div>\n",
              "      <button class=\"colab-df-convert\" onclick=\"convertToInteractive('df-998c1eda-4f43-4f98-b0cd-20b79f779b24')\"\n",
              "              title=\"Convert this dataframe to an interactive table.\"\n",
              "              style=\"display:none;\">\n",
              "        \n",
              "  <svg xmlns=\"http://www.w3.org/2000/svg\" height=\"24px\"viewBox=\"0 0 24 24\"\n",
              "       width=\"24px\">\n",
              "    <path d=\"M0 0h24v24H0V0z\" fill=\"none\"/>\n",
              "    <path d=\"M18.56 5.44l.94 2.06.94-2.06 2.06-.94-2.06-.94-.94-2.06-.94 2.06-2.06.94zm-11 1L8.5 8.5l.94-2.06 2.06-.94-2.06-.94L8.5 2.5l-.94 2.06-2.06.94zm10 10l.94 2.06.94-2.06 2.06-.94-2.06-.94-.94-2.06-.94 2.06-2.06.94z\"/><path d=\"M17.41 7.96l-1.37-1.37c-.4-.4-.92-.59-1.43-.59-.52 0-1.04.2-1.43.59L10.3 9.45l-7.72 7.72c-.78.78-.78 2.05 0 2.83L4 21.41c.39.39.9.59 1.41.59.51 0 1.02-.2 1.41-.59l7.78-7.78 2.81-2.81c.8-.78.8-2.07 0-2.86zM5.41 20L4 18.59l7.72-7.72 1.47 1.35L5.41 20z\"/>\n",
              "  </svg>\n",
              "      </button>\n",
              "      \n",
              "  <style>\n",
              "    .colab-df-container {\n",
              "      display:flex;\n",
              "      flex-wrap:wrap;\n",
              "      gap: 12px;\n",
              "    }\n",
              "\n",
              "    .colab-df-convert {\n",
              "      background-color: #E8F0FE;\n",
              "      border: none;\n",
              "      border-radius: 50%;\n",
              "      cursor: pointer;\n",
              "      display: none;\n",
              "      fill: #1967D2;\n",
              "      height: 32px;\n",
              "      padding: 0 0 0 0;\n",
              "      width: 32px;\n",
              "    }\n",
              "\n",
              "    .colab-df-convert:hover {\n",
              "      background-color: #E2EBFA;\n",
              "      box-shadow: 0px 1px 2px rgba(60, 64, 67, 0.3), 0px 1px 3px 1px rgba(60, 64, 67, 0.15);\n",
              "      fill: #174EA6;\n",
              "    }\n",
              "\n",
              "    [theme=dark] .colab-df-convert {\n",
              "      background-color: #3B4455;\n",
              "      fill: #D2E3FC;\n",
              "    }\n",
              "\n",
              "    [theme=dark] .colab-df-convert:hover {\n",
              "      background-color: #434B5C;\n",
              "      box-shadow: 0px 1px 3px 1px rgba(0, 0, 0, 0.15);\n",
              "      filter: drop-shadow(0px 1px 2px rgba(0, 0, 0, 0.3));\n",
              "      fill: #FFFFFF;\n",
              "    }\n",
              "  </style>\n",
              "\n",
              "      <script>\n",
              "        const buttonEl =\n",
              "          document.querySelector('#df-998c1eda-4f43-4f98-b0cd-20b79f779b24 button.colab-df-convert');\n",
              "        buttonEl.style.display =\n",
              "          google.colab.kernel.accessAllowed ? 'block' : 'none';\n",
              "\n",
              "        async function convertToInteractive(key) {\n",
              "          const element = document.querySelector('#df-998c1eda-4f43-4f98-b0cd-20b79f779b24');\n",
              "          const dataTable =\n",
              "            await google.colab.kernel.invokeFunction('convertToInteractive',\n",
              "                                                     [key], {});\n",
              "          if (!dataTable) return;\n",
              "\n",
              "          const docLinkHtml = 'Like what you see? Visit the ' +\n",
              "            '<a target=\"_blank\" href=https://colab.research.google.com/notebooks/data_table.ipynb>data table notebook</a>'\n",
              "            + ' to learn more about interactive tables.';\n",
              "          element.innerHTML = '';\n",
              "          dataTable['output_type'] = 'display_data';\n",
              "          await google.colab.output.renderOutput(dataTable, element);\n",
              "          const docLink = document.createElement('div');\n",
              "          docLink.innerHTML = docLinkHtml;\n",
              "          element.appendChild(docLink);\n",
              "        }\n",
              "      </script>\n",
              "    </div>\n",
              "  </div>\n",
              "  "
            ],
            "text/plain": [
              "            order_time           order_date  ... accept_to_allot accept_sec\n",
              "0  2021-01-26 02:21:35  2021-01-26 00:00:00  ... 0 days 00:00:09        9.0\n",
              "1  2021-01-26 02:33:16  2021-01-26 00:00:00  ... 0 days 00:00:48       48.0\n",
              "2  2021-01-26 02:39:49  2021-01-26 00:00:00  ... 0 days 00:00:16       16.0\n",
              "3  2021-01-26 02:47:53  2021-01-26 00:00:00  ... 0 days 00:00:41       41.0\n",
              "4  2021-01-26 03:06:30  2021-01-26 00:00:00  ... 0 days 00:00:36       36.0\n",
              "\n",
              "[5 rows x 19 columns]"
            ]
          },
          "metadata": {},
          "execution_count": 94
        }
      ]
    },
    {
      "cell_type": "code",
      "source": [
        "df_test.head()"
      ],
      "metadata": {
        "id": "402504nrrjdI",
        "outputId": "4713818b-91c4-4482-e341-f065293252cb",
        "colab": {
          "base_uri": "https://localhost:8080/",
          "height": 357
        }
      },
      "execution_count": 95,
      "outputs": [
        {
          "output_type": "execute_result",
          "data": {
            "text/html": [
              "\n",
              "  <div id=\"df-727801c3-7fab-4943-aad1-e969ffb11bc4\">\n",
              "    <div class=\"colab-df-container\">\n",
              "      <div>\n",
              "<style scoped>\n",
              "    .dataframe tbody tr th:only-of-type {\n",
              "        vertical-align: middle;\n",
              "    }\n",
              "\n",
              "    .dataframe tbody tr th {\n",
              "        vertical-align: top;\n",
              "    }\n",
              "\n",
              "    .dataframe thead th {\n",
              "        text-align: right;\n",
              "    }\n",
              "</style>\n",
              "<table border=\"1\" class=\"dataframe\">\n",
              "  <thead>\n",
              "    <tr style=\"text-align: right;\">\n",
              "      <th></th>\n",
              "      <th>order_time</th>\n",
              "      <th>order_date</th>\n",
              "      <th>allot_time</th>\n",
              "      <th>accept_time</th>\n",
              "      <th>rider_id</th>\n",
              "      <th>first_mile_distance</th>\n",
              "      <th>last_mile_distance</th>\n",
              "      <th>alloted_orders</th>\n",
              "      <th>delivered_orders</th>\n",
              "      <th>undelivered_orders</th>\n",
              "      <th>lifetime_order_count</th>\n",
              "      <th>reassignment_method</th>\n",
              "      <th>reassignment_reason</th>\n",
              "      <th>reassigned_order</th>\n",
              "      <th>session_time</th>\n",
              "      <th>accept_to_allot</th>\n",
              "      <th>accept_sec</th>\n",
              "    </tr>\n",
              "  </thead>\n",
              "  <tbody>\n",
              "    <tr>\n",
              "      <th>0</th>\n",
              "      <td>2021-02-06 10:03:24</td>\n",
              "      <td>2021-02-06 00:00:00</td>\n",
              "      <td>2021-02-06 10:03:49</td>\n",
              "      <td>2021-02-06 10:04:15</td>\n",
              "      <td>12884</td>\n",
              "      <td>1.6585</td>\n",
              "      <td>4.54</td>\n",
              "      <td>216.0</td>\n",
              "      <td>215.0</td>\n",
              "      <td>1.0</td>\n",
              "      <td>747.0</td>\n",
              "      <td>NaN</td>\n",
              "      <td>NaN</td>\n",
              "      <td>NaN</td>\n",
              "      <td>273.400000</td>\n",
              "      <td>0 days 00:00:26</td>\n",
              "      <td>26.0</td>\n",
              "    </tr>\n",
              "    <tr>\n",
              "      <th>1</th>\n",
              "      <td>2021-02-06 10:03:26</td>\n",
              "      <td>2021-02-06 00:00:00</td>\n",
              "      <td>2021-02-06 10:03:27</td>\n",
              "      <td>2021-02-06 10:03:36</td>\n",
              "      <td>3541</td>\n",
              "      <td>2.0709</td>\n",
              "      <td>5.84</td>\n",
              "      <td>52.0</td>\n",
              "      <td>52.0</td>\n",
              "      <td>0.0</td>\n",
              "      <td>75.0</td>\n",
              "      <td>NaN</td>\n",
              "      <td>NaN</td>\n",
              "      <td>NaN</td>\n",
              "      <td>252.100000</td>\n",
              "      <td>0 days 00:00:09</td>\n",
              "      <td>9.0</td>\n",
              "    </tr>\n",
              "    <tr>\n",
              "      <th>2</th>\n",
              "      <td>2021-02-06 10:03:27</td>\n",
              "      <td>2021-02-06 00:00:00</td>\n",
              "      <td>2021-02-06 10:04:14</td>\n",
              "      <td>2021-02-06 10:05:34</td>\n",
              "      <td>603</td>\n",
              "      <td>1.3884</td>\n",
              "      <td>0.99</td>\n",
              "      <td>289.0</td>\n",
              "      <td>289.0</td>\n",
              "      <td>0.0</td>\n",
              "      <td>2214.0</td>\n",
              "      <td>NaN</td>\n",
              "      <td>NaN</td>\n",
              "      <td>NaN</td>\n",
              "      <td>241.383333</td>\n",
              "      <td>0 days 00:01:20</td>\n",
              "      <td>80.0</td>\n",
              "    </tr>\n",
              "    <tr>\n",
              "      <th>3</th>\n",
              "      <td>2021-02-06 10:03:29</td>\n",
              "      <td>2021-02-06 00:00:00</td>\n",
              "      <td>2021-02-06 10:03:30</td>\n",
              "      <td>2021-02-06 10:03:53</td>\n",
              "      <td>3414</td>\n",
              "      <td>1.9039</td>\n",
              "      <td>2.59</td>\n",
              "      <td>125.0</td>\n",
              "      <td>122.0</td>\n",
              "      <td>3.0</td>\n",
              "      <td>1020.0</td>\n",
              "      <td>NaN</td>\n",
              "      <td>NaN</td>\n",
              "      <td>NaN</td>\n",
              "      <td>291.933333</td>\n",
              "      <td>0 days 00:00:23</td>\n",
              "      <td>23.0</td>\n",
              "    </tr>\n",
              "    <tr>\n",
              "      <th>4</th>\n",
              "      <td>2021-02-06 10:03:35</td>\n",
              "      <td>2021-02-06 00:00:00</td>\n",
              "      <td>2021-02-06 10:03:43</td>\n",
              "      <td>2021-02-06 10:04:43</td>\n",
              "      <td>1426</td>\n",
              "      <td>0.8275</td>\n",
              "      <td>0.94</td>\n",
              "      <td>352.0</td>\n",
              "      <td>350.0</td>\n",
              "      <td>2.0</td>\n",
              "      <td>7284.0</td>\n",
              "      <td>NaN</td>\n",
              "      <td>NaN</td>\n",
              "      <td>NaN</td>\n",
              "      <td>247.133333</td>\n",
              "      <td>0 days 00:01:00</td>\n",
              "      <td>60.0</td>\n",
              "    </tr>\n",
              "  </tbody>\n",
              "</table>\n",
              "</div>\n",
              "      <button class=\"colab-df-convert\" onclick=\"convertToInteractive('df-727801c3-7fab-4943-aad1-e969ffb11bc4')\"\n",
              "              title=\"Convert this dataframe to an interactive table.\"\n",
              "              style=\"display:none;\">\n",
              "        \n",
              "  <svg xmlns=\"http://www.w3.org/2000/svg\" height=\"24px\"viewBox=\"0 0 24 24\"\n",
              "       width=\"24px\">\n",
              "    <path d=\"M0 0h24v24H0V0z\" fill=\"none\"/>\n",
              "    <path d=\"M18.56 5.44l.94 2.06.94-2.06 2.06-.94-2.06-.94-.94-2.06-.94 2.06-2.06.94zm-11 1L8.5 8.5l.94-2.06 2.06-.94-2.06-.94L8.5 2.5l-.94 2.06-2.06.94zm10 10l.94 2.06.94-2.06 2.06-.94-2.06-.94-.94-2.06-.94 2.06-2.06.94z\"/><path d=\"M17.41 7.96l-1.37-1.37c-.4-.4-.92-.59-1.43-.59-.52 0-1.04.2-1.43.59L10.3 9.45l-7.72 7.72c-.78.78-.78 2.05 0 2.83L4 21.41c.39.39.9.59 1.41.59.51 0 1.02-.2 1.41-.59l7.78-7.78 2.81-2.81c.8-.78.8-2.07 0-2.86zM5.41 20L4 18.59l7.72-7.72 1.47 1.35L5.41 20z\"/>\n",
              "  </svg>\n",
              "      </button>\n",
              "      \n",
              "  <style>\n",
              "    .colab-df-container {\n",
              "      display:flex;\n",
              "      flex-wrap:wrap;\n",
              "      gap: 12px;\n",
              "    }\n",
              "\n",
              "    .colab-df-convert {\n",
              "      background-color: #E8F0FE;\n",
              "      border: none;\n",
              "      border-radius: 50%;\n",
              "      cursor: pointer;\n",
              "      display: none;\n",
              "      fill: #1967D2;\n",
              "      height: 32px;\n",
              "      padding: 0 0 0 0;\n",
              "      width: 32px;\n",
              "    }\n",
              "\n",
              "    .colab-df-convert:hover {\n",
              "      background-color: #E2EBFA;\n",
              "      box-shadow: 0px 1px 2px rgba(60, 64, 67, 0.3), 0px 1px 3px 1px rgba(60, 64, 67, 0.15);\n",
              "      fill: #174EA6;\n",
              "    }\n",
              "\n",
              "    [theme=dark] .colab-df-convert {\n",
              "      background-color: #3B4455;\n",
              "      fill: #D2E3FC;\n",
              "    }\n",
              "\n",
              "    [theme=dark] .colab-df-convert:hover {\n",
              "      background-color: #434B5C;\n",
              "      box-shadow: 0px 1px 3px 1px rgba(0, 0, 0, 0.15);\n",
              "      filter: drop-shadow(0px 1px 2px rgba(0, 0, 0, 0.3));\n",
              "      fill: #FFFFFF;\n",
              "    }\n",
              "  </style>\n",
              "\n",
              "      <script>\n",
              "        const buttonEl =\n",
              "          document.querySelector('#df-727801c3-7fab-4943-aad1-e969ffb11bc4 button.colab-df-convert');\n",
              "        buttonEl.style.display =\n",
              "          google.colab.kernel.accessAllowed ? 'block' : 'none';\n",
              "\n",
              "        async function convertToInteractive(key) {\n",
              "          const element = document.querySelector('#df-727801c3-7fab-4943-aad1-e969ffb11bc4');\n",
              "          const dataTable =\n",
              "            await google.colab.kernel.invokeFunction('convertToInteractive',\n",
              "                                                     [key], {});\n",
              "          if (!dataTable) return;\n",
              "\n",
              "          const docLinkHtml = 'Like what you see? Visit the ' +\n",
              "            '<a target=\"_blank\" href=https://colab.research.google.com/notebooks/data_table.ipynb>data table notebook</a>'\n",
              "            + ' to learn more about interactive tables.';\n",
              "          element.innerHTML = '';\n",
              "          dataTable['output_type'] = 'display_data';\n",
              "          await google.colab.output.renderOutput(dataTable, element);\n",
              "          const docLink = document.createElement('div');\n",
              "          docLink.innerHTML = docLinkHtml;\n",
              "          element.appendChild(docLink);\n",
              "        }\n",
              "      </script>\n",
              "    </div>\n",
              "  </div>\n",
              "  "
            ],
            "text/plain": [
              "            order_time           order_date  ... accept_to_allot accept_sec\n",
              "0  2021-02-06 10:03:24  2021-02-06 00:00:00  ... 0 days 00:00:26       26.0\n",
              "1  2021-02-06 10:03:26  2021-02-06 00:00:00  ... 0 days 00:00:09        9.0\n",
              "2  2021-02-06 10:03:27  2021-02-06 00:00:00  ... 0 days 00:01:20       80.0\n",
              "3  2021-02-06 10:03:29  2021-02-06 00:00:00  ... 0 days 00:00:23       23.0\n",
              "4  2021-02-06 10:03:35  2021-02-06 00:00:00  ... 0 days 00:01:00       60.0\n",
              "\n",
              "[5 rows x 17 columns]"
            ]
          },
          "metadata": {},
          "execution_count": 95
        }
      ]
    },
    {
      "cell_type": "code",
      "source": [
        "#creating the datetime column\n",
        "df['order_time'] = pd.to_datetime(df['order_time'].str.strip(), format='%Y/%m/%d %H:%M:%S')\n",
        "df_test['order_time'] = pd.to_datetime(df_test['order_time'].str.strip(), format='%Y/%m/%d %H:%M:%S')"
      ],
      "metadata": {
        "id": "tkivqGLHs216"
      },
      "execution_count": 96,
      "outputs": []
    },
    {
      "cell_type": "code",
      "source": [
        "df['order_to_allot'] = (df['accept_time'] - df['order_time'])\n",
        "df_test['order_to_allot'] = (df_test['accept_time'] - df_test['order_time'])"
      ],
      "metadata": {
        "id": "FpMD1raerPk3"
      },
      "execution_count": 97,
      "outputs": []
    },
    {
      "cell_type": "code",
      "source": [
        "df['order_sec'] = df[:5]['order_to_allot'].astype('timedelta64[s]')\n",
        "df_test['order_sec'] = df_test[:5]['order_to_allot'].astype('timedelta64[s]')"
      ],
      "metadata": {
        "id": "vOzytt0ex-7_"
      },
      "execution_count": 98,
      "outputs": []
    },
    {
      "cell_type": "code",
      "source": [
        "df.head()"
      ],
      "metadata": {
        "id": "iPmRJ_5FyLg6",
        "outputId": "16400303-898a-4874-e669-9f894714e283",
        "colab": {
          "base_uri": "https://localhost:8080/",
          "height": 357
        }
      },
      "execution_count": 99,
      "outputs": [
        {
          "output_type": "execute_result",
          "data": {
            "text/html": [
              "\n",
              "  <div id=\"df-69a96f1a-391d-4ffa-b33c-e25ea19d9613\">\n",
              "    <div class=\"colab-df-container\">\n",
              "      <div>\n",
              "<style scoped>\n",
              "    .dataframe tbody tr th:only-of-type {\n",
              "        vertical-align: middle;\n",
              "    }\n",
              "\n",
              "    .dataframe tbody tr th {\n",
              "        vertical-align: top;\n",
              "    }\n",
              "\n",
              "    .dataframe thead th {\n",
              "        text-align: right;\n",
              "    }\n",
              "</style>\n",
              "<table border=\"1\" class=\"dataframe\">\n",
              "  <thead>\n",
              "    <tr style=\"text-align: right;\">\n",
              "      <th></th>\n",
              "      <th>order_time</th>\n",
              "      <th>order_date</th>\n",
              "      <th>allot_time</th>\n",
              "      <th>accept_time</th>\n",
              "      <th>rider_id</th>\n",
              "      <th>first_mile_distance</th>\n",
              "      <th>last_mile_distance</th>\n",
              "      <th>alloted_orders</th>\n",
              "      <th>delivered_orders</th>\n",
              "      <th>cancelled</th>\n",
              "      <th>undelivered_orders</th>\n",
              "      <th>lifetime_order_count</th>\n",
              "      <th>reassignment_method</th>\n",
              "      <th>reassignment_reason</th>\n",
              "      <th>reassigned_order</th>\n",
              "      <th>session_time</th>\n",
              "      <th>cancelled_time</th>\n",
              "      <th>accept_to_allot</th>\n",
              "      <th>accept_sec</th>\n",
              "      <th>order_to_allot</th>\n",
              "      <th>order_sec</th>\n",
              "    </tr>\n",
              "  </thead>\n",
              "  <tbody>\n",
              "    <tr>\n",
              "      <th>0</th>\n",
              "      <td>2021-01-26 02:21:35</td>\n",
              "      <td>2021-01-26 00:00:00</td>\n",
              "      <td>2021-01-26 02:21:59</td>\n",
              "      <td>2021-01-26 02:22:08</td>\n",
              "      <td>11696</td>\n",
              "      <td>1.5666</td>\n",
              "      <td>2.65</td>\n",
              "      <td>46.0</td>\n",
              "      <td>46.0</td>\n",
              "      <td>0</td>\n",
              "      <td>0.0</td>\n",
              "      <td>621.0</td>\n",
              "      <td>NaN</td>\n",
              "      <td>NaN</td>\n",
              "      <td>NaN</td>\n",
              "      <td>NaN</td>\n",
              "      <td>NaN</td>\n",
              "      <td>0 days 00:00:09</td>\n",
              "      <td>9.0</td>\n",
              "      <td>0 days 00:00:33</td>\n",
              "      <td>33.0</td>\n",
              "    </tr>\n",
              "    <tr>\n",
              "      <th>1</th>\n",
              "      <td>2021-01-26 02:33:16</td>\n",
              "      <td>2021-01-26 00:00:00</td>\n",
              "      <td>2021-01-26 02:33:57</td>\n",
              "      <td>2021-01-26 02:34:45</td>\n",
              "      <td>18117</td>\n",
              "      <td>2.5207</td>\n",
              "      <td>2.76</td>\n",
              "      <td>8.0</td>\n",
              "      <td>8.0</td>\n",
              "      <td>0</td>\n",
              "      <td>0.0</td>\n",
              "      <td>105.0</td>\n",
              "      <td>NaN</td>\n",
              "      <td>NaN</td>\n",
              "      <td>NaN</td>\n",
              "      <td>3.266667</td>\n",
              "      <td>NaN</td>\n",
              "      <td>0 days 00:00:48</td>\n",
              "      <td>48.0</td>\n",
              "      <td>0 days 00:01:29</td>\n",
              "      <td>89.0</td>\n",
              "    </tr>\n",
              "    <tr>\n",
              "      <th>2</th>\n",
              "      <td>2021-01-26 02:39:49</td>\n",
              "      <td>2021-01-26 00:00:00</td>\n",
              "      <td>2021-01-26 02:39:57</td>\n",
              "      <td>2021-01-26 02:40:13</td>\n",
              "      <td>18623</td>\n",
              "      <td>2.2074</td>\n",
              "      <td>4.80</td>\n",
              "      <td>1.0</td>\n",
              "      <td>1.0</td>\n",
              "      <td>0</td>\n",
              "      <td>0.0</td>\n",
              "      <td>66.0</td>\n",
              "      <td>NaN</td>\n",
              "      <td>NaN</td>\n",
              "      <td>NaN</td>\n",
              "      <td>9.816667</td>\n",
              "      <td>NaN</td>\n",
              "      <td>0 days 00:00:16</td>\n",
              "      <td>16.0</td>\n",
              "      <td>0 days 00:00:24</td>\n",
              "      <td>24.0</td>\n",
              "    </tr>\n",
              "    <tr>\n",
              "      <th>3</th>\n",
              "      <td>2021-01-26 02:47:53</td>\n",
              "      <td>2021-01-26 00:00:00</td>\n",
              "      <td>2021-01-26 02:48:25</td>\n",
              "      <td>2021-01-26 02:49:06</td>\n",
              "      <td>15945</td>\n",
              "      <td>2.1894</td>\n",
              "      <td>6.38</td>\n",
              "      <td>1.0</td>\n",
              "      <td>1.0</td>\n",
              "      <td>0</td>\n",
              "      <td>0.0</td>\n",
              "      <td>127.0</td>\n",
              "      <td>NaN</td>\n",
              "      <td>NaN</td>\n",
              "      <td>NaN</td>\n",
              "      <td>17.533333</td>\n",
              "      <td>NaN</td>\n",
              "      <td>0 days 00:00:41</td>\n",
              "      <td>41.0</td>\n",
              "      <td>0 days 00:01:13</td>\n",
              "      <td>73.0</td>\n",
              "    </tr>\n",
              "    <tr>\n",
              "      <th>4</th>\n",
              "      <td>2021-01-26 03:06:30</td>\n",
              "      <td>2021-01-26 00:00:00</td>\n",
              "      <td>2021-01-26 03:07:21</td>\n",
              "      <td>2021-01-26 03:07:57</td>\n",
              "      <td>17589</td>\n",
              "      <td>2.7870</td>\n",
              "      <td>4.01</td>\n",
              "      <td>34.0</td>\n",
              "      <td>34.0</td>\n",
              "      <td>0</td>\n",
              "      <td>0.0</td>\n",
              "      <td>84.0</td>\n",
              "      <td>NaN</td>\n",
              "      <td>NaN</td>\n",
              "      <td>NaN</td>\n",
              "      <td>1.350000</td>\n",
              "      <td>NaN</td>\n",
              "      <td>0 days 00:00:36</td>\n",
              "      <td>36.0</td>\n",
              "      <td>0 days 00:01:27</td>\n",
              "      <td>87.0</td>\n",
              "    </tr>\n",
              "  </tbody>\n",
              "</table>\n",
              "</div>\n",
              "      <button class=\"colab-df-convert\" onclick=\"convertToInteractive('df-69a96f1a-391d-4ffa-b33c-e25ea19d9613')\"\n",
              "              title=\"Convert this dataframe to an interactive table.\"\n",
              "              style=\"display:none;\">\n",
              "        \n",
              "  <svg xmlns=\"http://www.w3.org/2000/svg\" height=\"24px\"viewBox=\"0 0 24 24\"\n",
              "       width=\"24px\">\n",
              "    <path d=\"M0 0h24v24H0V0z\" fill=\"none\"/>\n",
              "    <path d=\"M18.56 5.44l.94 2.06.94-2.06 2.06-.94-2.06-.94-.94-2.06-.94 2.06-2.06.94zm-11 1L8.5 8.5l.94-2.06 2.06-.94-2.06-.94L8.5 2.5l-.94 2.06-2.06.94zm10 10l.94 2.06.94-2.06 2.06-.94-2.06-.94-.94-2.06-.94 2.06-2.06.94z\"/><path d=\"M17.41 7.96l-1.37-1.37c-.4-.4-.92-.59-1.43-.59-.52 0-1.04.2-1.43.59L10.3 9.45l-7.72 7.72c-.78.78-.78 2.05 0 2.83L4 21.41c.39.39.9.59 1.41.59.51 0 1.02-.2 1.41-.59l7.78-7.78 2.81-2.81c.8-.78.8-2.07 0-2.86zM5.41 20L4 18.59l7.72-7.72 1.47 1.35L5.41 20z\"/>\n",
              "  </svg>\n",
              "      </button>\n",
              "      \n",
              "  <style>\n",
              "    .colab-df-container {\n",
              "      display:flex;\n",
              "      flex-wrap:wrap;\n",
              "      gap: 12px;\n",
              "    }\n",
              "\n",
              "    .colab-df-convert {\n",
              "      background-color: #E8F0FE;\n",
              "      border: none;\n",
              "      border-radius: 50%;\n",
              "      cursor: pointer;\n",
              "      display: none;\n",
              "      fill: #1967D2;\n",
              "      height: 32px;\n",
              "      padding: 0 0 0 0;\n",
              "      width: 32px;\n",
              "    }\n",
              "\n",
              "    .colab-df-convert:hover {\n",
              "      background-color: #E2EBFA;\n",
              "      box-shadow: 0px 1px 2px rgba(60, 64, 67, 0.3), 0px 1px 3px 1px rgba(60, 64, 67, 0.15);\n",
              "      fill: #174EA6;\n",
              "    }\n",
              "\n",
              "    [theme=dark] .colab-df-convert {\n",
              "      background-color: #3B4455;\n",
              "      fill: #D2E3FC;\n",
              "    }\n",
              "\n",
              "    [theme=dark] .colab-df-convert:hover {\n",
              "      background-color: #434B5C;\n",
              "      box-shadow: 0px 1px 3px 1px rgba(0, 0, 0, 0.15);\n",
              "      filter: drop-shadow(0px 1px 2px rgba(0, 0, 0, 0.3));\n",
              "      fill: #FFFFFF;\n",
              "    }\n",
              "  </style>\n",
              "\n",
              "      <script>\n",
              "        const buttonEl =\n",
              "          document.querySelector('#df-69a96f1a-391d-4ffa-b33c-e25ea19d9613 button.colab-df-convert');\n",
              "        buttonEl.style.display =\n",
              "          google.colab.kernel.accessAllowed ? 'block' : 'none';\n",
              "\n",
              "        async function convertToInteractive(key) {\n",
              "          const element = document.querySelector('#df-69a96f1a-391d-4ffa-b33c-e25ea19d9613');\n",
              "          const dataTable =\n",
              "            await google.colab.kernel.invokeFunction('convertToInteractive',\n",
              "                                                     [key], {});\n",
              "          if (!dataTable) return;\n",
              "\n",
              "          const docLinkHtml = 'Like what you see? Visit the ' +\n",
              "            '<a target=\"_blank\" href=https://colab.research.google.com/notebooks/data_table.ipynb>data table notebook</a>'\n",
              "            + ' to learn more about interactive tables.';\n",
              "          element.innerHTML = '';\n",
              "          dataTable['output_type'] = 'display_data';\n",
              "          await google.colab.output.renderOutput(dataTable, element);\n",
              "          const docLink = document.createElement('div');\n",
              "          docLink.innerHTML = docLinkHtml;\n",
              "          element.appendChild(docLink);\n",
              "        }\n",
              "      </script>\n",
              "    </div>\n",
              "  </div>\n",
              "  "
            ],
            "text/plain": [
              "           order_time           order_date  ...  order_to_allot order_sec\n",
              "0 2021-01-26 02:21:35  2021-01-26 00:00:00  ... 0 days 00:00:33      33.0\n",
              "1 2021-01-26 02:33:16  2021-01-26 00:00:00  ... 0 days 00:01:29      89.0\n",
              "2 2021-01-26 02:39:49  2021-01-26 00:00:00  ... 0 days 00:00:24      24.0\n",
              "3 2021-01-26 02:47:53  2021-01-26 00:00:00  ... 0 days 00:01:13      73.0\n",
              "4 2021-01-26 03:06:30  2021-01-26 00:00:00  ... 0 days 00:01:27      87.0\n",
              "\n",
              "[5 rows x 21 columns]"
            ]
          },
          "metadata": {},
          "execution_count": 99
        }
      ]
    },
    {
      "cell_type": "code",
      "source": [
        "df['allot_sec'] = df['order_sec'] - df['accept_sec']\n",
        "df_test['allot_sec'] = df_test['order_sec'] - df_test['accept_sec']"
      ],
      "metadata": {
        "id": "XbPpk9_kyQw4"
      },
      "execution_count": 100,
      "outputs": []
    },
    {
      "cell_type": "code",
      "source": [
        "df_test = df_test.drop(['order_time','allot_time','accept_time','accept_to_allot','order_to_allot'],axis=1)\n",
        "df= df.drop(['order_time','allot_time','accept_time','accept_to_allot','order_to_allot'],axis=1)"
      ],
      "metadata": {
        "id": "GgcV1NbdynsM"
      },
      "execution_count": 101,
      "outputs": []
    },
    {
      "cell_type": "code",
      "source": [
        "df['order_date'] = pd.to_datetime(df['order_date'].str.strip(), format='%Y/%m/%d %H:%M:%S')\n",
        "df_test['order_date'] = pd.to_datetime(df_test['order_date'].str.strip(), format='%Y/%m/%d %H:%M:%S')"
      ],
      "metadata": {
        "id": "_71EIF56zAHl"
      },
      "execution_count": 102,
      "outputs": []
    },
    {
      "cell_type": "code",
      "source": [
        "df['year'] = pd.DatetimeIndex(df['order_date']).year\n",
        "df['month'] = pd.DatetimeIndex(df['order_date']).month\n",
        "\n",
        "\n",
        "df_test['year'] = pd.DatetimeIndex(df_test['order_date']).year\n",
        "df_test['month'] = pd.DatetimeIndex(df_test['order_date']).month"
      ],
      "metadata": {
        "id": "L3E-nPh1zNut"
      },
      "execution_count": 103,
      "outputs": []
    },
    {
      "cell_type": "code",
      "source": [
        "df.head()"
      ],
      "metadata": {
        "id": "_IwLBOsOzll2",
        "outputId": "fb869ebb-c6c1-4d0f-ced1-ff0002bcb88f",
        "colab": {
          "base_uri": "https://localhost:8080/",
          "height": 270
        }
      },
      "execution_count": 104,
      "outputs": [
        {
          "output_type": "execute_result",
          "data": {
            "text/html": [
              "\n",
              "  <div id=\"df-a4095d6f-d142-47a7-a5d4-18e095690c62\">\n",
              "    <div class=\"colab-df-container\">\n",
              "      <div>\n",
              "<style scoped>\n",
              "    .dataframe tbody tr th:only-of-type {\n",
              "        vertical-align: middle;\n",
              "    }\n",
              "\n",
              "    .dataframe tbody tr th {\n",
              "        vertical-align: top;\n",
              "    }\n",
              "\n",
              "    .dataframe thead th {\n",
              "        text-align: right;\n",
              "    }\n",
              "</style>\n",
              "<table border=\"1\" class=\"dataframe\">\n",
              "  <thead>\n",
              "    <tr style=\"text-align: right;\">\n",
              "      <th></th>\n",
              "      <th>order_date</th>\n",
              "      <th>rider_id</th>\n",
              "      <th>first_mile_distance</th>\n",
              "      <th>last_mile_distance</th>\n",
              "      <th>alloted_orders</th>\n",
              "      <th>delivered_orders</th>\n",
              "      <th>cancelled</th>\n",
              "      <th>undelivered_orders</th>\n",
              "      <th>lifetime_order_count</th>\n",
              "      <th>reassignment_method</th>\n",
              "      <th>reassignment_reason</th>\n",
              "      <th>reassigned_order</th>\n",
              "      <th>session_time</th>\n",
              "      <th>cancelled_time</th>\n",
              "      <th>accept_sec</th>\n",
              "      <th>order_sec</th>\n",
              "      <th>allot_sec</th>\n",
              "      <th>year</th>\n",
              "      <th>month</th>\n",
              "    </tr>\n",
              "  </thead>\n",
              "  <tbody>\n",
              "    <tr>\n",
              "      <th>0</th>\n",
              "      <td>2021-01-26</td>\n",
              "      <td>11696</td>\n",
              "      <td>1.5666</td>\n",
              "      <td>2.65</td>\n",
              "      <td>46.0</td>\n",
              "      <td>46.0</td>\n",
              "      <td>0</td>\n",
              "      <td>0.0</td>\n",
              "      <td>621.0</td>\n",
              "      <td>NaN</td>\n",
              "      <td>NaN</td>\n",
              "      <td>NaN</td>\n",
              "      <td>NaN</td>\n",
              "      <td>NaN</td>\n",
              "      <td>9.0</td>\n",
              "      <td>33.0</td>\n",
              "      <td>24.0</td>\n",
              "      <td>2021</td>\n",
              "      <td>1</td>\n",
              "    </tr>\n",
              "    <tr>\n",
              "      <th>1</th>\n",
              "      <td>2021-01-26</td>\n",
              "      <td>18117</td>\n",
              "      <td>2.5207</td>\n",
              "      <td>2.76</td>\n",
              "      <td>8.0</td>\n",
              "      <td>8.0</td>\n",
              "      <td>0</td>\n",
              "      <td>0.0</td>\n",
              "      <td>105.0</td>\n",
              "      <td>NaN</td>\n",
              "      <td>NaN</td>\n",
              "      <td>NaN</td>\n",
              "      <td>3.266667</td>\n",
              "      <td>NaN</td>\n",
              "      <td>48.0</td>\n",
              "      <td>89.0</td>\n",
              "      <td>41.0</td>\n",
              "      <td>2021</td>\n",
              "      <td>1</td>\n",
              "    </tr>\n",
              "    <tr>\n",
              "      <th>2</th>\n",
              "      <td>2021-01-26</td>\n",
              "      <td>18623</td>\n",
              "      <td>2.2074</td>\n",
              "      <td>4.80</td>\n",
              "      <td>1.0</td>\n",
              "      <td>1.0</td>\n",
              "      <td>0</td>\n",
              "      <td>0.0</td>\n",
              "      <td>66.0</td>\n",
              "      <td>NaN</td>\n",
              "      <td>NaN</td>\n",
              "      <td>NaN</td>\n",
              "      <td>9.816667</td>\n",
              "      <td>NaN</td>\n",
              "      <td>16.0</td>\n",
              "      <td>24.0</td>\n",
              "      <td>8.0</td>\n",
              "      <td>2021</td>\n",
              "      <td>1</td>\n",
              "    </tr>\n",
              "    <tr>\n",
              "      <th>3</th>\n",
              "      <td>2021-01-26</td>\n",
              "      <td>15945</td>\n",
              "      <td>2.1894</td>\n",
              "      <td>6.38</td>\n",
              "      <td>1.0</td>\n",
              "      <td>1.0</td>\n",
              "      <td>0</td>\n",
              "      <td>0.0</td>\n",
              "      <td>127.0</td>\n",
              "      <td>NaN</td>\n",
              "      <td>NaN</td>\n",
              "      <td>NaN</td>\n",
              "      <td>17.533333</td>\n",
              "      <td>NaN</td>\n",
              "      <td>41.0</td>\n",
              "      <td>73.0</td>\n",
              "      <td>32.0</td>\n",
              "      <td>2021</td>\n",
              "      <td>1</td>\n",
              "    </tr>\n",
              "    <tr>\n",
              "      <th>4</th>\n",
              "      <td>2021-01-26</td>\n",
              "      <td>17589</td>\n",
              "      <td>2.7870</td>\n",
              "      <td>4.01</td>\n",
              "      <td>34.0</td>\n",
              "      <td>34.0</td>\n",
              "      <td>0</td>\n",
              "      <td>0.0</td>\n",
              "      <td>84.0</td>\n",
              "      <td>NaN</td>\n",
              "      <td>NaN</td>\n",
              "      <td>NaN</td>\n",
              "      <td>1.350000</td>\n",
              "      <td>NaN</td>\n",
              "      <td>36.0</td>\n",
              "      <td>87.0</td>\n",
              "      <td>51.0</td>\n",
              "      <td>2021</td>\n",
              "      <td>1</td>\n",
              "    </tr>\n",
              "  </tbody>\n",
              "</table>\n",
              "</div>\n",
              "      <button class=\"colab-df-convert\" onclick=\"convertToInteractive('df-a4095d6f-d142-47a7-a5d4-18e095690c62')\"\n",
              "              title=\"Convert this dataframe to an interactive table.\"\n",
              "              style=\"display:none;\">\n",
              "        \n",
              "  <svg xmlns=\"http://www.w3.org/2000/svg\" height=\"24px\"viewBox=\"0 0 24 24\"\n",
              "       width=\"24px\">\n",
              "    <path d=\"M0 0h24v24H0V0z\" fill=\"none\"/>\n",
              "    <path d=\"M18.56 5.44l.94 2.06.94-2.06 2.06-.94-2.06-.94-.94-2.06-.94 2.06-2.06.94zm-11 1L8.5 8.5l.94-2.06 2.06-.94-2.06-.94L8.5 2.5l-.94 2.06-2.06.94zm10 10l.94 2.06.94-2.06 2.06-.94-2.06-.94-.94-2.06-.94 2.06-2.06.94z\"/><path d=\"M17.41 7.96l-1.37-1.37c-.4-.4-.92-.59-1.43-.59-.52 0-1.04.2-1.43.59L10.3 9.45l-7.72 7.72c-.78.78-.78 2.05 0 2.83L4 21.41c.39.39.9.59 1.41.59.51 0 1.02-.2 1.41-.59l7.78-7.78 2.81-2.81c.8-.78.8-2.07 0-2.86zM5.41 20L4 18.59l7.72-7.72 1.47 1.35L5.41 20z\"/>\n",
              "  </svg>\n",
              "      </button>\n",
              "      \n",
              "  <style>\n",
              "    .colab-df-container {\n",
              "      display:flex;\n",
              "      flex-wrap:wrap;\n",
              "      gap: 12px;\n",
              "    }\n",
              "\n",
              "    .colab-df-convert {\n",
              "      background-color: #E8F0FE;\n",
              "      border: none;\n",
              "      border-radius: 50%;\n",
              "      cursor: pointer;\n",
              "      display: none;\n",
              "      fill: #1967D2;\n",
              "      height: 32px;\n",
              "      padding: 0 0 0 0;\n",
              "      width: 32px;\n",
              "    }\n",
              "\n",
              "    .colab-df-convert:hover {\n",
              "      background-color: #E2EBFA;\n",
              "      box-shadow: 0px 1px 2px rgba(60, 64, 67, 0.3), 0px 1px 3px 1px rgba(60, 64, 67, 0.15);\n",
              "      fill: #174EA6;\n",
              "    }\n",
              "\n",
              "    [theme=dark] .colab-df-convert {\n",
              "      background-color: #3B4455;\n",
              "      fill: #D2E3FC;\n",
              "    }\n",
              "\n",
              "    [theme=dark] .colab-df-convert:hover {\n",
              "      background-color: #434B5C;\n",
              "      box-shadow: 0px 1px 3px 1px rgba(0, 0, 0, 0.15);\n",
              "      filter: drop-shadow(0px 1px 2px rgba(0, 0, 0, 0.3));\n",
              "      fill: #FFFFFF;\n",
              "    }\n",
              "  </style>\n",
              "\n",
              "      <script>\n",
              "        const buttonEl =\n",
              "          document.querySelector('#df-a4095d6f-d142-47a7-a5d4-18e095690c62 button.colab-df-convert');\n",
              "        buttonEl.style.display =\n",
              "          google.colab.kernel.accessAllowed ? 'block' : 'none';\n",
              "\n",
              "        async function convertToInteractive(key) {\n",
              "          const element = document.querySelector('#df-a4095d6f-d142-47a7-a5d4-18e095690c62');\n",
              "          const dataTable =\n",
              "            await google.colab.kernel.invokeFunction('convertToInteractive',\n",
              "                                                     [key], {});\n",
              "          if (!dataTable) return;\n",
              "\n",
              "          const docLinkHtml = 'Like what you see? Visit the ' +\n",
              "            '<a target=\"_blank\" href=https://colab.research.google.com/notebooks/data_table.ipynb>data table notebook</a>'\n",
              "            + ' to learn more about interactive tables.';\n",
              "          element.innerHTML = '';\n",
              "          dataTable['output_type'] = 'display_data';\n",
              "          await google.colab.output.renderOutput(dataTable, element);\n",
              "          const docLink = document.createElement('div');\n",
              "          docLink.innerHTML = docLinkHtml;\n",
              "          element.appendChild(docLink);\n",
              "        }\n",
              "      </script>\n",
              "    </div>\n",
              "  </div>\n",
              "  "
            ],
            "text/plain": [
              "  order_date  rider_id  first_mile_distance  ...  allot_sec  year  month\n",
              "0 2021-01-26     11696               1.5666  ...       24.0  2021      1\n",
              "1 2021-01-26     18117               2.5207  ...       41.0  2021      1\n",
              "2 2021-01-26     18623               2.2074  ...        8.0  2021      1\n",
              "3 2021-01-26     15945               2.1894  ...       32.0  2021      1\n",
              "4 2021-01-26     17589               2.7870  ...       51.0  2021      1\n",
              "\n",
              "[5 rows x 19 columns]"
            ]
          },
          "metadata": {},
          "execution_count": 104
        }
      ]
    },
    {
      "cell_type": "code",
      "source": [
        "df.columns"
      ],
      "metadata": {
        "id": "py8OYmyMzqpR",
        "colab": {
          "base_uri": "https://localhost:8080/"
        },
        "outputId": "d324b34e-2db7-4dca-c975-52adfa4fcff2"
      },
      "execution_count": 105,
      "outputs": [
        {
          "output_type": "execute_result",
          "data": {
            "text/plain": [
              "Index(['order_date', 'rider_id', 'first_mile_distance', 'last_mile_distance',\n",
              "       'alloted_orders', 'delivered_orders', 'cancelled', 'undelivered_orders',\n",
              "       'lifetime_order_count', 'reassignment_method', 'reassignment_reason',\n",
              "       'reassigned_order', 'session_time', 'cancelled_time', 'accept_sec',\n",
              "       'order_sec', 'allot_sec', 'year', 'month'],\n",
              "      dtype='object')"
            ]
          },
          "metadata": {},
          "execution_count": 105
        }
      ]
    },
    {
      "cell_type": "code",
      "source": [
        "df['reassignment_reason'].value_counts()\n"
      ],
      "metadata": {
        "colab": {
          "base_uri": "https://localhost:8080/"
        },
        "id": "EsgoLDGx_fQi",
        "outputId": "c1d8f008-24a0-4062-ce08-f91b7c4a2ee2"
      },
      "execution_count": 106,
      "outputs": [
        {
          "output_type": "execute_result",
          "data": {
            "text/plain": [
              "Auto Reassignment basis Inaction. coreengine.tasks.repush_order_to_aa_bucket    7212\n",
              "Reassignment Request from SE portal.                                            5300\n",
              "Reassign                                                                        1241\n",
              "Name: reassignment_reason, dtype: int64"
            ]
          },
          "metadata": {},
          "execution_count": 106
        }
      ]
    },
    {
      "cell_type": "code",
      "source": [
        "df_test['reassignment_reason'].value_counts()"
      ],
      "metadata": {
        "id": "yMwDzycvU4Cb",
        "outputId": "71e9070d-b0a8-434f-e584-b0c0ba1dc99b",
        "colab": {
          "base_uri": "https://localhost:8080/"
        }
      },
      "execution_count": 107,
      "outputs": [
        {
          "output_type": "execute_result",
          "data": {
            "text/plain": [
              "Auto Reassignment basis Inaction. coreengine.tasks.repush_order_to_aa_bucket    2593\n",
              "Reassignment Request from SE portal.                                            1582\n",
              "Reassign                                                                         460\n",
              "Name: reassignment_reason, dtype: int64"
            ]
          },
          "metadata": {},
          "execution_count": 107
        }
      ]
    },
    {
      "cell_type": "code",
      "source": [
        "df['reassignment_method'].value_counts()"
      ],
      "metadata": {
        "colab": {
          "base_uri": "https://localhost:8080/"
        },
        "id": "VjtMBS6EBI3H",
        "outputId": "09926d65-211e-4435-9bbf-1ff6b0edbfe5"
      },
      "execution_count": 108,
      "outputs": [
        {
          "output_type": "execute_result",
          "data": {
            "text/plain": [
              "auto      13383\n",
              "manual      361\n",
              "Name: reassignment_method, dtype: int64"
            ]
          },
          "metadata": {},
          "execution_count": 108
        }
      ]
    },
    {
      "cell_type": "code",
      "source": [
        "df_test['reassignment_method'].value_counts()"
      ],
      "metadata": {
        "id": "YyO28pDSU6xV",
        "outputId": "b328ee4f-80ee-425a-9963-46e147305a48",
        "colab": {
          "base_uri": "https://localhost:8080/"
        }
      },
      "execution_count": 109,
      "outputs": [
        {
          "output_type": "execute_result",
          "data": {
            "text/plain": [
              "auto      4531\n",
              "manual     101\n",
              "Name: reassignment_method, dtype: int64"
            ]
          },
          "metadata": {},
          "execution_count": 109
        }
      ]
    },
    {
      "cell_type": "code",
      "source": [
        "df.dtypes"
      ],
      "metadata": {
        "colab": {
          "base_uri": "https://localhost:8080/"
        },
        "id": "9EeZJhI-CLeT",
        "outputId": "6b068b26-25f7-4c11-ccda-d77b08abcbb2"
      },
      "execution_count": 110,
      "outputs": [
        {
          "output_type": "execute_result",
          "data": {
            "text/plain": [
              "order_date              datetime64[ns]\n",
              "rider_id                         int64\n",
              "first_mile_distance            float64\n",
              "last_mile_distance             float64\n",
              "alloted_orders                 float64\n",
              "delivered_orders               float64\n",
              "cancelled                        int64\n",
              "undelivered_orders             float64\n",
              "lifetime_order_count           float64\n",
              "reassignment_method             object\n",
              "reassignment_reason             object\n",
              "reassigned_order               float64\n",
              "session_time                   float64\n",
              "cancelled_time                  object\n",
              "accept_sec                     float64\n",
              "order_sec                      float64\n",
              "allot_sec                      float64\n",
              "year                             int64\n",
              "month                            int64\n",
              "dtype: object"
            ]
          },
          "metadata": {},
          "execution_count": 110
        }
      ]
    },
    {
      "cell_type": "code",
      "source": [
        "num_col = [c for i, c in enumerate(df.columns) if df.dtypes[i] in [np.int, np.float]]\n",
        "len(num_col)"
      ],
      "metadata": {
        "colab": {
          "base_uri": "https://localhost:8080/"
        },
        "id": "RJUX7sjxBLC3",
        "outputId": "2014401a-0c7d-4f95-8583-1c06bd5fe354"
      },
      "execution_count": 111,
      "outputs": [
        {
          "output_type": "execute_result",
          "data": {
            "text/plain": [
              "15"
            ]
          },
          "metadata": {},
          "execution_count": 111
        }
      ]
    },
    {
      "cell_type": "code",
      "source": [
        "num_col = [c for i, c in enumerate(df.columns) if df.dtypes[i] in [np.object]]\n",
        "len(num_col)"
      ],
      "metadata": {
        "colab": {
          "base_uri": "https://localhost:8080/"
        },
        "id": "cbRzNZPNB9XP",
        "outputId": "020206e6-f1b5-4d95-d7a7-c15186cdba14"
      },
      "execution_count": 112,
      "outputs": [
        {
          "output_type": "execute_result",
          "data": {
            "text/plain": [
              "3"
            ]
          },
          "metadata": {},
          "execution_count": 112
        }
      ]
    },
    {
      "cell_type": "code",
      "source": [
        "df.isnull().sum()"
      ],
      "metadata": {
        "colab": {
          "base_uri": "https://localhost:8080/"
        },
        "id": "0xqy1EzoCHNV",
        "outputId": "3d7b768d-758c-4099-d6f0-ef2e9127ed02"
      },
      "execution_count": 113,
      "outputs": [
        {
          "output_type": "execute_result",
          "data": {
            "text/plain": [
              "order_date                   0\n",
              "rider_id                     0\n",
              "first_mile_distance          0\n",
              "last_mile_distance           0\n",
              "alloted_orders           16948\n",
              "delivered_orders         17341\n",
              "cancelled                    0\n",
              "undelivered_orders       17341\n",
              "lifetime_order_count        53\n",
              "reassignment_method     436256\n",
              "reassignment_reason     436247\n",
              "reassigned_order        436247\n",
              "session_time              3675\n",
              "cancelled_time          444782\n",
              "accept_sec              449995\n",
              "order_sec               449995\n",
              "allot_sec               449995\n",
              "year                         0\n",
              "month                        0\n",
              "dtype: int64"
            ]
          },
          "metadata": {},
          "execution_count": 113
        }
      ]
    },
    {
      "cell_type": "code",
      "source": [
        "df_test.isnull().sum()"
      ],
      "metadata": {
        "id": "rBfhRtITVLsU",
        "outputId": "4fc5883f-dfe3-4ab9-c5ed-fdfa18529d64",
        "colab": {
          "base_uri": "https://localhost:8080/"
        }
      },
      "execution_count": 114,
      "outputs": [
        {
          "output_type": "execute_result",
          "data": {
            "text/plain": [
              "order_date                   0\n",
              "rider_id                     0\n",
              "first_mile_distance          0\n",
              "last_mile_distance           0\n",
              "alloted_orders            4773\n",
              "delivered_orders          4884\n",
              "undelivered_orders        4884\n",
              "lifetime_order_count       778\n",
              "reassignment_method     140212\n",
              "reassignment_reason     140209\n",
              "reassigned_order        140209\n",
              "session_time              5054\n",
              "accept_sec              144839\n",
              "order_sec               144839\n",
              "allot_sec               144839\n",
              "year                         0\n",
              "month                        0\n",
              "dtype: int64"
            ]
          },
          "metadata": {},
          "execution_count": 114
        }
      ]
    },
    {
      "cell_type": "code",
      "source": [
        "df['reassignment_reason'] = df['reassignment_reason'].replace(np.nan, 0)\n"
      ],
      "metadata": {
        "id": "gsIaGoRRCwfV"
      },
      "execution_count": 115,
      "outputs": []
    },
    {
      "cell_type": "code",
      "source": [
        "df_test['reassignment_reason'] = df_test['reassignment_reason'].replace(np.nan, 0)"
      ],
      "metadata": {
        "id": "dWxYxIYQVcDr"
      },
      "execution_count": 116,
      "outputs": []
    },
    {
      "cell_type": "code",
      "source": [
        "df['reassignment_reason_freq'] = df['reassignment_reason'].replace(('Auto Reassignment basis Inaction. coreengine.tasks.repush_order_to_aa_bucket','Reassignment Request from SE portal.','Reassign','0'),(7212,5300,1241,436256))\n",
        "df_test['reassignment_reason_freq'] = df_test['reassignment_reason'].replace(('Auto Reassignment basis Inaction. coreengine.tasks.repush_order_to_aa_bucket','Reassignment Request from SE portal.','Reassign','0'),(2593,1582,460,140209))"
      ],
      "metadata": {
        "id": "_0NaYpnIDEpc"
      },
      "execution_count": 117,
      "outputs": []
    },
    {
      "cell_type": "code",
      "source": [
        "df_test['reassignment_reason'].value_counts()"
      ],
      "metadata": {
        "colab": {
          "base_uri": "https://localhost:8080/"
        },
        "id": "LGDU3NnnFPkP",
        "outputId": "740505c9-e0e0-46d2-ac0a-4eeb9d322a65"
      },
      "execution_count": 118,
      "outputs": [
        {
          "output_type": "execute_result",
          "data": {
            "text/plain": [
              "0                                                                               140209\n",
              "Auto Reassignment basis Inaction. coreengine.tasks.repush_order_to_aa_bucket      2593\n",
              "Reassignment Request from SE portal.                                              1582\n",
              "Reassign                                                                           460\n",
              "Name: reassignment_reason, dtype: int64"
            ]
          },
          "metadata": {},
          "execution_count": 118
        }
      ]
    },
    {
      "cell_type": "code",
      "source": [
        "pip install --upgrade category_encoders"
      ],
      "metadata": {
        "colab": {
          "base_uri": "https://localhost:8080/"
        },
        "id": "iG3JhXN8G2AQ",
        "outputId": "1d953e53-cc4a-4484-9835-432177589324"
      },
      "execution_count": 119,
      "outputs": [
        {
          "output_type": "stream",
          "name": "stdout",
          "text": [
            "Requirement already satisfied: category_encoders in /usr/local/lib/python3.7/dist-packages (2.3.0)\n",
            "Requirement already satisfied: scikit-learn>=0.20.0 in /usr/local/lib/python3.7/dist-packages (from category_encoders) (1.0.2)\n",
            "Requirement already satisfied: patsy>=0.5.1 in /usr/local/lib/python3.7/dist-packages (from category_encoders) (0.5.2)\n",
            "Requirement already satisfied: pandas>=0.21.1 in /usr/local/lib/python3.7/dist-packages (from category_encoders) (1.3.5)\n",
            "Requirement already satisfied: statsmodels>=0.9.0 in /usr/local/lib/python3.7/dist-packages (from category_encoders) (0.10.2)\n",
            "Requirement already satisfied: scipy>=1.0.0 in /usr/local/lib/python3.7/dist-packages (from category_encoders) (1.4.1)\n",
            "Requirement already satisfied: numpy>=1.14.0 in /usr/local/lib/python3.7/dist-packages (from category_encoders) (1.19.5)\n",
            "Requirement already satisfied: pytz>=2017.3 in /usr/local/lib/python3.7/dist-packages (from pandas>=0.21.1->category_encoders) (2018.9)\n",
            "Requirement already satisfied: python-dateutil>=2.7.3 in /usr/local/lib/python3.7/dist-packages (from pandas>=0.21.1->category_encoders) (2.8.2)\n",
            "Requirement already satisfied: six in /usr/local/lib/python3.7/dist-packages (from patsy>=0.5.1->category_encoders) (1.15.0)\n",
            "Requirement already satisfied: joblib>=0.11 in /usr/local/lib/python3.7/dist-packages (from scikit-learn>=0.20.0->category_encoders) (1.1.0)\n",
            "Requirement already satisfied: threadpoolctl>=2.0.0 in /usr/local/lib/python3.7/dist-packages (from scikit-learn>=0.20.0->category_encoders) (3.0.0)\n"
          ]
        }
      ]
    },
    {
      "cell_type": "code",
      "source": [
        "from category_encoders import TargetEncoder\n",
        "\n",
        "encoder = TargetEncoder()\n",
        "df['reassignment_reason']= encoder.fit_transform(df['reassignment_reason'], df['cancelled'])\n"
      ],
      "metadata": {
        "id": "kdbdsJeRFvWU"
      },
      "execution_count": 122,
      "outputs": []
    },
    {
      "cell_type": "code",
      "source": [
        "df.columns"
      ],
      "metadata": {
        "colab": {
          "base_uri": "https://localhost:8080/"
        },
        "id": "KIqxexydG5Xa",
        "outputId": "e640b61e-477d-4cea-e3de-7a244d0f2807"
      },
      "execution_count": 123,
      "outputs": [
        {
          "output_type": "execute_result",
          "data": {
            "text/plain": [
              "Index(['order_date', 'rider_id', 'first_mile_distance', 'last_mile_distance',\n",
              "       'alloted_orders', 'delivered_orders', 'cancelled', 'undelivered_orders',\n",
              "       'lifetime_order_count', 'reassignment_method', 'reassignment_reason',\n",
              "       'reassigned_order', 'session_time', 'cancelled_time', 'accept_sec',\n",
              "       'order_sec', 'allot_sec', 'year', 'month', 'reassignment_reason_freq'],\n",
              "      dtype='object')"
            ]
          },
          "metadata": {},
          "execution_count": 123
        }
      ]
    },
    {
      "cell_type": "code",
      "source": [
        "df['reassignment_method'] = df['reassignment_method'].replace(np.nan, 0)\n"
      ],
      "metadata": {
        "id": "xaZpIUL8HDT8"
      },
      "execution_count": 124,
      "outputs": []
    },
    {
      "cell_type": "code",
      "source": [
        "df_test['reassignment_method'] = df_test['reassignment_method'].replace(np.nan, 0)"
      ],
      "metadata": {
        "id": "2naddu4eV29F"
      },
      "execution_count": 125,
      "outputs": []
    },
    {
      "cell_type": "code",
      "source": [
        "df_test['reassignment_method'].value_counts()"
      ],
      "metadata": {
        "colab": {
          "base_uri": "https://localhost:8080/"
        },
        "id": "mfjZZpYBHZi6",
        "outputId": "4209e910-010c-42b8-93c3-c233f9d94606"
      },
      "execution_count": 126,
      "outputs": [
        {
          "output_type": "execute_result",
          "data": {
            "text/plain": [
              "0         140212\n",
              "auto        4531\n",
              "manual       101\n",
              "Name: reassignment_method, dtype: int64"
            ]
          },
          "metadata": {},
          "execution_count": 126
        }
      ]
    },
    {
      "cell_type": "code",
      "source": [
        "df['reassignment_method_freq'] = df['reassignment_reason'].replace(('auto','manual','0'),(13383,361,436256))\n",
        "df_test['reassignment_method_freq'] = df_test['reassignment_reason'].replace(('auto','manual','0'),(4531,101,140212))"
      ],
      "metadata": {
        "id": "eZDzEfUaHdAJ"
      },
      "execution_count": 127,
      "outputs": []
    },
    {
      "cell_type": "code",
      "source": [
        "encoder = TargetEncoder()\n",
        "df['reassignment_method']= encoder.fit_transform(df['reassignment_method'], df['cancelled'])\n"
      ],
      "metadata": {
        "id": "3oG1oNkdJhXZ"
      },
      "execution_count": 128,
      "outputs": []
    },
    {
      "cell_type": "code",
      "source": [
        "df['total_distance'] = df['first_mile_distance'] + df['last_mile_distance']\n",
        "df_test['total_distance'] = df_test['first_mile_distance'] + df_test['last_mile_distance']"
      ],
      "metadata": {
        "id": "9VDSqMUOJnah"
      },
      "execution_count": 129,
      "outputs": []
    },
    {
      "cell_type": "code",
      "source": [
        "df.columns"
      ],
      "metadata": {
        "colab": {
          "base_uri": "https://localhost:8080/"
        },
        "id": "oeWd6WFhNMl5",
        "outputId": "d877e6b5-7f44-4a40-9ff6-39a7c3c1d055"
      },
      "execution_count": 130,
      "outputs": [
        {
          "output_type": "execute_result",
          "data": {
            "text/plain": [
              "Index(['order_date', 'rider_id', 'first_mile_distance', 'last_mile_distance',\n",
              "       'alloted_orders', 'delivered_orders', 'cancelled', 'undelivered_orders',\n",
              "       'lifetime_order_count', 'reassignment_method', 'reassignment_reason',\n",
              "       'reassigned_order', 'session_time', 'cancelled_time', 'accept_sec',\n",
              "       'order_sec', 'allot_sec', 'year', 'month', 'reassignment_reason_freq',\n",
              "       'reassignment_method_freq', 'total_distance'],\n",
              "      dtype='object')"
            ]
          },
          "metadata": {},
          "execution_count": 130
        }
      ]
    },
    {
      "cell_type": "code",
      "source": [
        "df = df.drop(columns=['reassignment_method1','reassignment_reason1','cancelled_time'],axis =1)"
      ],
      "metadata": {
        "id": "JZkkEBtJMm2_",
        "outputId": "bcdcc03a-47d6-404b-facb-1918ae3e6e9b",
        "colab": {
          "base_uri": "https://localhost:8080/",
          "height": 311
        }
      },
      "execution_count": 131,
      "outputs": [
        {
          "output_type": "error",
          "ename": "KeyError",
          "evalue": "ignored",
          "traceback": [
            "\u001b[0;31m---------------------------------------------------------------------------\u001b[0m",
            "\u001b[0;31mKeyError\u001b[0m                                  Traceback (most recent call last)",
            "\u001b[0;32m<ipython-input-131-e7eaddfab412>\u001b[0m in \u001b[0;36m<module>\u001b[0;34m()\u001b[0m\n\u001b[0;32m----> 1\u001b[0;31m \u001b[0mdf\u001b[0m \u001b[0;34m=\u001b[0m \u001b[0mdf\u001b[0m\u001b[0;34m.\u001b[0m\u001b[0mdrop\u001b[0m\u001b[0;34m(\u001b[0m\u001b[0mcolumns\u001b[0m\u001b[0;34m=\u001b[0m\u001b[0;34m[\u001b[0m\u001b[0;34m'reassignment_method1'\u001b[0m\u001b[0;34m,\u001b[0m\u001b[0;34m'reassignment_reason1'\u001b[0m\u001b[0;34m,\u001b[0m\u001b[0;34m'cancelled_time'\u001b[0m\u001b[0;34m]\u001b[0m\u001b[0;34m,\u001b[0m\u001b[0maxis\u001b[0m \u001b[0;34m=\u001b[0m\u001b[0;36m1\u001b[0m\u001b[0;34m)\u001b[0m\u001b[0;34m\u001b[0m\u001b[0;34m\u001b[0m\u001b[0m\n\u001b[0m",
            "\u001b[0;32m/usr/local/lib/python3.7/dist-packages/pandas/util/_decorators.py\u001b[0m in \u001b[0;36mwrapper\u001b[0;34m(*args, **kwargs)\u001b[0m\n\u001b[1;32m    309\u001b[0m                     \u001b[0mstacklevel\u001b[0m\u001b[0;34m=\u001b[0m\u001b[0mstacklevel\u001b[0m\u001b[0;34m,\u001b[0m\u001b[0;34m\u001b[0m\u001b[0;34m\u001b[0m\u001b[0m\n\u001b[1;32m    310\u001b[0m                 )\n\u001b[0;32m--> 311\u001b[0;31m             \u001b[0;32mreturn\u001b[0m \u001b[0mfunc\u001b[0m\u001b[0;34m(\u001b[0m\u001b[0;34m*\u001b[0m\u001b[0margs\u001b[0m\u001b[0;34m,\u001b[0m \u001b[0;34m**\u001b[0m\u001b[0mkwargs\u001b[0m\u001b[0;34m)\u001b[0m\u001b[0;34m\u001b[0m\u001b[0;34m\u001b[0m\u001b[0m\n\u001b[0m\u001b[1;32m    312\u001b[0m \u001b[0;34m\u001b[0m\u001b[0m\n\u001b[1;32m    313\u001b[0m         \u001b[0;32mreturn\u001b[0m \u001b[0mwrapper\u001b[0m\u001b[0;34m\u001b[0m\u001b[0;34m\u001b[0m\u001b[0m\n",
            "\u001b[0;32m/usr/local/lib/python3.7/dist-packages/pandas/core/frame.py\u001b[0m in \u001b[0;36mdrop\u001b[0;34m(self, labels, axis, index, columns, level, inplace, errors)\u001b[0m\n\u001b[1;32m   4911\u001b[0m             \u001b[0mlevel\u001b[0m\u001b[0;34m=\u001b[0m\u001b[0mlevel\u001b[0m\u001b[0;34m,\u001b[0m\u001b[0;34m\u001b[0m\u001b[0;34m\u001b[0m\u001b[0m\n\u001b[1;32m   4912\u001b[0m             \u001b[0minplace\u001b[0m\u001b[0;34m=\u001b[0m\u001b[0minplace\u001b[0m\u001b[0;34m,\u001b[0m\u001b[0;34m\u001b[0m\u001b[0;34m\u001b[0m\u001b[0m\n\u001b[0;32m-> 4913\u001b[0;31m             \u001b[0merrors\u001b[0m\u001b[0;34m=\u001b[0m\u001b[0merrors\u001b[0m\u001b[0;34m,\u001b[0m\u001b[0;34m\u001b[0m\u001b[0;34m\u001b[0m\u001b[0m\n\u001b[0m\u001b[1;32m   4914\u001b[0m         )\n\u001b[1;32m   4915\u001b[0m \u001b[0;34m\u001b[0m\u001b[0m\n",
            "\u001b[0;32m/usr/local/lib/python3.7/dist-packages/pandas/core/generic.py\u001b[0m in \u001b[0;36mdrop\u001b[0;34m(self, labels, axis, index, columns, level, inplace, errors)\u001b[0m\n\u001b[1;32m   4148\u001b[0m         \u001b[0;32mfor\u001b[0m \u001b[0maxis\u001b[0m\u001b[0;34m,\u001b[0m \u001b[0mlabels\u001b[0m \u001b[0;32min\u001b[0m \u001b[0maxes\u001b[0m\u001b[0;34m.\u001b[0m\u001b[0mitems\u001b[0m\u001b[0;34m(\u001b[0m\u001b[0;34m)\u001b[0m\u001b[0;34m:\u001b[0m\u001b[0;34m\u001b[0m\u001b[0;34m\u001b[0m\u001b[0m\n\u001b[1;32m   4149\u001b[0m             \u001b[0;32mif\u001b[0m \u001b[0mlabels\u001b[0m \u001b[0;32mis\u001b[0m \u001b[0;32mnot\u001b[0m \u001b[0;32mNone\u001b[0m\u001b[0;34m:\u001b[0m\u001b[0;34m\u001b[0m\u001b[0;34m\u001b[0m\u001b[0m\n\u001b[0;32m-> 4150\u001b[0;31m                 \u001b[0mobj\u001b[0m \u001b[0;34m=\u001b[0m \u001b[0mobj\u001b[0m\u001b[0;34m.\u001b[0m\u001b[0m_drop_axis\u001b[0m\u001b[0;34m(\u001b[0m\u001b[0mlabels\u001b[0m\u001b[0;34m,\u001b[0m \u001b[0maxis\u001b[0m\u001b[0;34m,\u001b[0m \u001b[0mlevel\u001b[0m\u001b[0;34m=\u001b[0m\u001b[0mlevel\u001b[0m\u001b[0;34m,\u001b[0m \u001b[0merrors\u001b[0m\u001b[0;34m=\u001b[0m\u001b[0merrors\u001b[0m\u001b[0;34m)\u001b[0m\u001b[0;34m\u001b[0m\u001b[0;34m\u001b[0m\u001b[0m\n\u001b[0m\u001b[1;32m   4151\u001b[0m \u001b[0;34m\u001b[0m\u001b[0m\n\u001b[1;32m   4152\u001b[0m         \u001b[0;32mif\u001b[0m \u001b[0minplace\u001b[0m\u001b[0;34m:\u001b[0m\u001b[0;34m\u001b[0m\u001b[0;34m\u001b[0m\u001b[0m\n",
            "\u001b[0;32m/usr/local/lib/python3.7/dist-packages/pandas/core/generic.py\u001b[0m in \u001b[0;36m_drop_axis\u001b[0;34m(self, labels, axis, level, errors)\u001b[0m\n\u001b[1;32m   4183\u001b[0m                 \u001b[0mnew_axis\u001b[0m \u001b[0;34m=\u001b[0m \u001b[0maxis\u001b[0m\u001b[0;34m.\u001b[0m\u001b[0mdrop\u001b[0m\u001b[0;34m(\u001b[0m\u001b[0mlabels\u001b[0m\u001b[0;34m,\u001b[0m \u001b[0mlevel\u001b[0m\u001b[0;34m=\u001b[0m\u001b[0mlevel\u001b[0m\u001b[0;34m,\u001b[0m \u001b[0merrors\u001b[0m\u001b[0;34m=\u001b[0m\u001b[0merrors\u001b[0m\u001b[0;34m)\u001b[0m\u001b[0;34m\u001b[0m\u001b[0;34m\u001b[0m\u001b[0m\n\u001b[1;32m   4184\u001b[0m             \u001b[0;32melse\u001b[0m\u001b[0;34m:\u001b[0m\u001b[0;34m\u001b[0m\u001b[0;34m\u001b[0m\u001b[0m\n\u001b[0;32m-> 4185\u001b[0;31m                 \u001b[0mnew_axis\u001b[0m \u001b[0;34m=\u001b[0m \u001b[0maxis\u001b[0m\u001b[0;34m.\u001b[0m\u001b[0mdrop\u001b[0m\u001b[0;34m(\u001b[0m\u001b[0mlabels\u001b[0m\u001b[0;34m,\u001b[0m \u001b[0merrors\u001b[0m\u001b[0;34m=\u001b[0m\u001b[0merrors\u001b[0m\u001b[0;34m)\u001b[0m\u001b[0;34m\u001b[0m\u001b[0;34m\u001b[0m\u001b[0m\n\u001b[0m\u001b[1;32m   4186\u001b[0m             \u001b[0mresult\u001b[0m \u001b[0;34m=\u001b[0m \u001b[0mself\u001b[0m\u001b[0;34m.\u001b[0m\u001b[0mreindex\u001b[0m\u001b[0;34m(\u001b[0m\u001b[0;34m**\u001b[0m\u001b[0;34m{\u001b[0m\u001b[0maxis_name\u001b[0m\u001b[0;34m:\u001b[0m \u001b[0mnew_axis\u001b[0m\u001b[0;34m}\u001b[0m\u001b[0;34m)\u001b[0m\u001b[0;34m\u001b[0m\u001b[0;34m\u001b[0m\u001b[0m\n\u001b[1;32m   4187\u001b[0m \u001b[0;34m\u001b[0m\u001b[0m\n",
            "\u001b[0;32m/usr/local/lib/python3.7/dist-packages/pandas/core/indexes/base.py\u001b[0m in \u001b[0;36mdrop\u001b[0;34m(self, labels, errors)\u001b[0m\n\u001b[1;32m   6015\u001b[0m         \u001b[0;32mif\u001b[0m \u001b[0mmask\u001b[0m\u001b[0;34m.\u001b[0m\u001b[0many\u001b[0m\u001b[0;34m(\u001b[0m\u001b[0;34m)\u001b[0m\u001b[0;34m:\u001b[0m\u001b[0;34m\u001b[0m\u001b[0;34m\u001b[0m\u001b[0m\n\u001b[1;32m   6016\u001b[0m             \u001b[0;32mif\u001b[0m \u001b[0merrors\u001b[0m \u001b[0;34m!=\u001b[0m \u001b[0;34m\"ignore\"\u001b[0m\u001b[0;34m:\u001b[0m\u001b[0;34m\u001b[0m\u001b[0;34m\u001b[0m\u001b[0m\n\u001b[0;32m-> 6017\u001b[0;31m                 \u001b[0;32mraise\u001b[0m \u001b[0mKeyError\u001b[0m\u001b[0;34m(\u001b[0m\u001b[0;34mf\"{labels[mask]} not found in axis\"\u001b[0m\u001b[0;34m)\u001b[0m\u001b[0;34m\u001b[0m\u001b[0;34m\u001b[0m\u001b[0m\n\u001b[0m\u001b[1;32m   6018\u001b[0m             \u001b[0mindexer\u001b[0m \u001b[0;34m=\u001b[0m \u001b[0mindexer\u001b[0m\u001b[0;34m[\u001b[0m\u001b[0;34m~\u001b[0m\u001b[0mmask\u001b[0m\u001b[0;34m]\u001b[0m\u001b[0;34m\u001b[0m\u001b[0;34m\u001b[0m\u001b[0m\n\u001b[1;32m   6019\u001b[0m         \u001b[0;32mreturn\u001b[0m \u001b[0mself\u001b[0m\u001b[0;34m.\u001b[0m\u001b[0mdelete\u001b[0m\u001b[0;34m(\u001b[0m\u001b[0mindexer\u001b[0m\u001b[0;34m)\u001b[0m\u001b[0;34m\u001b[0m\u001b[0;34m\u001b[0m\u001b[0m\n",
            "\u001b[0;31mKeyError\u001b[0m: \"['reassignment_method1' 'reassignment_reason1'] not found in axis\""
          ]
        }
      ]
    },
    {
      "cell_type": "code",
      "source": [
        "df.head()"
      ],
      "metadata": {
        "id": "Bps6a0uwNgwJ",
        "outputId": "7c9a1eb7-d967-45e7-896d-3f64d8a8aa44",
        "colab": {
          "base_uri": "https://localhost:8080/",
          "height": 270
        }
      },
      "execution_count": 132,
      "outputs": [
        {
          "output_type": "execute_result",
          "data": {
            "text/html": [
              "\n",
              "  <div id=\"df-49b0e9df-66fe-4c67-b3f6-622e77f38ee2\">\n",
              "    <div class=\"colab-df-container\">\n",
              "      <div>\n",
              "<style scoped>\n",
              "    .dataframe tbody tr th:only-of-type {\n",
              "        vertical-align: middle;\n",
              "    }\n",
              "\n",
              "    .dataframe tbody tr th {\n",
              "        vertical-align: top;\n",
              "    }\n",
              "\n",
              "    .dataframe thead th {\n",
              "        text-align: right;\n",
              "    }\n",
              "</style>\n",
              "<table border=\"1\" class=\"dataframe\">\n",
              "  <thead>\n",
              "    <tr style=\"text-align: right;\">\n",
              "      <th></th>\n",
              "      <th>order_date</th>\n",
              "      <th>rider_id</th>\n",
              "      <th>first_mile_distance</th>\n",
              "      <th>last_mile_distance</th>\n",
              "      <th>alloted_orders</th>\n",
              "      <th>delivered_orders</th>\n",
              "      <th>cancelled</th>\n",
              "      <th>undelivered_orders</th>\n",
              "      <th>lifetime_order_count</th>\n",
              "      <th>reassignment_method</th>\n",
              "      <th>reassignment_reason</th>\n",
              "      <th>reassigned_order</th>\n",
              "      <th>session_time</th>\n",
              "      <th>cancelled_time</th>\n",
              "      <th>accept_sec</th>\n",
              "      <th>order_sec</th>\n",
              "      <th>allot_sec</th>\n",
              "      <th>year</th>\n",
              "      <th>month</th>\n",
              "      <th>reassignment_reason_freq</th>\n",
              "      <th>reassignment_method_freq</th>\n",
              "      <th>total_distance</th>\n",
              "    </tr>\n",
              "  </thead>\n",
              "  <tbody>\n",
              "    <tr>\n",
              "      <th>0</th>\n",
              "      <td>2021-01-26</td>\n",
              "      <td>11696</td>\n",
              "      <td>1.5666</td>\n",
              "      <td>2.65</td>\n",
              "      <td>46.0</td>\n",
              "      <td>46.0</td>\n",
              "      <td>0</td>\n",
              "      <td>0.0</td>\n",
              "      <td>621.0</td>\n",
              "      <td>0.010313</td>\n",
              "      <td>0.010306</td>\n",
              "      <td>NaN</td>\n",
              "      <td>NaN</td>\n",
              "      <td>NaN</td>\n",
              "      <td>9.0</td>\n",
              "      <td>33.0</td>\n",
              "      <td>24.0</td>\n",
              "      <td>2021</td>\n",
              "      <td>1</td>\n",
              "      <td>0</td>\n",
              "      <td>0.010306</td>\n",
              "      <td>4.2166</td>\n",
              "    </tr>\n",
              "    <tr>\n",
              "      <th>1</th>\n",
              "      <td>2021-01-26</td>\n",
              "      <td>18117</td>\n",
              "      <td>2.5207</td>\n",
              "      <td>2.76</td>\n",
              "      <td>8.0</td>\n",
              "      <td>8.0</td>\n",
              "      <td>0</td>\n",
              "      <td>0.0</td>\n",
              "      <td>105.0</td>\n",
              "      <td>0.010313</td>\n",
              "      <td>0.010306</td>\n",
              "      <td>NaN</td>\n",
              "      <td>3.266667</td>\n",
              "      <td>NaN</td>\n",
              "      <td>48.0</td>\n",
              "      <td>89.0</td>\n",
              "      <td>41.0</td>\n",
              "      <td>2021</td>\n",
              "      <td>1</td>\n",
              "      <td>0</td>\n",
              "      <td>0.010306</td>\n",
              "      <td>5.2807</td>\n",
              "    </tr>\n",
              "    <tr>\n",
              "      <th>2</th>\n",
              "      <td>2021-01-26</td>\n",
              "      <td>18623</td>\n",
              "      <td>2.2074</td>\n",
              "      <td>4.80</td>\n",
              "      <td>1.0</td>\n",
              "      <td>1.0</td>\n",
              "      <td>0</td>\n",
              "      <td>0.0</td>\n",
              "      <td>66.0</td>\n",
              "      <td>0.010313</td>\n",
              "      <td>0.010306</td>\n",
              "      <td>NaN</td>\n",
              "      <td>9.816667</td>\n",
              "      <td>NaN</td>\n",
              "      <td>16.0</td>\n",
              "      <td>24.0</td>\n",
              "      <td>8.0</td>\n",
              "      <td>2021</td>\n",
              "      <td>1</td>\n",
              "      <td>0</td>\n",
              "      <td>0.010306</td>\n",
              "      <td>7.0074</td>\n",
              "    </tr>\n",
              "    <tr>\n",
              "      <th>3</th>\n",
              "      <td>2021-01-26</td>\n",
              "      <td>15945</td>\n",
              "      <td>2.1894</td>\n",
              "      <td>6.38</td>\n",
              "      <td>1.0</td>\n",
              "      <td>1.0</td>\n",
              "      <td>0</td>\n",
              "      <td>0.0</td>\n",
              "      <td>127.0</td>\n",
              "      <td>0.010313</td>\n",
              "      <td>0.010306</td>\n",
              "      <td>NaN</td>\n",
              "      <td>17.533333</td>\n",
              "      <td>NaN</td>\n",
              "      <td>41.0</td>\n",
              "      <td>73.0</td>\n",
              "      <td>32.0</td>\n",
              "      <td>2021</td>\n",
              "      <td>1</td>\n",
              "      <td>0</td>\n",
              "      <td>0.010306</td>\n",
              "      <td>8.5694</td>\n",
              "    </tr>\n",
              "    <tr>\n",
              "      <th>4</th>\n",
              "      <td>2021-01-26</td>\n",
              "      <td>17589</td>\n",
              "      <td>2.7870</td>\n",
              "      <td>4.01</td>\n",
              "      <td>34.0</td>\n",
              "      <td>34.0</td>\n",
              "      <td>0</td>\n",
              "      <td>0.0</td>\n",
              "      <td>84.0</td>\n",
              "      <td>0.010313</td>\n",
              "      <td>0.010306</td>\n",
              "      <td>NaN</td>\n",
              "      <td>1.350000</td>\n",
              "      <td>NaN</td>\n",
              "      <td>36.0</td>\n",
              "      <td>87.0</td>\n",
              "      <td>51.0</td>\n",
              "      <td>2021</td>\n",
              "      <td>1</td>\n",
              "      <td>0</td>\n",
              "      <td>0.010306</td>\n",
              "      <td>6.7970</td>\n",
              "    </tr>\n",
              "  </tbody>\n",
              "</table>\n",
              "</div>\n",
              "      <button class=\"colab-df-convert\" onclick=\"convertToInteractive('df-49b0e9df-66fe-4c67-b3f6-622e77f38ee2')\"\n",
              "              title=\"Convert this dataframe to an interactive table.\"\n",
              "              style=\"display:none;\">\n",
              "        \n",
              "  <svg xmlns=\"http://www.w3.org/2000/svg\" height=\"24px\"viewBox=\"0 0 24 24\"\n",
              "       width=\"24px\">\n",
              "    <path d=\"M0 0h24v24H0V0z\" fill=\"none\"/>\n",
              "    <path d=\"M18.56 5.44l.94 2.06.94-2.06 2.06-.94-2.06-.94-.94-2.06-.94 2.06-2.06.94zm-11 1L8.5 8.5l.94-2.06 2.06-.94-2.06-.94L8.5 2.5l-.94 2.06-2.06.94zm10 10l.94 2.06.94-2.06 2.06-.94-2.06-.94-.94-2.06-.94 2.06-2.06.94z\"/><path d=\"M17.41 7.96l-1.37-1.37c-.4-.4-.92-.59-1.43-.59-.52 0-1.04.2-1.43.59L10.3 9.45l-7.72 7.72c-.78.78-.78 2.05 0 2.83L4 21.41c.39.39.9.59 1.41.59.51 0 1.02-.2 1.41-.59l7.78-7.78 2.81-2.81c.8-.78.8-2.07 0-2.86zM5.41 20L4 18.59l7.72-7.72 1.47 1.35L5.41 20z\"/>\n",
              "  </svg>\n",
              "      </button>\n",
              "      \n",
              "  <style>\n",
              "    .colab-df-container {\n",
              "      display:flex;\n",
              "      flex-wrap:wrap;\n",
              "      gap: 12px;\n",
              "    }\n",
              "\n",
              "    .colab-df-convert {\n",
              "      background-color: #E8F0FE;\n",
              "      border: none;\n",
              "      border-radius: 50%;\n",
              "      cursor: pointer;\n",
              "      display: none;\n",
              "      fill: #1967D2;\n",
              "      height: 32px;\n",
              "      padding: 0 0 0 0;\n",
              "      width: 32px;\n",
              "    }\n",
              "\n",
              "    .colab-df-convert:hover {\n",
              "      background-color: #E2EBFA;\n",
              "      box-shadow: 0px 1px 2px rgba(60, 64, 67, 0.3), 0px 1px 3px 1px rgba(60, 64, 67, 0.15);\n",
              "      fill: #174EA6;\n",
              "    }\n",
              "\n",
              "    [theme=dark] .colab-df-convert {\n",
              "      background-color: #3B4455;\n",
              "      fill: #D2E3FC;\n",
              "    }\n",
              "\n",
              "    [theme=dark] .colab-df-convert:hover {\n",
              "      background-color: #434B5C;\n",
              "      box-shadow: 0px 1px 3px 1px rgba(0, 0, 0, 0.15);\n",
              "      filter: drop-shadow(0px 1px 2px rgba(0, 0, 0, 0.3));\n",
              "      fill: #FFFFFF;\n",
              "    }\n",
              "  </style>\n",
              "\n",
              "      <script>\n",
              "        const buttonEl =\n",
              "          document.querySelector('#df-49b0e9df-66fe-4c67-b3f6-622e77f38ee2 button.colab-df-convert');\n",
              "        buttonEl.style.display =\n",
              "          google.colab.kernel.accessAllowed ? 'block' : 'none';\n",
              "\n",
              "        async function convertToInteractive(key) {\n",
              "          const element = document.querySelector('#df-49b0e9df-66fe-4c67-b3f6-622e77f38ee2');\n",
              "          const dataTable =\n",
              "            await google.colab.kernel.invokeFunction('convertToInteractive',\n",
              "                                                     [key], {});\n",
              "          if (!dataTable) return;\n",
              "\n",
              "          const docLinkHtml = 'Like what you see? Visit the ' +\n",
              "            '<a target=\"_blank\" href=https://colab.research.google.com/notebooks/data_table.ipynb>data table notebook</a>'\n",
              "            + ' to learn more about interactive tables.';\n",
              "          element.innerHTML = '';\n",
              "          dataTable['output_type'] = 'display_data';\n",
              "          await google.colab.output.renderOutput(dataTable, element);\n",
              "          const docLink = document.createElement('div');\n",
              "          docLink.innerHTML = docLinkHtml;\n",
              "          element.appendChild(docLink);\n",
              "        }\n",
              "      </script>\n",
              "    </div>\n",
              "  </div>\n",
              "  "
            ],
            "text/plain": [
              "  order_date  rider_id  ...  reassignment_method_freq  total_distance\n",
              "0 2021-01-26     11696  ...                  0.010306          4.2166\n",
              "1 2021-01-26     18117  ...                  0.010306          5.2807\n",
              "2 2021-01-26     18623  ...                  0.010306          7.0074\n",
              "3 2021-01-26     15945  ...                  0.010306          8.5694\n",
              "4 2021-01-26     17589  ...                  0.010306          6.7970\n",
              "\n",
              "[5 rows x 22 columns]"
            ]
          },
          "metadata": {},
          "execution_count": 132
        }
      ]
    },
    {
      "cell_type": "code",
      "source": [
        ""
      ],
      "metadata": {
        "id": "stFQJ9iFWzhB"
      },
      "execution_count": null,
      "outputs": []
    }
  ]
}