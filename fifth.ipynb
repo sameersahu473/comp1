{
  "nbformat": 4,
  "nbformat_minor": 0,
  "metadata": {
    "colab": {
      "name": "Ank_Cascade.ipynb",
      "provenance": [],
      "include_colab_link": true
    },
    "kernelspec": {
      "name": "python3",
      "display_name": "Python 3"
    },
    "language_info": {
      "name": "python"
    }
  },
  "cells": [
    {
      "cell_type": "markdown",
      "metadata": {
        "id": "view-in-github",
        "colab_type": "text"
      },
      "source": [
        "<a href=\"https://colab.research.google.com/github/sameersahu473/comp1/blob/main/fifth.ipynb\" target=\"_parent\"><img src=\"https://colab.research.google.com/assets/colab-badge.svg\" alt=\"Open In Colab\"/></a>"
      ]
    },
    {
      "cell_type": "code",
      "execution_count": 1,
      "metadata": {
        "colab": {
          "base_uri": "https://localhost:8080/"
        },
        "id": "xO75uvHtju8S",
        "outputId": "11fc604f-cea6-40a9-a073-fe4cd313ce9f"
      },
      "outputs": [
        {
          "output_type": "stream",
          "name": "stdout",
          "text": [
            "Requirement already satisfied: kaggle in /usr/local/lib/python3.7/dist-packages (1.5.12)\n",
            "Requirement already satisfied: python-dateutil in /usr/local/lib/python3.7/dist-packages (from kaggle) (2.8.2)\n",
            "Requirement already satisfied: tqdm in /usr/local/lib/python3.7/dist-packages (from kaggle) (4.62.3)\n",
            "Requirement already satisfied: certifi in /usr/local/lib/python3.7/dist-packages (from kaggle) (2021.10.8)\n",
            "Requirement already satisfied: six>=1.10 in /usr/local/lib/python3.7/dist-packages (from kaggle) (1.15.0)\n",
            "Requirement already satisfied: requests in /usr/local/lib/python3.7/dist-packages (from kaggle) (2.23.0)\n",
            "Requirement already satisfied: python-slugify in /usr/local/lib/python3.7/dist-packages (from kaggle) (5.0.2)\n",
            "Requirement already satisfied: urllib3 in /usr/local/lib/python3.7/dist-packages (from kaggle) (1.24.3)\n",
            "Requirement already satisfied: text-unidecode>=1.3 in /usr/local/lib/python3.7/dist-packages (from python-slugify->kaggle) (1.3)\n",
            "Requirement already satisfied: chardet<4,>=3.0.2 in /usr/local/lib/python3.7/dist-packages (from requests->kaggle) (3.0.4)\n",
            "Requirement already satisfied: idna<3,>=2.5 in /usr/local/lib/python3.7/dist-packages (from requests->kaggle) (2.10)\n"
          ]
        }
      ],
      "source": [
        "! pip install kaggle"
      ]
    },
    {
      "cell_type": "code",
      "source": [
        "! mkdir ~/.kaggle"
      ],
      "metadata": {
        "id": "ovMXyDgdj87i"
      },
      "execution_count": 2,
      "outputs": []
    },
    {
      "cell_type": "code",
      "source": [
        "! cp kaggle.json ~/.kaggle/"
      ],
      "metadata": {
        "id": "_XftKznHkDXn"
      },
      "execution_count": 3,
      "outputs": []
    },
    {
      "cell_type": "code",
      "source": [
        "! chmod 600 ~/.kaggle/kaggle.json\n"
      ],
      "metadata": {
        "id": "lcBhCI3lkGCT"
      },
      "execution_count": 4,
      "outputs": []
    },
    {
      "cell_type": "code",
      "source": [
        "!kaggle competitions download -c cascade-cup-22"
      ],
      "metadata": {
        "colab": {
          "base_uri": "https://localhost:8080/"
        },
        "id": "xCoP7ogWkaxR",
        "outputId": "edbe0787-7a31-4e75-90f5-a5886341c1c3"
      },
      "execution_count": 5,
      "outputs": [
        {
          "output_type": "stream",
          "name": "stdout",
          "text": [
            "Warning: Looks like you're using an outdated API Version, please consider updating (server 1.5.12 / client 1.5.4)\n",
            "Downloading train.csv.zip to /content\n",
            " 47% 8.00M/16.9M [00:00<00:00, 81.2MB/s]\n",
            "100% 16.9M/16.9M [00:00<00:00, 82.9MB/s]\n",
            "Downloading sample_submission.csv.zip to /content\n",
            "  0% 0.00/317k [00:00<?, ?B/s]\n",
            "100% 317k/317k [00:00<00:00, 19.6MB/s]\n",
            "Downloading test.csv.zip to /content\n",
            "  0% 0.00/4.31M [00:00<?, ?B/s]\n",
            "100% 4.31M/4.31M [00:00<00:00, 39.7MB/s]\n"
          ]
        }
      ]
    },
    {
      "cell_type": "code",
      "source": [
        "!unzip train.csv.zip"
      ],
      "metadata": {
        "colab": {
          "base_uri": "https://localhost:8080/"
        },
        "id": "Y0lEwRA-kwCA",
        "outputId": "7822987f-3980-4936-d9fa-23e1d754d1b2"
      },
      "execution_count": 6,
      "outputs": [
        {
          "output_type": "stream",
          "name": "stdout",
          "text": [
            "Archive:  train.csv.zip\n",
            "  inflating: train.csv               \n"
          ]
        }
      ]
    },
    {
      "cell_type": "code",
      "source": [
        "!unzip test.csv.zip"
      ],
      "metadata": {
        "colab": {
          "base_uri": "https://localhost:8080/"
        },
        "id": "6TjwssOsk_1p",
        "outputId": "b8640869-48a5-4c1f-a44d-f7f1fdf46a9d"
      },
      "execution_count": 7,
      "outputs": [
        {
          "output_type": "stream",
          "name": "stdout",
          "text": [
            "Archive:  test.csv.zip\n",
            "  inflating: test.csv                \n"
          ]
        }
      ]
    },
    {
      "cell_type": "code",
      "source": [
        "import numpy as np\n",
        "import pandas as pd \n",
        "import matplotlib.pyplot as plt\n",
        "%matplotlib inline\n",
        "import seaborn as sns"
      ],
      "metadata": {
        "id": "a2wewhIOlKgF"
      },
      "execution_count": 8,
      "outputs": []
    },
    {
      "cell_type": "code",
      "source": [
        "df = pd.read_csv('train.csv')\n",
        "df_test = pd.read_csv('test.csv')"
      ],
      "metadata": {
        "id": "GgD8F3D-lGvU"
      },
      "execution_count": 9,
      "outputs": []
    },
    {
      "cell_type": "code",
      "source": [
        "df.head()"
      ],
      "metadata": {
        "colab": {
          "base_uri": "https://localhost:8080/",
          "height": 357
        },
        "id": "F5kMx4EzlP4q",
        "outputId": "b7f7306d-30f6-48d9-df61-8bb1a760cd5d"
      },
      "execution_count": 10,
      "outputs": [
        {
          "output_type": "execute_result",
          "data": {
            "text/html": [
              "\n",
              "  <div id=\"df-ccab596e-d034-446f-ba17-db1576f651d2\">\n",
              "    <div class=\"colab-df-container\">\n",
              "      <div>\n",
              "<style scoped>\n",
              "    .dataframe tbody tr th:only-of-type {\n",
              "        vertical-align: middle;\n",
              "    }\n",
              "\n",
              "    .dataframe tbody tr th {\n",
              "        vertical-align: top;\n",
              "    }\n",
              "\n",
              "    .dataframe thead th {\n",
              "        text-align: right;\n",
              "    }\n",
              "</style>\n",
              "<table border=\"1\" class=\"dataframe\">\n",
              "  <thead>\n",
              "    <tr style=\"text-align: right;\">\n",
              "      <th></th>\n",
              "      <th>order_time</th>\n",
              "      <th>order_id</th>\n",
              "      <th>order_date</th>\n",
              "      <th>allot_time</th>\n",
              "      <th>accept_time</th>\n",
              "      <th>pickup_time</th>\n",
              "      <th>delivered_time</th>\n",
              "      <th>rider_id</th>\n",
              "      <th>first_mile_distance</th>\n",
              "      <th>last_mile_distance</th>\n",
              "      <th>alloted_orders</th>\n",
              "      <th>delivered_orders</th>\n",
              "      <th>cancelled</th>\n",
              "      <th>undelivered_orders</th>\n",
              "      <th>lifetime_order_count</th>\n",
              "      <th>reassignment_method</th>\n",
              "      <th>reassignment_reason</th>\n",
              "      <th>reassigned_order</th>\n",
              "      <th>session_time</th>\n",
              "      <th>cancelled_time</th>\n",
              "    </tr>\n",
              "  </thead>\n",
              "  <tbody>\n",
              "    <tr>\n",
              "      <th>0</th>\n",
              "      <td>2021-01-26 02:21:35</td>\n",
              "      <td>556753</td>\n",
              "      <td>2021-01-26 00:00:00</td>\n",
              "      <td>2021-01-26 02:21:59</td>\n",
              "      <td>2021-01-26 02:22:08</td>\n",
              "      <td>2021-01-26 02:32:51</td>\n",
              "      <td>2021-01-26 02:49:47</td>\n",
              "      <td>11696</td>\n",
              "      <td>1.5666</td>\n",
              "      <td>2.65</td>\n",
              "      <td>46.0</td>\n",
              "      <td>46.0</td>\n",
              "      <td>0</td>\n",
              "      <td>0.0</td>\n",
              "      <td>621.0</td>\n",
              "      <td>NaN</td>\n",
              "      <td>NaN</td>\n",
              "      <td>NaN</td>\n",
              "      <td>NaN</td>\n",
              "      <td>NaN</td>\n",
              "    </tr>\n",
              "    <tr>\n",
              "      <th>1</th>\n",
              "      <td>2021-01-26 02:33:16</td>\n",
              "      <td>556754</td>\n",
              "      <td>2021-01-26 00:00:00</td>\n",
              "      <td>2021-01-26 02:33:57</td>\n",
              "      <td>2021-01-26 02:34:45</td>\n",
              "      <td>2021-01-26 02:50:25</td>\n",
              "      <td>2021-01-26 03:11:15</td>\n",
              "      <td>18117</td>\n",
              "      <td>2.5207</td>\n",
              "      <td>2.76</td>\n",
              "      <td>8.0</td>\n",
              "      <td>8.0</td>\n",
              "      <td>0</td>\n",
              "      <td>0.0</td>\n",
              "      <td>105.0</td>\n",
              "      <td>NaN</td>\n",
              "      <td>NaN</td>\n",
              "      <td>NaN</td>\n",
              "      <td>3.266667</td>\n",
              "      <td>NaN</td>\n",
              "    </tr>\n",
              "    <tr>\n",
              "      <th>2</th>\n",
              "      <td>2021-01-26 02:39:49</td>\n",
              "      <td>556755</td>\n",
              "      <td>2021-01-26 00:00:00</td>\n",
              "      <td>2021-01-26 02:39:57</td>\n",
              "      <td>2021-01-26 02:40:13</td>\n",
              "      <td>2021-01-26 02:56:00</td>\n",
              "      <td>2021-01-26 03:12:46</td>\n",
              "      <td>18623</td>\n",
              "      <td>2.2074</td>\n",
              "      <td>4.80</td>\n",
              "      <td>1.0</td>\n",
              "      <td>1.0</td>\n",
              "      <td>0</td>\n",
              "      <td>0.0</td>\n",
              "      <td>66.0</td>\n",
              "      <td>NaN</td>\n",
              "      <td>NaN</td>\n",
              "      <td>NaN</td>\n",
              "      <td>9.816667</td>\n",
              "      <td>NaN</td>\n",
              "    </tr>\n",
              "    <tr>\n",
              "      <th>3</th>\n",
              "      <td>2021-01-26 02:47:53</td>\n",
              "      <td>556756</td>\n",
              "      <td>2021-01-26 00:00:00</td>\n",
              "      <td>2021-01-26 02:48:25</td>\n",
              "      <td>2021-01-26 02:49:06</td>\n",
              "      <td>2021-01-26 03:21:51</td>\n",
              "      <td>2021-01-26 03:41:05</td>\n",
              "      <td>15945</td>\n",
              "      <td>2.1894</td>\n",
              "      <td>6.38</td>\n",
              "      <td>1.0</td>\n",
              "      <td>1.0</td>\n",
              "      <td>0</td>\n",
              "      <td>0.0</td>\n",
              "      <td>127.0</td>\n",
              "      <td>NaN</td>\n",
              "      <td>NaN</td>\n",
              "      <td>NaN</td>\n",
              "      <td>17.533333</td>\n",
              "      <td>NaN</td>\n",
              "    </tr>\n",
              "    <tr>\n",
              "      <th>4</th>\n",
              "      <td>2021-01-26 03:06:30</td>\n",
              "      <td>556757</td>\n",
              "      <td>2021-01-26 00:00:00</td>\n",
              "      <td>2021-01-26 03:07:21</td>\n",
              "      <td>2021-01-26 03:07:57</td>\n",
              "      <td>2021-01-26 03:31:38</td>\n",
              "      <td>2021-01-26 04:00:15</td>\n",
              "      <td>17589</td>\n",
              "      <td>2.7870</td>\n",
              "      <td>4.01</td>\n",
              "      <td>34.0</td>\n",
              "      <td>34.0</td>\n",
              "      <td>0</td>\n",
              "      <td>0.0</td>\n",
              "      <td>84.0</td>\n",
              "      <td>NaN</td>\n",
              "      <td>NaN</td>\n",
              "      <td>NaN</td>\n",
              "      <td>1.350000</td>\n",
              "      <td>NaN</td>\n",
              "    </tr>\n",
              "  </tbody>\n",
              "</table>\n",
              "</div>\n",
              "      <button class=\"colab-df-convert\" onclick=\"convertToInteractive('df-ccab596e-d034-446f-ba17-db1576f651d2')\"\n",
              "              title=\"Convert this dataframe to an interactive table.\"\n",
              "              style=\"display:none;\">\n",
              "        \n",
              "  <svg xmlns=\"http://www.w3.org/2000/svg\" height=\"24px\"viewBox=\"0 0 24 24\"\n",
              "       width=\"24px\">\n",
              "    <path d=\"M0 0h24v24H0V0z\" fill=\"none\"/>\n",
              "    <path d=\"M18.56 5.44l.94 2.06.94-2.06 2.06-.94-2.06-.94-.94-2.06-.94 2.06-2.06.94zm-11 1L8.5 8.5l.94-2.06 2.06-.94-2.06-.94L8.5 2.5l-.94 2.06-2.06.94zm10 10l.94 2.06.94-2.06 2.06-.94-2.06-.94-.94-2.06-.94 2.06-2.06.94z\"/><path d=\"M17.41 7.96l-1.37-1.37c-.4-.4-.92-.59-1.43-.59-.52 0-1.04.2-1.43.59L10.3 9.45l-7.72 7.72c-.78.78-.78 2.05 0 2.83L4 21.41c.39.39.9.59 1.41.59.51 0 1.02-.2 1.41-.59l7.78-7.78 2.81-2.81c.8-.78.8-2.07 0-2.86zM5.41 20L4 18.59l7.72-7.72 1.47 1.35L5.41 20z\"/>\n",
              "  </svg>\n",
              "      </button>\n",
              "      \n",
              "  <style>\n",
              "    .colab-df-container {\n",
              "      display:flex;\n",
              "      flex-wrap:wrap;\n",
              "      gap: 12px;\n",
              "    }\n",
              "\n",
              "    .colab-df-convert {\n",
              "      background-color: #E8F0FE;\n",
              "      border: none;\n",
              "      border-radius: 50%;\n",
              "      cursor: pointer;\n",
              "      display: none;\n",
              "      fill: #1967D2;\n",
              "      height: 32px;\n",
              "      padding: 0 0 0 0;\n",
              "      width: 32px;\n",
              "    }\n",
              "\n",
              "    .colab-df-convert:hover {\n",
              "      background-color: #E2EBFA;\n",
              "      box-shadow: 0px 1px 2px rgba(60, 64, 67, 0.3), 0px 1px 3px 1px rgba(60, 64, 67, 0.15);\n",
              "      fill: #174EA6;\n",
              "    }\n",
              "\n",
              "    [theme=dark] .colab-df-convert {\n",
              "      background-color: #3B4455;\n",
              "      fill: #D2E3FC;\n",
              "    }\n",
              "\n",
              "    [theme=dark] .colab-df-convert:hover {\n",
              "      background-color: #434B5C;\n",
              "      box-shadow: 0px 1px 3px 1px rgba(0, 0, 0, 0.15);\n",
              "      filter: drop-shadow(0px 1px 2px rgba(0, 0, 0, 0.3));\n",
              "      fill: #FFFFFF;\n",
              "    }\n",
              "  </style>\n",
              "\n",
              "      <script>\n",
              "        const buttonEl =\n",
              "          document.querySelector('#df-ccab596e-d034-446f-ba17-db1576f651d2 button.colab-df-convert');\n",
              "        buttonEl.style.display =\n",
              "          google.colab.kernel.accessAllowed ? 'block' : 'none';\n",
              "\n",
              "        async function convertToInteractive(key) {\n",
              "          const element = document.querySelector('#df-ccab596e-d034-446f-ba17-db1576f651d2');\n",
              "          const dataTable =\n",
              "            await google.colab.kernel.invokeFunction('convertToInteractive',\n",
              "                                                     [key], {});\n",
              "          if (!dataTable) return;\n",
              "\n",
              "          const docLinkHtml = 'Like what you see? Visit the ' +\n",
              "            '<a target=\"_blank\" href=https://colab.research.google.com/notebooks/data_table.ipynb>data table notebook</a>'\n",
              "            + ' to learn more about interactive tables.';\n",
              "          element.innerHTML = '';\n",
              "          dataTable['output_type'] = 'display_data';\n",
              "          await google.colab.output.renderOutput(dataTable, element);\n",
              "          const docLink = document.createElement('div');\n",
              "          docLink.innerHTML = docLinkHtml;\n",
              "          element.appendChild(docLink);\n",
              "        }\n",
              "      </script>\n",
              "    </div>\n",
              "  </div>\n",
              "  "
            ],
            "text/plain": [
              "            order_time  order_id  ... session_time cancelled_time\n",
              "0  2021-01-26 02:21:35    556753  ...          NaN            NaN\n",
              "1  2021-01-26 02:33:16    556754  ...     3.266667            NaN\n",
              "2  2021-01-26 02:39:49    556755  ...     9.816667            NaN\n",
              "3  2021-01-26 02:47:53    556756  ...    17.533333            NaN\n",
              "4  2021-01-26 03:06:30    556757  ...     1.350000            NaN\n",
              "\n",
              "[5 rows x 20 columns]"
            ]
          },
          "metadata": {},
          "execution_count": 10
        }
      ]
    },
    {
      "cell_type": "code",
      "source": [
        "df_test.head()"
      ],
      "metadata": {
        "colab": {
          "base_uri": "https://localhost:8080/",
          "height": 357
        },
        "id": "39U6WftHlUls",
        "outputId": "61bd08bb-0cfe-469b-a7d0-9d237fb51af3"
      },
      "execution_count": 11,
      "outputs": [
        {
          "output_type": "execute_result",
          "data": {
            "text/html": [
              "\n",
              "  <div id=\"df-dc6d1c04-6cdb-43a9-a987-76418b66067c\">\n",
              "    <div class=\"colab-df-container\">\n",
              "      <div>\n",
              "<style scoped>\n",
              "    .dataframe tbody tr th:only-of-type {\n",
              "        vertical-align: middle;\n",
              "    }\n",
              "\n",
              "    .dataframe tbody tr th {\n",
              "        vertical-align: top;\n",
              "    }\n",
              "\n",
              "    .dataframe thead th {\n",
              "        text-align: right;\n",
              "    }\n",
              "</style>\n",
              "<table border=\"1\" class=\"dataframe\">\n",
              "  <thead>\n",
              "    <tr style=\"text-align: right;\">\n",
              "      <th></th>\n",
              "      <th>order_time</th>\n",
              "      <th>order_id</th>\n",
              "      <th>order_date</th>\n",
              "      <th>allot_time</th>\n",
              "      <th>accept_time</th>\n",
              "      <th>rider_id</th>\n",
              "      <th>first_mile_distance</th>\n",
              "      <th>last_mile_distance</th>\n",
              "      <th>alloted_orders</th>\n",
              "      <th>delivered_orders</th>\n",
              "      <th>undelivered_orders</th>\n",
              "      <th>lifetime_order_count</th>\n",
              "      <th>reassignment_method</th>\n",
              "      <th>reassignment_reason</th>\n",
              "      <th>reassigned_order</th>\n",
              "      <th>session_time</th>\n",
              "    </tr>\n",
              "  </thead>\n",
              "  <tbody>\n",
              "    <tr>\n",
              "      <th>0</th>\n",
              "      <td>2021-02-06 10:03:24</td>\n",
              "      <td>130231</td>\n",
              "      <td>2021-02-06 00:00:00</td>\n",
              "      <td>2021-02-06 10:03:49</td>\n",
              "      <td>2021-02-06 10:04:15</td>\n",
              "      <td>12884</td>\n",
              "      <td>1.6585</td>\n",
              "      <td>4.54</td>\n",
              "      <td>216.0</td>\n",
              "      <td>215.0</td>\n",
              "      <td>1.0</td>\n",
              "      <td>747.0</td>\n",
              "      <td>NaN</td>\n",
              "      <td>NaN</td>\n",
              "      <td>NaN</td>\n",
              "      <td>273.400000</td>\n",
              "    </tr>\n",
              "    <tr>\n",
              "      <th>1</th>\n",
              "      <td>2021-02-06 10:03:26</td>\n",
              "      <td>130232</td>\n",
              "      <td>2021-02-06 00:00:00</td>\n",
              "      <td>2021-02-06 10:03:27</td>\n",
              "      <td>2021-02-06 10:03:36</td>\n",
              "      <td>3541</td>\n",
              "      <td>2.0709</td>\n",
              "      <td>5.84</td>\n",
              "      <td>52.0</td>\n",
              "      <td>52.0</td>\n",
              "      <td>0.0</td>\n",
              "      <td>75.0</td>\n",
              "      <td>NaN</td>\n",
              "      <td>NaN</td>\n",
              "      <td>NaN</td>\n",
              "      <td>252.100000</td>\n",
              "    </tr>\n",
              "    <tr>\n",
              "      <th>2</th>\n",
              "      <td>2021-02-06 10:03:27</td>\n",
              "      <td>130233</td>\n",
              "      <td>2021-02-06 00:00:00</td>\n",
              "      <td>2021-02-06 10:04:14</td>\n",
              "      <td>2021-02-06 10:05:34</td>\n",
              "      <td>603</td>\n",
              "      <td>1.3884</td>\n",
              "      <td>0.99</td>\n",
              "      <td>289.0</td>\n",
              "      <td>289.0</td>\n",
              "      <td>0.0</td>\n",
              "      <td>2214.0</td>\n",
              "      <td>NaN</td>\n",
              "      <td>NaN</td>\n",
              "      <td>NaN</td>\n",
              "      <td>241.383333</td>\n",
              "    </tr>\n",
              "    <tr>\n",
              "      <th>3</th>\n",
              "      <td>2021-02-06 10:03:29</td>\n",
              "      <td>130234</td>\n",
              "      <td>2021-02-06 00:00:00</td>\n",
              "      <td>2021-02-06 10:03:30</td>\n",
              "      <td>2021-02-06 10:03:53</td>\n",
              "      <td>3414</td>\n",
              "      <td>1.9039</td>\n",
              "      <td>2.59</td>\n",
              "      <td>125.0</td>\n",
              "      <td>122.0</td>\n",
              "      <td>3.0</td>\n",
              "      <td>1020.0</td>\n",
              "      <td>NaN</td>\n",
              "      <td>NaN</td>\n",
              "      <td>NaN</td>\n",
              "      <td>291.933333</td>\n",
              "    </tr>\n",
              "    <tr>\n",
              "      <th>4</th>\n",
              "      <td>2021-02-06 10:03:35</td>\n",
              "      <td>130235</td>\n",
              "      <td>2021-02-06 00:00:00</td>\n",
              "      <td>2021-02-06 10:03:43</td>\n",
              "      <td>2021-02-06 10:04:43</td>\n",
              "      <td>1426</td>\n",
              "      <td>0.8275</td>\n",
              "      <td>0.94</td>\n",
              "      <td>352.0</td>\n",
              "      <td>350.0</td>\n",
              "      <td>2.0</td>\n",
              "      <td>7284.0</td>\n",
              "      <td>NaN</td>\n",
              "      <td>NaN</td>\n",
              "      <td>NaN</td>\n",
              "      <td>247.133333</td>\n",
              "    </tr>\n",
              "  </tbody>\n",
              "</table>\n",
              "</div>\n",
              "      <button class=\"colab-df-convert\" onclick=\"convertToInteractive('df-dc6d1c04-6cdb-43a9-a987-76418b66067c')\"\n",
              "              title=\"Convert this dataframe to an interactive table.\"\n",
              "              style=\"display:none;\">\n",
              "        \n",
              "  <svg xmlns=\"http://www.w3.org/2000/svg\" height=\"24px\"viewBox=\"0 0 24 24\"\n",
              "       width=\"24px\">\n",
              "    <path d=\"M0 0h24v24H0V0z\" fill=\"none\"/>\n",
              "    <path d=\"M18.56 5.44l.94 2.06.94-2.06 2.06-.94-2.06-.94-.94-2.06-.94 2.06-2.06.94zm-11 1L8.5 8.5l.94-2.06 2.06-.94-2.06-.94L8.5 2.5l-.94 2.06-2.06.94zm10 10l.94 2.06.94-2.06 2.06-.94-2.06-.94-.94-2.06-.94 2.06-2.06.94z\"/><path d=\"M17.41 7.96l-1.37-1.37c-.4-.4-.92-.59-1.43-.59-.52 0-1.04.2-1.43.59L10.3 9.45l-7.72 7.72c-.78.78-.78 2.05 0 2.83L4 21.41c.39.39.9.59 1.41.59.51 0 1.02-.2 1.41-.59l7.78-7.78 2.81-2.81c.8-.78.8-2.07 0-2.86zM5.41 20L4 18.59l7.72-7.72 1.47 1.35L5.41 20z\"/>\n",
              "  </svg>\n",
              "      </button>\n",
              "      \n",
              "  <style>\n",
              "    .colab-df-container {\n",
              "      display:flex;\n",
              "      flex-wrap:wrap;\n",
              "      gap: 12px;\n",
              "    }\n",
              "\n",
              "    .colab-df-convert {\n",
              "      background-color: #E8F0FE;\n",
              "      border: none;\n",
              "      border-radius: 50%;\n",
              "      cursor: pointer;\n",
              "      display: none;\n",
              "      fill: #1967D2;\n",
              "      height: 32px;\n",
              "      padding: 0 0 0 0;\n",
              "      width: 32px;\n",
              "    }\n",
              "\n",
              "    .colab-df-convert:hover {\n",
              "      background-color: #E2EBFA;\n",
              "      box-shadow: 0px 1px 2px rgba(60, 64, 67, 0.3), 0px 1px 3px 1px rgba(60, 64, 67, 0.15);\n",
              "      fill: #174EA6;\n",
              "    }\n",
              "\n",
              "    [theme=dark] .colab-df-convert {\n",
              "      background-color: #3B4455;\n",
              "      fill: #D2E3FC;\n",
              "    }\n",
              "\n",
              "    [theme=dark] .colab-df-convert:hover {\n",
              "      background-color: #434B5C;\n",
              "      box-shadow: 0px 1px 3px 1px rgba(0, 0, 0, 0.15);\n",
              "      filter: drop-shadow(0px 1px 2px rgba(0, 0, 0, 0.3));\n",
              "      fill: #FFFFFF;\n",
              "    }\n",
              "  </style>\n",
              "\n",
              "      <script>\n",
              "        const buttonEl =\n",
              "          document.querySelector('#df-dc6d1c04-6cdb-43a9-a987-76418b66067c button.colab-df-convert');\n",
              "        buttonEl.style.display =\n",
              "          google.colab.kernel.accessAllowed ? 'block' : 'none';\n",
              "\n",
              "        async function convertToInteractive(key) {\n",
              "          const element = document.querySelector('#df-dc6d1c04-6cdb-43a9-a987-76418b66067c');\n",
              "          const dataTable =\n",
              "            await google.colab.kernel.invokeFunction('convertToInteractive',\n",
              "                                                     [key], {});\n",
              "          if (!dataTable) return;\n",
              "\n",
              "          const docLinkHtml = 'Like what you see? Visit the ' +\n",
              "            '<a target=\"_blank\" href=https://colab.research.google.com/notebooks/data_table.ipynb>data table notebook</a>'\n",
              "            + ' to learn more about interactive tables.';\n",
              "          element.innerHTML = '';\n",
              "          dataTable['output_type'] = 'display_data';\n",
              "          await google.colab.output.renderOutput(dataTable, element);\n",
              "          const docLink = document.createElement('div');\n",
              "          docLink.innerHTML = docLinkHtml;\n",
              "          element.appendChild(docLink);\n",
              "        }\n",
              "      </script>\n",
              "    </div>\n",
              "  </div>\n",
              "  "
            ],
            "text/plain": [
              "            order_time  order_id  ... reassigned_order session_time\n",
              "0  2021-02-06 10:03:24    130231  ...              NaN   273.400000\n",
              "1  2021-02-06 10:03:26    130232  ...              NaN   252.100000\n",
              "2  2021-02-06 10:03:27    130233  ...              NaN   241.383333\n",
              "3  2021-02-06 10:03:29    130234  ...              NaN   291.933333\n",
              "4  2021-02-06 10:03:35    130235  ...              NaN   247.133333\n",
              "\n",
              "[5 rows x 16 columns]"
            ]
          },
          "metadata": {},
          "execution_count": 11
        }
      ]
    },
    {
      "cell_type": "code",
      "source": [
        "df_test.shape"
      ],
      "metadata": {
        "id": "Myh3jh5dytx2",
        "outputId": "f44aa16d-7507-4e0f-b907-fa50bb7ca6da",
        "colab": {
          "base_uri": "https://localhost:8080/"
        }
      },
      "execution_count": 12,
      "outputs": [
        {
          "output_type": "execute_result",
          "data": {
            "text/plain": [
              "(144844, 16)"
            ]
          },
          "metadata": {},
          "execution_count": 12
        }
      ]
    },
    {
      "cell_type": "code",
      "source": [
        "df_test.size"
      ],
      "metadata": {
        "id": "0Lr4Y-PlzswE",
        "outputId": "4eed82a2-0ab3-487b-b16e-31b8a3211726",
        "colab": {
          "base_uri": "https://localhost:8080/"
        }
      },
      "execution_count": 13,
      "outputs": [
        {
          "output_type": "execute_result",
          "data": {
            "text/plain": [
              "2317504"
            ]
          },
          "metadata": {},
          "execution_count": 13
        }
      ]
    },
    {
      "cell_type": "code",
      "source": [
        "df['rider_id'].value_counts()"
      ],
      "metadata": {
        "colab": {
          "base_uri": "https://localhost:8080/"
        },
        "id": "5zMxjeM4m_Xp",
        "outputId": "8e1eef4d-379b-4705-f1aa-b5a133b19fde"
      },
      "execution_count": 14,
      "outputs": [
        {
          "output_type": "execute_result",
          "data": {
            "text/plain": [
              "237      228\n",
              "190      213\n",
              "11998    209\n",
              "170      203\n",
              "853      200\n",
              "        ... \n",
              "9339       1\n",
              "20693      1\n",
              "16603      1\n",
              "20692      1\n",
              "4895       1\n",
              "Name: rider_id, Length: 19537, dtype: int64"
            ]
          },
          "metadata": {},
          "execution_count": 14
        }
      ]
    },
    {
      "cell_type": "code",
      "source": [
        "df.shape"
      ],
      "metadata": {
        "colab": {
          "base_uri": "https://localhost:8080/"
        },
        "id": "zsbek06yodKK",
        "outputId": "a84e2920-aa6b-492f-f752-0b8f8e5c7eec"
      },
      "execution_count": 15,
      "outputs": [
        {
          "output_type": "execute_result",
          "data": {
            "text/plain": [
              "(450000, 20)"
            ]
          },
          "metadata": {},
          "execution_count": 15
        }
      ]
    },
    {
      "cell_type": "code",
      "source": [
        "df.isnull().sum()"
      ],
      "metadata": {
        "colab": {
          "base_uri": "https://localhost:8080/"
        },
        "id": "4yyqtHtmoSAV",
        "outputId": "88760bff-38c4-4451-bbbc-84ea78c2d58c"
      },
      "execution_count": 16,
      "outputs": [
        {
          "output_type": "execute_result",
          "data": {
            "text/plain": [
              "order_time                   0\n",
              "order_id                     0\n",
              "order_date                   0\n",
              "allot_time                   0\n",
              "accept_time                157\n",
              "pickup_time               2421\n",
              "delivered_time            5218\n",
              "rider_id                     0\n",
              "first_mile_distance          0\n",
              "last_mile_distance           0\n",
              "alloted_orders           16948\n",
              "delivered_orders         17341\n",
              "cancelled                    0\n",
              "undelivered_orders       17341\n",
              "lifetime_order_count        53\n",
              "reassignment_method     436256\n",
              "reassignment_reason     436247\n",
              "reassigned_order        436247\n",
              "session_time              3675\n",
              "cancelled_time          444782\n",
              "dtype: int64"
            ]
          },
          "metadata": {},
          "execution_count": 16
        }
      ]
    },
    {
      "cell_type": "code",
      "source": [
        "df = df.drop(columns=['order_id','pickup_time','delivered_time'],axis =1)"
      ],
      "metadata": {
        "id": "BRb2M-rznfTA"
      },
      "execution_count": 17,
      "outputs": []
    },
    {
      "cell_type": "code",
      "source": [
        "df.head()"
      ],
      "metadata": {
        "colab": {
          "base_uri": "https://localhost:8080/",
          "height": 357
        },
        "id": "Ok7PsuwhpMrd",
        "outputId": "8ae49f05-f251-41bc-ee95-c2a12836de1f"
      },
      "execution_count": 18,
      "outputs": [
        {
          "output_type": "execute_result",
          "data": {
            "text/html": [
              "\n",
              "  <div id=\"df-afeeba58-d542-4289-91c9-8dda8ae12d14\">\n",
              "    <div class=\"colab-df-container\">\n",
              "      <div>\n",
              "<style scoped>\n",
              "    .dataframe tbody tr th:only-of-type {\n",
              "        vertical-align: middle;\n",
              "    }\n",
              "\n",
              "    .dataframe tbody tr th {\n",
              "        vertical-align: top;\n",
              "    }\n",
              "\n",
              "    .dataframe thead th {\n",
              "        text-align: right;\n",
              "    }\n",
              "</style>\n",
              "<table border=\"1\" class=\"dataframe\">\n",
              "  <thead>\n",
              "    <tr style=\"text-align: right;\">\n",
              "      <th></th>\n",
              "      <th>order_time</th>\n",
              "      <th>order_date</th>\n",
              "      <th>allot_time</th>\n",
              "      <th>accept_time</th>\n",
              "      <th>rider_id</th>\n",
              "      <th>first_mile_distance</th>\n",
              "      <th>last_mile_distance</th>\n",
              "      <th>alloted_orders</th>\n",
              "      <th>delivered_orders</th>\n",
              "      <th>cancelled</th>\n",
              "      <th>undelivered_orders</th>\n",
              "      <th>lifetime_order_count</th>\n",
              "      <th>reassignment_method</th>\n",
              "      <th>reassignment_reason</th>\n",
              "      <th>reassigned_order</th>\n",
              "      <th>session_time</th>\n",
              "      <th>cancelled_time</th>\n",
              "    </tr>\n",
              "  </thead>\n",
              "  <tbody>\n",
              "    <tr>\n",
              "      <th>0</th>\n",
              "      <td>2021-01-26 02:21:35</td>\n",
              "      <td>2021-01-26 00:00:00</td>\n",
              "      <td>2021-01-26 02:21:59</td>\n",
              "      <td>2021-01-26 02:22:08</td>\n",
              "      <td>11696</td>\n",
              "      <td>1.5666</td>\n",
              "      <td>2.65</td>\n",
              "      <td>46.0</td>\n",
              "      <td>46.0</td>\n",
              "      <td>0</td>\n",
              "      <td>0.0</td>\n",
              "      <td>621.0</td>\n",
              "      <td>NaN</td>\n",
              "      <td>NaN</td>\n",
              "      <td>NaN</td>\n",
              "      <td>NaN</td>\n",
              "      <td>NaN</td>\n",
              "    </tr>\n",
              "    <tr>\n",
              "      <th>1</th>\n",
              "      <td>2021-01-26 02:33:16</td>\n",
              "      <td>2021-01-26 00:00:00</td>\n",
              "      <td>2021-01-26 02:33:57</td>\n",
              "      <td>2021-01-26 02:34:45</td>\n",
              "      <td>18117</td>\n",
              "      <td>2.5207</td>\n",
              "      <td>2.76</td>\n",
              "      <td>8.0</td>\n",
              "      <td>8.0</td>\n",
              "      <td>0</td>\n",
              "      <td>0.0</td>\n",
              "      <td>105.0</td>\n",
              "      <td>NaN</td>\n",
              "      <td>NaN</td>\n",
              "      <td>NaN</td>\n",
              "      <td>3.266667</td>\n",
              "      <td>NaN</td>\n",
              "    </tr>\n",
              "    <tr>\n",
              "      <th>2</th>\n",
              "      <td>2021-01-26 02:39:49</td>\n",
              "      <td>2021-01-26 00:00:00</td>\n",
              "      <td>2021-01-26 02:39:57</td>\n",
              "      <td>2021-01-26 02:40:13</td>\n",
              "      <td>18623</td>\n",
              "      <td>2.2074</td>\n",
              "      <td>4.80</td>\n",
              "      <td>1.0</td>\n",
              "      <td>1.0</td>\n",
              "      <td>0</td>\n",
              "      <td>0.0</td>\n",
              "      <td>66.0</td>\n",
              "      <td>NaN</td>\n",
              "      <td>NaN</td>\n",
              "      <td>NaN</td>\n",
              "      <td>9.816667</td>\n",
              "      <td>NaN</td>\n",
              "    </tr>\n",
              "    <tr>\n",
              "      <th>3</th>\n",
              "      <td>2021-01-26 02:47:53</td>\n",
              "      <td>2021-01-26 00:00:00</td>\n",
              "      <td>2021-01-26 02:48:25</td>\n",
              "      <td>2021-01-26 02:49:06</td>\n",
              "      <td>15945</td>\n",
              "      <td>2.1894</td>\n",
              "      <td>6.38</td>\n",
              "      <td>1.0</td>\n",
              "      <td>1.0</td>\n",
              "      <td>0</td>\n",
              "      <td>0.0</td>\n",
              "      <td>127.0</td>\n",
              "      <td>NaN</td>\n",
              "      <td>NaN</td>\n",
              "      <td>NaN</td>\n",
              "      <td>17.533333</td>\n",
              "      <td>NaN</td>\n",
              "    </tr>\n",
              "    <tr>\n",
              "      <th>4</th>\n",
              "      <td>2021-01-26 03:06:30</td>\n",
              "      <td>2021-01-26 00:00:00</td>\n",
              "      <td>2021-01-26 03:07:21</td>\n",
              "      <td>2021-01-26 03:07:57</td>\n",
              "      <td>17589</td>\n",
              "      <td>2.7870</td>\n",
              "      <td>4.01</td>\n",
              "      <td>34.0</td>\n",
              "      <td>34.0</td>\n",
              "      <td>0</td>\n",
              "      <td>0.0</td>\n",
              "      <td>84.0</td>\n",
              "      <td>NaN</td>\n",
              "      <td>NaN</td>\n",
              "      <td>NaN</td>\n",
              "      <td>1.350000</td>\n",
              "      <td>NaN</td>\n",
              "    </tr>\n",
              "  </tbody>\n",
              "</table>\n",
              "</div>\n",
              "      <button class=\"colab-df-convert\" onclick=\"convertToInteractive('df-afeeba58-d542-4289-91c9-8dda8ae12d14')\"\n",
              "              title=\"Convert this dataframe to an interactive table.\"\n",
              "              style=\"display:none;\">\n",
              "        \n",
              "  <svg xmlns=\"http://www.w3.org/2000/svg\" height=\"24px\"viewBox=\"0 0 24 24\"\n",
              "       width=\"24px\">\n",
              "    <path d=\"M0 0h24v24H0V0z\" fill=\"none\"/>\n",
              "    <path d=\"M18.56 5.44l.94 2.06.94-2.06 2.06-.94-2.06-.94-.94-2.06-.94 2.06-2.06.94zm-11 1L8.5 8.5l.94-2.06 2.06-.94-2.06-.94L8.5 2.5l-.94 2.06-2.06.94zm10 10l.94 2.06.94-2.06 2.06-.94-2.06-.94-.94-2.06-.94 2.06-2.06.94z\"/><path d=\"M17.41 7.96l-1.37-1.37c-.4-.4-.92-.59-1.43-.59-.52 0-1.04.2-1.43.59L10.3 9.45l-7.72 7.72c-.78.78-.78 2.05 0 2.83L4 21.41c.39.39.9.59 1.41.59.51 0 1.02-.2 1.41-.59l7.78-7.78 2.81-2.81c.8-.78.8-2.07 0-2.86zM5.41 20L4 18.59l7.72-7.72 1.47 1.35L5.41 20z\"/>\n",
              "  </svg>\n",
              "      </button>\n",
              "      \n",
              "  <style>\n",
              "    .colab-df-container {\n",
              "      display:flex;\n",
              "      flex-wrap:wrap;\n",
              "      gap: 12px;\n",
              "    }\n",
              "\n",
              "    .colab-df-convert {\n",
              "      background-color: #E8F0FE;\n",
              "      border: none;\n",
              "      border-radius: 50%;\n",
              "      cursor: pointer;\n",
              "      display: none;\n",
              "      fill: #1967D2;\n",
              "      height: 32px;\n",
              "      padding: 0 0 0 0;\n",
              "      width: 32px;\n",
              "    }\n",
              "\n",
              "    .colab-df-convert:hover {\n",
              "      background-color: #E2EBFA;\n",
              "      box-shadow: 0px 1px 2px rgba(60, 64, 67, 0.3), 0px 1px 3px 1px rgba(60, 64, 67, 0.15);\n",
              "      fill: #174EA6;\n",
              "    }\n",
              "\n",
              "    [theme=dark] .colab-df-convert {\n",
              "      background-color: #3B4455;\n",
              "      fill: #D2E3FC;\n",
              "    }\n",
              "\n",
              "    [theme=dark] .colab-df-convert:hover {\n",
              "      background-color: #434B5C;\n",
              "      box-shadow: 0px 1px 3px 1px rgba(0, 0, 0, 0.15);\n",
              "      filter: drop-shadow(0px 1px 2px rgba(0, 0, 0, 0.3));\n",
              "      fill: #FFFFFF;\n",
              "    }\n",
              "  </style>\n",
              "\n",
              "      <script>\n",
              "        const buttonEl =\n",
              "          document.querySelector('#df-afeeba58-d542-4289-91c9-8dda8ae12d14 button.colab-df-convert');\n",
              "        buttonEl.style.display =\n",
              "          google.colab.kernel.accessAllowed ? 'block' : 'none';\n",
              "\n",
              "        async function convertToInteractive(key) {\n",
              "          const element = document.querySelector('#df-afeeba58-d542-4289-91c9-8dda8ae12d14');\n",
              "          const dataTable =\n",
              "            await google.colab.kernel.invokeFunction('convertToInteractive',\n",
              "                                                     [key], {});\n",
              "          if (!dataTable) return;\n",
              "\n",
              "          const docLinkHtml = 'Like what you see? Visit the ' +\n",
              "            '<a target=\"_blank\" href=https://colab.research.google.com/notebooks/data_table.ipynb>data table notebook</a>'\n",
              "            + ' to learn more about interactive tables.';\n",
              "          element.innerHTML = '';\n",
              "          dataTable['output_type'] = 'display_data';\n",
              "          await google.colab.output.renderOutput(dataTable, element);\n",
              "          const docLink = document.createElement('div');\n",
              "          docLink.innerHTML = docLinkHtml;\n",
              "          element.appendChild(docLink);\n",
              "        }\n",
              "      </script>\n",
              "    </div>\n",
              "  </div>\n",
              "  "
            ],
            "text/plain": [
              "            order_time           order_date  ... session_time cancelled_time\n",
              "0  2021-01-26 02:21:35  2021-01-26 00:00:00  ...          NaN            NaN\n",
              "1  2021-01-26 02:33:16  2021-01-26 00:00:00  ...     3.266667            NaN\n",
              "2  2021-01-26 02:39:49  2021-01-26 00:00:00  ...     9.816667            NaN\n",
              "3  2021-01-26 02:47:53  2021-01-26 00:00:00  ...    17.533333            NaN\n",
              "4  2021-01-26 03:06:30  2021-01-26 00:00:00  ...     1.350000            NaN\n",
              "\n",
              "[5 rows x 17 columns]"
            ]
          },
          "metadata": {},
          "execution_count": 18
        }
      ]
    },
    {
      "cell_type": "code",
      "source": [
        "df_test = df_test.drop(['order_id'],axis=1)"
      ],
      "metadata": {
        "id": "uMXQZK3DqyS4"
      },
      "execution_count": 19,
      "outputs": []
    },
    {
      "cell_type": "code",
      "source": [
        "df.isnull().sum()"
      ],
      "metadata": {
        "colab": {
          "base_uri": "https://localhost:8080/"
        },
        "id": "tsYb753grkKv",
        "outputId": "04a539c3-e108-4fef-87b0-4b58fd8c6398"
      },
      "execution_count": 20,
      "outputs": [
        {
          "output_type": "execute_result",
          "data": {
            "text/plain": [
              "order_time                   0\n",
              "order_date                   0\n",
              "allot_time                   0\n",
              "accept_time                157\n",
              "rider_id                     0\n",
              "first_mile_distance          0\n",
              "last_mile_distance           0\n",
              "alloted_orders           16948\n",
              "delivered_orders         17341\n",
              "cancelled                    0\n",
              "undelivered_orders       17341\n",
              "lifetime_order_count        53\n",
              "reassignment_method     436256\n",
              "reassignment_reason     436247\n",
              "reassigned_order        436247\n",
              "session_time              3675\n",
              "cancelled_time          444782\n",
              "dtype: int64"
            ]
          },
          "metadata": {},
          "execution_count": 20
        }
      ]
    },
    {
      "cell_type": "code",
      "source": [
        "df['cancelled'].value_counts()"
      ],
      "metadata": {
        "colab": {
          "base_uri": "https://localhost:8080/"
        },
        "id": "kI6oL0XQsBJo",
        "outputId": "08824037-b06f-4ee7-f09e-4a4b0f371f0f"
      },
      "execution_count": 21,
      "outputs": [
        {
          "output_type": "execute_result",
          "data": {
            "text/plain": [
              "0    444782\n",
              "1      5218\n",
              "Name: cancelled, dtype: int64"
            ]
          },
          "metadata": {},
          "execution_count": 21
        }
      ]
    },
    {
      "cell_type": "code",
      "source": [
        "for col in df.columns:  \n",
        "    dataTypeSeries = df[col].dtypes\n",
        "    print('Data type of '+ col+ ' column of Dataframe :')\n",
        "    print(dataTypeSeries)"
      ],
      "metadata": {
        "colab": {
          "base_uri": "https://localhost:8080/"
        },
        "id": "YM9mBt5gsssS",
        "outputId": "ff678ede-7036-4925-ec23-25c5abc23100"
      },
      "execution_count": 22,
      "outputs": [
        {
          "output_type": "stream",
          "name": "stdout",
          "text": [
            "Data type of order_time column of Dataframe :\n",
            "object\n",
            "Data type of order_date column of Dataframe :\n",
            "object\n",
            "Data type of allot_time column of Dataframe :\n",
            "object\n",
            "Data type of accept_time column of Dataframe :\n",
            "object\n",
            "Data type of rider_id column of Dataframe :\n",
            "int64\n",
            "Data type of first_mile_distance column of Dataframe :\n",
            "float64\n",
            "Data type of last_mile_distance column of Dataframe :\n",
            "float64\n",
            "Data type of alloted_orders column of Dataframe :\n",
            "float64\n",
            "Data type of delivered_orders column of Dataframe :\n",
            "float64\n",
            "Data type of cancelled column of Dataframe :\n",
            "int64\n",
            "Data type of undelivered_orders column of Dataframe :\n",
            "float64\n",
            "Data type of lifetime_order_count column of Dataframe :\n",
            "float64\n",
            "Data type of reassignment_method column of Dataframe :\n",
            "object\n",
            "Data type of reassignment_reason column of Dataframe :\n",
            "object\n",
            "Data type of reassigned_order column of Dataframe :\n",
            "float64\n",
            "Data type of session_time column of Dataframe :\n",
            "float64\n",
            "Data type of cancelled_time column of Dataframe :\n",
            "object\n"
          ]
        }
      ]
    },
    {
      "cell_type": "code",
      "source": [
        "#creating the datetime column\n",
        "df['allot_time'] = pd.to_datetime(df['allot_time'].str.strip(), format='%Y/%m/%d %H:%M:%S')\n",
        "df_test['allot_time'] = pd.to_datetime(df_test['allot_time'].str.strip(), format='%Y/%m/%d %H:%M:%S')"
      ],
      "metadata": {
        "id": "_E87vKm5tkxy"
      },
      "execution_count": 23,
      "outputs": []
    },
    {
      "cell_type": "code",
      "source": [
        "df['accept_time'] = pd.to_datetime(df['accept_time'].str.strip(), format='%Y/%m/%d %H:%M:%S')\n",
        "df_test['accept_time'] = pd.to_datetime(df_test['accept_time'].str.strip(), format='%Y/%m/%d %H:%M:%S')"
      ],
      "metadata": {
        "id": "15dDK5veulJ1"
      },
      "execution_count": 24,
      "outputs": []
    },
    {
      "cell_type": "code",
      "source": [
        "for col in df.columns:  \n",
        "    dataTypeSeries = df[col].dtypes\n",
        "    print('Data type of '+ col+ ' column of Dataframe :')\n",
        "    print(dataTypeSeries)"
      ],
      "metadata": {
        "id": "aI-p5fu_pwoH",
        "outputId": "100d9946-b64e-4e24-a12c-cc5ff5cf87c1",
        "colab": {
          "base_uri": "https://localhost:8080/"
        }
      },
      "execution_count": 25,
      "outputs": [
        {
          "output_type": "stream",
          "name": "stdout",
          "text": [
            "Data type of order_time column of Dataframe :\n",
            "object\n",
            "Data type of order_date column of Dataframe :\n",
            "object\n",
            "Data type of allot_time column of Dataframe :\n",
            "datetime64[ns]\n",
            "Data type of accept_time column of Dataframe :\n",
            "datetime64[ns]\n",
            "Data type of rider_id column of Dataframe :\n",
            "int64\n",
            "Data type of first_mile_distance column of Dataframe :\n",
            "float64\n",
            "Data type of last_mile_distance column of Dataframe :\n",
            "float64\n",
            "Data type of alloted_orders column of Dataframe :\n",
            "float64\n",
            "Data type of delivered_orders column of Dataframe :\n",
            "float64\n",
            "Data type of cancelled column of Dataframe :\n",
            "int64\n",
            "Data type of undelivered_orders column of Dataframe :\n",
            "float64\n",
            "Data type of lifetime_order_count column of Dataframe :\n",
            "float64\n",
            "Data type of reassignment_method column of Dataframe :\n",
            "object\n",
            "Data type of reassignment_reason column of Dataframe :\n",
            "object\n",
            "Data type of reassigned_order column of Dataframe :\n",
            "float64\n",
            "Data type of session_time column of Dataframe :\n",
            "float64\n",
            "Data type of cancelled_time column of Dataframe :\n",
            "object\n"
          ]
        }
      ]
    },
    {
      "cell_type": "code",
      "source": [
        "df['accept_to_allot'] = (df['accept_time'] - df['allot_time'])\n",
        "df_test['accept_to_allot'] = (df_test['accept_time'] - df_test['allot_time'])"
      ],
      "metadata": {
        "id": "dxEcou8KutVk"
      },
      "execution_count": 26,
      "outputs": []
    },
    {
      "cell_type": "code",
      "source": [
        "df.head()"
      ],
      "metadata": {
        "colab": {
          "base_uri": "https://localhost:8080/",
          "height": 357
        },
        "id": "zd_yrmMTvaJm",
        "outputId": "f4a1f80b-0923-4492-ce19-f2291cc51b49"
      },
      "execution_count": 27,
      "outputs": [
        {
          "output_type": "execute_result",
          "data": {
            "text/html": [
              "\n",
              "  <div id=\"df-dcb6d138-dea2-4d0b-a3f7-9b39a07768e0\">\n",
              "    <div class=\"colab-df-container\">\n",
              "      <div>\n",
              "<style scoped>\n",
              "    .dataframe tbody tr th:only-of-type {\n",
              "        vertical-align: middle;\n",
              "    }\n",
              "\n",
              "    .dataframe tbody tr th {\n",
              "        vertical-align: top;\n",
              "    }\n",
              "\n",
              "    .dataframe thead th {\n",
              "        text-align: right;\n",
              "    }\n",
              "</style>\n",
              "<table border=\"1\" class=\"dataframe\">\n",
              "  <thead>\n",
              "    <tr style=\"text-align: right;\">\n",
              "      <th></th>\n",
              "      <th>order_time</th>\n",
              "      <th>order_date</th>\n",
              "      <th>allot_time</th>\n",
              "      <th>accept_time</th>\n",
              "      <th>rider_id</th>\n",
              "      <th>first_mile_distance</th>\n",
              "      <th>last_mile_distance</th>\n",
              "      <th>alloted_orders</th>\n",
              "      <th>delivered_orders</th>\n",
              "      <th>cancelled</th>\n",
              "      <th>undelivered_orders</th>\n",
              "      <th>lifetime_order_count</th>\n",
              "      <th>reassignment_method</th>\n",
              "      <th>reassignment_reason</th>\n",
              "      <th>reassigned_order</th>\n",
              "      <th>session_time</th>\n",
              "      <th>cancelled_time</th>\n",
              "      <th>accept_to_allot</th>\n",
              "    </tr>\n",
              "  </thead>\n",
              "  <tbody>\n",
              "    <tr>\n",
              "      <th>0</th>\n",
              "      <td>2021-01-26 02:21:35</td>\n",
              "      <td>2021-01-26 00:00:00</td>\n",
              "      <td>2021-01-26 02:21:59</td>\n",
              "      <td>2021-01-26 02:22:08</td>\n",
              "      <td>11696</td>\n",
              "      <td>1.5666</td>\n",
              "      <td>2.65</td>\n",
              "      <td>46.0</td>\n",
              "      <td>46.0</td>\n",
              "      <td>0</td>\n",
              "      <td>0.0</td>\n",
              "      <td>621.0</td>\n",
              "      <td>NaN</td>\n",
              "      <td>NaN</td>\n",
              "      <td>NaN</td>\n",
              "      <td>NaN</td>\n",
              "      <td>NaN</td>\n",
              "      <td>0 days 00:00:09</td>\n",
              "    </tr>\n",
              "    <tr>\n",
              "      <th>1</th>\n",
              "      <td>2021-01-26 02:33:16</td>\n",
              "      <td>2021-01-26 00:00:00</td>\n",
              "      <td>2021-01-26 02:33:57</td>\n",
              "      <td>2021-01-26 02:34:45</td>\n",
              "      <td>18117</td>\n",
              "      <td>2.5207</td>\n",
              "      <td>2.76</td>\n",
              "      <td>8.0</td>\n",
              "      <td>8.0</td>\n",
              "      <td>0</td>\n",
              "      <td>0.0</td>\n",
              "      <td>105.0</td>\n",
              "      <td>NaN</td>\n",
              "      <td>NaN</td>\n",
              "      <td>NaN</td>\n",
              "      <td>3.266667</td>\n",
              "      <td>NaN</td>\n",
              "      <td>0 days 00:00:48</td>\n",
              "    </tr>\n",
              "    <tr>\n",
              "      <th>2</th>\n",
              "      <td>2021-01-26 02:39:49</td>\n",
              "      <td>2021-01-26 00:00:00</td>\n",
              "      <td>2021-01-26 02:39:57</td>\n",
              "      <td>2021-01-26 02:40:13</td>\n",
              "      <td>18623</td>\n",
              "      <td>2.2074</td>\n",
              "      <td>4.80</td>\n",
              "      <td>1.0</td>\n",
              "      <td>1.0</td>\n",
              "      <td>0</td>\n",
              "      <td>0.0</td>\n",
              "      <td>66.0</td>\n",
              "      <td>NaN</td>\n",
              "      <td>NaN</td>\n",
              "      <td>NaN</td>\n",
              "      <td>9.816667</td>\n",
              "      <td>NaN</td>\n",
              "      <td>0 days 00:00:16</td>\n",
              "    </tr>\n",
              "    <tr>\n",
              "      <th>3</th>\n",
              "      <td>2021-01-26 02:47:53</td>\n",
              "      <td>2021-01-26 00:00:00</td>\n",
              "      <td>2021-01-26 02:48:25</td>\n",
              "      <td>2021-01-26 02:49:06</td>\n",
              "      <td>15945</td>\n",
              "      <td>2.1894</td>\n",
              "      <td>6.38</td>\n",
              "      <td>1.0</td>\n",
              "      <td>1.0</td>\n",
              "      <td>0</td>\n",
              "      <td>0.0</td>\n",
              "      <td>127.0</td>\n",
              "      <td>NaN</td>\n",
              "      <td>NaN</td>\n",
              "      <td>NaN</td>\n",
              "      <td>17.533333</td>\n",
              "      <td>NaN</td>\n",
              "      <td>0 days 00:00:41</td>\n",
              "    </tr>\n",
              "    <tr>\n",
              "      <th>4</th>\n",
              "      <td>2021-01-26 03:06:30</td>\n",
              "      <td>2021-01-26 00:00:00</td>\n",
              "      <td>2021-01-26 03:07:21</td>\n",
              "      <td>2021-01-26 03:07:57</td>\n",
              "      <td>17589</td>\n",
              "      <td>2.7870</td>\n",
              "      <td>4.01</td>\n",
              "      <td>34.0</td>\n",
              "      <td>34.0</td>\n",
              "      <td>0</td>\n",
              "      <td>0.0</td>\n",
              "      <td>84.0</td>\n",
              "      <td>NaN</td>\n",
              "      <td>NaN</td>\n",
              "      <td>NaN</td>\n",
              "      <td>1.350000</td>\n",
              "      <td>NaN</td>\n",
              "      <td>0 days 00:00:36</td>\n",
              "    </tr>\n",
              "  </tbody>\n",
              "</table>\n",
              "</div>\n",
              "      <button class=\"colab-df-convert\" onclick=\"convertToInteractive('df-dcb6d138-dea2-4d0b-a3f7-9b39a07768e0')\"\n",
              "              title=\"Convert this dataframe to an interactive table.\"\n",
              "              style=\"display:none;\">\n",
              "        \n",
              "  <svg xmlns=\"http://www.w3.org/2000/svg\" height=\"24px\"viewBox=\"0 0 24 24\"\n",
              "       width=\"24px\">\n",
              "    <path d=\"M0 0h24v24H0V0z\" fill=\"none\"/>\n",
              "    <path d=\"M18.56 5.44l.94 2.06.94-2.06 2.06-.94-2.06-.94-.94-2.06-.94 2.06-2.06.94zm-11 1L8.5 8.5l.94-2.06 2.06-.94-2.06-.94L8.5 2.5l-.94 2.06-2.06.94zm10 10l.94 2.06.94-2.06 2.06-.94-2.06-.94-.94-2.06-.94 2.06-2.06.94z\"/><path d=\"M17.41 7.96l-1.37-1.37c-.4-.4-.92-.59-1.43-.59-.52 0-1.04.2-1.43.59L10.3 9.45l-7.72 7.72c-.78.78-.78 2.05 0 2.83L4 21.41c.39.39.9.59 1.41.59.51 0 1.02-.2 1.41-.59l7.78-7.78 2.81-2.81c.8-.78.8-2.07 0-2.86zM5.41 20L4 18.59l7.72-7.72 1.47 1.35L5.41 20z\"/>\n",
              "  </svg>\n",
              "      </button>\n",
              "      \n",
              "  <style>\n",
              "    .colab-df-container {\n",
              "      display:flex;\n",
              "      flex-wrap:wrap;\n",
              "      gap: 12px;\n",
              "    }\n",
              "\n",
              "    .colab-df-convert {\n",
              "      background-color: #E8F0FE;\n",
              "      border: none;\n",
              "      border-radius: 50%;\n",
              "      cursor: pointer;\n",
              "      display: none;\n",
              "      fill: #1967D2;\n",
              "      height: 32px;\n",
              "      padding: 0 0 0 0;\n",
              "      width: 32px;\n",
              "    }\n",
              "\n",
              "    .colab-df-convert:hover {\n",
              "      background-color: #E2EBFA;\n",
              "      box-shadow: 0px 1px 2px rgba(60, 64, 67, 0.3), 0px 1px 3px 1px rgba(60, 64, 67, 0.15);\n",
              "      fill: #174EA6;\n",
              "    }\n",
              "\n",
              "    [theme=dark] .colab-df-convert {\n",
              "      background-color: #3B4455;\n",
              "      fill: #D2E3FC;\n",
              "    }\n",
              "\n",
              "    [theme=dark] .colab-df-convert:hover {\n",
              "      background-color: #434B5C;\n",
              "      box-shadow: 0px 1px 3px 1px rgba(0, 0, 0, 0.15);\n",
              "      filter: drop-shadow(0px 1px 2px rgba(0, 0, 0, 0.3));\n",
              "      fill: #FFFFFF;\n",
              "    }\n",
              "  </style>\n",
              "\n",
              "      <script>\n",
              "        const buttonEl =\n",
              "          document.querySelector('#df-dcb6d138-dea2-4d0b-a3f7-9b39a07768e0 button.colab-df-convert');\n",
              "        buttonEl.style.display =\n",
              "          google.colab.kernel.accessAllowed ? 'block' : 'none';\n",
              "\n",
              "        async function convertToInteractive(key) {\n",
              "          const element = document.querySelector('#df-dcb6d138-dea2-4d0b-a3f7-9b39a07768e0');\n",
              "          const dataTable =\n",
              "            await google.colab.kernel.invokeFunction('convertToInteractive',\n",
              "                                                     [key], {});\n",
              "          if (!dataTable) return;\n",
              "\n",
              "          const docLinkHtml = 'Like what you see? Visit the ' +\n",
              "            '<a target=\"_blank\" href=https://colab.research.google.com/notebooks/data_table.ipynb>data table notebook</a>'\n",
              "            + ' to learn more about interactive tables.';\n",
              "          element.innerHTML = '';\n",
              "          dataTable['output_type'] = 'display_data';\n",
              "          await google.colab.output.renderOutput(dataTable, element);\n",
              "          const docLink = document.createElement('div');\n",
              "          docLink.innerHTML = docLinkHtml;\n",
              "          element.appendChild(docLink);\n",
              "        }\n",
              "      </script>\n",
              "    </div>\n",
              "  </div>\n",
              "  "
            ],
            "text/plain": [
              "            order_time           order_date  ... cancelled_time accept_to_allot\n",
              "0  2021-01-26 02:21:35  2021-01-26 00:00:00  ...            NaN 0 days 00:00:09\n",
              "1  2021-01-26 02:33:16  2021-01-26 00:00:00  ...            NaN 0 days 00:00:48\n",
              "2  2021-01-26 02:39:49  2021-01-26 00:00:00  ...            NaN 0 days 00:00:16\n",
              "3  2021-01-26 02:47:53  2021-01-26 00:00:00  ...            NaN 0 days 00:00:41\n",
              "4  2021-01-26 03:06:30  2021-01-26 00:00:00  ...            NaN 0 days 00:00:36\n",
              "\n",
              "[5 rows x 18 columns]"
            ]
          },
          "metadata": {},
          "execution_count": 27
        }
      ]
    },
    {
      "cell_type": "code",
      "source": [
        "for col in df.columns:  \n",
        "    dataTypeSeries = df[col].dtypes\n",
        "    print('Data type of '+ col+ ' column of Dataframe :')\n",
        "    print(dataTypeSeries)"
      ],
      "metadata": {
        "id": "QzNCmtD6vb1p",
        "outputId": "3282b313-ba9a-4e2c-8f6e-2d30d1e1003c",
        "colab": {
          "base_uri": "https://localhost:8080/"
        }
      },
      "execution_count": 28,
      "outputs": [
        {
          "output_type": "stream",
          "name": "stdout",
          "text": [
            "Data type of order_time column of Dataframe :\n",
            "object\n",
            "Data type of order_date column of Dataframe :\n",
            "object\n",
            "Data type of allot_time column of Dataframe :\n",
            "datetime64[ns]\n",
            "Data type of accept_time column of Dataframe :\n",
            "datetime64[ns]\n",
            "Data type of rider_id column of Dataframe :\n",
            "int64\n",
            "Data type of first_mile_distance column of Dataframe :\n",
            "float64\n",
            "Data type of last_mile_distance column of Dataframe :\n",
            "float64\n",
            "Data type of alloted_orders column of Dataframe :\n",
            "float64\n",
            "Data type of delivered_orders column of Dataframe :\n",
            "float64\n",
            "Data type of cancelled column of Dataframe :\n",
            "int64\n",
            "Data type of undelivered_orders column of Dataframe :\n",
            "float64\n",
            "Data type of lifetime_order_count column of Dataframe :\n",
            "float64\n",
            "Data type of reassignment_method column of Dataframe :\n",
            "object\n",
            "Data type of reassignment_reason column of Dataframe :\n",
            "object\n",
            "Data type of reassigned_order column of Dataframe :\n",
            "float64\n",
            "Data type of session_time column of Dataframe :\n",
            "float64\n",
            "Data type of cancelled_time column of Dataframe :\n",
            "object\n",
            "Data type of accept_to_allot column of Dataframe :\n",
            "timedelta64[ns]\n"
          ]
        }
      ]
    },
    {
      "cell_type": "code",
      "source": [
        "df.shape"
      ],
      "metadata": {
        "id": "ZcYhTD4mv79U",
        "outputId": "641cfc50-4d76-4b16-a9bf-2833a43d388a",
        "colab": {
          "base_uri": "https://localhost:8080/"
        }
      },
      "execution_count": 29,
      "outputs": [
        {
          "output_type": "execute_result",
          "data": {
            "text/plain": [
              "(450000, 18)"
            ]
          },
          "metadata": {},
          "execution_count": 29
        }
      ]
    },
    {
      "cell_type": "code",
      "source": [
        "df['accept_sec'] = df[:450000]['accept_to_allot'].astype('timedelta64[s]')\n",
        "df_test['accept_sec'] = df_test[:450000]['accept_to_allot'].astype('timedelta64[s]')"
      ],
      "metadata": {
        "id": "fbQpeaY1qiOb"
      },
      "execution_count": 30,
      "outputs": []
    },
    {
      "cell_type": "code",
      "source": [
        "df.head()"
      ],
      "metadata": {
        "id": "Yn9jC0k2rCT8",
        "outputId": "0e0362b2-c775-49d5-ce73-33249be8b4ba",
        "colab": {
          "base_uri": "https://localhost:8080/",
          "height": 357
        }
      },
      "execution_count": 31,
      "outputs": [
        {
          "output_type": "execute_result",
          "data": {
            "text/html": [
              "\n",
              "  <div id=\"df-5321a3ad-ba7e-4749-a1ae-5528d7824380\">\n",
              "    <div class=\"colab-df-container\">\n",
              "      <div>\n",
              "<style scoped>\n",
              "    .dataframe tbody tr th:only-of-type {\n",
              "        vertical-align: middle;\n",
              "    }\n",
              "\n",
              "    .dataframe tbody tr th {\n",
              "        vertical-align: top;\n",
              "    }\n",
              "\n",
              "    .dataframe thead th {\n",
              "        text-align: right;\n",
              "    }\n",
              "</style>\n",
              "<table border=\"1\" class=\"dataframe\">\n",
              "  <thead>\n",
              "    <tr style=\"text-align: right;\">\n",
              "      <th></th>\n",
              "      <th>order_time</th>\n",
              "      <th>order_date</th>\n",
              "      <th>allot_time</th>\n",
              "      <th>accept_time</th>\n",
              "      <th>rider_id</th>\n",
              "      <th>first_mile_distance</th>\n",
              "      <th>last_mile_distance</th>\n",
              "      <th>alloted_orders</th>\n",
              "      <th>delivered_orders</th>\n",
              "      <th>cancelled</th>\n",
              "      <th>undelivered_orders</th>\n",
              "      <th>lifetime_order_count</th>\n",
              "      <th>reassignment_method</th>\n",
              "      <th>reassignment_reason</th>\n",
              "      <th>reassigned_order</th>\n",
              "      <th>session_time</th>\n",
              "      <th>cancelled_time</th>\n",
              "      <th>accept_to_allot</th>\n",
              "      <th>accept_sec</th>\n",
              "    </tr>\n",
              "  </thead>\n",
              "  <tbody>\n",
              "    <tr>\n",
              "      <th>0</th>\n",
              "      <td>2021-01-26 02:21:35</td>\n",
              "      <td>2021-01-26 00:00:00</td>\n",
              "      <td>2021-01-26 02:21:59</td>\n",
              "      <td>2021-01-26 02:22:08</td>\n",
              "      <td>11696</td>\n",
              "      <td>1.5666</td>\n",
              "      <td>2.65</td>\n",
              "      <td>46.0</td>\n",
              "      <td>46.0</td>\n",
              "      <td>0</td>\n",
              "      <td>0.0</td>\n",
              "      <td>621.0</td>\n",
              "      <td>NaN</td>\n",
              "      <td>NaN</td>\n",
              "      <td>NaN</td>\n",
              "      <td>NaN</td>\n",
              "      <td>NaN</td>\n",
              "      <td>0 days 00:00:09</td>\n",
              "      <td>9.0</td>\n",
              "    </tr>\n",
              "    <tr>\n",
              "      <th>1</th>\n",
              "      <td>2021-01-26 02:33:16</td>\n",
              "      <td>2021-01-26 00:00:00</td>\n",
              "      <td>2021-01-26 02:33:57</td>\n",
              "      <td>2021-01-26 02:34:45</td>\n",
              "      <td>18117</td>\n",
              "      <td>2.5207</td>\n",
              "      <td>2.76</td>\n",
              "      <td>8.0</td>\n",
              "      <td>8.0</td>\n",
              "      <td>0</td>\n",
              "      <td>0.0</td>\n",
              "      <td>105.0</td>\n",
              "      <td>NaN</td>\n",
              "      <td>NaN</td>\n",
              "      <td>NaN</td>\n",
              "      <td>3.266667</td>\n",
              "      <td>NaN</td>\n",
              "      <td>0 days 00:00:48</td>\n",
              "      <td>48.0</td>\n",
              "    </tr>\n",
              "    <tr>\n",
              "      <th>2</th>\n",
              "      <td>2021-01-26 02:39:49</td>\n",
              "      <td>2021-01-26 00:00:00</td>\n",
              "      <td>2021-01-26 02:39:57</td>\n",
              "      <td>2021-01-26 02:40:13</td>\n",
              "      <td>18623</td>\n",
              "      <td>2.2074</td>\n",
              "      <td>4.80</td>\n",
              "      <td>1.0</td>\n",
              "      <td>1.0</td>\n",
              "      <td>0</td>\n",
              "      <td>0.0</td>\n",
              "      <td>66.0</td>\n",
              "      <td>NaN</td>\n",
              "      <td>NaN</td>\n",
              "      <td>NaN</td>\n",
              "      <td>9.816667</td>\n",
              "      <td>NaN</td>\n",
              "      <td>0 days 00:00:16</td>\n",
              "      <td>16.0</td>\n",
              "    </tr>\n",
              "    <tr>\n",
              "      <th>3</th>\n",
              "      <td>2021-01-26 02:47:53</td>\n",
              "      <td>2021-01-26 00:00:00</td>\n",
              "      <td>2021-01-26 02:48:25</td>\n",
              "      <td>2021-01-26 02:49:06</td>\n",
              "      <td>15945</td>\n",
              "      <td>2.1894</td>\n",
              "      <td>6.38</td>\n",
              "      <td>1.0</td>\n",
              "      <td>1.0</td>\n",
              "      <td>0</td>\n",
              "      <td>0.0</td>\n",
              "      <td>127.0</td>\n",
              "      <td>NaN</td>\n",
              "      <td>NaN</td>\n",
              "      <td>NaN</td>\n",
              "      <td>17.533333</td>\n",
              "      <td>NaN</td>\n",
              "      <td>0 days 00:00:41</td>\n",
              "      <td>41.0</td>\n",
              "    </tr>\n",
              "    <tr>\n",
              "      <th>4</th>\n",
              "      <td>2021-01-26 03:06:30</td>\n",
              "      <td>2021-01-26 00:00:00</td>\n",
              "      <td>2021-01-26 03:07:21</td>\n",
              "      <td>2021-01-26 03:07:57</td>\n",
              "      <td>17589</td>\n",
              "      <td>2.7870</td>\n",
              "      <td>4.01</td>\n",
              "      <td>34.0</td>\n",
              "      <td>34.0</td>\n",
              "      <td>0</td>\n",
              "      <td>0.0</td>\n",
              "      <td>84.0</td>\n",
              "      <td>NaN</td>\n",
              "      <td>NaN</td>\n",
              "      <td>NaN</td>\n",
              "      <td>1.350000</td>\n",
              "      <td>NaN</td>\n",
              "      <td>0 days 00:00:36</td>\n",
              "      <td>36.0</td>\n",
              "    </tr>\n",
              "  </tbody>\n",
              "</table>\n",
              "</div>\n",
              "      <button class=\"colab-df-convert\" onclick=\"convertToInteractive('df-5321a3ad-ba7e-4749-a1ae-5528d7824380')\"\n",
              "              title=\"Convert this dataframe to an interactive table.\"\n",
              "              style=\"display:none;\">\n",
              "        \n",
              "  <svg xmlns=\"http://www.w3.org/2000/svg\" height=\"24px\"viewBox=\"0 0 24 24\"\n",
              "       width=\"24px\">\n",
              "    <path d=\"M0 0h24v24H0V0z\" fill=\"none\"/>\n",
              "    <path d=\"M18.56 5.44l.94 2.06.94-2.06 2.06-.94-2.06-.94-.94-2.06-.94 2.06-2.06.94zm-11 1L8.5 8.5l.94-2.06 2.06-.94-2.06-.94L8.5 2.5l-.94 2.06-2.06.94zm10 10l.94 2.06.94-2.06 2.06-.94-2.06-.94-.94-2.06-.94 2.06-2.06.94z\"/><path d=\"M17.41 7.96l-1.37-1.37c-.4-.4-.92-.59-1.43-.59-.52 0-1.04.2-1.43.59L10.3 9.45l-7.72 7.72c-.78.78-.78 2.05 0 2.83L4 21.41c.39.39.9.59 1.41.59.51 0 1.02-.2 1.41-.59l7.78-7.78 2.81-2.81c.8-.78.8-2.07 0-2.86zM5.41 20L4 18.59l7.72-7.72 1.47 1.35L5.41 20z\"/>\n",
              "  </svg>\n",
              "      </button>\n",
              "      \n",
              "  <style>\n",
              "    .colab-df-container {\n",
              "      display:flex;\n",
              "      flex-wrap:wrap;\n",
              "      gap: 12px;\n",
              "    }\n",
              "\n",
              "    .colab-df-convert {\n",
              "      background-color: #E8F0FE;\n",
              "      border: none;\n",
              "      border-radius: 50%;\n",
              "      cursor: pointer;\n",
              "      display: none;\n",
              "      fill: #1967D2;\n",
              "      height: 32px;\n",
              "      padding: 0 0 0 0;\n",
              "      width: 32px;\n",
              "    }\n",
              "\n",
              "    .colab-df-convert:hover {\n",
              "      background-color: #E2EBFA;\n",
              "      box-shadow: 0px 1px 2px rgba(60, 64, 67, 0.3), 0px 1px 3px 1px rgba(60, 64, 67, 0.15);\n",
              "      fill: #174EA6;\n",
              "    }\n",
              "\n",
              "    [theme=dark] .colab-df-convert {\n",
              "      background-color: #3B4455;\n",
              "      fill: #D2E3FC;\n",
              "    }\n",
              "\n",
              "    [theme=dark] .colab-df-convert:hover {\n",
              "      background-color: #434B5C;\n",
              "      box-shadow: 0px 1px 3px 1px rgba(0, 0, 0, 0.15);\n",
              "      filter: drop-shadow(0px 1px 2px rgba(0, 0, 0, 0.3));\n",
              "      fill: #FFFFFF;\n",
              "    }\n",
              "  </style>\n",
              "\n",
              "      <script>\n",
              "        const buttonEl =\n",
              "          document.querySelector('#df-5321a3ad-ba7e-4749-a1ae-5528d7824380 button.colab-df-convert');\n",
              "        buttonEl.style.display =\n",
              "          google.colab.kernel.accessAllowed ? 'block' : 'none';\n",
              "\n",
              "        async function convertToInteractive(key) {\n",
              "          const element = document.querySelector('#df-5321a3ad-ba7e-4749-a1ae-5528d7824380');\n",
              "          const dataTable =\n",
              "            await google.colab.kernel.invokeFunction('convertToInteractive',\n",
              "                                                     [key], {});\n",
              "          if (!dataTable) return;\n",
              "\n",
              "          const docLinkHtml = 'Like what you see? Visit the ' +\n",
              "            '<a target=\"_blank\" href=https://colab.research.google.com/notebooks/data_table.ipynb>data table notebook</a>'\n",
              "            + ' to learn more about interactive tables.';\n",
              "          element.innerHTML = '';\n",
              "          dataTable['output_type'] = 'display_data';\n",
              "          await google.colab.output.renderOutput(dataTable, element);\n",
              "          const docLink = document.createElement('div');\n",
              "          docLink.innerHTML = docLinkHtml;\n",
              "          element.appendChild(docLink);\n",
              "        }\n",
              "      </script>\n",
              "    </div>\n",
              "  </div>\n",
              "  "
            ],
            "text/plain": [
              "            order_time           order_date  ... accept_to_allot accept_sec\n",
              "0  2021-01-26 02:21:35  2021-01-26 00:00:00  ... 0 days 00:00:09        9.0\n",
              "1  2021-01-26 02:33:16  2021-01-26 00:00:00  ... 0 days 00:00:48       48.0\n",
              "2  2021-01-26 02:39:49  2021-01-26 00:00:00  ... 0 days 00:00:16       16.0\n",
              "3  2021-01-26 02:47:53  2021-01-26 00:00:00  ... 0 days 00:00:41       41.0\n",
              "4  2021-01-26 03:06:30  2021-01-26 00:00:00  ... 0 days 00:00:36       36.0\n",
              "\n",
              "[5 rows x 19 columns]"
            ]
          },
          "metadata": {},
          "execution_count": 31
        }
      ]
    },
    {
      "cell_type": "code",
      "source": [
        "df_test.head()"
      ],
      "metadata": {
        "id": "402504nrrjdI",
        "outputId": "bfecef9c-3cd9-4402-8b65-0d8090ae108b",
        "colab": {
          "base_uri": "https://localhost:8080/",
          "height": 357
        }
      },
      "execution_count": 32,
      "outputs": [
        {
          "output_type": "execute_result",
          "data": {
            "text/html": [
              "\n",
              "  <div id=\"df-a810d7c4-3b78-4be9-ad1f-bcd91eae42cd\">\n",
              "    <div class=\"colab-df-container\">\n",
              "      <div>\n",
              "<style scoped>\n",
              "    .dataframe tbody tr th:only-of-type {\n",
              "        vertical-align: middle;\n",
              "    }\n",
              "\n",
              "    .dataframe tbody tr th {\n",
              "        vertical-align: top;\n",
              "    }\n",
              "\n",
              "    .dataframe thead th {\n",
              "        text-align: right;\n",
              "    }\n",
              "</style>\n",
              "<table border=\"1\" class=\"dataframe\">\n",
              "  <thead>\n",
              "    <tr style=\"text-align: right;\">\n",
              "      <th></th>\n",
              "      <th>order_time</th>\n",
              "      <th>order_date</th>\n",
              "      <th>allot_time</th>\n",
              "      <th>accept_time</th>\n",
              "      <th>rider_id</th>\n",
              "      <th>first_mile_distance</th>\n",
              "      <th>last_mile_distance</th>\n",
              "      <th>alloted_orders</th>\n",
              "      <th>delivered_orders</th>\n",
              "      <th>undelivered_orders</th>\n",
              "      <th>lifetime_order_count</th>\n",
              "      <th>reassignment_method</th>\n",
              "      <th>reassignment_reason</th>\n",
              "      <th>reassigned_order</th>\n",
              "      <th>session_time</th>\n",
              "      <th>accept_to_allot</th>\n",
              "      <th>accept_sec</th>\n",
              "    </tr>\n",
              "  </thead>\n",
              "  <tbody>\n",
              "    <tr>\n",
              "      <th>0</th>\n",
              "      <td>2021-02-06 10:03:24</td>\n",
              "      <td>2021-02-06 00:00:00</td>\n",
              "      <td>2021-02-06 10:03:49</td>\n",
              "      <td>2021-02-06 10:04:15</td>\n",
              "      <td>12884</td>\n",
              "      <td>1.6585</td>\n",
              "      <td>4.54</td>\n",
              "      <td>216.0</td>\n",
              "      <td>215.0</td>\n",
              "      <td>1.0</td>\n",
              "      <td>747.0</td>\n",
              "      <td>NaN</td>\n",
              "      <td>NaN</td>\n",
              "      <td>NaN</td>\n",
              "      <td>273.400000</td>\n",
              "      <td>0 days 00:00:26</td>\n",
              "      <td>26.0</td>\n",
              "    </tr>\n",
              "    <tr>\n",
              "      <th>1</th>\n",
              "      <td>2021-02-06 10:03:26</td>\n",
              "      <td>2021-02-06 00:00:00</td>\n",
              "      <td>2021-02-06 10:03:27</td>\n",
              "      <td>2021-02-06 10:03:36</td>\n",
              "      <td>3541</td>\n",
              "      <td>2.0709</td>\n",
              "      <td>5.84</td>\n",
              "      <td>52.0</td>\n",
              "      <td>52.0</td>\n",
              "      <td>0.0</td>\n",
              "      <td>75.0</td>\n",
              "      <td>NaN</td>\n",
              "      <td>NaN</td>\n",
              "      <td>NaN</td>\n",
              "      <td>252.100000</td>\n",
              "      <td>0 days 00:00:09</td>\n",
              "      <td>9.0</td>\n",
              "    </tr>\n",
              "    <tr>\n",
              "      <th>2</th>\n",
              "      <td>2021-02-06 10:03:27</td>\n",
              "      <td>2021-02-06 00:00:00</td>\n",
              "      <td>2021-02-06 10:04:14</td>\n",
              "      <td>2021-02-06 10:05:34</td>\n",
              "      <td>603</td>\n",
              "      <td>1.3884</td>\n",
              "      <td>0.99</td>\n",
              "      <td>289.0</td>\n",
              "      <td>289.0</td>\n",
              "      <td>0.0</td>\n",
              "      <td>2214.0</td>\n",
              "      <td>NaN</td>\n",
              "      <td>NaN</td>\n",
              "      <td>NaN</td>\n",
              "      <td>241.383333</td>\n",
              "      <td>0 days 00:01:20</td>\n",
              "      <td>80.0</td>\n",
              "    </tr>\n",
              "    <tr>\n",
              "      <th>3</th>\n",
              "      <td>2021-02-06 10:03:29</td>\n",
              "      <td>2021-02-06 00:00:00</td>\n",
              "      <td>2021-02-06 10:03:30</td>\n",
              "      <td>2021-02-06 10:03:53</td>\n",
              "      <td>3414</td>\n",
              "      <td>1.9039</td>\n",
              "      <td>2.59</td>\n",
              "      <td>125.0</td>\n",
              "      <td>122.0</td>\n",
              "      <td>3.0</td>\n",
              "      <td>1020.0</td>\n",
              "      <td>NaN</td>\n",
              "      <td>NaN</td>\n",
              "      <td>NaN</td>\n",
              "      <td>291.933333</td>\n",
              "      <td>0 days 00:00:23</td>\n",
              "      <td>23.0</td>\n",
              "    </tr>\n",
              "    <tr>\n",
              "      <th>4</th>\n",
              "      <td>2021-02-06 10:03:35</td>\n",
              "      <td>2021-02-06 00:00:00</td>\n",
              "      <td>2021-02-06 10:03:43</td>\n",
              "      <td>2021-02-06 10:04:43</td>\n",
              "      <td>1426</td>\n",
              "      <td>0.8275</td>\n",
              "      <td>0.94</td>\n",
              "      <td>352.0</td>\n",
              "      <td>350.0</td>\n",
              "      <td>2.0</td>\n",
              "      <td>7284.0</td>\n",
              "      <td>NaN</td>\n",
              "      <td>NaN</td>\n",
              "      <td>NaN</td>\n",
              "      <td>247.133333</td>\n",
              "      <td>0 days 00:01:00</td>\n",
              "      <td>60.0</td>\n",
              "    </tr>\n",
              "  </tbody>\n",
              "</table>\n",
              "</div>\n",
              "      <button class=\"colab-df-convert\" onclick=\"convertToInteractive('df-a810d7c4-3b78-4be9-ad1f-bcd91eae42cd')\"\n",
              "              title=\"Convert this dataframe to an interactive table.\"\n",
              "              style=\"display:none;\">\n",
              "        \n",
              "  <svg xmlns=\"http://www.w3.org/2000/svg\" height=\"24px\"viewBox=\"0 0 24 24\"\n",
              "       width=\"24px\">\n",
              "    <path d=\"M0 0h24v24H0V0z\" fill=\"none\"/>\n",
              "    <path d=\"M18.56 5.44l.94 2.06.94-2.06 2.06-.94-2.06-.94-.94-2.06-.94 2.06-2.06.94zm-11 1L8.5 8.5l.94-2.06 2.06-.94-2.06-.94L8.5 2.5l-.94 2.06-2.06.94zm10 10l.94 2.06.94-2.06 2.06-.94-2.06-.94-.94-2.06-.94 2.06-2.06.94z\"/><path d=\"M17.41 7.96l-1.37-1.37c-.4-.4-.92-.59-1.43-.59-.52 0-1.04.2-1.43.59L10.3 9.45l-7.72 7.72c-.78.78-.78 2.05 0 2.83L4 21.41c.39.39.9.59 1.41.59.51 0 1.02-.2 1.41-.59l7.78-7.78 2.81-2.81c.8-.78.8-2.07 0-2.86zM5.41 20L4 18.59l7.72-7.72 1.47 1.35L5.41 20z\"/>\n",
              "  </svg>\n",
              "      </button>\n",
              "      \n",
              "  <style>\n",
              "    .colab-df-container {\n",
              "      display:flex;\n",
              "      flex-wrap:wrap;\n",
              "      gap: 12px;\n",
              "    }\n",
              "\n",
              "    .colab-df-convert {\n",
              "      background-color: #E8F0FE;\n",
              "      border: none;\n",
              "      border-radius: 50%;\n",
              "      cursor: pointer;\n",
              "      display: none;\n",
              "      fill: #1967D2;\n",
              "      height: 32px;\n",
              "      padding: 0 0 0 0;\n",
              "      width: 32px;\n",
              "    }\n",
              "\n",
              "    .colab-df-convert:hover {\n",
              "      background-color: #E2EBFA;\n",
              "      box-shadow: 0px 1px 2px rgba(60, 64, 67, 0.3), 0px 1px 3px 1px rgba(60, 64, 67, 0.15);\n",
              "      fill: #174EA6;\n",
              "    }\n",
              "\n",
              "    [theme=dark] .colab-df-convert {\n",
              "      background-color: #3B4455;\n",
              "      fill: #D2E3FC;\n",
              "    }\n",
              "\n",
              "    [theme=dark] .colab-df-convert:hover {\n",
              "      background-color: #434B5C;\n",
              "      box-shadow: 0px 1px 3px 1px rgba(0, 0, 0, 0.15);\n",
              "      filter: drop-shadow(0px 1px 2px rgba(0, 0, 0, 0.3));\n",
              "      fill: #FFFFFF;\n",
              "    }\n",
              "  </style>\n",
              "\n",
              "      <script>\n",
              "        const buttonEl =\n",
              "          document.querySelector('#df-a810d7c4-3b78-4be9-ad1f-bcd91eae42cd button.colab-df-convert');\n",
              "        buttonEl.style.display =\n",
              "          google.colab.kernel.accessAllowed ? 'block' : 'none';\n",
              "\n",
              "        async function convertToInteractive(key) {\n",
              "          const element = document.querySelector('#df-a810d7c4-3b78-4be9-ad1f-bcd91eae42cd');\n",
              "          const dataTable =\n",
              "            await google.colab.kernel.invokeFunction('convertToInteractive',\n",
              "                                                     [key], {});\n",
              "          if (!dataTable) return;\n",
              "\n",
              "          const docLinkHtml = 'Like what you see? Visit the ' +\n",
              "            '<a target=\"_blank\" href=https://colab.research.google.com/notebooks/data_table.ipynb>data table notebook</a>'\n",
              "            + ' to learn more about interactive tables.';\n",
              "          element.innerHTML = '';\n",
              "          dataTable['output_type'] = 'display_data';\n",
              "          await google.colab.output.renderOutput(dataTable, element);\n",
              "          const docLink = document.createElement('div');\n",
              "          docLink.innerHTML = docLinkHtml;\n",
              "          element.appendChild(docLink);\n",
              "        }\n",
              "      </script>\n",
              "    </div>\n",
              "  </div>\n",
              "  "
            ],
            "text/plain": [
              "            order_time           order_date  ... accept_to_allot accept_sec\n",
              "0  2021-02-06 10:03:24  2021-02-06 00:00:00  ... 0 days 00:00:26       26.0\n",
              "1  2021-02-06 10:03:26  2021-02-06 00:00:00  ... 0 days 00:00:09        9.0\n",
              "2  2021-02-06 10:03:27  2021-02-06 00:00:00  ... 0 days 00:01:20       80.0\n",
              "3  2021-02-06 10:03:29  2021-02-06 00:00:00  ... 0 days 00:00:23       23.0\n",
              "4  2021-02-06 10:03:35  2021-02-06 00:00:00  ... 0 days 00:01:00       60.0\n",
              "\n",
              "[5 rows x 17 columns]"
            ]
          },
          "metadata": {},
          "execution_count": 32
        }
      ]
    },
    {
      "cell_type": "code",
      "source": [
        "#creating the datetime column\n",
        "df['order_time'] = pd.to_datetime(df['order_time'].str.strip(), format='%Y/%m/%d %H:%M:%S')\n",
        "df_test['order_time'] = pd.to_datetime(df_test['order_time'].str.strip(), format='%Y/%m/%d %H:%M:%S')"
      ],
      "metadata": {
        "id": "tkivqGLHs216"
      },
      "execution_count": 33,
      "outputs": []
    },
    {
      "cell_type": "code",
      "source": [
        "df['order_to_allot'] = (df['accept_time'] - df['order_time'])\n",
        "df_test['order_to_allot'] = (df_test['accept_time'] - df_test['order_time'])"
      ],
      "metadata": {
        "id": "FpMD1raerPk3"
      },
      "execution_count": 34,
      "outputs": []
    },
    {
      "cell_type": "code",
      "source": [
        "df['order_sec'] = df[:450000]['order_to_allot'].astype('timedelta64[s]')\n",
        "df_test['order_sec'] = df_test[:450000]['order_to_allot'].astype('timedelta64[s]')"
      ],
      "metadata": {
        "id": "vOzytt0ex-7_"
      },
      "execution_count": 35,
      "outputs": []
    },
    {
      "cell_type": "code",
      "source": [
        "df.head()"
      ],
      "metadata": {
        "id": "iPmRJ_5FyLg6",
        "outputId": "7175d7f3-77af-4393-e64d-d3d1c05c92b0",
        "colab": {
          "base_uri": "https://localhost:8080/",
          "height": 357
        }
      },
      "execution_count": 36,
      "outputs": [
        {
          "output_type": "execute_result",
          "data": {
            "text/html": [
              "\n",
              "  <div id=\"df-8d94e91e-b1e8-4d77-a449-6de7f4e0b49a\">\n",
              "    <div class=\"colab-df-container\">\n",
              "      <div>\n",
              "<style scoped>\n",
              "    .dataframe tbody tr th:only-of-type {\n",
              "        vertical-align: middle;\n",
              "    }\n",
              "\n",
              "    .dataframe tbody tr th {\n",
              "        vertical-align: top;\n",
              "    }\n",
              "\n",
              "    .dataframe thead th {\n",
              "        text-align: right;\n",
              "    }\n",
              "</style>\n",
              "<table border=\"1\" class=\"dataframe\">\n",
              "  <thead>\n",
              "    <tr style=\"text-align: right;\">\n",
              "      <th></th>\n",
              "      <th>order_time</th>\n",
              "      <th>order_date</th>\n",
              "      <th>allot_time</th>\n",
              "      <th>accept_time</th>\n",
              "      <th>rider_id</th>\n",
              "      <th>first_mile_distance</th>\n",
              "      <th>last_mile_distance</th>\n",
              "      <th>alloted_orders</th>\n",
              "      <th>delivered_orders</th>\n",
              "      <th>cancelled</th>\n",
              "      <th>undelivered_orders</th>\n",
              "      <th>lifetime_order_count</th>\n",
              "      <th>reassignment_method</th>\n",
              "      <th>reassignment_reason</th>\n",
              "      <th>reassigned_order</th>\n",
              "      <th>session_time</th>\n",
              "      <th>cancelled_time</th>\n",
              "      <th>accept_to_allot</th>\n",
              "      <th>accept_sec</th>\n",
              "      <th>order_to_allot</th>\n",
              "      <th>order_sec</th>\n",
              "    </tr>\n",
              "  </thead>\n",
              "  <tbody>\n",
              "    <tr>\n",
              "      <th>0</th>\n",
              "      <td>2021-01-26 02:21:35</td>\n",
              "      <td>2021-01-26 00:00:00</td>\n",
              "      <td>2021-01-26 02:21:59</td>\n",
              "      <td>2021-01-26 02:22:08</td>\n",
              "      <td>11696</td>\n",
              "      <td>1.5666</td>\n",
              "      <td>2.65</td>\n",
              "      <td>46.0</td>\n",
              "      <td>46.0</td>\n",
              "      <td>0</td>\n",
              "      <td>0.0</td>\n",
              "      <td>621.0</td>\n",
              "      <td>NaN</td>\n",
              "      <td>NaN</td>\n",
              "      <td>NaN</td>\n",
              "      <td>NaN</td>\n",
              "      <td>NaN</td>\n",
              "      <td>0 days 00:00:09</td>\n",
              "      <td>9.0</td>\n",
              "      <td>0 days 00:00:33</td>\n",
              "      <td>33.0</td>\n",
              "    </tr>\n",
              "    <tr>\n",
              "      <th>1</th>\n",
              "      <td>2021-01-26 02:33:16</td>\n",
              "      <td>2021-01-26 00:00:00</td>\n",
              "      <td>2021-01-26 02:33:57</td>\n",
              "      <td>2021-01-26 02:34:45</td>\n",
              "      <td>18117</td>\n",
              "      <td>2.5207</td>\n",
              "      <td>2.76</td>\n",
              "      <td>8.0</td>\n",
              "      <td>8.0</td>\n",
              "      <td>0</td>\n",
              "      <td>0.0</td>\n",
              "      <td>105.0</td>\n",
              "      <td>NaN</td>\n",
              "      <td>NaN</td>\n",
              "      <td>NaN</td>\n",
              "      <td>3.266667</td>\n",
              "      <td>NaN</td>\n",
              "      <td>0 days 00:00:48</td>\n",
              "      <td>48.0</td>\n",
              "      <td>0 days 00:01:29</td>\n",
              "      <td>89.0</td>\n",
              "    </tr>\n",
              "    <tr>\n",
              "      <th>2</th>\n",
              "      <td>2021-01-26 02:39:49</td>\n",
              "      <td>2021-01-26 00:00:00</td>\n",
              "      <td>2021-01-26 02:39:57</td>\n",
              "      <td>2021-01-26 02:40:13</td>\n",
              "      <td>18623</td>\n",
              "      <td>2.2074</td>\n",
              "      <td>4.80</td>\n",
              "      <td>1.0</td>\n",
              "      <td>1.0</td>\n",
              "      <td>0</td>\n",
              "      <td>0.0</td>\n",
              "      <td>66.0</td>\n",
              "      <td>NaN</td>\n",
              "      <td>NaN</td>\n",
              "      <td>NaN</td>\n",
              "      <td>9.816667</td>\n",
              "      <td>NaN</td>\n",
              "      <td>0 days 00:00:16</td>\n",
              "      <td>16.0</td>\n",
              "      <td>0 days 00:00:24</td>\n",
              "      <td>24.0</td>\n",
              "    </tr>\n",
              "    <tr>\n",
              "      <th>3</th>\n",
              "      <td>2021-01-26 02:47:53</td>\n",
              "      <td>2021-01-26 00:00:00</td>\n",
              "      <td>2021-01-26 02:48:25</td>\n",
              "      <td>2021-01-26 02:49:06</td>\n",
              "      <td>15945</td>\n",
              "      <td>2.1894</td>\n",
              "      <td>6.38</td>\n",
              "      <td>1.0</td>\n",
              "      <td>1.0</td>\n",
              "      <td>0</td>\n",
              "      <td>0.0</td>\n",
              "      <td>127.0</td>\n",
              "      <td>NaN</td>\n",
              "      <td>NaN</td>\n",
              "      <td>NaN</td>\n",
              "      <td>17.533333</td>\n",
              "      <td>NaN</td>\n",
              "      <td>0 days 00:00:41</td>\n",
              "      <td>41.0</td>\n",
              "      <td>0 days 00:01:13</td>\n",
              "      <td>73.0</td>\n",
              "    </tr>\n",
              "    <tr>\n",
              "      <th>4</th>\n",
              "      <td>2021-01-26 03:06:30</td>\n",
              "      <td>2021-01-26 00:00:00</td>\n",
              "      <td>2021-01-26 03:07:21</td>\n",
              "      <td>2021-01-26 03:07:57</td>\n",
              "      <td>17589</td>\n",
              "      <td>2.7870</td>\n",
              "      <td>4.01</td>\n",
              "      <td>34.0</td>\n",
              "      <td>34.0</td>\n",
              "      <td>0</td>\n",
              "      <td>0.0</td>\n",
              "      <td>84.0</td>\n",
              "      <td>NaN</td>\n",
              "      <td>NaN</td>\n",
              "      <td>NaN</td>\n",
              "      <td>1.350000</td>\n",
              "      <td>NaN</td>\n",
              "      <td>0 days 00:00:36</td>\n",
              "      <td>36.0</td>\n",
              "      <td>0 days 00:01:27</td>\n",
              "      <td>87.0</td>\n",
              "    </tr>\n",
              "  </tbody>\n",
              "</table>\n",
              "</div>\n",
              "      <button class=\"colab-df-convert\" onclick=\"convertToInteractive('df-8d94e91e-b1e8-4d77-a449-6de7f4e0b49a')\"\n",
              "              title=\"Convert this dataframe to an interactive table.\"\n",
              "              style=\"display:none;\">\n",
              "        \n",
              "  <svg xmlns=\"http://www.w3.org/2000/svg\" height=\"24px\"viewBox=\"0 0 24 24\"\n",
              "       width=\"24px\">\n",
              "    <path d=\"M0 0h24v24H0V0z\" fill=\"none\"/>\n",
              "    <path d=\"M18.56 5.44l.94 2.06.94-2.06 2.06-.94-2.06-.94-.94-2.06-.94 2.06-2.06.94zm-11 1L8.5 8.5l.94-2.06 2.06-.94-2.06-.94L8.5 2.5l-.94 2.06-2.06.94zm10 10l.94 2.06.94-2.06 2.06-.94-2.06-.94-.94-2.06-.94 2.06-2.06.94z\"/><path d=\"M17.41 7.96l-1.37-1.37c-.4-.4-.92-.59-1.43-.59-.52 0-1.04.2-1.43.59L10.3 9.45l-7.72 7.72c-.78.78-.78 2.05 0 2.83L4 21.41c.39.39.9.59 1.41.59.51 0 1.02-.2 1.41-.59l7.78-7.78 2.81-2.81c.8-.78.8-2.07 0-2.86zM5.41 20L4 18.59l7.72-7.72 1.47 1.35L5.41 20z\"/>\n",
              "  </svg>\n",
              "      </button>\n",
              "      \n",
              "  <style>\n",
              "    .colab-df-container {\n",
              "      display:flex;\n",
              "      flex-wrap:wrap;\n",
              "      gap: 12px;\n",
              "    }\n",
              "\n",
              "    .colab-df-convert {\n",
              "      background-color: #E8F0FE;\n",
              "      border: none;\n",
              "      border-radius: 50%;\n",
              "      cursor: pointer;\n",
              "      display: none;\n",
              "      fill: #1967D2;\n",
              "      height: 32px;\n",
              "      padding: 0 0 0 0;\n",
              "      width: 32px;\n",
              "    }\n",
              "\n",
              "    .colab-df-convert:hover {\n",
              "      background-color: #E2EBFA;\n",
              "      box-shadow: 0px 1px 2px rgba(60, 64, 67, 0.3), 0px 1px 3px 1px rgba(60, 64, 67, 0.15);\n",
              "      fill: #174EA6;\n",
              "    }\n",
              "\n",
              "    [theme=dark] .colab-df-convert {\n",
              "      background-color: #3B4455;\n",
              "      fill: #D2E3FC;\n",
              "    }\n",
              "\n",
              "    [theme=dark] .colab-df-convert:hover {\n",
              "      background-color: #434B5C;\n",
              "      box-shadow: 0px 1px 3px 1px rgba(0, 0, 0, 0.15);\n",
              "      filter: drop-shadow(0px 1px 2px rgba(0, 0, 0, 0.3));\n",
              "      fill: #FFFFFF;\n",
              "    }\n",
              "  </style>\n",
              "\n",
              "      <script>\n",
              "        const buttonEl =\n",
              "          document.querySelector('#df-8d94e91e-b1e8-4d77-a449-6de7f4e0b49a button.colab-df-convert');\n",
              "        buttonEl.style.display =\n",
              "          google.colab.kernel.accessAllowed ? 'block' : 'none';\n",
              "\n",
              "        async function convertToInteractive(key) {\n",
              "          const element = document.querySelector('#df-8d94e91e-b1e8-4d77-a449-6de7f4e0b49a');\n",
              "          const dataTable =\n",
              "            await google.colab.kernel.invokeFunction('convertToInteractive',\n",
              "                                                     [key], {});\n",
              "          if (!dataTable) return;\n",
              "\n",
              "          const docLinkHtml = 'Like what you see? Visit the ' +\n",
              "            '<a target=\"_blank\" href=https://colab.research.google.com/notebooks/data_table.ipynb>data table notebook</a>'\n",
              "            + ' to learn more about interactive tables.';\n",
              "          element.innerHTML = '';\n",
              "          dataTable['output_type'] = 'display_data';\n",
              "          await google.colab.output.renderOutput(dataTable, element);\n",
              "          const docLink = document.createElement('div');\n",
              "          docLink.innerHTML = docLinkHtml;\n",
              "          element.appendChild(docLink);\n",
              "        }\n",
              "      </script>\n",
              "    </div>\n",
              "  </div>\n",
              "  "
            ],
            "text/plain": [
              "           order_time           order_date  ...  order_to_allot order_sec\n",
              "0 2021-01-26 02:21:35  2021-01-26 00:00:00  ... 0 days 00:00:33      33.0\n",
              "1 2021-01-26 02:33:16  2021-01-26 00:00:00  ... 0 days 00:01:29      89.0\n",
              "2 2021-01-26 02:39:49  2021-01-26 00:00:00  ... 0 days 00:00:24      24.0\n",
              "3 2021-01-26 02:47:53  2021-01-26 00:00:00  ... 0 days 00:01:13      73.0\n",
              "4 2021-01-26 03:06:30  2021-01-26 00:00:00  ... 0 days 00:01:27      87.0\n",
              "\n",
              "[5 rows x 21 columns]"
            ]
          },
          "metadata": {},
          "execution_count": 36
        }
      ]
    },
    {
      "cell_type": "code",
      "source": [
        "df['allot_sec'] = df['order_sec'] - df['accept_sec']\n",
        "df_test['allot_sec'] = df_test['order_sec'] - df_test['accept_sec']"
      ],
      "metadata": {
        "id": "XbPpk9_kyQw4"
      },
      "execution_count": 37,
      "outputs": []
    },
    {
      "cell_type": "code",
      "source": [
        "df_test = df_test.drop(['order_time','allot_time','accept_time','accept_to_allot','order_to_allot'],axis=1)\n",
        "df= df.drop(['order_time','allot_time','accept_time','accept_to_allot','order_to_allot'],axis=1)"
      ],
      "metadata": {
        "id": "GgcV1NbdynsM"
      },
      "execution_count": 38,
      "outputs": []
    },
    {
      "cell_type": "code",
      "source": [
        "df['order_date'] = pd.to_datetime(df['order_date'].str.strip(), format='%Y/%m/%d %H:%M:%S')\n",
        "df_test['order_date'] = pd.to_datetime(df_test['order_date'].str.strip(), format='%Y/%m/%d %H:%M:%S')"
      ],
      "metadata": {
        "id": "_71EIF56zAHl"
      },
      "execution_count": 39,
      "outputs": []
    },
    {
      "cell_type": "code",
      "source": [
        "df['year'] = pd.DatetimeIndex(df['order_date']).year\n",
        "df['month'] = pd.DatetimeIndex(df['order_date']).month\n",
        "\n",
        "\n",
        "df_test['year'] = pd.DatetimeIndex(df_test['order_date']).year\n",
        "df_test['month'] = pd.DatetimeIndex(df_test['order_date']).month"
      ],
      "metadata": {
        "id": "L3E-nPh1zNut"
      },
      "execution_count": 40,
      "outputs": []
    },
    {
      "cell_type": "code",
      "source": [
        "df.head()"
      ],
      "metadata": {
        "id": "_IwLBOsOzll2",
        "outputId": "04f128cf-9b76-4620-bb9e-557be4971a46",
        "colab": {
          "base_uri": "https://localhost:8080/",
          "height": 270
        }
      },
      "execution_count": 41,
      "outputs": [
        {
          "output_type": "execute_result",
          "data": {
            "text/html": [
              "\n",
              "  <div id=\"df-9a5d0afb-7856-46eb-9ec0-d525eaac3c41\">\n",
              "    <div class=\"colab-df-container\">\n",
              "      <div>\n",
              "<style scoped>\n",
              "    .dataframe tbody tr th:only-of-type {\n",
              "        vertical-align: middle;\n",
              "    }\n",
              "\n",
              "    .dataframe tbody tr th {\n",
              "        vertical-align: top;\n",
              "    }\n",
              "\n",
              "    .dataframe thead th {\n",
              "        text-align: right;\n",
              "    }\n",
              "</style>\n",
              "<table border=\"1\" class=\"dataframe\">\n",
              "  <thead>\n",
              "    <tr style=\"text-align: right;\">\n",
              "      <th></th>\n",
              "      <th>order_date</th>\n",
              "      <th>rider_id</th>\n",
              "      <th>first_mile_distance</th>\n",
              "      <th>last_mile_distance</th>\n",
              "      <th>alloted_orders</th>\n",
              "      <th>delivered_orders</th>\n",
              "      <th>cancelled</th>\n",
              "      <th>undelivered_orders</th>\n",
              "      <th>lifetime_order_count</th>\n",
              "      <th>reassignment_method</th>\n",
              "      <th>reassignment_reason</th>\n",
              "      <th>reassigned_order</th>\n",
              "      <th>session_time</th>\n",
              "      <th>cancelled_time</th>\n",
              "      <th>accept_sec</th>\n",
              "      <th>order_sec</th>\n",
              "      <th>allot_sec</th>\n",
              "      <th>year</th>\n",
              "      <th>month</th>\n",
              "    </tr>\n",
              "  </thead>\n",
              "  <tbody>\n",
              "    <tr>\n",
              "      <th>0</th>\n",
              "      <td>2021-01-26</td>\n",
              "      <td>11696</td>\n",
              "      <td>1.5666</td>\n",
              "      <td>2.65</td>\n",
              "      <td>46.0</td>\n",
              "      <td>46.0</td>\n",
              "      <td>0</td>\n",
              "      <td>0.0</td>\n",
              "      <td>621.0</td>\n",
              "      <td>NaN</td>\n",
              "      <td>NaN</td>\n",
              "      <td>NaN</td>\n",
              "      <td>NaN</td>\n",
              "      <td>NaN</td>\n",
              "      <td>9.0</td>\n",
              "      <td>33.0</td>\n",
              "      <td>24.0</td>\n",
              "      <td>2021</td>\n",
              "      <td>1</td>\n",
              "    </tr>\n",
              "    <tr>\n",
              "      <th>1</th>\n",
              "      <td>2021-01-26</td>\n",
              "      <td>18117</td>\n",
              "      <td>2.5207</td>\n",
              "      <td>2.76</td>\n",
              "      <td>8.0</td>\n",
              "      <td>8.0</td>\n",
              "      <td>0</td>\n",
              "      <td>0.0</td>\n",
              "      <td>105.0</td>\n",
              "      <td>NaN</td>\n",
              "      <td>NaN</td>\n",
              "      <td>NaN</td>\n",
              "      <td>3.266667</td>\n",
              "      <td>NaN</td>\n",
              "      <td>48.0</td>\n",
              "      <td>89.0</td>\n",
              "      <td>41.0</td>\n",
              "      <td>2021</td>\n",
              "      <td>1</td>\n",
              "    </tr>\n",
              "    <tr>\n",
              "      <th>2</th>\n",
              "      <td>2021-01-26</td>\n",
              "      <td>18623</td>\n",
              "      <td>2.2074</td>\n",
              "      <td>4.80</td>\n",
              "      <td>1.0</td>\n",
              "      <td>1.0</td>\n",
              "      <td>0</td>\n",
              "      <td>0.0</td>\n",
              "      <td>66.0</td>\n",
              "      <td>NaN</td>\n",
              "      <td>NaN</td>\n",
              "      <td>NaN</td>\n",
              "      <td>9.816667</td>\n",
              "      <td>NaN</td>\n",
              "      <td>16.0</td>\n",
              "      <td>24.0</td>\n",
              "      <td>8.0</td>\n",
              "      <td>2021</td>\n",
              "      <td>1</td>\n",
              "    </tr>\n",
              "    <tr>\n",
              "      <th>3</th>\n",
              "      <td>2021-01-26</td>\n",
              "      <td>15945</td>\n",
              "      <td>2.1894</td>\n",
              "      <td>6.38</td>\n",
              "      <td>1.0</td>\n",
              "      <td>1.0</td>\n",
              "      <td>0</td>\n",
              "      <td>0.0</td>\n",
              "      <td>127.0</td>\n",
              "      <td>NaN</td>\n",
              "      <td>NaN</td>\n",
              "      <td>NaN</td>\n",
              "      <td>17.533333</td>\n",
              "      <td>NaN</td>\n",
              "      <td>41.0</td>\n",
              "      <td>73.0</td>\n",
              "      <td>32.0</td>\n",
              "      <td>2021</td>\n",
              "      <td>1</td>\n",
              "    </tr>\n",
              "    <tr>\n",
              "      <th>4</th>\n",
              "      <td>2021-01-26</td>\n",
              "      <td>17589</td>\n",
              "      <td>2.7870</td>\n",
              "      <td>4.01</td>\n",
              "      <td>34.0</td>\n",
              "      <td>34.0</td>\n",
              "      <td>0</td>\n",
              "      <td>0.0</td>\n",
              "      <td>84.0</td>\n",
              "      <td>NaN</td>\n",
              "      <td>NaN</td>\n",
              "      <td>NaN</td>\n",
              "      <td>1.350000</td>\n",
              "      <td>NaN</td>\n",
              "      <td>36.0</td>\n",
              "      <td>87.0</td>\n",
              "      <td>51.0</td>\n",
              "      <td>2021</td>\n",
              "      <td>1</td>\n",
              "    </tr>\n",
              "  </tbody>\n",
              "</table>\n",
              "</div>\n",
              "      <button class=\"colab-df-convert\" onclick=\"convertToInteractive('df-9a5d0afb-7856-46eb-9ec0-d525eaac3c41')\"\n",
              "              title=\"Convert this dataframe to an interactive table.\"\n",
              "              style=\"display:none;\">\n",
              "        \n",
              "  <svg xmlns=\"http://www.w3.org/2000/svg\" height=\"24px\"viewBox=\"0 0 24 24\"\n",
              "       width=\"24px\">\n",
              "    <path d=\"M0 0h24v24H0V0z\" fill=\"none\"/>\n",
              "    <path d=\"M18.56 5.44l.94 2.06.94-2.06 2.06-.94-2.06-.94-.94-2.06-.94 2.06-2.06.94zm-11 1L8.5 8.5l.94-2.06 2.06-.94-2.06-.94L8.5 2.5l-.94 2.06-2.06.94zm10 10l.94 2.06.94-2.06 2.06-.94-2.06-.94-.94-2.06-.94 2.06-2.06.94z\"/><path d=\"M17.41 7.96l-1.37-1.37c-.4-.4-.92-.59-1.43-.59-.52 0-1.04.2-1.43.59L10.3 9.45l-7.72 7.72c-.78.78-.78 2.05 0 2.83L4 21.41c.39.39.9.59 1.41.59.51 0 1.02-.2 1.41-.59l7.78-7.78 2.81-2.81c.8-.78.8-2.07 0-2.86zM5.41 20L4 18.59l7.72-7.72 1.47 1.35L5.41 20z\"/>\n",
              "  </svg>\n",
              "      </button>\n",
              "      \n",
              "  <style>\n",
              "    .colab-df-container {\n",
              "      display:flex;\n",
              "      flex-wrap:wrap;\n",
              "      gap: 12px;\n",
              "    }\n",
              "\n",
              "    .colab-df-convert {\n",
              "      background-color: #E8F0FE;\n",
              "      border: none;\n",
              "      border-radius: 50%;\n",
              "      cursor: pointer;\n",
              "      display: none;\n",
              "      fill: #1967D2;\n",
              "      height: 32px;\n",
              "      padding: 0 0 0 0;\n",
              "      width: 32px;\n",
              "    }\n",
              "\n",
              "    .colab-df-convert:hover {\n",
              "      background-color: #E2EBFA;\n",
              "      box-shadow: 0px 1px 2px rgba(60, 64, 67, 0.3), 0px 1px 3px 1px rgba(60, 64, 67, 0.15);\n",
              "      fill: #174EA6;\n",
              "    }\n",
              "\n",
              "    [theme=dark] .colab-df-convert {\n",
              "      background-color: #3B4455;\n",
              "      fill: #D2E3FC;\n",
              "    }\n",
              "\n",
              "    [theme=dark] .colab-df-convert:hover {\n",
              "      background-color: #434B5C;\n",
              "      box-shadow: 0px 1px 3px 1px rgba(0, 0, 0, 0.15);\n",
              "      filter: drop-shadow(0px 1px 2px rgba(0, 0, 0, 0.3));\n",
              "      fill: #FFFFFF;\n",
              "    }\n",
              "  </style>\n",
              "\n",
              "      <script>\n",
              "        const buttonEl =\n",
              "          document.querySelector('#df-9a5d0afb-7856-46eb-9ec0-d525eaac3c41 button.colab-df-convert');\n",
              "        buttonEl.style.display =\n",
              "          google.colab.kernel.accessAllowed ? 'block' : 'none';\n",
              "\n",
              "        async function convertToInteractive(key) {\n",
              "          const element = document.querySelector('#df-9a5d0afb-7856-46eb-9ec0-d525eaac3c41');\n",
              "          const dataTable =\n",
              "            await google.colab.kernel.invokeFunction('convertToInteractive',\n",
              "                                                     [key], {});\n",
              "          if (!dataTable) return;\n",
              "\n",
              "          const docLinkHtml = 'Like what you see? Visit the ' +\n",
              "            '<a target=\"_blank\" href=https://colab.research.google.com/notebooks/data_table.ipynb>data table notebook</a>'\n",
              "            + ' to learn more about interactive tables.';\n",
              "          element.innerHTML = '';\n",
              "          dataTable['output_type'] = 'display_data';\n",
              "          await google.colab.output.renderOutput(dataTable, element);\n",
              "          const docLink = document.createElement('div');\n",
              "          docLink.innerHTML = docLinkHtml;\n",
              "          element.appendChild(docLink);\n",
              "        }\n",
              "      </script>\n",
              "    </div>\n",
              "  </div>\n",
              "  "
            ],
            "text/plain": [
              "  order_date  rider_id  first_mile_distance  ...  allot_sec  year  month\n",
              "0 2021-01-26     11696               1.5666  ...       24.0  2021      1\n",
              "1 2021-01-26     18117               2.5207  ...       41.0  2021      1\n",
              "2 2021-01-26     18623               2.2074  ...        8.0  2021      1\n",
              "3 2021-01-26     15945               2.1894  ...       32.0  2021      1\n",
              "4 2021-01-26     17589               2.7870  ...       51.0  2021      1\n",
              "\n",
              "[5 rows x 19 columns]"
            ]
          },
          "metadata": {},
          "execution_count": 41
        }
      ]
    },
    {
      "cell_type": "code",
      "source": [
        "df.columns"
      ],
      "metadata": {
        "id": "py8OYmyMzqpR",
        "colab": {
          "base_uri": "https://localhost:8080/"
        },
        "outputId": "231424fd-107c-4bb6-f986-917abf44c9cc"
      },
      "execution_count": 42,
      "outputs": [
        {
          "output_type": "execute_result",
          "data": {
            "text/plain": [
              "Index(['order_date', 'rider_id', 'first_mile_distance', 'last_mile_distance',\n",
              "       'alloted_orders', 'delivered_orders', 'cancelled', 'undelivered_orders',\n",
              "       'lifetime_order_count', 'reassignment_method', 'reassignment_reason',\n",
              "       'reassigned_order', 'session_time', 'cancelled_time', 'accept_sec',\n",
              "       'order_sec', 'allot_sec', 'year', 'month'],\n",
              "      dtype='object')"
            ]
          },
          "metadata": {},
          "execution_count": 42
        }
      ]
    },
    {
      "cell_type": "code",
      "source": [
        "df['reassignment_reason'].value_counts()\n"
      ],
      "metadata": {
        "colab": {
          "base_uri": "https://localhost:8080/"
        },
        "id": "EsgoLDGx_fQi",
        "outputId": "13082c4f-0e13-4706-8226-ed7c281a65f1"
      },
      "execution_count": 43,
      "outputs": [
        {
          "output_type": "execute_result",
          "data": {
            "text/plain": [
              "Auto Reassignment basis Inaction. coreengine.tasks.repush_order_to_aa_bucket    7212\n",
              "Reassignment Request from SE portal.                                            5300\n",
              "Reassign                                                                        1241\n",
              "Name: reassignment_reason, dtype: int64"
            ]
          },
          "metadata": {},
          "execution_count": 43
        }
      ]
    },
    {
      "cell_type": "code",
      "source": [
        "df_test['reassignment_reason'].value_counts()"
      ],
      "metadata": {
        "id": "yMwDzycvU4Cb",
        "outputId": "e2d88824-2849-4ac5-adaf-6c1a52d0ae58",
        "colab": {
          "base_uri": "https://localhost:8080/"
        }
      },
      "execution_count": 44,
      "outputs": [
        {
          "output_type": "execute_result",
          "data": {
            "text/plain": [
              "Auto Reassignment basis Inaction. coreengine.tasks.repush_order_to_aa_bucket    2593\n",
              "Reassignment Request from SE portal.                                            1582\n",
              "Reassign                                                                         460\n",
              "Name: reassignment_reason, dtype: int64"
            ]
          },
          "metadata": {},
          "execution_count": 44
        }
      ]
    },
    {
      "cell_type": "code",
      "source": [
        "df['reassignment_method'].value_counts()"
      ],
      "metadata": {
        "colab": {
          "base_uri": "https://localhost:8080/"
        },
        "id": "VjtMBS6EBI3H",
        "outputId": "9cab40b8-f21c-4ea4-c569-e9261385ab28"
      },
      "execution_count": 45,
      "outputs": [
        {
          "output_type": "execute_result",
          "data": {
            "text/plain": [
              "auto      13383\n",
              "manual      361\n",
              "Name: reassignment_method, dtype: int64"
            ]
          },
          "metadata": {},
          "execution_count": 45
        }
      ]
    },
    {
      "cell_type": "code",
      "source": [
        "df_test['reassignment_method'].value_counts()"
      ],
      "metadata": {
        "id": "YyO28pDSU6xV",
        "outputId": "be303bcf-baf7-4fec-f1d4-962ab352c395",
        "colab": {
          "base_uri": "https://localhost:8080/"
        }
      },
      "execution_count": 46,
      "outputs": [
        {
          "output_type": "execute_result",
          "data": {
            "text/plain": [
              "auto      4531\n",
              "manual     101\n",
              "Name: reassignment_method, dtype: int64"
            ]
          },
          "metadata": {},
          "execution_count": 46
        }
      ]
    },
    {
      "cell_type": "code",
      "source": [
        "df.dtypes"
      ],
      "metadata": {
        "colab": {
          "base_uri": "https://localhost:8080/"
        },
        "id": "9EeZJhI-CLeT",
        "outputId": "f038e657-fa3a-4d69-da86-c0ca9f5448a0"
      },
      "execution_count": 47,
      "outputs": [
        {
          "output_type": "execute_result",
          "data": {
            "text/plain": [
              "order_date              datetime64[ns]\n",
              "rider_id                         int64\n",
              "first_mile_distance            float64\n",
              "last_mile_distance             float64\n",
              "alloted_orders                 float64\n",
              "delivered_orders               float64\n",
              "cancelled                        int64\n",
              "undelivered_orders             float64\n",
              "lifetime_order_count           float64\n",
              "reassignment_method             object\n",
              "reassignment_reason             object\n",
              "reassigned_order               float64\n",
              "session_time                   float64\n",
              "cancelled_time                  object\n",
              "accept_sec                     float64\n",
              "order_sec                      float64\n",
              "allot_sec                      float64\n",
              "year                             int64\n",
              "month                            int64\n",
              "dtype: object"
            ]
          },
          "metadata": {},
          "execution_count": 47
        }
      ]
    },
    {
      "cell_type": "code",
      "source": [
        "num_col = [c for i, c in enumerate(df.columns) if df.dtypes[i] in [np.int, np.float]]\n",
        "len(num_col)"
      ],
      "metadata": {
        "colab": {
          "base_uri": "https://localhost:8080/"
        },
        "id": "RJUX7sjxBLC3",
        "outputId": "107d12fd-beec-467f-fcaa-91194a01f62a"
      },
      "execution_count": 48,
      "outputs": [
        {
          "output_type": "execute_result",
          "data": {
            "text/plain": [
              "15"
            ]
          },
          "metadata": {},
          "execution_count": 48
        }
      ]
    },
    {
      "cell_type": "code",
      "source": [
        "num_col = [c for i, c in enumerate(df.columns) if df.dtypes[i] in [np.object]]\n",
        "len(num_col)"
      ],
      "metadata": {
        "colab": {
          "base_uri": "https://localhost:8080/"
        },
        "id": "cbRzNZPNB9XP",
        "outputId": "29177e8c-87cb-4e3a-f366-4d6121138e6b"
      },
      "execution_count": 49,
      "outputs": [
        {
          "output_type": "execute_result",
          "data": {
            "text/plain": [
              "3"
            ]
          },
          "metadata": {},
          "execution_count": 49
        }
      ]
    },
    {
      "cell_type": "code",
      "source": [
        "df.isnull().sum()"
      ],
      "metadata": {
        "colab": {
          "base_uri": "https://localhost:8080/"
        },
        "id": "0xqy1EzoCHNV",
        "outputId": "0ee26c24-add0-4d2a-f53c-a711f5b7558c"
      },
      "execution_count": 50,
      "outputs": [
        {
          "output_type": "execute_result",
          "data": {
            "text/plain": [
              "order_date                   0\n",
              "rider_id                     0\n",
              "first_mile_distance          0\n",
              "last_mile_distance           0\n",
              "alloted_orders           16948\n",
              "delivered_orders         17341\n",
              "cancelled                    0\n",
              "undelivered_orders       17341\n",
              "lifetime_order_count        53\n",
              "reassignment_method     436256\n",
              "reassignment_reason     436247\n",
              "reassigned_order        436247\n",
              "session_time              3675\n",
              "cancelled_time          444782\n",
              "accept_sec                 157\n",
              "order_sec                  157\n",
              "allot_sec                  157\n",
              "year                         0\n",
              "month                        0\n",
              "dtype: int64"
            ]
          },
          "metadata": {},
          "execution_count": 50
        }
      ]
    },
    {
      "cell_type": "code",
      "source": [
        "df_test.isnull().sum()"
      ],
      "metadata": {
        "id": "rBfhRtITVLsU",
        "outputId": "9e1b5b24-d04a-48b7-9d5e-baaf70f86fab",
        "colab": {
          "base_uri": "https://localhost:8080/"
        }
      },
      "execution_count": 51,
      "outputs": [
        {
          "output_type": "execute_result",
          "data": {
            "text/plain": [
              "order_date                   0\n",
              "rider_id                     0\n",
              "first_mile_distance          0\n",
              "last_mile_distance           0\n",
              "alloted_orders            4773\n",
              "delivered_orders          4884\n",
              "undelivered_orders        4884\n",
              "lifetime_order_count       778\n",
              "reassignment_method     140212\n",
              "reassignment_reason     140209\n",
              "reassigned_order        140209\n",
              "session_time              5054\n",
              "accept_sec                  68\n",
              "order_sec                   68\n",
              "allot_sec                   68\n",
              "year                         0\n",
              "month                        0\n",
              "dtype: int64"
            ]
          },
          "metadata": {},
          "execution_count": 51
        }
      ]
    },
    {
      "cell_type": "code",
      "source": [
        "df['reassignment_reason'] = df['reassignment_reason'].replace(np.nan, 0)\n"
      ],
      "metadata": {
        "id": "gsIaGoRRCwfV"
      },
      "execution_count": 52,
      "outputs": []
    },
    {
      "cell_type": "code",
      "source": [
        "df_test['reassignment_reason'] = df_test['reassignment_reason'].replace(np.nan, 0)"
      ],
      "metadata": {
        "id": "dWxYxIYQVcDr"
      },
      "execution_count": 53,
      "outputs": []
    },
    {
      "cell_type": "code",
      "source": [
        "df['reassignment_reason_freq'] = df['reassignment_reason'].replace(('Auto Reassignment basis Inaction. coreengine.tasks.repush_order_to_aa_bucket','Reassignment Request from SE portal.','Reassign','0'),(7212,5300,1241,436256))\n",
        "df_test['reassignment_reason_freq'] = df_test['reassignment_reason'].replace(('Auto Reassignment basis Inaction. coreengine.tasks.repush_order_to_aa_bucket','Reassignment Request from SE portal.','Reassign','0'),(2593,1582,460,140209))"
      ],
      "metadata": {
        "id": "_0NaYpnIDEpc"
      },
      "execution_count": 54,
      "outputs": []
    },
    {
      "cell_type": "code",
      "source": [
        "df_test['reassignment_reason'].value_counts()"
      ],
      "metadata": {
        "colab": {
          "base_uri": "https://localhost:8080/"
        },
        "id": "LGDU3NnnFPkP",
        "outputId": "6408646b-dddc-498b-e188-d3833b556907"
      },
      "execution_count": 55,
      "outputs": [
        {
          "output_type": "execute_result",
          "data": {
            "text/plain": [
              "0                                                                               140209\n",
              "Auto Reassignment basis Inaction. coreengine.tasks.repush_order_to_aa_bucket      2593\n",
              "Reassignment Request from SE portal.                                              1582\n",
              "Reassign                                                                           460\n",
              "Name: reassignment_reason, dtype: int64"
            ]
          },
          "metadata": {},
          "execution_count": 55
        }
      ]
    },
    {
      "cell_type": "code",
      "source": [
        "pip install --upgrade category_encoders"
      ],
      "metadata": {
        "colab": {
          "base_uri": "https://localhost:8080/"
        },
        "id": "iG3JhXN8G2AQ",
        "outputId": "de5eeb6f-adfd-4699-de34-2fa62a9c2a93"
      },
      "execution_count": 56,
      "outputs": [
        {
          "output_type": "stream",
          "name": "stdout",
          "text": [
            "Collecting category_encoders\n",
            "  Downloading category_encoders-2.3.0-py2.py3-none-any.whl (82 kB)\n",
            "\u001b[?25l\r\u001b[K     |████                            | 10 kB 17.6 MB/s eta 0:00:01\r\u001b[K     |████████                        | 20 kB 21.8 MB/s eta 0:00:01\r\u001b[K     |████████████                    | 30 kB 22.9 MB/s eta 0:00:01\r\u001b[K     |████████████████                | 40 kB 25.0 MB/s eta 0:00:01\r\u001b[K     |████████████████████            | 51 kB 16.0 MB/s eta 0:00:01\r\u001b[K     |████████████████████████        | 61 kB 17.7 MB/s eta 0:00:01\r\u001b[K     |████████████████████████████    | 71 kB 16.2 MB/s eta 0:00:01\r\u001b[K     |███████████████████████████████▉| 81 kB 17.1 MB/s eta 0:00:01\r\u001b[K     |████████████████████████████████| 82 kB 211 kB/s \n",
            "\u001b[?25hRequirement already satisfied: scipy>=1.0.0 in /usr/local/lib/python3.7/dist-packages (from category_encoders) (1.4.1)\n",
            "Requirement already satisfied: scikit-learn>=0.20.0 in /usr/local/lib/python3.7/dist-packages (from category_encoders) (1.0.2)\n",
            "Requirement already satisfied: pandas>=0.21.1 in /usr/local/lib/python3.7/dist-packages (from category_encoders) (1.3.5)\n",
            "Requirement already satisfied: patsy>=0.5.1 in /usr/local/lib/python3.7/dist-packages (from category_encoders) (0.5.2)\n",
            "Requirement already satisfied: numpy>=1.14.0 in /usr/local/lib/python3.7/dist-packages (from category_encoders) (1.19.5)\n",
            "Requirement already satisfied: statsmodels>=0.9.0 in /usr/local/lib/python3.7/dist-packages (from category_encoders) (0.10.2)\n",
            "Requirement already satisfied: python-dateutil>=2.7.3 in /usr/local/lib/python3.7/dist-packages (from pandas>=0.21.1->category_encoders) (2.8.2)\n",
            "Requirement already satisfied: pytz>=2017.3 in /usr/local/lib/python3.7/dist-packages (from pandas>=0.21.1->category_encoders) (2018.9)\n",
            "Requirement already satisfied: six in /usr/local/lib/python3.7/dist-packages (from patsy>=0.5.1->category_encoders) (1.15.0)\n",
            "Requirement already satisfied: threadpoolctl>=2.0.0 in /usr/local/lib/python3.7/dist-packages (from scikit-learn>=0.20.0->category_encoders) (3.0.0)\n",
            "Requirement already satisfied: joblib>=0.11 in /usr/local/lib/python3.7/dist-packages (from scikit-learn>=0.20.0->category_encoders) (1.1.0)\n",
            "Installing collected packages: category-encoders\n",
            "Successfully installed category-encoders-2.3.0\n"
          ]
        }
      ]
    },
    {
      "cell_type": "code",
      "source": [
        "from category_encoders import TargetEncoder\n",
        "\n",
        "encoder = TargetEncoder()\n",
        "df['reassignment_reason']= encoder.fit_transform(df['reassignment_reason'], df['cancelled'])\n"
      ],
      "metadata": {
        "id": "kdbdsJeRFvWU",
        "outputId": "96114548-37ca-4467-830b-3b09efac6015",
        "colab": {
          "base_uri": "https://localhost:8080/"
        }
      },
      "execution_count": 57,
      "outputs": [
        {
          "output_type": "stream",
          "name": "stderr",
          "text": [
            "/usr/local/lib/python3.7/dist-packages/statsmodels/tools/_testing.py:19: FutureWarning: pandas.util.testing is deprecated. Use the functions in the public API at pandas.testing instead.\n",
            "  import pandas.util.testing as tm\n"
          ]
        }
      ]
    },
    {
      "cell_type": "code",
      "source": [
        "df.columns"
      ],
      "metadata": {
        "colab": {
          "base_uri": "https://localhost:8080/"
        },
        "id": "KIqxexydG5Xa",
        "outputId": "1be89475-045f-4510-b524-1e1424cd2787"
      },
      "execution_count": 58,
      "outputs": [
        {
          "output_type": "execute_result",
          "data": {
            "text/plain": [
              "Index(['order_date', 'rider_id', 'first_mile_distance', 'last_mile_distance',\n",
              "       'alloted_orders', 'delivered_orders', 'cancelled', 'undelivered_orders',\n",
              "       'lifetime_order_count', 'reassignment_method', 'reassignment_reason',\n",
              "       'reassigned_order', 'session_time', 'cancelled_time', 'accept_sec',\n",
              "       'order_sec', 'allot_sec', 'year', 'month', 'reassignment_reason_freq'],\n",
              "      dtype='object')"
            ]
          },
          "metadata": {},
          "execution_count": 58
        }
      ]
    },
    {
      "cell_type": "code",
      "source": [
        "df['reassignment_method'] = df['reassignment_method'].replace(np.nan, 0)\n"
      ],
      "metadata": {
        "id": "xaZpIUL8HDT8"
      },
      "execution_count": 59,
      "outputs": []
    },
    {
      "cell_type": "code",
      "source": [
        "df_test['reassignment_method'] = df_test['reassignment_method'].replace(np.nan, 0)"
      ],
      "metadata": {
        "id": "2naddu4eV29F"
      },
      "execution_count": 60,
      "outputs": []
    },
    {
      "cell_type": "code",
      "source": [
        "df_test['reassignment_method'].value_counts()"
      ],
      "metadata": {
        "colab": {
          "base_uri": "https://localhost:8080/"
        },
        "id": "mfjZZpYBHZi6",
        "outputId": "40b0e426-a6d0-4d51-f8f5-f155bdc3f4e0"
      },
      "execution_count": 61,
      "outputs": [
        {
          "output_type": "execute_result",
          "data": {
            "text/plain": [
              "0         140212\n",
              "auto        4531\n",
              "manual       101\n",
              "Name: reassignment_method, dtype: int64"
            ]
          },
          "metadata": {},
          "execution_count": 61
        }
      ]
    },
    {
      "cell_type": "code",
      "source": [
        "df['reassignment_method_freq'] = df['reassignment_reason'].replace(('auto','manual','0'),(13383,361,436256))\n",
        "df_test['reassignment_method_freq'] = df_test['reassignment_reason'].replace(('auto','manual','0'),(4531,101,140212))"
      ],
      "metadata": {
        "id": "eZDzEfUaHdAJ"
      },
      "execution_count": 62,
      "outputs": []
    },
    {
      "cell_type": "code",
      "source": [
        "encoder = TargetEncoder()\n",
        "df['reassignment_method']= encoder.fit_transform(df['reassignment_method'], df['cancelled'])\n"
      ],
      "metadata": {
        "id": "3oG1oNkdJhXZ"
      },
      "execution_count": 63,
      "outputs": []
    },
    {
      "cell_type": "code",
      "source": [
        "df['total_distance'] = df['first_mile_distance'] + df['last_mile_distance']\n",
        "df_test['total_distance'] = df_test['first_mile_distance'] + df_test['last_mile_distance']"
      ],
      "metadata": {
        "id": "9VDSqMUOJnah"
      },
      "execution_count": 64,
      "outputs": []
    },
    {
      "cell_type": "code",
      "source": [
        "df.columns"
      ],
      "metadata": {
        "colab": {
          "base_uri": "https://localhost:8080/"
        },
        "id": "oeWd6WFhNMl5",
        "outputId": "7426a2a3-be1f-4ed7-94c6-ea33da9656ec"
      },
      "execution_count": 65,
      "outputs": [
        {
          "output_type": "execute_result",
          "data": {
            "text/plain": [
              "Index(['order_date', 'rider_id', 'first_mile_distance', 'last_mile_distance',\n",
              "       'alloted_orders', 'delivered_orders', 'cancelled', 'undelivered_orders',\n",
              "       'lifetime_order_count', 'reassignment_method', 'reassignment_reason',\n",
              "       'reassigned_order', 'session_time', 'cancelled_time', 'accept_sec',\n",
              "       'order_sec', 'allot_sec', 'year', 'month', 'reassignment_reason_freq',\n",
              "       'reassignment_method_freq', 'total_distance'],\n",
              "      dtype='object')"
            ]
          },
          "metadata": {},
          "execution_count": 65
        }
      ]
    },
    {
      "cell_type": "code",
      "source": [
        "df.head()"
      ],
      "metadata": {
        "id": "Bps6a0uwNgwJ",
        "outputId": "b70bf97c-b91d-4cec-d4e6-ec477d7cb65a",
        "colab": {
          "base_uri": "https://localhost:8080/",
          "height": 270
        }
      },
      "execution_count": 66,
      "outputs": [
        {
          "output_type": "execute_result",
          "data": {
            "text/html": [
              "\n",
              "  <div id=\"df-9a7fdeba-2a07-4c54-ab86-3e8a7bd16e0a\">\n",
              "    <div class=\"colab-df-container\">\n",
              "      <div>\n",
              "<style scoped>\n",
              "    .dataframe tbody tr th:only-of-type {\n",
              "        vertical-align: middle;\n",
              "    }\n",
              "\n",
              "    .dataframe tbody tr th {\n",
              "        vertical-align: top;\n",
              "    }\n",
              "\n",
              "    .dataframe thead th {\n",
              "        text-align: right;\n",
              "    }\n",
              "</style>\n",
              "<table border=\"1\" class=\"dataframe\">\n",
              "  <thead>\n",
              "    <tr style=\"text-align: right;\">\n",
              "      <th></th>\n",
              "      <th>order_date</th>\n",
              "      <th>rider_id</th>\n",
              "      <th>first_mile_distance</th>\n",
              "      <th>last_mile_distance</th>\n",
              "      <th>alloted_orders</th>\n",
              "      <th>delivered_orders</th>\n",
              "      <th>cancelled</th>\n",
              "      <th>undelivered_orders</th>\n",
              "      <th>lifetime_order_count</th>\n",
              "      <th>reassignment_method</th>\n",
              "      <th>reassignment_reason</th>\n",
              "      <th>reassigned_order</th>\n",
              "      <th>session_time</th>\n",
              "      <th>cancelled_time</th>\n",
              "      <th>accept_sec</th>\n",
              "      <th>order_sec</th>\n",
              "      <th>allot_sec</th>\n",
              "      <th>year</th>\n",
              "      <th>month</th>\n",
              "      <th>reassignment_reason_freq</th>\n",
              "      <th>reassignment_method_freq</th>\n",
              "      <th>total_distance</th>\n",
              "    </tr>\n",
              "  </thead>\n",
              "  <tbody>\n",
              "    <tr>\n",
              "      <th>0</th>\n",
              "      <td>2021-01-26</td>\n",
              "      <td>11696</td>\n",
              "      <td>1.5666</td>\n",
              "      <td>2.65</td>\n",
              "      <td>46.0</td>\n",
              "      <td>46.0</td>\n",
              "      <td>0</td>\n",
              "      <td>0.0</td>\n",
              "      <td>621.0</td>\n",
              "      <td>0.010313</td>\n",
              "      <td>0.010306</td>\n",
              "      <td>NaN</td>\n",
              "      <td>NaN</td>\n",
              "      <td>NaN</td>\n",
              "      <td>9.0</td>\n",
              "      <td>33.0</td>\n",
              "      <td>24.0</td>\n",
              "      <td>2021</td>\n",
              "      <td>1</td>\n",
              "      <td>0</td>\n",
              "      <td>0.010306</td>\n",
              "      <td>4.2166</td>\n",
              "    </tr>\n",
              "    <tr>\n",
              "      <th>1</th>\n",
              "      <td>2021-01-26</td>\n",
              "      <td>18117</td>\n",
              "      <td>2.5207</td>\n",
              "      <td>2.76</td>\n",
              "      <td>8.0</td>\n",
              "      <td>8.0</td>\n",
              "      <td>0</td>\n",
              "      <td>0.0</td>\n",
              "      <td>105.0</td>\n",
              "      <td>0.010313</td>\n",
              "      <td>0.010306</td>\n",
              "      <td>NaN</td>\n",
              "      <td>3.266667</td>\n",
              "      <td>NaN</td>\n",
              "      <td>48.0</td>\n",
              "      <td>89.0</td>\n",
              "      <td>41.0</td>\n",
              "      <td>2021</td>\n",
              "      <td>1</td>\n",
              "      <td>0</td>\n",
              "      <td>0.010306</td>\n",
              "      <td>5.2807</td>\n",
              "    </tr>\n",
              "    <tr>\n",
              "      <th>2</th>\n",
              "      <td>2021-01-26</td>\n",
              "      <td>18623</td>\n",
              "      <td>2.2074</td>\n",
              "      <td>4.80</td>\n",
              "      <td>1.0</td>\n",
              "      <td>1.0</td>\n",
              "      <td>0</td>\n",
              "      <td>0.0</td>\n",
              "      <td>66.0</td>\n",
              "      <td>0.010313</td>\n",
              "      <td>0.010306</td>\n",
              "      <td>NaN</td>\n",
              "      <td>9.816667</td>\n",
              "      <td>NaN</td>\n",
              "      <td>16.0</td>\n",
              "      <td>24.0</td>\n",
              "      <td>8.0</td>\n",
              "      <td>2021</td>\n",
              "      <td>1</td>\n",
              "      <td>0</td>\n",
              "      <td>0.010306</td>\n",
              "      <td>7.0074</td>\n",
              "    </tr>\n",
              "    <tr>\n",
              "      <th>3</th>\n",
              "      <td>2021-01-26</td>\n",
              "      <td>15945</td>\n",
              "      <td>2.1894</td>\n",
              "      <td>6.38</td>\n",
              "      <td>1.0</td>\n",
              "      <td>1.0</td>\n",
              "      <td>0</td>\n",
              "      <td>0.0</td>\n",
              "      <td>127.0</td>\n",
              "      <td>0.010313</td>\n",
              "      <td>0.010306</td>\n",
              "      <td>NaN</td>\n",
              "      <td>17.533333</td>\n",
              "      <td>NaN</td>\n",
              "      <td>41.0</td>\n",
              "      <td>73.0</td>\n",
              "      <td>32.0</td>\n",
              "      <td>2021</td>\n",
              "      <td>1</td>\n",
              "      <td>0</td>\n",
              "      <td>0.010306</td>\n",
              "      <td>8.5694</td>\n",
              "    </tr>\n",
              "    <tr>\n",
              "      <th>4</th>\n",
              "      <td>2021-01-26</td>\n",
              "      <td>17589</td>\n",
              "      <td>2.7870</td>\n",
              "      <td>4.01</td>\n",
              "      <td>34.0</td>\n",
              "      <td>34.0</td>\n",
              "      <td>0</td>\n",
              "      <td>0.0</td>\n",
              "      <td>84.0</td>\n",
              "      <td>0.010313</td>\n",
              "      <td>0.010306</td>\n",
              "      <td>NaN</td>\n",
              "      <td>1.350000</td>\n",
              "      <td>NaN</td>\n",
              "      <td>36.0</td>\n",
              "      <td>87.0</td>\n",
              "      <td>51.0</td>\n",
              "      <td>2021</td>\n",
              "      <td>1</td>\n",
              "      <td>0</td>\n",
              "      <td>0.010306</td>\n",
              "      <td>6.7970</td>\n",
              "    </tr>\n",
              "  </tbody>\n",
              "</table>\n",
              "</div>\n",
              "      <button class=\"colab-df-convert\" onclick=\"convertToInteractive('df-9a7fdeba-2a07-4c54-ab86-3e8a7bd16e0a')\"\n",
              "              title=\"Convert this dataframe to an interactive table.\"\n",
              "              style=\"display:none;\">\n",
              "        \n",
              "  <svg xmlns=\"http://www.w3.org/2000/svg\" height=\"24px\"viewBox=\"0 0 24 24\"\n",
              "       width=\"24px\">\n",
              "    <path d=\"M0 0h24v24H0V0z\" fill=\"none\"/>\n",
              "    <path d=\"M18.56 5.44l.94 2.06.94-2.06 2.06-.94-2.06-.94-.94-2.06-.94 2.06-2.06.94zm-11 1L8.5 8.5l.94-2.06 2.06-.94-2.06-.94L8.5 2.5l-.94 2.06-2.06.94zm10 10l.94 2.06.94-2.06 2.06-.94-2.06-.94-.94-2.06-.94 2.06-2.06.94z\"/><path d=\"M17.41 7.96l-1.37-1.37c-.4-.4-.92-.59-1.43-.59-.52 0-1.04.2-1.43.59L10.3 9.45l-7.72 7.72c-.78.78-.78 2.05 0 2.83L4 21.41c.39.39.9.59 1.41.59.51 0 1.02-.2 1.41-.59l7.78-7.78 2.81-2.81c.8-.78.8-2.07 0-2.86zM5.41 20L4 18.59l7.72-7.72 1.47 1.35L5.41 20z\"/>\n",
              "  </svg>\n",
              "      </button>\n",
              "      \n",
              "  <style>\n",
              "    .colab-df-container {\n",
              "      display:flex;\n",
              "      flex-wrap:wrap;\n",
              "      gap: 12px;\n",
              "    }\n",
              "\n",
              "    .colab-df-convert {\n",
              "      background-color: #E8F0FE;\n",
              "      border: none;\n",
              "      border-radius: 50%;\n",
              "      cursor: pointer;\n",
              "      display: none;\n",
              "      fill: #1967D2;\n",
              "      height: 32px;\n",
              "      padding: 0 0 0 0;\n",
              "      width: 32px;\n",
              "    }\n",
              "\n",
              "    .colab-df-convert:hover {\n",
              "      background-color: #E2EBFA;\n",
              "      box-shadow: 0px 1px 2px rgba(60, 64, 67, 0.3), 0px 1px 3px 1px rgba(60, 64, 67, 0.15);\n",
              "      fill: #174EA6;\n",
              "    }\n",
              "\n",
              "    [theme=dark] .colab-df-convert {\n",
              "      background-color: #3B4455;\n",
              "      fill: #D2E3FC;\n",
              "    }\n",
              "\n",
              "    [theme=dark] .colab-df-convert:hover {\n",
              "      background-color: #434B5C;\n",
              "      box-shadow: 0px 1px 3px 1px rgba(0, 0, 0, 0.15);\n",
              "      filter: drop-shadow(0px 1px 2px rgba(0, 0, 0, 0.3));\n",
              "      fill: #FFFFFF;\n",
              "    }\n",
              "  </style>\n",
              "\n",
              "      <script>\n",
              "        const buttonEl =\n",
              "          document.querySelector('#df-9a7fdeba-2a07-4c54-ab86-3e8a7bd16e0a button.colab-df-convert');\n",
              "        buttonEl.style.display =\n",
              "          google.colab.kernel.accessAllowed ? 'block' : 'none';\n",
              "\n",
              "        async function convertToInteractive(key) {\n",
              "          const element = document.querySelector('#df-9a7fdeba-2a07-4c54-ab86-3e8a7bd16e0a');\n",
              "          const dataTable =\n",
              "            await google.colab.kernel.invokeFunction('convertToInteractive',\n",
              "                                                     [key], {});\n",
              "          if (!dataTable) return;\n",
              "\n",
              "          const docLinkHtml = 'Like what you see? Visit the ' +\n",
              "            '<a target=\"_blank\" href=https://colab.research.google.com/notebooks/data_table.ipynb>data table notebook</a>'\n",
              "            + ' to learn more about interactive tables.';\n",
              "          element.innerHTML = '';\n",
              "          dataTable['output_type'] = 'display_data';\n",
              "          await google.colab.output.renderOutput(dataTable, element);\n",
              "          const docLink = document.createElement('div');\n",
              "          docLink.innerHTML = docLinkHtml;\n",
              "          element.appendChild(docLink);\n",
              "        }\n",
              "      </script>\n",
              "    </div>\n",
              "  </div>\n",
              "  "
            ],
            "text/plain": [
              "  order_date  rider_id  ...  reassignment_method_freq  total_distance\n",
              "0 2021-01-26     11696  ...                  0.010306          4.2166\n",
              "1 2021-01-26     18117  ...                  0.010306          5.2807\n",
              "2 2021-01-26     18623  ...                  0.010306          7.0074\n",
              "3 2021-01-26     15945  ...                  0.010306          8.5694\n",
              "4 2021-01-26     17589  ...                  0.010306          6.7970\n",
              "\n",
              "[5 rows x 22 columns]"
            ]
          },
          "metadata": {},
          "execution_count": 66
        }
      ]
    },
    {
      "cell_type": "code",
      "source": [
        ""
      ],
      "metadata": {
        "id": "stFQJ9iFWzhB"
      },
      "execution_count": 66,
      "outputs": []
    },
    {
      "cell_type": "code",
      "source": [
        "rows = 450000\n",
        "count = 0\n",
        "for i in range(rows):\n",
        "  if df['delivered_orders'][i] + df['undelivered_orders'][i] == df['alloted_orders'][i]:\n",
        "    count += 1\n",
        "print(count)"
      ],
      "metadata": {
        "id": "DOGGvI6RUJa2",
        "outputId": "cf62ab18-57e8-4d3e-bb70-6c35aed43d71",
        "colab": {
          "base_uri": "https://localhost:8080/"
        }
      },
      "execution_count": 67,
      "outputs": [
        {
          "output_type": "stream",
          "name": "stdout",
          "text": [
            "432659\n"
          ]
        }
      ]
    },
    {
      "cell_type": "code",
      "source": [
        "df = df[pd.notnull(df['delivered_orders'])]"
      ],
      "metadata": {
        "id": "n_RhtQEYYH8h"
      },
      "execution_count": 68,
      "outputs": []
    },
    {
      "cell_type": "code",
      "source": [
        "df.isnull().sum()"
      ],
      "metadata": {
        "id": "SUP0NRdoYvBn",
        "outputId": "bdc4852d-e2ec-4d35-d093-55e88c3e992f",
        "colab": {
          "base_uri": "https://localhost:8080/"
        }
      },
      "execution_count": 69,
      "outputs": [
        {
          "output_type": "execute_result",
          "data": {
            "text/plain": [
              "order_date                       0\n",
              "rider_id                         0\n",
              "first_mile_distance              0\n",
              "last_mile_distance               0\n",
              "alloted_orders                   0\n",
              "delivered_orders                 0\n",
              "cancelled                        0\n",
              "undelivered_orders               0\n",
              "lifetime_order_count             0\n",
              "reassignment_method              0\n",
              "reassignment_reason              0\n",
              "reassigned_order            419393\n",
              "session_time                  3344\n",
              "cancelled_time              428296\n",
              "accept_sec                     139\n",
              "order_sec                      139\n",
              "allot_sec                      139\n",
              "year                             0\n",
              "month                            0\n",
              "reassignment_reason_freq         0\n",
              "reassignment_method_freq         0\n",
              "total_distance                   0\n",
              "dtype: int64"
            ]
          },
          "metadata": {},
          "execution_count": 69
        }
      ]
    },
    {
      "cell_type": "code",
      "source": [
        ""
      ],
      "metadata": {
        "id": "kxGshBADZIm1"
      },
      "execution_count": 69,
      "outputs": []
    },
    {
      "cell_type": "code",
      "source": [
        "df_test.shape"
      ],
      "metadata": {
        "id": "_acbzBBHZbqo",
        "outputId": "13564e56-edcc-4624-9d1d-0c616a476e72",
        "colab": {
          "base_uri": "https://localhost:8080/"
        }
      },
      "execution_count": 70,
      "outputs": [
        {
          "output_type": "execute_result",
          "data": {
            "text/plain": [
              "(144844, 20)"
            ]
          },
          "metadata": {},
          "execution_count": 70
        }
      ]
    },
    {
      "cell_type": "code",
      "source": [
        "df_test.isnull().sum()"
      ],
      "metadata": {
        "id": "to1fmj9gZdu8",
        "outputId": "db5c3c98-9356-499c-f715-fc9bb6e36da7",
        "colab": {
          "base_uri": "https://localhost:8080/"
        }
      },
      "execution_count": 71,
      "outputs": [
        {
          "output_type": "execute_result",
          "data": {
            "text/plain": [
              "order_date                       0\n",
              "rider_id                         0\n",
              "first_mile_distance              0\n",
              "last_mile_distance               0\n",
              "alloted_orders                4773\n",
              "delivered_orders              4884\n",
              "undelivered_orders            4884\n",
              "lifetime_order_count           778\n",
              "reassignment_method              0\n",
              "reassignment_reason              0\n",
              "reassigned_order            140209\n",
              "session_time                  5054\n",
              "accept_sec                      68\n",
              "order_sec                       68\n",
              "allot_sec                       68\n",
              "year                             0\n",
              "month                            0\n",
              "reassignment_reason_freq         0\n",
              "reassignment_method_freq         0\n",
              "total_distance                   0\n",
              "dtype: int64"
            ]
          },
          "metadata": {},
          "execution_count": 71
        }
      ]
    },
    {
      "cell_type": "code",
      "source": [
        "df['delivery_success'] = (df['delivered_orders']/df['alloted_orders'])\n",
        "df_test['delivery_success'] = (df_test['delivered_orders']/df_test['alloted_orders'])"
      ],
      "metadata": {
        "id": "PbLCNHv-Zoxy"
      },
      "execution_count": 72,
      "outputs": []
    },
    {
      "cell_type": "code",
      "source": [
        "df = df.drop(['delivered_orders', 'undelivered_orders'], axis=1)\n",
        "df_test = df_test.drop(['delivered_orders', 'undelivered_orders'], axis=1)"
      ],
      "metadata": {
        "id": "twMmkfYRa0NF"
      },
      "execution_count": 73,
      "outputs": []
    },
    {
      "cell_type": "code",
      "source": [
        "df['delivery_success'].value_counts()"
      ],
      "metadata": {
        "id": "J_JPOpMXlHfU",
        "outputId": "7025f9cb-44a6-4bd7-986a-c50134eb4e04",
        "colab": {
          "base_uri": "https://localhost:8080/"
        }
      },
      "execution_count": 74,
      "outputs": [
        {
          "output_type": "execute_result",
          "data": {
            "text/plain": [
              "1.000000    232686\n",
              "0.980000      1184\n",
              "0.977778      1145\n",
              "0.981818      1139\n",
              "0.982143      1138\n",
              "             ...  \n",
              "0.967105         1\n",
              "0.978799         1\n",
              "0.908046         1\n",
              "0.428571         1\n",
              "0.997260         1\n",
              "Name: delivery_success, Length: 1334, dtype: int64"
            ]
          },
          "metadata": {},
          "execution_count": 74
        }
      ]
    },
    {
      "cell_type": "code",
      "source": [
        "df = df.drop(['order_date'], axis=1)\n",
        "df_test = df_test.drop(['order_date'], axis=1)"
      ],
      "metadata": {
        "id": "7BN5UvY3p7Pb"
      },
      "execution_count": 75,
      "outputs": []
    },
    {
      "cell_type": "code",
      "source": [
        "df.head()"
      ],
      "metadata": {
        "id": "YCGCoz2gpzrm",
        "outputId": "105f7121-0e66-4e13-bf5d-13026aa3203b",
        "colab": {
          "base_uri": "https://localhost:8080/",
          "height": 270
        }
      },
      "execution_count": 76,
      "outputs": [
        {
          "output_type": "execute_result",
          "data": {
            "text/html": [
              "\n",
              "  <div id=\"df-1327ba2c-9cd3-42e3-94d5-4a3a2a473e90\">\n",
              "    <div class=\"colab-df-container\">\n",
              "      <div>\n",
              "<style scoped>\n",
              "    .dataframe tbody tr th:only-of-type {\n",
              "        vertical-align: middle;\n",
              "    }\n",
              "\n",
              "    .dataframe tbody tr th {\n",
              "        vertical-align: top;\n",
              "    }\n",
              "\n",
              "    .dataframe thead th {\n",
              "        text-align: right;\n",
              "    }\n",
              "</style>\n",
              "<table border=\"1\" class=\"dataframe\">\n",
              "  <thead>\n",
              "    <tr style=\"text-align: right;\">\n",
              "      <th></th>\n",
              "      <th>rider_id</th>\n",
              "      <th>first_mile_distance</th>\n",
              "      <th>last_mile_distance</th>\n",
              "      <th>alloted_orders</th>\n",
              "      <th>cancelled</th>\n",
              "      <th>lifetime_order_count</th>\n",
              "      <th>reassignment_method</th>\n",
              "      <th>reassignment_reason</th>\n",
              "      <th>reassigned_order</th>\n",
              "      <th>session_time</th>\n",
              "      <th>cancelled_time</th>\n",
              "      <th>accept_sec</th>\n",
              "      <th>order_sec</th>\n",
              "      <th>allot_sec</th>\n",
              "      <th>year</th>\n",
              "      <th>month</th>\n",
              "      <th>reassignment_reason_freq</th>\n",
              "      <th>reassignment_method_freq</th>\n",
              "      <th>total_distance</th>\n",
              "      <th>delivery_success</th>\n",
              "    </tr>\n",
              "  </thead>\n",
              "  <tbody>\n",
              "    <tr>\n",
              "      <th>0</th>\n",
              "      <td>11696</td>\n",
              "      <td>1.5666</td>\n",
              "      <td>2.65</td>\n",
              "      <td>46.0</td>\n",
              "      <td>0</td>\n",
              "      <td>621.0</td>\n",
              "      <td>0.010313</td>\n",
              "      <td>0.010306</td>\n",
              "      <td>NaN</td>\n",
              "      <td>NaN</td>\n",
              "      <td>NaN</td>\n",
              "      <td>9.0</td>\n",
              "      <td>33.0</td>\n",
              "      <td>24.0</td>\n",
              "      <td>2021</td>\n",
              "      <td>1</td>\n",
              "      <td>0</td>\n",
              "      <td>0.010306</td>\n",
              "      <td>4.2166</td>\n",
              "      <td>1.0</td>\n",
              "    </tr>\n",
              "    <tr>\n",
              "      <th>1</th>\n",
              "      <td>18117</td>\n",
              "      <td>2.5207</td>\n",
              "      <td>2.76</td>\n",
              "      <td>8.0</td>\n",
              "      <td>0</td>\n",
              "      <td>105.0</td>\n",
              "      <td>0.010313</td>\n",
              "      <td>0.010306</td>\n",
              "      <td>NaN</td>\n",
              "      <td>3.266667</td>\n",
              "      <td>NaN</td>\n",
              "      <td>48.0</td>\n",
              "      <td>89.0</td>\n",
              "      <td>41.0</td>\n",
              "      <td>2021</td>\n",
              "      <td>1</td>\n",
              "      <td>0</td>\n",
              "      <td>0.010306</td>\n",
              "      <td>5.2807</td>\n",
              "      <td>1.0</td>\n",
              "    </tr>\n",
              "    <tr>\n",
              "      <th>2</th>\n",
              "      <td>18623</td>\n",
              "      <td>2.2074</td>\n",
              "      <td>4.80</td>\n",
              "      <td>1.0</td>\n",
              "      <td>0</td>\n",
              "      <td>66.0</td>\n",
              "      <td>0.010313</td>\n",
              "      <td>0.010306</td>\n",
              "      <td>NaN</td>\n",
              "      <td>9.816667</td>\n",
              "      <td>NaN</td>\n",
              "      <td>16.0</td>\n",
              "      <td>24.0</td>\n",
              "      <td>8.0</td>\n",
              "      <td>2021</td>\n",
              "      <td>1</td>\n",
              "      <td>0</td>\n",
              "      <td>0.010306</td>\n",
              "      <td>7.0074</td>\n",
              "      <td>1.0</td>\n",
              "    </tr>\n",
              "    <tr>\n",
              "      <th>3</th>\n",
              "      <td>15945</td>\n",
              "      <td>2.1894</td>\n",
              "      <td>6.38</td>\n",
              "      <td>1.0</td>\n",
              "      <td>0</td>\n",
              "      <td>127.0</td>\n",
              "      <td>0.010313</td>\n",
              "      <td>0.010306</td>\n",
              "      <td>NaN</td>\n",
              "      <td>17.533333</td>\n",
              "      <td>NaN</td>\n",
              "      <td>41.0</td>\n",
              "      <td>73.0</td>\n",
              "      <td>32.0</td>\n",
              "      <td>2021</td>\n",
              "      <td>1</td>\n",
              "      <td>0</td>\n",
              "      <td>0.010306</td>\n",
              "      <td>8.5694</td>\n",
              "      <td>1.0</td>\n",
              "    </tr>\n",
              "    <tr>\n",
              "      <th>4</th>\n",
              "      <td>17589</td>\n",
              "      <td>2.7870</td>\n",
              "      <td>4.01</td>\n",
              "      <td>34.0</td>\n",
              "      <td>0</td>\n",
              "      <td>84.0</td>\n",
              "      <td>0.010313</td>\n",
              "      <td>0.010306</td>\n",
              "      <td>NaN</td>\n",
              "      <td>1.350000</td>\n",
              "      <td>NaN</td>\n",
              "      <td>36.0</td>\n",
              "      <td>87.0</td>\n",
              "      <td>51.0</td>\n",
              "      <td>2021</td>\n",
              "      <td>1</td>\n",
              "      <td>0</td>\n",
              "      <td>0.010306</td>\n",
              "      <td>6.7970</td>\n",
              "      <td>1.0</td>\n",
              "    </tr>\n",
              "  </tbody>\n",
              "</table>\n",
              "</div>\n",
              "      <button class=\"colab-df-convert\" onclick=\"convertToInteractive('df-1327ba2c-9cd3-42e3-94d5-4a3a2a473e90')\"\n",
              "              title=\"Convert this dataframe to an interactive table.\"\n",
              "              style=\"display:none;\">\n",
              "        \n",
              "  <svg xmlns=\"http://www.w3.org/2000/svg\" height=\"24px\"viewBox=\"0 0 24 24\"\n",
              "       width=\"24px\">\n",
              "    <path d=\"M0 0h24v24H0V0z\" fill=\"none\"/>\n",
              "    <path d=\"M18.56 5.44l.94 2.06.94-2.06 2.06-.94-2.06-.94-.94-2.06-.94 2.06-2.06.94zm-11 1L8.5 8.5l.94-2.06 2.06-.94-2.06-.94L8.5 2.5l-.94 2.06-2.06.94zm10 10l.94 2.06.94-2.06 2.06-.94-2.06-.94-.94-2.06-.94 2.06-2.06.94z\"/><path d=\"M17.41 7.96l-1.37-1.37c-.4-.4-.92-.59-1.43-.59-.52 0-1.04.2-1.43.59L10.3 9.45l-7.72 7.72c-.78.78-.78 2.05 0 2.83L4 21.41c.39.39.9.59 1.41.59.51 0 1.02-.2 1.41-.59l7.78-7.78 2.81-2.81c.8-.78.8-2.07 0-2.86zM5.41 20L4 18.59l7.72-7.72 1.47 1.35L5.41 20z\"/>\n",
              "  </svg>\n",
              "      </button>\n",
              "      \n",
              "  <style>\n",
              "    .colab-df-container {\n",
              "      display:flex;\n",
              "      flex-wrap:wrap;\n",
              "      gap: 12px;\n",
              "    }\n",
              "\n",
              "    .colab-df-convert {\n",
              "      background-color: #E8F0FE;\n",
              "      border: none;\n",
              "      border-radius: 50%;\n",
              "      cursor: pointer;\n",
              "      display: none;\n",
              "      fill: #1967D2;\n",
              "      height: 32px;\n",
              "      padding: 0 0 0 0;\n",
              "      width: 32px;\n",
              "    }\n",
              "\n",
              "    .colab-df-convert:hover {\n",
              "      background-color: #E2EBFA;\n",
              "      box-shadow: 0px 1px 2px rgba(60, 64, 67, 0.3), 0px 1px 3px 1px rgba(60, 64, 67, 0.15);\n",
              "      fill: #174EA6;\n",
              "    }\n",
              "\n",
              "    [theme=dark] .colab-df-convert {\n",
              "      background-color: #3B4455;\n",
              "      fill: #D2E3FC;\n",
              "    }\n",
              "\n",
              "    [theme=dark] .colab-df-convert:hover {\n",
              "      background-color: #434B5C;\n",
              "      box-shadow: 0px 1px 3px 1px rgba(0, 0, 0, 0.15);\n",
              "      filter: drop-shadow(0px 1px 2px rgba(0, 0, 0, 0.3));\n",
              "      fill: #FFFFFF;\n",
              "    }\n",
              "  </style>\n",
              "\n",
              "      <script>\n",
              "        const buttonEl =\n",
              "          document.querySelector('#df-1327ba2c-9cd3-42e3-94d5-4a3a2a473e90 button.colab-df-convert');\n",
              "        buttonEl.style.display =\n",
              "          google.colab.kernel.accessAllowed ? 'block' : 'none';\n",
              "\n",
              "        async function convertToInteractive(key) {\n",
              "          const element = document.querySelector('#df-1327ba2c-9cd3-42e3-94d5-4a3a2a473e90');\n",
              "          const dataTable =\n",
              "            await google.colab.kernel.invokeFunction('convertToInteractive',\n",
              "                                                     [key], {});\n",
              "          if (!dataTable) return;\n",
              "\n",
              "          const docLinkHtml = 'Like what you see? Visit the ' +\n",
              "            '<a target=\"_blank\" href=https://colab.research.google.com/notebooks/data_table.ipynb>data table notebook</a>'\n",
              "            + ' to learn more about interactive tables.';\n",
              "          element.innerHTML = '';\n",
              "          dataTable['output_type'] = 'display_data';\n",
              "          await google.colab.output.renderOutput(dataTable, element);\n",
              "          const docLink = document.createElement('div');\n",
              "          docLink.innerHTML = docLinkHtml;\n",
              "          element.appendChild(docLink);\n",
              "        }\n",
              "      </script>\n",
              "    </div>\n",
              "  </div>\n",
              "  "
            ],
            "text/plain": [
              "   rider_id  first_mile_distance  ...  total_distance  delivery_success\n",
              "0     11696               1.5666  ...          4.2166               1.0\n",
              "1     18117               2.5207  ...          5.2807               1.0\n",
              "2     18623               2.2074  ...          7.0074               1.0\n",
              "3     15945               2.1894  ...          8.5694               1.0\n",
              "4     17589               2.7870  ...          6.7970               1.0\n",
              "\n",
              "[5 rows x 20 columns]"
            ]
          },
          "metadata": {},
          "execution_count": 76
        }
      ]
    },
    {
      "cell_type": "code",
      "source": [
        "df_test.head()"
      ],
      "metadata": {
        "id": "dzjp_DJ_p1Nz",
        "outputId": "63be024b-af42-437a-cd77-c000af2af273",
        "colab": {
          "base_uri": "https://localhost:8080/",
          "height": 270
        }
      },
      "execution_count": 77,
      "outputs": [
        {
          "output_type": "execute_result",
          "data": {
            "text/html": [
              "\n",
              "  <div id=\"df-77b705dc-f5e2-43be-ab3a-aaadf75ef601\">\n",
              "    <div class=\"colab-df-container\">\n",
              "      <div>\n",
              "<style scoped>\n",
              "    .dataframe tbody tr th:only-of-type {\n",
              "        vertical-align: middle;\n",
              "    }\n",
              "\n",
              "    .dataframe tbody tr th {\n",
              "        vertical-align: top;\n",
              "    }\n",
              "\n",
              "    .dataframe thead th {\n",
              "        text-align: right;\n",
              "    }\n",
              "</style>\n",
              "<table border=\"1\" class=\"dataframe\">\n",
              "  <thead>\n",
              "    <tr style=\"text-align: right;\">\n",
              "      <th></th>\n",
              "      <th>rider_id</th>\n",
              "      <th>first_mile_distance</th>\n",
              "      <th>last_mile_distance</th>\n",
              "      <th>alloted_orders</th>\n",
              "      <th>lifetime_order_count</th>\n",
              "      <th>reassignment_method</th>\n",
              "      <th>reassignment_reason</th>\n",
              "      <th>reassigned_order</th>\n",
              "      <th>session_time</th>\n",
              "      <th>accept_sec</th>\n",
              "      <th>order_sec</th>\n",
              "      <th>allot_sec</th>\n",
              "      <th>year</th>\n",
              "      <th>month</th>\n",
              "      <th>reassignment_reason_freq</th>\n",
              "      <th>reassignment_method_freq</th>\n",
              "      <th>total_distance</th>\n",
              "      <th>delivery_success</th>\n",
              "    </tr>\n",
              "  </thead>\n",
              "  <tbody>\n",
              "    <tr>\n",
              "      <th>0</th>\n",
              "      <td>12884</td>\n",
              "      <td>1.6585</td>\n",
              "      <td>4.54</td>\n",
              "      <td>216.0</td>\n",
              "      <td>747.0</td>\n",
              "      <td>0</td>\n",
              "      <td>0</td>\n",
              "      <td>NaN</td>\n",
              "      <td>273.400000</td>\n",
              "      <td>26.0</td>\n",
              "      <td>51.0</td>\n",
              "      <td>25.0</td>\n",
              "      <td>2021</td>\n",
              "      <td>2</td>\n",
              "      <td>0</td>\n",
              "      <td>0</td>\n",
              "      <td>6.1985</td>\n",
              "      <td>0.995370</td>\n",
              "    </tr>\n",
              "    <tr>\n",
              "      <th>1</th>\n",
              "      <td>3541</td>\n",
              "      <td>2.0709</td>\n",
              "      <td>5.84</td>\n",
              "      <td>52.0</td>\n",
              "      <td>75.0</td>\n",
              "      <td>0</td>\n",
              "      <td>0</td>\n",
              "      <td>NaN</td>\n",
              "      <td>252.100000</td>\n",
              "      <td>9.0</td>\n",
              "      <td>10.0</td>\n",
              "      <td>1.0</td>\n",
              "      <td>2021</td>\n",
              "      <td>2</td>\n",
              "      <td>0</td>\n",
              "      <td>0</td>\n",
              "      <td>7.9109</td>\n",
              "      <td>1.000000</td>\n",
              "    </tr>\n",
              "    <tr>\n",
              "      <th>2</th>\n",
              "      <td>603</td>\n",
              "      <td>1.3884</td>\n",
              "      <td>0.99</td>\n",
              "      <td>289.0</td>\n",
              "      <td>2214.0</td>\n",
              "      <td>0</td>\n",
              "      <td>0</td>\n",
              "      <td>NaN</td>\n",
              "      <td>241.383333</td>\n",
              "      <td>80.0</td>\n",
              "      <td>127.0</td>\n",
              "      <td>47.0</td>\n",
              "      <td>2021</td>\n",
              "      <td>2</td>\n",
              "      <td>0</td>\n",
              "      <td>0</td>\n",
              "      <td>2.3784</td>\n",
              "      <td>1.000000</td>\n",
              "    </tr>\n",
              "    <tr>\n",
              "      <th>3</th>\n",
              "      <td>3414</td>\n",
              "      <td>1.9039</td>\n",
              "      <td>2.59</td>\n",
              "      <td>125.0</td>\n",
              "      <td>1020.0</td>\n",
              "      <td>0</td>\n",
              "      <td>0</td>\n",
              "      <td>NaN</td>\n",
              "      <td>291.933333</td>\n",
              "      <td>23.0</td>\n",
              "      <td>24.0</td>\n",
              "      <td>1.0</td>\n",
              "      <td>2021</td>\n",
              "      <td>2</td>\n",
              "      <td>0</td>\n",
              "      <td>0</td>\n",
              "      <td>4.4939</td>\n",
              "      <td>0.976000</td>\n",
              "    </tr>\n",
              "    <tr>\n",
              "      <th>4</th>\n",
              "      <td>1426</td>\n",
              "      <td>0.8275</td>\n",
              "      <td>0.94</td>\n",
              "      <td>352.0</td>\n",
              "      <td>7284.0</td>\n",
              "      <td>0</td>\n",
              "      <td>0</td>\n",
              "      <td>NaN</td>\n",
              "      <td>247.133333</td>\n",
              "      <td>60.0</td>\n",
              "      <td>68.0</td>\n",
              "      <td>8.0</td>\n",
              "      <td>2021</td>\n",
              "      <td>2</td>\n",
              "      <td>0</td>\n",
              "      <td>0</td>\n",
              "      <td>1.7675</td>\n",
              "      <td>0.994318</td>\n",
              "    </tr>\n",
              "  </tbody>\n",
              "</table>\n",
              "</div>\n",
              "      <button class=\"colab-df-convert\" onclick=\"convertToInteractive('df-77b705dc-f5e2-43be-ab3a-aaadf75ef601')\"\n",
              "              title=\"Convert this dataframe to an interactive table.\"\n",
              "              style=\"display:none;\">\n",
              "        \n",
              "  <svg xmlns=\"http://www.w3.org/2000/svg\" height=\"24px\"viewBox=\"0 0 24 24\"\n",
              "       width=\"24px\">\n",
              "    <path d=\"M0 0h24v24H0V0z\" fill=\"none\"/>\n",
              "    <path d=\"M18.56 5.44l.94 2.06.94-2.06 2.06-.94-2.06-.94-.94-2.06-.94 2.06-2.06.94zm-11 1L8.5 8.5l.94-2.06 2.06-.94-2.06-.94L8.5 2.5l-.94 2.06-2.06.94zm10 10l.94 2.06.94-2.06 2.06-.94-2.06-.94-.94-2.06-.94 2.06-2.06.94z\"/><path d=\"M17.41 7.96l-1.37-1.37c-.4-.4-.92-.59-1.43-.59-.52 0-1.04.2-1.43.59L10.3 9.45l-7.72 7.72c-.78.78-.78 2.05 0 2.83L4 21.41c.39.39.9.59 1.41.59.51 0 1.02-.2 1.41-.59l7.78-7.78 2.81-2.81c.8-.78.8-2.07 0-2.86zM5.41 20L4 18.59l7.72-7.72 1.47 1.35L5.41 20z\"/>\n",
              "  </svg>\n",
              "      </button>\n",
              "      \n",
              "  <style>\n",
              "    .colab-df-container {\n",
              "      display:flex;\n",
              "      flex-wrap:wrap;\n",
              "      gap: 12px;\n",
              "    }\n",
              "\n",
              "    .colab-df-convert {\n",
              "      background-color: #E8F0FE;\n",
              "      border: none;\n",
              "      border-radius: 50%;\n",
              "      cursor: pointer;\n",
              "      display: none;\n",
              "      fill: #1967D2;\n",
              "      height: 32px;\n",
              "      padding: 0 0 0 0;\n",
              "      width: 32px;\n",
              "    }\n",
              "\n",
              "    .colab-df-convert:hover {\n",
              "      background-color: #E2EBFA;\n",
              "      box-shadow: 0px 1px 2px rgba(60, 64, 67, 0.3), 0px 1px 3px 1px rgba(60, 64, 67, 0.15);\n",
              "      fill: #174EA6;\n",
              "    }\n",
              "\n",
              "    [theme=dark] .colab-df-convert {\n",
              "      background-color: #3B4455;\n",
              "      fill: #D2E3FC;\n",
              "    }\n",
              "\n",
              "    [theme=dark] .colab-df-convert:hover {\n",
              "      background-color: #434B5C;\n",
              "      box-shadow: 0px 1px 3px 1px rgba(0, 0, 0, 0.15);\n",
              "      filter: drop-shadow(0px 1px 2px rgba(0, 0, 0, 0.3));\n",
              "      fill: #FFFFFF;\n",
              "    }\n",
              "  </style>\n",
              "\n",
              "      <script>\n",
              "        const buttonEl =\n",
              "          document.querySelector('#df-77b705dc-f5e2-43be-ab3a-aaadf75ef601 button.colab-df-convert');\n",
              "        buttonEl.style.display =\n",
              "          google.colab.kernel.accessAllowed ? 'block' : 'none';\n",
              "\n",
              "        async function convertToInteractive(key) {\n",
              "          const element = document.querySelector('#df-77b705dc-f5e2-43be-ab3a-aaadf75ef601');\n",
              "          const dataTable =\n",
              "            await google.colab.kernel.invokeFunction('convertToInteractive',\n",
              "                                                     [key], {});\n",
              "          if (!dataTable) return;\n",
              "\n",
              "          const docLinkHtml = 'Like what you see? Visit the ' +\n",
              "            '<a target=\"_blank\" href=https://colab.research.google.com/notebooks/data_table.ipynb>data table notebook</a>'\n",
              "            + ' to learn more about interactive tables.';\n",
              "          element.innerHTML = '';\n",
              "          dataTable['output_type'] = 'display_data';\n",
              "          await google.colab.output.renderOutput(dataTable, element);\n",
              "          const docLink = document.createElement('div');\n",
              "          docLink.innerHTML = docLinkHtml;\n",
              "          element.appendChild(docLink);\n",
              "        }\n",
              "      </script>\n",
              "    </div>\n",
              "  </div>\n",
              "  "
            ],
            "text/plain": [
              "   rider_id  first_mile_distance  ...  total_distance  delivery_success\n",
              "0     12884               1.6585  ...          6.1985          0.995370\n",
              "1      3541               2.0709  ...          7.9109          1.000000\n",
              "2       603               1.3884  ...          2.3784          1.000000\n",
              "3      3414               1.9039  ...          4.4939          0.976000\n",
              "4      1426               0.8275  ...          1.7675          0.994318\n",
              "\n",
              "[5 rows x 18 columns]"
            ]
          },
          "metadata": {},
          "execution_count": 77
        }
      ]
    },
    {
      "cell_type": "code",
      "source": [
        "enc_nom_1 = (df.groupby('rider_id').size()) \n",
        "enc_nom_2 = (df_test.groupby('rider_id').size()) "
      ],
      "metadata": {
        "id": "FChwnW4Ep3sN"
      },
      "execution_count": 78,
      "outputs": []
    },
    {
      "cell_type": "code",
      "source": [
        "df['rider-id-freq'] =df['rider_id'].apply(lambda x : enc_nom_1[x])\n",
        "df_test['rider-id-freq'] =df_test['rider_id'].apply(lambda x : enc_nom_2[x])"
      ],
      "metadata": {
        "id": "_ZhxJcauqsjf"
      },
      "execution_count": 79,
      "outputs": []
    },
    {
      "cell_type": "code",
      "source": [
        "df.head()"
      ],
      "metadata": {
        "id": "pRGNnmKOq56G",
        "outputId": "0346d19c-e8d6-4fb3-f34e-66ec52e6c093",
        "colab": {
          "base_uri": "https://localhost:8080/",
          "height": 305
        }
      },
      "execution_count": 80,
      "outputs": [
        {
          "output_type": "execute_result",
          "data": {
            "text/html": [
              "\n",
              "  <div id=\"df-7fcfbc14-d045-493e-bc55-92c7aed22108\">\n",
              "    <div class=\"colab-df-container\">\n",
              "      <div>\n",
              "<style scoped>\n",
              "    .dataframe tbody tr th:only-of-type {\n",
              "        vertical-align: middle;\n",
              "    }\n",
              "\n",
              "    .dataframe tbody tr th {\n",
              "        vertical-align: top;\n",
              "    }\n",
              "\n",
              "    .dataframe thead th {\n",
              "        text-align: right;\n",
              "    }\n",
              "</style>\n",
              "<table border=\"1\" class=\"dataframe\">\n",
              "  <thead>\n",
              "    <tr style=\"text-align: right;\">\n",
              "      <th></th>\n",
              "      <th>rider_id</th>\n",
              "      <th>first_mile_distance</th>\n",
              "      <th>last_mile_distance</th>\n",
              "      <th>alloted_orders</th>\n",
              "      <th>cancelled</th>\n",
              "      <th>lifetime_order_count</th>\n",
              "      <th>reassignment_method</th>\n",
              "      <th>reassignment_reason</th>\n",
              "      <th>reassigned_order</th>\n",
              "      <th>session_time</th>\n",
              "      <th>cancelled_time</th>\n",
              "      <th>accept_sec</th>\n",
              "      <th>order_sec</th>\n",
              "      <th>allot_sec</th>\n",
              "      <th>year</th>\n",
              "      <th>month</th>\n",
              "      <th>reassignment_reason_freq</th>\n",
              "      <th>reassignment_method_freq</th>\n",
              "      <th>total_distance</th>\n",
              "      <th>delivery_success</th>\n",
              "      <th>rider-id-freq</th>\n",
              "    </tr>\n",
              "  </thead>\n",
              "  <tbody>\n",
              "    <tr>\n",
              "      <th>0</th>\n",
              "      <td>11696</td>\n",
              "      <td>1.5666</td>\n",
              "      <td>2.65</td>\n",
              "      <td>46.0</td>\n",
              "      <td>0</td>\n",
              "      <td>621.0</td>\n",
              "      <td>0.010313</td>\n",
              "      <td>0.010306</td>\n",
              "      <td>NaN</td>\n",
              "      <td>NaN</td>\n",
              "      <td>NaN</td>\n",
              "      <td>9.0</td>\n",
              "      <td>33.0</td>\n",
              "      <td>24.0</td>\n",
              "      <td>2021</td>\n",
              "      <td>1</td>\n",
              "      <td>0</td>\n",
              "      <td>0.010306</td>\n",
              "      <td>4.2166</td>\n",
              "      <td>1.0</td>\n",
              "      <td>8</td>\n",
              "    </tr>\n",
              "    <tr>\n",
              "      <th>1</th>\n",
              "      <td>18117</td>\n",
              "      <td>2.5207</td>\n",
              "      <td>2.76</td>\n",
              "      <td>8.0</td>\n",
              "      <td>0</td>\n",
              "      <td>105.0</td>\n",
              "      <td>0.010313</td>\n",
              "      <td>0.010306</td>\n",
              "      <td>NaN</td>\n",
              "      <td>3.266667</td>\n",
              "      <td>NaN</td>\n",
              "      <td>48.0</td>\n",
              "      <td>89.0</td>\n",
              "      <td>41.0</td>\n",
              "      <td>2021</td>\n",
              "      <td>1</td>\n",
              "      <td>0</td>\n",
              "      <td>0.010306</td>\n",
              "      <td>5.2807</td>\n",
              "      <td>1.0</td>\n",
              "      <td>12</td>\n",
              "    </tr>\n",
              "    <tr>\n",
              "      <th>2</th>\n",
              "      <td>18623</td>\n",
              "      <td>2.2074</td>\n",
              "      <td>4.80</td>\n",
              "      <td>1.0</td>\n",
              "      <td>0</td>\n",
              "      <td>66.0</td>\n",
              "      <td>0.010313</td>\n",
              "      <td>0.010306</td>\n",
              "      <td>NaN</td>\n",
              "      <td>9.816667</td>\n",
              "      <td>NaN</td>\n",
              "      <td>16.0</td>\n",
              "      <td>24.0</td>\n",
              "      <td>8.0</td>\n",
              "      <td>2021</td>\n",
              "      <td>1</td>\n",
              "      <td>0</td>\n",
              "      <td>0.010306</td>\n",
              "      <td>7.0074</td>\n",
              "      <td>1.0</td>\n",
              "      <td>15</td>\n",
              "    </tr>\n",
              "    <tr>\n",
              "      <th>3</th>\n",
              "      <td>15945</td>\n",
              "      <td>2.1894</td>\n",
              "      <td>6.38</td>\n",
              "      <td>1.0</td>\n",
              "      <td>0</td>\n",
              "      <td>127.0</td>\n",
              "      <td>0.010313</td>\n",
              "      <td>0.010306</td>\n",
              "      <td>NaN</td>\n",
              "      <td>17.533333</td>\n",
              "      <td>NaN</td>\n",
              "      <td>41.0</td>\n",
              "      <td>73.0</td>\n",
              "      <td>32.0</td>\n",
              "      <td>2021</td>\n",
              "      <td>1</td>\n",
              "      <td>0</td>\n",
              "      <td>0.010306</td>\n",
              "      <td>8.5694</td>\n",
              "      <td>1.0</td>\n",
              "      <td>32</td>\n",
              "    </tr>\n",
              "    <tr>\n",
              "      <th>4</th>\n",
              "      <td>17589</td>\n",
              "      <td>2.7870</td>\n",
              "      <td>4.01</td>\n",
              "      <td>34.0</td>\n",
              "      <td>0</td>\n",
              "      <td>84.0</td>\n",
              "      <td>0.010313</td>\n",
              "      <td>0.010306</td>\n",
              "      <td>NaN</td>\n",
              "      <td>1.350000</td>\n",
              "      <td>NaN</td>\n",
              "      <td>36.0</td>\n",
              "      <td>87.0</td>\n",
              "      <td>51.0</td>\n",
              "      <td>2021</td>\n",
              "      <td>1</td>\n",
              "      <td>0</td>\n",
              "      <td>0.010306</td>\n",
              "      <td>6.7970</td>\n",
              "      <td>1.0</td>\n",
              "      <td>14</td>\n",
              "    </tr>\n",
              "  </tbody>\n",
              "</table>\n",
              "</div>\n",
              "      <button class=\"colab-df-convert\" onclick=\"convertToInteractive('df-7fcfbc14-d045-493e-bc55-92c7aed22108')\"\n",
              "              title=\"Convert this dataframe to an interactive table.\"\n",
              "              style=\"display:none;\">\n",
              "        \n",
              "  <svg xmlns=\"http://www.w3.org/2000/svg\" height=\"24px\"viewBox=\"0 0 24 24\"\n",
              "       width=\"24px\">\n",
              "    <path d=\"M0 0h24v24H0V0z\" fill=\"none\"/>\n",
              "    <path d=\"M18.56 5.44l.94 2.06.94-2.06 2.06-.94-2.06-.94-.94-2.06-.94 2.06-2.06.94zm-11 1L8.5 8.5l.94-2.06 2.06-.94-2.06-.94L8.5 2.5l-.94 2.06-2.06.94zm10 10l.94 2.06.94-2.06 2.06-.94-2.06-.94-.94-2.06-.94 2.06-2.06.94z\"/><path d=\"M17.41 7.96l-1.37-1.37c-.4-.4-.92-.59-1.43-.59-.52 0-1.04.2-1.43.59L10.3 9.45l-7.72 7.72c-.78.78-.78 2.05 0 2.83L4 21.41c.39.39.9.59 1.41.59.51 0 1.02-.2 1.41-.59l7.78-7.78 2.81-2.81c.8-.78.8-2.07 0-2.86zM5.41 20L4 18.59l7.72-7.72 1.47 1.35L5.41 20z\"/>\n",
              "  </svg>\n",
              "      </button>\n",
              "      \n",
              "  <style>\n",
              "    .colab-df-container {\n",
              "      display:flex;\n",
              "      flex-wrap:wrap;\n",
              "      gap: 12px;\n",
              "    }\n",
              "\n",
              "    .colab-df-convert {\n",
              "      background-color: #E8F0FE;\n",
              "      border: none;\n",
              "      border-radius: 50%;\n",
              "      cursor: pointer;\n",
              "      display: none;\n",
              "      fill: #1967D2;\n",
              "      height: 32px;\n",
              "      padding: 0 0 0 0;\n",
              "      width: 32px;\n",
              "    }\n",
              "\n",
              "    .colab-df-convert:hover {\n",
              "      background-color: #E2EBFA;\n",
              "      box-shadow: 0px 1px 2px rgba(60, 64, 67, 0.3), 0px 1px 3px 1px rgba(60, 64, 67, 0.15);\n",
              "      fill: #174EA6;\n",
              "    }\n",
              "\n",
              "    [theme=dark] .colab-df-convert {\n",
              "      background-color: #3B4455;\n",
              "      fill: #D2E3FC;\n",
              "    }\n",
              "\n",
              "    [theme=dark] .colab-df-convert:hover {\n",
              "      background-color: #434B5C;\n",
              "      box-shadow: 0px 1px 3px 1px rgba(0, 0, 0, 0.15);\n",
              "      filter: drop-shadow(0px 1px 2px rgba(0, 0, 0, 0.3));\n",
              "      fill: #FFFFFF;\n",
              "    }\n",
              "  </style>\n",
              "\n",
              "      <script>\n",
              "        const buttonEl =\n",
              "          document.querySelector('#df-7fcfbc14-d045-493e-bc55-92c7aed22108 button.colab-df-convert');\n",
              "        buttonEl.style.display =\n",
              "          google.colab.kernel.accessAllowed ? 'block' : 'none';\n",
              "\n",
              "        async function convertToInteractive(key) {\n",
              "          const element = document.querySelector('#df-7fcfbc14-d045-493e-bc55-92c7aed22108');\n",
              "          const dataTable =\n",
              "            await google.colab.kernel.invokeFunction('convertToInteractive',\n",
              "                                                     [key], {});\n",
              "          if (!dataTable) return;\n",
              "\n",
              "          const docLinkHtml = 'Like what you see? Visit the ' +\n",
              "            '<a target=\"_blank\" href=https://colab.research.google.com/notebooks/data_table.ipynb>data table notebook</a>'\n",
              "            + ' to learn more about interactive tables.';\n",
              "          element.innerHTML = '';\n",
              "          dataTable['output_type'] = 'display_data';\n",
              "          await google.colab.output.renderOutput(dataTable, element);\n",
              "          const docLink = document.createElement('div');\n",
              "          docLink.innerHTML = docLinkHtml;\n",
              "          element.appendChild(docLink);\n",
              "        }\n",
              "      </script>\n",
              "    </div>\n",
              "  </div>\n",
              "  "
            ],
            "text/plain": [
              "   rider_id  first_mile_distance  ...  delivery_success  rider-id-freq\n",
              "0     11696               1.5666  ...               1.0              8\n",
              "1     18117               2.5207  ...               1.0             12\n",
              "2     18623               2.2074  ...               1.0             15\n",
              "3     15945               2.1894  ...               1.0             32\n",
              "4     17589               2.7870  ...               1.0             14\n",
              "\n",
              "[5 rows x 21 columns]"
            ]
          },
          "metadata": {},
          "execution_count": 80
        }
      ]
    },
    {
      "cell_type": "code",
      "source": [
        "df_test.head()"
      ],
      "metadata": {
        "id": "781PWrOPq_a2",
        "outputId": "b03df450-4741-43ce-cd79-a7b52b6cfb00",
        "colab": {
          "base_uri": "https://localhost:8080/",
          "height": 305
        }
      },
      "execution_count": 81,
      "outputs": [
        {
          "output_type": "execute_result",
          "data": {
            "text/html": [
              "\n",
              "  <div id=\"df-833cf3aa-a2ae-4bab-b2a8-5ece7b482eeb\">\n",
              "    <div class=\"colab-df-container\">\n",
              "      <div>\n",
              "<style scoped>\n",
              "    .dataframe tbody tr th:only-of-type {\n",
              "        vertical-align: middle;\n",
              "    }\n",
              "\n",
              "    .dataframe tbody tr th {\n",
              "        vertical-align: top;\n",
              "    }\n",
              "\n",
              "    .dataframe thead th {\n",
              "        text-align: right;\n",
              "    }\n",
              "</style>\n",
              "<table border=\"1\" class=\"dataframe\">\n",
              "  <thead>\n",
              "    <tr style=\"text-align: right;\">\n",
              "      <th></th>\n",
              "      <th>rider_id</th>\n",
              "      <th>first_mile_distance</th>\n",
              "      <th>last_mile_distance</th>\n",
              "      <th>alloted_orders</th>\n",
              "      <th>lifetime_order_count</th>\n",
              "      <th>reassignment_method</th>\n",
              "      <th>reassignment_reason</th>\n",
              "      <th>reassigned_order</th>\n",
              "      <th>session_time</th>\n",
              "      <th>accept_sec</th>\n",
              "      <th>order_sec</th>\n",
              "      <th>allot_sec</th>\n",
              "      <th>year</th>\n",
              "      <th>month</th>\n",
              "      <th>reassignment_reason_freq</th>\n",
              "      <th>reassignment_method_freq</th>\n",
              "      <th>total_distance</th>\n",
              "      <th>delivery_success</th>\n",
              "      <th>rider-id-freq</th>\n",
              "    </tr>\n",
              "  </thead>\n",
              "  <tbody>\n",
              "    <tr>\n",
              "      <th>0</th>\n",
              "      <td>12884</td>\n",
              "      <td>1.6585</td>\n",
              "      <td>4.54</td>\n",
              "      <td>216.0</td>\n",
              "      <td>747.0</td>\n",
              "      <td>0</td>\n",
              "      <td>0</td>\n",
              "      <td>NaN</td>\n",
              "      <td>273.400000</td>\n",
              "      <td>26.0</td>\n",
              "      <td>51.0</td>\n",
              "      <td>25.0</td>\n",
              "      <td>2021</td>\n",
              "      <td>2</td>\n",
              "      <td>0</td>\n",
              "      <td>0</td>\n",
              "      <td>6.1985</td>\n",
              "      <td>0.995370</td>\n",
              "      <td>2</td>\n",
              "    </tr>\n",
              "    <tr>\n",
              "      <th>1</th>\n",
              "      <td>3541</td>\n",
              "      <td>2.0709</td>\n",
              "      <td>5.84</td>\n",
              "      <td>52.0</td>\n",
              "      <td>75.0</td>\n",
              "      <td>0</td>\n",
              "      <td>0</td>\n",
              "      <td>NaN</td>\n",
              "      <td>252.100000</td>\n",
              "      <td>9.0</td>\n",
              "      <td>10.0</td>\n",
              "      <td>1.0</td>\n",
              "      <td>2021</td>\n",
              "      <td>2</td>\n",
              "      <td>0</td>\n",
              "      <td>0</td>\n",
              "      <td>7.9109</td>\n",
              "      <td>1.000000</td>\n",
              "      <td>27</td>\n",
              "    </tr>\n",
              "    <tr>\n",
              "      <th>2</th>\n",
              "      <td>603</td>\n",
              "      <td>1.3884</td>\n",
              "      <td>0.99</td>\n",
              "      <td>289.0</td>\n",
              "      <td>2214.0</td>\n",
              "      <td>0</td>\n",
              "      <td>0</td>\n",
              "      <td>NaN</td>\n",
              "      <td>241.383333</td>\n",
              "      <td>80.0</td>\n",
              "      <td>127.0</td>\n",
              "      <td>47.0</td>\n",
              "      <td>2021</td>\n",
              "      <td>2</td>\n",
              "      <td>0</td>\n",
              "      <td>0</td>\n",
              "      <td>2.3784</td>\n",
              "      <td>1.000000</td>\n",
              "      <td>13</td>\n",
              "    </tr>\n",
              "    <tr>\n",
              "      <th>3</th>\n",
              "      <td>3414</td>\n",
              "      <td>1.9039</td>\n",
              "      <td>2.59</td>\n",
              "      <td>125.0</td>\n",
              "      <td>1020.0</td>\n",
              "      <td>0</td>\n",
              "      <td>0</td>\n",
              "      <td>NaN</td>\n",
              "      <td>291.933333</td>\n",
              "      <td>23.0</td>\n",
              "      <td>24.0</td>\n",
              "      <td>1.0</td>\n",
              "      <td>2021</td>\n",
              "      <td>2</td>\n",
              "      <td>0</td>\n",
              "      <td>0</td>\n",
              "      <td>4.4939</td>\n",
              "      <td>0.976000</td>\n",
              "      <td>28</td>\n",
              "    </tr>\n",
              "    <tr>\n",
              "      <th>4</th>\n",
              "      <td>1426</td>\n",
              "      <td>0.8275</td>\n",
              "      <td>0.94</td>\n",
              "      <td>352.0</td>\n",
              "      <td>7284.0</td>\n",
              "      <td>0</td>\n",
              "      <td>0</td>\n",
              "      <td>NaN</td>\n",
              "      <td>247.133333</td>\n",
              "      <td>60.0</td>\n",
              "      <td>68.0</td>\n",
              "      <td>8.0</td>\n",
              "      <td>2021</td>\n",
              "      <td>2</td>\n",
              "      <td>0</td>\n",
              "      <td>0</td>\n",
              "      <td>1.7675</td>\n",
              "      <td>0.994318</td>\n",
              "      <td>32</td>\n",
              "    </tr>\n",
              "  </tbody>\n",
              "</table>\n",
              "</div>\n",
              "      <button class=\"colab-df-convert\" onclick=\"convertToInteractive('df-833cf3aa-a2ae-4bab-b2a8-5ece7b482eeb')\"\n",
              "              title=\"Convert this dataframe to an interactive table.\"\n",
              "              style=\"display:none;\">\n",
              "        \n",
              "  <svg xmlns=\"http://www.w3.org/2000/svg\" height=\"24px\"viewBox=\"0 0 24 24\"\n",
              "       width=\"24px\">\n",
              "    <path d=\"M0 0h24v24H0V0z\" fill=\"none\"/>\n",
              "    <path d=\"M18.56 5.44l.94 2.06.94-2.06 2.06-.94-2.06-.94-.94-2.06-.94 2.06-2.06.94zm-11 1L8.5 8.5l.94-2.06 2.06-.94-2.06-.94L8.5 2.5l-.94 2.06-2.06.94zm10 10l.94 2.06.94-2.06 2.06-.94-2.06-.94-.94-2.06-.94 2.06-2.06.94z\"/><path d=\"M17.41 7.96l-1.37-1.37c-.4-.4-.92-.59-1.43-.59-.52 0-1.04.2-1.43.59L10.3 9.45l-7.72 7.72c-.78.78-.78 2.05 0 2.83L4 21.41c.39.39.9.59 1.41.59.51 0 1.02-.2 1.41-.59l7.78-7.78 2.81-2.81c.8-.78.8-2.07 0-2.86zM5.41 20L4 18.59l7.72-7.72 1.47 1.35L5.41 20z\"/>\n",
              "  </svg>\n",
              "      </button>\n",
              "      \n",
              "  <style>\n",
              "    .colab-df-container {\n",
              "      display:flex;\n",
              "      flex-wrap:wrap;\n",
              "      gap: 12px;\n",
              "    }\n",
              "\n",
              "    .colab-df-convert {\n",
              "      background-color: #E8F0FE;\n",
              "      border: none;\n",
              "      border-radius: 50%;\n",
              "      cursor: pointer;\n",
              "      display: none;\n",
              "      fill: #1967D2;\n",
              "      height: 32px;\n",
              "      padding: 0 0 0 0;\n",
              "      width: 32px;\n",
              "    }\n",
              "\n",
              "    .colab-df-convert:hover {\n",
              "      background-color: #E2EBFA;\n",
              "      box-shadow: 0px 1px 2px rgba(60, 64, 67, 0.3), 0px 1px 3px 1px rgba(60, 64, 67, 0.15);\n",
              "      fill: #174EA6;\n",
              "    }\n",
              "\n",
              "    [theme=dark] .colab-df-convert {\n",
              "      background-color: #3B4455;\n",
              "      fill: #D2E3FC;\n",
              "    }\n",
              "\n",
              "    [theme=dark] .colab-df-convert:hover {\n",
              "      background-color: #434B5C;\n",
              "      box-shadow: 0px 1px 3px 1px rgba(0, 0, 0, 0.15);\n",
              "      filter: drop-shadow(0px 1px 2px rgba(0, 0, 0, 0.3));\n",
              "      fill: #FFFFFF;\n",
              "    }\n",
              "  </style>\n",
              "\n",
              "      <script>\n",
              "        const buttonEl =\n",
              "          document.querySelector('#df-833cf3aa-a2ae-4bab-b2a8-5ece7b482eeb button.colab-df-convert');\n",
              "        buttonEl.style.display =\n",
              "          google.colab.kernel.accessAllowed ? 'block' : 'none';\n",
              "\n",
              "        async function convertToInteractive(key) {\n",
              "          const element = document.querySelector('#df-833cf3aa-a2ae-4bab-b2a8-5ece7b482eeb');\n",
              "          const dataTable =\n",
              "            await google.colab.kernel.invokeFunction('convertToInteractive',\n",
              "                                                     [key], {});\n",
              "          if (!dataTable) return;\n",
              "\n",
              "          const docLinkHtml = 'Like what you see? Visit the ' +\n",
              "            '<a target=\"_blank\" href=https://colab.research.google.com/notebooks/data_table.ipynb>data table notebook</a>'\n",
              "            + ' to learn more about interactive tables.';\n",
              "          element.innerHTML = '';\n",
              "          dataTable['output_type'] = 'display_data';\n",
              "          await google.colab.output.renderOutput(dataTable, element);\n",
              "          const docLink = document.createElement('div');\n",
              "          docLink.innerHTML = docLinkHtml;\n",
              "          element.appendChild(docLink);\n",
              "        }\n",
              "      </script>\n",
              "    </div>\n",
              "  </div>\n",
              "  "
            ],
            "text/plain": [
              "   rider_id  first_mile_distance  ...  delivery_success  rider-id-freq\n",
              "0     12884               1.6585  ...          0.995370              2\n",
              "1      3541               2.0709  ...          1.000000             27\n",
              "2       603               1.3884  ...          1.000000             13\n",
              "3      3414               1.9039  ...          0.976000             28\n",
              "4      1426               0.8275  ...          0.994318             32\n",
              "\n",
              "[5 rows x 19 columns]"
            ]
          },
          "metadata": {},
          "execution_count": 81
        }
      ]
    },
    {
      "cell_type": "code",
      "source": [
        "df = df.drop(['rider_id'], axis=1)\n",
        "df_test = df_test.drop(['rider_id'], axis=1)"
      ],
      "metadata": {
        "id": "zDra1hpyr_BC"
      },
      "execution_count": 82,
      "outputs": []
    },
    {
      "cell_type": "code",
      "source": [
        "df = df.drop(['cancelled_time'], axis=1)"
      ],
      "metadata": {
        "id": "LQtPF8wfsIRm"
      },
      "execution_count": 83,
      "outputs": []
    },
    {
      "cell_type": "code",
      "source": [
        "df.isnull().sum()"
      ],
      "metadata": {
        "id": "C3wGCYq1sYlK",
        "outputId": "d04e9316-dccf-48a1-9465-0a840edca032",
        "colab": {
          "base_uri": "https://localhost:8080/"
        }
      },
      "execution_count": 84,
      "outputs": [
        {
          "output_type": "execute_result",
          "data": {
            "text/plain": [
              "first_mile_distance              0\n",
              "last_mile_distance               0\n",
              "alloted_orders                   0\n",
              "cancelled                        0\n",
              "lifetime_order_count             0\n",
              "reassignment_method              0\n",
              "reassignment_reason              0\n",
              "reassigned_order            419393\n",
              "session_time                  3344\n",
              "accept_sec                     139\n",
              "order_sec                      139\n",
              "allot_sec                      139\n",
              "year                             0\n",
              "month                            0\n",
              "reassignment_reason_freq         0\n",
              "reassignment_method_freq         0\n",
              "total_distance                   0\n",
              "delivery_success                 0\n",
              "rider-id-freq                    0\n",
              "dtype: int64"
            ]
          },
          "metadata": {},
          "execution_count": 84
        }
      ]
    },
    {
      "cell_type": "code",
      "source": [
        "df['reassigned_order'].value_counts()"
      ],
      "metadata": {
        "id": "zefH5xBDshaF",
        "outputId": "b91a18c7-c7be-45ad-a9e2-950eae579862",
        "colab": {
          "base_uri": "https://localhost:8080/"
        }
      },
      "execution_count": 85,
      "outputs": [
        {
          "output_type": "execute_result",
          "data": {
            "text/plain": [
              "1.0    13266\n",
              "Name: reassigned_order, dtype: int64"
            ]
          },
          "metadata": {},
          "execution_count": 85
        }
      ]
    },
    {
      "cell_type": "code",
      "source": [
        "df_test['reassigned_order'] = df_test['reassigned_order'].replace(np.nan, 0)\n",
        "df['reassigned_order'] = df['reassigned_order'].replace(np.nan, 0)"
      ],
      "metadata": {
        "id": "vxvhSuj7szGf"
      },
      "execution_count": 86,
      "outputs": []
    },
    {
      "cell_type": "code",
      "source": [
        "df['session_time'].value_counts()"
      ],
      "metadata": {
        "id": "iCW2Z-XntK_g",
        "outputId": "f8078020-9012-422f-d620-0de00d92345e",
        "colab": {
          "base_uri": "https://localhost:8080/"
        }
      },
      "execution_count": 87,
      "outputs": [
        {
          "output_type": "execute_result",
          "data": {
            "text/plain": [
              "0.066667      143\n",
              "0.033333      135\n",
              "0.116667      122\n",
              "0.150000      122\n",
              "0.050000      121\n",
              "             ... \n",
              "524.016667      1\n",
              "73.850000       1\n",
              "801.716667      1\n",
              "617.116667      1\n",
              "278.750000      1\n",
              "Name: session_time, Length: 65405, dtype: int64"
            ]
          },
          "metadata": {},
          "execution_count": 87
        }
      ]
    },
    {
      "cell_type": "code",
      "source": [
        "column_means = df['session_time'].mean()\n",
        "df['session_time'] = df['session_time'].fillna(column_means)"
      ],
      "metadata": {
        "id": "IT4LnPATtRX1"
      },
      "execution_count": 88,
      "outputs": []
    },
    {
      "cell_type": "code",
      "source": [
        "column_means = df_test['session_time'].mean()\n",
        "df_test['session_time'] = df_test['session_time'].fillna(column_means)"
      ],
      "metadata": {
        "id": "YHzwIhQjtoGD"
      },
      "execution_count": 89,
      "outputs": []
    },
    {
      "cell_type": "code",
      "source": [
        "df['accept_sec'].value_counts()"
      ],
      "metadata": {
        "id": "lLzH8dhkufay",
        "outputId": "83c33ae6-a224-4307-88fa-0b91442e387b",
        "colab": {
          "base_uri": "https://localhost:8080/"
        }
      },
      "execution_count": 90,
      "outputs": [
        {
          "output_type": "execute_result",
          "data": {
            "text/plain": [
              " 7.0       11761\n",
              " 6.0       11692\n",
              " 8.0       11462\n",
              " 9.0       10823\n",
              " 5.0       10322\n",
              "           ...  \n",
              "-3341.0        1\n",
              "-2124.0        1\n",
              "-4091.0        1\n",
              "-3324.0        1\n",
              "-20.0          1\n",
              "Name: accept_sec, Length: 925, dtype: int64"
            ]
          },
          "metadata": {},
          "execution_count": 90
        }
      ]
    },
    {
      "cell_type": "code",
      "source": [
        "df.shape"
      ],
      "metadata": {
        "id": "XNz022Owuzfk",
        "outputId": "20f2ffa4-755b-4cb0-a930-d956715bb519",
        "colab": {
          "base_uri": "https://localhost:8080/"
        }
      },
      "execution_count": 91,
      "outputs": [
        {
          "output_type": "execute_result",
          "data": {
            "text/plain": [
              "(432659, 19)"
            ]
          },
          "metadata": {},
          "execution_count": 91
        }
      ]
    },
    {
      "cell_type": "code",
      "source": [
        "\n",
        "column_means = df['order_sec'].mean()\n",
        "df['order_sec'] = df['order_sec'].fillna(column_means)"
      ],
      "metadata": {
        "id": "w9dhXQEuu41m"
      },
      "execution_count": 92,
      "outputs": []
    },
    {
      "cell_type": "code",
      "source": [
        "column_means = df_test['order_sec'].mean()\n",
        "df_test['order_sec'] = df_test['order_sec'].fillna(column_means)"
      ],
      "metadata": {
        "id": "jWQCH9wowsKE"
      },
      "execution_count": 93,
      "outputs": []
    },
    {
      "cell_type": "code",
      "source": [
        "column_means = df['allot_sec'].mean()\n",
        "df['allot_sec'] = df['allot_sec'].fillna(column_means)"
      ],
      "metadata": {
        "id": "4zgl-evRwwwN"
      },
      "execution_count": 94,
      "outputs": []
    },
    {
      "cell_type": "code",
      "source": [
        "column_means = df_test['allot_sec'].mean()\n",
        "df_test['allot_sec'] = df_test['allot_sec'].fillna(column_means)"
      ],
      "metadata": {
        "id": "nrHminL7w1SO"
      },
      "execution_count": 95,
      "outputs": []
    },
    {
      "cell_type": "code",
      "source": [
        "column_means = df['accept_sec'].mean()\n",
        "df['accept_sec'] = df['accept_sec'].fillna(column_means)"
      ],
      "metadata": {
        "id": "8RB2kZzTw6S0"
      },
      "execution_count": 96,
      "outputs": []
    },
    {
      "cell_type": "code",
      "source": [
        "column_means = df_test['accept_sec'].mean()\n",
        "df_test['accept_sec'] = df_test['accept_sec'].fillna(column_means)"
      ],
      "metadata": {
        "id": "dxpmIhsMxACB"
      },
      "execution_count": 97,
      "outputs": []
    },
    {
      "cell_type": "code",
      "source": [
        "df.isnull().sum()"
      ],
      "metadata": {
        "id": "KDqT8hvKxtsH",
        "outputId": "42e9da86-6346-46e4-a18d-0b1ce66eee0c",
        "colab": {
          "base_uri": "https://localhost:8080/"
        }
      },
      "execution_count": 98,
      "outputs": [
        {
          "output_type": "execute_result",
          "data": {
            "text/plain": [
              "first_mile_distance         0\n",
              "last_mile_distance          0\n",
              "alloted_orders              0\n",
              "cancelled                   0\n",
              "lifetime_order_count        0\n",
              "reassignment_method         0\n",
              "reassignment_reason         0\n",
              "reassigned_order            0\n",
              "session_time                0\n",
              "accept_sec                  0\n",
              "order_sec                   0\n",
              "allot_sec                   0\n",
              "year                        0\n",
              "month                       0\n",
              "reassignment_reason_freq    0\n",
              "reassignment_method_freq    0\n",
              "total_distance              0\n",
              "delivery_success            0\n",
              "rider-id-freq               0\n",
              "dtype: int64"
            ]
          },
          "metadata": {},
          "execution_count": 98
        }
      ]
    },
    {
      "cell_type": "code",
      "source": [
        "df_test.isnull().sum()"
      ],
      "metadata": {
        "id": "AUd7dmEIxw-T",
        "outputId": "6954f5e0-d62a-4b2c-d250-779e41b29620",
        "colab": {
          "base_uri": "https://localhost:8080/"
        }
      },
      "execution_count": 99,
      "outputs": [
        {
          "output_type": "execute_result",
          "data": {
            "text/plain": [
              "first_mile_distance            0\n",
              "last_mile_distance             0\n",
              "alloted_orders              4773\n",
              "lifetime_order_count         778\n",
              "reassignment_method            0\n",
              "reassignment_reason            0\n",
              "reassigned_order               0\n",
              "session_time                   0\n",
              "accept_sec                     0\n",
              "order_sec                      0\n",
              "allot_sec                      0\n",
              "year                           0\n",
              "month                          0\n",
              "reassignment_reason_freq       0\n",
              "reassignment_method_freq       0\n",
              "total_distance                 0\n",
              "delivery_success            4884\n",
              "rider-id-freq                  0\n",
              "dtype: int64"
            ]
          },
          "metadata": {},
          "execution_count": 99
        }
      ]
    },
    {
      "cell_type": "code",
      "source": [
        "df_test.shape\n"
      ],
      "metadata": {
        "id": "EZEn9DBTx0Ez",
        "outputId": "e19ca352-a773-4a79-87c6-18ab32a6e939",
        "colab": {
          "base_uri": "https://localhost:8080/"
        }
      },
      "execution_count": 100,
      "outputs": [
        {
          "output_type": "execute_result",
          "data": {
            "text/plain": [
              "(144844, 18)"
            ]
          },
          "metadata": {},
          "execution_count": 100
        }
      ]
    },
    {
      "cell_type": "code",
      "source": [
        "df_test['alloted_orders'] = df_test['alloted_orders'].replace(np.nan, 0)"
      ],
      "metadata": {
        "id": "-Q0TF1nmyMKM"
      },
      "execution_count": 101,
      "outputs": []
    },
    {
      "cell_type": "code",
      "source": [
        "df_test['delivery_success'] = df_test['delivery_success'].replace(np.nan, 0)"
      ],
      "metadata": {
        "id": "vgW3A2yN1Ev7"
      },
      "execution_count": 102,
      "outputs": []
    },
    {
      "cell_type": "code",
      "source": [
        "df_test['lifetime_order_count'] = df_test['lifetime_order_count'].replace(np.nan, 0)"
      ],
      "metadata": {
        "id": "ed1eSR0a1SRL"
      },
      "execution_count": 103,
      "outputs": []
    },
    {
      "cell_type": "code",
      "source": [
        "df_test.isnull().sum()"
      ],
      "metadata": {
        "id": "-CHMuWCa1a1F",
        "outputId": "cc86bd6d-96d8-48a3-f900-4eee455daf3f",
        "colab": {
          "base_uri": "https://localhost:8080/"
        }
      },
      "execution_count": 104,
      "outputs": [
        {
          "output_type": "execute_result",
          "data": {
            "text/plain": [
              "first_mile_distance         0\n",
              "last_mile_distance          0\n",
              "alloted_orders              0\n",
              "lifetime_order_count        0\n",
              "reassignment_method         0\n",
              "reassignment_reason         0\n",
              "reassigned_order            0\n",
              "session_time                0\n",
              "accept_sec                  0\n",
              "order_sec                   0\n",
              "allot_sec                   0\n",
              "year                        0\n",
              "month                       0\n",
              "reassignment_reason_freq    0\n",
              "reassignment_method_freq    0\n",
              "total_distance              0\n",
              "delivery_success            0\n",
              "rider-id-freq               0\n",
              "dtype: int64"
            ]
          },
          "metadata": {},
          "execution_count": 104
        }
      ]
    },
    {
      "cell_type": "code",
      "source": [
        "df.shape"
      ],
      "metadata": {
        "id": "hAFz43F-1enc",
        "outputId": "df015e6f-799c-4a6e-c304-9cb7a76a120b",
        "colab": {
          "base_uri": "https://localhost:8080/"
        }
      },
      "execution_count": 105,
      "outputs": [
        {
          "output_type": "execute_result",
          "data": {
            "text/plain": [
              "(432659, 19)"
            ]
          },
          "metadata": {},
          "execution_count": 105
        }
      ]
    },
    {
      "cell_type": "code",
      "source": [
        "df_test.shape"
      ],
      "metadata": {
        "id": "oVn5sn211gSN",
        "outputId": "0b9075a0-6803-49c3-cf6d-b60a65c610fc",
        "colab": {
          "base_uri": "https://localhost:8080/"
        }
      },
      "execution_count": 106,
      "outputs": [
        {
          "output_type": "execute_result",
          "data": {
            "text/plain": [
              "(144844, 18)"
            ]
          },
          "metadata": {},
          "execution_count": 106
        }
      ]
    },
    {
      "cell_type": "code",
      "source": [
        "df.head(10)"
      ],
      "metadata": {
        "id": "F94Nf55w1kCu",
        "outputId": "6238e6a3-e825-47d3-fdeb-c0a4e0d9f335",
        "colab": {
          "base_uri": "https://localhost:8080/",
          "height": 462
        }
      },
      "execution_count": 107,
      "outputs": [
        {
          "output_type": "execute_result",
          "data": {
            "text/html": [
              "\n",
              "  <div id=\"df-5ec5dfcb-6215-4738-95b7-6132e4fff5b2\">\n",
              "    <div class=\"colab-df-container\">\n",
              "      <div>\n",
              "<style scoped>\n",
              "    .dataframe tbody tr th:only-of-type {\n",
              "        vertical-align: middle;\n",
              "    }\n",
              "\n",
              "    .dataframe tbody tr th {\n",
              "        vertical-align: top;\n",
              "    }\n",
              "\n",
              "    .dataframe thead th {\n",
              "        text-align: right;\n",
              "    }\n",
              "</style>\n",
              "<table border=\"1\" class=\"dataframe\">\n",
              "  <thead>\n",
              "    <tr style=\"text-align: right;\">\n",
              "      <th></th>\n",
              "      <th>first_mile_distance</th>\n",
              "      <th>last_mile_distance</th>\n",
              "      <th>alloted_orders</th>\n",
              "      <th>cancelled</th>\n",
              "      <th>lifetime_order_count</th>\n",
              "      <th>reassignment_method</th>\n",
              "      <th>reassignment_reason</th>\n",
              "      <th>reassigned_order</th>\n",
              "      <th>session_time</th>\n",
              "      <th>accept_sec</th>\n",
              "      <th>order_sec</th>\n",
              "      <th>allot_sec</th>\n",
              "      <th>year</th>\n",
              "      <th>month</th>\n",
              "      <th>reassignment_reason_freq</th>\n",
              "      <th>reassignment_method_freq</th>\n",
              "      <th>total_distance</th>\n",
              "      <th>delivery_success</th>\n",
              "      <th>rider-id-freq</th>\n",
              "    </tr>\n",
              "  </thead>\n",
              "  <tbody>\n",
              "    <tr>\n",
              "      <th>0</th>\n",
              "      <td>1.566600</td>\n",
              "      <td>2.65</td>\n",
              "      <td>46.0</td>\n",
              "      <td>0</td>\n",
              "      <td>621.0</td>\n",
              "      <td>0.010313</td>\n",
              "      <td>0.010306</td>\n",
              "      <td>0.0</td>\n",
              "      <td>222.467528</td>\n",
              "      <td>9.0</td>\n",
              "      <td>33.0</td>\n",
              "      <td>24.0</td>\n",
              "      <td>2021</td>\n",
              "      <td>1</td>\n",
              "      <td>0</td>\n",
              "      <td>0.010306</td>\n",
              "      <td>4.216600</td>\n",
              "      <td>1.000000</td>\n",
              "      <td>8</td>\n",
              "    </tr>\n",
              "    <tr>\n",
              "      <th>1</th>\n",
              "      <td>2.520700</td>\n",
              "      <td>2.76</td>\n",
              "      <td>8.0</td>\n",
              "      <td>0</td>\n",
              "      <td>105.0</td>\n",
              "      <td>0.010313</td>\n",
              "      <td>0.010306</td>\n",
              "      <td>0.0</td>\n",
              "      <td>3.266667</td>\n",
              "      <td>48.0</td>\n",
              "      <td>89.0</td>\n",
              "      <td>41.0</td>\n",
              "      <td>2021</td>\n",
              "      <td>1</td>\n",
              "      <td>0</td>\n",
              "      <td>0.010306</td>\n",
              "      <td>5.280700</td>\n",
              "      <td>1.000000</td>\n",
              "      <td>12</td>\n",
              "    </tr>\n",
              "    <tr>\n",
              "      <th>2</th>\n",
              "      <td>2.207400</td>\n",
              "      <td>4.80</td>\n",
              "      <td>1.0</td>\n",
              "      <td>0</td>\n",
              "      <td>66.0</td>\n",
              "      <td>0.010313</td>\n",
              "      <td>0.010306</td>\n",
              "      <td>0.0</td>\n",
              "      <td>9.816667</td>\n",
              "      <td>16.0</td>\n",
              "      <td>24.0</td>\n",
              "      <td>8.0</td>\n",
              "      <td>2021</td>\n",
              "      <td>1</td>\n",
              "      <td>0</td>\n",
              "      <td>0.010306</td>\n",
              "      <td>7.007400</td>\n",
              "      <td>1.000000</td>\n",
              "      <td>15</td>\n",
              "    </tr>\n",
              "    <tr>\n",
              "      <th>3</th>\n",
              "      <td>2.189400</td>\n",
              "      <td>6.38</td>\n",
              "      <td>1.0</td>\n",
              "      <td>0</td>\n",
              "      <td>127.0</td>\n",
              "      <td>0.010313</td>\n",
              "      <td>0.010306</td>\n",
              "      <td>0.0</td>\n",
              "      <td>17.533333</td>\n",
              "      <td>41.0</td>\n",
              "      <td>73.0</td>\n",
              "      <td>32.0</td>\n",
              "      <td>2021</td>\n",
              "      <td>1</td>\n",
              "      <td>0</td>\n",
              "      <td>0.010306</td>\n",
              "      <td>8.569400</td>\n",
              "      <td>1.000000</td>\n",
              "      <td>32</td>\n",
              "    </tr>\n",
              "    <tr>\n",
              "      <th>4</th>\n",
              "      <td>2.787000</td>\n",
              "      <td>4.01</td>\n",
              "      <td>34.0</td>\n",
              "      <td>0</td>\n",
              "      <td>84.0</td>\n",
              "      <td>0.010313</td>\n",
              "      <td>0.010306</td>\n",
              "      <td>0.0</td>\n",
              "      <td>1.350000</td>\n",
              "      <td>36.0</td>\n",
              "      <td>87.0</td>\n",
              "      <td>51.0</td>\n",
              "      <td>2021</td>\n",
              "      <td>1</td>\n",
              "      <td>0</td>\n",
              "      <td>0.010306</td>\n",
              "      <td>6.797000</td>\n",
              "      <td>1.000000</td>\n",
              "      <td>14</td>\n",
              "    </tr>\n",
              "    <tr>\n",
              "      <th>5</th>\n",
              "      <td>2.481800</td>\n",
              "      <td>5.18</td>\n",
              "      <td>296.0</td>\n",
              "      <td>0</td>\n",
              "      <td>1506.0</td>\n",
              "      <td>0.010313</td>\n",
              "      <td>0.010306</td>\n",
              "      <td>0.0</td>\n",
              "      <td>222.467528</td>\n",
              "      <td>13.0</td>\n",
              "      <td>311.0</td>\n",
              "      <td>298.0</td>\n",
              "      <td>2021</td>\n",
              "      <td>1</td>\n",
              "      <td>0</td>\n",
              "      <td>0.010306</td>\n",
              "      <td>7.661800</td>\n",
              "      <td>0.993243</td>\n",
              "      <td>68</td>\n",
              "    </tr>\n",
              "    <tr>\n",
              "      <th>6</th>\n",
              "      <td>2.809100</td>\n",
              "      <td>3.40</td>\n",
              "      <td>45.0</td>\n",
              "      <td>0</td>\n",
              "      <td>1460.0</td>\n",
              "      <td>0.010313</td>\n",
              "      <td>0.010306</td>\n",
              "      <td>0.0</td>\n",
              "      <td>222.467528</td>\n",
              "      <td>47.0</td>\n",
              "      <td>75.0</td>\n",
              "      <td>28.0</td>\n",
              "      <td>2021</td>\n",
              "      <td>1</td>\n",
              "      <td>0</td>\n",
              "      <td>0.010306</td>\n",
              "      <td>6.209100</td>\n",
              "      <td>1.000000</td>\n",
              "      <td>27</td>\n",
              "    </tr>\n",
              "    <tr>\n",
              "      <th>7</th>\n",
              "      <td>0.025681</td>\n",
              "      <td>0.16</td>\n",
              "      <td>54.0</td>\n",
              "      <td>0</td>\n",
              "      <td>270.0</td>\n",
              "      <td>0.010313</td>\n",
              "      <td>0.010306</td>\n",
              "      <td>0.0</td>\n",
              "      <td>44.166667</td>\n",
              "      <td>6.0</td>\n",
              "      <td>34.0</td>\n",
              "      <td>28.0</td>\n",
              "      <td>2021</td>\n",
              "      <td>1</td>\n",
              "      <td>0</td>\n",
              "      <td>0.010306</td>\n",
              "      <td>0.185681</td>\n",
              "      <td>0.981481</td>\n",
              "      <td>93</td>\n",
              "    </tr>\n",
              "    <tr>\n",
              "      <th>8</th>\n",
              "      <td>2.444200</td>\n",
              "      <td>2.86</td>\n",
              "      <td>29.0</td>\n",
              "      <td>0</td>\n",
              "      <td>955.0</td>\n",
              "      <td>0.010313</td>\n",
              "      <td>0.010306</td>\n",
              "      <td>0.0</td>\n",
              "      <td>2.500000</td>\n",
              "      <td>24.0</td>\n",
              "      <td>54.0</td>\n",
              "      <td>30.0</td>\n",
              "      <td>2021</td>\n",
              "      <td>1</td>\n",
              "      <td>0</td>\n",
              "      <td>0.010306</td>\n",
              "      <td>5.304200</td>\n",
              "      <td>1.000000</td>\n",
              "      <td>10</td>\n",
              "    </tr>\n",
              "    <tr>\n",
              "      <th>10</th>\n",
              "      <td>1.393000</td>\n",
              "      <td>3.31</td>\n",
              "      <td>17.0</td>\n",
              "      <td>0</td>\n",
              "      <td>174.0</td>\n",
              "      <td>0.010313</td>\n",
              "      <td>0.010306</td>\n",
              "      <td>0.0</td>\n",
              "      <td>43.250000</td>\n",
              "      <td>5.0</td>\n",
              "      <td>46.0</td>\n",
              "      <td>41.0</td>\n",
              "      <td>2021</td>\n",
              "      <td>1</td>\n",
              "      <td>0</td>\n",
              "      <td>0.010306</td>\n",
              "      <td>4.703000</td>\n",
              "      <td>1.000000</td>\n",
              "      <td>19</td>\n",
              "    </tr>\n",
              "  </tbody>\n",
              "</table>\n",
              "</div>\n",
              "      <button class=\"colab-df-convert\" onclick=\"convertToInteractive('df-5ec5dfcb-6215-4738-95b7-6132e4fff5b2')\"\n",
              "              title=\"Convert this dataframe to an interactive table.\"\n",
              "              style=\"display:none;\">\n",
              "        \n",
              "  <svg xmlns=\"http://www.w3.org/2000/svg\" height=\"24px\"viewBox=\"0 0 24 24\"\n",
              "       width=\"24px\">\n",
              "    <path d=\"M0 0h24v24H0V0z\" fill=\"none\"/>\n",
              "    <path d=\"M18.56 5.44l.94 2.06.94-2.06 2.06-.94-2.06-.94-.94-2.06-.94 2.06-2.06.94zm-11 1L8.5 8.5l.94-2.06 2.06-.94-2.06-.94L8.5 2.5l-.94 2.06-2.06.94zm10 10l.94 2.06.94-2.06 2.06-.94-2.06-.94-.94-2.06-.94 2.06-2.06.94z\"/><path d=\"M17.41 7.96l-1.37-1.37c-.4-.4-.92-.59-1.43-.59-.52 0-1.04.2-1.43.59L10.3 9.45l-7.72 7.72c-.78.78-.78 2.05 0 2.83L4 21.41c.39.39.9.59 1.41.59.51 0 1.02-.2 1.41-.59l7.78-7.78 2.81-2.81c.8-.78.8-2.07 0-2.86zM5.41 20L4 18.59l7.72-7.72 1.47 1.35L5.41 20z\"/>\n",
              "  </svg>\n",
              "      </button>\n",
              "      \n",
              "  <style>\n",
              "    .colab-df-container {\n",
              "      display:flex;\n",
              "      flex-wrap:wrap;\n",
              "      gap: 12px;\n",
              "    }\n",
              "\n",
              "    .colab-df-convert {\n",
              "      background-color: #E8F0FE;\n",
              "      border: none;\n",
              "      border-radius: 50%;\n",
              "      cursor: pointer;\n",
              "      display: none;\n",
              "      fill: #1967D2;\n",
              "      height: 32px;\n",
              "      padding: 0 0 0 0;\n",
              "      width: 32px;\n",
              "    }\n",
              "\n",
              "    .colab-df-convert:hover {\n",
              "      background-color: #E2EBFA;\n",
              "      box-shadow: 0px 1px 2px rgba(60, 64, 67, 0.3), 0px 1px 3px 1px rgba(60, 64, 67, 0.15);\n",
              "      fill: #174EA6;\n",
              "    }\n",
              "\n",
              "    [theme=dark] .colab-df-convert {\n",
              "      background-color: #3B4455;\n",
              "      fill: #D2E3FC;\n",
              "    }\n",
              "\n",
              "    [theme=dark] .colab-df-convert:hover {\n",
              "      background-color: #434B5C;\n",
              "      box-shadow: 0px 1px 3px 1px rgba(0, 0, 0, 0.15);\n",
              "      filter: drop-shadow(0px 1px 2px rgba(0, 0, 0, 0.3));\n",
              "      fill: #FFFFFF;\n",
              "    }\n",
              "  </style>\n",
              "\n",
              "      <script>\n",
              "        const buttonEl =\n",
              "          document.querySelector('#df-5ec5dfcb-6215-4738-95b7-6132e4fff5b2 button.colab-df-convert');\n",
              "        buttonEl.style.display =\n",
              "          google.colab.kernel.accessAllowed ? 'block' : 'none';\n",
              "\n",
              "        async function convertToInteractive(key) {\n",
              "          const element = document.querySelector('#df-5ec5dfcb-6215-4738-95b7-6132e4fff5b2');\n",
              "          const dataTable =\n",
              "            await google.colab.kernel.invokeFunction('convertToInteractive',\n",
              "                                                     [key], {});\n",
              "          if (!dataTable) return;\n",
              "\n",
              "          const docLinkHtml = 'Like what you see? Visit the ' +\n",
              "            '<a target=\"_blank\" href=https://colab.research.google.com/notebooks/data_table.ipynb>data table notebook</a>'\n",
              "            + ' to learn more about interactive tables.';\n",
              "          element.innerHTML = '';\n",
              "          dataTable['output_type'] = 'display_data';\n",
              "          await google.colab.output.renderOutput(dataTable, element);\n",
              "          const docLink = document.createElement('div');\n",
              "          docLink.innerHTML = docLinkHtml;\n",
              "          element.appendChild(docLink);\n",
              "        }\n",
              "      </script>\n",
              "    </div>\n",
              "  </div>\n",
              "  "
            ],
            "text/plain": [
              "    first_mile_distance  last_mile_distance  ...  delivery_success  rider-id-freq\n",
              "0              1.566600                2.65  ...          1.000000              8\n",
              "1              2.520700                2.76  ...          1.000000             12\n",
              "2              2.207400                4.80  ...          1.000000             15\n",
              "3              2.189400                6.38  ...          1.000000             32\n",
              "4              2.787000                4.01  ...          1.000000             14\n",
              "5              2.481800                5.18  ...          0.993243             68\n",
              "6              2.809100                3.40  ...          1.000000             27\n",
              "7              0.025681                0.16  ...          0.981481             93\n",
              "8              2.444200                2.86  ...          1.000000             10\n",
              "10             1.393000                3.31  ...          1.000000             19\n",
              "\n",
              "[10 rows x 19 columns]"
            ]
          },
          "metadata": {},
          "execution_count": 107
        }
      ]
    },
    {
      "cell_type": "code",
      "source": [
        "df.describe()"
      ],
      "metadata": {
        "id": "Gzcf6iND2u-t",
        "outputId": "1b0b875b-5a9a-4eb3-ac18-c4a50ac49b21",
        "colab": {
          "base_uri": "https://localhost:8080/",
          "height": 382
        }
      },
      "execution_count": 108,
      "outputs": [
        {
          "output_type": "execute_result",
          "data": {
            "text/html": [
              "\n",
              "  <div id=\"df-ba40f444-7d9f-4556-a18c-027d07f7f6c6\">\n",
              "    <div class=\"colab-df-container\">\n",
              "      <div>\n",
              "<style scoped>\n",
              "    .dataframe tbody tr th:only-of-type {\n",
              "        vertical-align: middle;\n",
              "    }\n",
              "\n",
              "    .dataframe tbody tr th {\n",
              "        vertical-align: top;\n",
              "    }\n",
              "\n",
              "    .dataframe thead th {\n",
              "        text-align: right;\n",
              "    }\n",
              "</style>\n",
              "<table border=\"1\" class=\"dataframe\">\n",
              "  <thead>\n",
              "    <tr style=\"text-align: right;\">\n",
              "      <th></th>\n",
              "      <th>first_mile_distance</th>\n",
              "      <th>last_mile_distance</th>\n",
              "      <th>alloted_orders</th>\n",
              "      <th>cancelled</th>\n",
              "      <th>lifetime_order_count</th>\n",
              "      <th>reassignment_method</th>\n",
              "      <th>reassignment_reason</th>\n",
              "      <th>reassigned_order</th>\n",
              "      <th>session_time</th>\n",
              "      <th>accept_sec</th>\n",
              "      <th>order_sec</th>\n",
              "      <th>allot_sec</th>\n",
              "      <th>year</th>\n",
              "      <th>month</th>\n",
              "      <th>reassignment_reason_freq</th>\n",
              "      <th>reassignment_method_freq</th>\n",
              "      <th>total_distance</th>\n",
              "      <th>delivery_success</th>\n",
              "      <th>rider-id-freq</th>\n",
              "    </tr>\n",
              "  </thead>\n",
              "  <tbody>\n",
              "    <tr>\n",
              "      <th>count</th>\n",
              "      <td>432659.000000</td>\n",
              "      <td>432659.000000</td>\n",
              "      <td>432659.000000</td>\n",
              "      <td>432659.000000</td>\n",
              "      <td>432659.000000</td>\n",
              "      <td>432659.000000</td>\n",
              "      <td>432659.000000</td>\n",
              "      <td>432659.000000</td>\n",
              "      <td>432659.000000</td>\n",
              "      <td>432659.000000</td>\n",
              "      <td>432659.000000</td>\n",
              "      <td>432659.000000</td>\n",
              "      <td>432659.0</td>\n",
              "      <td>432659.000000</td>\n",
              "      <td>432659.000000</td>\n",
              "      <td>432659.000000</td>\n",
              "      <td>432659.000000</td>\n",
              "      <td>432659.000000</td>\n",
              "      <td>432659.000000</td>\n",
              "    </tr>\n",
              "    <tr>\n",
              "      <th>mean</th>\n",
              "      <td>1.230589</td>\n",
              "      <td>2.972894</td>\n",
              "      <td>104.714614</td>\n",
              "      <td>0.010084</td>\n",
              "      <td>878.266279</td>\n",
              "      <td>0.011600</td>\n",
              "      <td>0.011599</td>\n",
              "      <td>0.030662</td>\n",
              "      <td>222.467528</td>\n",
              "      <td>60.046405</td>\n",
              "      <td>133.151956</td>\n",
              "      <td>73.105551</td>\n",
              "      <td>2021.0</td>\n",
              "      <td>1.473632</td>\n",
              "      <td>182.091562</td>\n",
              "      <td>0.011599</td>\n",
              "      <td>4.203484</td>\n",
              "      <td>0.991057</td>\n",
              "      <td>52.709489</td>\n",
              "    </tr>\n",
              "    <tr>\n",
              "      <th>std</th>\n",
              "      <td>0.845893</td>\n",
              "      <td>1.886151</td>\n",
              "      <td>90.122751</td>\n",
              "      <td>0.099912</td>\n",
              "      <td>1514.971489</td>\n",
              "      <td>0.007338</td>\n",
              "      <td>0.011922</td>\n",
              "      <td>0.172399</td>\n",
              "      <td>176.768256</td>\n",
              "      <td>106.032338</td>\n",
              "      <td>283.130293</td>\n",
              "      <td>270.028157</td>\n",
              "      <td>0.0</td>\n",
              "      <td>0.499305</td>\n",
              "      <td>1067.816527</td>\n",
              "      <td>0.011922</td>\n",
              "      <td>2.165684</td>\n",
              "      <td>0.023458</td>\n",
              "      <td>36.975331</td>\n",
              "    </tr>\n",
              "    <tr>\n",
              "      <th>min</th>\n",
              "      <td>0.000134</td>\n",
              "      <td>0.000000</td>\n",
              "      <td>1.000000</td>\n",
              "      <td>0.000000</td>\n",
              "      <td>1.000000</td>\n",
              "      <td>0.010313</td>\n",
              "      <td>0.010306</td>\n",
              "      <td>0.000000</td>\n",
              "      <td>0.000000</td>\n",
              "      <td>-28534.000000</td>\n",
              "      <td>2.000000</td>\n",
              "      <td>0.000000</td>\n",
              "      <td>2021.0</td>\n",
              "      <td>1.000000</td>\n",
              "      <td>0.000000</td>\n",
              "      <td>0.010306</td>\n",
              "      <td>0.003224</td>\n",
              "      <td>0.166667</td>\n",
              "      <td>1.000000</td>\n",
              "    </tr>\n",
              "    <tr>\n",
              "      <th>25%</th>\n",
              "      <td>0.541000</td>\n",
              "      <td>1.470000</td>\n",
              "      <td>36.000000</td>\n",
              "      <td>0.000000</td>\n",
              "      <td>179.000000</td>\n",
              "      <td>0.010313</td>\n",
              "      <td>0.010306</td>\n",
              "      <td>0.000000</td>\n",
              "      <td>86.150000</td>\n",
              "      <td>14.000000</td>\n",
              "      <td>33.000000</td>\n",
              "      <td>1.000000</td>\n",
              "      <td>2021.0</td>\n",
              "      <td>1.000000</td>\n",
              "      <td>0.000000</td>\n",
              "      <td>0.010306</td>\n",
              "      <td>2.523100</td>\n",
              "      <td>0.988764</td>\n",
              "      <td>26.000000</td>\n",
              "    </tr>\n",
              "    <tr>\n",
              "      <th>50%</th>\n",
              "      <td>1.139600</td>\n",
              "      <td>2.670000</td>\n",
              "      <td>81.000000</td>\n",
              "      <td>0.000000</td>\n",
              "      <td>416.000000</td>\n",
              "      <td>0.010313</td>\n",
              "      <td>0.010306</td>\n",
              "      <td>0.000000</td>\n",
              "      <td>178.666667</td>\n",
              "      <td>36.000000</td>\n",
              "      <td>63.000000</td>\n",
              "      <td>14.000000</td>\n",
              "      <td>2021.0</td>\n",
              "      <td>1.000000</td>\n",
              "      <td>0.000000</td>\n",
              "      <td>0.010306</td>\n",
              "      <td>3.981100</td>\n",
              "      <td>1.000000</td>\n",
              "      <td>45.000000</td>\n",
              "    </tr>\n",
              "    <tr>\n",
              "      <th>75%</th>\n",
              "      <td>1.853200</td>\n",
              "      <td>4.230000</td>\n",
              "      <td>147.000000</td>\n",
              "      <td>0.000000</td>\n",
              "      <td>977.000000</td>\n",
              "      <td>0.010313</td>\n",
              "      <td>0.010306</td>\n",
              "      <td>0.000000</td>\n",
              "      <td>318.750000</td>\n",
              "      <td>62.000000</td>\n",
              "      <td>112.000000</td>\n",
              "      <td>48.000000</td>\n",
              "      <td>2021.0</td>\n",
              "      <td>2.000000</td>\n",
              "      <td>0.000000</td>\n",
              "      <td>0.010306</td>\n",
              "      <td>5.604500</td>\n",
              "      <td>1.000000</td>\n",
              "      <td>71.000000</td>\n",
              "    </tr>\n",
              "    <tr>\n",
              "      <th>max</th>\n",
              "      <td>42.038100</td>\n",
              "      <td>22.410000</td>\n",
              "      <td>567.000000</td>\n",
              "      <td>1.000000</td>\n",
              "      <td>30469.000000</td>\n",
              "      <td>0.094183</td>\n",
              "      <td>0.219984</td>\n",
              "      <td>1.000000</td>\n",
              "      <td>1298.966667</td>\n",
              "      <td>930.000000</td>\n",
              "      <td>15598.000000</td>\n",
              "      <td>28549.000000</td>\n",
              "      <td>2021.0</td>\n",
              "      <td>2.000000</td>\n",
              "      <td>7212.000000</td>\n",
              "      <td>0.219984</td>\n",
              "      <td>45.828100</td>\n",
              "      <td>1.000000</td>\n",
              "      <td>228.000000</td>\n",
              "    </tr>\n",
              "  </tbody>\n",
              "</table>\n",
              "</div>\n",
              "      <button class=\"colab-df-convert\" onclick=\"convertToInteractive('df-ba40f444-7d9f-4556-a18c-027d07f7f6c6')\"\n",
              "              title=\"Convert this dataframe to an interactive table.\"\n",
              "              style=\"display:none;\">\n",
              "        \n",
              "  <svg xmlns=\"http://www.w3.org/2000/svg\" height=\"24px\"viewBox=\"0 0 24 24\"\n",
              "       width=\"24px\">\n",
              "    <path d=\"M0 0h24v24H0V0z\" fill=\"none\"/>\n",
              "    <path d=\"M18.56 5.44l.94 2.06.94-2.06 2.06-.94-2.06-.94-.94-2.06-.94 2.06-2.06.94zm-11 1L8.5 8.5l.94-2.06 2.06-.94-2.06-.94L8.5 2.5l-.94 2.06-2.06.94zm10 10l.94 2.06.94-2.06 2.06-.94-2.06-.94-.94-2.06-.94 2.06-2.06.94z\"/><path d=\"M17.41 7.96l-1.37-1.37c-.4-.4-.92-.59-1.43-.59-.52 0-1.04.2-1.43.59L10.3 9.45l-7.72 7.72c-.78.78-.78 2.05 0 2.83L4 21.41c.39.39.9.59 1.41.59.51 0 1.02-.2 1.41-.59l7.78-7.78 2.81-2.81c.8-.78.8-2.07 0-2.86zM5.41 20L4 18.59l7.72-7.72 1.47 1.35L5.41 20z\"/>\n",
              "  </svg>\n",
              "      </button>\n",
              "      \n",
              "  <style>\n",
              "    .colab-df-container {\n",
              "      display:flex;\n",
              "      flex-wrap:wrap;\n",
              "      gap: 12px;\n",
              "    }\n",
              "\n",
              "    .colab-df-convert {\n",
              "      background-color: #E8F0FE;\n",
              "      border: none;\n",
              "      border-radius: 50%;\n",
              "      cursor: pointer;\n",
              "      display: none;\n",
              "      fill: #1967D2;\n",
              "      height: 32px;\n",
              "      padding: 0 0 0 0;\n",
              "      width: 32px;\n",
              "    }\n",
              "\n",
              "    .colab-df-convert:hover {\n",
              "      background-color: #E2EBFA;\n",
              "      box-shadow: 0px 1px 2px rgba(60, 64, 67, 0.3), 0px 1px 3px 1px rgba(60, 64, 67, 0.15);\n",
              "      fill: #174EA6;\n",
              "    }\n",
              "\n",
              "    [theme=dark] .colab-df-convert {\n",
              "      background-color: #3B4455;\n",
              "      fill: #D2E3FC;\n",
              "    }\n",
              "\n",
              "    [theme=dark] .colab-df-convert:hover {\n",
              "      background-color: #434B5C;\n",
              "      box-shadow: 0px 1px 3px 1px rgba(0, 0, 0, 0.15);\n",
              "      filter: drop-shadow(0px 1px 2px rgba(0, 0, 0, 0.3));\n",
              "      fill: #FFFFFF;\n",
              "    }\n",
              "  </style>\n",
              "\n",
              "      <script>\n",
              "        const buttonEl =\n",
              "          document.querySelector('#df-ba40f444-7d9f-4556-a18c-027d07f7f6c6 button.colab-df-convert');\n",
              "        buttonEl.style.display =\n",
              "          google.colab.kernel.accessAllowed ? 'block' : 'none';\n",
              "\n",
              "        async function convertToInteractive(key) {\n",
              "          const element = document.querySelector('#df-ba40f444-7d9f-4556-a18c-027d07f7f6c6');\n",
              "          const dataTable =\n",
              "            await google.colab.kernel.invokeFunction('convertToInteractive',\n",
              "                                                     [key], {});\n",
              "          if (!dataTable) return;\n",
              "\n",
              "          const docLinkHtml = 'Like what you see? Visit the ' +\n",
              "            '<a target=\"_blank\" href=https://colab.research.google.com/notebooks/data_table.ipynb>data table notebook</a>'\n",
              "            + ' to learn more about interactive tables.';\n",
              "          element.innerHTML = '';\n",
              "          dataTable['output_type'] = 'display_data';\n",
              "          await google.colab.output.renderOutput(dataTable, element);\n",
              "          const docLink = document.createElement('div');\n",
              "          docLink.innerHTML = docLinkHtml;\n",
              "          element.appendChild(docLink);\n",
              "        }\n",
              "      </script>\n",
              "    </div>\n",
              "  </div>\n",
              "  "
            ],
            "text/plain": [
              "       first_mile_distance  last_mile_distance  ...  delivery_success  rider-id-freq\n",
              "count        432659.000000       432659.000000  ...     432659.000000  432659.000000\n",
              "mean              1.230589            2.972894  ...          0.991057      52.709489\n",
              "std               0.845893            1.886151  ...          0.023458      36.975331\n",
              "min               0.000134            0.000000  ...          0.166667       1.000000\n",
              "25%               0.541000            1.470000  ...          0.988764      26.000000\n",
              "50%               1.139600            2.670000  ...          1.000000      45.000000\n",
              "75%               1.853200            4.230000  ...          1.000000      71.000000\n",
              "max              42.038100           22.410000  ...          1.000000     228.000000\n",
              "\n",
              "[8 rows x 19 columns]"
            ]
          },
          "metadata": {},
          "execution_count": 108
        }
      ]
    },
    {
      "cell_type": "code",
      "source": [
        ""
      ],
      "metadata": {
        "id": "kjzbJnli5IQI",
        "outputId": "b6ed8190-f739-4af1-daf3-7b6a90520e63",
        "colab": {
          "base_uri": "https://localhost:8080/"
        }
      },
      "execution_count": 109,
      "outputs": [
        {
          "output_type": "execute_result",
          "data": {
            "text/plain": [
              "first_mile_distance            2.189400\n",
              "last_mile_distance             6.380000\n",
              "alloted_orders                 1.000000\n",
              "cancelled                      0.000000\n",
              "lifetime_order_count         127.000000\n",
              "reassignment_method            0.010313\n",
              "reassignment_reason            0.010306\n",
              "reassigned_order               0.000000\n",
              "session_time                  17.533333\n",
              "accept_sec                    41.000000\n",
              "order_sec                     73.000000\n",
              "allot_sec                     32.000000\n",
              "year                        2021.000000\n",
              "month                          1.000000\n",
              "reassignment_reason_freq       0.000000\n",
              "reassignment_method_freq       0.010306\n",
              "total_distance                 8.569400\n",
              "delivery_success               1.000000\n",
              "rider-id-freq                 32.000000\n",
              "Name: 3, dtype: float64"
            ]
          },
          "metadata": {},
          "execution_count": 109
        }
      ]
    },
    {
      "cell_type": "code",
      "source": [
        "y = df['cancelled']\n",
        "y = y.to_numpy()"
      ],
      "metadata": {
        "id": "U6XB3U804wMh"
      },
      "execution_count": 110,
      "outputs": []
    },
    {
      "cell_type": "code",
      "source": [
        "X = df\n",
        "X = X.drop(['cancelled'], axis=1)\n",
        "X = X.to_numpy()"
      ],
      "metadata": {
        "id": "n0agrNNd5cku"
      },
      "execution_count": 112,
      "outputs": []
    },
    {
      "cell_type": "code",
      "source": [
        "X_test = X_test.to_numpy()"
      ],
      "metadata": {
        "id": "DQ8FeQol6J9A"
      },
      "execution_count": 125,
      "outputs": []
    },
    {
      "cell_type": "code",
      "source": [
        "from sklearn.model_selection import train_test_split\n",
        "\n",
        "X_train, X_test, y_train, y_test = train_test_split(X, y, test_size=0.2, random_state=42)"
      ],
      "metadata": {
        "id": "KelGwh1P4V_k"
      },
      "execution_count": 116,
      "outputs": []
    },
    {
      "cell_type": "code",
      "source": [
        "from sklearn.preprocessing import StandardScaler\n",
        "sc = StandardScaler()\n",
        "\n",
        "sc.fit_transform(X_train)\n",
        "sc.transform(X_test)"
      ],
      "metadata": {
        "id": "ccvblqbU3AoP",
        "outputId": "4b19bdfd-6718-4303-9682-a8f676f3cb35",
        "colab": {
          "base_uri": "https://localhost:8080/"
        }
      },
      "execution_count": 120,
      "outputs": [
        {
          "output_type": "execute_result",
          "data": {
            "text/plain": [
              "array([[-1.33093795, -1.03510789,  1.63557443, ..., -1.42202085,\n",
              "         0.38053367,  3.2563379 ],\n",
              "       [-1.42469529,  0.0940349 , -0.15136527, ..., -0.47535554,\n",
              "        -0.08694487, -0.09866221],\n",
              "       [ 0.5781612 ,  0.79378536,  0.37028793, ...,  0.9174231 ,\n",
              "        -0.54426084,  0.41541039],\n",
              "       ...,\n",
              "       [-1.38261152,  0.40150101, -0.82840454, ..., -0.19113197,\n",
              "         0.38053367,  0.0095636 ],\n",
              "       [-1.38781408, -0.43607908, -0.89499856, ..., -0.92259061,\n",
              "         0.38053367, -1.20797676],\n",
              "       [-1.3178877 ,  0.51812609, -0.40664237, ..., -0.06425091,\n",
              "        -0.24506262,  1.87645883]])"
            ]
          },
          "metadata": {},
          "execution_count": 120
        }
      ]
    },
    {
      "cell_type": "code",
      "source": [
        "from sklearn.ensemble import RandomForestClassifier\n",
        "\n",
        "clf = RandomForestClassifier()\n",
        "clf.fit(X_train,y_train)\n",
        "\n",
        "y_pred = clf.predict(X_test)"
      ],
      "metadata": {
        "id": "Bjsnqbrx7Ywd"
      },
      "execution_count": 121,
      "outputs": []
    },
    {
      "cell_type": "code",
      "source": [
        "from sklearn.metrics import roc_auc_score\n",
        "auc_score = roc_auc_score(y_test, y_pred)"
      ],
      "metadata": {
        "id": "-tlspGsf82eE"
      },
      "execution_count": 122,
      "outputs": []
    },
    {
      "cell_type": "code",
      "source": [
        "from sklearn import metrics\n",
        "metrics.accuracy_score(y_test,y_pred)"
      ],
      "metadata": {
        "id": "urJ0RZlA9_LV",
        "outputId": "7e535519-4171-4fe1-c951-ea01aca5719f",
        "colab": {
          "base_uri": "https://localhost:8080/"
        }
      },
      "execution_count": 124,
      "outputs": [
        {
          "output_type": "execute_result",
          "data": {
            "text/plain": [
              "0.9905699625572043"
            ]
          },
          "metadata": {},
          "execution_count": 124
        }
      ]
    },
    {
      "cell_type": "code",
      "source": [
        "print(auc_score)"
      ],
      "metadata": {
        "id": "x8tz8oHk9c06",
        "outputId": "e4249036-a9c5-4350-95db-24db2bfab9dc",
        "colab": {
          "base_uri": "https://localhost:8080/"
        }
      },
      "execution_count": 123,
      "outputs": [
        {
          "output_type": "stream",
          "name": "stdout",
          "text": [
            "0.5382436963475624\n"
          ]
        }
      ]
    },
    {
      "cell_type": "code",
      "source": [
        "df_test = df_test.to_numpy()"
      ],
      "metadata": {
        "id": "aPCZZl7O-qdH"
      },
      "execution_count": 126,
      "outputs": []
    },
    {
      "cell_type": "code",
      "source": [
        "sc.transform(df_test)"
      ],
      "metadata": {
        "id": "gBlFkrZc--bT",
        "outputId": "872b1f83-0561-4e92-bb01-6d6a3bfce238",
        "colab": {
          "base_uri": "https://localhost:8080/",
          "height": 310
        }
      },
      "execution_count": 127,
      "outputs": [
        {
          "output_type": "error",
          "ename": "ValueError",
          "evalue": "ignored",
          "traceback": [
            "\u001b[0;31m---------------------------------------------------------------------------\u001b[0m",
            "\u001b[0;31mValueError\u001b[0m                                Traceback (most recent call last)",
            "\u001b[0;32m<ipython-input-127-89ac4ba911ab>\u001b[0m in \u001b[0;36m<module>\u001b[0;34m()\u001b[0m\n\u001b[0;32m----> 1\u001b[0;31m \u001b[0msc\u001b[0m\u001b[0;34m.\u001b[0m\u001b[0mtransform\u001b[0m\u001b[0;34m(\u001b[0m\u001b[0mdf_test\u001b[0m\u001b[0;34m)\u001b[0m\u001b[0;34m\u001b[0m\u001b[0;34m\u001b[0m\u001b[0m\n\u001b[0m",
            "\u001b[0;32m/usr/local/lib/python3.7/dist-packages/sklearn/preprocessing/_data.py\u001b[0m in \u001b[0;36mtransform\u001b[0;34m(self, X, copy)\u001b[0m\n\u001b[1;32m    978\u001b[0m             \u001b[0mestimator\u001b[0m\u001b[0;34m=\u001b[0m\u001b[0mself\u001b[0m\u001b[0;34m,\u001b[0m\u001b[0;34m\u001b[0m\u001b[0;34m\u001b[0m\u001b[0m\n\u001b[1;32m    979\u001b[0m             \u001b[0mdtype\u001b[0m\u001b[0;34m=\u001b[0m\u001b[0mFLOAT_DTYPES\u001b[0m\u001b[0;34m,\u001b[0m\u001b[0;34m\u001b[0m\u001b[0;34m\u001b[0m\u001b[0m\n\u001b[0;32m--> 980\u001b[0;31m             \u001b[0mforce_all_finite\u001b[0m\u001b[0;34m=\u001b[0m\u001b[0;34m\"allow-nan\"\u001b[0m\u001b[0;34m,\u001b[0m\u001b[0;34m\u001b[0m\u001b[0;34m\u001b[0m\u001b[0m\n\u001b[0m\u001b[1;32m    981\u001b[0m         )\n\u001b[1;32m    982\u001b[0m \u001b[0;34m\u001b[0m\u001b[0m\n",
            "\u001b[0;32m/usr/local/lib/python3.7/dist-packages/sklearn/base.py\u001b[0m in \u001b[0;36m_validate_data\u001b[0;34m(self, X, y, reset, validate_separately, **check_params)\u001b[0m\n\u001b[1;32m    564\u001b[0m             \u001b[0;32mraise\u001b[0m \u001b[0mValueError\u001b[0m\u001b[0;34m(\u001b[0m\u001b[0;34m\"Validation should be done on X, y or both.\"\u001b[0m\u001b[0;34m)\u001b[0m\u001b[0;34m\u001b[0m\u001b[0;34m\u001b[0m\u001b[0m\n\u001b[1;32m    565\u001b[0m         \u001b[0;32melif\u001b[0m \u001b[0;32mnot\u001b[0m \u001b[0mno_val_X\u001b[0m \u001b[0;32mand\u001b[0m \u001b[0mno_val_y\u001b[0m\u001b[0;34m:\u001b[0m\u001b[0;34m\u001b[0m\u001b[0;34m\u001b[0m\u001b[0m\n\u001b[0;32m--> 566\u001b[0;31m             \u001b[0mX\u001b[0m \u001b[0;34m=\u001b[0m \u001b[0mcheck_array\u001b[0m\u001b[0;34m(\u001b[0m\u001b[0mX\u001b[0m\u001b[0;34m,\u001b[0m \u001b[0;34m**\u001b[0m\u001b[0mcheck_params\u001b[0m\u001b[0;34m)\u001b[0m\u001b[0;34m\u001b[0m\u001b[0;34m\u001b[0m\u001b[0m\n\u001b[0m\u001b[1;32m    567\u001b[0m             \u001b[0mout\u001b[0m \u001b[0;34m=\u001b[0m \u001b[0mX\u001b[0m\u001b[0;34m\u001b[0m\u001b[0;34m\u001b[0m\u001b[0m\n\u001b[1;32m    568\u001b[0m         \u001b[0;32melif\u001b[0m \u001b[0mno_val_X\u001b[0m \u001b[0;32mand\u001b[0m \u001b[0;32mnot\u001b[0m \u001b[0mno_val_y\u001b[0m\u001b[0;34m:\u001b[0m\u001b[0;34m\u001b[0m\u001b[0;34m\u001b[0m\u001b[0m\n",
            "\u001b[0;32m/usr/local/lib/python3.7/dist-packages/sklearn/utils/validation.py\u001b[0m in \u001b[0;36mcheck_array\u001b[0;34m(array, accept_sparse, accept_large_sparse, dtype, order, copy, force_all_finite, ensure_2d, allow_nd, ensure_min_samples, ensure_min_features, estimator)\u001b[0m\n\u001b[1;32m    744\u001b[0m                     \u001b[0marray\u001b[0m \u001b[0;34m=\u001b[0m \u001b[0marray\u001b[0m\u001b[0;34m.\u001b[0m\u001b[0mastype\u001b[0m\u001b[0;34m(\u001b[0m\u001b[0mdtype\u001b[0m\u001b[0;34m,\u001b[0m \u001b[0mcasting\u001b[0m\u001b[0;34m=\u001b[0m\u001b[0;34m\"unsafe\"\u001b[0m\u001b[0;34m,\u001b[0m \u001b[0mcopy\u001b[0m\u001b[0;34m=\u001b[0m\u001b[0;32mFalse\u001b[0m\u001b[0;34m)\u001b[0m\u001b[0;34m\u001b[0m\u001b[0;34m\u001b[0m\u001b[0m\n\u001b[1;32m    745\u001b[0m                 \u001b[0;32melse\u001b[0m\u001b[0;34m:\u001b[0m\u001b[0;34m\u001b[0m\u001b[0;34m\u001b[0m\u001b[0m\n\u001b[0;32m--> 746\u001b[0;31m                     \u001b[0marray\u001b[0m \u001b[0;34m=\u001b[0m \u001b[0mnp\u001b[0m\u001b[0;34m.\u001b[0m\u001b[0masarray\u001b[0m\u001b[0;34m(\u001b[0m\u001b[0marray\u001b[0m\u001b[0;34m,\u001b[0m \u001b[0morder\u001b[0m\u001b[0;34m=\u001b[0m\u001b[0morder\u001b[0m\u001b[0;34m,\u001b[0m \u001b[0mdtype\u001b[0m\u001b[0;34m=\u001b[0m\u001b[0mdtype\u001b[0m\u001b[0;34m)\u001b[0m\u001b[0;34m\u001b[0m\u001b[0;34m\u001b[0m\u001b[0m\n\u001b[0m\u001b[1;32m    747\u001b[0m             \u001b[0;32mexcept\u001b[0m \u001b[0mComplexWarning\u001b[0m \u001b[0;32mas\u001b[0m \u001b[0mcomplex_warning\u001b[0m\u001b[0;34m:\u001b[0m\u001b[0;34m\u001b[0m\u001b[0;34m\u001b[0m\u001b[0m\n\u001b[1;32m    748\u001b[0m                 raise ValueError(\n",
            "\u001b[0;32m/usr/local/lib/python3.7/dist-packages/numpy/core/_asarray.py\u001b[0m in \u001b[0;36masarray\u001b[0;34m(a, dtype, order)\u001b[0m\n\u001b[1;32m     81\u001b[0m \u001b[0;34m\u001b[0m\u001b[0m\n\u001b[1;32m     82\u001b[0m     \"\"\"\n\u001b[0;32m---> 83\u001b[0;31m     \u001b[0;32mreturn\u001b[0m \u001b[0marray\u001b[0m\u001b[0;34m(\u001b[0m\u001b[0ma\u001b[0m\u001b[0;34m,\u001b[0m \u001b[0mdtype\u001b[0m\u001b[0;34m,\u001b[0m \u001b[0mcopy\u001b[0m\u001b[0;34m=\u001b[0m\u001b[0;32mFalse\u001b[0m\u001b[0;34m,\u001b[0m \u001b[0morder\u001b[0m\u001b[0;34m=\u001b[0m\u001b[0morder\u001b[0m\u001b[0;34m)\u001b[0m\u001b[0;34m\u001b[0m\u001b[0;34m\u001b[0m\u001b[0m\n\u001b[0m\u001b[1;32m     84\u001b[0m \u001b[0;34m\u001b[0m\u001b[0m\n\u001b[1;32m     85\u001b[0m \u001b[0;34m\u001b[0m\u001b[0m\n",
            "\u001b[0;31mValueError\u001b[0m: could not convert string to float: 'auto'"
          ]
        }
      ]
    },
    {
      "cell_type": "code",
      "source": [
        "y_final = clf.predict(df_test)"
      ],
      "metadata": {
        "id": "v4Svmsey-1I6"
      },
      "execution_count": null,
      "outputs": []
    },
    {
      "cell_type": "code",
      "source": [
        "output = pd.DataFrame({'order_id':df_test['order_id'], 'cancelled':y_pred})\n",
        "output.to_csv('submission.csv', index=False)"
      ],
      "metadata": {
        "id": "SRAcgWF1_WCr"
      },
      "execution_count": null,
      "outputs": []
    }
  ]
}